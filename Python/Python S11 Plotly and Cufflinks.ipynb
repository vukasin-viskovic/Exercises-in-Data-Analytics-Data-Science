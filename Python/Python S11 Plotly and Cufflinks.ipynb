{
 "cells": [
  {
   "cell_type": "markdown",
   "metadata": {},
   "source": [
    "# Python S11 Plotly and Cufflinks\n",
    "\n",
    "## My Course Notes and Code\n",
    "\n",
    "These are my notes from the Jose Portilla's Udemy course available [here](https://www.udemy.com/course/python-for-data-science-and-machine-learning-bootcamp/).\n",
    "\n",
    "I'm focusing on the section 9 of the course, which deals with **Plotly and Cufflinks**.\n",
    "\n",
    "**Plotly** is an interactive plotting library for Python. We use **Cufflinks** to connect it with **Pandas**.\n",
    "\n",
    "Useful links:\n",
    "\n",
    "https://plotly.com/\n",
    "\n",
    "https://plotly.com/python/\n",
    "\n",
    "https://github.com/santosjorge/cufflinks"
   ]
  },
  {
   "cell_type": "markdown",
   "metadata": {},
   "source": [
    "____\n",
    "**Instructions and code examples** - source: https://plotly.com/python/getting-started/\n",
    "\n",
    "For use in the classic Jupyter Notebook, install the notebook and ipywidgets packages using pip:\n",
    "\n",
    "    pip install \"notebook>=5.3\" \"ipywidgets>=7.5\"\n",
    "or conda:\n",
    "\n",
    "    conda install \"notebook>=5.3\" \"ipywidgets>=7.5\"\n",
    "These packages contain everything you need to run a Jupyter notebook and display plotly figures inline using the notebook renderer..."
   ]
  },
  {
   "cell_type": "code",
   "execution_count": 1,
   "metadata": {},
   "outputs": [
    {
     "data": {
      "application/vnd.plotly.v1+json": {
       "config": {
        "plotlyServerURL": "https://plot.ly"
       },
       "data": [
        {
         "alignmentgroup": "True",
         "hovertemplate": "x=%{x}<br>y=%{y}<extra></extra>",
         "legendgroup": "",
         "marker": {
          "color": "#636efa",
          "pattern": {
           "shape": ""
          }
         },
         "name": "",
         "offsetgroup": "",
         "orientation": "v",
         "showlegend": false,
         "textposition": "auto",
         "type": "bar",
         "x": [
          "a",
          "b",
          "c"
         ],
         "xaxis": "x",
         "y": [
          1,
          3,
          2
         ],
         "yaxis": "y"
        }
       ],
       "layout": {
        "barmode": "relative",
        "legend": {
         "tracegroupgap": 0
        },
        "margin": {
         "t": 60
        },
        "template": {
         "data": {
          "bar": [
           {
            "error_x": {
             "color": "#2a3f5f"
            },
            "error_y": {
             "color": "#2a3f5f"
            },
            "marker": {
             "line": {
              "color": "#E5ECF6",
              "width": 0.5
             },
             "pattern": {
              "fillmode": "overlay",
              "size": 10,
              "solidity": 0.2
             }
            },
            "type": "bar"
           }
          ],
          "barpolar": [
           {
            "marker": {
             "line": {
              "color": "#E5ECF6",
              "width": 0.5
             },
             "pattern": {
              "fillmode": "overlay",
              "size": 10,
              "solidity": 0.2
             }
            },
            "type": "barpolar"
           }
          ],
          "carpet": [
           {
            "aaxis": {
             "endlinecolor": "#2a3f5f",
             "gridcolor": "white",
             "linecolor": "white",
             "minorgridcolor": "white",
             "startlinecolor": "#2a3f5f"
            },
            "baxis": {
             "endlinecolor": "#2a3f5f",
             "gridcolor": "white",
             "linecolor": "white",
             "minorgridcolor": "white",
             "startlinecolor": "#2a3f5f"
            },
            "type": "carpet"
           }
          ],
          "choropleth": [
           {
            "colorbar": {
             "outlinewidth": 0,
             "ticks": ""
            },
            "type": "choropleth"
           }
          ],
          "contour": [
           {
            "colorbar": {
             "outlinewidth": 0,
             "ticks": ""
            },
            "colorscale": [
             [
              0,
              "#0d0887"
             ],
             [
              0.1111111111111111,
              "#46039f"
             ],
             [
              0.2222222222222222,
              "#7201a8"
             ],
             [
              0.3333333333333333,
              "#9c179e"
             ],
             [
              0.4444444444444444,
              "#bd3786"
             ],
             [
              0.5555555555555556,
              "#d8576b"
             ],
             [
              0.6666666666666666,
              "#ed7953"
             ],
             [
              0.7777777777777778,
              "#fb9f3a"
             ],
             [
              0.8888888888888888,
              "#fdca26"
             ],
             [
              1,
              "#f0f921"
             ]
            ],
            "type": "contour"
           }
          ],
          "contourcarpet": [
           {
            "colorbar": {
             "outlinewidth": 0,
             "ticks": ""
            },
            "type": "contourcarpet"
           }
          ],
          "heatmap": [
           {
            "colorbar": {
             "outlinewidth": 0,
             "ticks": ""
            },
            "colorscale": [
             [
              0,
              "#0d0887"
             ],
             [
              0.1111111111111111,
              "#46039f"
             ],
             [
              0.2222222222222222,
              "#7201a8"
             ],
             [
              0.3333333333333333,
              "#9c179e"
             ],
             [
              0.4444444444444444,
              "#bd3786"
             ],
             [
              0.5555555555555556,
              "#d8576b"
             ],
             [
              0.6666666666666666,
              "#ed7953"
             ],
             [
              0.7777777777777778,
              "#fb9f3a"
             ],
             [
              0.8888888888888888,
              "#fdca26"
             ],
             [
              1,
              "#f0f921"
             ]
            ],
            "type": "heatmap"
           }
          ],
          "heatmapgl": [
           {
            "colorbar": {
             "outlinewidth": 0,
             "ticks": ""
            },
            "colorscale": [
             [
              0,
              "#0d0887"
             ],
             [
              0.1111111111111111,
              "#46039f"
             ],
             [
              0.2222222222222222,
              "#7201a8"
             ],
             [
              0.3333333333333333,
              "#9c179e"
             ],
             [
              0.4444444444444444,
              "#bd3786"
             ],
             [
              0.5555555555555556,
              "#d8576b"
             ],
             [
              0.6666666666666666,
              "#ed7953"
             ],
             [
              0.7777777777777778,
              "#fb9f3a"
             ],
             [
              0.8888888888888888,
              "#fdca26"
             ],
             [
              1,
              "#f0f921"
             ]
            ],
            "type": "heatmapgl"
           }
          ],
          "histogram": [
           {
            "marker": {
             "pattern": {
              "fillmode": "overlay",
              "size": 10,
              "solidity": 0.2
             }
            },
            "type": "histogram"
           }
          ],
          "histogram2d": [
           {
            "colorbar": {
             "outlinewidth": 0,
             "ticks": ""
            },
            "colorscale": [
             [
              0,
              "#0d0887"
             ],
             [
              0.1111111111111111,
              "#46039f"
             ],
             [
              0.2222222222222222,
              "#7201a8"
             ],
             [
              0.3333333333333333,
              "#9c179e"
             ],
             [
              0.4444444444444444,
              "#bd3786"
             ],
             [
              0.5555555555555556,
              "#d8576b"
             ],
             [
              0.6666666666666666,
              "#ed7953"
             ],
             [
              0.7777777777777778,
              "#fb9f3a"
             ],
             [
              0.8888888888888888,
              "#fdca26"
             ],
             [
              1,
              "#f0f921"
             ]
            ],
            "type": "histogram2d"
           }
          ],
          "histogram2dcontour": [
           {
            "colorbar": {
             "outlinewidth": 0,
             "ticks": ""
            },
            "colorscale": [
             [
              0,
              "#0d0887"
             ],
             [
              0.1111111111111111,
              "#46039f"
             ],
             [
              0.2222222222222222,
              "#7201a8"
             ],
             [
              0.3333333333333333,
              "#9c179e"
             ],
             [
              0.4444444444444444,
              "#bd3786"
             ],
             [
              0.5555555555555556,
              "#d8576b"
             ],
             [
              0.6666666666666666,
              "#ed7953"
             ],
             [
              0.7777777777777778,
              "#fb9f3a"
             ],
             [
              0.8888888888888888,
              "#fdca26"
             ],
             [
              1,
              "#f0f921"
             ]
            ],
            "type": "histogram2dcontour"
           }
          ],
          "mesh3d": [
           {
            "colorbar": {
             "outlinewidth": 0,
             "ticks": ""
            },
            "type": "mesh3d"
           }
          ],
          "parcoords": [
           {
            "line": {
             "colorbar": {
              "outlinewidth": 0,
              "ticks": ""
             }
            },
            "type": "parcoords"
           }
          ],
          "pie": [
           {
            "automargin": true,
            "type": "pie"
           }
          ],
          "scatter": [
           {
            "marker": {
             "colorbar": {
              "outlinewidth": 0,
              "ticks": ""
             }
            },
            "type": "scatter"
           }
          ],
          "scatter3d": [
           {
            "line": {
             "colorbar": {
              "outlinewidth": 0,
              "ticks": ""
             }
            },
            "marker": {
             "colorbar": {
              "outlinewidth": 0,
              "ticks": ""
             }
            },
            "type": "scatter3d"
           }
          ],
          "scattercarpet": [
           {
            "marker": {
             "colorbar": {
              "outlinewidth": 0,
              "ticks": ""
             }
            },
            "type": "scattercarpet"
           }
          ],
          "scattergeo": [
           {
            "marker": {
             "colorbar": {
              "outlinewidth": 0,
              "ticks": ""
             }
            },
            "type": "scattergeo"
           }
          ],
          "scattergl": [
           {
            "marker": {
             "colorbar": {
              "outlinewidth": 0,
              "ticks": ""
             }
            },
            "type": "scattergl"
           }
          ],
          "scattermapbox": [
           {
            "marker": {
             "colorbar": {
              "outlinewidth": 0,
              "ticks": ""
             }
            },
            "type": "scattermapbox"
           }
          ],
          "scatterpolar": [
           {
            "marker": {
             "colorbar": {
              "outlinewidth": 0,
              "ticks": ""
             }
            },
            "type": "scatterpolar"
           }
          ],
          "scatterpolargl": [
           {
            "marker": {
             "colorbar": {
              "outlinewidth": 0,
              "ticks": ""
             }
            },
            "type": "scatterpolargl"
           }
          ],
          "scatterternary": [
           {
            "marker": {
             "colorbar": {
              "outlinewidth": 0,
              "ticks": ""
             }
            },
            "type": "scatterternary"
           }
          ],
          "surface": [
           {
            "colorbar": {
             "outlinewidth": 0,
             "ticks": ""
            },
            "colorscale": [
             [
              0,
              "#0d0887"
             ],
             [
              0.1111111111111111,
              "#46039f"
             ],
             [
              0.2222222222222222,
              "#7201a8"
             ],
             [
              0.3333333333333333,
              "#9c179e"
             ],
             [
              0.4444444444444444,
              "#bd3786"
             ],
             [
              0.5555555555555556,
              "#d8576b"
             ],
             [
              0.6666666666666666,
              "#ed7953"
             ],
             [
              0.7777777777777778,
              "#fb9f3a"
             ],
             [
              0.8888888888888888,
              "#fdca26"
             ],
             [
              1,
              "#f0f921"
             ]
            ],
            "type": "surface"
           }
          ],
          "table": [
           {
            "cells": {
             "fill": {
              "color": "#EBF0F8"
             },
             "line": {
              "color": "white"
             }
            },
            "header": {
             "fill": {
              "color": "#C8D4E3"
             },
             "line": {
              "color": "white"
             }
            },
            "type": "table"
           }
          ]
         },
         "layout": {
          "annotationdefaults": {
           "arrowcolor": "#2a3f5f",
           "arrowhead": 0,
           "arrowwidth": 1
          },
          "autotypenumbers": "strict",
          "coloraxis": {
           "colorbar": {
            "outlinewidth": 0,
            "ticks": ""
           }
          },
          "colorscale": {
           "diverging": [
            [
             0,
             "#8e0152"
            ],
            [
             0.1,
             "#c51b7d"
            ],
            [
             0.2,
             "#de77ae"
            ],
            [
             0.3,
             "#f1b6da"
            ],
            [
             0.4,
             "#fde0ef"
            ],
            [
             0.5,
             "#f7f7f7"
            ],
            [
             0.6,
             "#e6f5d0"
            ],
            [
             0.7,
             "#b8e186"
            ],
            [
             0.8,
             "#7fbc41"
            ],
            [
             0.9,
             "#4d9221"
            ],
            [
             1,
             "#276419"
            ]
           ],
           "sequential": [
            [
             0,
             "#0d0887"
            ],
            [
             0.1111111111111111,
             "#46039f"
            ],
            [
             0.2222222222222222,
             "#7201a8"
            ],
            [
             0.3333333333333333,
             "#9c179e"
            ],
            [
             0.4444444444444444,
             "#bd3786"
            ],
            [
             0.5555555555555556,
             "#d8576b"
            ],
            [
             0.6666666666666666,
             "#ed7953"
            ],
            [
             0.7777777777777778,
             "#fb9f3a"
            ],
            [
             0.8888888888888888,
             "#fdca26"
            ],
            [
             1,
             "#f0f921"
            ]
           ],
           "sequentialminus": [
            [
             0,
             "#0d0887"
            ],
            [
             0.1111111111111111,
             "#46039f"
            ],
            [
             0.2222222222222222,
             "#7201a8"
            ],
            [
             0.3333333333333333,
             "#9c179e"
            ],
            [
             0.4444444444444444,
             "#bd3786"
            ],
            [
             0.5555555555555556,
             "#d8576b"
            ],
            [
             0.6666666666666666,
             "#ed7953"
            ],
            [
             0.7777777777777778,
             "#fb9f3a"
            ],
            [
             0.8888888888888888,
             "#fdca26"
            ],
            [
             1,
             "#f0f921"
            ]
           ]
          },
          "colorway": [
           "#636efa",
           "#EF553B",
           "#00cc96",
           "#ab63fa",
           "#FFA15A",
           "#19d3f3",
           "#FF6692",
           "#B6E880",
           "#FF97FF",
           "#FECB52"
          ],
          "font": {
           "color": "#2a3f5f"
          },
          "geo": {
           "bgcolor": "white",
           "lakecolor": "white",
           "landcolor": "#E5ECF6",
           "showlakes": true,
           "showland": true,
           "subunitcolor": "white"
          },
          "hoverlabel": {
           "align": "left"
          },
          "hovermode": "closest",
          "mapbox": {
           "style": "light"
          },
          "paper_bgcolor": "white",
          "plot_bgcolor": "#E5ECF6",
          "polar": {
           "angularaxis": {
            "gridcolor": "white",
            "linecolor": "white",
            "ticks": ""
           },
           "bgcolor": "#E5ECF6",
           "radialaxis": {
            "gridcolor": "white",
            "linecolor": "white",
            "ticks": ""
           }
          },
          "scene": {
           "xaxis": {
            "backgroundcolor": "#E5ECF6",
            "gridcolor": "white",
            "gridwidth": 2,
            "linecolor": "white",
            "showbackground": true,
            "ticks": "",
            "zerolinecolor": "white"
           },
           "yaxis": {
            "backgroundcolor": "#E5ECF6",
            "gridcolor": "white",
            "gridwidth": 2,
            "linecolor": "white",
            "showbackground": true,
            "ticks": "",
            "zerolinecolor": "white"
           },
           "zaxis": {
            "backgroundcolor": "#E5ECF6",
            "gridcolor": "white",
            "gridwidth": 2,
            "linecolor": "white",
            "showbackground": true,
            "ticks": "",
            "zerolinecolor": "white"
           }
          },
          "shapedefaults": {
           "line": {
            "color": "#2a3f5f"
           }
          },
          "ternary": {
           "aaxis": {
            "gridcolor": "white",
            "linecolor": "white",
            "ticks": ""
           },
           "baxis": {
            "gridcolor": "white",
            "linecolor": "white",
            "ticks": ""
           },
           "bgcolor": "#E5ECF6",
           "caxis": {
            "gridcolor": "white",
            "linecolor": "white",
            "ticks": ""
           }
          },
          "title": {
           "x": 0.05
          },
          "xaxis": {
           "automargin": true,
           "gridcolor": "white",
           "linecolor": "white",
           "ticks": "",
           "title": {
            "standoff": 15
           },
           "zerolinecolor": "white",
           "zerolinewidth": 2
          },
          "yaxis": {
           "automargin": true,
           "gridcolor": "white",
           "linecolor": "white",
           "ticks": "",
           "title": {
            "standoff": 15
           },
           "zerolinecolor": "white",
           "zerolinewidth": 2
          }
         }
        },
        "xaxis": {
         "anchor": "y",
         "domain": [
          0,
          1
         ],
         "title": {
          "text": "x"
         }
        },
        "yaxis": {
         "anchor": "x",
         "domain": [
          0,
          1
         ],
         "title": {
          "text": "y"
         }
        }
       }
      }
     },
     "metadata": {},
     "output_type": "display_data"
    }
   ],
   "source": [
    "import plotly.express as px\n",
    "fig = px.bar(x=[\"a\", \"b\", \"c\"], y=[1, 3, 2])\n",
    "fig.show()"
   ]
  },
  {
   "cell_type": "code",
   "execution_count": 2,
   "metadata": {},
   "outputs": [
    {
     "data": {
      "application/vnd.jupyter.widget-view+json": {
       "model_id": "64e6e7fa02544d63b71ad690626ac677",
       "version_major": 2,
       "version_minor": 0
      },
      "text/plain": [
       "FigureWidget({\n",
       "    'data': [{'alignmentgroup': 'True',\n",
       "              'hovertemplate': 'x=%{x}<br>y=%{y}<extra>…"
      ]
     },
     "metadata": {},
     "output_type": "display_data"
    }
   ],
   "source": [
    "import plotly.express as px\n",
    "fig = px.bar(x=[\"a\", \"b\", \"c\"], y=[1, 3, 2])\n",
    "\n",
    "import plotly.graph_objects as go\n",
    "fig_widget = go.FigureWidget(fig)\n",
    "fig_widget"
   ]
  },
  {
   "cell_type": "markdown",
   "metadata": {},
   "source": [
    "____\n",
    "\n",
    "**Back to Jose's course**"
   ]
  },
  {
   "cell_type": "code",
   "execution_count": 19,
   "metadata": {},
   "outputs": [
    {
     "name": "stdout",
     "output_type": "stream",
     "text": [
      "5.6.0\n"
     ]
    },
    {
     "data": {
      "text/html": [
       "        <script type=\"text/javascript\">\n",
       "        window.PlotlyConfig = {MathJaxConfig: 'local'};\n",
       "        if (window.MathJax) {MathJax.Hub.Config({SVG: {font: \"STIX-Web\"}});}\n",
       "        if (typeof require !== 'undefined') {\n",
       "        require.undef(\"plotly\");\n",
       "        requirejs.config({\n",
       "            paths: {\n",
       "                'plotly': ['https://cdn.plot.ly/plotly-2.9.0.min']\n",
       "            }\n",
       "        });\n",
       "        require(['plotly'], function(Plotly) {\n",
       "            window._Plotly = Plotly;\n",
       "        });\n",
       "        }\n",
       "        </script>\n",
       "        "
      ]
     },
     "metadata": {},
     "output_type": "display_data"
    },
    {
     "data": {
      "text/html": [
       "        <script type=\"text/javascript\">\n",
       "        window.PlotlyConfig = {MathJaxConfig: 'local'};\n",
       "        if (window.MathJax) {MathJax.Hub.Config({SVG: {font: \"STIX-Web\"}});}\n",
       "        if (typeof require !== 'undefined') {\n",
       "        require.undef(\"plotly\");\n",
       "        requirejs.config({\n",
       "            paths: {\n",
       "                'plotly': ['https://cdn.plot.ly/plotly-2.9.0.min']\n",
       "            }\n",
       "        });\n",
       "        require(['plotly'], function(Plotly) {\n",
       "            window._Plotly = Plotly;\n",
       "        });\n",
       "        }\n",
       "        </script>\n",
       "        "
      ]
     },
     "metadata": {},
     "output_type": "display_data"
    }
   ],
   "source": [
    "# SET UP\n",
    "\n",
    "import pandas as pd\n",
    "%matplotlib inline\n",
    "import numpy as np\n",
    "from plotly import __version__\n",
    "print(__version__)\n",
    "\n",
    "from plotly.offline import download_plotlyjs, init_notebook_mode, plot, iplot\n",
    "init_notebook_mode(connected = True)\n",
    "\n",
    "# !pip install cufflinks\n",
    "import cufflinks as cf\n",
    "cf.go_offline()"
   ]
  },
  {
   "cell_type": "code",
   "execution_count": 17,
   "metadata": {},
   "outputs": [
    {
     "data": {
      "text/html": [
       "<div>\n",
       "<style scoped>\n",
       "    .dataframe tbody tr th:only-of-type {\n",
       "        vertical-align: middle;\n",
       "    }\n",
       "\n",
       "    .dataframe tbody tr th {\n",
       "        vertical-align: top;\n",
       "    }\n",
       "\n",
       "    .dataframe thead th {\n",
       "        text-align: right;\n",
       "    }\n",
       "</style>\n",
       "<table border=\"1\" class=\"dataframe\">\n",
       "  <thead>\n",
       "    <tr style=\"text-align: right;\">\n",
       "      <th></th>\n",
       "      <th>A</th>\n",
       "      <th>B</th>\n",
       "      <th>C</th>\n",
       "      <th>D</th>\n",
       "    </tr>\n",
       "  </thead>\n",
       "  <tbody>\n",
       "    <tr>\n",
       "      <th>0</th>\n",
       "      <td>-0.190281</td>\n",
       "      <td>-0.807888</td>\n",
       "      <td>-0.280879</td>\n",
       "      <td>0.328889</td>\n",
       "    </tr>\n",
       "    <tr>\n",
       "      <th>1</th>\n",
       "      <td>0.328237</td>\n",
       "      <td>-0.644889</td>\n",
       "      <td>-0.004941</td>\n",
       "      <td>-0.053621</td>\n",
       "    </tr>\n",
       "    <tr>\n",
       "      <th>2</th>\n",
       "      <td>1.139923</td>\n",
       "      <td>-0.745590</td>\n",
       "      <td>-0.182302</td>\n",
       "      <td>0.694486</td>\n",
       "    </tr>\n",
       "    <tr>\n",
       "      <th>3</th>\n",
       "      <td>-1.528541</td>\n",
       "      <td>-1.305028</td>\n",
       "      <td>0.260096</td>\n",
       "      <td>0.022526</td>\n",
       "    </tr>\n",
       "    <tr>\n",
       "      <th>4</th>\n",
       "      <td>-0.248870</td>\n",
       "      <td>0.500381</td>\n",
       "      <td>-2.188017</td>\n",
       "      <td>0.136475</td>\n",
       "    </tr>\n",
       "  </tbody>\n",
       "</table>\n",
       "</div>"
      ],
      "text/plain": [
       "          A         B         C         D\n",
       "0 -0.190281 -0.807888 -0.280879  0.328889\n",
       "1  0.328237 -0.644889 -0.004941 -0.053621\n",
       "2  1.139923 -0.745590 -0.182302  0.694486\n",
       "3 -1.528541 -1.305028  0.260096  0.022526\n",
       "4 -0.248870  0.500381 -2.188017  0.136475"
      ]
     },
     "execution_count": 17,
     "metadata": {},
     "output_type": "execute_result"
    }
   ],
   "source": [
    "df = pd.DataFrame(np.random.randn(100, 4), columns = 'A B C D'.split())\n",
    "df.head()"
   ]
  },
  {
   "cell_type": "code",
   "execution_count": 18,
   "metadata": {},
   "outputs": [],
   "source": [
    "df2 = pd.DataFrame({'Category' : ['A', 'B', 'C'], 'Values' : [32, 43, 50]})"
   ]
  },
  {
   "cell_type": "markdown",
   "metadata": {},
   "source": [
    "#### Line plot"
   ]
  },
  {
   "cell_type": "code",
   "execution_count": 20,
   "metadata": {},
   "outputs": [
    {
     "data": {
      "text/plain": [
       "<matplotlib.axes._subplots.AxesSubplot at 0x13ce3181808>"
      ]
     },
     "execution_count": 20,
     "metadata": {},
     "output_type": "execute_result"
    },
    {
     "data": {
      "image/png": "[encoded data removed]",
      "text/plain": [
       "<Figure size 432x288 with 1 Axes>"
      ]
     },
     "metadata": {
      "needs_background": "light"
     },
     "output_type": "display_data"
    }
   ],
   "source": [
    "df.plot() # plot made automatically by pandas using matplotlib"
   ]
  },
  {
   "cell_type": "code",
   "execution_count": 21,
   "metadata": {},
   "outputs": [
    {
     "data": {
      "application/vnd.plotly.v1+json": {
       "config": {
        "linkText": "Export to plot.ly",
        "plotlyServerURL": "https://plot.ly",
        "showLink": true
       },
       "data": [
        {
         "line": {
          "color": "rgba(255, 153, 51, 1.0)",
          "dash": "solid",
          "shape": "linear",
          "width": 1.3
         },
         "mode": "lines",
         "name": "A",
         "text": "",
         "type": "scatter",
         "x": [
          0,
          1,
          2,
          3,
          4,
          5,
          6,
          7,
          8,
          9,
          10,
          11,
          12,
          13,
          14,
          15,
          16,
          17,
          18,
          19,
          20,
          21,
          22,
          23,
          24,
          25,
          26,
          27,
          28,
          29,
          30,
          31,
          32,
          33,
          34,
          35,
          36,
          37,
          38,
          39,
          40,
          41,
          42,
          43,
          44,
          45,
          46,
          47,
          48,
          49,
          50,
          51,
          52,
          53,
          54,
          55,
          56,
          57,
          58,
          59,
          60,
          61,
          62,
          63,
          64,
          65,
          66,
          67,
          68,
          69,
          70,
          71,
          72,
          73,
          74,
          75,
          76,
          77,
          78,
          79,
          80,
          81,
          82,
          83,
          84,
          85,
          86,
          87,
          88,
          89,
          90,
          91,
          92,
          93,
          94,
          95,
          96,
          97,
          98,
          99
         ],
         "y": [
          -0.19028147001615417,
          0.3282365234795369,
          1.1399229516160017,
          -1.5285412750999146,
          -0.24886967751150038,
          0.2516245509136745,
          1.0322355236009921,
          0.11599439899823132,
          -0.08552299190870857,
          -0.392599667290996,
          1.0483873911059238,
          -1.3672086527525584,
          -1.2953691663834808,
          -0.37398870480107765,
          0.16094578705735657,
          0.698636684971462,
          1.5186664839892636,
          -0.3023573194571271,
          0.16832675647100329,
          0.19054539363793585,
          -0.05607139243232748,
          2.49434793378773,
          -0.530066327400534,
          0.8770350482674139,
          0.813057708391379,
          0.29820305701467675,
          0.4091606649710951,
          -0.07901188676813516,
          -0.32164633372494433,
          0.9816522229170433,
          0.6776451608653729,
          -0.8353341427637865,
          1.4655636349628942,
          2.00973210510375,
          0.34269433539070104,
          0.6002392765015414,
          0.7117390891406551,
          1.0592117801719485,
          0.7228041981165503,
          -0.8736465721312067,
          0.5676459790026085,
          0.3946690709293932,
          1.1159103925968208,
          -1.3623917634657412,
          0.6708499442787056,
          2.7667695870284845,
          0.7208184734528509,
          -0.5012612586998206,
          -1.1208824336937548,
          0.08310983627321097,
          1.4675574284440516,
          1.2532790994123408,
          0.007306638487820633,
          -0.8858137066431648,
          0.6242810094285595,
          -1.204652301395593,
          -1.1592080495946446,
          -0.8345983358790608,
          -0.7876304667169377,
          0.2226800879806531,
          0.4415686839563639,
          -0.269932602749613,
          -1.203764434204222,
          0.2411069726838896,
          -0.09951908368939481,
          -1.2286268384318006,
          0.9640396290879625,
          2.533865804668992,
          0.6363573751229564,
          0.6472031726814976,
          0.3660259455013826,
          0.9127612805233639,
          0.17883708005765753,
          -0.7077382719243921,
          -0.30885550649166293,
          1.327815639824272,
          -1.0254221405341721,
          -0.9383686643953827,
          -0.09071737066338419,
          0.6334847841474687,
          0.3071825571559436,
          -0.4857262165088668,
          -0.016132326632023995,
          0.5396152536884207,
          1.2850769796729489,
          -0.09184295300134171,
          0.6230902035502993,
          -0.28510111886218,
          0.963559438496964,
          1.7301036427052279,
          -0.23999086747889203,
          -0.6634015983510081,
          0.3389483473977393,
          1.3015088526277432,
          0.2801083119723154,
          -1.0717367219346814,
          0.6430291779034134,
          1.0587542570407236,
          -1.8666690899056997,
          0.19629610393134483
         ]
        },
        {
         "line": {
          "color": "rgba(55, 128, 191, 1.0)",
          "dash": "solid",
          "shape": "linear",
          "width": 1.3
         },
         "mode": "lines",
         "name": "B",
         "text": "",
         "type": "scatter",
         "x": [
          0,
          1,
          2,
          3,
          4,
          5,
          6,
          7,
          8,
          9,
          10,
          11,
          12,
          13,
          14,
          15,
          16,
          17,
          18,
          19,
          20,
          21,
          22,
          23,
          24,
          25,
          26,
          27,
          28,
          29,
          30,
          31,
          32,
          33,
          34,
          35,
          36,
          37,
          38,
          39,
          40,
          41,
          42,
          43,
          44,
          45,
          46,
          47,
          48,
          49,
          50,
          51,
          52,
          53,
          54,
          55,
          56,
          57,
          58,
          59,
          60,
          61,
          62,
          63,
          64,
          65,
          66,
          67,
          68,
          69,
          70,
          71,
          72,
          73,
          74,
          75,
          76,
          77,
          78,
          79,
          80,
          81,
          82,
          83,
          84,
          85,
          86,
          87,
          88,
          89,
          90,
          91,
          92,
          93,
          94,
          95,
          96,
          97,
          98,
          99
         ],
         "y": [
          -0.8078877810272339,
          -0.6448885204384242,
          -0.7455902419946399,
          -1.3050276821950197,
          0.5003808807272312,
          -0.2544095597272951,
          -1.3513709895354138,
          -2.5602738161529337,
          1.8961054211952009,
          1.7143645670390613,
          0.38789704551642606,
          -0.43216641964758024,
          -0.121487555297366,
          0.4886943348247054,
          -0.531024084846558,
          1.019974525402949,
          -1.1265502671384462,
          -0.11944479093297246,
          0.07992209285850868,
          0.35694133719785076,
          1.5133316673425885,
          0.9526731400979774,
          2.1783088334956022,
          -0.5359561007282527,
          0.3879712182730429,
          -0.5599572053329858,
          0.7535131619955537,
          0.1737238244194225,
          -0.1398249931343527,
          -0.7847908485735925,
          -0.7389327805747367,
          0.24358444714280714,
          1.5261767506458273,
          0.06163695959046099,
          -0.4101352328979562,
          -0.09324634096394105,
          0.6528869126446963,
          0.01814734085788372,
          -1.3547064835577245,
          -0.6151383657756476,
          -0.028002153962266033,
          -1.0794710885393703,
          0.10420625617257966,
          0.0016299303751393895,
          0.20635200140925392,
          -2.233926947939479,
          -1.0973127325260994,
          -0.4408212095555347,
          1.22408852383261,
          0.13518041692760324,
          -0.6380915291645423,
          -1.0077051393357612,
          -0.2287842060650193,
          -1.4542627061984326,
          -0.8098208866087253,
          -0.023631771936152825,
          0.25512205354700956,
          -0.4367753483304965,
          -1.1077991003347287,
          1.5311400432991595,
          -1.2024989249956632,
          0.12192266114566915,
          0.35121591416736425,
          0.528914304859543,
          -0.04869540341544756,
          0.9691544110353982,
          -0.5742621312272939,
          -0.38144095937602707,
          2.0948824404994784,
          -0.2633073152560307,
          0.4376908561486388,
          -1.262068966059568,
          1.2029595169014162,
          0.6812982907014478,
          0.14481035473742293,
          -0.9025277487190613,
          -0.033162850514684906,
          -0.7212577482125213,
          -1.2129688234713587,
          0.10702847749976899,
          -0.5944521348825197,
          -0.22021650672250928,
          -0.08777301917765741,
          0.49809817622022645,
          -0.38138542032541234,
          2.2291460401740446,
          0.22260641858867825,
          -0.6572688729049547,
          0.21066253910388472,
          -1.9777342722498183,
          0.3060242902498709,
          -0.6017968715314095,
          1.7495494270187508,
          0.41260960952983505,
          -0.6762840831291067,
          1.0885603890399016,
          1.3670041388951435,
          0.4449508775116109,
          0.4117141563361959,
          -0.6129289668954218
         ]
        },
        {
         "line": {
          "color": "rgba(50, 171, 96, 1.0)",
          "dash": "solid",
          "shape": "linear",
          "width": 1.3
         },
         "mode": "lines",
         "name": "C",
         "text": "",
         "type": "scatter",
         "x": [
          0,
          1,
          2,
          3,
          4,
          5,
          6,
          7,
          8,
          9,
          10,
          11,
          12,
          13,
          14,
          15,
          16,
          17,
          18,
          19,
          20,
          21,
          22,
          23,
          24,
          25,
          26,
          27,
          28,
          29,
          30,
          31,
          32,
          33,
          34,
          35,
          36,
          37,
          38,
          39,
          40,
          41,
          42,
          43,
          44,
          45,
          46,
          47,
          48,
          49,
          50,
          51,
          52,
          53,
          54,
          55,
          56,
          57,
          58,
          59,
          60,
          61,
          62,
          63,
          64,
          65,
          66,
          67,
          68,
          69,
          70,
          71,
          72,
          73,
          74,
          75,
          76,
          77,
          78,
          79,
          80,
          81,
          82,
          83,
          84,
          85,
          86,
          87,
          88,
          89,
          90,
          91,
          92,
          93,
          94,
          95,
          96,
          97,
          98,
          99
         ],
         "y": [
          -0.28087858577267105,
          -0.004940607057401839,
          -0.18230220142911813,
          0.2600963731552484,
          -2.188017212805162,
          -1.0898037238817064,
          0.8029079536160184,
          0.39290560201141383,
          -0.7824771205914149,
          0.09623173110212756,
          0.9068065372365814,
          -0.3989989888769911,
          -0.0641446346766752,
          -0.5345419155492223,
          0.32796331193357764,
          -0.5767538701014241,
          -0.10512746808304435,
          0.9172381947599746,
          -0.4472695304778123,
          0.7102683856385797,
          1.6939178797464913,
          2.3266870929170236,
          -0.20697932602210786,
          0.983827831881114,
          -2.0426268092837243,
          -0.4349401334944814,
          1.6547889256895636,
          -0.31154737802476706,
          -1.0900054140495148,
          -0.5300848153772204,
          0.02164567537324387,
          0.6273332422749028,
          -1.9773216115130865,
          0.6687587249854554,
          -0.06504102004656755,
          -0.34618824562897654,
          -0.3199115087635271,
          -0.4987996519933438,
          0.23575723882577956,
          0.7597754367105237,
          0.349048519111151,
          1.2015268322994783,
          1.2159218440959862,
          -0.42192591804738677,
          -0.8944245463342192,
          -0.435919363532489,
          1.397820879769164,
          -1.560418050372487,
          -1.1788409473597223,
          -0.4986100474691056,
          -0.6466678757707934,
          0.5776410340113322,
          -1.6148839333548723,
          0.6886420824906866,
          -0.3328314224856059,
          0.5363702326516426,
          0.6036522566095408,
          -1.7863633611315732,
          -0.3784178651278131,
          -0.27019072144003586,
          0.41899925622522255,
          -0.44459848135470603,
          0.9276848536350926,
          -0.05560740096298692,
          0.9330717802136188,
          0.19933373068207802,
          0.06307907081003797,
          -1.0126845508220041,
          -0.36590596742424647,
          -1.1658403037968499,
          -1.145026708386471,
          -1.4374897359308019,
          0.31196568286651527,
          -1.4022129995090378,
          0.43145008296749926,
          0.15936536072957974,
          0.1571961245450657,
          -1.3657685562718185,
          1.4992195393508299,
          0.13302405909411777,
          0.6900814716829894,
          0.4142888696248817,
          -0.28001864824131567,
          -1.2999007434589738,
          -0.43031486383923556,
          -0.9694286604561002,
          0.42547381984692245,
          0.7778766895492566,
          1.0116733908927231,
          -1.1313424765515263,
          -0.5505972224035046,
          -1.8466325055319044,
          -0.90990122673788,
          -0.5374142307935139,
          -0.13444784767642923,
          0.9257971446921365,
          -0.9524785152276847,
          0.8823242234454758,
          -1.1309090674165982,
          -1.2869116132712173
         ]
        },
        {
         "line": {
          "color": "rgba(128, 0, 128, 1.0)",
          "dash": "solid",
          "shape": "linear",
          "width": 1.3
         },
         "mode": "lines",
         "name": "D",
         "text": "",
         "type": "scatter",
         "x": [
          0,
          1,
          2,
          3,
          4,
          5,
          6,
          7,
          8,
          9,
          10,
          11,
          12,
          13,
          14,
          15,
          16,
          17,
          18,
          19,
          20,
          21,
          22,
          23,
          24,
          25,
          26,
          27,
          28,
          29,
          30,
          31,
          32,
          33,
          34,
          35,
          36,
          37,
          38,
          39,
          40,
          41,
          42,
          43,
          44,
          45,
          46,
          47,
          48,
          49,
          50,
          51,
          52,
          53,
          54,
          55,
          56,
          57,
          58,
          59,
          60,
          61,
          62,
          63,
          64,
          65,
          66,
          67,
          68,
          69,
          70,
          71,
          72,
          73,
          74,
          75,
          76,
          77,
          78,
          79,
          80,
          81,
          82,
          83,
          84,
          85,
          86,
          87,
          88,
          89,
          90,
          91,
          92,
          93,
          94,
          95,
          96,
          97,
          98,
          99
         ],
         "y": [
          0.3288885223174926,
          -0.05362057683546842,
          0.6944864221692295,
          0.02252577433779823,
          0.13647546453678722,
          -0.10806801637002397,
          -0.30864646770180626,
          0.33901164794495464,
          0.060188705738250456,
          0.19380195170155903,
          -0.522348080237052,
          0.6193212852322433,
          0.04404147779042312,
          -0.5786956835065248,
          -0.9326312727624145,
          -1.1077031636459158,
          0.8222129392917609,
          -0.7151429012834042,
          -0.4076584263131162,
          0.380535345843578,
          1.9331246815616225,
          0.8854566533885581,
          0.9250097363967863,
          -1.2250734639959535,
          -2.22671463804753,
          -1.5742891094053724,
          0.978683053819982,
          -1.136319691015506,
          -1.1137441313670016,
          0.436318837908886,
          0.541594724232907,
          0.9779228111714007,
          0.606322701056323,
          -0.89018875312323,
          -1.2540749488696816,
          0.0036231336181717475,
          -0.5862125200271961,
          -0.5496272785954898,
          -1.3808661187077242,
          -0.41911265700373646,
          -0.9893833037429732,
          -0.02227739253879558,
          -1.2109051787349658,
          0.2187550645508682,
          0.29539605379224376,
          -0.3264467139879857,
          0.6011974292790989,
          -0.05228156116144349,
          0.7624832361556565,
          -0.6702572568013639,
          -0.6785139300205213,
          0.3011819215746909,
          -0.020108136336801797,
          -0.4087092290165143,
          0.00698854161160987,
          1.20481109831026,
          -2.4818274281753863,
          0.319098393424909,
          -0.9898309304204703,
          0.2952005681553578,
          0.9619370070172015,
          -0.40093747682141156,
          -0.11952508572061894,
          1.1081954282248092,
          -0.1806524932116476,
          0.06261944968811173,
          0.03225926799516013,
          0.41594280093698044,
          -0.9657416824739882,
          -0.04405418685657381,
          0.05281557500120534,
          -1.5455467298149086,
          -1.3537818294467925,
          0.8392875684656593,
          0.7571304481994662,
          1.0988601549471448,
          -0.7876598489602764,
          2.0604966990745828,
          0.5946780208209356,
          -0.23702779487902637,
          0.9058986089027272,
          -1.0756265998225543,
          -0.05533987071067795,
          -1.0565996076695996,
          1.0413939228265987,
          -1.2620095908721358,
          1.1426775965278135,
          0.25579441301365924,
          -0.4319807601407964,
          -0.7550353606457672,
          -0.05815106441335786,
          0.6190864775229382,
          0.9399911697520962,
          -1.4366566678480763,
          -0.43104599207293115,
          -1.073006647715606,
          -1.0116719874581341,
          -0.0044088648192909495,
          -0.2723208922297199,
          -1.4184543082935284
         ]
        }
       ],
       "layout": {
        "legend": {
         "bgcolor": "#F5F6F9",
         "font": {
          "color": "#4D5663"
         }
        },
        "paper_bgcolor": "#F5F6F9",
        "plot_bgcolor": "#F5F6F9",
        "template": {
         "data": {
          "bar": [
           {
            "error_x": {
             "color": "#2a3f5f"
            },
            "error_y": {
             "color": "#2a3f5f"
            },
            "marker": {
             "line": {
              "color": "#E5ECF6",
              "width": 0.5
             },
             "pattern": {
              "fillmode": "overlay",
              "size": 10,
              "solidity": 0.2
             }
            },
            "type": "bar"
           }
          ],
          "barpolar": [
           {
            "marker": {
             "line": {
              "color": "#E5ECF6",
              "width": 0.5
             },
             "pattern": {
              "fillmode": "overlay",
              "size": 10,
              "solidity": 0.2
             }
            },
            "type": "barpolar"
           }
          ],
          "carpet": [
           {
            "aaxis": {
             "endlinecolor": "#2a3f5f",
             "gridcolor": "white",
             "linecolor": "white",
             "minorgridcolor": "white",
             "startlinecolor": "#2a3f5f"
            },
            "baxis": {
             "endlinecolor": "#2a3f5f",
             "gridcolor": "white",
             "linecolor": "white",
             "minorgridcolor": "white",
             "startlinecolor": "#2a3f5f"
            },
            "type": "carpet"
           }
          ],
          "choropleth": [
           {
            "colorbar": {
             "outlinewidth": 0,
             "ticks": ""
            },
            "type": "choropleth"
           }
          ],
          "contour": [
           {
            "colorbar": {
             "outlinewidth": 0,
             "ticks": ""
            },
            "colorscale": [
             [
              0,
              "#0d0887"
             ],
             [
              0.1111111111111111,
              "#46039f"
             ],
             [
              0.2222222222222222,
              "#7201a8"
             ],
             [
              0.3333333333333333,
              "#9c179e"
             ],
             [
              0.4444444444444444,
              "#bd3786"
             ],
             [
              0.5555555555555556,
              "#d8576b"
             ],
             [
              0.6666666666666666,
              "#ed7953"
             ],
             [
              0.7777777777777778,
              "#fb9f3a"
             ],
             [
              0.8888888888888888,
              "#fdca26"
             ],
             [
              1,
              "#f0f921"
             ]
            ],
            "type": "contour"
           }
          ],
          "contourcarpet": [
           {
            "colorbar": {
             "outlinewidth": 0,
             "ticks": ""
            },
            "type": "contourcarpet"
           }
          ],
          "heatmap": [
           {
            "colorbar": {
             "outlinewidth": 0,
             "ticks": ""
            },
            "colorscale": [
             [
              0,
              "#0d0887"
             ],
             [
              0.1111111111111111,
              "#46039f"
             ],
             [
              0.2222222222222222,
              "#7201a8"
             ],
             [
              0.3333333333333333,
              "#9c179e"
             ],
             [
              0.4444444444444444,
              "#bd3786"
             ],
             [
              0.5555555555555556,
              "#d8576b"
             ],
             [
              0.6666666666666666,
              "#ed7953"
             ],
             [
              0.7777777777777778,
              "#fb9f3a"
             ],
             [
              0.8888888888888888,
              "#fdca26"
             ],
             [
              1,
              "#f0f921"
             ]
            ],
            "type": "heatmap"
           }
          ],
          "heatmapgl": [
           {
            "colorbar": {
             "outlinewidth": 0,
             "ticks": ""
            },
            "colorscale": [
             [
              0,
              "#0d0887"
             ],
             [
              0.1111111111111111,
              "#46039f"
             ],
             [
              0.2222222222222222,
              "#7201a8"
             ],
             [
              0.3333333333333333,
              "#9c179e"
             ],
             [
              0.4444444444444444,
              "#bd3786"
             ],
             [
              0.5555555555555556,
              "#d8576b"
             ],
             [
              0.6666666666666666,
              "#ed7953"
             ],
             [
              0.7777777777777778,
              "#fb9f3a"
             ],
             [
              0.8888888888888888,
              "#fdca26"
             ],
             [
              1,
              "#f0f921"
             ]
            ],
            "type": "heatmapgl"
           }
          ],
          "histogram": [
           {
            "marker": {
             "pattern": {
              "fillmode": "overlay",
              "size": 10,
              "solidity": 0.2
             }
            },
            "type": "histogram"
           }
          ],
          "histogram2d": [
           {
            "colorbar": {
             "outlinewidth": 0,
             "ticks": ""
            },
            "colorscale": [
             [
              0,
              "#0d0887"
             ],
             [
              0.1111111111111111,
              "#46039f"
             ],
             [
              0.2222222222222222,
              "#7201a8"
             ],
             [
              0.3333333333333333,
              "#9c179e"
             ],
             [
              0.4444444444444444,
              "#bd3786"
             ],
             [
              0.5555555555555556,
              "#d8576b"
             ],
             [
              0.6666666666666666,
              "#ed7953"
             ],
             [
              0.7777777777777778,
              "#fb9f3a"
             ],
             [
              0.8888888888888888,
              "#fdca26"
             ],
             [
              1,
              "#f0f921"
             ]
            ],
            "type": "histogram2d"
           }
          ],
          "histogram2dcontour": [
           {
            "colorbar": {
             "outlinewidth": 0,
             "ticks": ""
            },
            "colorscale": [
             [
              0,
              "#0d0887"
             ],
             [
              0.1111111111111111,
              "#46039f"
             ],
             [
              0.2222222222222222,
              "#7201a8"
             ],
             [
              0.3333333333333333,
              "#9c179e"
             ],
             [
              0.4444444444444444,
              "#bd3786"
             ],
             [
              0.5555555555555556,
              "#d8576b"
             ],
             [
              0.6666666666666666,
              "#ed7953"
             ],
             [
              0.7777777777777778,
              "#fb9f3a"
             ],
             [
              0.8888888888888888,
              "#fdca26"
             ],
             [
              1,
              "#f0f921"
             ]
            ],
            "type": "histogram2dcontour"
           }
          ],
          "mesh3d": [
           {
            "colorbar": {
             "outlinewidth": 0,
             "ticks": ""
            },
            "type": "mesh3d"
           }
          ],
          "parcoords": [
           {
            "line": {
             "colorbar": {
              "outlinewidth": 0,
              "ticks": ""
             }
            },
            "type": "parcoords"
           }
          ],
          "pie": [
           {
            "automargin": true,
            "type": "pie"
           }
          ],
          "scatter": [
           {
            "marker": {
             "colorbar": {
              "outlinewidth": 0,
              "ticks": ""
             }
            },
            "type": "scatter"
           }
          ],
          "scatter3d": [
           {
            "line": {
             "colorbar": {
              "outlinewidth": 0,
              "ticks": ""
             }
            },
            "marker": {
             "colorbar": {
              "outlinewidth": 0,
              "ticks": ""
             }
            },
            "type": "scatter3d"
           }
          ],
          "scattercarpet": [
           {
            "marker": {
             "colorbar": {
              "outlinewidth": 0,
              "ticks": ""
             }
            },
            "type": "scattercarpet"
           }
          ],
          "scattergeo": [
           {
            "marker": {
             "colorbar": {
              "outlinewidth": 0,
              "ticks": ""
             }
            },
            "type": "scattergeo"
           }
          ],
          "scattergl": [
           {
            "marker": {
             "colorbar": {
              "outlinewidth": 0,
              "ticks": ""
             }
            },
            "type": "scattergl"
           }
          ],
          "scattermapbox": [
           {
            "marker": {
             "colorbar": {
              "outlinewidth": 0,
              "ticks": ""
             }
            },
            "type": "scattermapbox"
           }
          ],
          "scatterpolar": [
           {
            "marker": {
             "colorbar": {
              "outlinewidth": 0,
              "ticks": ""
             }
            },
            "type": "scatterpolar"
           }
          ],
          "scatterpolargl": [
           {
            "marker": {
             "colorbar": {
              "outlinewidth": 0,
              "ticks": ""
             }
            },
            "type": "scatterpolargl"
           }
          ],
          "scatterternary": [
           {
            "marker": {
             "colorbar": {
              "outlinewidth": 0,
              "ticks": ""
             }
            },
            "type": "scatterternary"
           }
          ],
          "surface": [
           {
            "colorbar": {
             "outlinewidth": 0,
             "ticks": ""
            },
            "colorscale": [
             [
              0,
              "#0d0887"
             ],
             [
              0.1111111111111111,
              "#46039f"
             ],
             [
              0.2222222222222222,
              "#7201a8"
             ],
             [
              0.3333333333333333,
              "#9c179e"
             ],
             [
              0.4444444444444444,
              "#bd3786"
             ],
             [
              0.5555555555555556,
              "#d8576b"
             ],
             [
              0.6666666666666666,
              "#ed7953"
             ],
             [
              0.7777777777777778,
              "#fb9f3a"
             ],
             [
              0.8888888888888888,
              "#fdca26"
             ],
             [
              1,
              "#f0f921"
             ]
            ],
            "type": "surface"
           }
          ],
          "table": [
           {
            "cells": {
             "fill": {
              "color": "#EBF0F8"
             },
             "line": {
              "color": "white"
             }
            },
            "header": {
             "fill": {
              "color": "#C8D4E3"
             },
             "line": {
              "color": "white"
             }
            },
            "type": "table"
           }
          ]
         },
         "layout": {
          "annotationdefaults": {
           "arrowcolor": "#2a3f5f",
           "arrowhead": 0,
           "arrowwidth": 1
          },
          "autotypenumbers": "strict",
          "coloraxis": {
           "colorbar": {
            "outlinewidth": 0,
            "ticks": ""
           }
          },
          "colorscale": {
           "diverging": [
            [
             0,
             "#8e0152"
            ],
            [
             0.1,
             "#c51b7d"
            ],
            [
             0.2,
             "#de77ae"
            ],
            [
             0.3,
             "#f1b6da"
            ],
            [
             0.4,
             "#fde0ef"
            ],
            [
             0.5,
             "#f7f7f7"
            ],
            [
             0.6,
             "#e6f5d0"
            ],
            [
             0.7,
             "#b8e186"
            ],
            [
             0.8,
             "#7fbc41"
            ],
            [
             0.9,
             "#4d9221"
            ],
            [
             1,
             "#276419"
            ]
           ],
           "sequential": [
            [
             0,
             "#0d0887"
            ],
            [
             0.1111111111111111,
             "#46039f"
            ],
            [
             0.2222222222222222,
             "#7201a8"
            ],
            [
             0.3333333333333333,
             "#9c179e"
            ],
            [
             0.4444444444444444,
             "#bd3786"
            ],
            [
             0.5555555555555556,
             "#d8576b"
            ],
            [
             0.6666666666666666,
             "#ed7953"
            ],
            [
             0.7777777777777778,
             "#fb9f3a"
            ],
            [
             0.8888888888888888,
             "#fdca26"
            ],
            [
             1,
             "#f0f921"
            ]
           ],
           "sequentialminus": [
            [
             0,
             "#0d0887"
            ],
            [
             0.1111111111111111,
             "#46039f"
            ],
            [
             0.2222222222222222,
             "#7201a8"
            ],
            [
             0.3333333333333333,
             "#9c179e"
            ],
            [
             0.4444444444444444,
             "#bd3786"
            ],
            [
             0.5555555555555556,
             "#d8576b"
            ],
            [
             0.6666666666666666,
             "#ed7953"
            ],
            [
             0.7777777777777778,
             "#fb9f3a"
            ],
            [
             0.8888888888888888,
             "#fdca26"
            ],
            [
             1,
             "#f0f921"
            ]
           ]
          },
          "colorway": [
           "#636efa",
           "#EF553B",
           "#00cc96",
           "#ab63fa",
           "#FFA15A",
           "#19d3f3",
           "#FF6692",
           "#B6E880",
           "#FF97FF",
           "#FECB52"
          ],
          "font": {
           "color": "#2a3f5f"
          },
          "geo": {
           "bgcolor": "white",
           "lakecolor": "white",
           "landcolor": "#E5ECF6",
           "showlakes": true,
           "showland": true,
           "subunitcolor": "white"
          },
          "hoverlabel": {
           "align": "left"
          },
          "hovermode": "closest",
          "mapbox": {
           "style": "light"
          },
          "paper_bgcolor": "white",
          "plot_bgcolor": "#E5ECF6",
          "polar": {
           "angularaxis": {
            "gridcolor": "white",
            "linecolor": "white",
            "ticks": ""
           },
           "bgcolor": "#E5ECF6",
           "radialaxis": {
            "gridcolor": "white",
            "linecolor": "white",
            "ticks": ""
           }
          },
          "scene": {
           "xaxis": {
            "backgroundcolor": "#E5ECF6",
            "gridcolor": "white",
            "gridwidth": 2,
            "linecolor": "white",
            "showbackground": true,
            "ticks": "",
            "zerolinecolor": "white"
           },
           "yaxis": {
            "backgroundcolor": "#E5ECF6",
            "gridcolor": "white",
            "gridwidth": 2,
            "linecolor": "white",
            "showbackground": true,
            "ticks": "",
            "zerolinecolor": "white"
           },
           "zaxis": {
            "backgroundcolor": "#E5ECF6",
            "gridcolor": "white",
            "gridwidth": 2,
            "linecolor": "white",
            "showbackground": true,
            "ticks": "",
            "zerolinecolor": "white"
           }
          },
          "shapedefaults": {
           "line": {
            "color": "#2a3f5f"
           }
          },
          "ternary": {
           "aaxis": {
            "gridcolor": "white",
            "linecolor": "white",
            "ticks": ""
           },
           "baxis": {
            "gridcolor": "white",
            "linecolor": "white",
            "ticks": ""
           },
           "bgcolor": "#E5ECF6",
           "caxis": {
            "gridcolor": "white",
            "linecolor": "white",
            "ticks": ""
           }
          },
          "title": {
           "x": 0.05
          },
          "xaxis": {
           "automargin": true,
           "gridcolor": "white",
           "linecolor": "white",
           "ticks": "",
           "title": {
            "standoff": 15
           },
           "zerolinecolor": "white",
           "zerolinewidth": 2
          },
          "yaxis": {
           "automargin": true,
           "gridcolor": "white",
           "linecolor": "white",
           "ticks": "",
           "title": {
            "standoff": 15
           },
           "zerolinecolor": "white",
           "zerolinewidth": 2
          }
         }
        },
        "title": {
         "font": {
          "color": "#4D5663"
         }
        },
        "xaxis": {
         "gridcolor": "#E1E5ED",
         "showgrid": true,
         "tickfont": {
          "color": "#4D5663"
         },
         "title": {
          "font": {
           "color": "#4D5663"
          },
          "text": ""
         },
         "zerolinecolor": "#E1E5ED"
        },
        "yaxis": {
         "gridcolor": "#E1E5ED",
         "showgrid": true,
         "tickfont": {
          "color": "#4D5663"
         },
         "title": {
          "font": {
           "color": "#4D5663"
          },
          "text": ""
         },
         "zerolinecolor": "#E1E5ED"
        }
       }
      },
      "text/html": [
       "<div>                            <div id=\"33b14733-fe6a-4389-b58b-ab997ad8247d\" class=\"plotly-graph-div\" style=\"height:525px; width:100%;\"></div>            <script type=\"text/javascript\">                require([\"plotly\"], function(Plotly) {                    window.PLOTLYENV=window.PLOTLYENV || {};\n",
       "                    window.PLOTLYENV.BASE_URL='https://plot.ly';                                    if (document.getElementById(\"33b14733-fe6a-4389-b58b-ab997ad8247d\")) {                    Plotly.newPlot(                        \"33b14733-fe6a-4389-b58b-ab997ad8247d\",                        [{\"line\":{\"color\":\"rgba(255, 153, 51, 1.0)\",\"dash\":\"solid\",\"shape\":\"linear\",\"width\":1.3},\"mode\":\"lines\",\"name\":\"A\",\"text\":\"\",\"x\":[0,1,2,3,4,5,6,7,8,9,10,11,12,13,14,15,16,17,18,19,20,21,22,23,24,25,26,27,28,29,30,31,32,33,34,35,36,37,38,39,40,41,42,43,44,45,46,47,48,49,50,51,52,53,54,55,56,57,58,59,60,61,62,63,64,65,66,67,68,69,70,71,72,73,74,75,76,77,78,79,80,81,82,83,84,85,86,87,88,89,90,91,92,93,94,95,96,97,98,99],\"y\":[-0.19028147001615417,0.3282365234795369,1.1399229516160017,-1.5285412750999146,-0.24886967751150038,0.2516245509136745,1.0322355236009921,0.11599439899823132,-0.08552299190870857,-0.392599667290996,1.0483873911059238,-1.3672086527525584,-1.2953691663834808,-0.37398870480107765,0.16094578705735657,0.698636684971462,1.5186664839892636,-0.3023573194571271,0.16832675647100329,0.19054539363793585,-0.05607139243232748,2.49434793378773,-0.530066327400534,0.8770350482674139,0.813057708391379,0.29820305701467675,0.4091606649710951,-0.07901188676813516,-0.32164633372494433,0.9816522229170433,0.6776451608653729,-0.8353341427637865,1.4655636349628942,2.00973210510375,0.34269433539070104,0.6002392765015414,0.7117390891406551,1.0592117801719485,0.7228041981165503,-0.8736465721312067,0.5676459790026085,0.3946690709293932,1.1159103925968208,-1.3623917634657412,0.6708499442787056,2.7667695870284845,0.7208184734528509,-0.5012612586998206,-1.1208824336937548,0.08310983627321097,1.4675574284440516,1.2532790994123408,0.007306638487820633,-0.8858137066431648,0.6242810094285595,-1.204652301395593,-1.1592080495946446,-0.8345983358790608,-0.7876304667169377,0.2226800879806531,0.4415686839563639,-0.269932602749613,-1.203764434204222,0.2411069726838896,-0.09951908368939481,-1.2286268384318006,0.9640396290879625,2.533865804668992,0.6363573751229564,0.6472031726814976,0.3660259455013826,0.9127612805233639,0.17883708005765753,-0.7077382719243921,-0.30885550649166293,1.327815639824272,-1.0254221405341721,-0.9383686643953827,-0.09071737066338419,0.6334847841474687,0.3071825571559436,-0.4857262165088668,-0.016132326632023995,0.5396152536884207,1.2850769796729489,-0.09184295300134171,0.6230902035502993,-0.28510111886218,0.963559438496964,1.7301036427052279,-0.23999086747889203,-0.6634015983510081,0.3389483473977393,1.3015088526277432,0.2801083119723154,-1.0717367219346814,0.6430291779034134,1.0587542570407236,-1.8666690899056997,0.19629610393134483],\"type\":\"scatter\"},{\"line\":{\"color\":\"rgba(55, 128, 191, 1.0)\",\"dash\":\"solid\",\"shape\":\"linear\",\"width\":1.3},\"mode\":\"lines\",\"name\":\"B\",\"text\":\"\",\"x\":[0,1,2,3,4,5,6,7,8,9,10,11,12,13,14,15,16,17,18,19,20,21,22,23,24,25,26,27,28,29,30,31,32,33,34,35,36,37,38,39,40,41,42,43,44,45,46,47,48,49,50,51,52,53,54,55,56,57,58,59,60,61,62,63,64,65,66,67,68,69,70,71,72,73,74,75,76,77,78,79,80,81,82,83,84,85,86,87,88,89,90,91,92,93,94,95,96,97,98,99],\"y\":[-0.8078877810272339,-0.6448885204384242,-0.7455902419946399,-1.3050276821950197,0.5003808807272312,-0.2544095597272951,-1.3513709895354138,-2.5602738161529337,1.8961054211952009,1.7143645670390613,0.38789704551642606,-0.43216641964758024,-0.121487555297366,0.4886943348247054,-0.531024084846558,1.019974525402949,-1.1265502671384462,-0.11944479093297246,0.07992209285850868,0.35694133719785076,1.5133316673425885,0.9526731400979774,2.1783088334956022,-0.5359561007282527,0.3879712182730429,-0.5599572053329858,0.7535131619955537,0.1737238244194225,-0.1398249931343527,-0.7847908485735925,-0.7389327805747367,0.24358444714280714,1.5261767506458273,0.06163695959046099,-0.4101352328979562,-0.09324634096394105,0.6528869126446963,0.01814734085788372,-1.3547064835577245,-0.6151383657756476,-0.028002153962266033,-1.0794710885393703,0.10420625617257966,0.0016299303751393895,0.20635200140925392,-2.233926947939479,-1.0973127325260994,-0.4408212095555347,1.22408852383261,0.13518041692760324,-0.6380915291645423,-1.0077051393357612,-0.2287842060650193,-1.4542627061984326,-0.8098208866087253,-0.023631771936152825,0.25512205354700956,-0.4367753483304965,-1.1077991003347287,1.5311400432991595,-1.2024989249956632,0.12192266114566915,0.35121591416736425,0.528914304859543,-0.04869540341544756,0.9691544110353982,-0.5742621312272939,-0.38144095937602707,2.0948824404994784,-0.2633073152560307,0.4376908561486388,-1.262068966059568,1.2029595169014162,0.6812982907014478,0.14481035473742293,-0.9025277487190613,-0.033162850514684906,-0.7212577482125213,-1.2129688234713587,0.10702847749976899,-0.5944521348825197,-0.22021650672250928,-0.08777301917765741,0.49809817622022645,-0.38138542032541234,2.2291460401740446,0.22260641858867825,-0.6572688729049547,0.21066253910388472,-1.9777342722498183,0.3060242902498709,-0.6017968715314095,1.7495494270187508,0.41260960952983505,-0.6762840831291067,1.0885603890399016,1.3670041388951435,0.4449508775116109,0.4117141563361959,-0.6129289668954218],\"type\":\"scatter\"},{\"line\":{\"color\":\"rgba(50, 171, 96, 1.0)\",\"dash\":\"solid\",\"shape\":\"linear\",\"width\":1.3},\"mode\":\"lines\",\"name\":\"C\",\"text\":\"\",\"x\":[0,1,2,3,4,5,6,7,8,9,10,11,12,13,14,15,16,17,18,19,20,21,22,23,24,25,26,27,28,29,30,31,32,33,34,35,36,37,38,39,40,41,42,43,44,45,46,47,48,49,50,51,52,53,54,55,56,57,58,59,60,61,62,63,64,65,66,67,68,69,70,71,72,73,74,75,76,77,78,79,80,81,82,83,84,85,86,87,88,89,90,91,92,93,94,95,96,97,98,99],\"y\":[-0.28087858577267105,-0.004940607057401839,-0.18230220142911813,0.2600963731552484,-2.188017212805162,-1.0898037238817064,0.8029079536160184,0.39290560201141383,-0.7824771205914149,0.09623173110212756,0.9068065372365814,-0.3989989888769911,-0.0641446346766752,-0.5345419155492223,0.32796331193357764,-0.5767538701014241,-0.10512746808304435,0.9172381947599746,-0.4472695304778123,0.7102683856385797,1.6939178797464913,2.3266870929170236,-0.20697932602210786,0.983827831881114,-2.0426268092837243,-0.4349401334944814,1.6547889256895636,-0.31154737802476706,-1.0900054140495148,-0.5300848153772204,0.02164567537324387,0.6273332422749028,-1.9773216115130865,0.6687587249854554,-0.06504102004656755,-0.34618824562897654,-0.3199115087635271,-0.4987996519933438,0.23575723882577956,0.7597754367105237,0.349048519111151,1.2015268322994783,1.2159218440959862,-0.42192591804738677,-0.8944245463342192,-0.435919363532489,1.397820879769164,-1.560418050372487,-1.1788409473597223,-0.4986100474691056,-0.6466678757707934,0.5776410340113322,-1.6148839333548723,0.6886420824906866,-0.3328314224856059,0.5363702326516426,0.6036522566095408,-1.7863633611315732,-0.3784178651278131,-0.27019072144003586,0.41899925622522255,-0.44459848135470603,0.9276848536350926,-0.05560740096298692,0.9330717802136188,0.19933373068207802,0.06307907081003797,-1.0126845508220041,-0.36590596742424647,-1.1658403037968499,-1.145026708386471,-1.4374897359308019,0.31196568286651527,-1.4022129995090378,0.43145008296749926,0.15936536072957974,0.1571961245450657,-1.3657685562718185,1.4992195393508299,0.13302405909411777,0.6900814716829894,0.4142888696248817,-0.28001864824131567,-1.2999007434589738,-0.43031486383923556,-0.9694286604561002,0.42547381984692245,0.7778766895492566,1.0116733908927231,-1.1313424765515263,-0.5505972224035046,-1.8466325055319044,-0.90990122673788,-0.5374142307935139,-0.13444784767642923,0.9257971446921365,-0.9524785152276847,0.8823242234454758,-1.1309090674165982,-1.2869116132712173],\"type\":\"scatter\"},{\"line\":{\"color\":\"rgba(128, 0, 128, 1.0)\",\"dash\":\"solid\",\"shape\":\"linear\",\"width\":1.3},\"mode\":\"lines\",\"name\":\"D\",\"text\":\"\",\"x\":[0,1,2,3,4,5,6,7,8,9,10,11,12,13,14,15,16,17,18,19,20,21,22,23,24,25,26,27,28,29,30,31,32,33,34,35,36,37,38,39,40,41,42,43,44,45,46,47,48,49,50,51,52,53,54,55,56,57,58,59,60,61,62,63,64,65,66,67,68,69,70,71,72,73,74,75,76,77,78,79,80,81,82,83,84,85,86,87,88,89,90,91,92,93,94,95,96,97,98,99],\"y\":[0.3288885223174926,-0.05362057683546842,0.6944864221692295,0.02252577433779823,0.13647546453678722,-0.10806801637002397,-0.30864646770180626,0.33901164794495464,0.060188705738250456,0.19380195170155903,-0.522348080237052,0.6193212852322433,0.04404147779042312,-0.5786956835065248,-0.9326312727624145,-1.1077031636459158,0.8222129392917609,-0.7151429012834042,-0.4076584263131162,0.380535345843578,1.9331246815616225,0.8854566533885581,0.9250097363967863,-1.2250734639959535,-2.22671463804753,-1.5742891094053724,0.978683053819982,-1.136319691015506,-1.1137441313670016,0.436318837908886,0.541594724232907,0.9779228111714007,0.606322701056323,-0.89018875312323,-1.2540749488696816,0.0036231336181717475,-0.5862125200271961,-0.5496272785954898,-1.3808661187077242,-0.41911265700373646,-0.9893833037429732,-0.02227739253879558,-1.2109051787349658,0.2187550645508682,0.29539605379224376,-0.3264467139879857,0.6011974292790989,-0.05228156116144349,0.7624832361556565,-0.6702572568013639,-0.6785139300205213,0.3011819215746909,-0.020108136336801797,-0.4087092290165143,0.00698854161160987,1.20481109831026,-2.4818274281753863,0.319098393424909,-0.9898309304204703,0.2952005681553578,0.9619370070172015,-0.40093747682141156,-0.11952508572061894,1.1081954282248092,-0.1806524932116476,0.06261944968811173,0.03225926799516013,0.41594280093698044,-0.9657416824739882,-0.04405418685657381,0.05281557500120534,-1.5455467298149086,-1.3537818294467925,0.8392875684656593,0.7571304481994662,1.0988601549471448,-0.7876598489602764,2.0604966990745828,0.5946780208209356,-0.23702779487902637,0.9058986089027272,-1.0756265998225543,-0.05533987071067795,-1.0565996076695996,1.0413939228265987,-1.2620095908721358,1.1426775965278135,0.25579441301365924,-0.4319807601407964,-0.7550353606457672,-0.05815106441335786,0.6190864775229382,0.9399911697520962,-1.4366566678480763,-0.43104599207293115,-1.073006647715606,-1.0116719874581341,-0.0044088648192909495,-0.2723208922297199,-1.4184543082935284],\"type\":\"scatter\"}],                        {\"legend\":{\"bgcolor\":\"#F5F6F9\",\"font\":{\"color\":\"#4D5663\"}},\"paper_bgcolor\":\"#F5F6F9\",\"plot_bgcolor\":\"#F5F6F9\",\"template\":{\"data\":{\"barpolar\":[{\"marker\":{\"line\":{\"color\":\"#E5ECF6\",\"width\":0.5},\"pattern\":{\"fillmode\":\"overlay\",\"size\":10,\"solidity\":0.2}},\"type\":\"barpolar\"}],\"bar\":[{\"error_x\":{\"color\":\"#2a3f5f\"},\"error_y\":{\"color\":\"#2a3f5f\"},\"marker\":{\"line\":{\"color\":\"#E5ECF6\",\"width\":0.5},\"pattern\":{\"fillmode\":\"overlay\",\"size\":10,\"solidity\":0.2}},\"type\":\"bar\"}],\"carpet\":[{\"aaxis\":{\"endlinecolor\":\"#2a3f5f\",\"gridcolor\":\"white\",\"linecolor\":\"white\",\"minorgridcolor\":\"white\",\"startlinecolor\":\"#2a3f5f\"},\"baxis\":{\"endlinecolor\":\"#2a3f5f\",\"gridcolor\":\"white\",\"linecolor\":\"white\",\"minorgridcolor\":\"white\",\"startlinecolor\":\"#2a3f5f\"},\"type\":\"carpet\"}],\"choropleth\":[{\"colorbar\":{\"outlinewidth\":0,\"ticks\":\"\"},\"type\":\"choropleth\"}],\"contourcarpet\":[{\"colorbar\":{\"outlinewidth\":0,\"ticks\":\"\"},\"type\":\"contourcarpet\"}],\"contour\":[{\"colorbar\":{\"outlinewidth\":0,\"ticks\":\"\"},\"colorscale\":[[0.0,\"#0d0887\"],[0.1111111111111111,\"#46039f\"],[0.2222222222222222,\"#7201a8\"],[0.3333333333333333,\"#9c179e\"],[0.4444444444444444,\"#bd3786\"],[0.5555555555555556,\"#d8576b\"],[0.6666666666666666,\"#ed7953\"],[0.7777777777777778,\"#fb9f3a\"],[0.8888888888888888,\"#fdca26\"],[1.0,\"#f0f921\"]],\"type\":\"contour\"}],\"heatmapgl\":[{\"colorbar\":{\"outlinewidth\":0,\"ticks\":\"\"},\"colorscale\":[[0.0,\"#0d0887\"],[0.1111111111111111,\"#46039f\"],[0.2222222222222222,\"#7201a8\"],[0.3333333333333333,\"#9c179e\"],[0.4444444444444444,\"#bd3786\"],[0.5555555555555556,\"#d8576b\"],[0.6666666666666666,\"#ed7953\"],[0.7777777777777778,\"#fb9f3a\"],[0.8888888888888888,\"#fdca26\"],[1.0,\"#f0f921\"]],\"type\":\"heatmapgl\"}],\"heatmap\":[{\"colorbar\":{\"outlinewidth\":0,\"ticks\":\"\"},\"colorscale\":[[0.0,\"#0d0887\"],[0.1111111111111111,\"#46039f\"],[0.2222222222222222,\"#7201a8\"],[0.3333333333333333,\"#9c179e\"],[0.4444444444444444,\"#bd3786\"],[0.5555555555555556,\"#d8576b\"],[0.6666666666666666,\"#ed7953\"],[0.7777777777777778,\"#fb9f3a\"],[0.8888888888888888,\"#fdca26\"],[1.0,\"#f0f921\"]],\"type\":\"heatmap\"}],\"histogram2dcontour\":[{\"colorbar\":{\"outlinewidth\":0,\"ticks\":\"\"},\"colorscale\":[[0.0,\"#0d0887\"],[0.1111111111111111,\"#46039f\"],[0.2222222222222222,\"#7201a8\"],[0.3333333333333333,\"#9c179e\"],[0.4444444444444444,\"#bd3786\"],[0.5555555555555556,\"#d8576b\"],[0.6666666666666666,\"#ed7953\"],[0.7777777777777778,\"#fb9f3a\"],[0.8888888888888888,\"#fdca26\"],[1.0,\"#f0f921\"]],\"type\":\"histogram2dcontour\"}],\"histogram2d\":[{\"colorbar\":{\"outlinewidth\":0,\"ticks\":\"\"},\"colorscale\":[[0.0,\"#0d0887\"],[0.1111111111111111,\"#46039f\"],[0.2222222222222222,\"#7201a8\"],[0.3333333333333333,\"#9c179e\"],[0.4444444444444444,\"#bd3786\"],[0.5555555555555556,\"#d8576b\"],[0.6666666666666666,\"#ed7953\"],[0.7777777777777778,\"#fb9f3a\"],[0.8888888888888888,\"#fdca26\"],[1.0,\"#f0f921\"]],\"type\":\"histogram2d\"}],\"histogram\":[{\"marker\":{\"pattern\":{\"fillmode\":\"overlay\",\"size\":10,\"solidity\":0.2}},\"type\":\"histogram\"}],\"mesh3d\":[{\"colorbar\":{\"outlinewidth\":0,\"ticks\":\"\"},\"type\":\"mesh3d\"}],\"parcoords\":[{\"line\":{\"colorbar\":{\"outlinewidth\":0,\"ticks\":\"\"}},\"type\":\"parcoords\"}],\"pie\":[{\"automargin\":true,\"type\":\"pie\"}],\"scatter3d\":[{\"line\":{\"colorbar\":{\"outlinewidth\":0,\"ticks\":\"\"}},\"marker\":{\"colorbar\":{\"outlinewidth\":0,\"ticks\":\"\"}},\"type\":\"scatter3d\"}],\"scattercarpet\":[{\"marker\":{\"colorbar\":{\"outlinewidth\":0,\"ticks\":\"\"}},\"type\":\"scattercarpet\"}],\"scattergeo\":[{\"marker\":{\"colorbar\":{\"outlinewidth\":0,\"ticks\":\"\"}},\"type\":\"scattergeo\"}],\"scattergl\":[{\"marker\":{\"colorbar\":{\"outlinewidth\":0,\"ticks\":\"\"}},\"type\":\"scattergl\"}],\"scattermapbox\":[{\"marker\":{\"colorbar\":{\"outlinewidth\":0,\"ticks\":\"\"}},\"type\":\"scattermapbox\"}],\"scatterpolargl\":[{\"marker\":{\"colorbar\":{\"outlinewidth\":0,\"ticks\":\"\"}},\"type\":\"scatterpolargl\"}],\"scatterpolar\":[{\"marker\":{\"colorbar\":{\"outlinewidth\":0,\"ticks\":\"\"}},\"type\":\"scatterpolar\"}],\"scatter\":[{\"marker\":{\"colorbar\":{\"outlinewidth\":0,\"ticks\":\"\"}},\"type\":\"scatter\"}],\"scatterternary\":[{\"marker\":{\"colorbar\":{\"outlinewidth\":0,\"ticks\":\"\"}},\"type\":\"scatterternary\"}],\"surface\":[{\"colorbar\":{\"outlinewidth\":0,\"ticks\":\"\"},\"colorscale\":[[0.0,\"#0d0887\"],[0.1111111111111111,\"#46039f\"],[0.2222222222222222,\"#7201a8\"],[0.3333333333333333,\"#9c179e\"],[0.4444444444444444,\"#bd3786\"],[0.5555555555555556,\"#d8576b\"],[0.6666666666666666,\"#ed7953\"],[0.7777777777777778,\"#fb9f3a\"],[0.8888888888888888,\"#fdca26\"],[1.0,\"#f0f921\"]],\"type\":\"surface\"}],\"table\":[{\"cells\":{\"fill\":{\"color\":\"#EBF0F8\"},\"line\":{\"color\":\"white\"}},\"header\":{\"fill\":{\"color\":\"#C8D4E3\"},\"line\":{\"color\":\"white\"}},\"type\":\"table\"}]},\"layout\":{\"annotationdefaults\":{\"arrowcolor\":\"#2a3f5f\",\"arrowhead\":0,\"arrowwidth\":1},\"autotypenumbers\":\"strict\",\"coloraxis\":{\"colorbar\":{\"outlinewidth\":0,\"ticks\":\"\"}},\"colorscale\":{\"diverging\":[[0,\"#8e0152\"],[0.1,\"#c51b7d\"],[0.2,\"#de77ae\"],[0.3,\"#f1b6da\"],[0.4,\"#fde0ef\"],[0.5,\"#f7f7f7\"],[0.6,\"#e6f5d0\"],[0.7,\"#b8e186\"],[0.8,\"#7fbc41\"],[0.9,\"#4d9221\"],[1,\"#276419\"]],\"sequential\":[[0.0,\"#0d0887\"],[0.1111111111111111,\"#46039f\"],[0.2222222222222222,\"#7201a8\"],[0.3333333333333333,\"#9c179e\"],[0.4444444444444444,\"#bd3786\"],[0.5555555555555556,\"#d8576b\"],[0.6666666666666666,\"#ed7953\"],[0.7777777777777778,\"#fb9f3a\"],[0.8888888888888888,\"#fdca26\"],[1.0,\"#f0f921\"]],\"sequentialminus\":[[0.0,\"#0d0887\"],[0.1111111111111111,\"#46039f\"],[0.2222222222222222,\"#7201a8\"],[0.3333333333333333,\"#9c179e\"],[0.4444444444444444,\"#bd3786\"],[0.5555555555555556,\"#d8576b\"],[0.6666666666666666,\"#ed7953\"],[0.7777777777777778,\"#fb9f3a\"],[0.8888888888888888,\"#fdca26\"],[1.0,\"#f0f921\"]]},\"colorway\":[\"#636efa\",\"#EF553B\",\"#00cc96\",\"#ab63fa\",\"#FFA15A\",\"#19d3f3\",\"#FF6692\",\"#B6E880\",\"#FF97FF\",\"#FECB52\"],\"font\":{\"color\":\"#2a3f5f\"},\"geo\":{\"bgcolor\":\"white\",\"lakecolor\":\"white\",\"landcolor\":\"#E5ECF6\",\"showlakes\":true,\"showland\":true,\"subunitcolor\":\"white\"},\"hoverlabel\":{\"align\":\"left\"},\"hovermode\":\"closest\",\"mapbox\":{\"style\":\"light\"},\"paper_bgcolor\":\"white\",\"plot_bgcolor\":\"#E5ECF6\",\"polar\":{\"angularaxis\":{\"gridcolor\":\"white\",\"linecolor\":\"white\",\"ticks\":\"\"},\"bgcolor\":\"#E5ECF6\",\"radialaxis\":{\"gridcolor\":\"white\",\"linecolor\":\"white\",\"ticks\":\"\"}},\"scene\":{\"xaxis\":{\"backgroundcolor\":\"#E5ECF6\",\"gridcolor\":\"white\",\"gridwidth\":2,\"linecolor\":\"white\",\"showbackground\":true,\"ticks\":\"\",\"zerolinecolor\":\"white\"},\"yaxis\":{\"backgroundcolor\":\"#E5ECF6\",\"gridcolor\":\"white\",\"gridwidth\":2,\"linecolor\":\"white\",\"showbackground\":true,\"ticks\":\"\",\"zerolinecolor\":\"white\"},\"zaxis\":{\"backgroundcolor\":\"#E5ECF6\",\"gridcolor\":\"white\",\"gridwidth\":2,\"linecolor\":\"white\",\"showbackground\":true,\"ticks\":\"\",\"zerolinecolor\":\"white\"}},\"shapedefaults\":{\"line\":{\"color\":\"#2a3f5f\"}},\"ternary\":{\"aaxis\":{\"gridcolor\":\"white\",\"linecolor\":\"white\",\"ticks\":\"\"},\"baxis\":{\"gridcolor\":\"white\",\"linecolor\":\"white\",\"ticks\":\"\"},\"bgcolor\":\"#E5ECF6\",\"caxis\":{\"gridcolor\":\"white\",\"linecolor\":\"white\",\"ticks\":\"\"}},\"title\":{\"x\":0.05},\"xaxis\":{\"automargin\":true,\"gridcolor\":\"white\",\"linecolor\":\"white\",\"ticks\":\"\",\"title\":{\"standoff\":15},\"zerolinecolor\":\"white\",\"zerolinewidth\":2},\"yaxis\":{\"automargin\":true,\"gridcolor\":\"white\",\"linecolor\":\"white\",\"ticks\":\"\",\"title\":{\"standoff\":15},\"zerolinecolor\":\"white\",\"zerolinewidth\":2}}},\"title\":{\"font\":{\"color\":\"#4D5663\"}},\"xaxis\":{\"gridcolor\":\"#E1E5ED\",\"showgrid\":true,\"tickfont\":{\"color\":\"#4D5663\"},\"title\":{\"font\":{\"color\":\"#4D5663\"},\"text\":\"\"},\"zerolinecolor\":\"#E1E5ED\"},\"yaxis\":{\"gridcolor\":\"#E1E5ED\",\"showgrid\":true,\"tickfont\":{\"color\":\"#4D5663\"},\"title\":{\"font\":{\"color\":\"#4D5663\"},\"text\":\"\"},\"zerolinecolor\":\"#E1E5ED\"}},                        {\"showLink\": true, \"linkText\": \"Export to plot.ly\", \"plotlyServerURL\": \"https://plot.ly\", \"responsive\": true}                    ).then(function(){\n",
       "                            \n",
       "var gd = document.getElementById('33b14733-fe6a-4389-b58b-ab997ad8247d');\n",
       "var x = new MutationObserver(function (mutations, observer) {{\n",
       "        var display = window.getComputedStyle(gd).display;\n",
       "        if (!display || display === 'none') {{\n",
       "            console.log([gd, 'removed!']);\n",
       "            Plotly.purge(gd);\n",
       "            observer.disconnect();\n",
       "        }}\n",
       "}});\n",
       "\n",
       "// Listen for the removal of the full notebook cells\n",
       "var notebookContainer = gd.closest('#notebook-container');\n",
       "if (notebookContainer) {{\n",
       "    x.observe(notebookContainer, {childList: true});\n",
       "}}\n",
       "\n",
       "// Listen for the clearing of the current output cell\n",
       "var outputEl = gd.closest('.output');\n",
       "if (outputEl) {{\n",
       "    x.observe(outputEl, {childList: true});\n",
       "}}\n",
       "\n",
       "                        })                };                });            </script>        </div>"
      ]
     },
     "metadata": {},
     "output_type": "display_data"
    }
   ],
   "source": [
    "df.iplot()"
   ]
  },
  {
   "cell_type": "markdown",
   "metadata": {},
   "source": [
    "#### Scatterplot"
   ]
  },
  {
   "cell_type": "code",
   "execution_count": 23,
   "metadata": {},
   "outputs": [
    {
     "data": {
      "application/vnd.plotly.v1+json": {
       "config": {
        "linkText": "Export to plot.ly",
        "plotlyServerURL": "https://plot.ly",
        "showLink": true
       },
       "data": [
        {
         "line": {
          "color": "rgba(255, 153, 51, 1.0)",
          "dash": "solid",
          "shape": "linear",
          "width": 1.3
         },
         "marker": {
          "size": 20,
          "symbol": "circle"
         },
         "mode": "markers",
         "name": "B",
         "text": "",
         "type": "scatter",
         "x": [
          -0.19028147001615417,
          0.3282365234795369,
          1.1399229516160017,
          -1.5285412750999146,
          -0.24886967751150038,
          0.2516245509136745,
          1.0322355236009921,
          0.11599439899823132,
          -0.08552299190870857,
          -0.392599667290996,
          1.0483873911059238,
          -1.3672086527525584,
          -1.2953691663834808,
          -0.37398870480107765,
          0.16094578705735657,
          0.698636684971462,
          1.5186664839892636,
          -0.3023573194571271,
          0.16832675647100329,
          0.19054539363793585,
          -0.05607139243232748,
          2.49434793378773,
          -0.530066327400534,
          0.8770350482674139,
          0.813057708391379,
          0.29820305701467675,
          0.4091606649710951,
          -0.07901188676813516,
          -0.32164633372494433,
          0.9816522229170433,
          0.6776451608653729,
          -0.8353341427637865,
          1.4655636349628942,
          2.00973210510375,
          0.34269433539070104,
          0.6002392765015414,
          0.7117390891406551,
          1.0592117801719485,
          0.7228041981165503,
          -0.8736465721312067,
          0.5676459790026085,
          0.3946690709293932,
          1.1159103925968208,
          -1.3623917634657412,
          0.6708499442787056,
          2.7667695870284845,
          0.7208184734528509,
          -0.5012612586998206,
          -1.1208824336937548,
          0.08310983627321097,
          1.4675574284440516,
          1.2532790994123408,
          0.007306638487820633,
          -0.8858137066431648,
          0.6242810094285595,
          -1.204652301395593,
          -1.1592080495946446,
          -0.8345983358790608,
          -0.7876304667169377,
          0.2226800879806531,
          0.4415686839563639,
          -0.269932602749613,
          -1.203764434204222,
          0.2411069726838896,
          -0.09951908368939481,
          -1.2286268384318006,
          0.9640396290879625,
          2.533865804668992,
          0.6363573751229564,
          0.6472031726814976,
          0.3660259455013826,
          0.9127612805233639,
          0.17883708005765753,
          -0.7077382719243921,
          -0.30885550649166293,
          1.327815639824272,
          -1.0254221405341721,
          -0.9383686643953827,
          -0.09071737066338419,
          0.6334847841474687,
          0.3071825571559436,
          -0.4857262165088668,
          -0.016132326632023995,
          0.5396152536884207,
          1.2850769796729489,
          -0.09184295300134171,
          0.6230902035502993,
          -0.28510111886218,
          0.963559438496964,
          1.7301036427052279,
          -0.23999086747889203,
          -0.6634015983510081,
          0.3389483473977393,
          1.3015088526277432,
          0.2801083119723154,
          -1.0717367219346814,
          0.6430291779034134,
          1.0587542570407236,
          -1.8666690899056997,
          0.19629610393134483
         ],
         "y": [
          -0.8078877810272339,
          -0.6448885204384242,
          -0.7455902419946399,
          -1.3050276821950197,
          0.5003808807272312,
          -0.2544095597272951,
          -1.3513709895354138,
          -2.5602738161529337,
          1.8961054211952009,
          1.7143645670390613,
          0.38789704551642606,
          -0.43216641964758024,
          -0.121487555297366,
          0.4886943348247054,
          -0.531024084846558,
          1.019974525402949,
          -1.1265502671384462,
          -0.11944479093297246,
          0.07992209285850868,
          0.35694133719785076,
          1.5133316673425885,
          0.9526731400979774,
          2.1783088334956022,
          -0.5359561007282527,
          0.3879712182730429,
          -0.5599572053329858,
          0.7535131619955537,
          0.1737238244194225,
          -0.1398249931343527,
          -0.7847908485735925,
          -0.7389327805747367,
          0.24358444714280714,
          1.5261767506458273,
          0.06163695959046099,
          -0.4101352328979562,
          -0.09324634096394105,
          0.6528869126446963,
          0.01814734085788372,
          -1.3547064835577245,
          -0.6151383657756476,
          -0.028002153962266033,
          -1.0794710885393703,
          0.10420625617257966,
          0.0016299303751393895,
          0.20635200140925392,
          -2.233926947939479,
          -1.0973127325260994,
          -0.4408212095555347,
          1.22408852383261,
          0.13518041692760324,
          -0.6380915291645423,
          -1.0077051393357612,
          -0.2287842060650193,
          -1.4542627061984326,
          -0.8098208866087253,
          -0.023631771936152825,
          0.25512205354700956,
          -0.4367753483304965,
          -1.1077991003347287,
          1.5311400432991595,
          -1.2024989249956632,
          0.12192266114566915,
          0.35121591416736425,
          0.528914304859543,
          -0.04869540341544756,
          0.9691544110353982,
          -0.5742621312272939,
          -0.38144095937602707,
          2.0948824404994784,
          -0.2633073152560307,
          0.4376908561486388,
          -1.262068966059568,
          1.2029595169014162,
          0.6812982907014478,
          0.14481035473742293,
          -0.9025277487190613,
          -0.033162850514684906,
          -0.7212577482125213,
          -1.2129688234713587,
          0.10702847749976899,
          -0.5944521348825197,
          -0.22021650672250928,
          -0.08777301917765741,
          0.49809817622022645,
          -0.38138542032541234,
          2.2291460401740446,
          0.22260641858867825,
          -0.6572688729049547,
          0.21066253910388472,
          -1.9777342722498183,
          0.3060242902498709,
          -0.6017968715314095,
          1.7495494270187508,
          0.41260960952983505,
          -0.6762840831291067,
          1.0885603890399016,
          1.3670041388951435,
          0.4449508775116109,
          0.4117141563361959,
          -0.6129289668954218
         ]
        }
       ],
       "layout": {
        "legend": {
         "bgcolor": "#F5F6F9",
         "font": {
          "color": "#4D5663"
         }
        },
        "paper_bgcolor": "#F5F6F9",
        "plot_bgcolor": "#F5F6F9",
        "template": {
         "data": {
          "bar": [
           {
            "error_x": {
             "color": "#2a3f5f"
            },
            "error_y": {
             "color": "#2a3f5f"
            },
            "marker": {
             "line": {
              "color": "#E5ECF6",
              "width": 0.5
             },
             "pattern": {
              "fillmode": "overlay",
              "size": 10,
              "solidity": 0.2
             }
            },
            "type": "bar"
           }
          ],
          "barpolar": [
           {
            "marker": {
             "line": {
              "color": "#E5ECF6",
              "width": 0.5
             },
             "pattern": {
              "fillmode": "overlay",
              "size": 10,
              "solidity": 0.2
             }
            },
            "type": "barpolar"
           }
          ],
          "carpet": [
           {
            "aaxis": {
             "endlinecolor": "#2a3f5f",
             "gridcolor": "white",
             "linecolor": "white",
             "minorgridcolor": "white",
             "startlinecolor": "#2a3f5f"
            },
            "baxis": {
             "endlinecolor": "#2a3f5f",
             "gridcolor": "white",
             "linecolor": "white",
             "minorgridcolor": "white",
             "startlinecolor": "#2a3f5f"
            },
            "type": "carpet"
           }
          ],
          "choropleth": [
           {
            "colorbar": {
             "outlinewidth": 0,
             "ticks": ""
            },
            "type": "choropleth"
           }
          ],
          "contour": [
           {
            "colorbar": {
             "outlinewidth": 0,
             "ticks": ""
            },
            "colorscale": [
             [
              0,
              "#0d0887"
             ],
             [
              0.1111111111111111,
              "#46039f"
             ],
             [
              0.2222222222222222,
              "#7201a8"
             ],
             [
              0.3333333333333333,
              "#9c179e"
             ],
             [
              0.4444444444444444,
              "#bd3786"
             ],
             [
              0.5555555555555556,
              "#d8576b"
             ],
             [
              0.6666666666666666,
              "#ed7953"
             ],
             [
              0.7777777777777778,
              "#fb9f3a"
             ],
             [
              0.8888888888888888,
              "#fdca26"
             ],
             [
              1,
              "#f0f921"
             ]
            ],
            "type": "contour"
           }
          ],
          "contourcarpet": [
           {
            "colorbar": {
             "outlinewidth": 0,
             "ticks": ""
            },
            "type": "contourcarpet"
           }
          ],
          "heatmap": [
           {
            "colorbar": {
             "outlinewidth": 0,
             "ticks": ""
            },
            "colorscale": [
             [
              0,
              "#0d0887"
             ],
             [
              0.1111111111111111,
              "#46039f"
             ],
             [
              0.2222222222222222,
              "#7201a8"
             ],
             [
              0.3333333333333333,
              "#9c179e"
             ],
             [
              0.4444444444444444,
              "#bd3786"
             ],
             [
              0.5555555555555556,
              "#d8576b"
             ],
             [
              0.6666666666666666,
              "#ed7953"
             ],
             [
              0.7777777777777778,
              "#fb9f3a"
             ],
             [
              0.8888888888888888,
              "#fdca26"
             ],
             [
              1,
              "#f0f921"
             ]
            ],
            "type": "heatmap"
           }
          ],
          "heatmapgl": [
           {
            "colorbar": {
             "outlinewidth": 0,
             "ticks": ""
            },
            "colorscale": [
             [
              0,
              "#0d0887"
             ],
             [
              0.1111111111111111,
              "#46039f"
             ],
             [
              0.2222222222222222,
              "#7201a8"
             ],
             [
              0.3333333333333333,
              "#9c179e"
             ],
             [
              0.4444444444444444,
              "#bd3786"
             ],
             [
              0.5555555555555556,
              "#d8576b"
             ],
             [
              0.6666666666666666,
              "#ed7953"
             ],
             [
              0.7777777777777778,
              "#fb9f3a"
             ],
             [
              0.8888888888888888,
              "#fdca26"
             ],
             [
              1,
              "#f0f921"
             ]
            ],
            "type": "heatmapgl"
           }
          ],
          "histogram": [
           {
            "marker": {
             "pattern": {
              "fillmode": "overlay",
              "size": 10,
              "solidity": 0.2
             }
            },
            "type": "histogram"
           }
          ],
          "histogram2d": [
           {
            "colorbar": {
             "outlinewidth": 0,
             "ticks": ""
            },
            "colorscale": [
             [
              0,
              "#0d0887"
             ],
             [
              0.1111111111111111,
              "#46039f"
             ],
             [
              0.2222222222222222,
              "#7201a8"
             ],
             [
              0.3333333333333333,
              "#9c179e"
             ],
             [
              0.4444444444444444,
              "#bd3786"
             ],
             [
              0.5555555555555556,
              "#d8576b"
             ],
             [
              0.6666666666666666,
              "#ed7953"
             ],
             [
              0.7777777777777778,
              "#fb9f3a"
             ],
             [
              0.8888888888888888,
              "#fdca26"
             ],
             [
              1,
              "#f0f921"
             ]
            ],
            "type": "histogram2d"
           }
          ],
          "histogram2dcontour": [
           {
            "colorbar": {
             "outlinewidth": 0,
             "ticks": ""
            },
            "colorscale": [
             [
              0,
              "#0d0887"
             ],
             [
              0.1111111111111111,
              "#46039f"
             ],
             [
              0.2222222222222222,
              "#7201a8"
             ],
             [
              0.3333333333333333,
              "#9c179e"
             ],
             [
              0.4444444444444444,
              "#bd3786"
             ],
             [
              0.5555555555555556,
              "#d8576b"
             ],
             [
              0.6666666666666666,
              "#ed7953"
             ],
             [
              0.7777777777777778,
              "#fb9f3a"
             ],
             [
              0.8888888888888888,
              "#fdca26"
             ],
             [
              1,
              "#f0f921"
             ]
            ],
            "type": "histogram2dcontour"
           }
          ],
          "mesh3d": [
           {
            "colorbar": {
             "outlinewidth": 0,
             "ticks": ""
            },
            "type": "mesh3d"
           }
          ],
          "parcoords": [
           {
            "line": {
             "colorbar": {
              "outlinewidth": 0,
              "ticks": ""
             }
            },
            "type": "parcoords"
           }
          ],
          "pie": [
           {
            "automargin": true,
            "type": "pie"
           }
          ],
          "scatter": [
           {
            "marker": {
             "colorbar": {
              "outlinewidth": 0,
              "ticks": ""
             }
            },
            "type": "scatter"
           }
          ],
          "scatter3d": [
           {
            "line": {
             "colorbar": {
              "outlinewidth": 0,
              "ticks": ""
             }
            },
            "marker": {
             "colorbar": {
              "outlinewidth": 0,
              "ticks": ""
             }
            },
            "type": "scatter3d"
           }
          ],
          "scattercarpet": [
           {
            "marker": {
             "colorbar": {
              "outlinewidth": 0,
              "ticks": ""
             }
            },
            "type": "scattercarpet"
           }
          ],
          "scattergeo": [
           {
            "marker": {
             "colorbar": {
              "outlinewidth": 0,
              "ticks": ""
             }
            },
            "type": "scattergeo"
           }
          ],
          "scattergl": [
           {
            "marker": {
             "colorbar": {
              "outlinewidth": 0,
              "ticks": ""
             }
            },
            "type": "scattergl"
           }
          ],
          "scattermapbox": [
           {
            "marker": {
             "colorbar": {
              "outlinewidth": 0,
              "ticks": ""
             }
            },
            "type": "scattermapbox"
           }
          ],
          "scatterpolar": [
           {
            "marker": {
             "colorbar": {
              "outlinewidth": 0,
              "ticks": ""
             }
            },
            "type": "scatterpolar"
           }
          ],
          "scatterpolargl": [
           {
            "marker": {
             "colorbar": {
              "outlinewidth": 0,
              "ticks": ""
             }
            },
            "type": "scatterpolargl"
           }
          ],
          "scatterternary": [
           {
            "marker": {
             "colorbar": {
              "outlinewidth": 0,
              "ticks": ""
             }
            },
            "type": "scatterternary"
           }
          ],
          "surface": [
           {
            "colorbar": {
             "outlinewidth": 0,
             "ticks": ""
            },
            "colorscale": [
             [
              0,
              "#0d0887"
             ],
             [
              0.1111111111111111,
              "#46039f"
             ],
             [
              0.2222222222222222,
              "#7201a8"
             ],
             [
              0.3333333333333333,
              "#9c179e"
             ],
             [
              0.4444444444444444,
              "#bd3786"
             ],
             [
              0.5555555555555556,
              "#d8576b"
             ],
             [
              0.6666666666666666,
              "#ed7953"
             ],
             [
              0.7777777777777778,
              "#fb9f3a"
             ],
             [
              0.8888888888888888,
              "#fdca26"
             ],
             [
              1,
              "#f0f921"
             ]
            ],
            "type": "surface"
           }
          ],
          "table": [
           {
            "cells": {
             "fill": {
              "color": "#EBF0F8"
             },
             "line": {
              "color": "white"
             }
            },
            "header": {
             "fill": {
              "color": "#C8D4E3"
             },
             "line": {
              "color": "white"
             }
            },
            "type": "table"
           }
          ]
         },
         "layout": {
          "annotationdefaults": {
           "arrowcolor": "#2a3f5f",
           "arrowhead": 0,
           "arrowwidth": 1
          },
          "autotypenumbers": "strict",
          "coloraxis": {
           "colorbar": {
            "outlinewidth": 0,
            "ticks": ""
           }
          },
          "colorscale": {
           "diverging": [
            [
             0,
             "#8e0152"
            ],
            [
             0.1,
             "#c51b7d"
            ],
            [
             0.2,
             "#de77ae"
            ],
            [
             0.3,
             "#f1b6da"
            ],
            [
             0.4,
             "#fde0ef"
            ],
            [
             0.5,
             "#f7f7f7"
            ],
            [
             0.6,
             "#e6f5d0"
            ],
            [
             0.7,
             "#b8e186"
            ],
            [
             0.8,
             "#7fbc41"
            ],
            [
             0.9,
             "#4d9221"
            ],
            [
             1,
             "#276419"
            ]
           ],
           "sequential": [
            [
             0,
             "#0d0887"
            ],
            [
             0.1111111111111111,
             "#46039f"
            ],
            [
             0.2222222222222222,
             "#7201a8"
            ],
            [
             0.3333333333333333,
             "#9c179e"
            ],
            [
             0.4444444444444444,
             "#bd3786"
            ],
            [
             0.5555555555555556,
             "#d8576b"
            ],
            [
             0.6666666666666666,
             "#ed7953"
            ],
            [
             0.7777777777777778,
             "#fb9f3a"
            ],
            [
             0.8888888888888888,
             "#fdca26"
            ],
            [
             1,
             "#f0f921"
            ]
           ],
           "sequentialminus": [
            [
             0,
             "#0d0887"
            ],
            [
             0.1111111111111111,
             "#46039f"
            ],
            [
             0.2222222222222222,
             "#7201a8"
            ],
            [
             0.3333333333333333,
             "#9c179e"
            ],
            [
             0.4444444444444444,
             "#bd3786"
            ],
            [
             0.5555555555555556,
             "#d8576b"
            ],
            [
             0.6666666666666666,
             "#ed7953"
            ],
            [
             0.7777777777777778,
             "#fb9f3a"
            ],
            [
             0.8888888888888888,
             "#fdca26"
            ],
            [
             1,
             "#f0f921"
            ]
           ]
          },
          "colorway": [
           "#636efa",
           "#EF553B",
           "#00cc96",
           "#ab63fa",
           "#FFA15A",
           "#19d3f3",
           "#FF6692",
           "#B6E880",
           "#FF97FF",
           "#FECB52"
          ],
          "font": {
           "color": "#2a3f5f"
          },
          "geo": {
           "bgcolor": "white",
           "lakecolor": "white",
           "landcolor": "#E5ECF6",
           "showlakes": true,
           "showland": true,
           "subunitcolor": "white"
          },
          "hoverlabel": {
           "align": "left"
          },
          "hovermode": "closest",
          "mapbox": {
           "style": "light"
          },
          "paper_bgcolor": "white",
          "plot_bgcolor": "#E5ECF6",
          "polar": {
           "angularaxis": {
            "gridcolor": "white",
            "linecolor": "white",
            "ticks": ""
           },
           "bgcolor": "#E5ECF6",
           "radialaxis": {
            "gridcolor": "white",
            "linecolor": "white",
            "ticks": ""
           }
          },
          "scene": {
           "xaxis": {
            "backgroundcolor": "#E5ECF6",
            "gridcolor": "white",
            "gridwidth": 2,
            "linecolor": "white",
            "showbackground": true,
            "ticks": "",
            "zerolinecolor": "white"
           },
           "yaxis": {
            "backgroundcolor": "#E5ECF6",
            "gridcolor": "white",
            "gridwidth": 2,
            "linecolor": "white",
            "showbackground": true,
            "ticks": "",
            "zerolinecolor": "white"
           },
           "zaxis": {
            "backgroundcolor": "#E5ECF6",
            "gridcolor": "white",
            "gridwidth": 2,
            "linecolor": "white",
            "showbackground": true,
            "ticks": "",
            "zerolinecolor": "white"
           }
          },
          "shapedefaults": {
           "line": {
            "color": "#2a3f5f"
           }
          },
          "ternary": {
           "aaxis": {
            "gridcolor": "white",
            "linecolor": "white",
            "ticks": ""
           },
           "baxis": {
            "gridcolor": "white",
            "linecolor": "white",
            "ticks": ""
           },
           "bgcolor": "#E5ECF6",
           "caxis": {
            "gridcolor": "white",
            "linecolor": "white",
            "ticks": ""
           }
          },
          "title": {
           "x": 0.05
          },
          "xaxis": {
           "automargin": true,
           "gridcolor": "white",
           "linecolor": "white",
           "ticks": "",
           "title": {
            "standoff": 15
           },
           "zerolinecolor": "white",
           "zerolinewidth": 2
          },
          "yaxis": {
           "automargin": true,
           "gridcolor": "white",
           "linecolor": "white",
           "ticks": "",
           "title": {
            "standoff": 15
           },
           "zerolinecolor": "white",
           "zerolinewidth": 2
          }
         }
        },
        "title": {
         "font": {
          "color": "#4D5663"
         }
        },
        "xaxis": {
         "gridcolor": "#E1E5ED",
         "showgrid": true,
         "tickfont": {
          "color": "#4D5663"
         },
         "title": {
          "font": {
           "color": "#4D5663"
          },
          "text": ""
         },
         "zerolinecolor": "#E1E5ED"
        },
        "yaxis": {
         "gridcolor": "#E1E5ED",
         "showgrid": true,
         "tickfont": {
          "color": "#4D5663"
         },
         "title": {
          "font": {
           "color": "#4D5663"
          },
          "text": ""
         },
         "zerolinecolor": "#E1E5ED"
        }
       }
      },
      "text/html": [
       "<div>                            <div id=\"afc68423-189f-4110-a361-63da7296f4c2\" class=\"plotly-graph-div\" style=\"height:525px; width:100%;\"></div>            <script type=\"text/javascript\">                require([\"plotly\"], function(Plotly) {                    window.PLOTLYENV=window.PLOTLYENV || {};\n",
       "                    window.PLOTLYENV.BASE_URL='https://plot.ly';                                    if (document.getElementById(\"afc68423-189f-4110-a361-63da7296f4c2\")) {                    Plotly.newPlot(                        \"afc68423-189f-4110-a361-63da7296f4c2\",                        [{\"line\":{\"color\":\"rgba(255, 153, 51, 1.0)\",\"dash\":\"solid\",\"shape\":\"linear\",\"width\":1.3},\"marker\":{\"size\":20,\"symbol\":\"circle\"},\"mode\":\"markers\",\"name\":\"B\",\"text\":\"\",\"x\":[-0.19028147001615417,0.3282365234795369,1.1399229516160017,-1.5285412750999146,-0.24886967751150038,0.2516245509136745,1.0322355236009921,0.11599439899823132,-0.08552299190870857,-0.392599667290996,1.0483873911059238,-1.3672086527525584,-1.2953691663834808,-0.37398870480107765,0.16094578705735657,0.698636684971462,1.5186664839892636,-0.3023573194571271,0.16832675647100329,0.19054539363793585,-0.05607139243232748,2.49434793378773,-0.530066327400534,0.8770350482674139,0.813057708391379,0.29820305701467675,0.4091606649710951,-0.07901188676813516,-0.32164633372494433,0.9816522229170433,0.6776451608653729,-0.8353341427637865,1.4655636349628942,2.00973210510375,0.34269433539070104,0.6002392765015414,0.7117390891406551,1.0592117801719485,0.7228041981165503,-0.8736465721312067,0.5676459790026085,0.3946690709293932,1.1159103925968208,-1.3623917634657412,0.6708499442787056,2.7667695870284845,0.7208184734528509,-0.5012612586998206,-1.1208824336937548,0.08310983627321097,1.4675574284440516,1.2532790994123408,0.007306638487820633,-0.8858137066431648,0.6242810094285595,-1.204652301395593,-1.1592080495946446,-0.8345983358790608,-0.7876304667169377,0.2226800879806531,0.4415686839563639,-0.269932602749613,-1.203764434204222,0.2411069726838896,-0.09951908368939481,-1.2286268384318006,0.9640396290879625,2.533865804668992,0.6363573751229564,0.6472031726814976,0.3660259455013826,0.9127612805233639,0.17883708005765753,-0.7077382719243921,-0.30885550649166293,1.327815639824272,-1.0254221405341721,-0.9383686643953827,-0.09071737066338419,0.6334847841474687,0.3071825571559436,-0.4857262165088668,-0.016132326632023995,0.5396152536884207,1.2850769796729489,-0.09184295300134171,0.6230902035502993,-0.28510111886218,0.963559438496964,1.7301036427052279,-0.23999086747889203,-0.6634015983510081,0.3389483473977393,1.3015088526277432,0.2801083119723154,-1.0717367219346814,0.6430291779034134,1.0587542570407236,-1.8666690899056997,0.19629610393134483],\"y\":[-0.8078877810272339,-0.6448885204384242,-0.7455902419946399,-1.3050276821950197,0.5003808807272312,-0.2544095597272951,-1.3513709895354138,-2.5602738161529337,1.8961054211952009,1.7143645670390613,0.38789704551642606,-0.43216641964758024,-0.121487555297366,0.4886943348247054,-0.531024084846558,1.019974525402949,-1.1265502671384462,-0.11944479093297246,0.07992209285850868,0.35694133719785076,1.5133316673425885,0.9526731400979774,2.1783088334956022,-0.5359561007282527,0.3879712182730429,-0.5599572053329858,0.7535131619955537,0.1737238244194225,-0.1398249931343527,-0.7847908485735925,-0.7389327805747367,0.24358444714280714,1.5261767506458273,0.06163695959046099,-0.4101352328979562,-0.09324634096394105,0.6528869126446963,0.01814734085788372,-1.3547064835577245,-0.6151383657756476,-0.028002153962266033,-1.0794710885393703,0.10420625617257966,0.0016299303751393895,0.20635200140925392,-2.233926947939479,-1.0973127325260994,-0.4408212095555347,1.22408852383261,0.13518041692760324,-0.6380915291645423,-1.0077051393357612,-0.2287842060650193,-1.4542627061984326,-0.8098208866087253,-0.023631771936152825,0.25512205354700956,-0.4367753483304965,-1.1077991003347287,1.5311400432991595,-1.2024989249956632,0.12192266114566915,0.35121591416736425,0.528914304859543,-0.04869540341544756,0.9691544110353982,-0.5742621312272939,-0.38144095937602707,2.0948824404994784,-0.2633073152560307,0.4376908561486388,-1.262068966059568,1.2029595169014162,0.6812982907014478,0.14481035473742293,-0.9025277487190613,-0.033162850514684906,-0.7212577482125213,-1.2129688234713587,0.10702847749976899,-0.5944521348825197,-0.22021650672250928,-0.08777301917765741,0.49809817622022645,-0.38138542032541234,2.2291460401740446,0.22260641858867825,-0.6572688729049547,0.21066253910388472,-1.9777342722498183,0.3060242902498709,-0.6017968715314095,1.7495494270187508,0.41260960952983505,-0.6762840831291067,1.0885603890399016,1.3670041388951435,0.4449508775116109,0.4117141563361959,-0.6129289668954218],\"type\":\"scatter\"}],                        {\"legend\":{\"bgcolor\":\"#F5F6F9\",\"font\":{\"color\":\"#4D5663\"}},\"paper_bgcolor\":\"#F5F6F9\",\"plot_bgcolor\":\"#F5F6F9\",\"template\":{\"data\":{\"barpolar\":[{\"marker\":{\"line\":{\"color\":\"#E5ECF6\",\"width\":0.5},\"pattern\":{\"fillmode\":\"overlay\",\"size\":10,\"solidity\":0.2}},\"type\":\"barpolar\"}],\"bar\":[{\"error_x\":{\"color\":\"#2a3f5f\"},\"error_y\":{\"color\":\"#2a3f5f\"},\"marker\":{\"line\":{\"color\":\"#E5ECF6\",\"width\":0.5},\"pattern\":{\"fillmode\":\"overlay\",\"size\":10,\"solidity\":0.2}},\"type\":\"bar\"}],\"carpet\":[{\"aaxis\":{\"endlinecolor\":\"#2a3f5f\",\"gridcolor\":\"white\",\"linecolor\":\"white\",\"minorgridcolor\":\"white\",\"startlinecolor\":\"#2a3f5f\"},\"baxis\":{\"endlinecolor\":\"#2a3f5f\",\"gridcolor\":\"white\",\"linecolor\":\"white\",\"minorgridcolor\":\"white\",\"startlinecolor\":\"#2a3f5f\"},\"type\":\"carpet\"}],\"choropleth\":[{\"colorbar\":{\"outlinewidth\":0,\"ticks\":\"\"},\"type\":\"choropleth\"}],\"contourcarpet\":[{\"colorbar\":{\"outlinewidth\":0,\"ticks\":\"\"},\"type\":\"contourcarpet\"}],\"contour\":[{\"colorbar\":{\"outlinewidth\":0,\"ticks\":\"\"},\"colorscale\":[[0.0,\"#0d0887\"],[0.1111111111111111,\"#46039f\"],[0.2222222222222222,\"#7201a8\"],[0.3333333333333333,\"#9c179e\"],[0.4444444444444444,\"#bd3786\"],[0.5555555555555556,\"#d8576b\"],[0.6666666666666666,\"#ed7953\"],[0.7777777777777778,\"#fb9f3a\"],[0.8888888888888888,\"#fdca26\"],[1.0,\"#f0f921\"]],\"type\":\"contour\"}],\"heatmapgl\":[{\"colorbar\":{\"outlinewidth\":0,\"ticks\":\"\"},\"colorscale\":[[0.0,\"#0d0887\"],[0.1111111111111111,\"#46039f\"],[0.2222222222222222,\"#7201a8\"],[0.3333333333333333,\"#9c179e\"],[0.4444444444444444,\"#bd3786\"],[0.5555555555555556,\"#d8576b\"],[0.6666666666666666,\"#ed7953\"],[0.7777777777777778,\"#fb9f3a\"],[0.8888888888888888,\"#fdca26\"],[1.0,\"#f0f921\"]],\"type\":\"heatmapgl\"}],\"heatmap\":[{\"colorbar\":{\"outlinewidth\":0,\"ticks\":\"\"},\"colorscale\":[[0.0,\"#0d0887\"],[0.1111111111111111,\"#46039f\"],[0.2222222222222222,\"#7201a8\"],[0.3333333333333333,\"#9c179e\"],[0.4444444444444444,\"#bd3786\"],[0.5555555555555556,\"#d8576b\"],[0.6666666666666666,\"#ed7953\"],[0.7777777777777778,\"#fb9f3a\"],[0.8888888888888888,\"#fdca26\"],[1.0,\"#f0f921\"]],\"type\":\"heatmap\"}],\"histogram2dcontour\":[{\"colorbar\":{\"outlinewidth\":0,\"ticks\":\"\"},\"colorscale\":[[0.0,\"#0d0887\"],[0.1111111111111111,\"#46039f\"],[0.2222222222222222,\"#7201a8\"],[0.3333333333333333,\"#9c179e\"],[0.4444444444444444,\"#bd3786\"],[0.5555555555555556,\"#d8576b\"],[0.6666666666666666,\"#ed7953\"],[0.7777777777777778,\"#fb9f3a\"],[0.8888888888888888,\"#fdca26\"],[1.0,\"#f0f921\"]],\"type\":\"histogram2dcontour\"}],\"histogram2d\":[{\"colorbar\":{\"outlinewidth\":0,\"ticks\":\"\"},\"colorscale\":[[0.0,\"#0d0887\"],[0.1111111111111111,\"#46039f\"],[0.2222222222222222,\"#7201a8\"],[0.3333333333333333,\"#9c179e\"],[0.4444444444444444,\"#bd3786\"],[0.5555555555555556,\"#d8576b\"],[0.6666666666666666,\"#ed7953\"],[0.7777777777777778,\"#fb9f3a\"],[0.8888888888888888,\"#fdca26\"],[1.0,\"#f0f921\"]],\"type\":\"histogram2d\"}],\"histogram\":[{\"marker\":{\"pattern\":{\"fillmode\":\"overlay\",\"size\":10,\"solidity\":0.2}},\"type\":\"histogram\"}],\"mesh3d\":[{\"colorbar\":{\"outlinewidth\":0,\"ticks\":\"\"},\"type\":\"mesh3d\"}],\"parcoords\":[{\"line\":{\"colorbar\":{\"outlinewidth\":0,\"ticks\":\"\"}},\"type\":\"parcoords\"}],\"pie\":[{\"automargin\":true,\"type\":\"pie\"}],\"scatter3d\":[{\"line\":{\"colorbar\":{\"outlinewidth\":0,\"ticks\":\"\"}},\"marker\":{\"colorbar\":{\"outlinewidth\":0,\"ticks\":\"\"}},\"type\":\"scatter3d\"}],\"scattercarpet\":[{\"marker\":{\"colorbar\":{\"outlinewidth\":0,\"ticks\":\"\"}},\"type\":\"scattercarpet\"}],\"scattergeo\":[{\"marker\":{\"colorbar\":{\"outlinewidth\":0,\"ticks\":\"\"}},\"type\":\"scattergeo\"}],\"scattergl\":[{\"marker\":{\"colorbar\":{\"outlinewidth\":0,\"ticks\":\"\"}},\"type\":\"scattergl\"}],\"scattermapbox\":[{\"marker\":{\"colorbar\":{\"outlinewidth\":0,\"ticks\":\"\"}},\"type\":\"scattermapbox\"}],\"scatterpolargl\":[{\"marker\":{\"colorbar\":{\"outlinewidth\":0,\"ticks\":\"\"}},\"type\":\"scatterpolargl\"}],\"scatterpolar\":[{\"marker\":{\"colorbar\":{\"outlinewidth\":0,\"ticks\":\"\"}},\"type\":\"scatterpolar\"}],\"scatter\":[{\"marker\":{\"colorbar\":{\"outlinewidth\":0,\"ticks\":\"\"}},\"type\":\"scatter\"}],\"scatterternary\":[{\"marker\":{\"colorbar\":{\"outlinewidth\":0,\"ticks\":\"\"}},\"type\":\"scatterternary\"}],\"surface\":[{\"colorbar\":{\"outlinewidth\":0,\"ticks\":\"\"},\"colorscale\":[[0.0,\"#0d0887\"],[0.1111111111111111,\"#46039f\"],[0.2222222222222222,\"#7201a8\"],[0.3333333333333333,\"#9c179e\"],[0.4444444444444444,\"#bd3786\"],[0.5555555555555556,\"#d8576b\"],[0.6666666666666666,\"#ed7953\"],[0.7777777777777778,\"#fb9f3a\"],[0.8888888888888888,\"#fdca26\"],[1.0,\"#f0f921\"]],\"type\":\"surface\"}],\"table\":[{\"cells\":{\"fill\":{\"color\":\"#EBF0F8\"},\"line\":{\"color\":\"white\"}},\"header\":{\"fill\":{\"color\":\"#C8D4E3\"},\"line\":{\"color\":\"white\"}},\"type\":\"table\"}]},\"layout\":{\"annotationdefaults\":{\"arrowcolor\":\"#2a3f5f\",\"arrowhead\":0,\"arrowwidth\":1},\"autotypenumbers\":\"strict\",\"coloraxis\":{\"colorbar\":{\"outlinewidth\":0,\"ticks\":\"\"}},\"colorscale\":{\"diverging\":[[0,\"#8e0152\"],[0.1,\"#c51b7d\"],[0.2,\"#de77ae\"],[0.3,\"#f1b6da\"],[0.4,\"#fde0ef\"],[0.5,\"#f7f7f7\"],[0.6,\"#e6f5d0\"],[0.7,\"#b8e186\"],[0.8,\"#7fbc41\"],[0.9,\"#4d9221\"],[1,\"#276419\"]],\"sequential\":[[0.0,\"#0d0887\"],[0.1111111111111111,\"#46039f\"],[0.2222222222222222,\"#7201a8\"],[0.3333333333333333,\"#9c179e\"],[0.4444444444444444,\"#bd3786\"],[0.5555555555555556,\"#d8576b\"],[0.6666666666666666,\"#ed7953\"],[0.7777777777777778,\"#fb9f3a\"],[0.8888888888888888,\"#fdca26\"],[1.0,\"#f0f921\"]],\"sequentialminus\":[[0.0,\"#0d0887\"],[0.1111111111111111,\"#46039f\"],[0.2222222222222222,\"#7201a8\"],[0.3333333333333333,\"#9c179e\"],[0.4444444444444444,\"#bd3786\"],[0.5555555555555556,\"#d8576b\"],[0.6666666666666666,\"#ed7953\"],[0.7777777777777778,\"#fb9f3a\"],[0.8888888888888888,\"#fdca26\"],[1.0,\"#f0f921\"]]},\"colorway\":[\"#636efa\",\"#EF553B\",\"#00cc96\",\"#ab63fa\",\"#FFA15A\",\"#19d3f3\",\"#FF6692\",\"#B6E880\",\"#FF97FF\",\"#FECB52\"],\"font\":{\"color\":\"#2a3f5f\"},\"geo\":{\"bgcolor\":\"white\",\"lakecolor\":\"white\",\"landcolor\":\"#E5ECF6\",\"showlakes\":true,\"showland\":true,\"subunitcolor\":\"white\"},\"hoverlabel\":{\"align\":\"left\"},\"hovermode\":\"closest\",\"mapbox\":{\"style\":\"light\"},\"paper_bgcolor\":\"white\",\"plot_bgcolor\":\"#E5ECF6\",\"polar\":{\"angularaxis\":{\"gridcolor\":\"white\",\"linecolor\":\"white\",\"ticks\":\"\"},\"bgcolor\":\"#E5ECF6\",\"radialaxis\":{\"gridcolor\":\"white\",\"linecolor\":\"white\",\"ticks\":\"\"}},\"scene\":{\"xaxis\":{\"backgroundcolor\":\"#E5ECF6\",\"gridcolor\":\"white\",\"gridwidth\":2,\"linecolor\":\"white\",\"showbackground\":true,\"ticks\":\"\",\"zerolinecolor\":\"white\"},\"yaxis\":{\"backgroundcolor\":\"#E5ECF6\",\"gridcolor\":\"white\",\"gridwidth\":2,\"linecolor\":\"white\",\"showbackground\":true,\"ticks\":\"\",\"zerolinecolor\":\"white\"},\"zaxis\":{\"backgroundcolor\":\"#E5ECF6\",\"gridcolor\":\"white\",\"gridwidth\":2,\"linecolor\":\"white\",\"showbackground\":true,\"ticks\":\"\",\"zerolinecolor\":\"white\"}},\"shapedefaults\":{\"line\":{\"color\":\"#2a3f5f\"}},\"ternary\":{\"aaxis\":{\"gridcolor\":\"white\",\"linecolor\":\"white\",\"ticks\":\"\"},\"baxis\":{\"gridcolor\":\"white\",\"linecolor\":\"white\",\"ticks\":\"\"},\"bgcolor\":\"#E5ECF6\",\"caxis\":{\"gridcolor\":\"white\",\"linecolor\":\"white\",\"ticks\":\"\"}},\"title\":{\"x\":0.05},\"xaxis\":{\"automargin\":true,\"gridcolor\":\"white\",\"linecolor\":\"white\",\"ticks\":\"\",\"title\":{\"standoff\":15},\"zerolinecolor\":\"white\",\"zerolinewidth\":2},\"yaxis\":{\"automargin\":true,\"gridcolor\":\"white\",\"linecolor\":\"white\",\"ticks\":\"\",\"title\":{\"standoff\":15},\"zerolinecolor\":\"white\",\"zerolinewidth\":2}}},\"title\":{\"font\":{\"color\":\"#4D5663\"}},\"xaxis\":{\"gridcolor\":\"#E1E5ED\",\"showgrid\":true,\"tickfont\":{\"color\":\"#4D5663\"},\"title\":{\"font\":{\"color\":\"#4D5663\"},\"text\":\"\"},\"zerolinecolor\":\"#E1E5ED\"},\"yaxis\":{\"gridcolor\":\"#E1E5ED\",\"showgrid\":true,\"tickfont\":{\"color\":\"#4D5663\"},\"title\":{\"font\":{\"color\":\"#4D5663\"},\"text\":\"\"},\"zerolinecolor\":\"#E1E5ED\"}},                        {\"showLink\": true, \"linkText\": \"Export to plot.ly\", \"plotlyServerURL\": \"https://plot.ly\", \"responsive\": true}                    ).then(function(){\n",
       "                            \n",
       "var gd = document.getElementById('afc68423-189f-4110-a361-63da7296f4c2');\n",
       "var x = new MutationObserver(function (mutations, observer) {{\n",
       "        var display = window.getComputedStyle(gd).display;\n",
       "        if (!display || display === 'none') {{\n",
       "            console.log([gd, 'removed!']);\n",
       "            Plotly.purge(gd);\n",
       "            observer.disconnect();\n",
       "        }}\n",
       "}});\n",
       "\n",
       "// Listen for the removal of the full notebook cells\n",
       "var notebookContainer = gd.closest('#notebook-container');\n",
       "if (notebookContainer) {{\n",
       "    x.observe(notebookContainer, {childList: true});\n",
       "}}\n",
       "\n",
       "// Listen for the clearing of the current output cell\n",
       "var outputEl = gd.closest('.output');\n",
       "if (outputEl) {{\n",
       "    x.observe(outputEl, {childList: true});\n",
       "}}\n",
       "\n",
       "                        })                };                });            </script>        </div>"
      ]
     },
     "metadata": {},
     "output_type": "display_data"
    }
   ],
   "source": [
    "df.iplot(kind = 'scatter', x = 'A', y = 'B', mode = 'markers', size = 20)"
   ]
  },
  {
   "cell_type": "markdown",
   "metadata": {},
   "source": [
    "#### Bar plot"
   ]
  },
  {
   "cell_type": "code",
   "execution_count": 24,
   "metadata": {},
   "outputs": [
    {
     "data": {
      "application/vnd.plotly.v1+json": {
       "config": {
        "linkText": "Export to plot.ly",
        "plotlyServerURL": "https://plot.ly",
        "showLink": true
       },
       "data": [
        {
         "marker": {
          "color": "rgba(255, 153, 51, 0.6)",
          "line": {
           "color": "rgba(255, 153, 51, 1.0)",
           "width": 1
          }
         },
         "name": "Values",
         "orientation": "v",
         "text": "",
         "type": "bar",
         "x": [
          "A",
          "B",
          "C"
         ],
         "y": [
          32,
          43,
          50
         ]
        }
       ],
       "layout": {
        "legend": {
         "bgcolor": "#F5F6F9",
         "font": {
          "color": "#4D5663"
         }
        },
        "paper_bgcolor": "#F5F6F9",
        "plot_bgcolor": "#F5F6F9",
        "template": {
         "data": {
          "bar": [
           {
            "error_x": {
             "color": "#2a3f5f"
            },
            "error_y": {
             "color": "#2a3f5f"
            },
            "marker": {
             "line": {
              "color": "#E5ECF6",
              "width": 0.5
             },
             "pattern": {
              "fillmode": "overlay",
              "size": 10,
              "solidity": 0.2
             }
            },
            "type": "bar"
           }
          ],
          "barpolar": [
           {
            "marker": {
             "line": {
              "color": "#E5ECF6",
              "width": 0.5
             },
             "pattern": {
              "fillmode": "overlay",
              "size": 10,
              "solidity": 0.2
             }
            },
            "type": "barpolar"
           }
          ],
          "carpet": [
           {
            "aaxis": {
             "endlinecolor": "#2a3f5f",
             "gridcolor": "white",
             "linecolor": "white",
             "minorgridcolor": "white",
             "startlinecolor": "#2a3f5f"
            },
            "baxis": {
             "endlinecolor": "#2a3f5f",
             "gridcolor": "white",
             "linecolor": "white",
             "minorgridcolor": "white",
             "startlinecolor": "#2a3f5f"
            },
            "type": "carpet"
           }
          ],
          "choropleth": [
           {
            "colorbar": {
             "outlinewidth": 0,
             "ticks": ""
            },
            "type": "choropleth"
           }
          ],
          "contour": [
           {
            "colorbar": {
             "outlinewidth": 0,
             "ticks": ""
            },
            "colorscale": [
             [
              0,
              "#0d0887"
             ],
             [
              0.1111111111111111,
              "#46039f"
             ],
             [
              0.2222222222222222,
              "#7201a8"
             ],
             [
              0.3333333333333333,
              "#9c179e"
             ],
             [
              0.4444444444444444,
              "#bd3786"
             ],
             [
              0.5555555555555556,
              "#d8576b"
             ],
             [
              0.6666666666666666,
              "#ed7953"
             ],
             [
              0.7777777777777778,
              "#fb9f3a"
             ],
             [
              0.8888888888888888,
              "#fdca26"
             ],
             [
              1,
              "#f0f921"
             ]
            ],
            "type": "contour"
           }
          ],
          "contourcarpet": [
           {
            "colorbar": {
             "outlinewidth": 0,
             "ticks": ""
            },
            "type": "contourcarpet"
           }
          ],
          "heatmap": [
           {
            "colorbar": {
             "outlinewidth": 0,
             "ticks": ""
            },
            "colorscale": [
             [
              0,
              "#0d0887"
             ],
             [
              0.1111111111111111,
              "#46039f"
             ],
             [
              0.2222222222222222,
              "#7201a8"
             ],
             [
              0.3333333333333333,
              "#9c179e"
             ],
             [
              0.4444444444444444,
              "#bd3786"
             ],
             [
              0.5555555555555556,
              "#d8576b"
             ],
             [
              0.6666666666666666,
              "#ed7953"
             ],
             [
              0.7777777777777778,
              "#fb9f3a"
             ],
             [
              0.8888888888888888,
              "#fdca26"
             ],
             [
              1,
              "#f0f921"
             ]
            ],
            "type": "heatmap"
           }
          ],
          "heatmapgl": [
           {
            "colorbar": {
             "outlinewidth": 0,
             "ticks": ""
            },
            "colorscale": [
             [
              0,
              "#0d0887"
             ],
             [
              0.1111111111111111,
              "#46039f"
             ],
             [
              0.2222222222222222,
              "#7201a8"
             ],
             [
              0.3333333333333333,
              "#9c179e"
             ],
             [
              0.4444444444444444,
              "#bd3786"
             ],
             [
              0.5555555555555556,
              "#d8576b"
             ],
             [
              0.6666666666666666,
              "#ed7953"
             ],
             [
              0.7777777777777778,
              "#fb9f3a"
             ],
             [
              0.8888888888888888,
              "#fdca26"
             ],
             [
              1,
              "#f0f921"
             ]
            ],
            "type": "heatmapgl"
           }
          ],
          "histogram": [
           {
            "marker": {
             "pattern": {
              "fillmode": "overlay",
              "size": 10,
              "solidity": 0.2
             }
            },
            "type": "histogram"
           }
          ],
          "histogram2d": [
           {
            "colorbar": {
             "outlinewidth": 0,
             "ticks": ""
            },
            "colorscale": [
             [
              0,
              "#0d0887"
             ],
             [
              0.1111111111111111,
              "#46039f"
             ],
             [
              0.2222222222222222,
              "#7201a8"
             ],
             [
              0.3333333333333333,
              "#9c179e"
             ],
             [
              0.4444444444444444,
              "#bd3786"
             ],
             [
              0.5555555555555556,
              "#d8576b"
             ],
             [
              0.6666666666666666,
              "#ed7953"
             ],
             [
              0.7777777777777778,
              "#fb9f3a"
             ],
             [
              0.8888888888888888,
              "#fdca26"
             ],
             [
              1,
              "#f0f921"
             ]
            ],
            "type": "histogram2d"
           }
          ],
          "histogram2dcontour": [
           {
            "colorbar": {
             "outlinewidth": 0,
             "ticks": ""
            },
            "colorscale": [
             [
              0,
              "#0d0887"
             ],
             [
              0.1111111111111111,
              "#46039f"
             ],
             [
              0.2222222222222222,
              "#7201a8"
             ],
             [
              0.3333333333333333,
              "#9c179e"
             ],
             [
              0.4444444444444444,
              "#bd3786"
             ],
             [
              0.5555555555555556,
              "#d8576b"
             ],
             [
              0.6666666666666666,
              "#ed7953"
             ],
             [
              0.7777777777777778,
              "#fb9f3a"
             ],
             [
              0.8888888888888888,
              "#fdca26"
             ],
             [
              1,
              "#f0f921"
             ]
            ],
            "type": "histogram2dcontour"
           }
          ],
          "mesh3d": [
           {
            "colorbar": {
             "outlinewidth": 0,
             "ticks": ""
            },
            "type": "mesh3d"
           }
          ],
          "parcoords": [
           {
            "line": {
             "colorbar": {
              "outlinewidth": 0,
              "ticks": ""
             }
            },
            "type": "parcoords"
           }
          ],
          "pie": [
           {
            "automargin": true,
            "type": "pie"
           }
          ],
          "scatter": [
           {
            "marker": {
             "colorbar": {
              "outlinewidth": 0,
              "ticks": ""
             }
            },
            "type": "scatter"
           }
          ],
          "scatter3d": [
           {
            "line": {
             "colorbar": {
              "outlinewidth": 0,
              "ticks": ""
             }
            },
            "marker": {
             "colorbar": {
              "outlinewidth": 0,
              "ticks": ""
             }
            },
            "type": "scatter3d"
           }
          ],
          "scattercarpet": [
           {
            "marker": {
             "colorbar": {
              "outlinewidth": 0,
              "ticks": ""
             }
            },
            "type": "scattercarpet"
           }
          ],
          "scattergeo": [
           {
            "marker": {
             "colorbar": {
              "outlinewidth": 0,
              "ticks": ""
             }
            },
            "type": "scattergeo"
           }
          ],
          "scattergl": [
           {
            "marker": {
             "colorbar": {
              "outlinewidth": 0,
              "ticks": ""
             }
            },
            "type": "scattergl"
           }
          ],
          "scattermapbox": [
           {
            "marker": {
             "colorbar": {
              "outlinewidth": 0,
              "ticks": ""
             }
            },
            "type": "scattermapbox"
           }
          ],
          "scatterpolar": [
           {
            "marker": {
             "colorbar": {
              "outlinewidth": 0,
              "ticks": ""
             }
            },
            "type": "scatterpolar"
           }
          ],
          "scatterpolargl": [
           {
            "marker": {
             "colorbar": {
              "outlinewidth": 0,
              "ticks": ""
             }
            },
            "type": "scatterpolargl"
           }
          ],
          "scatterternary": [
           {
            "marker": {
             "colorbar": {
              "outlinewidth": 0,
              "ticks": ""
             }
            },
            "type": "scatterternary"
           }
          ],
          "surface": [
           {
            "colorbar": {
             "outlinewidth": 0,
             "ticks": ""
            },
            "colorscale": [
             [
              0,
              "#0d0887"
             ],
             [
              0.1111111111111111,
              "#46039f"
             ],
             [
              0.2222222222222222,
              "#7201a8"
             ],
             [
              0.3333333333333333,
              "#9c179e"
             ],
             [
              0.4444444444444444,
              "#bd3786"
             ],
             [
              0.5555555555555556,
              "#d8576b"
             ],
             [
              0.6666666666666666,
              "#ed7953"
             ],
             [
              0.7777777777777778,
              "#fb9f3a"
             ],
             [
              0.8888888888888888,
              "#fdca26"
             ],
             [
              1,
              "#f0f921"
             ]
            ],
            "type": "surface"
           }
          ],
          "table": [
           {
            "cells": {
             "fill": {
              "color": "#EBF0F8"
             },
             "line": {
              "color": "white"
             }
            },
            "header": {
             "fill": {
              "color": "#C8D4E3"
             },
             "line": {
              "color": "white"
             }
            },
            "type": "table"
           }
          ]
         },
         "layout": {
          "annotationdefaults": {
           "arrowcolor": "#2a3f5f",
           "arrowhead": 0,
           "arrowwidth": 1
          },
          "autotypenumbers": "strict",
          "coloraxis": {
           "colorbar": {
            "outlinewidth": 0,
            "ticks": ""
           }
          },
          "colorscale": {
           "diverging": [
            [
             0,
             "#8e0152"
            ],
            [
             0.1,
             "#c51b7d"
            ],
            [
             0.2,
             "#de77ae"
            ],
            [
             0.3,
             "#f1b6da"
            ],
            [
             0.4,
             "#fde0ef"
            ],
            [
             0.5,
             "#f7f7f7"
            ],
            [
             0.6,
             "#e6f5d0"
            ],
            [
             0.7,
             "#b8e186"
            ],
            [
             0.8,
             "#7fbc41"
            ],
            [
             0.9,
             "#4d9221"
            ],
            [
             1,
             "#276419"
            ]
           ],
           "sequential": [
            [
             0,
             "#0d0887"
            ],
            [
             0.1111111111111111,
             "#46039f"
            ],
            [
             0.2222222222222222,
             "#7201a8"
            ],
            [
             0.3333333333333333,
             "#9c179e"
            ],
            [
             0.4444444444444444,
             "#bd3786"
            ],
            [
             0.5555555555555556,
             "#d8576b"
            ],
            [
             0.6666666666666666,
             "#ed7953"
            ],
            [
             0.7777777777777778,
             "#fb9f3a"
            ],
            [
             0.8888888888888888,
             "#fdca26"
            ],
            [
             1,
             "#f0f921"
            ]
           ],
           "sequentialminus": [
            [
             0,
             "#0d0887"
            ],
            [
             0.1111111111111111,
             "#46039f"
            ],
            [
             0.2222222222222222,
             "#7201a8"
            ],
            [
             0.3333333333333333,
             "#9c179e"
            ],
            [
             0.4444444444444444,
             "#bd3786"
            ],
            [
             0.5555555555555556,
             "#d8576b"
            ],
            [
             0.6666666666666666,
             "#ed7953"
            ],
            [
             0.7777777777777778,
             "#fb9f3a"
            ],
            [
             0.8888888888888888,
             "#fdca26"
            ],
            [
             1,
             "#f0f921"
            ]
           ]
          },
          "colorway": [
           "#636efa",
           "#EF553B",
           "#00cc96",
           "#ab63fa",
           "#FFA15A",
           "#19d3f3",
           "#FF6692",
           "#B6E880",
           "#FF97FF",
           "#FECB52"
          ],
          "font": {
           "color": "#2a3f5f"
          },
          "geo": {
           "bgcolor": "white",
           "lakecolor": "white",
           "landcolor": "#E5ECF6",
           "showlakes": true,
           "showland": true,
           "subunitcolor": "white"
          },
          "hoverlabel": {
           "align": "left"
          },
          "hovermode": "closest",
          "mapbox": {
           "style": "light"
          },
          "paper_bgcolor": "white",
          "plot_bgcolor": "#E5ECF6",
          "polar": {
           "angularaxis": {
            "gridcolor": "white",
            "linecolor": "white",
            "ticks": ""
           },
           "bgcolor": "#E5ECF6",
           "radialaxis": {
            "gridcolor": "white",
            "linecolor": "white",
            "ticks": ""
           }
          },
          "scene": {
           "xaxis": {
            "backgroundcolor": "#E5ECF6",
            "gridcolor": "white",
            "gridwidth": 2,
            "linecolor": "white",
            "showbackground": true,
            "ticks": "",
            "zerolinecolor": "white"
           },
           "yaxis": {
            "backgroundcolor": "#E5ECF6",
            "gridcolor": "white",
            "gridwidth": 2,
            "linecolor": "white",
            "showbackground": true,
            "ticks": "",
            "zerolinecolor": "white"
           },
           "zaxis": {
            "backgroundcolor": "#E5ECF6",
            "gridcolor": "white",
            "gridwidth": 2,
            "linecolor": "white",
            "showbackground": true,
            "ticks": "",
            "zerolinecolor": "white"
           }
          },
          "shapedefaults": {
           "line": {
            "color": "#2a3f5f"
           }
          },
          "ternary": {
           "aaxis": {
            "gridcolor": "white",
            "linecolor": "white",
            "ticks": ""
           },
           "baxis": {
            "gridcolor": "white",
            "linecolor": "white",
            "ticks": ""
           },
           "bgcolor": "#E5ECF6",
           "caxis": {
            "gridcolor": "white",
            "linecolor": "white",
            "ticks": ""
           }
          },
          "title": {
           "x": 0.05
          },
          "xaxis": {
           "automargin": true,
           "gridcolor": "white",
           "linecolor": "white",
           "ticks": "",
           "title": {
            "standoff": 15
           },
           "zerolinecolor": "white",
           "zerolinewidth": 2
          },
          "yaxis": {
           "automargin": true,
           "gridcolor": "white",
           "linecolor": "white",
           "ticks": "",
           "title": {
            "standoff": 15
           },
           "zerolinecolor": "white",
           "zerolinewidth": 2
          }
         }
        },
        "title": {
         "font": {
          "color": "#4D5663"
         }
        },
        "xaxis": {
         "gridcolor": "#E1E5ED",
         "showgrid": true,
         "tickfont": {
          "color": "#4D5663"
         },
         "title": {
          "font": {
           "color": "#4D5663"
          },
          "text": ""
         },
         "zerolinecolor": "#E1E5ED"
        },
        "yaxis": {
         "gridcolor": "#E1E5ED",
         "showgrid": true,
         "tickfont": {
          "color": "#4D5663"
         },
         "title": {
          "font": {
           "color": "#4D5663"
          },
          "text": ""
         },
         "zerolinecolor": "#E1E5ED"
        }
       }
      },
      "text/html": [
       "<div>                            <div id=\"7c47ed8a-7050-42e7-b390-1e0ffe286755\" class=\"plotly-graph-div\" style=\"height:525px; width:100%;\"></div>            <script type=\"text/javascript\">                require([\"plotly\"], function(Plotly) {                    window.PLOTLYENV=window.PLOTLYENV || {};\n",
       "                    window.PLOTLYENV.BASE_URL='https://plot.ly';                                    if (document.getElementById(\"7c47ed8a-7050-42e7-b390-1e0ffe286755\")) {                    Plotly.newPlot(                        \"7c47ed8a-7050-42e7-b390-1e0ffe286755\",                        [{\"marker\":{\"color\":\"rgba(255, 153, 51, 0.6)\",\"line\":{\"color\":\"rgba(255, 153, 51, 1.0)\",\"width\":1}},\"name\":\"Values\",\"orientation\":\"v\",\"text\":\"\",\"x\":[\"A\",\"B\",\"C\"],\"y\":[32,43,50],\"type\":\"bar\"}],                        {\"legend\":{\"bgcolor\":\"#F5F6F9\",\"font\":{\"color\":\"#4D5663\"}},\"paper_bgcolor\":\"#F5F6F9\",\"plot_bgcolor\":\"#F5F6F9\",\"template\":{\"data\":{\"barpolar\":[{\"marker\":{\"line\":{\"color\":\"#E5ECF6\",\"width\":0.5},\"pattern\":{\"fillmode\":\"overlay\",\"size\":10,\"solidity\":0.2}},\"type\":\"barpolar\"}],\"bar\":[{\"error_x\":{\"color\":\"#2a3f5f\"},\"error_y\":{\"color\":\"#2a3f5f\"},\"marker\":{\"line\":{\"color\":\"#E5ECF6\",\"width\":0.5},\"pattern\":{\"fillmode\":\"overlay\",\"size\":10,\"solidity\":0.2}},\"type\":\"bar\"}],\"carpet\":[{\"aaxis\":{\"endlinecolor\":\"#2a3f5f\",\"gridcolor\":\"white\",\"linecolor\":\"white\",\"minorgridcolor\":\"white\",\"startlinecolor\":\"#2a3f5f\"},\"baxis\":{\"endlinecolor\":\"#2a3f5f\",\"gridcolor\":\"white\",\"linecolor\":\"white\",\"minorgridcolor\":\"white\",\"startlinecolor\":\"#2a3f5f\"},\"type\":\"carpet\"}],\"choropleth\":[{\"colorbar\":{\"outlinewidth\":0,\"ticks\":\"\"},\"type\":\"choropleth\"}],\"contourcarpet\":[{\"colorbar\":{\"outlinewidth\":0,\"ticks\":\"\"},\"type\":\"contourcarpet\"}],\"contour\":[{\"colorbar\":{\"outlinewidth\":0,\"ticks\":\"\"},\"colorscale\":[[0.0,\"#0d0887\"],[0.1111111111111111,\"#46039f\"],[0.2222222222222222,\"#7201a8\"],[0.3333333333333333,\"#9c179e\"],[0.4444444444444444,\"#bd3786\"],[0.5555555555555556,\"#d8576b\"],[0.6666666666666666,\"#ed7953\"],[0.7777777777777778,\"#fb9f3a\"],[0.8888888888888888,\"#fdca26\"],[1.0,\"#f0f921\"]],\"type\":\"contour\"}],\"heatmapgl\":[{\"colorbar\":{\"outlinewidth\":0,\"ticks\":\"\"},\"colorscale\":[[0.0,\"#0d0887\"],[0.1111111111111111,\"#46039f\"],[0.2222222222222222,\"#7201a8\"],[0.3333333333333333,\"#9c179e\"],[0.4444444444444444,\"#bd3786\"],[0.5555555555555556,\"#d8576b\"],[0.6666666666666666,\"#ed7953\"],[0.7777777777777778,\"#fb9f3a\"],[0.8888888888888888,\"#fdca26\"],[1.0,\"#f0f921\"]],\"type\":\"heatmapgl\"}],\"heatmap\":[{\"colorbar\":{\"outlinewidth\":0,\"ticks\":\"\"},\"colorscale\":[[0.0,\"#0d0887\"],[0.1111111111111111,\"#46039f\"],[0.2222222222222222,\"#7201a8\"],[0.3333333333333333,\"#9c179e\"],[0.4444444444444444,\"#bd3786\"],[0.5555555555555556,\"#d8576b\"],[0.6666666666666666,\"#ed7953\"],[0.7777777777777778,\"#fb9f3a\"],[0.8888888888888888,\"#fdca26\"],[1.0,\"#f0f921\"]],\"type\":\"heatmap\"}],\"histogram2dcontour\":[{\"colorbar\":{\"outlinewidth\":0,\"ticks\":\"\"},\"colorscale\":[[0.0,\"#0d0887\"],[0.1111111111111111,\"#46039f\"],[0.2222222222222222,\"#7201a8\"],[0.3333333333333333,\"#9c179e\"],[0.4444444444444444,\"#bd3786\"],[0.5555555555555556,\"#d8576b\"],[0.6666666666666666,\"#ed7953\"],[0.7777777777777778,\"#fb9f3a\"],[0.8888888888888888,\"#fdca26\"],[1.0,\"#f0f921\"]],\"type\":\"histogram2dcontour\"}],\"histogram2d\":[{\"colorbar\":{\"outlinewidth\":0,\"ticks\":\"\"},\"colorscale\":[[0.0,\"#0d0887\"],[0.1111111111111111,\"#46039f\"],[0.2222222222222222,\"#7201a8\"],[0.3333333333333333,\"#9c179e\"],[0.4444444444444444,\"#bd3786\"],[0.5555555555555556,\"#d8576b\"],[0.6666666666666666,\"#ed7953\"],[0.7777777777777778,\"#fb9f3a\"],[0.8888888888888888,\"#fdca26\"],[1.0,\"#f0f921\"]],\"type\":\"histogram2d\"}],\"histogram\":[{\"marker\":{\"pattern\":{\"fillmode\":\"overlay\",\"size\":10,\"solidity\":0.2}},\"type\":\"histogram\"}],\"mesh3d\":[{\"colorbar\":{\"outlinewidth\":0,\"ticks\":\"\"},\"type\":\"mesh3d\"}],\"parcoords\":[{\"line\":{\"colorbar\":{\"outlinewidth\":0,\"ticks\":\"\"}},\"type\":\"parcoords\"}],\"pie\":[{\"automargin\":true,\"type\":\"pie\"}],\"scatter3d\":[{\"line\":{\"colorbar\":{\"outlinewidth\":0,\"ticks\":\"\"}},\"marker\":{\"colorbar\":{\"outlinewidth\":0,\"ticks\":\"\"}},\"type\":\"scatter3d\"}],\"scattercarpet\":[{\"marker\":{\"colorbar\":{\"outlinewidth\":0,\"ticks\":\"\"}},\"type\":\"scattercarpet\"}],\"scattergeo\":[{\"marker\":{\"colorbar\":{\"outlinewidth\":0,\"ticks\":\"\"}},\"type\":\"scattergeo\"}],\"scattergl\":[{\"marker\":{\"colorbar\":{\"outlinewidth\":0,\"ticks\":\"\"}},\"type\":\"scattergl\"}],\"scattermapbox\":[{\"marker\":{\"colorbar\":{\"outlinewidth\":0,\"ticks\":\"\"}},\"type\":\"scattermapbox\"}],\"scatterpolargl\":[{\"marker\":{\"colorbar\":{\"outlinewidth\":0,\"ticks\":\"\"}},\"type\":\"scatterpolargl\"}],\"scatterpolar\":[{\"marker\":{\"colorbar\":{\"outlinewidth\":0,\"ticks\":\"\"}},\"type\":\"scatterpolar\"}],\"scatter\":[{\"marker\":{\"colorbar\":{\"outlinewidth\":0,\"ticks\":\"\"}},\"type\":\"scatter\"}],\"scatterternary\":[{\"marker\":{\"colorbar\":{\"outlinewidth\":0,\"ticks\":\"\"}},\"type\":\"scatterternary\"}],\"surface\":[{\"colorbar\":{\"outlinewidth\":0,\"ticks\":\"\"},\"colorscale\":[[0.0,\"#0d0887\"],[0.1111111111111111,\"#46039f\"],[0.2222222222222222,\"#7201a8\"],[0.3333333333333333,\"#9c179e\"],[0.4444444444444444,\"#bd3786\"],[0.5555555555555556,\"#d8576b\"],[0.6666666666666666,\"#ed7953\"],[0.7777777777777778,\"#fb9f3a\"],[0.8888888888888888,\"#fdca26\"],[1.0,\"#f0f921\"]],\"type\":\"surface\"}],\"table\":[{\"cells\":{\"fill\":{\"color\":\"#EBF0F8\"},\"line\":{\"color\":\"white\"}},\"header\":{\"fill\":{\"color\":\"#C8D4E3\"},\"line\":{\"color\":\"white\"}},\"type\":\"table\"}]},\"layout\":{\"annotationdefaults\":{\"arrowcolor\":\"#2a3f5f\",\"arrowhead\":0,\"arrowwidth\":1},\"autotypenumbers\":\"strict\",\"coloraxis\":{\"colorbar\":{\"outlinewidth\":0,\"ticks\":\"\"}},\"colorscale\":{\"diverging\":[[0,\"#8e0152\"],[0.1,\"#c51b7d\"],[0.2,\"#de77ae\"],[0.3,\"#f1b6da\"],[0.4,\"#fde0ef\"],[0.5,\"#f7f7f7\"],[0.6,\"#e6f5d0\"],[0.7,\"#b8e186\"],[0.8,\"#7fbc41\"],[0.9,\"#4d9221\"],[1,\"#276419\"]],\"sequential\":[[0.0,\"#0d0887\"],[0.1111111111111111,\"#46039f\"],[0.2222222222222222,\"#7201a8\"],[0.3333333333333333,\"#9c179e\"],[0.4444444444444444,\"#bd3786\"],[0.5555555555555556,\"#d8576b\"],[0.6666666666666666,\"#ed7953\"],[0.7777777777777778,\"#fb9f3a\"],[0.8888888888888888,\"#fdca26\"],[1.0,\"#f0f921\"]],\"sequentialminus\":[[0.0,\"#0d0887\"],[0.1111111111111111,\"#46039f\"],[0.2222222222222222,\"#7201a8\"],[0.3333333333333333,\"#9c179e\"],[0.4444444444444444,\"#bd3786\"],[0.5555555555555556,\"#d8576b\"],[0.6666666666666666,\"#ed7953\"],[0.7777777777777778,\"#fb9f3a\"],[0.8888888888888888,\"#fdca26\"],[1.0,\"#f0f921\"]]},\"colorway\":[\"#636efa\",\"#EF553B\",\"#00cc96\",\"#ab63fa\",\"#FFA15A\",\"#19d3f3\",\"#FF6692\",\"#B6E880\",\"#FF97FF\",\"#FECB52\"],\"font\":{\"color\":\"#2a3f5f\"},\"geo\":{\"bgcolor\":\"white\",\"lakecolor\":\"white\",\"landcolor\":\"#E5ECF6\",\"showlakes\":true,\"showland\":true,\"subunitcolor\":\"white\"},\"hoverlabel\":{\"align\":\"left\"},\"hovermode\":\"closest\",\"mapbox\":{\"style\":\"light\"},\"paper_bgcolor\":\"white\",\"plot_bgcolor\":\"#E5ECF6\",\"polar\":{\"angularaxis\":{\"gridcolor\":\"white\",\"linecolor\":\"white\",\"ticks\":\"\"},\"bgcolor\":\"#E5ECF6\",\"radialaxis\":{\"gridcolor\":\"white\",\"linecolor\":\"white\",\"ticks\":\"\"}},\"scene\":{\"xaxis\":{\"backgroundcolor\":\"#E5ECF6\",\"gridcolor\":\"white\",\"gridwidth\":2,\"linecolor\":\"white\",\"showbackground\":true,\"ticks\":\"\",\"zerolinecolor\":\"white\"},\"yaxis\":{\"backgroundcolor\":\"#E5ECF6\",\"gridcolor\":\"white\",\"gridwidth\":2,\"linecolor\":\"white\",\"showbackground\":true,\"ticks\":\"\",\"zerolinecolor\":\"white\"},\"zaxis\":{\"backgroundcolor\":\"#E5ECF6\",\"gridcolor\":\"white\",\"gridwidth\":2,\"linecolor\":\"white\",\"showbackground\":true,\"ticks\":\"\",\"zerolinecolor\":\"white\"}},\"shapedefaults\":{\"line\":{\"color\":\"#2a3f5f\"}},\"ternary\":{\"aaxis\":{\"gridcolor\":\"white\",\"linecolor\":\"white\",\"ticks\":\"\"},\"baxis\":{\"gridcolor\":\"white\",\"linecolor\":\"white\",\"ticks\":\"\"},\"bgcolor\":\"#E5ECF6\",\"caxis\":{\"gridcolor\":\"white\",\"linecolor\":\"white\",\"ticks\":\"\"}},\"title\":{\"x\":0.05},\"xaxis\":{\"automargin\":true,\"gridcolor\":\"white\",\"linecolor\":\"white\",\"ticks\":\"\",\"title\":{\"standoff\":15},\"zerolinecolor\":\"white\",\"zerolinewidth\":2},\"yaxis\":{\"automargin\":true,\"gridcolor\":\"white\",\"linecolor\":\"white\",\"ticks\":\"\",\"title\":{\"standoff\":15},\"zerolinecolor\":\"white\",\"zerolinewidth\":2}}},\"title\":{\"font\":{\"color\":\"#4D5663\"}},\"xaxis\":{\"gridcolor\":\"#E1E5ED\",\"showgrid\":true,\"tickfont\":{\"color\":\"#4D5663\"},\"title\":{\"font\":{\"color\":\"#4D5663\"},\"text\":\"\"},\"zerolinecolor\":\"#E1E5ED\"},\"yaxis\":{\"gridcolor\":\"#E1E5ED\",\"showgrid\":true,\"tickfont\":{\"color\":\"#4D5663\"},\"title\":{\"font\":{\"color\":\"#4D5663\"},\"text\":\"\"},\"zerolinecolor\":\"#E1E5ED\"}},                        {\"showLink\": true, \"linkText\": \"Export to plot.ly\", \"plotlyServerURL\": \"https://plot.ly\", \"responsive\": true}                    ).then(function(){\n",
       "                            \n",
       "var gd = document.getElementById('7c47ed8a-7050-42e7-b390-1e0ffe286755');\n",
       "var x = new MutationObserver(function (mutations, observer) {{\n",
       "        var display = window.getComputedStyle(gd).display;\n",
       "        if (!display || display === 'none') {{\n",
       "            console.log([gd, 'removed!']);\n",
       "            Plotly.purge(gd);\n",
       "            observer.disconnect();\n",
       "        }}\n",
       "}});\n",
       "\n",
       "// Listen for the removal of the full notebook cells\n",
       "var notebookContainer = gd.closest('#notebook-container');\n",
       "if (notebookContainer) {{\n",
       "    x.observe(notebookContainer, {childList: true});\n",
       "}}\n",
       "\n",
       "// Listen for the clearing of the current output cell\n",
       "var outputEl = gd.closest('.output');\n",
       "if (outputEl) {{\n",
       "    x.observe(outputEl, {childList: true});\n",
       "}}\n",
       "\n",
       "                        })                };                });            </script>        </div>"
      ]
     },
     "metadata": {},
     "output_type": "display_data"
    }
   ],
   "source": [
    "df2.iplot(kind = 'bar', x = 'Category', y = 'Values')"
   ]
  },
  {
   "cell_type": "code",
   "execution_count": 26,
   "metadata": {},
   "outputs": [
    {
     "data": {
      "text/html": [
       "<div>\n",
       "<style scoped>\n",
       "    .dataframe tbody tr th:only-of-type {\n",
       "        vertical-align: middle;\n",
       "    }\n",
       "\n",
       "    .dataframe tbody tr th {\n",
       "        vertical-align: top;\n",
       "    }\n",
       "\n",
       "    .dataframe thead th {\n",
       "        text-align: right;\n",
       "    }\n",
       "</style>\n",
       "<table border=\"1\" class=\"dataframe\">\n",
       "  <thead>\n",
       "    <tr style=\"text-align: right;\">\n",
       "      <th></th>\n",
       "      <th>A</th>\n",
       "      <th>B</th>\n",
       "      <th>C</th>\n",
       "      <th>D</th>\n",
       "    </tr>\n",
       "  </thead>\n",
       "  <tbody>\n",
       "    <tr>\n",
       "      <th>0</th>\n",
       "      <td>-0.190281</td>\n",
       "      <td>-0.807888</td>\n",
       "      <td>-0.280879</td>\n",
       "      <td>0.328889</td>\n",
       "    </tr>\n",
       "    <tr>\n",
       "      <th>1</th>\n",
       "      <td>0.328237</td>\n",
       "      <td>-0.644889</td>\n",
       "      <td>-0.004941</td>\n",
       "      <td>-0.053621</td>\n",
       "    </tr>\n",
       "    <tr>\n",
       "      <th>2</th>\n",
       "      <td>1.139923</td>\n",
       "      <td>-0.745590</td>\n",
       "      <td>-0.182302</td>\n",
       "      <td>0.694486</td>\n",
       "    </tr>\n",
       "    <tr>\n",
       "      <th>3</th>\n",
       "      <td>-1.528541</td>\n",
       "      <td>-1.305028</td>\n",
       "      <td>0.260096</td>\n",
       "      <td>0.022526</td>\n",
       "    </tr>\n",
       "    <tr>\n",
       "      <th>4</th>\n",
       "      <td>-0.248870</td>\n",
       "      <td>0.500381</td>\n",
       "      <td>-2.188017</td>\n",
       "      <td>0.136475</td>\n",
       "    </tr>\n",
       "  </tbody>\n",
       "</table>\n",
       "</div>"
      ],
      "text/plain": [
       "          A         B         C         D\n",
       "0 -0.190281 -0.807888 -0.280879  0.328889\n",
       "1  0.328237 -0.644889 -0.004941 -0.053621\n",
       "2  1.139923 -0.745590 -0.182302  0.694486\n",
       "3 -1.528541 -1.305028  0.260096  0.022526\n",
       "4 -0.248870  0.500381 -2.188017  0.136475"
      ]
     },
     "execution_count": 26,
     "metadata": {},
     "output_type": "execute_result"
    }
   ],
   "source": [
    "df.head()"
   ]
  },
  {
   "cell_type": "code",
   "execution_count": 27,
   "metadata": {},
   "outputs": [
    {
     "data": {
      "application/vnd.plotly.v1+json": {
       "config": {
        "linkText": "Export to plot.ly",
        "plotlyServerURL": "https://plot.ly",
        "showLink": true
       },
       "data": [
        {
         "marker": {
          "color": "rgba(255, 153, 51, 0.6)",
          "line": {
           "color": "rgba(255, 153, 51, 1.0)",
           "width": 1
          }
         },
         "name": "None",
         "orientation": "v",
         "text": "",
         "type": "bar",
         "x": [
          "A",
          "B",
          "C",
          "D"
         ],
         "y": [
          100,
          100,
          100,
          100
         ]
        }
       ],
       "layout": {
        "legend": {
         "bgcolor": "#F5F6F9",
         "font": {
          "color": "#4D5663"
         }
        },
        "paper_bgcolor": "#F5F6F9",
        "plot_bgcolor": "#F5F6F9",
        "template": {
         "data": {
          "bar": [
           {
            "error_x": {
             "color": "#2a3f5f"
            },
            "error_y": {
             "color": "#2a3f5f"
            },
            "marker": {
             "line": {
              "color": "#E5ECF6",
              "width": 0.5
             },
             "pattern": {
              "fillmode": "overlay",
              "size": 10,
              "solidity": 0.2
             }
            },
            "type": "bar"
           }
          ],
          "barpolar": [
           {
            "marker": {
             "line": {
              "color": "#E5ECF6",
              "width": 0.5
             },
             "pattern": {
              "fillmode": "overlay",
              "size": 10,
              "solidity": 0.2
             }
            },
            "type": "barpolar"
           }
          ],
          "carpet": [
           {
            "aaxis": {
             "endlinecolor": "#2a3f5f",
             "gridcolor": "white",
             "linecolor": "white",
             "minorgridcolor": "white",
             "startlinecolor": "#2a3f5f"
            },
            "baxis": {
             "endlinecolor": "#2a3f5f",
             "gridcolor": "white",
             "linecolor": "white",
             "minorgridcolor": "white",
             "startlinecolor": "#2a3f5f"
            },
            "type": "carpet"
           }
          ],
          "choropleth": [
           {
            "colorbar": {
             "outlinewidth": 0,
             "ticks": ""
            },
            "type": "choropleth"
           }
          ],
          "contour": [
           {
            "colorbar": {
             "outlinewidth": 0,
             "ticks": ""
            },
            "colorscale": [
             [
              0,
              "#0d0887"
             ],
             [
              0.1111111111111111,
              "#46039f"
             ],
             [
              0.2222222222222222,
              "#7201a8"
             ],
             [
              0.3333333333333333,
              "#9c179e"
             ],
             [
              0.4444444444444444,
              "#bd3786"
             ],
             [
              0.5555555555555556,
              "#d8576b"
             ],
             [
              0.6666666666666666,
              "#ed7953"
             ],
             [
              0.7777777777777778,
              "#fb9f3a"
             ],
             [
              0.8888888888888888,
              "#fdca26"
             ],
             [
              1,
              "#f0f921"
             ]
            ],
            "type": "contour"
           }
          ],
          "contourcarpet": [
           {
            "colorbar": {
             "outlinewidth": 0,
             "ticks": ""
            },
            "type": "contourcarpet"
           }
          ],
          "heatmap": [
           {
            "colorbar": {
             "outlinewidth": 0,
             "ticks": ""
            },
            "colorscale": [
             [
              0,
              "#0d0887"
             ],
             [
              0.1111111111111111,
              "#46039f"
             ],
             [
              0.2222222222222222,
              "#7201a8"
             ],
             [
              0.3333333333333333,
              "#9c179e"
             ],
             [
              0.4444444444444444,
              "#bd3786"
             ],
             [
              0.5555555555555556,
              "#d8576b"
             ],
             [
              0.6666666666666666,
              "#ed7953"
             ],
             [
              0.7777777777777778,
              "#fb9f3a"
             ],
             [
              0.8888888888888888,
              "#fdca26"
             ],
             [
              1,
              "#f0f921"
             ]
            ],
            "type": "heatmap"
           }
          ],
          "heatmapgl": [
           {
            "colorbar": {
             "outlinewidth": 0,
             "ticks": ""
            },
            "colorscale": [
             [
              0,
              "#0d0887"
             ],
             [
              0.1111111111111111,
              "#46039f"
             ],
             [
              0.2222222222222222,
              "#7201a8"
             ],
             [
              0.3333333333333333,
              "#9c179e"
             ],
             [
              0.4444444444444444,
              "#bd3786"
             ],
             [
              0.5555555555555556,
              "#d8576b"
             ],
             [
              0.6666666666666666,
              "#ed7953"
             ],
             [
              0.7777777777777778,
              "#fb9f3a"
             ],
             [
              0.8888888888888888,
              "#fdca26"
             ],
             [
              1,
              "#f0f921"
             ]
            ],
            "type": "heatmapgl"
           }
          ],
          "histogram": [
           {
            "marker": {
             "pattern": {
              "fillmode": "overlay",
              "size": 10,
              "solidity": 0.2
             }
            },
            "type": "histogram"
           }
          ],
          "histogram2d": [
           {
            "colorbar": {
             "outlinewidth": 0,
             "ticks": ""
            },
            "colorscale": [
             [
              0,
              "#0d0887"
             ],
             [
              0.1111111111111111,
              "#46039f"
             ],
             [
              0.2222222222222222,
              "#7201a8"
             ],
             [
              0.3333333333333333,
              "#9c179e"
             ],
             [
              0.4444444444444444,
              "#bd3786"
             ],
             [
              0.5555555555555556,
              "#d8576b"
             ],
             [
              0.6666666666666666,
              "#ed7953"
             ],
             [
              0.7777777777777778,
              "#fb9f3a"
             ],
             [
              0.8888888888888888,
              "#fdca26"
             ],
             [
              1,
              "#f0f921"
             ]
            ],
            "type": "histogram2d"
           }
          ],
          "histogram2dcontour": [
           {
            "colorbar": {
             "outlinewidth": 0,
             "ticks": ""
            },
            "colorscale": [
             [
              0,
              "#0d0887"
             ],
             [
              0.1111111111111111,
              "#46039f"
             ],
             [
              0.2222222222222222,
              "#7201a8"
             ],
             [
              0.3333333333333333,
              "#9c179e"
             ],
             [
              0.4444444444444444,
              "#bd3786"
             ],
             [
              0.5555555555555556,
              "#d8576b"
             ],
             [
              0.6666666666666666,
              "#ed7953"
             ],
             [
              0.7777777777777778,
              "#fb9f3a"
             ],
             [
              0.8888888888888888,
              "#fdca26"
             ],
             [
              1,
              "#f0f921"
             ]
            ],
            "type": "histogram2dcontour"
           }
          ],
          "mesh3d": [
           {
            "colorbar": {
             "outlinewidth": 0,
             "ticks": ""
            },
            "type": "mesh3d"
           }
          ],
          "parcoords": [
           {
            "line": {
             "colorbar": {
              "outlinewidth": 0,
              "ticks": ""
             }
            },
            "type": "parcoords"
           }
          ],
          "pie": [
           {
            "automargin": true,
            "type": "pie"
           }
          ],
          "scatter": [
           {
            "marker": {
             "colorbar": {
              "outlinewidth": 0,
              "ticks": ""
             }
            },
            "type": "scatter"
           }
          ],
          "scatter3d": [
           {
            "line": {
             "colorbar": {
              "outlinewidth": 0,
              "ticks": ""
             }
            },
            "marker": {
             "colorbar": {
              "outlinewidth": 0,
              "ticks": ""
             }
            },
            "type": "scatter3d"
           }
          ],
          "scattercarpet": [
           {
            "marker": {
             "colorbar": {
              "outlinewidth": 0,
              "ticks": ""
             }
            },
            "type": "scattercarpet"
           }
          ],
          "scattergeo": [
           {
            "marker": {
             "colorbar": {
              "outlinewidth": 0,
              "ticks": ""
             }
            },
            "type": "scattergeo"
           }
          ],
          "scattergl": [
           {
            "marker": {
             "colorbar": {
              "outlinewidth": 0,
              "ticks": ""
             }
            },
            "type": "scattergl"
           }
          ],
          "scattermapbox": [
           {
            "marker": {
             "colorbar": {
              "outlinewidth": 0,
              "ticks": ""
             }
            },
            "type": "scattermapbox"
           }
          ],
          "scatterpolar": [
           {
            "marker": {
             "colorbar": {
              "outlinewidth": 0,
              "ticks": ""
             }
            },
            "type": "scatterpolar"
           }
          ],
          "scatterpolargl": [
           {
            "marker": {
             "colorbar": {
              "outlinewidth": 0,
              "ticks": ""
             }
            },
            "type": "scatterpolargl"
           }
          ],
          "scatterternary": [
           {
            "marker": {
             "colorbar": {
              "outlinewidth": 0,
              "ticks": ""
             }
            },
            "type": "scatterternary"
           }
          ],
          "surface": [
           {
            "colorbar": {
             "outlinewidth": 0,
             "ticks": ""
            },
            "colorscale": [
             [
              0,
              "#0d0887"
             ],
             [
              0.1111111111111111,
              "#46039f"
             ],
             [
              0.2222222222222222,
              "#7201a8"
             ],
             [
              0.3333333333333333,
              "#9c179e"
             ],
             [
              0.4444444444444444,
              "#bd3786"
             ],
             [
              0.5555555555555556,
              "#d8576b"
             ],
             [
              0.6666666666666666,
              "#ed7953"
             ],
             [
              0.7777777777777778,
              "#fb9f3a"
             ],
             [
              0.8888888888888888,
              "#fdca26"
             ],
             [
              1,
              "#f0f921"
             ]
            ],
            "type": "surface"
           }
          ],
          "table": [
           {
            "cells": {
             "fill": {
              "color": "#EBF0F8"
             },
             "line": {
              "color": "white"
             }
            },
            "header": {
             "fill": {
              "color": "#C8D4E3"
             },
             "line": {
              "color": "white"
             }
            },
            "type": "table"
           }
          ]
         },
         "layout": {
          "annotationdefaults": {
           "arrowcolor": "#2a3f5f",
           "arrowhead": 0,
           "arrowwidth": 1
          },
          "autotypenumbers": "strict",
          "coloraxis": {
           "colorbar": {
            "outlinewidth": 0,
            "ticks": ""
           }
          },
          "colorscale": {
           "diverging": [
            [
             0,
             "#8e0152"
            ],
            [
             0.1,
             "#c51b7d"
            ],
            [
             0.2,
             "#de77ae"
            ],
            [
             0.3,
             "#f1b6da"
            ],
            [
             0.4,
             "#fde0ef"
            ],
            [
             0.5,
             "#f7f7f7"
            ],
            [
             0.6,
             "#e6f5d0"
            ],
            [
             0.7,
             "#b8e186"
            ],
            [
             0.8,
             "#7fbc41"
            ],
            [
             0.9,
             "#4d9221"
            ],
            [
             1,
             "#276419"
            ]
           ],
           "sequential": [
            [
             0,
             "#0d0887"
            ],
            [
             0.1111111111111111,
             "#46039f"
            ],
            [
             0.2222222222222222,
             "#7201a8"
            ],
            [
             0.3333333333333333,
             "#9c179e"
            ],
            [
             0.4444444444444444,
             "#bd3786"
            ],
            [
             0.5555555555555556,
             "#d8576b"
            ],
            [
             0.6666666666666666,
             "#ed7953"
            ],
            [
             0.7777777777777778,
             "#fb9f3a"
            ],
            [
             0.8888888888888888,
             "#fdca26"
            ],
            [
             1,
             "#f0f921"
            ]
           ],
           "sequentialminus": [
            [
             0,
             "#0d0887"
            ],
            [
             0.1111111111111111,
             "#46039f"
            ],
            [
             0.2222222222222222,
             "#7201a8"
            ],
            [
             0.3333333333333333,
             "#9c179e"
            ],
            [
             0.4444444444444444,
             "#bd3786"
            ],
            [
             0.5555555555555556,
             "#d8576b"
            ],
            [
             0.6666666666666666,
             "#ed7953"
            ],
            [
             0.7777777777777778,
             "#fb9f3a"
            ],
            [
             0.8888888888888888,
             "#fdca26"
            ],
            [
             1,
             "#f0f921"
            ]
           ]
          },
          "colorway": [
           "#636efa",
           "#EF553B",
           "#00cc96",
           "#ab63fa",
           "#FFA15A",
           "#19d3f3",
           "#FF6692",
           "#B6E880",
           "#FF97FF",
           "#FECB52"
          ],
          "font": {
           "color": "#2a3f5f"
          },
          "geo": {
           "bgcolor": "white",
           "lakecolor": "white",
           "landcolor": "#E5ECF6",
           "showlakes": true,
           "showland": true,
           "subunitcolor": "white"
          },
          "hoverlabel": {
           "align": "left"
          },
          "hovermode": "closest",
          "mapbox": {
           "style": "light"
          },
          "paper_bgcolor": "white",
          "plot_bgcolor": "#E5ECF6",
          "polar": {
           "angularaxis": {
            "gridcolor": "white",
            "linecolor": "white",
            "ticks": ""
           },
           "bgcolor": "#E5ECF6",
           "radialaxis": {
            "gridcolor": "white",
            "linecolor": "white",
            "ticks": ""
           }
          },
          "scene": {
           "xaxis": {
            "backgroundcolor": "#E5ECF6",
            "gridcolor": "white",
            "gridwidth": 2,
            "linecolor": "white",
            "showbackground": true,
            "ticks": "",
            "zerolinecolor": "white"
           },
           "yaxis": {
            "backgroundcolor": "#E5ECF6",
            "gridcolor": "white",
            "gridwidth": 2,
            "linecolor": "white",
            "showbackground": true,
            "ticks": "",
            "zerolinecolor": "white"
           },
           "zaxis": {
            "backgroundcolor": "#E5ECF6",
            "gridcolor": "white",
            "gridwidth": 2,
            "linecolor": "white",
            "showbackground": true,
            "ticks": "",
            "zerolinecolor": "white"
           }
          },
          "shapedefaults": {
           "line": {
            "color": "#2a3f5f"
           }
          },
          "ternary": {
           "aaxis": {
            "gridcolor": "white",
            "linecolor": "white",
            "ticks": ""
           },
           "baxis": {
            "gridcolor": "white",
            "linecolor": "white",
            "ticks": ""
           },
           "bgcolor": "#E5ECF6",
           "caxis": {
            "gridcolor": "white",
            "linecolor": "white",
            "ticks": ""
           }
          },
          "title": {
           "x": 0.05
          },
          "xaxis": {
           "automargin": true,
           "gridcolor": "white",
           "linecolor": "white",
           "ticks": "",
           "title": {
            "standoff": 15
           },
           "zerolinecolor": "white",
           "zerolinewidth": 2
          },
          "yaxis": {
           "automargin": true,
           "gridcolor": "white",
           "linecolor": "white",
           "ticks": "",
           "title": {
            "standoff": 15
           },
           "zerolinecolor": "white",
           "zerolinewidth": 2
          }
         }
        },
        "title": {
         "font": {
          "color": "#4D5663"
         }
        },
        "xaxis": {
         "gridcolor": "#E1E5ED",
         "showgrid": true,
         "tickfont": {
          "color": "#4D5663"
         },
         "title": {
          "font": {
           "color": "#4D5663"
          },
          "text": ""
         },
         "zerolinecolor": "#E1E5ED"
        },
        "yaxis": {
         "gridcolor": "#E1E5ED",
         "showgrid": true,
         "tickfont": {
          "color": "#4D5663"
         },
         "title": {
          "font": {
           "color": "#4D5663"
          },
          "text": ""
         },
         "zerolinecolor": "#E1E5ED"
        }
       }
      },
      "text/html": [
       "<div>                            <div id=\"0fa33f23-91f6-4bfc-a9c0-a2c1498fb5aa\" class=\"plotly-graph-div\" style=\"height:525px; width:100%;\"></div>            <script type=\"text/javascript\">                require([\"plotly\"], function(Plotly) {                    window.PLOTLYENV=window.PLOTLYENV || {};\n",
       "                    window.PLOTLYENV.BASE_URL='https://plot.ly';                                    if (document.getElementById(\"0fa33f23-91f6-4bfc-a9c0-a2c1498fb5aa\")) {                    Plotly.newPlot(                        \"0fa33f23-91f6-4bfc-a9c0-a2c1498fb5aa\",                        [{\"marker\":{\"color\":\"rgba(255, 153, 51, 0.6)\",\"line\":{\"color\":\"rgba(255, 153, 51, 1.0)\",\"width\":1}},\"name\":\"None\",\"orientation\":\"v\",\"text\":\"\",\"x\":[\"A\",\"B\",\"C\",\"D\"],\"y\":[100,100,100,100],\"type\":\"bar\"}],                        {\"legend\":{\"bgcolor\":\"#F5F6F9\",\"font\":{\"color\":\"#4D5663\"}},\"paper_bgcolor\":\"#F5F6F9\",\"plot_bgcolor\":\"#F5F6F9\",\"template\":{\"data\":{\"barpolar\":[{\"marker\":{\"line\":{\"color\":\"#E5ECF6\",\"width\":0.5},\"pattern\":{\"fillmode\":\"overlay\",\"size\":10,\"solidity\":0.2}},\"type\":\"barpolar\"}],\"bar\":[{\"error_x\":{\"color\":\"#2a3f5f\"},\"error_y\":{\"color\":\"#2a3f5f\"},\"marker\":{\"line\":{\"color\":\"#E5ECF6\",\"width\":0.5},\"pattern\":{\"fillmode\":\"overlay\",\"size\":10,\"solidity\":0.2}},\"type\":\"bar\"}],\"carpet\":[{\"aaxis\":{\"endlinecolor\":\"#2a3f5f\",\"gridcolor\":\"white\",\"linecolor\":\"white\",\"minorgridcolor\":\"white\",\"startlinecolor\":\"#2a3f5f\"},\"baxis\":{\"endlinecolor\":\"#2a3f5f\",\"gridcolor\":\"white\",\"linecolor\":\"white\",\"minorgridcolor\":\"white\",\"startlinecolor\":\"#2a3f5f\"},\"type\":\"carpet\"}],\"choropleth\":[{\"colorbar\":{\"outlinewidth\":0,\"ticks\":\"\"},\"type\":\"choropleth\"}],\"contourcarpet\":[{\"colorbar\":{\"outlinewidth\":0,\"ticks\":\"\"},\"type\":\"contourcarpet\"}],\"contour\":[{\"colorbar\":{\"outlinewidth\":0,\"ticks\":\"\"},\"colorscale\":[[0.0,\"#0d0887\"],[0.1111111111111111,\"#46039f\"],[0.2222222222222222,\"#7201a8\"],[0.3333333333333333,\"#9c179e\"],[0.4444444444444444,\"#bd3786\"],[0.5555555555555556,\"#d8576b\"],[0.6666666666666666,\"#ed7953\"],[0.7777777777777778,\"#fb9f3a\"],[0.8888888888888888,\"#fdca26\"],[1.0,\"#f0f921\"]],\"type\":\"contour\"}],\"heatmapgl\":[{\"colorbar\":{\"outlinewidth\":0,\"ticks\":\"\"},\"colorscale\":[[0.0,\"#0d0887\"],[0.1111111111111111,\"#46039f\"],[0.2222222222222222,\"#7201a8\"],[0.3333333333333333,\"#9c179e\"],[0.4444444444444444,\"#bd3786\"],[0.5555555555555556,\"#d8576b\"],[0.6666666666666666,\"#ed7953\"],[0.7777777777777778,\"#fb9f3a\"],[0.8888888888888888,\"#fdca26\"],[1.0,\"#f0f921\"]],\"type\":\"heatmapgl\"}],\"heatmap\":[{\"colorbar\":{\"outlinewidth\":0,\"ticks\":\"\"},\"colorscale\":[[0.0,\"#0d0887\"],[0.1111111111111111,\"#46039f\"],[0.2222222222222222,\"#7201a8\"],[0.3333333333333333,\"#9c179e\"],[0.4444444444444444,\"#bd3786\"],[0.5555555555555556,\"#d8576b\"],[0.6666666666666666,\"#ed7953\"],[0.7777777777777778,\"#fb9f3a\"],[0.8888888888888888,\"#fdca26\"],[1.0,\"#f0f921\"]],\"type\":\"heatmap\"}],\"histogram2dcontour\":[{\"colorbar\":{\"outlinewidth\":0,\"ticks\":\"\"},\"colorscale\":[[0.0,\"#0d0887\"],[0.1111111111111111,\"#46039f\"],[0.2222222222222222,\"#7201a8\"],[0.3333333333333333,\"#9c179e\"],[0.4444444444444444,\"#bd3786\"],[0.5555555555555556,\"#d8576b\"],[0.6666666666666666,\"#ed7953\"],[0.7777777777777778,\"#fb9f3a\"],[0.8888888888888888,\"#fdca26\"],[1.0,\"#f0f921\"]],\"type\":\"histogram2dcontour\"}],\"histogram2d\":[{\"colorbar\":{\"outlinewidth\":0,\"ticks\":\"\"},\"colorscale\":[[0.0,\"#0d0887\"],[0.1111111111111111,\"#46039f\"],[0.2222222222222222,\"#7201a8\"],[0.3333333333333333,\"#9c179e\"],[0.4444444444444444,\"#bd3786\"],[0.5555555555555556,\"#d8576b\"],[0.6666666666666666,\"#ed7953\"],[0.7777777777777778,\"#fb9f3a\"],[0.8888888888888888,\"#fdca26\"],[1.0,\"#f0f921\"]],\"type\":\"histogram2d\"}],\"histogram\":[{\"marker\":{\"pattern\":{\"fillmode\":\"overlay\",\"size\":10,\"solidity\":0.2}},\"type\":\"histogram\"}],\"mesh3d\":[{\"colorbar\":{\"outlinewidth\":0,\"ticks\":\"\"},\"type\":\"mesh3d\"}],\"parcoords\":[{\"line\":{\"colorbar\":{\"outlinewidth\":0,\"ticks\":\"\"}},\"type\":\"parcoords\"}],\"pie\":[{\"automargin\":true,\"type\":\"pie\"}],\"scatter3d\":[{\"line\":{\"colorbar\":{\"outlinewidth\":0,\"ticks\":\"\"}},\"marker\":{\"colorbar\":{\"outlinewidth\":0,\"ticks\":\"\"}},\"type\":\"scatter3d\"}],\"scattercarpet\":[{\"marker\":{\"colorbar\":{\"outlinewidth\":0,\"ticks\":\"\"}},\"type\":\"scattercarpet\"}],\"scattergeo\":[{\"marker\":{\"colorbar\":{\"outlinewidth\":0,\"ticks\":\"\"}},\"type\":\"scattergeo\"}],\"scattergl\":[{\"marker\":{\"colorbar\":{\"outlinewidth\":0,\"ticks\":\"\"}},\"type\":\"scattergl\"}],\"scattermapbox\":[{\"marker\":{\"colorbar\":{\"outlinewidth\":0,\"ticks\":\"\"}},\"type\":\"scattermapbox\"}],\"scatterpolargl\":[{\"marker\":{\"colorbar\":{\"outlinewidth\":0,\"ticks\":\"\"}},\"type\":\"scatterpolargl\"}],\"scatterpolar\":[{\"marker\":{\"colorbar\":{\"outlinewidth\":0,\"ticks\":\"\"}},\"type\":\"scatterpolar\"}],\"scatter\":[{\"marker\":{\"colorbar\":{\"outlinewidth\":0,\"ticks\":\"\"}},\"type\":\"scatter\"}],\"scatterternary\":[{\"marker\":{\"colorbar\":{\"outlinewidth\":0,\"ticks\":\"\"}},\"type\":\"scatterternary\"}],\"surface\":[{\"colorbar\":{\"outlinewidth\":0,\"ticks\":\"\"},\"colorscale\":[[0.0,\"#0d0887\"],[0.1111111111111111,\"#46039f\"],[0.2222222222222222,\"#7201a8\"],[0.3333333333333333,\"#9c179e\"],[0.4444444444444444,\"#bd3786\"],[0.5555555555555556,\"#d8576b\"],[0.6666666666666666,\"#ed7953\"],[0.7777777777777778,\"#fb9f3a\"],[0.8888888888888888,\"#fdca26\"],[1.0,\"#f0f921\"]],\"type\":\"surface\"}],\"table\":[{\"cells\":{\"fill\":{\"color\":\"#EBF0F8\"},\"line\":{\"color\":\"white\"}},\"header\":{\"fill\":{\"color\":\"#C8D4E3\"},\"line\":{\"color\":\"white\"}},\"type\":\"table\"}]},\"layout\":{\"annotationdefaults\":{\"arrowcolor\":\"#2a3f5f\",\"arrowhead\":0,\"arrowwidth\":1},\"autotypenumbers\":\"strict\",\"coloraxis\":{\"colorbar\":{\"outlinewidth\":0,\"ticks\":\"\"}},\"colorscale\":{\"diverging\":[[0,\"#8e0152\"],[0.1,\"#c51b7d\"],[0.2,\"#de77ae\"],[0.3,\"#f1b6da\"],[0.4,\"#fde0ef\"],[0.5,\"#f7f7f7\"],[0.6,\"#e6f5d0\"],[0.7,\"#b8e186\"],[0.8,\"#7fbc41\"],[0.9,\"#4d9221\"],[1,\"#276419\"]],\"sequential\":[[0.0,\"#0d0887\"],[0.1111111111111111,\"#46039f\"],[0.2222222222222222,\"#7201a8\"],[0.3333333333333333,\"#9c179e\"],[0.4444444444444444,\"#bd3786\"],[0.5555555555555556,\"#d8576b\"],[0.6666666666666666,\"#ed7953\"],[0.7777777777777778,\"#fb9f3a\"],[0.8888888888888888,\"#fdca26\"],[1.0,\"#f0f921\"]],\"sequentialminus\":[[0.0,\"#0d0887\"],[0.1111111111111111,\"#46039f\"],[0.2222222222222222,\"#7201a8\"],[0.3333333333333333,\"#9c179e\"],[0.4444444444444444,\"#bd3786\"],[0.5555555555555556,\"#d8576b\"],[0.6666666666666666,\"#ed7953\"],[0.7777777777777778,\"#fb9f3a\"],[0.8888888888888888,\"#fdca26\"],[1.0,\"#f0f921\"]]},\"colorway\":[\"#636efa\",\"#EF553B\",\"#00cc96\",\"#ab63fa\",\"#FFA15A\",\"#19d3f3\",\"#FF6692\",\"#B6E880\",\"#FF97FF\",\"#FECB52\"],\"font\":{\"color\":\"#2a3f5f\"},\"geo\":{\"bgcolor\":\"white\",\"lakecolor\":\"white\",\"landcolor\":\"#E5ECF6\",\"showlakes\":true,\"showland\":true,\"subunitcolor\":\"white\"},\"hoverlabel\":{\"align\":\"left\"},\"hovermode\":\"closest\",\"mapbox\":{\"style\":\"light\"},\"paper_bgcolor\":\"white\",\"plot_bgcolor\":\"#E5ECF6\",\"polar\":{\"angularaxis\":{\"gridcolor\":\"white\",\"linecolor\":\"white\",\"ticks\":\"\"},\"bgcolor\":\"#E5ECF6\",\"radialaxis\":{\"gridcolor\":\"white\",\"linecolor\":\"white\",\"ticks\":\"\"}},\"scene\":{\"xaxis\":{\"backgroundcolor\":\"#E5ECF6\",\"gridcolor\":\"white\",\"gridwidth\":2,\"linecolor\":\"white\",\"showbackground\":true,\"ticks\":\"\",\"zerolinecolor\":\"white\"},\"yaxis\":{\"backgroundcolor\":\"#E5ECF6\",\"gridcolor\":\"white\",\"gridwidth\":2,\"linecolor\":\"white\",\"showbackground\":true,\"ticks\":\"\",\"zerolinecolor\":\"white\"},\"zaxis\":{\"backgroundcolor\":\"#E5ECF6\",\"gridcolor\":\"white\",\"gridwidth\":2,\"linecolor\":\"white\",\"showbackground\":true,\"ticks\":\"\",\"zerolinecolor\":\"white\"}},\"shapedefaults\":{\"line\":{\"color\":\"#2a3f5f\"}},\"ternary\":{\"aaxis\":{\"gridcolor\":\"white\",\"linecolor\":\"white\",\"ticks\":\"\"},\"baxis\":{\"gridcolor\":\"white\",\"linecolor\":\"white\",\"ticks\":\"\"},\"bgcolor\":\"#E5ECF6\",\"caxis\":{\"gridcolor\":\"white\",\"linecolor\":\"white\",\"ticks\":\"\"}},\"title\":{\"x\":0.05},\"xaxis\":{\"automargin\":true,\"gridcolor\":\"white\",\"linecolor\":\"white\",\"ticks\":\"\",\"title\":{\"standoff\":15},\"zerolinecolor\":\"white\",\"zerolinewidth\":2},\"yaxis\":{\"automargin\":true,\"gridcolor\":\"white\",\"linecolor\":\"white\",\"ticks\":\"\",\"title\":{\"standoff\":15},\"zerolinecolor\":\"white\",\"zerolinewidth\":2}}},\"title\":{\"font\":{\"color\":\"#4D5663\"}},\"xaxis\":{\"gridcolor\":\"#E1E5ED\",\"showgrid\":true,\"tickfont\":{\"color\":\"#4D5663\"},\"title\":{\"font\":{\"color\":\"#4D5663\"},\"text\":\"\"},\"zerolinecolor\":\"#E1E5ED\"},\"yaxis\":{\"gridcolor\":\"#E1E5ED\",\"showgrid\":true,\"tickfont\":{\"color\":\"#4D5663\"},\"title\":{\"font\":{\"color\":\"#4D5663\"},\"text\":\"\"},\"zerolinecolor\":\"#E1E5ED\"}},                        {\"showLink\": true, \"linkText\": \"Export to plot.ly\", \"plotlyServerURL\": \"https://plot.ly\", \"responsive\": true}                    ).then(function(){\n",
       "                            \n",
       "var gd = document.getElementById('0fa33f23-91f6-4bfc-a9c0-a2c1498fb5aa');\n",
       "var x = new MutationObserver(function (mutations, observer) {{\n",
       "        var display = window.getComputedStyle(gd).display;\n",
       "        if (!display || display === 'none') {{\n",
       "            console.log([gd, 'removed!']);\n",
       "            Plotly.purge(gd);\n",
       "            observer.disconnect();\n",
       "        }}\n",
       "}});\n",
       "\n",
       "// Listen for the removal of the full notebook cells\n",
       "var notebookContainer = gd.closest('#notebook-container');\n",
       "if (notebookContainer) {{\n",
       "    x.observe(notebookContainer, {childList: true});\n",
       "}}\n",
       "\n",
       "// Listen for the clearing of the current output cell\n",
       "var outputEl = gd.closest('.output');\n",
       "if (outputEl) {{\n",
       "    x.observe(outputEl, {childList: true});\n",
       "}}\n",
       "\n",
       "                        })                };                });            </script>        </div>"
      ]
     },
     "metadata": {},
     "output_type": "display_data"
    }
   ],
   "source": [
    "df.count().iplot(kind = 'bar')"
   ]
  },
  {
   "cell_type": "code",
   "execution_count": 28,
   "metadata": {},
   "outputs": [
    {
     "data": {
      "application/vnd.plotly.v1+json": {
       "config": {
        "linkText": "Export to plot.ly",
        "plotlyServerURL": "https://plot.ly",
        "showLink": true
       },
       "data": [
        {
         "marker": {
          "color": "rgba(255, 153, 51, 0.6)",
          "line": {
           "color": "rgba(255, 153, 51, 1.0)",
           "width": 1
          }
         },
         "name": "None",
         "orientation": "v",
         "text": "",
         "type": "bar",
         "x": [
          "A",
          "B",
          "C",
          "D"
         ],
         "y": [
          21.23132600086864,
          -4.286488922840706,
          -14.034189182240222,
          -13.094791516818297
         ]
        }
       ],
       "layout": {
        "legend": {
         "bgcolor": "#F5F6F9",
         "font": {
          "color": "#4D5663"
         }
        },
        "paper_bgcolor": "#F5F6F9",
        "plot_bgcolor": "#F5F6F9",
        "template": {
         "data": {
          "bar": [
           {
            "error_x": {
             "color": "#2a3f5f"
            },
            "error_y": {
             "color": "#2a3f5f"
            },
            "marker": {
             "line": {
              "color": "#E5ECF6",
              "width": 0.5
             },
             "pattern": {
              "fillmode": "overlay",
              "size": 10,
              "solidity": 0.2
             }
            },
            "type": "bar"
           }
          ],
          "barpolar": [
           {
            "marker": {
             "line": {
              "color": "#E5ECF6",
              "width": 0.5
             },
             "pattern": {
              "fillmode": "overlay",
              "size": 10,
              "solidity": 0.2
             }
            },
            "type": "barpolar"
           }
          ],
          "carpet": [
           {
            "aaxis": {
             "endlinecolor": "#2a3f5f",
             "gridcolor": "white",
             "linecolor": "white",
             "minorgridcolor": "white",
             "startlinecolor": "#2a3f5f"
            },
            "baxis": {
             "endlinecolor": "#2a3f5f",
             "gridcolor": "white",
             "linecolor": "white",
             "minorgridcolor": "white",
             "startlinecolor": "#2a3f5f"
            },
            "type": "carpet"
           }
          ],
          "choropleth": [
           {
            "colorbar": {
             "outlinewidth": 0,
             "ticks": ""
            },
            "type": "choropleth"
           }
          ],
          "contour": [
           {
            "colorbar": {
             "outlinewidth": 0,
             "ticks": ""
            },
            "colorscale": [
             [
              0,
              "#0d0887"
             ],
             [
              0.1111111111111111,
              "#46039f"
             ],
             [
              0.2222222222222222,
              "#7201a8"
             ],
             [
              0.3333333333333333,
              "#9c179e"
             ],
             [
              0.4444444444444444,
              "#bd3786"
             ],
             [
              0.5555555555555556,
              "#d8576b"
             ],
             [
              0.6666666666666666,
              "#ed7953"
             ],
             [
              0.7777777777777778,
              "#fb9f3a"
             ],
             [
              0.8888888888888888,
              "#fdca26"
             ],
             [
              1,
              "#f0f921"
             ]
            ],
            "type": "contour"
           }
          ],
          "contourcarpet": [
           {
            "colorbar": {
             "outlinewidth": 0,
             "ticks": ""
            },
            "type": "contourcarpet"
           }
          ],
          "heatmap": [
           {
            "colorbar": {
             "outlinewidth": 0,
             "ticks": ""
            },
            "colorscale": [
             [
              0,
              "#0d0887"
             ],
             [
              0.1111111111111111,
              "#46039f"
             ],
             [
              0.2222222222222222,
              "#7201a8"
             ],
             [
              0.3333333333333333,
              "#9c179e"
             ],
             [
              0.4444444444444444,
              "#bd3786"
             ],
             [
              0.5555555555555556,
              "#d8576b"
             ],
             [
              0.6666666666666666,
              "#ed7953"
             ],
             [
              0.7777777777777778,
              "#fb9f3a"
             ],
             [
              0.8888888888888888,
              "#fdca26"
             ],
             [
              1,
              "#f0f921"
             ]
            ],
            "type": "heatmap"
           }
          ],
          "heatmapgl": [
           {
            "colorbar": {
             "outlinewidth": 0,
             "ticks": ""
            },
            "colorscale": [
             [
              0,
              "#0d0887"
             ],
             [
              0.1111111111111111,
              "#46039f"
             ],
             [
              0.2222222222222222,
              "#7201a8"
             ],
             [
              0.3333333333333333,
              "#9c179e"
             ],
             [
              0.4444444444444444,
              "#bd3786"
             ],
             [
              0.5555555555555556,
              "#d8576b"
             ],
             [
              0.6666666666666666,
              "#ed7953"
             ],
             [
              0.7777777777777778,
              "#fb9f3a"
             ],
             [
              0.8888888888888888,
              "#fdca26"
             ],
             [
              1,
              "#f0f921"
             ]
            ],
            "type": "heatmapgl"
           }
          ],
          "histogram": [
           {
            "marker": {
             "pattern": {
              "fillmode": "overlay",
              "size": 10,
              "solidity": 0.2
             }
            },
            "type": "histogram"
           }
          ],
          "histogram2d": [
           {
            "colorbar": {
             "outlinewidth": 0,
             "ticks": ""
            },
            "colorscale": [
             [
              0,
              "#0d0887"
             ],
             [
              0.1111111111111111,
              "#46039f"
             ],
             [
              0.2222222222222222,
              "#7201a8"
             ],
             [
              0.3333333333333333,
              "#9c179e"
             ],
             [
              0.4444444444444444,
              "#bd3786"
             ],
             [
              0.5555555555555556,
              "#d8576b"
             ],
             [
              0.6666666666666666,
              "#ed7953"
             ],
             [
              0.7777777777777778,
              "#fb9f3a"
             ],
             [
              0.8888888888888888,
              "#fdca26"
             ],
             [
              1,
              "#f0f921"
             ]
            ],
            "type": "histogram2d"
           }
          ],
          "histogram2dcontour": [
           {
            "colorbar": {
             "outlinewidth": 0,
             "ticks": ""
            },
            "colorscale": [
             [
              0,
              "#0d0887"
             ],
             [
              0.1111111111111111,
              "#46039f"
             ],
             [
              0.2222222222222222,
              "#7201a8"
             ],
             [
              0.3333333333333333,
              "#9c179e"
             ],
             [
              0.4444444444444444,
              "#bd3786"
             ],
             [
              0.5555555555555556,
              "#d8576b"
             ],
             [
              0.6666666666666666,
              "#ed7953"
             ],
             [
              0.7777777777777778,
              "#fb9f3a"
             ],
             [
              0.8888888888888888,
              "#fdca26"
             ],
             [
              1,
              "#f0f921"
             ]
            ],
            "type": "histogram2dcontour"
           }
          ],
          "mesh3d": [
           {
            "colorbar": {
             "outlinewidth": 0,
             "ticks": ""
            },
            "type": "mesh3d"
           }
          ],
          "parcoords": [
           {
            "line": {
             "colorbar": {
              "outlinewidth": 0,
              "ticks": ""
             }
            },
            "type": "parcoords"
           }
          ],
          "pie": [
           {
            "automargin": true,
            "type": "pie"
           }
          ],
          "scatter": [
           {
            "marker": {
             "colorbar": {
              "outlinewidth": 0,
              "ticks": ""
             }
            },
            "type": "scatter"
           }
          ],
          "scatter3d": [
           {
            "line": {
             "colorbar": {
              "outlinewidth": 0,
              "ticks": ""
             }
            },
            "marker": {
             "colorbar": {
              "outlinewidth": 0,
              "ticks": ""
             }
            },
            "type": "scatter3d"
           }
          ],
          "scattercarpet": [
           {
            "marker": {
             "colorbar": {
              "outlinewidth": 0,
              "ticks": ""
             }
            },
            "type": "scattercarpet"
           }
          ],
          "scattergeo": [
           {
            "marker": {
             "colorbar": {
              "outlinewidth": 0,
              "ticks": ""
             }
            },
            "type": "scattergeo"
           }
          ],
          "scattergl": [
           {
            "marker": {
             "colorbar": {
              "outlinewidth": 0,
              "ticks": ""
             }
            },
            "type": "scattergl"
           }
          ],
          "scattermapbox": [
           {
            "marker": {
             "colorbar": {
              "outlinewidth": 0,
              "ticks": ""
             }
            },
            "type": "scattermapbox"
           }
          ],
          "scatterpolar": [
           {
            "marker": {
             "colorbar": {
              "outlinewidth": 0,
              "ticks": ""
             }
            },
            "type": "scatterpolar"
           }
          ],
          "scatterpolargl": [
           {
            "marker": {
             "colorbar": {
              "outlinewidth": 0,
              "ticks": ""
             }
            },
            "type": "scatterpolargl"
           }
          ],
          "scatterternary": [
           {
            "marker": {
             "colorbar": {
              "outlinewidth": 0,
              "ticks": ""
             }
            },
            "type": "scatterternary"
           }
          ],
          "surface": [
           {
            "colorbar": {
             "outlinewidth": 0,
             "ticks": ""
            },
            "colorscale": [
             [
              0,
              "#0d0887"
             ],
             [
              0.1111111111111111,
              "#46039f"
             ],
             [
              0.2222222222222222,
              "#7201a8"
             ],
             [
              0.3333333333333333,
              "#9c179e"
             ],
             [
              0.4444444444444444,
              "#bd3786"
             ],
             [
              0.5555555555555556,
              "#d8576b"
             ],
             [
              0.6666666666666666,
              "#ed7953"
             ],
             [
              0.7777777777777778,
              "#fb9f3a"
             ],
             [
              0.8888888888888888,
              "#fdca26"
             ],
             [
              1,
              "#f0f921"
             ]
            ],
            "type": "surface"
           }
          ],
          "table": [
           {
            "cells": {
             "fill": {
              "color": "#EBF0F8"
             },
             "line": {
              "color": "white"
             }
            },
            "header": {
             "fill": {
              "color": "#C8D4E3"
             },
             "line": {
              "color": "white"
             }
            },
            "type": "table"
           }
          ]
         },
         "layout": {
          "annotationdefaults": {
           "arrowcolor": "#2a3f5f",
           "arrowhead": 0,
           "arrowwidth": 1
          },
          "autotypenumbers": "strict",
          "coloraxis": {
           "colorbar": {
            "outlinewidth": 0,
            "ticks": ""
           }
          },
          "colorscale": {
           "diverging": [
            [
             0,
             "#8e0152"
            ],
            [
             0.1,
             "#c51b7d"
            ],
            [
             0.2,
             "#de77ae"
            ],
            [
             0.3,
             "#f1b6da"
            ],
            [
             0.4,
             "#fde0ef"
            ],
            [
             0.5,
             "#f7f7f7"
            ],
            [
             0.6,
             "#e6f5d0"
            ],
            [
             0.7,
             "#b8e186"
            ],
            [
             0.8,
             "#7fbc41"
            ],
            [
             0.9,
             "#4d9221"
            ],
            [
             1,
             "#276419"
            ]
           ],
           "sequential": [
            [
             0,
             "#0d0887"
            ],
            [
             0.1111111111111111,
             "#46039f"
            ],
            [
             0.2222222222222222,
             "#7201a8"
            ],
            [
             0.3333333333333333,
             "#9c179e"
            ],
            [
             0.4444444444444444,
             "#bd3786"
            ],
            [
             0.5555555555555556,
             "#d8576b"
            ],
            [
             0.6666666666666666,
             "#ed7953"
            ],
            [
             0.7777777777777778,
             "#fb9f3a"
            ],
            [
             0.8888888888888888,
             "#fdca26"
            ],
            [
             1,
             "#f0f921"
            ]
           ],
           "sequentialminus": [
            [
             0,
             "#0d0887"
            ],
            [
             0.1111111111111111,
             "#46039f"
            ],
            [
             0.2222222222222222,
             "#7201a8"
            ],
            [
             0.3333333333333333,
             "#9c179e"
            ],
            [
             0.4444444444444444,
             "#bd3786"
            ],
            [
             0.5555555555555556,
             "#d8576b"
            ],
            [
             0.6666666666666666,
             "#ed7953"
            ],
            [
             0.7777777777777778,
             "#fb9f3a"
            ],
            [
             0.8888888888888888,
             "#fdca26"
            ],
            [
             1,
             "#f0f921"
            ]
           ]
          },
          "colorway": [
           "#636efa",
           "#EF553B",
           "#00cc96",
           "#ab63fa",
           "#FFA15A",
           "#19d3f3",
           "#FF6692",
           "#B6E880",
           "#FF97FF",
           "#FECB52"
          ],
          "font": {
           "color": "#2a3f5f"
          },
          "geo": {
           "bgcolor": "white",
           "lakecolor": "white",
           "landcolor": "#E5ECF6",
           "showlakes": true,
           "showland": true,
           "subunitcolor": "white"
          },
          "hoverlabel": {
           "align": "left"
          },
          "hovermode": "closest",
          "mapbox": {
           "style": "light"
          },
          "paper_bgcolor": "white",
          "plot_bgcolor": "#E5ECF6",
          "polar": {
           "angularaxis": {
            "gridcolor": "white",
            "linecolor": "white",
            "ticks": ""
           },
           "bgcolor": "#E5ECF6",
           "radialaxis": {
            "gridcolor": "white",
            "linecolor": "white",
            "ticks": ""
           }
          },
          "scene": {
           "xaxis": {
            "backgroundcolor": "#E5ECF6",
            "gridcolor": "white",
            "gridwidth": 2,
            "linecolor": "white",
            "showbackground": true,
            "ticks": "",
            "zerolinecolor": "white"
           },
           "yaxis": {
            "backgroundcolor": "#E5ECF6",
            "gridcolor": "white",
            "gridwidth": 2,
            "linecolor": "white",
            "showbackground": true,
            "ticks": "",
            "zerolinecolor": "white"
           },
           "zaxis": {
            "backgroundcolor": "#E5ECF6",
            "gridcolor": "white",
            "gridwidth": 2,
            "linecolor": "white",
            "showbackground": true,
            "ticks": "",
            "zerolinecolor": "white"
           }
          },
          "shapedefaults": {
           "line": {
            "color": "#2a3f5f"
           }
          },
          "ternary": {
           "aaxis": {
            "gridcolor": "white",
            "linecolor": "white",
            "ticks": ""
           },
           "baxis": {
            "gridcolor": "white",
            "linecolor": "white",
            "ticks": ""
           },
           "bgcolor": "#E5ECF6",
           "caxis": {
            "gridcolor": "white",
            "linecolor": "white",
            "ticks": ""
           }
          },
          "title": {
           "x": 0.05
          },
          "xaxis": {
           "automargin": true,
           "gridcolor": "white",
           "linecolor": "white",
           "ticks": "",
           "title": {
            "standoff": 15
           },
           "zerolinecolor": "white",
           "zerolinewidth": 2
          },
          "yaxis": {
           "automargin": true,
           "gridcolor": "white",
           "linecolor": "white",
           "ticks": "",
           "title": {
            "standoff": 15
           },
           "zerolinecolor": "white",
           "zerolinewidth": 2
          }
         }
        },
        "title": {
         "font": {
          "color": "#4D5663"
         }
        },
        "xaxis": {
         "gridcolor": "#E1E5ED",
         "showgrid": true,
         "tickfont": {
          "color": "#4D5663"
         },
         "title": {
          "font": {
           "color": "#4D5663"
          },
          "text": ""
         },
         "zerolinecolor": "#E1E5ED"
        },
        "yaxis": {
         "gridcolor": "#E1E5ED",
         "showgrid": true,
         "tickfont": {
          "color": "#4D5663"
         },
         "title": {
          "font": {
           "color": "#4D5663"
          },
          "text": ""
         },
         "zerolinecolor": "#E1E5ED"
        }
       }
      },
      "text/html": [
       "<div>                            <div id=\"627022e0-7242-42d9-8810-f21fa4ad1779\" class=\"plotly-graph-div\" style=\"height:525px; width:100%;\"></div>            <script type=\"text/javascript\">                require([\"plotly\"], function(Plotly) {                    window.PLOTLYENV=window.PLOTLYENV || {};\n",
       "                    window.PLOTLYENV.BASE_URL='https://plot.ly';                                    if (document.getElementById(\"627022e0-7242-42d9-8810-f21fa4ad1779\")) {                    Plotly.newPlot(                        \"627022e0-7242-42d9-8810-f21fa4ad1779\",                        [{\"marker\":{\"color\":\"rgba(255, 153, 51, 0.6)\",\"line\":{\"color\":\"rgba(255, 153, 51, 1.0)\",\"width\":1}},\"name\":\"None\",\"orientation\":\"v\",\"text\":\"\",\"x\":[\"A\",\"B\",\"C\",\"D\"],\"y\":[21.23132600086864,-4.286488922840706,-14.034189182240222,-13.094791516818297],\"type\":\"bar\"}],                        {\"legend\":{\"bgcolor\":\"#F5F6F9\",\"font\":{\"color\":\"#4D5663\"}},\"paper_bgcolor\":\"#F5F6F9\",\"plot_bgcolor\":\"#F5F6F9\",\"template\":{\"data\":{\"barpolar\":[{\"marker\":{\"line\":{\"color\":\"#E5ECF6\",\"width\":0.5},\"pattern\":{\"fillmode\":\"overlay\",\"size\":10,\"solidity\":0.2}},\"type\":\"barpolar\"}],\"bar\":[{\"error_x\":{\"color\":\"#2a3f5f\"},\"error_y\":{\"color\":\"#2a3f5f\"},\"marker\":{\"line\":{\"color\":\"#E5ECF6\",\"width\":0.5},\"pattern\":{\"fillmode\":\"overlay\",\"size\":10,\"solidity\":0.2}},\"type\":\"bar\"}],\"carpet\":[{\"aaxis\":{\"endlinecolor\":\"#2a3f5f\",\"gridcolor\":\"white\",\"linecolor\":\"white\",\"minorgridcolor\":\"white\",\"startlinecolor\":\"#2a3f5f\"},\"baxis\":{\"endlinecolor\":\"#2a3f5f\",\"gridcolor\":\"white\",\"linecolor\":\"white\",\"minorgridcolor\":\"white\",\"startlinecolor\":\"#2a3f5f\"},\"type\":\"carpet\"}],\"choropleth\":[{\"colorbar\":{\"outlinewidth\":0,\"ticks\":\"\"},\"type\":\"choropleth\"}],\"contourcarpet\":[{\"colorbar\":{\"outlinewidth\":0,\"ticks\":\"\"},\"type\":\"contourcarpet\"}],\"contour\":[{\"colorbar\":{\"outlinewidth\":0,\"ticks\":\"\"},\"colorscale\":[[0.0,\"#0d0887\"],[0.1111111111111111,\"#46039f\"],[0.2222222222222222,\"#7201a8\"],[0.3333333333333333,\"#9c179e\"],[0.4444444444444444,\"#bd3786\"],[0.5555555555555556,\"#d8576b\"],[0.6666666666666666,\"#ed7953\"],[0.7777777777777778,\"#fb9f3a\"],[0.8888888888888888,\"#fdca26\"],[1.0,\"#f0f921\"]],\"type\":\"contour\"}],\"heatmapgl\":[{\"colorbar\":{\"outlinewidth\":0,\"ticks\":\"\"},\"colorscale\":[[0.0,\"#0d0887\"],[0.1111111111111111,\"#46039f\"],[0.2222222222222222,\"#7201a8\"],[0.3333333333333333,\"#9c179e\"],[0.4444444444444444,\"#bd3786\"],[0.5555555555555556,\"#d8576b\"],[0.6666666666666666,\"#ed7953\"],[0.7777777777777778,\"#fb9f3a\"],[0.8888888888888888,\"#fdca26\"],[1.0,\"#f0f921\"]],\"type\":\"heatmapgl\"}],\"heatmap\":[{\"colorbar\":{\"outlinewidth\":0,\"ticks\":\"\"},\"colorscale\":[[0.0,\"#0d0887\"],[0.1111111111111111,\"#46039f\"],[0.2222222222222222,\"#7201a8\"],[0.3333333333333333,\"#9c179e\"],[0.4444444444444444,\"#bd3786\"],[0.5555555555555556,\"#d8576b\"],[0.6666666666666666,\"#ed7953\"],[0.7777777777777778,\"#fb9f3a\"],[0.8888888888888888,\"#fdca26\"],[1.0,\"#f0f921\"]],\"type\":\"heatmap\"}],\"histogram2dcontour\":[{\"colorbar\":{\"outlinewidth\":0,\"ticks\":\"\"},\"colorscale\":[[0.0,\"#0d0887\"],[0.1111111111111111,\"#46039f\"],[0.2222222222222222,\"#7201a8\"],[0.3333333333333333,\"#9c179e\"],[0.4444444444444444,\"#bd3786\"],[0.5555555555555556,\"#d8576b\"],[0.6666666666666666,\"#ed7953\"],[0.7777777777777778,\"#fb9f3a\"],[0.8888888888888888,\"#fdca26\"],[1.0,\"#f0f921\"]],\"type\":\"histogram2dcontour\"}],\"histogram2d\":[{\"colorbar\":{\"outlinewidth\":0,\"ticks\":\"\"},\"colorscale\":[[0.0,\"#0d0887\"],[0.1111111111111111,\"#46039f\"],[0.2222222222222222,\"#7201a8\"],[0.3333333333333333,\"#9c179e\"],[0.4444444444444444,\"#bd3786\"],[0.5555555555555556,\"#d8576b\"],[0.6666666666666666,\"#ed7953\"],[0.7777777777777778,\"#fb9f3a\"],[0.8888888888888888,\"#fdca26\"],[1.0,\"#f0f921\"]],\"type\":\"histogram2d\"}],\"histogram\":[{\"marker\":{\"pattern\":{\"fillmode\":\"overlay\",\"size\":10,\"solidity\":0.2}},\"type\":\"histogram\"}],\"mesh3d\":[{\"colorbar\":{\"outlinewidth\":0,\"ticks\":\"\"},\"type\":\"mesh3d\"}],\"parcoords\":[{\"line\":{\"colorbar\":{\"outlinewidth\":0,\"ticks\":\"\"}},\"type\":\"parcoords\"}],\"pie\":[{\"automargin\":true,\"type\":\"pie\"}],\"scatter3d\":[{\"line\":{\"colorbar\":{\"outlinewidth\":0,\"ticks\":\"\"}},\"marker\":{\"colorbar\":{\"outlinewidth\":0,\"ticks\":\"\"}},\"type\":\"scatter3d\"}],\"scattercarpet\":[{\"marker\":{\"colorbar\":{\"outlinewidth\":0,\"ticks\":\"\"}},\"type\":\"scattercarpet\"}],\"scattergeo\":[{\"marker\":{\"colorbar\":{\"outlinewidth\":0,\"ticks\":\"\"}},\"type\":\"scattergeo\"}],\"scattergl\":[{\"marker\":{\"colorbar\":{\"outlinewidth\":0,\"ticks\":\"\"}},\"type\":\"scattergl\"}],\"scattermapbox\":[{\"marker\":{\"colorbar\":{\"outlinewidth\":0,\"ticks\":\"\"}},\"type\":\"scattermapbox\"}],\"scatterpolargl\":[{\"marker\":{\"colorbar\":{\"outlinewidth\":0,\"ticks\":\"\"}},\"type\":\"scatterpolargl\"}],\"scatterpolar\":[{\"marker\":{\"colorbar\":{\"outlinewidth\":0,\"ticks\":\"\"}},\"type\":\"scatterpolar\"}],\"scatter\":[{\"marker\":{\"colorbar\":{\"outlinewidth\":0,\"ticks\":\"\"}},\"type\":\"scatter\"}],\"scatterternary\":[{\"marker\":{\"colorbar\":{\"outlinewidth\":0,\"ticks\":\"\"}},\"type\":\"scatterternary\"}],\"surface\":[{\"colorbar\":{\"outlinewidth\":0,\"ticks\":\"\"},\"colorscale\":[[0.0,\"#0d0887\"],[0.1111111111111111,\"#46039f\"],[0.2222222222222222,\"#7201a8\"],[0.3333333333333333,\"#9c179e\"],[0.4444444444444444,\"#bd3786\"],[0.5555555555555556,\"#d8576b\"],[0.6666666666666666,\"#ed7953\"],[0.7777777777777778,\"#fb9f3a\"],[0.8888888888888888,\"#fdca26\"],[1.0,\"#f0f921\"]],\"type\":\"surface\"}],\"table\":[{\"cells\":{\"fill\":{\"color\":\"#EBF0F8\"},\"line\":{\"color\":\"white\"}},\"header\":{\"fill\":{\"color\":\"#C8D4E3\"},\"line\":{\"color\":\"white\"}},\"type\":\"table\"}]},\"layout\":{\"annotationdefaults\":{\"arrowcolor\":\"#2a3f5f\",\"arrowhead\":0,\"arrowwidth\":1},\"autotypenumbers\":\"strict\",\"coloraxis\":{\"colorbar\":{\"outlinewidth\":0,\"ticks\":\"\"}},\"colorscale\":{\"diverging\":[[0,\"#8e0152\"],[0.1,\"#c51b7d\"],[0.2,\"#de77ae\"],[0.3,\"#f1b6da\"],[0.4,\"#fde0ef\"],[0.5,\"#f7f7f7\"],[0.6,\"#e6f5d0\"],[0.7,\"#b8e186\"],[0.8,\"#7fbc41\"],[0.9,\"#4d9221\"],[1,\"#276419\"]],\"sequential\":[[0.0,\"#0d0887\"],[0.1111111111111111,\"#46039f\"],[0.2222222222222222,\"#7201a8\"],[0.3333333333333333,\"#9c179e\"],[0.4444444444444444,\"#bd3786\"],[0.5555555555555556,\"#d8576b\"],[0.6666666666666666,\"#ed7953\"],[0.7777777777777778,\"#fb9f3a\"],[0.8888888888888888,\"#fdca26\"],[1.0,\"#f0f921\"]],\"sequentialminus\":[[0.0,\"#0d0887\"],[0.1111111111111111,\"#46039f\"],[0.2222222222222222,\"#7201a8\"],[0.3333333333333333,\"#9c179e\"],[0.4444444444444444,\"#bd3786\"],[0.5555555555555556,\"#d8576b\"],[0.6666666666666666,\"#ed7953\"],[0.7777777777777778,\"#fb9f3a\"],[0.8888888888888888,\"#fdca26\"],[1.0,\"#f0f921\"]]},\"colorway\":[\"#636efa\",\"#EF553B\",\"#00cc96\",\"#ab63fa\",\"#FFA15A\",\"#19d3f3\",\"#FF6692\",\"#B6E880\",\"#FF97FF\",\"#FECB52\"],\"font\":{\"color\":\"#2a3f5f\"},\"geo\":{\"bgcolor\":\"white\",\"lakecolor\":\"white\",\"landcolor\":\"#E5ECF6\",\"showlakes\":true,\"showland\":true,\"subunitcolor\":\"white\"},\"hoverlabel\":{\"align\":\"left\"},\"hovermode\":\"closest\",\"mapbox\":{\"style\":\"light\"},\"paper_bgcolor\":\"white\",\"plot_bgcolor\":\"#E5ECF6\",\"polar\":{\"angularaxis\":{\"gridcolor\":\"white\",\"linecolor\":\"white\",\"ticks\":\"\"},\"bgcolor\":\"#E5ECF6\",\"radialaxis\":{\"gridcolor\":\"white\",\"linecolor\":\"white\",\"ticks\":\"\"}},\"scene\":{\"xaxis\":{\"backgroundcolor\":\"#E5ECF6\",\"gridcolor\":\"white\",\"gridwidth\":2,\"linecolor\":\"white\",\"showbackground\":true,\"ticks\":\"\",\"zerolinecolor\":\"white\"},\"yaxis\":{\"backgroundcolor\":\"#E5ECF6\",\"gridcolor\":\"white\",\"gridwidth\":2,\"linecolor\":\"white\",\"showbackground\":true,\"ticks\":\"\",\"zerolinecolor\":\"white\"},\"zaxis\":{\"backgroundcolor\":\"#E5ECF6\",\"gridcolor\":\"white\",\"gridwidth\":2,\"linecolor\":\"white\",\"showbackground\":true,\"ticks\":\"\",\"zerolinecolor\":\"white\"}},\"shapedefaults\":{\"line\":{\"color\":\"#2a3f5f\"}},\"ternary\":{\"aaxis\":{\"gridcolor\":\"white\",\"linecolor\":\"white\",\"ticks\":\"\"},\"baxis\":{\"gridcolor\":\"white\",\"linecolor\":\"white\",\"ticks\":\"\"},\"bgcolor\":\"#E5ECF6\",\"caxis\":{\"gridcolor\":\"white\",\"linecolor\":\"white\",\"ticks\":\"\"}},\"title\":{\"x\":0.05},\"xaxis\":{\"automargin\":true,\"gridcolor\":\"white\",\"linecolor\":\"white\",\"ticks\":\"\",\"title\":{\"standoff\":15},\"zerolinecolor\":\"white\",\"zerolinewidth\":2},\"yaxis\":{\"automargin\":true,\"gridcolor\":\"white\",\"linecolor\":\"white\",\"ticks\":\"\",\"title\":{\"standoff\":15},\"zerolinecolor\":\"white\",\"zerolinewidth\":2}}},\"title\":{\"font\":{\"color\":\"#4D5663\"}},\"xaxis\":{\"gridcolor\":\"#E1E5ED\",\"showgrid\":true,\"tickfont\":{\"color\":\"#4D5663\"},\"title\":{\"font\":{\"color\":\"#4D5663\"},\"text\":\"\"},\"zerolinecolor\":\"#E1E5ED\"},\"yaxis\":{\"gridcolor\":\"#E1E5ED\",\"showgrid\":true,\"tickfont\":{\"color\":\"#4D5663\"},\"title\":{\"font\":{\"color\":\"#4D5663\"},\"text\":\"\"},\"zerolinecolor\":\"#E1E5ED\"}},                        {\"showLink\": true, \"linkText\": \"Export to plot.ly\", \"plotlyServerURL\": \"https://plot.ly\", \"responsive\": true}                    ).then(function(){\n",
       "                            \n",
       "var gd = document.getElementById('627022e0-7242-42d9-8810-f21fa4ad1779');\n",
       "var x = new MutationObserver(function (mutations, observer) {{\n",
       "        var display = window.getComputedStyle(gd).display;\n",
       "        if (!display || display === 'none') {{\n",
       "            console.log([gd, 'removed!']);\n",
       "            Plotly.purge(gd);\n",
       "            observer.disconnect();\n",
       "        }}\n",
       "}});\n",
       "\n",
       "// Listen for the removal of the full notebook cells\n",
       "var notebookContainer = gd.closest('#notebook-container');\n",
       "if (notebookContainer) {{\n",
       "    x.observe(notebookContainer, {childList: true});\n",
       "}}\n",
       "\n",
       "// Listen for the clearing of the current output cell\n",
       "var outputEl = gd.closest('.output');\n",
       "if (outputEl) {{\n",
       "    x.observe(outputEl, {childList: true});\n",
       "}}\n",
       "\n",
       "                        })                };                });            </script>        </div>"
      ]
     },
     "metadata": {},
     "output_type": "display_data"
    }
   ],
   "source": [
    "df.sum().iplot(kind = 'bar')"
   ]
  },
  {
   "cell_type": "markdown",
   "metadata": {},
   "source": [
    "#### Boxplot"
   ]
  },
  {
   "cell_type": "code",
   "execution_count": 29,
   "metadata": {},
   "outputs": [
    {
     "data": {
      "application/vnd.plotly.v1+json": {
       "config": {
        "linkText": "Export to plot.ly",
        "plotlyServerURL": "https://plot.ly",
        "showLink": true
       },
       "data": [
        {
         "boxpoints": false,
         "line": {
          "width": 1.3
         },
         "marker": {
          "color": "rgba(255, 153, 51, 1.0)"
         },
         "name": "A",
         "orientation": "v",
         "type": "box",
         "y": [
          -0.19028147001615417,
          0.3282365234795369,
          1.1399229516160017,
          -1.5285412750999146,
          -0.24886967751150038,
          0.2516245509136745,
          1.0322355236009921,
          0.11599439899823132,
          -0.08552299190870857,
          -0.392599667290996,
          1.0483873911059238,
          -1.3672086527525584,
          -1.2953691663834808,
          -0.37398870480107765,
          0.16094578705735657,
          0.698636684971462,
          1.5186664839892636,
          -0.3023573194571271,
          0.16832675647100329,
          0.19054539363793585,
          -0.05607139243232748,
          2.49434793378773,
          -0.530066327400534,
          0.8770350482674139,
          0.813057708391379,
          0.29820305701467675,
          0.4091606649710951,
          -0.07901188676813516,
          -0.32164633372494433,
          0.9816522229170433,
          0.6776451608653729,
          -0.8353341427637865,
          1.4655636349628942,
          2.00973210510375,
          0.34269433539070104,
          0.6002392765015414,
          0.7117390891406551,
          1.0592117801719485,
          0.7228041981165503,
          -0.8736465721312067,
          0.5676459790026085,
          0.3946690709293932,
          1.1159103925968208,
          -1.3623917634657412,
          0.6708499442787056,
          2.7667695870284845,
          0.7208184734528509,
          -0.5012612586998206,
          -1.1208824336937548,
          0.08310983627321097,
          1.4675574284440516,
          1.2532790994123408,
          0.007306638487820633,
          -0.8858137066431648,
          0.6242810094285595,
          -1.204652301395593,
          -1.1592080495946446,
          -0.8345983358790608,
          -0.7876304667169377,
          0.2226800879806531,
          0.4415686839563639,
          -0.269932602749613,
          -1.203764434204222,
          0.2411069726838896,
          -0.09951908368939481,
          -1.2286268384318006,
          0.9640396290879625,
          2.533865804668992,
          0.6363573751229564,
          0.6472031726814976,
          0.3660259455013826,
          0.9127612805233639,
          0.17883708005765753,
          -0.7077382719243921,
          -0.30885550649166293,
          1.327815639824272,
          -1.0254221405341721,
          -0.9383686643953827,
          -0.09071737066338419,
          0.6334847841474687,
          0.3071825571559436,
          -0.4857262165088668,
          -0.016132326632023995,
          0.5396152536884207,
          1.2850769796729489,
          -0.09184295300134171,
          0.6230902035502993,
          -0.28510111886218,
          0.963559438496964,
          1.7301036427052279,
          -0.23999086747889203,
          -0.6634015983510081,
          0.3389483473977393,
          1.3015088526277432,
          0.2801083119723154,
          -1.0717367219346814,
          0.6430291779034134,
          1.0587542570407236,
          -1.8666690899056997,
          0.19629610393134483
         ]
        },
        {
         "boxpoints": false,
         "line": {
          "width": 1.3
         },
         "marker": {
          "color": "rgba(55, 128, 191, 1.0)"
         },
         "name": "B",
         "orientation": "v",
         "type": "box",
         "y": [
          -0.8078877810272339,
          -0.6448885204384242,
          -0.7455902419946399,
          -1.3050276821950197,
          0.5003808807272312,
          -0.2544095597272951,
          -1.3513709895354138,
          -2.5602738161529337,
          1.8961054211952009,
          1.7143645670390613,
          0.38789704551642606,
          -0.43216641964758024,
          -0.121487555297366,
          0.4886943348247054,
          -0.531024084846558,
          1.019974525402949,
          -1.1265502671384462,
          -0.11944479093297246,
          0.07992209285850868,
          0.35694133719785076,
          1.5133316673425885,
          0.9526731400979774,
          2.1783088334956022,
          -0.5359561007282527,
          0.3879712182730429,
          -0.5599572053329858,
          0.7535131619955537,
          0.1737238244194225,
          -0.1398249931343527,
          -0.7847908485735925,
          -0.7389327805747367,
          0.24358444714280714,
          1.5261767506458273,
          0.06163695959046099,
          -0.4101352328979562,
          -0.09324634096394105,
          0.6528869126446963,
          0.01814734085788372,
          -1.3547064835577245,
          -0.6151383657756476,
          -0.028002153962266033,
          -1.0794710885393703,
          0.10420625617257966,
          0.0016299303751393895,
          0.20635200140925392,
          -2.233926947939479,
          -1.0973127325260994,
          -0.4408212095555347,
          1.22408852383261,
          0.13518041692760324,
          -0.6380915291645423,
          -1.0077051393357612,
          -0.2287842060650193,
          -1.4542627061984326,
          -0.8098208866087253,
          -0.023631771936152825,
          0.25512205354700956,
          -0.4367753483304965,
          -1.1077991003347287,
          1.5311400432991595,
          -1.2024989249956632,
          0.12192266114566915,
          0.35121591416736425,
          0.528914304859543,
          -0.04869540341544756,
          0.9691544110353982,
          -0.5742621312272939,
          -0.38144095937602707,
          2.0948824404994784,
          -0.2633073152560307,
          0.4376908561486388,
          -1.262068966059568,
          1.2029595169014162,
          0.6812982907014478,
          0.14481035473742293,
          -0.9025277487190613,
          -0.033162850514684906,
          -0.7212577482125213,
          -1.2129688234713587,
          0.10702847749976899,
          -0.5944521348825197,
          -0.22021650672250928,
          -0.08777301917765741,
          0.49809817622022645,
          -0.38138542032541234,
          2.2291460401740446,
          0.22260641858867825,
          -0.6572688729049547,
          0.21066253910388472,
          -1.9777342722498183,
          0.3060242902498709,
          -0.6017968715314095,
          1.7495494270187508,
          0.41260960952983505,
          -0.6762840831291067,
          1.0885603890399016,
          1.3670041388951435,
          0.4449508775116109,
          0.4117141563361959,
          -0.6129289668954218
         ]
        },
        {
         "boxpoints": false,
         "line": {
          "width": 1.3
         },
         "marker": {
          "color": "rgba(50, 171, 96, 1.0)"
         },
         "name": "C",
         "orientation": "v",
         "type": "box",
         "y": [
          -0.28087858577267105,
          -0.004940607057401839,
          -0.18230220142911813,
          0.2600963731552484,
          -2.188017212805162,
          -1.0898037238817064,
          0.8029079536160184,
          0.39290560201141383,
          -0.7824771205914149,
          0.09623173110212756,
          0.9068065372365814,
          -0.3989989888769911,
          -0.0641446346766752,
          -0.5345419155492223,
          0.32796331193357764,
          -0.5767538701014241,
          -0.10512746808304435,
          0.9172381947599746,
          -0.4472695304778123,
          0.7102683856385797,
          1.6939178797464913,
          2.3266870929170236,
          -0.20697932602210786,
          0.983827831881114,
          -2.0426268092837243,
          -0.4349401334944814,
          1.6547889256895636,
          -0.31154737802476706,
          -1.0900054140495148,
          -0.5300848153772204,
          0.02164567537324387,
          0.6273332422749028,
          -1.9773216115130865,
          0.6687587249854554,
          -0.06504102004656755,
          -0.34618824562897654,
          -0.3199115087635271,
          -0.4987996519933438,
          0.23575723882577956,
          0.7597754367105237,
          0.349048519111151,
          1.2015268322994783,
          1.2159218440959862,
          -0.42192591804738677,
          -0.8944245463342192,
          -0.435919363532489,
          1.397820879769164,
          -1.560418050372487,
          -1.1788409473597223,
          -0.4986100474691056,
          -0.6466678757707934,
          0.5776410340113322,
          -1.6148839333548723,
          0.6886420824906866,
          -0.3328314224856059,
          0.5363702326516426,
          0.6036522566095408,
          -1.7863633611315732,
          -0.3784178651278131,
          -0.27019072144003586,
          0.41899925622522255,
          -0.44459848135470603,
          0.9276848536350926,
          -0.05560740096298692,
          0.9330717802136188,
          0.19933373068207802,
          0.06307907081003797,
          -1.0126845508220041,
          -0.36590596742424647,
          -1.1658403037968499,
          -1.145026708386471,
          -1.4374897359308019,
          0.31196568286651527,
          -1.4022129995090378,
          0.43145008296749926,
          0.15936536072957974,
          0.1571961245450657,
          -1.3657685562718185,
          1.4992195393508299,
          0.13302405909411777,
          0.6900814716829894,
          0.4142888696248817,
          -0.28001864824131567,
          -1.2999007434589738,
          -0.43031486383923556,
          -0.9694286604561002,
          0.42547381984692245,
          0.7778766895492566,
          1.0116733908927231,
          -1.1313424765515263,
          -0.5505972224035046,
          -1.8466325055319044,
          -0.90990122673788,
          -0.5374142307935139,
          -0.13444784767642923,
          0.9257971446921365,
          -0.9524785152276847,
          0.8823242234454758,
          -1.1309090674165982,
          -1.2869116132712173
         ]
        },
        {
         "boxpoints": false,
         "line": {
          "width": 1.3
         },
         "marker": {
          "color": "rgba(128, 0, 128, 1.0)"
         },
         "name": "D",
         "orientation": "v",
         "type": "box",
         "y": [
          0.3288885223174926,
          -0.05362057683546842,
          0.6944864221692295,
          0.02252577433779823,
          0.13647546453678722,
          -0.10806801637002397,
          -0.30864646770180626,
          0.33901164794495464,
          0.060188705738250456,
          0.19380195170155903,
          -0.522348080237052,
          0.6193212852322433,
          0.04404147779042312,
          -0.5786956835065248,
          -0.9326312727624145,
          -1.1077031636459158,
          0.8222129392917609,
          -0.7151429012834042,
          -0.4076584263131162,
          0.380535345843578,
          1.9331246815616225,
          0.8854566533885581,
          0.9250097363967863,
          -1.2250734639959535,
          -2.22671463804753,
          -1.5742891094053724,
          0.978683053819982,
          -1.136319691015506,
          -1.1137441313670016,
          0.436318837908886,
          0.541594724232907,
          0.9779228111714007,
          0.606322701056323,
          -0.89018875312323,
          -1.2540749488696816,
          0.0036231336181717475,
          -0.5862125200271961,
          -0.5496272785954898,
          -1.3808661187077242,
          -0.41911265700373646,
          -0.9893833037429732,
          -0.02227739253879558,
          -1.2109051787349658,
          0.2187550645508682,
          0.29539605379224376,
          -0.3264467139879857,
          0.6011974292790989,
          -0.05228156116144349,
          0.7624832361556565,
          -0.6702572568013639,
          -0.6785139300205213,
          0.3011819215746909,
          -0.020108136336801797,
          -0.4087092290165143,
          0.00698854161160987,
          1.20481109831026,
          -2.4818274281753863,
          0.319098393424909,
          -0.9898309304204703,
          0.2952005681553578,
          0.9619370070172015,
          -0.40093747682141156,
          -0.11952508572061894,
          1.1081954282248092,
          -0.1806524932116476,
          0.06261944968811173,
          0.03225926799516013,
          0.41594280093698044,
          -0.9657416824739882,
          -0.04405418685657381,
          0.05281557500120534,
          -1.5455467298149086,
          -1.3537818294467925,
          0.8392875684656593,
          0.7571304481994662,
          1.0988601549471448,
          -0.7876598489602764,
          2.0604966990745828,
          0.5946780208209356,
          -0.23702779487902637,
          0.9058986089027272,
          -1.0756265998225543,
          -0.05533987071067795,
          -1.0565996076695996,
          1.0413939228265987,
          -1.2620095908721358,
          1.1426775965278135,
          0.25579441301365924,
          -0.4319807601407964,
          -0.7550353606457672,
          -0.05815106441335786,
          0.6190864775229382,
          0.9399911697520962,
          -1.4366566678480763,
          -0.43104599207293115,
          -1.073006647715606,
          -1.0116719874581341,
          -0.0044088648192909495,
          -0.2723208922297199,
          -1.4184543082935284
         ]
        }
       ],
       "layout": {
        "legend": {
         "bgcolor": "#F5F6F9",
         "font": {
          "color": "#4D5663"
         }
        },
        "paper_bgcolor": "#F5F6F9",
        "plot_bgcolor": "#F5F6F9",
        "template": {
         "data": {
          "bar": [
           {
            "error_x": {
             "color": "#2a3f5f"
            },
            "error_y": {
             "color": "#2a3f5f"
            },
            "marker": {
             "line": {
              "color": "#E5ECF6",
              "width": 0.5
             },
             "pattern": {
              "fillmode": "overlay",
              "size": 10,
              "solidity": 0.2
             }
            },
            "type": "bar"
           }
          ],
          "barpolar": [
           {
            "marker": {
             "line": {
              "color": "#E5ECF6",
              "width": 0.5
             },
             "pattern": {
              "fillmode": "overlay",
              "size": 10,
              "solidity": 0.2
             }
            },
            "type": "barpolar"
           }
          ],
          "carpet": [
           {
            "aaxis": {
             "endlinecolor": "#2a3f5f",
             "gridcolor": "white",
             "linecolor": "white",
             "minorgridcolor": "white",
             "startlinecolor": "#2a3f5f"
            },
            "baxis": {
             "endlinecolor": "#2a3f5f",
             "gridcolor": "white",
             "linecolor": "white",
             "minorgridcolor": "white",
             "startlinecolor": "#2a3f5f"
            },
            "type": "carpet"
           }
          ],
          "choropleth": [
           {
            "colorbar": {
             "outlinewidth": 0,
             "ticks": ""
            },
            "type": "choropleth"
           }
          ],
          "contour": [
           {
            "colorbar": {
             "outlinewidth": 0,
             "ticks": ""
            },
            "colorscale": [
             [
              0,
              "#0d0887"
             ],
             [
              0.1111111111111111,
              "#46039f"
             ],
             [
              0.2222222222222222,
              "#7201a8"
             ],
             [
              0.3333333333333333,
              "#9c179e"
             ],
             [
              0.4444444444444444,
              "#bd3786"
             ],
             [
              0.5555555555555556,
              "#d8576b"
             ],
             [
              0.6666666666666666,
              "#ed7953"
             ],
             [
              0.7777777777777778,
              "#fb9f3a"
             ],
             [
              0.8888888888888888,
              "#fdca26"
             ],
             [
              1,
              "#f0f921"
             ]
            ],
            "type": "contour"
           }
          ],
          "contourcarpet": [
           {
            "colorbar": {
             "outlinewidth": 0,
             "ticks": ""
            },
            "type": "contourcarpet"
           }
          ],
          "heatmap": [
           {
            "colorbar": {
             "outlinewidth": 0,
             "ticks": ""
            },
            "colorscale": [
             [
              0,
              "#0d0887"
             ],
             [
              0.1111111111111111,
              "#46039f"
             ],
             [
              0.2222222222222222,
              "#7201a8"
             ],
             [
              0.3333333333333333,
              "#9c179e"
             ],
             [
              0.4444444444444444,
              "#bd3786"
             ],
             [
              0.5555555555555556,
              "#d8576b"
             ],
             [
              0.6666666666666666,
              "#ed7953"
             ],
             [
              0.7777777777777778,
              "#fb9f3a"
             ],
             [
              0.8888888888888888,
              "#fdca26"
             ],
             [
              1,
              "#f0f921"
             ]
            ],
            "type": "heatmap"
           }
          ],
          "heatmapgl": [
           {
            "colorbar": {
             "outlinewidth": 0,
             "ticks": ""
            },
            "colorscale": [
             [
              0,
              "#0d0887"
             ],
             [
              0.1111111111111111,
              "#46039f"
             ],
             [
              0.2222222222222222,
              "#7201a8"
             ],
             [
              0.3333333333333333,
              "#9c179e"
             ],
             [
              0.4444444444444444,
              "#bd3786"
             ],
             [
              0.5555555555555556,
              "#d8576b"
             ],
             [
              0.6666666666666666,
              "#ed7953"
             ],
             [
              0.7777777777777778,
              "#fb9f3a"
             ],
             [
              0.8888888888888888,
              "#fdca26"
             ],
             [
              1,
              "#f0f921"
             ]
            ],
            "type": "heatmapgl"
           }
          ],
          "histogram": [
           {
            "marker": {
             "pattern": {
              "fillmode": "overlay",
              "size": 10,
              "solidity": 0.2
             }
            },
            "type": "histogram"
           }
          ],
          "histogram2d": [
           {
            "colorbar": {
             "outlinewidth": 0,
             "ticks": ""
            },
            "colorscale": [
             [
              0,
              "#0d0887"
             ],
             [
              0.1111111111111111,
              "#46039f"
             ],
             [
              0.2222222222222222,
              "#7201a8"
             ],
             [
              0.3333333333333333,
              "#9c179e"
             ],
             [
              0.4444444444444444,
              "#bd3786"
             ],
             [
              0.5555555555555556,
              "#d8576b"
             ],
             [
              0.6666666666666666,
              "#ed7953"
             ],
             [
              0.7777777777777778,
              "#fb9f3a"
             ],
             [
              0.8888888888888888,
              "#fdca26"
             ],
             [
              1,
              "#f0f921"
             ]
            ],
            "type": "histogram2d"
           }
          ],
          "histogram2dcontour": [
           {
            "colorbar": {
             "outlinewidth": 0,
             "ticks": ""
            },
            "colorscale": [
             [
              0,
              "#0d0887"
             ],
             [
              0.1111111111111111,
              "#46039f"
             ],
             [
              0.2222222222222222,
              "#7201a8"
             ],
             [
              0.3333333333333333,
              "#9c179e"
             ],
             [
              0.4444444444444444,
              "#bd3786"
             ],
             [
              0.5555555555555556,
              "#d8576b"
             ],
             [
              0.6666666666666666,
              "#ed7953"
             ],
             [
              0.7777777777777778,
              "#fb9f3a"
             ],
             [
              0.8888888888888888,
              "#fdca26"
             ],
             [
              1,
              "#f0f921"
             ]
            ],
            "type": "histogram2dcontour"
           }
          ],
          "mesh3d": [
           {
            "colorbar": {
             "outlinewidth": 0,
             "ticks": ""
            },
            "type": "mesh3d"
           }
          ],
          "parcoords": [
           {
            "line": {
             "colorbar": {
              "outlinewidth": 0,
              "ticks": ""
             }
            },
            "type": "parcoords"
           }
          ],
          "pie": [
           {
            "automargin": true,
            "type": "pie"
           }
          ],
          "scatter": [
           {
            "marker": {
             "colorbar": {
              "outlinewidth": 0,
              "ticks": ""
             }
            },
            "type": "scatter"
           }
          ],
          "scatter3d": [
           {
            "line": {
             "colorbar": {
              "outlinewidth": 0,
              "ticks": ""
             }
            },
            "marker": {
             "colorbar": {
              "outlinewidth": 0,
              "ticks": ""
             }
            },
            "type": "scatter3d"
           }
          ],
          "scattercarpet": [
           {
            "marker": {
             "colorbar": {
              "outlinewidth": 0,
              "ticks": ""
             }
            },
            "type": "scattercarpet"
           }
          ],
          "scattergeo": [
           {
            "marker": {
             "colorbar": {
              "outlinewidth": 0,
              "ticks": ""
             }
            },
            "type": "scattergeo"
           }
          ],
          "scattergl": [
           {
            "marker": {
             "colorbar": {
              "outlinewidth": 0,
              "ticks": ""
             }
            },
            "type": "scattergl"
           }
          ],
          "scattermapbox": [
           {
            "marker": {
             "colorbar": {
              "outlinewidth": 0,
              "ticks": ""
             }
            },
            "type": "scattermapbox"
           }
          ],
          "scatterpolar": [
           {
            "marker": {
             "colorbar": {
              "outlinewidth": 0,
              "ticks": ""
             }
            },
            "type": "scatterpolar"
           }
          ],
          "scatterpolargl": [
           {
            "marker": {
             "colorbar": {
              "outlinewidth": 0,
              "ticks": ""
             }
            },
            "type": "scatterpolargl"
           }
          ],
          "scatterternary": [
           {
            "marker": {
             "colorbar": {
              "outlinewidth": 0,
              "ticks": ""
             }
            },
            "type": "scatterternary"
           }
          ],
          "surface": [
           {
            "colorbar": {
             "outlinewidth": 0,
             "ticks": ""
            },
            "colorscale": [
             [
              0,
              "#0d0887"
             ],
             [
              0.1111111111111111,
              "#46039f"
             ],
             [
              0.2222222222222222,
              "#7201a8"
             ],
             [
              0.3333333333333333,
              "#9c179e"
             ],
             [
              0.4444444444444444,
              "#bd3786"
             ],
             [
              0.5555555555555556,
              "#d8576b"
             ],
             [
              0.6666666666666666,
              "#ed7953"
             ],
             [
              0.7777777777777778,
              "#fb9f3a"
             ],
             [
              0.8888888888888888,
              "#fdca26"
             ],
             [
              1,
              "#f0f921"
             ]
            ],
            "type": "surface"
           }
          ],
          "table": [
           {
            "cells": {
             "fill": {
              "color": "#EBF0F8"
             },
             "line": {
              "color": "white"
             }
            },
            "header": {
             "fill": {
              "color": "#C8D4E3"
             },
             "line": {
              "color": "white"
             }
            },
            "type": "table"
           }
          ]
         },
         "layout": {
          "annotationdefaults": {
           "arrowcolor": "#2a3f5f",
           "arrowhead": 0,
           "arrowwidth": 1
          },
          "autotypenumbers": "strict",
          "coloraxis": {
           "colorbar": {
            "outlinewidth": 0,
            "ticks": ""
           }
          },
          "colorscale": {
           "diverging": [
            [
             0,
             "#8e0152"
            ],
            [
             0.1,
             "#c51b7d"
            ],
            [
             0.2,
             "#de77ae"
            ],
            [
             0.3,
             "#f1b6da"
            ],
            [
             0.4,
             "#fde0ef"
            ],
            [
             0.5,
             "#f7f7f7"
            ],
            [
             0.6,
             "#e6f5d0"
            ],
            [
             0.7,
             "#b8e186"
            ],
            [
             0.8,
             "#7fbc41"
            ],
            [
             0.9,
             "#4d9221"
            ],
            [
             1,
             "#276419"
            ]
           ],
           "sequential": [
            [
             0,
             "#0d0887"
            ],
            [
             0.1111111111111111,
             "#46039f"
            ],
            [
             0.2222222222222222,
             "#7201a8"
            ],
            [
             0.3333333333333333,
             "#9c179e"
            ],
            [
             0.4444444444444444,
             "#bd3786"
            ],
            [
             0.5555555555555556,
             "#d8576b"
            ],
            [
             0.6666666666666666,
             "#ed7953"
            ],
            [
             0.7777777777777778,
             "#fb9f3a"
            ],
            [
             0.8888888888888888,
             "#fdca26"
            ],
            [
             1,
             "#f0f921"
            ]
           ],
           "sequentialminus": [
            [
             0,
             "#0d0887"
            ],
            [
             0.1111111111111111,
             "#46039f"
            ],
            [
             0.2222222222222222,
             "#7201a8"
            ],
            [
             0.3333333333333333,
             "#9c179e"
            ],
            [
             0.4444444444444444,
             "#bd3786"
            ],
            [
             0.5555555555555556,
             "#d8576b"
            ],
            [
             0.6666666666666666,
             "#ed7953"
            ],
            [
             0.7777777777777778,
             "#fb9f3a"
            ],
            [
             0.8888888888888888,
             "#fdca26"
            ],
            [
             1,
             "#f0f921"
            ]
           ]
          },
          "colorway": [
           "#636efa",
           "#EF553B",
           "#00cc96",
           "#ab63fa",
           "#FFA15A",
           "#19d3f3",
           "#FF6692",
           "#B6E880",
           "#FF97FF",
           "#FECB52"
          ],
          "font": {
           "color": "#2a3f5f"
          },
          "geo": {
           "bgcolor": "white",
           "lakecolor": "white",
           "landcolor": "#E5ECF6",
           "showlakes": true,
           "showland": true,
           "subunitcolor": "white"
          },
          "hoverlabel": {
           "align": "left"
          },
          "hovermode": "closest",
          "mapbox": {
           "style": "light"
          },
          "paper_bgcolor": "white",
          "plot_bgcolor": "#E5ECF6",
          "polar": {
           "angularaxis": {
            "gridcolor": "white",
            "linecolor": "white",
            "ticks": ""
           },
           "bgcolor": "#E5ECF6",
           "radialaxis": {
            "gridcolor": "white",
            "linecolor": "white",
            "ticks": ""
           }
          },
          "scene": {
           "xaxis": {
            "backgroundcolor": "#E5ECF6",
            "gridcolor": "white",
            "gridwidth": 2,
            "linecolor": "white",
            "showbackground": true,
            "ticks": "",
            "zerolinecolor": "white"
           },
           "yaxis": {
            "backgroundcolor": "#E5ECF6",
            "gridcolor": "white",
            "gridwidth": 2,
            "linecolor": "white",
            "showbackground": true,
            "ticks": "",
            "zerolinecolor": "white"
           },
           "zaxis": {
            "backgroundcolor": "#E5ECF6",
            "gridcolor": "white",
            "gridwidth": 2,
            "linecolor": "white",
            "showbackground": true,
            "ticks": "",
            "zerolinecolor": "white"
           }
          },
          "shapedefaults": {
           "line": {
            "color": "#2a3f5f"
           }
          },
          "ternary": {
           "aaxis": {
            "gridcolor": "white",
            "linecolor": "white",
            "ticks": ""
           },
           "baxis": {
            "gridcolor": "white",
            "linecolor": "white",
            "ticks": ""
           },
           "bgcolor": "#E5ECF6",
           "caxis": {
            "gridcolor": "white",
            "linecolor": "white",
            "ticks": ""
           }
          },
          "title": {
           "x": 0.05
          },
          "xaxis": {
           "automargin": true,
           "gridcolor": "white",
           "linecolor": "white",
           "ticks": "",
           "title": {
            "standoff": 15
           },
           "zerolinecolor": "white",
           "zerolinewidth": 2
          },
          "yaxis": {
           "automargin": true,
           "gridcolor": "white",
           "linecolor": "white",
           "ticks": "",
           "title": {
            "standoff": 15
           },
           "zerolinecolor": "white",
           "zerolinewidth": 2
          }
         }
        },
        "title": {
         "font": {
          "color": "#4D5663"
         }
        },
        "xaxis": {
         "gridcolor": "#E1E5ED",
         "showgrid": true,
         "tickfont": {
          "color": "#4D5663"
         },
         "title": {
          "font": {
           "color": "#4D5663"
          },
          "text": ""
         },
         "zerolinecolor": "#E1E5ED"
        },
        "yaxis": {
         "gridcolor": "#E1E5ED",
         "showgrid": true,
         "tickfont": {
          "color": "#4D5663"
         },
         "title": {
          "font": {
           "color": "#4D5663"
          },
          "text": ""
         },
         "zerolinecolor": "#E1E5ED"
        }
       }
      },
      "text/html": [
       "<div>                            <div id=\"8f041ac3-880c-47c1-a13f-57390d3da172\" class=\"plotly-graph-div\" style=\"height:525px; width:100%;\"></div>            <script type=\"text/javascript\">                require([\"plotly\"], function(Plotly) {                    window.PLOTLYENV=window.PLOTLYENV || {};\n",
       "                    window.PLOTLYENV.BASE_URL='https://plot.ly';                                    if (document.getElementById(\"8f041ac3-880c-47c1-a13f-57390d3da172\")) {                    Plotly.newPlot(                        \"8f041ac3-880c-47c1-a13f-57390d3da172\",                        [{\"boxpoints\":false,\"line\":{\"width\":1.3},\"marker\":{\"color\":\"rgba(255, 153, 51, 1.0)\"},\"name\":\"A\",\"orientation\":\"v\",\"y\":[-0.19028147001615417,0.3282365234795369,1.1399229516160017,-1.5285412750999146,-0.24886967751150038,0.2516245509136745,1.0322355236009921,0.11599439899823132,-0.08552299190870857,-0.392599667290996,1.0483873911059238,-1.3672086527525584,-1.2953691663834808,-0.37398870480107765,0.16094578705735657,0.698636684971462,1.5186664839892636,-0.3023573194571271,0.16832675647100329,0.19054539363793585,-0.05607139243232748,2.49434793378773,-0.530066327400534,0.8770350482674139,0.813057708391379,0.29820305701467675,0.4091606649710951,-0.07901188676813516,-0.32164633372494433,0.9816522229170433,0.6776451608653729,-0.8353341427637865,1.4655636349628942,2.00973210510375,0.34269433539070104,0.6002392765015414,0.7117390891406551,1.0592117801719485,0.7228041981165503,-0.8736465721312067,0.5676459790026085,0.3946690709293932,1.1159103925968208,-1.3623917634657412,0.6708499442787056,2.7667695870284845,0.7208184734528509,-0.5012612586998206,-1.1208824336937548,0.08310983627321097,1.4675574284440516,1.2532790994123408,0.007306638487820633,-0.8858137066431648,0.6242810094285595,-1.204652301395593,-1.1592080495946446,-0.8345983358790608,-0.7876304667169377,0.2226800879806531,0.4415686839563639,-0.269932602749613,-1.203764434204222,0.2411069726838896,-0.09951908368939481,-1.2286268384318006,0.9640396290879625,2.533865804668992,0.6363573751229564,0.6472031726814976,0.3660259455013826,0.9127612805233639,0.17883708005765753,-0.7077382719243921,-0.30885550649166293,1.327815639824272,-1.0254221405341721,-0.9383686643953827,-0.09071737066338419,0.6334847841474687,0.3071825571559436,-0.4857262165088668,-0.016132326632023995,0.5396152536884207,1.2850769796729489,-0.09184295300134171,0.6230902035502993,-0.28510111886218,0.963559438496964,1.7301036427052279,-0.23999086747889203,-0.6634015983510081,0.3389483473977393,1.3015088526277432,0.2801083119723154,-1.0717367219346814,0.6430291779034134,1.0587542570407236,-1.8666690899056997,0.19629610393134483],\"type\":\"box\"},{\"boxpoints\":false,\"line\":{\"width\":1.3},\"marker\":{\"color\":\"rgba(55, 128, 191, 1.0)\"},\"name\":\"B\",\"orientation\":\"v\",\"y\":[-0.8078877810272339,-0.6448885204384242,-0.7455902419946399,-1.3050276821950197,0.5003808807272312,-0.2544095597272951,-1.3513709895354138,-2.5602738161529337,1.8961054211952009,1.7143645670390613,0.38789704551642606,-0.43216641964758024,-0.121487555297366,0.4886943348247054,-0.531024084846558,1.019974525402949,-1.1265502671384462,-0.11944479093297246,0.07992209285850868,0.35694133719785076,1.5133316673425885,0.9526731400979774,2.1783088334956022,-0.5359561007282527,0.3879712182730429,-0.5599572053329858,0.7535131619955537,0.1737238244194225,-0.1398249931343527,-0.7847908485735925,-0.7389327805747367,0.24358444714280714,1.5261767506458273,0.06163695959046099,-0.4101352328979562,-0.09324634096394105,0.6528869126446963,0.01814734085788372,-1.3547064835577245,-0.6151383657756476,-0.028002153962266033,-1.0794710885393703,0.10420625617257966,0.0016299303751393895,0.20635200140925392,-2.233926947939479,-1.0973127325260994,-0.4408212095555347,1.22408852383261,0.13518041692760324,-0.6380915291645423,-1.0077051393357612,-0.2287842060650193,-1.4542627061984326,-0.8098208866087253,-0.023631771936152825,0.25512205354700956,-0.4367753483304965,-1.1077991003347287,1.5311400432991595,-1.2024989249956632,0.12192266114566915,0.35121591416736425,0.528914304859543,-0.04869540341544756,0.9691544110353982,-0.5742621312272939,-0.38144095937602707,2.0948824404994784,-0.2633073152560307,0.4376908561486388,-1.262068966059568,1.2029595169014162,0.6812982907014478,0.14481035473742293,-0.9025277487190613,-0.033162850514684906,-0.7212577482125213,-1.2129688234713587,0.10702847749976899,-0.5944521348825197,-0.22021650672250928,-0.08777301917765741,0.49809817622022645,-0.38138542032541234,2.2291460401740446,0.22260641858867825,-0.6572688729049547,0.21066253910388472,-1.9777342722498183,0.3060242902498709,-0.6017968715314095,1.7495494270187508,0.41260960952983505,-0.6762840831291067,1.0885603890399016,1.3670041388951435,0.4449508775116109,0.4117141563361959,-0.6129289668954218],\"type\":\"box\"},{\"boxpoints\":false,\"line\":{\"width\":1.3},\"marker\":{\"color\":\"rgba(50, 171, 96, 1.0)\"},\"name\":\"C\",\"orientation\":\"v\",\"y\":[-0.28087858577267105,-0.004940607057401839,-0.18230220142911813,0.2600963731552484,-2.188017212805162,-1.0898037238817064,0.8029079536160184,0.39290560201141383,-0.7824771205914149,0.09623173110212756,0.9068065372365814,-0.3989989888769911,-0.0641446346766752,-0.5345419155492223,0.32796331193357764,-0.5767538701014241,-0.10512746808304435,0.9172381947599746,-0.4472695304778123,0.7102683856385797,1.6939178797464913,2.3266870929170236,-0.20697932602210786,0.983827831881114,-2.0426268092837243,-0.4349401334944814,1.6547889256895636,-0.31154737802476706,-1.0900054140495148,-0.5300848153772204,0.02164567537324387,0.6273332422749028,-1.9773216115130865,0.6687587249854554,-0.06504102004656755,-0.34618824562897654,-0.3199115087635271,-0.4987996519933438,0.23575723882577956,0.7597754367105237,0.349048519111151,1.2015268322994783,1.2159218440959862,-0.42192591804738677,-0.8944245463342192,-0.435919363532489,1.397820879769164,-1.560418050372487,-1.1788409473597223,-0.4986100474691056,-0.6466678757707934,0.5776410340113322,-1.6148839333548723,0.6886420824906866,-0.3328314224856059,0.5363702326516426,0.6036522566095408,-1.7863633611315732,-0.3784178651278131,-0.27019072144003586,0.41899925622522255,-0.44459848135470603,0.9276848536350926,-0.05560740096298692,0.9330717802136188,0.19933373068207802,0.06307907081003797,-1.0126845508220041,-0.36590596742424647,-1.1658403037968499,-1.145026708386471,-1.4374897359308019,0.31196568286651527,-1.4022129995090378,0.43145008296749926,0.15936536072957974,0.1571961245450657,-1.3657685562718185,1.4992195393508299,0.13302405909411777,0.6900814716829894,0.4142888696248817,-0.28001864824131567,-1.2999007434589738,-0.43031486383923556,-0.9694286604561002,0.42547381984692245,0.7778766895492566,1.0116733908927231,-1.1313424765515263,-0.5505972224035046,-1.8466325055319044,-0.90990122673788,-0.5374142307935139,-0.13444784767642923,0.9257971446921365,-0.9524785152276847,0.8823242234454758,-1.1309090674165982,-1.2869116132712173],\"type\":\"box\"},{\"boxpoints\":false,\"line\":{\"width\":1.3},\"marker\":{\"color\":\"rgba(128, 0, 128, 1.0)\"},\"name\":\"D\",\"orientation\":\"v\",\"y\":[0.3288885223174926,-0.05362057683546842,0.6944864221692295,0.02252577433779823,0.13647546453678722,-0.10806801637002397,-0.30864646770180626,0.33901164794495464,0.060188705738250456,0.19380195170155903,-0.522348080237052,0.6193212852322433,0.04404147779042312,-0.5786956835065248,-0.9326312727624145,-1.1077031636459158,0.8222129392917609,-0.7151429012834042,-0.4076584263131162,0.380535345843578,1.9331246815616225,0.8854566533885581,0.9250097363967863,-1.2250734639959535,-2.22671463804753,-1.5742891094053724,0.978683053819982,-1.136319691015506,-1.1137441313670016,0.436318837908886,0.541594724232907,0.9779228111714007,0.606322701056323,-0.89018875312323,-1.2540749488696816,0.0036231336181717475,-0.5862125200271961,-0.5496272785954898,-1.3808661187077242,-0.41911265700373646,-0.9893833037429732,-0.02227739253879558,-1.2109051787349658,0.2187550645508682,0.29539605379224376,-0.3264467139879857,0.6011974292790989,-0.05228156116144349,0.7624832361556565,-0.6702572568013639,-0.6785139300205213,0.3011819215746909,-0.020108136336801797,-0.4087092290165143,0.00698854161160987,1.20481109831026,-2.4818274281753863,0.319098393424909,-0.9898309304204703,0.2952005681553578,0.9619370070172015,-0.40093747682141156,-0.11952508572061894,1.1081954282248092,-0.1806524932116476,0.06261944968811173,0.03225926799516013,0.41594280093698044,-0.9657416824739882,-0.04405418685657381,0.05281557500120534,-1.5455467298149086,-1.3537818294467925,0.8392875684656593,0.7571304481994662,1.0988601549471448,-0.7876598489602764,2.0604966990745828,0.5946780208209356,-0.23702779487902637,0.9058986089027272,-1.0756265998225543,-0.05533987071067795,-1.0565996076695996,1.0413939228265987,-1.2620095908721358,1.1426775965278135,0.25579441301365924,-0.4319807601407964,-0.7550353606457672,-0.05815106441335786,0.6190864775229382,0.9399911697520962,-1.4366566678480763,-0.43104599207293115,-1.073006647715606,-1.0116719874581341,-0.0044088648192909495,-0.2723208922297199,-1.4184543082935284],\"type\":\"box\"}],                        {\"legend\":{\"bgcolor\":\"#F5F6F9\",\"font\":{\"color\":\"#4D5663\"}},\"paper_bgcolor\":\"#F5F6F9\",\"plot_bgcolor\":\"#F5F6F9\",\"template\":{\"data\":{\"barpolar\":[{\"marker\":{\"line\":{\"color\":\"#E5ECF6\",\"width\":0.5},\"pattern\":{\"fillmode\":\"overlay\",\"size\":10,\"solidity\":0.2}},\"type\":\"barpolar\"}],\"bar\":[{\"error_x\":{\"color\":\"#2a3f5f\"},\"error_y\":{\"color\":\"#2a3f5f\"},\"marker\":{\"line\":{\"color\":\"#E5ECF6\",\"width\":0.5},\"pattern\":{\"fillmode\":\"overlay\",\"size\":10,\"solidity\":0.2}},\"type\":\"bar\"}],\"carpet\":[{\"aaxis\":{\"endlinecolor\":\"#2a3f5f\",\"gridcolor\":\"white\",\"linecolor\":\"white\",\"minorgridcolor\":\"white\",\"startlinecolor\":\"#2a3f5f\"},\"baxis\":{\"endlinecolor\":\"#2a3f5f\",\"gridcolor\":\"white\",\"linecolor\":\"white\",\"minorgridcolor\":\"white\",\"startlinecolor\":\"#2a3f5f\"},\"type\":\"carpet\"}],\"choropleth\":[{\"colorbar\":{\"outlinewidth\":0,\"ticks\":\"\"},\"type\":\"choropleth\"}],\"contourcarpet\":[{\"colorbar\":{\"outlinewidth\":0,\"ticks\":\"\"},\"type\":\"contourcarpet\"}],\"contour\":[{\"colorbar\":{\"outlinewidth\":0,\"ticks\":\"\"},\"colorscale\":[[0.0,\"#0d0887\"],[0.1111111111111111,\"#46039f\"],[0.2222222222222222,\"#7201a8\"],[0.3333333333333333,\"#9c179e\"],[0.4444444444444444,\"#bd3786\"],[0.5555555555555556,\"#d8576b\"],[0.6666666666666666,\"#ed7953\"],[0.7777777777777778,\"#fb9f3a\"],[0.8888888888888888,\"#fdca26\"],[1.0,\"#f0f921\"]],\"type\":\"contour\"}],\"heatmapgl\":[{\"colorbar\":{\"outlinewidth\":0,\"ticks\":\"\"},\"colorscale\":[[0.0,\"#0d0887\"],[0.1111111111111111,\"#46039f\"],[0.2222222222222222,\"#7201a8\"],[0.3333333333333333,\"#9c179e\"],[0.4444444444444444,\"#bd3786\"],[0.5555555555555556,\"#d8576b\"],[0.6666666666666666,\"#ed7953\"],[0.7777777777777778,\"#fb9f3a\"],[0.8888888888888888,\"#fdca26\"],[1.0,\"#f0f921\"]],\"type\":\"heatmapgl\"}],\"heatmap\":[{\"colorbar\":{\"outlinewidth\":0,\"ticks\":\"\"},\"colorscale\":[[0.0,\"#0d0887\"],[0.1111111111111111,\"#46039f\"],[0.2222222222222222,\"#7201a8\"],[0.3333333333333333,\"#9c179e\"],[0.4444444444444444,\"#bd3786\"],[0.5555555555555556,\"#d8576b\"],[0.6666666666666666,\"#ed7953\"],[0.7777777777777778,\"#fb9f3a\"],[0.8888888888888888,\"#fdca26\"],[1.0,\"#f0f921\"]],\"type\":\"heatmap\"}],\"histogram2dcontour\":[{\"colorbar\":{\"outlinewidth\":0,\"ticks\":\"\"},\"colorscale\":[[0.0,\"#0d0887\"],[0.1111111111111111,\"#46039f\"],[0.2222222222222222,\"#7201a8\"],[0.3333333333333333,\"#9c179e\"],[0.4444444444444444,\"#bd3786\"],[0.5555555555555556,\"#d8576b\"],[0.6666666666666666,\"#ed7953\"],[0.7777777777777778,\"#fb9f3a\"],[0.8888888888888888,\"#fdca26\"],[1.0,\"#f0f921\"]],\"type\":\"histogram2dcontour\"}],\"histogram2d\":[{\"colorbar\":{\"outlinewidth\":0,\"ticks\":\"\"},\"colorscale\":[[0.0,\"#0d0887\"],[0.1111111111111111,\"#46039f\"],[0.2222222222222222,\"#7201a8\"],[0.3333333333333333,\"#9c179e\"],[0.4444444444444444,\"#bd3786\"],[0.5555555555555556,\"#d8576b\"],[0.6666666666666666,\"#ed7953\"],[0.7777777777777778,\"#fb9f3a\"],[0.8888888888888888,\"#fdca26\"],[1.0,\"#f0f921\"]],\"type\":\"histogram2d\"}],\"histogram\":[{\"marker\":{\"pattern\":{\"fillmode\":\"overlay\",\"size\":10,\"solidity\":0.2}},\"type\":\"histogram\"}],\"mesh3d\":[{\"colorbar\":{\"outlinewidth\":0,\"ticks\":\"\"},\"type\":\"mesh3d\"}],\"parcoords\":[{\"line\":{\"colorbar\":{\"outlinewidth\":0,\"ticks\":\"\"}},\"type\":\"parcoords\"}],\"pie\":[{\"automargin\":true,\"type\":\"pie\"}],\"scatter3d\":[{\"line\":{\"colorbar\":{\"outlinewidth\":0,\"ticks\":\"\"}},\"marker\":{\"colorbar\":{\"outlinewidth\":0,\"ticks\":\"\"}},\"type\":\"scatter3d\"}],\"scattercarpet\":[{\"marker\":{\"colorbar\":{\"outlinewidth\":0,\"ticks\":\"\"}},\"type\":\"scattercarpet\"}],\"scattergeo\":[{\"marker\":{\"colorbar\":{\"outlinewidth\":0,\"ticks\":\"\"}},\"type\":\"scattergeo\"}],\"scattergl\":[{\"marker\":{\"colorbar\":{\"outlinewidth\":0,\"ticks\":\"\"}},\"type\":\"scattergl\"}],\"scattermapbox\":[{\"marker\":{\"colorbar\":{\"outlinewidth\":0,\"ticks\":\"\"}},\"type\":\"scattermapbox\"}],\"scatterpolargl\":[{\"marker\":{\"colorbar\":{\"outlinewidth\":0,\"ticks\":\"\"}},\"type\":\"scatterpolargl\"}],\"scatterpolar\":[{\"marker\":{\"colorbar\":{\"outlinewidth\":0,\"ticks\":\"\"}},\"type\":\"scatterpolar\"}],\"scatter\":[{\"marker\":{\"colorbar\":{\"outlinewidth\":0,\"ticks\":\"\"}},\"type\":\"scatter\"}],\"scatterternary\":[{\"marker\":{\"colorbar\":{\"outlinewidth\":0,\"ticks\":\"\"}},\"type\":\"scatterternary\"}],\"surface\":[{\"colorbar\":{\"outlinewidth\":0,\"ticks\":\"\"},\"colorscale\":[[0.0,\"#0d0887\"],[0.1111111111111111,\"#46039f\"],[0.2222222222222222,\"#7201a8\"],[0.3333333333333333,\"#9c179e\"],[0.4444444444444444,\"#bd3786\"],[0.5555555555555556,\"#d8576b\"],[0.6666666666666666,\"#ed7953\"],[0.7777777777777778,\"#fb9f3a\"],[0.8888888888888888,\"#fdca26\"],[1.0,\"#f0f921\"]],\"type\":\"surface\"}],\"table\":[{\"cells\":{\"fill\":{\"color\":\"#EBF0F8\"},\"line\":{\"color\":\"white\"}},\"header\":{\"fill\":{\"color\":\"#C8D4E3\"},\"line\":{\"color\":\"white\"}},\"type\":\"table\"}]},\"layout\":{\"annotationdefaults\":{\"arrowcolor\":\"#2a3f5f\",\"arrowhead\":0,\"arrowwidth\":1},\"autotypenumbers\":\"strict\",\"coloraxis\":{\"colorbar\":{\"outlinewidth\":0,\"ticks\":\"\"}},\"colorscale\":{\"diverging\":[[0,\"#8e0152\"],[0.1,\"#c51b7d\"],[0.2,\"#de77ae\"],[0.3,\"#f1b6da\"],[0.4,\"#fde0ef\"],[0.5,\"#f7f7f7\"],[0.6,\"#e6f5d0\"],[0.7,\"#b8e186\"],[0.8,\"#7fbc41\"],[0.9,\"#4d9221\"],[1,\"#276419\"]],\"sequential\":[[0.0,\"#0d0887\"],[0.1111111111111111,\"#46039f\"],[0.2222222222222222,\"#7201a8\"],[0.3333333333333333,\"#9c179e\"],[0.4444444444444444,\"#bd3786\"],[0.5555555555555556,\"#d8576b\"],[0.6666666666666666,\"#ed7953\"],[0.7777777777777778,\"#fb9f3a\"],[0.8888888888888888,\"#fdca26\"],[1.0,\"#f0f921\"]],\"sequentialminus\":[[0.0,\"#0d0887\"],[0.1111111111111111,\"#46039f\"],[0.2222222222222222,\"#7201a8\"],[0.3333333333333333,\"#9c179e\"],[0.4444444444444444,\"#bd3786\"],[0.5555555555555556,\"#d8576b\"],[0.6666666666666666,\"#ed7953\"],[0.7777777777777778,\"#fb9f3a\"],[0.8888888888888888,\"#fdca26\"],[1.0,\"#f0f921\"]]},\"colorway\":[\"#636efa\",\"#EF553B\",\"#00cc96\",\"#ab63fa\",\"#FFA15A\",\"#19d3f3\",\"#FF6692\",\"#B6E880\",\"#FF97FF\",\"#FECB52\"],\"font\":{\"color\":\"#2a3f5f\"},\"geo\":{\"bgcolor\":\"white\",\"lakecolor\":\"white\",\"landcolor\":\"#E5ECF6\",\"showlakes\":true,\"showland\":true,\"subunitcolor\":\"white\"},\"hoverlabel\":{\"align\":\"left\"},\"hovermode\":\"closest\",\"mapbox\":{\"style\":\"light\"},\"paper_bgcolor\":\"white\",\"plot_bgcolor\":\"#E5ECF6\",\"polar\":{\"angularaxis\":{\"gridcolor\":\"white\",\"linecolor\":\"white\",\"ticks\":\"\"},\"bgcolor\":\"#E5ECF6\",\"radialaxis\":{\"gridcolor\":\"white\",\"linecolor\":\"white\",\"ticks\":\"\"}},\"scene\":{\"xaxis\":{\"backgroundcolor\":\"#E5ECF6\",\"gridcolor\":\"white\",\"gridwidth\":2,\"linecolor\":\"white\",\"showbackground\":true,\"ticks\":\"\",\"zerolinecolor\":\"white\"},\"yaxis\":{\"backgroundcolor\":\"#E5ECF6\",\"gridcolor\":\"white\",\"gridwidth\":2,\"linecolor\":\"white\",\"showbackground\":true,\"ticks\":\"\",\"zerolinecolor\":\"white\"},\"zaxis\":{\"backgroundcolor\":\"#E5ECF6\",\"gridcolor\":\"white\",\"gridwidth\":2,\"linecolor\":\"white\",\"showbackground\":true,\"ticks\":\"\",\"zerolinecolor\":\"white\"}},\"shapedefaults\":{\"line\":{\"color\":\"#2a3f5f\"}},\"ternary\":{\"aaxis\":{\"gridcolor\":\"white\",\"linecolor\":\"white\",\"ticks\":\"\"},\"baxis\":{\"gridcolor\":\"white\",\"linecolor\":\"white\",\"ticks\":\"\"},\"bgcolor\":\"#E5ECF6\",\"caxis\":{\"gridcolor\":\"white\",\"linecolor\":\"white\",\"ticks\":\"\"}},\"title\":{\"x\":0.05},\"xaxis\":{\"automargin\":true,\"gridcolor\":\"white\",\"linecolor\":\"white\",\"ticks\":\"\",\"title\":{\"standoff\":15},\"zerolinecolor\":\"white\",\"zerolinewidth\":2},\"yaxis\":{\"automargin\":true,\"gridcolor\":\"white\",\"linecolor\":\"white\",\"ticks\":\"\",\"title\":{\"standoff\":15},\"zerolinecolor\":\"white\",\"zerolinewidth\":2}}},\"title\":{\"font\":{\"color\":\"#4D5663\"}},\"xaxis\":{\"gridcolor\":\"#E1E5ED\",\"showgrid\":true,\"tickfont\":{\"color\":\"#4D5663\"},\"title\":{\"font\":{\"color\":\"#4D5663\"},\"text\":\"\"},\"zerolinecolor\":\"#E1E5ED\"},\"yaxis\":{\"gridcolor\":\"#E1E5ED\",\"showgrid\":true,\"tickfont\":{\"color\":\"#4D5663\"},\"title\":{\"font\":{\"color\":\"#4D5663\"},\"text\":\"\"},\"zerolinecolor\":\"#E1E5ED\"}},                        {\"showLink\": true, \"linkText\": \"Export to plot.ly\", \"plotlyServerURL\": \"https://plot.ly\", \"responsive\": true}                    ).then(function(){\n",
       "                            \n",
       "var gd = document.getElementById('8f041ac3-880c-47c1-a13f-57390d3da172');\n",
       "var x = new MutationObserver(function (mutations, observer) {{\n",
       "        var display = window.getComputedStyle(gd).display;\n",
       "        if (!display || display === 'none') {{\n",
       "            console.log([gd, 'removed!']);\n",
       "            Plotly.purge(gd);\n",
       "            observer.disconnect();\n",
       "        }}\n",
       "}});\n",
       "\n",
       "// Listen for the removal of the full notebook cells\n",
       "var notebookContainer = gd.closest('#notebook-container');\n",
       "if (notebookContainer) {{\n",
       "    x.observe(notebookContainer, {childList: true});\n",
       "}}\n",
       "\n",
       "// Listen for the clearing of the current output cell\n",
       "var outputEl = gd.closest('.output');\n",
       "if (outputEl) {{\n",
       "    x.observe(outputEl, {childList: true});\n",
       "}}\n",
       "\n",
       "                        })                };                });            </script>        </div>"
      ]
     },
     "metadata": {},
     "output_type": "display_data"
    }
   ],
   "source": [
    "df.iplot(kind = 'box')"
   ]
  },
  {
   "cell_type": "markdown",
   "metadata": {},
   "source": [
    "#### Surface plot"
   ]
  },
  {
   "cell_type": "code",
   "execution_count": 33,
   "metadata": {},
   "outputs": [
    {
     "data": {
      "text/html": [
       "<div>\n",
       "<style scoped>\n",
       "    .dataframe tbody tr th:only-of-type {\n",
       "        vertical-align: middle;\n",
       "    }\n",
       "\n",
       "    .dataframe tbody tr th {\n",
       "        vertical-align: top;\n",
       "    }\n",
       "\n",
       "    .dataframe thead th {\n",
       "        text-align: right;\n",
       "    }\n",
       "</style>\n",
       "<table border=\"1\" class=\"dataframe\">\n",
       "  <thead>\n",
       "    <tr style=\"text-align: right;\">\n",
       "      <th></th>\n",
       "      <th>x</th>\n",
       "      <th>y</th>\n",
       "      <th>z</th>\n",
       "    </tr>\n",
       "  </thead>\n",
       "  <tbody>\n",
       "    <tr>\n",
       "      <th>0</th>\n",
       "      <td>1</td>\n",
       "      <td>10</td>\n",
       "      <td>500</td>\n",
       "    </tr>\n",
       "    <tr>\n",
       "      <th>1</th>\n",
       "      <td>2</td>\n",
       "      <td>20</td>\n",
       "      <td>400</td>\n",
       "    </tr>\n",
       "    <tr>\n",
       "      <th>2</th>\n",
       "      <td>3</td>\n",
       "      <td>30</td>\n",
       "      <td>300</td>\n",
       "    </tr>\n",
       "    <tr>\n",
       "      <th>3</th>\n",
       "      <td>4</td>\n",
       "      <td>20</td>\n",
       "      <td>200</td>\n",
       "    </tr>\n",
       "    <tr>\n",
       "      <th>4</th>\n",
       "      <td>5</td>\n",
       "      <td>10</td>\n",
       "      <td>100</td>\n",
       "    </tr>\n",
       "  </tbody>\n",
       "</table>\n",
       "</div>"
      ],
      "text/plain": [
       "   x   y    z\n",
       "0  1  10  500\n",
       "1  2  20  400\n",
       "2  3  30  300\n",
       "3  4  20  200\n",
       "4  5  10  100"
      ]
     },
     "execution_count": 33,
     "metadata": {},
     "output_type": "execute_result"
    }
   ],
   "source": [
    "df3 = pd.DataFrame({\n",
    "    'x' : [1, 2, 3, 4, 5], \n",
    "    'y' : [10, 20, 30, 20, 10], \n",
    "    'z' : [500, 400, 300, 200, 100]\n",
    "    })\n",
    "\n",
    "df3"
   ]
  },
  {
   "cell_type": "code",
   "execution_count": 34,
   "metadata": {},
   "outputs": [
    {
     "data": {
      "application/vnd.plotly.v1+json": {
       "config": {
        "linkText": "Export to plot.ly",
        "plotlyServerURL": "https://plot.ly",
        "showLink": true
       },
       "data": [
        {
         "colorscale": [
          [
           0,
           "rgb(255, 153, 51)"
          ],
          [
           0.1111111111111111,
           "rgb(55, 128, 191)"
          ],
          [
           0.2222222222222222,
           "rgb(50, 171, 96)"
          ],
          [
           0.3333333333333333,
           "rgb(128, 0, 128)"
          ],
          [
           0.4444444444444444,
           "rgb(219, 64, 82)"
          ],
          [
           0.5555555555555556,
           "rgb(0, 128, 128)"
          ],
          [
           0.6666666666666666,
           "rgb(255, 255, 51)"
          ],
          [
           0.7777777777777778,
           "rgb(128, 128, 0)"
          ],
          [
           0.8888888888888888,
           "rgb(251, 128, 114)"
          ],
          [
           1,
           "rgb(128, 177, 211)"
          ]
         ],
         "type": "surface",
         "x": [
          0,
          1,
          2,
          3,
          4
         ],
         "y": [
          "x",
          "y",
          "z"
         ],
         "z": [
          [
           1,
           2,
           3,
           4,
           5
          ],
          [
           10,
           20,
           30,
           20,
           10
          ],
          [
           500,
           400,
           300,
           200,
           100
          ]
         ]
        }
       ],
       "layout": {
        "legend": {
         "bgcolor": "#F5F6F9",
         "font": {
          "color": "#4D5663"
         }
        },
        "paper_bgcolor": "#F5F6F9",
        "plot_bgcolor": "#F5F6F9",
        "template": {
         "data": {
          "bar": [
           {
            "error_x": {
             "color": "#2a3f5f"
            },
            "error_y": {
             "color": "#2a3f5f"
            },
            "marker": {
             "line": {
              "color": "#E5ECF6",
              "width": 0.5
             },
             "pattern": {
              "fillmode": "overlay",
              "size": 10,
              "solidity": 0.2
             }
            },
            "type": "bar"
           }
          ],
          "barpolar": [
           {
            "marker": {
             "line": {
              "color": "#E5ECF6",
              "width": 0.5
             },
             "pattern": {
              "fillmode": "overlay",
              "size": 10,
              "solidity": 0.2
             }
            },
            "type": "barpolar"
           }
          ],
          "carpet": [
           {
            "aaxis": {
             "endlinecolor": "#2a3f5f",
             "gridcolor": "white",
             "linecolor": "white",
             "minorgridcolor": "white",
             "startlinecolor": "#2a3f5f"
            },
            "baxis": {
             "endlinecolor": "#2a3f5f",
             "gridcolor": "white",
             "linecolor": "white",
             "minorgridcolor": "white",
             "startlinecolor": "#2a3f5f"
            },
            "type": "carpet"
           }
          ],
          "choropleth": [
           {
            "colorbar": {
             "outlinewidth": 0,
             "ticks": ""
            },
            "type": "choropleth"
           }
          ],
          "contour": [
           {
            "colorbar": {
             "outlinewidth": 0,
             "ticks": ""
            },
            "colorscale": [
             [
              0,
              "#0d0887"
             ],
             [
              0.1111111111111111,
              "#46039f"
             ],
             [
              0.2222222222222222,
              "#7201a8"
             ],
             [
              0.3333333333333333,
              "#9c179e"
             ],
             [
              0.4444444444444444,
              "#bd3786"
             ],
             [
              0.5555555555555556,
              "#d8576b"
             ],
             [
              0.6666666666666666,
              "#ed7953"
             ],
             [
              0.7777777777777778,
              "#fb9f3a"
             ],
             [
              0.8888888888888888,
              "#fdca26"
             ],
             [
              1,
              "#f0f921"
             ]
            ],
            "type": "contour"
           }
          ],
          "contourcarpet": [
           {
            "colorbar": {
             "outlinewidth": 0,
             "ticks": ""
            },
            "type": "contourcarpet"
           }
          ],
          "heatmap": [
           {
            "colorbar": {
             "outlinewidth": 0,
             "ticks": ""
            },
            "colorscale": [
             [
              0,
              "#0d0887"
             ],
             [
              0.1111111111111111,
              "#46039f"
             ],
             [
              0.2222222222222222,
              "#7201a8"
             ],
             [
              0.3333333333333333,
              "#9c179e"
             ],
             [
              0.4444444444444444,
              "#bd3786"
             ],
             [
              0.5555555555555556,
              "#d8576b"
             ],
             [
              0.6666666666666666,
              "#ed7953"
             ],
             [
              0.7777777777777778,
              "#fb9f3a"
             ],
             [
              0.8888888888888888,
              "#fdca26"
             ],
             [
              1,
              "#f0f921"
             ]
            ],
            "type": "heatmap"
           }
          ],
          "heatmapgl": [
           {
            "colorbar": {
             "outlinewidth": 0,
             "ticks": ""
            },
            "colorscale": [
             [
              0,
              "#0d0887"
             ],
             [
              0.1111111111111111,
              "#46039f"
             ],
             [
              0.2222222222222222,
              "#7201a8"
             ],
             [
              0.3333333333333333,
              "#9c179e"
             ],
             [
              0.4444444444444444,
              "#bd3786"
             ],
             [
              0.5555555555555556,
              "#d8576b"
             ],
             [
              0.6666666666666666,
              "#ed7953"
             ],
             [
              0.7777777777777778,
              "#fb9f3a"
             ],
             [
              0.8888888888888888,
              "#fdca26"
             ],
             [
              1,
              "#f0f921"
             ]
            ],
            "type": "heatmapgl"
           }
          ],
          "histogram": [
           {
            "marker": {
             "pattern": {
              "fillmode": "overlay",
              "size": 10,
              "solidity": 0.2
             }
            },
            "type": "histogram"
           }
          ],
          "histogram2d": [
           {
            "colorbar": {
             "outlinewidth": 0,
             "ticks": ""
            },
            "colorscale": [
             [
              0,
              "#0d0887"
             ],
             [
              0.1111111111111111,
              "#46039f"
             ],
             [
              0.2222222222222222,
              "#7201a8"
             ],
             [
              0.3333333333333333,
              "#9c179e"
             ],
             [
              0.4444444444444444,
              "#bd3786"
             ],
             [
              0.5555555555555556,
              "#d8576b"
             ],
             [
              0.6666666666666666,
              "#ed7953"
             ],
             [
              0.7777777777777778,
              "#fb9f3a"
             ],
             [
              0.8888888888888888,
              "#fdca26"
             ],
             [
              1,
              "#f0f921"
             ]
            ],
            "type": "histogram2d"
           }
          ],
          "histogram2dcontour": [
           {
            "colorbar": {
             "outlinewidth": 0,
             "ticks": ""
            },
            "colorscale": [
             [
              0,
              "#0d0887"
             ],
             [
              0.1111111111111111,
              "#46039f"
             ],
             [
              0.2222222222222222,
              "#7201a8"
             ],
             [
              0.3333333333333333,
              "#9c179e"
             ],
             [
              0.4444444444444444,
              "#bd3786"
             ],
             [
              0.5555555555555556,
              "#d8576b"
             ],
             [
              0.6666666666666666,
              "#ed7953"
             ],
             [
              0.7777777777777778,
              "#fb9f3a"
             ],
             [
              0.8888888888888888,
              "#fdca26"
             ],
             [
              1,
              "#f0f921"
             ]
            ],
            "type": "histogram2dcontour"
           }
          ],
          "mesh3d": [
           {
            "colorbar": {
             "outlinewidth": 0,
             "ticks": ""
            },
            "type": "mesh3d"
           }
          ],
          "parcoords": [
           {
            "line": {
             "colorbar": {
              "outlinewidth": 0,
              "ticks": ""
             }
            },
            "type": "parcoords"
           }
          ],
          "pie": [
           {
            "automargin": true,
            "type": "pie"
           }
          ],
          "scatter": [
           {
            "marker": {
             "colorbar": {
              "outlinewidth": 0,
              "ticks": ""
             }
            },
            "type": "scatter"
           }
          ],
          "scatter3d": [
           {
            "line": {
             "colorbar": {
              "outlinewidth": 0,
              "ticks": ""
             }
            },
            "marker": {
             "colorbar": {
              "outlinewidth": 0,
              "ticks": ""
             }
            },
            "type": "scatter3d"
           }
          ],
          "scattercarpet": [
           {
            "marker": {
             "colorbar": {
              "outlinewidth": 0,
              "ticks": ""
             }
            },
            "type": "scattercarpet"
           }
          ],
          "scattergeo": [
           {
            "marker": {
             "colorbar": {
              "outlinewidth": 0,
              "ticks": ""
             }
            },
            "type": "scattergeo"
           }
          ],
          "scattergl": [
           {
            "marker": {
             "colorbar": {
              "outlinewidth": 0,
              "ticks": ""
             }
            },
            "type": "scattergl"
           }
          ],
          "scattermapbox": [
           {
            "marker": {
             "colorbar": {
              "outlinewidth": 0,
              "ticks": ""
             }
            },
            "type": "scattermapbox"
           }
          ],
          "scatterpolar": [
           {
            "marker": {
             "colorbar": {
              "outlinewidth": 0,
              "ticks": ""
             }
            },
            "type": "scatterpolar"
           }
          ],
          "scatterpolargl": [
           {
            "marker": {
             "colorbar": {
              "outlinewidth": 0,
              "ticks": ""
             }
            },
            "type": "scatterpolargl"
           }
          ],
          "scatterternary": [
           {
            "marker": {
             "colorbar": {
              "outlinewidth": 0,
              "ticks": ""
             }
            },
            "type": "scatterternary"
           }
          ],
          "surface": [
           {
            "colorbar": {
             "outlinewidth": 0,
             "ticks": ""
            },
            "colorscale": [
             [
              0,
              "#0d0887"
             ],
             [
              0.1111111111111111,
              "#46039f"
             ],
             [
              0.2222222222222222,
              "#7201a8"
             ],
             [
              0.3333333333333333,
              "#9c179e"
             ],
             [
              0.4444444444444444,
              "#bd3786"
             ],
             [
              0.5555555555555556,
              "#d8576b"
             ],
             [
              0.6666666666666666,
              "#ed7953"
             ],
             [
              0.7777777777777778,
              "#fb9f3a"
             ],
             [
              0.8888888888888888,
              "#fdca26"
             ],
             [
              1,
              "#f0f921"
             ]
            ],
            "type": "surface"
           }
          ],
          "table": [
           {
            "cells": {
             "fill": {
              "color": "#EBF0F8"
             },
             "line": {
              "color": "white"
             }
            },
            "header": {
             "fill": {
              "color": "#C8D4E3"
             },
             "line": {
              "color": "white"
             }
            },
            "type": "table"
           }
          ]
         },
         "layout": {
          "annotationdefaults": {
           "arrowcolor": "#2a3f5f",
           "arrowhead": 0,
           "arrowwidth": 1
          },
          "autotypenumbers": "strict",
          "coloraxis": {
           "colorbar": {
            "outlinewidth": 0,
            "ticks": ""
           }
          },
          "colorscale": {
           "diverging": [
            [
             0,
             "#8e0152"
            ],
            [
             0.1,
             "#c51b7d"
            ],
            [
             0.2,
             "#de77ae"
            ],
            [
             0.3,
             "#f1b6da"
            ],
            [
             0.4,
             "#fde0ef"
            ],
            [
             0.5,
             "#f7f7f7"
            ],
            [
             0.6,
             "#e6f5d0"
            ],
            [
             0.7,
             "#b8e186"
            ],
            [
             0.8,
             "#7fbc41"
            ],
            [
             0.9,
             "#4d9221"
            ],
            [
             1,
             "#276419"
            ]
           ],
           "sequential": [
            [
             0,
             "#0d0887"
            ],
            [
             0.1111111111111111,
             "#46039f"
            ],
            [
             0.2222222222222222,
             "#7201a8"
            ],
            [
             0.3333333333333333,
             "#9c179e"
            ],
            [
             0.4444444444444444,
             "#bd3786"
            ],
            [
             0.5555555555555556,
             "#d8576b"
            ],
            [
             0.6666666666666666,
             "#ed7953"
            ],
            [
             0.7777777777777778,
             "#fb9f3a"
            ],
            [
             0.8888888888888888,
             "#fdca26"
            ],
            [
             1,
             "#f0f921"
            ]
           ],
           "sequentialminus": [
            [
             0,
             "#0d0887"
            ],
            [
             0.1111111111111111,
             "#46039f"
            ],
            [
             0.2222222222222222,
             "#7201a8"
            ],
            [
             0.3333333333333333,
             "#9c179e"
            ],
            [
             0.4444444444444444,
             "#bd3786"
            ],
            [
             0.5555555555555556,
             "#d8576b"
            ],
            [
             0.6666666666666666,
             "#ed7953"
            ],
            [
             0.7777777777777778,
             "#fb9f3a"
            ],
            [
             0.8888888888888888,
             "#fdca26"
            ],
            [
             1,
             "#f0f921"
            ]
           ]
          },
          "colorway": [
           "#636efa",
           "#EF553B",
           "#00cc96",
           "#ab63fa",
           "#FFA15A",
           "#19d3f3",
           "#FF6692",
           "#B6E880",
           "#FF97FF",
           "#FECB52"
          ],
          "font": {
           "color": "#2a3f5f"
          },
          "geo": {
           "bgcolor": "white",
           "lakecolor": "white",
           "landcolor": "#E5ECF6",
           "showlakes": true,
           "showland": true,
           "subunitcolor": "white"
          },
          "hoverlabel": {
           "align": "left"
          },
          "hovermode": "closest",
          "mapbox": {
           "style": "light"
          },
          "paper_bgcolor": "white",
          "plot_bgcolor": "#E5ECF6",
          "polar": {
           "angularaxis": {
            "gridcolor": "white",
            "linecolor": "white",
            "ticks": ""
           },
           "bgcolor": "#E5ECF6",
           "radialaxis": {
            "gridcolor": "white",
            "linecolor": "white",
            "ticks": ""
           }
          },
          "scene": {
           "xaxis": {
            "backgroundcolor": "#E5ECF6",
            "gridcolor": "white",
            "gridwidth": 2,
            "linecolor": "white",
            "showbackground": true,
            "ticks": "",
            "zerolinecolor": "white"
           },
           "yaxis": {
            "backgroundcolor": "#E5ECF6",
            "gridcolor": "white",
            "gridwidth": 2,
            "linecolor": "white",
            "showbackground": true,
            "ticks": "",
            "zerolinecolor": "white"
           },
           "zaxis": {
            "backgroundcolor": "#E5ECF6",
            "gridcolor": "white",
            "gridwidth": 2,
            "linecolor": "white",
            "showbackground": true,
            "ticks": "",
            "zerolinecolor": "white"
           }
          },
          "shapedefaults": {
           "line": {
            "color": "#2a3f5f"
           }
          },
          "ternary": {
           "aaxis": {
            "gridcolor": "white",
            "linecolor": "white",
            "ticks": ""
           },
           "baxis": {
            "gridcolor": "white",
            "linecolor": "white",
            "ticks": ""
           },
           "bgcolor": "#E5ECF6",
           "caxis": {
            "gridcolor": "white",
            "linecolor": "white",
            "ticks": ""
           }
          },
          "title": {
           "x": 0.05
          },
          "xaxis": {
           "automargin": true,
           "gridcolor": "white",
           "linecolor": "white",
           "ticks": "",
           "title": {
            "standoff": 15
           },
           "zerolinecolor": "white",
           "zerolinewidth": 2
          },
          "yaxis": {
           "automargin": true,
           "gridcolor": "white",
           "linecolor": "white",
           "ticks": "",
           "title": {
            "standoff": 15
           },
           "zerolinecolor": "white",
           "zerolinewidth": 2
          }
         }
        },
        "title": {
         "font": {
          "color": "#4D5663"
         }
        },
        "xaxis": {
         "gridcolor": "#E1E5ED",
         "showgrid": true,
         "tickfont": {
          "color": "#4D5663"
         },
         "title": {
          "font": {
           "color": "#4D5663"
          },
          "text": ""
         },
         "zerolinecolor": "#E1E5ED"
        },
        "yaxis": {
         "gridcolor": "#E1E5ED",
         "showgrid": true,
         "tickfont": {
          "color": "#4D5663"
         },
         "title": {
          "font": {
           "color": "#4D5663"
          },
          "text": ""
         },
         "zerolinecolor": "#E1E5ED"
        }
       }
      },
      "text/html": [
       "<div>                            <div id=\"dec17a3f-258b-400c-9c6e-ebea7224de5c\" class=\"plotly-graph-div\" style=\"height:525px; width:100%;\"></div>            <script type=\"text/javascript\">                require([\"plotly\"], function(Plotly) {                    window.PLOTLYENV=window.PLOTLYENV || {};\n",
       "                    window.PLOTLYENV.BASE_URL='https://plot.ly';                                    if (document.getElementById(\"dec17a3f-258b-400c-9c6e-ebea7224de5c\")) {                    Plotly.newPlot(                        \"dec17a3f-258b-400c-9c6e-ebea7224de5c\",                        [{\"colorscale\":[[0.0,\"rgb(255, 153, 51)\"],[0.1111111111111111,\"rgb(55, 128, 191)\"],[0.2222222222222222,\"rgb(50, 171, 96)\"],[0.3333333333333333,\"rgb(128, 0, 128)\"],[0.4444444444444444,\"rgb(219, 64, 82)\"],[0.5555555555555556,\"rgb(0, 128, 128)\"],[0.6666666666666666,\"rgb(255, 255, 51)\"],[0.7777777777777778,\"rgb(128, 128, 0)\"],[0.8888888888888888,\"rgb(251, 128, 114)\"],[1.0,\"rgb(128, 177, 211)\"]],\"x\":[0,1,2,3,4],\"y\":[\"x\",\"y\",\"z\"],\"z\":[[1,2,3,4,5],[10,20,30,20,10],[500,400,300,200,100]],\"type\":\"surface\"}],                        {\"legend\":{\"bgcolor\":\"#F5F6F9\",\"font\":{\"color\":\"#4D5663\"}},\"paper_bgcolor\":\"#F5F6F9\",\"plot_bgcolor\":\"#F5F6F9\",\"template\":{\"data\":{\"barpolar\":[{\"marker\":{\"line\":{\"color\":\"#E5ECF6\",\"width\":0.5},\"pattern\":{\"fillmode\":\"overlay\",\"size\":10,\"solidity\":0.2}},\"type\":\"barpolar\"}],\"bar\":[{\"error_x\":{\"color\":\"#2a3f5f\"},\"error_y\":{\"color\":\"#2a3f5f\"},\"marker\":{\"line\":{\"color\":\"#E5ECF6\",\"width\":0.5},\"pattern\":{\"fillmode\":\"overlay\",\"size\":10,\"solidity\":0.2}},\"type\":\"bar\"}],\"carpet\":[{\"aaxis\":{\"endlinecolor\":\"#2a3f5f\",\"gridcolor\":\"white\",\"linecolor\":\"white\",\"minorgridcolor\":\"white\",\"startlinecolor\":\"#2a3f5f\"},\"baxis\":{\"endlinecolor\":\"#2a3f5f\",\"gridcolor\":\"white\",\"linecolor\":\"white\",\"minorgridcolor\":\"white\",\"startlinecolor\":\"#2a3f5f\"},\"type\":\"carpet\"}],\"choropleth\":[{\"colorbar\":{\"outlinewidth\":0,\"ticks\":\"\"},\"type\":\"choropleth\"}],\"contourcarpet\":[{\"colorbar\":{\"outlinewidth\":0,\"ticks\":\"\"},\"type\":\"contourcarpet\"}],\"contour\":[{\"colorbar\":{\"outlinewidth\":0,\"ticks\":\"\"},\"colorscale\":[[0.0,\"#0d0887\"],[0.1111111111111111,\"#46039f\"],[0.2222222222222222,\"#7201a8\"],[0.3333333333333333,\"#9c179e\"],[0.4444444444444444,\"#bd3786\"],[0.5555555555555556,\"#d8576b\"],[0.6666666666666666,\"#ed7953\"],[0.7777777777777778,\"#fb9f3a\"],[0.8888888888888888,\"#fdca26\"],[1.0,\"#f0f921\"]],\"type\":\"contour\"}],\"heatmapgl\":[{\"colorbar\":{\"outlinewidth\":0,\"ticks\":\"\"},\"colorscale\":[[0.0,\"#0d0887\"],[0.1111111111111111,\"#46039f\"],[0.2222222222222222,\"#7201a8\"],[0.3333333333333333,\"#9c179e\"],[0.4444444444444444,\"#bd3786\"],[0.5555555555555556,\"#d8576b\"],[0.6666666666666666,\"#ed7953\"],[0.7777777777777778,\"#fb9f3a\"],[0.8888888888888888,\"#fdca26\"],[1.0,\"#f0f921\"]],\"type\":\"heatmapgl\"}],\"heatmap\":[{\"colorbar\":{\"outlinewidth\":0,\"ticks\":\"\"},\"colorscale\":[[0.0,\"#0d0887\"],[0.1111111111111111,\"#46039f\"],[0.2222222222222222,\"#7201a8\"],[0.3333333333333333,\"#9c179e\"],[0.4444444444444444,\"#bd3786\"],[0.5555555555555556,\"#d8576b\"],[0.6666666666666666,\"#ed7953\"],[0.7777777777777778,\"#fb9f3a\"],[0.8888888888888888,\"#fdca26\"],[1.0,\"#f0f921\"]],\"type\":\"heatmap\"}],\"histogram2dcontour\":[{\"colorbar\":{\"outlinewidth\":0,\"ticks\":\"\"},\"colorscale\":[[0.0,\"#0d0887\"],[0.1111111111111111,\"#46039f\"],[0.2222222222222222,\"#7201a8\"],[0.3333333333333333,\"#9c179e\"],[0.4444444444444444,\"#bd3786\"],[0.5555555555555556,\"#d8576b\"],[0.6666666666666666,\"#ed7953\"],[0.7777777777777778,\"#fb9f3a\"],[0.8888888888888888,\"#fdca26\"],[1.0,\"#f0f921\"]],\"type\":\"histogram2dcontour\"}],\"histogram2d\":[{\"colorbar\":{\"outlinewidth\":0,\"ticks\":\"\"},\"colorscale\":[[0.0,\"#0d0887\"],[0.1111111111111111,\"#46039f\"],[0.2222222222222222,\"#7201a8\"],[0.3333333333333333,\"#9c179e\"],[0.4444444444444444,\"#bd3786\"],[0.5555555555555556,\"#d8576b\"],[0.6666666666666666,\"#ed7953\"],[0.7777777777777778,\"#fb9f3a\"],[0.8888888888888888,\"#fdca26\"],[1.0,\"#f0f921\"]],\"type\":\"histogram2d\"}],\"histogram\":[{\"marker\":{\"pattern\":{\"fillmode\":\"overlay\",\"size\":10,\"solidity\":0.2}},\"type\":\"histogram\"}],\"mesh3d\":[{\"colorbar\":{\"outlinewidth\":0,\"ticks\":\"\"},\"type\":\"mesh3d\"}],\"parcoords\":[{\"line\":{\"colorbar\":{\"outlinewidth\":0,\"ticks\":\"\"}},\"type\":\"parcoords\"}],\"pie\":[{\"automargin\":true,\"type\":\"pie\"}],\"scatter3d\":[{\"line\":{\"colorbar\":{\"outlinewidth\":0,\"ticks\":\"\"}},\"marker\":{\"colorbar\":{\"outlinewidth\":0,\"ticks\":\"\"}},\"type\":\"scatter3d\"}],\"scattercarpet\":[{\"marker\":{\"colorbar\":{\"outlinewidth\":0,\"ticks\":\"\"}},\"type\":\"scattercarpet\"}],\"scattergeo\":[{\"marker\":{\"colorbar\":{\"outlinewidth\":0,\"ticks\":\"\"}},\"type\":\"scattergeo\"}],\"scattergl\":[{\"marker\":{\"colorbar\":{\"outlinewidth\":0,\"ticks\":\"\"}},\"type\":\"scattergl\"}],\"scattermapbox\":[{\"marker\":{\"colorbar\":{\"outlinewidth\":0,\"ticks\":\"\"}},\"type\":\"scattermapbox\"}],\"scatterpolargl\":[{\"marker\":{\"colorbar\":{\"outlinewidth\":0,\"ticks\":\"\"}},\"type\":\"scatterpolargl\"}],\"scatterpolar\":[{\"marker\":{\"colorbar\":{\"outlinewidth\":0,\"ticks\":\"\"}},\"type\":\"scatterpolar\"}],\"scatter\":[{\"marker\":{\"colorbar\":{\"outlinewidth\":0,\"ticks\":\"\"}},\"type\":\"scatter\"}],\"scatterternary\":[{\"marker\":{\"colorbar\":{\"outlinewidth\":0,\"ticks\":\"\"}},\"type\":\"scatterternary\"}],\"surface\":[{\"colorbar\":{\"outlinewidth\":0,\"ticks\":\"\"},\"colorscale\":[[0.0,\"#0d0887\"],[0.1111111111111111,\"#46039f\"],[0.2222222222222222,\"#7201a8\"],[0.3333333333333333,\"#9c179e\"],[0.4444444444444444,\"#bd3786\"],[0.5555555555555556,\"#d8576b\"],[0.6666666666666666,\"#ed7953\"],[0.7777777777777778,\"#fb9f3a\"],[0.8888888888888888,\"#fdca26\"],[1.0,\"#f0f921\"]],\"type\":\"surface\"}],\"table\":[{\"cells\":{\"fill\":{\"color\":\"#EBF0F8\"},\"line\":{\"color\":\"white\"}},\"header\":{\"fill\":{\"color\":\"#C8D4E3\"},\"line\":{\"color\":\"white\"}},\"type\":\"table\"}]},\"layout\":{\"annotationdefaults\":{\"arrowcolor\":\"#2a3f5f\",\"arrowhead\":0,\"arrowwidth\":1},\"autotypenumbers\":\"strict\",\"coloraxis\":{\"colorbar\":{\"outlinewidth\":0,\"ticks\":\"\"}},\"colorscale\":{\"diverging\":[[0,\"#8e0152\"],[0.1,\"#c51b7d\"],[0.2,\"#de77ae\"],[0.3,\"#f1b6da\"],[0.4,\"#fde0ef\"],[0.5,\"#f7f7f7\"],[0.6,\"#e6f5d0\"],[0.7,\"#b8e186\"],[0.8,\"#7fbc41\"],[0.9,\"#4d9221\"],[1,\"#276419\"]],\"sequential\":[[0.0,\"#0d0887\"],[0.1111111111111111,\"#46039f\"],[0.2222222222222222,\"#7201a8\"],[0.3333333333333333,\"#9c179e\"],[0.4444444444444444,\"#bd3786\"],[0.5555555555555556,\"#d8576b\"],[0.6666666666666666,\"#ed7953\"],[0.7777777777777778,\"#fb9f3a\"],[0.8888888888888888,\"#fdca26\"],[1.0,\"#f0f921\"]],\"sequentialminus\":[[0.0,\"#0d0887\"],[0.1111111111111111,\"#46039f\"],[0.2222222222222222,\"#7201a8\"],[0.3333333333333333,\"#9c179e\"],[0.4444444444444444,\"#bd3786\"],[0.5555555555555556,\"#d8576b\"],[0.6666666666666666,\"#ed7953\"],[0.7777777777777778,\"#fb9f3a\"],[0.8888888888888888,\"#fdca26\"],[1.0,\"#f0f921\"]]},\"colorway\":[\"#636efa\",\"#EF553B\",\"#00cc96\",\"#ab63fa\",\"#FFA15A\",\"#19d3f3\",\"#FF6692\",\"#B6E880\",\"#FF97FF\",\"#FECB52\"],\"font\":{\"color\":\"#2a3f5f\"},\"geo\":{\"bgcolor\":\"white\",\"lakecolor\":\"white\",\"landcolor\":\"#E5ECF6\",\"showlakes\":true,\"showland\":true,\"subunitcolor\":\"white\"},\"hoverlabel\":{\"align\":\"left\"},\"hovermode\":\"closest\",\"mapbox\":{\"style\":\"light\"},\"paper_bgcolor\":\"white\",\"plot_bgcolor\":\"#E5ECF6\",\"polar\":{\"angularaxis\":{\"gridcolor\":\"white\",\"linecolor\":\"white\",\"ticks\":\"\"},\"bgcolor\":\"#E5ECF6\",\"radialaxis\":{\"gridcolor\":\"white\",\"linecolor\":\"white\",\"ticks\":\"\"}},\"scene\":{\"xaxis\":{\"backgroundcolor\":\"#E5ECF6\",\"gridcolor\":\"white\",\"gridwidth\":2,\"linecolor\":\"white\",\"showbackground\":true,\"ticks\":\"\",\"zerolinecolor\":\"white\"},\"yaxis\":{\"backgroundcolor\":\"#E5ECF6\",\"gridcolor\":\"white\",\"gridwidth\":2,\"linecolor\":\"white\",\"showbackground\":true,\"ticks\":\"\",\"zerolinecolor\":\"white\"},\"zaxis\":{\"backgroundcolor\":\"#E5ECF6\",\"gridcolor\":\"white\",\"gridwidth\":2,\"linecolor\":\"white\",\"showbackground\":true,\"ticks\":\"\",\"zerolinecolor\":\"white\"}},\"shapedefaults\":{\"line\":{\"color\":\"#2a3f5f\"}},\"ternary\":{\"aaxis\":{\"gridcolor\":\"white\",\"linecolor\":\"white\",\"ticks\":\"\"},\"baxis\":{\"gridcolor\":\"white\",\"linecolor\":\"white\",\"ticks\":\"\"},\"bgcolor\":\"#E5ECF6\",\"caxis\":{\"gridcolor\":\"white\",\"linecolor\":\"white\",\"ticks\":\"\"}},\"title\":{\"x\":0.05},\"xaxis\":{\"automargin\":true,\"gridcolor\":\"white\",\"linecolor\":\"white\",\"ticks\":\"\",\"title\":{\"standoff\":15},\"zerolinecolor\":\"white\",\"zerolinewidth\":2},\"yaxis\":{\"automargin\":true,\"gridcolor\":\"white\",\"linecolor\":\"white\",\"ticks\":\"\",\"title\":{\"standoff\":15},\"zerolinecolor\":\"white\",\"zerolinewidth\":2}}},\"title\":{\"font\":{\"color\":\"#4D5663\"}},\"xaxis\":{\"gridcolor\":\"#E1E5ED\",\"showgrid\":true,\"tickfont\":{\"color\":\"#4D5663\"},\"title\":{\"font\":{\"color\":\"#4D5663\"},\"text\":\"\"},\"zerolinecolor\":\"#E1E5ED\"},\"yaxis\":{\"gridcolor\":\"#E1E5ED\",\"showgrid\":true,\"tickfont\":{\"color\":\"#4D5663\"},\"title\":{\"font\":{\"color\":\"#4D5663\"},\"text\":\"\"},\"zerolinecolor\":\"#E1E5ED\"}},                        {\"showLink\": true, \"linkText\": \"Export to plot.ly\", \"plotlyServerURL\": \"https://plot.ly\", \"responsive\": true}                    ).then(function(){\n",
       "                            \n",
       "var gd = document.getElementById('dec17a3f-258b-400c-9c6e-ebea7224de5c');\n",
       "var x = new MutationObserver(function (mutations, observer) {{\n",
       "        var display = window.getComputedStyle(gd).display;\n",
       "        if (!display || display === 'none') {{\n",
       "            console.log([gd, 'removed!']);\n",
       "            Plotly.purge(gd);\n",
       "            observer.disconnect();\n",
       "        }}\n",
       "}});\n",
       "\n",
       "// Listen for the removal of the full notebook cells\n",
       "var notebookContainer = gd.closest('#notebook-container');\n",
       "if (notebookContainer) {{\n",
       "    x.observe(notebookContainer, {childList: true});\n",
       "}}\n",
       "\n",
       "// Listen for the clearing of the current output cell\n",
       "var outputEl = gd.closest('.output');\n",
       "if (outputEl) {{\n",
       "    x.observe(outputEl, {childList: true});\n",
       "}}\n",
       "\n",
       "                        })                };                });            </script>        </div>"
      ]
     },
     "metadata": {},
     "output_type": "display_data"
    }
   ],
   "source": [
    "df3.iplot(kind = 'surface')"
   ]
  },
  {
   "cell_type": "code",
   "execution_count": 36,
   "metadata": {},
   "outputs": [
    {
     "data": {
      "application/vnd.plotly.v1+json": {
       "config": {
        "linkText": "Export to plot.ly",
        "plotlyServerURL": "https://plot.ly",
        "showLink": true
       },
       "data": [
        {
         "colorscale": [
          [
           0,
           "rgb(165,0,38)"
          ],
          [
           0.1,
           "rgb(215,48,39)"
          ],
          [
           0.2,
           "rgb(244,109,67)"
          ],
          [
           0.3,
           "rgb(253,174,97)"
          ],
          [
           0.4,
           "rgb(254,224,144)"
          ],
          [
           0.5,
           "rgb(255,255,191)"
          ],
          [
           0.6,
           "rgb(224,243,248)"
          ],
          [
           0.7,
           "rgb(171,217,233)"
          ],
          [
           0.8,
           "rgb(116,173,209)"
          ],
          [
           0.9,
           "rgb(69,117,180)"
          ],
          [
           1,
           "rgb(49,54,149)"
          ]
         ],
         "type": "surface",
         "x": [
          0,
          1,
          2,
          3,
          4
         ],
         "y": [
          "x",
          "y",
          "z"
         ],
         "z": [
          [
           1,
           2,
           3,
           4,
           5
          ],
          [
           10,
           20,
           30,
           20,
           10
          ],
          [
           5,
           4,
           3,
           2,
           1
          ]
         ]
        }
       ],
       "layout": {
        "legend": {
         "bgcolor": "#F5F6F9",
         "font": {
          "color": "#4D5663"
         }
        },
        "paper_bgcolor": "#F5F6F9",
        "plot_bgcolor": "#F5F6F9",
        "template": {
         "data": {
          "bar": [
           {
            "error_x": {
             "color": "#2a3f5f"
            },
            "error_y": {
             "color": "#2a3f5f"
            },
            "marker": {
             "line": {
              "color": "#E5ECF6",
              "width": 0.5
             },
             "pattern": {
              "fillmode": "overlay",
              "size": 10,
              "solidity": 0.2
             }
            },
            "type": "bar"
           }
          ],
          "barpolar": [
           {
            "marker": {
             "line": {
              "color": "#E5ECF6",
              "width": 0.5
             },
             "pattern": {
              "fillmode": "overlay",
              "size": 10,
              "solidity": 0.2
             }
            },
            "type": "barpolar"
           }
          ],
          "carpet": [
           {
            "aaxis": {
             "endlinecolor": "#2a3f5f",
             "gridcolor": "white",
             "linecolor": "white",
             "minorgridcolor": "white",
             "startlinecolor": "#2a3f5f"
            },
            "baxis": {
             "endlinecolor": "#2a3f5f",
             "gridcolor": "white",
             "linecolor": "white",
             "minorgridcolor": "white",
             "startlinecolor": "#2a3f5f"
            },
            "type": "carpet"
           }
          ],
          "choropleth": [
           {
            "colorbar": {
             "outlinewidth": 0,
             "ticks": ""
            },
            "type": "choropleth"
           }
          ],
          "contour": [
           {
            "colorbar": {
             "outlinewidth": 0,
             "ticks": ""
            },
            "colorscale": [
             [
              0,
              "#0d0887"
             ],
             [
              0.1111111111111111,
              "#46039f"
             ],
             [
              0.2222222222222222,
              "#7201a8"
             ],
             [
              0.3333333333333333,
              "#9c179e"
             ],
             [
              0.4444444444444444,
              "#bd3786"
             ],
             [
              0.5555555555555556,
              "#d8576b"
             ],
             [
              0.6666666666666666,
              "#ed7953"
             ],
             [
              0.7777777777777778,
              "#fb9f3a"
             ],
             [
              0.8888888888888888,
              "#fdca26"
             ],
             [
              1,
              "#f0f921"
             ]
            ],
            "type": "contour"
           }
          ],
          "contourcarpet": [
           {
            "colorbar": {
             "outlinewidth": 0,
             "ticks": ""
            },
            "type": "contourcarpet"
           }
          ],
          "heatmap": [
           {
            "colorbar": {
             "outlinewidth": 0,
             "ticks": ""
            },
            "colorscale": [
             [
              0,
              "#0d0887"
             ],
             [
              0.1111111111111111,
              "#46039f"
             ],
             [
              0.2222222222222222,
              "#7201a8"
             ],
             [
              0.3333333333333333,
              "#9c179e"
             ],
             [
              0.4444444444444444,
              "#bd3786"
             ],
             [
              0.5555555555555556,
              "#d8576b"
             ],
             [
              0.6666666666666666,
              "#ed7953"
             ],
             [
              0.7777777777777778,
              "#fb9f3a"
             ],
             [
              0.8888888888888888,
              "#fdca26"
             ],
             [
              1,
              "#f0f921"
             ]
            ],
            "type": "heatmap"
           }
          ],
          "heatmapgl": [
           {
            "colorbar": {
             "outlinewidth": 0,
             "ticks": ""
            },
            "colorscale": [
             [
              0,
              "#0d0887"
             ],
             [
              0.1111111111111111,
              "#46039f"
             ],
             [
              0.2222222222222222,
              "#7201a8"
             ],
             [
              0.3333333333333333,
              "#9c179e"
             ],
             [
              0.4444444444444444,
              "#bd3786"
             ],
             [
              0.5555555555555556,
              "#d8576b"
             ],
             [
              0.6666666666666666,
              "#ed7953"
             ],
             [
              0.7777777777777778,
              "#fb9f3a"
             ],
             [
              0.8888888888888888,
              "#fdca26"
             ],
             [
              1,
              "#f0f921"
             ]
            ],
            "type": "heatmapgl"
           }
          ],
          "histogram": [
           {
            "marker": {
             "pattern": {
              "fillmode": "overlay",
              "size": 10,
              "solidity": 0.2
             }
            },
            "type": "histogram"
           }
          ],
          "histogram2d": [
           {
            "colorbar": {
             "outlinewidth": 0,
             "ticks": ""
            },
            "colorscale": [
             [
              0,
              "#0d0887"
             ],
             [
              0.1111111111111111,
              "#46039f"
             ],
             [
              0.2222222222222222,
              "#7201a8"
             ],
             [
              0.3333333333333333,
              "#9c179e"
             ],
             [
              0.4444444444444444,
              "#bd3786"
             ],
             [
              0.5555555555555556,
              "#d8576b"
             ],
             [
              0.6666666666666666,
              "#ed7953"
             ],
             [
              0.7777777777777778,
              "#fb9f3a"
             ],
             [
              0.8888888888888888,
              "#fdca26"
             ],
             [
              1,
              "#f0f921"
             ]
            ],
            "type": "histogram2d"
           }
          ],
          "histogram2dcontour": [
           {
            "colorbar": {
             "outlinewidth": 0,
             "ticks": ""
            },
            "colorscale": [
             [
              0,
              "#0d0887"
             ],
             [
              0.1111111111111111,
              "#46039f"
             ],
             [
              0.2222222222222222,
              "#7201a8"
             ],
             [
              0.3333333333333333,
              "#9c179e"
             ],
             [
              0.4444444444444444,
              "#bd3786"
             ],
             [
              0.5555555555555556,
              "#d8576b"
             ],
             [
              0.6666666666666666,
              "#ed7953"
             ],
             [
              0.7777777777777778,
              "#fb9f3a"
             ],
             [
              0.8888888888888888,
              "#fdca26"
             ],
             [
              1,
              "#f0f921"
             ]
            ],
            "type": "histogram2dcontour"
           }
          ],
          "mesh3d": [
           {
            "colorbar": {
             "outlinewidth": 0,
             "ticks": ""
            },
            "type": "mesh3d"
           }
          ],
          "parcoords": [
           {
            "line": {
             "colorbar": {
              "outlinewidth": 0,
              "ticks": ""
             }
            },
            "type": "parcoords"
           }
          ],
          "pie": [
           {
            "automargin": true,
            "type": "pie"
           }
          ],
          "scatter": [
           {
            "marker": {
             "colorbar": {
              "outlinewidth": 0,
              "ticks": ""
             }
            },
            "type": "scatter"
           }
          ],
          "scatter3d": [
           {
            "line": {
             "colorbar": {
              "outlinewidth": 0,
              "ticks": ""
             }
            },
            "marker": {
             "colorbar": {
              "outlinewidth": 0,
              "ticks": ""
             }
            },
            "type": "scatter3d"
           }
          ],
          "scattercarpet": [
           {
            "marker": {
             "colorbar": {
              "outlinewidth": 0,
              "ticks": ""
             }
            },
            "type": "scattercarpet"
           }
          ],
          "scattergeo": [
           {
            "marker": {
             "colorbar": {
              "outlinewidth": 0,
              "ticks": ""
             }
            },
            "type": "scattergeo"
           }
          ],
          "scattergl": [
           {
            "marker": {
             "colorbar": {
              "outlinewidth": 0,
              "ticks": ""
             }
            },
            "type": "scattergl"
           }
          ],
          "scattermapbox": [
           {
            "marker": {
             "colorbar": {
              "outlinewidth": 0,
              "ticks": ""
             }
            },
            "type": "scattermapbox"
           }
          ],
          "scatterpolar": [
           {
            "marker": {
             "colorbar": {
              "outlinewidth": 0,
              "ticks": ""
             }
            },
            "type": "scatterpolar"
           }
          ],
          "scatterpolargl": [
           {
            "marker": {
             "colorbar": {
              "outlinewidth": 0,
              "ticks": ""
             }
            },
            "type": "scatterpolargl"
           }
          ],
          "scatterternary": [
           {
            "marker": {
             "colorbar": {
              "outlinewidth": 0,
              "ticks": ""
             }
            },
            "type": "scatterternary"
           }
          ],
          "surface": [
           {
            "colorbar": {
             "outlinewidth": 0,
             "ticks": ""
            },
            "colorscale": [
             [
              0,
              "#0d0887"
             ],
             [
              0.1111111111111111,
              "#46039f"
             ],
             [
              0.2222222222222222,
              "#7201a8"
             ],
             [
              0.3333333333333333,
              "#9c179e"
             ],
             [
              0.4444444444444444,
              "#bd3786"
             ],
             [
              0.5555555555555556,
              "#d8576b"
             ],
             [
              0.6666666666666666,
              "#ed7953"
             ],
             [
              0.7777777777777778,
              "#fb9f3a"
             ],
             [
              0.8888888888888888,
              "#fdca26"
             ],
             [
              1,
              "#f0f921"
             ]
            ],
            "type": "surface"
           }
          ],
          "table": [
           {
            "cells": {
             "fill": {
              "color": "#EBF0F8"
             },
             "line": {
              "color": "white"
             }
            },
            "header": {
             "fill": {
              "color": "#C8D4E3"
             },
             "line": {
              "color": "white"
             }
            },
            "type": "table"
           }
          ]
         },
         "layout": {
          "annotationdefaults": {
           "arrowcolor": "#2a3f5f",
           "arrowhead": 0,
           "arrowwidth": 1
          },
          "autotypenumbers": "strict",
          "coloraxis": {
           "colorbar": {
            "outlinewidth": 0,
            "ticks": ""
           }
          },
          "colorscale": {
           "diverging": [
            [
             0,
             "#8e0152"
            ],
            [
             0.1,
             "#c51b7d"
            ],
            [
             0.2,
             "#de77ae"
            ],
            [
             0.3,
             "#f1b6da"
            ],
            [
             0.4,
             "#fde0ef"
            ],
            [
             0.5,
             "#f7f7f7"
            ],
            [
             0.6,
             "#e6f5d0"
            ],
            [
             0.7,
             "#b8e186"
            ],
            [
             0.8,
             "#7fbc41"
            ],
            [
             0.9,
             "#4d9221"
            ],
            [
             1,
             "#276419"
            ]
           ],
           "sequential": [
            [
             0,
             "#0d0887"
            ],
            [
             0.1111111111111111,
             "#46039f"
            ],
            [
             0.2222222222222222,
             "#7201a8"
            ],
            [
             0.3333333333333333,
             "#9c179e"
            ],
            [
             0.4444444444444444,
             "#bd3786"
            ],
            [
             0.5555555555555556,
             "#d8576b"
            ],
            [
             0.6666666666666666,
             "#ed7953"
            ],
            [
             0.7777777777777778,
             "#fb9f3a"
            ],
            [
             0.8888888888888888,
             "#fdca26"
            ],
            [
             1,
             "#f0f921"
            ]
           ],
           "sequentialminus": [
            [
             0,
             "#0d0887"
            ],
            [
             0.1111111111111111,
             "#46039f"
            ],
            [
             0.2222222222222222,
             "#7201a8"
            ],
            [
             0.3333333333333333,
             "#9c179e"
            ],
            [
             0.4444444444444444,
             "#bd3786"
            ],
            [
             0.5555555555555556,
             "#d8576b"
            ],
            [
             0.6666666666666666,
             "#ed7953"
            ],
            [
             0.7777777777777778,
             "#fb9f3a"
            ],
            [
             0.8888888888888888,
             "#fdca26"
            ],
            [
             1,
             "#f0f921"
            ]
           ]
          },
          "colorway": [
           "#636efa",
           "#EF553B",
           "#00cc96",
           "#ab63fa",
           "#FFA15A",
           "#19d3f3",
           "#FF6692",
           "#B6E880",
           "#FF97FF",
           "#FECB52"
          ],
          "font": {
           "color": "#2a3f5f"
          },
          "geo": {
           "bgcolor": "white",
           "lakecolor": "white",
           "landcolor": "#E5ECF6",
           "showlakes": true,
           "showland": true,
           "subunitcolor": "white"
          },
          "hoverlabel": {
           "align": "left"
          },
          "hovermode": "closest",
          "mapbox": {
           "style": "light"
          },
          "paper_bgcolor": "white",
          "plot_bgcolor": "#E5ECF6",
          "polar": {
           "angularaxis": {
            "gridcolor": "white",
            "linecolor": "white",
            "ticks": ""
           },
           "bgcolor": "#E5ECF6",
           "radialaxis": {
            "gridcolor": "white",
            "linecolor": "white",
            "ticks": ""
           }
          },
          "scene": {
           "xaxis": {
            "backgroundcolor": "#E5ECF6",
            "gridcolor": "white",
            "gridwidth": 2,
            "linecolor": "white",
            "showbackground": true,
            "ticks": "",
            "zerolinecolor": "white"
           },
           "yaxis": {
            "backgroundcolor": "#E5ECF6",
            "gridcolor": "white",
            "gridwidth": 2,
            "linecolor": "white",
            "showbackground": true,
            "ticks": "",
            "zerolinecolor": "white"
           },
           "zaxis": {
            "backgroundcolor": "#E5ECF6",
            "gridcolor": "white",
            "gridwidth": 2,
            "linecolor": "white",
            "showbackground": true,
            "ticks": "",
            "zerolinecolor": "white"
           }
          },
          "shapedefaults": {
           "line": {
            "color": "#2a3f5f"
           }
          },
          "ternary": {
           "aaxis": {
            "gridcolor": "white",
            "linecolor": "white",
            "ticks": ""
           },
           "baxis": {
            "gridcolor": "white",
            "linecolor": "white",
            "ticks": ""
           },
           "bgcolor": "#E5ECF6",
           "caxis": {
            "gridcolor": "white",
            "linecolor": "white",
            "ticks": ""
           }
          },
          "title": {
           "x": 0.05
          },
          "xaxis": {
           "automargin": true,
           "gridcolor": "white",
           "linecolor": "white",
           "ticks": "",
           "title": {
            "standoff": 15
           },
           "zerolinecolor": "white",
           "zerolinewidth": 2
          },
          "yaxis": {
           "automargin": true,
           "gridcolor": "white",
           "linecolor": "white",
           "ticks": "",
           "title": {
            "standoff": 15
           },
           "zerolinecolor": "white",
           "zerolinewidth": 2
          }
         }
        },
        "title": {
         "font": {
          "color": "#4D5663"
         }
        },
        "xaxis": {
         "gridcolor": "#E1E5ED",
         "showgrid": true,
         "tickfont": {
          "color": "#4D5663"
         },
         "title": {
          "font": {
           "color": "#4D5663"
          },
          "text": ""
         },
         "zerolinecolor": "#E1E5ED"
        },
        "yaxis": {
         "gridcolor": "#E1E5ED",
         "showgrid": true,
         "tickfont": {
          "color": "#4D5663"
         },
         "title": {
          "font": {
           "color": "#4D5663"
          },
          "text": ""
         },
         "zerolinecolor": "#E1E5ED"
        }
       }
      },
      "text/html": [
       "<div>                            <div id=\"35713523-0585-4703-984c-b14d225ca8f7\" class=\"plotly-graph-div\" style=\"height:525px; width:100%;\"></div>            <script type=\"text/javascript\">                require([\"plotly\"], function(Plotly) {                    window.PLOTLYENV=window.PLOTLYENV || {};\n",
       "                    window.PLOTLYENV.BASE_URL='https://plot.ly';                                    if (document.getElementById(\"35713523-0585-4703-984c-b14d225ca8f7\")) {                    Plotly.newPlot(                        \"35713523-0585-4703-984c-b14d225ca8f7\",                        [{\"colorscale\":[[0.0,\"rgb(165,0,38)\"],[0.1,\"rgb(215,48,39)\"],[0.2,\"rgb(244,109,67)\"],[0.3,\"rgb(253,174,97)\"],[0.4,\"rgb(254,224,144)\"],[0.5,\"rgb(255,255,191)\"],[0.6,\"rgb(224,243,248)\"],[0.7,\"rgb(171,217,233)\"],[0.8,\"rgb(116,173,209)\"],[0.9,\"rgb(69,117,180)\"],[1.0,\"rgb(49,54,149)\"]],\"x\":[0,1,2,3,4],\"y\":[\"x\",\"y\",\"z\"],\"z\":[[1,2,3,4,5],[10,20,30,20,10],[5,4,3,2,1]],\"type\":\"surface\"}],                        {\"legend\":{\"bgcolor\":\"#F5F6F9\",\"font\":{\"color\":\"#4D5663\"}},\"paper_bgcolor\":\"#F5F6F9\",\"plot_bgcolor\":\"#F5F6F9\",\"template\":{\"data\":{\"barpolar\":[{\"marker\":{\"line\":{\"color\":\"#E5ECF6\",\"width\":0.5},\"pattern\":{\"fillmode\":\"overlay\",\"size\":10,\"solidity\":0.2}},\"type\":\"barpolar\"}],\"bar\":[{\"error_x\":{\"color\":\"#2a3f5f\"},\"error_y\":{\"color\":\"#2a3f5f\"},\"marker\":{\"line\":{\"color\":\"#E5ECF6\",\"width\":0.5},\"pattern\":{\"fillmode\":\"overlay\",\"size\":10,\"solidity\":0.2}},\"type\":\"bar\"}],\"carpet\":[{\"aaxis\":{\"endlinecolor\":\"#2a3f5f\",\"gridcolor\":\"white\",\"linecolor\":\"white\",\"minorgridcolor\":\"white\",\"startlinecolor\":\"#2a3f5f\"},\"baxis\":{\"endlinecolor\":\"#2a3f5f\",\"gridcolor\":\"white\",\"linecolor\":\"white\",\"minorgridcolor\":\"white\",\"startlinecolor\":\"#2a3f5f\"},\"type\":\"carpet\"}],\"choropleth\":[{\"colorbar\":{\"outlinewidth\":0,\"ticks\":\"\"},\"type\":\"choropleth\"}],\"contourcarpet\":[{\"colorbar\":{\"outlinewidth\":0,\"ticks\":\"\"},\"type\":\"contourcarpet\"}],\"contour\":[{\"colorbar\":{\"outlinewidth\":0,\"ticks\":\"\"},\"colorscale\":[[0.0,\"#0d0887\"],[0.1111111111111111,\"#46039f\"],[0.2222222222222222,\"#7201a8\"],[0.3333333333333333,\"#9c179e\"],[0.4444444444444444,\"#bd3786\"],[0.5555555555555556,\"#d8576b\"],[0.6666666666666666,\"#ed7953\"],[0.7777777777777778,\"#fb9f3a\"],[0.8888888888888888,\"#fdca26\"],[1.0,\"#f0f921\"]],\"type\":\"contour\"}],\"heatmapgl\":[{\"colorbar\":{\"outlinewidth\":0,\"ticks\":\"\"},\"colorscale\":[[0.0,\"#0d0887\"],[0.1111111111111111,\"#46039f\"],[0.2222222222222222,\"#7201a8\"],[0.3333333333333333,\"#9c179e\"],[0.4444444444444444,\"#bd3786\"],[0.5555555555555556,\"#d8576b\"],[0.6666666666666666,\"#ed7953\"],[0.7777777777777778,\"#fb9f3a\"],[0.8888888888888888,\"#fdca26\"],[1.0,\"#f0f921\"]],\"type\":\"heatmapgl\"}],\"heatmap\":[{\"colorbar\":{\"outlinewidth\":0,\"ticks\":\"\"},\"colorscale\":[[0.0,\"#0d0887\"],[0.1111111111111111,\"#46039f\"],[0.2222222222222222,\"#7201a8\"],[0.3333333333333333,\"#9c179e\"],[0.4444444444444444,\"#bd3786\"],[0.5555555555555556,\"#d8576b\"],[0.6666666666666666,\"#ed7953\"],[0.7777777777777778,\"#fb9f3a\"],[0.8888888888888888,\"#fdca26\"],[1.0,\"#f0f921\"]],\"type\":\"heatmap\"}],\"histogram2dcontour\":[{\"colorbar\":{\"outlinewidth\":0,\"ticks\":\"\"},\"colorscale\":[[0.0,\"#0d0887\"],[0.1111111111111111,\"#46039f\"],[0.2222222222222222,\"#7201a8\"],[0.3333333333333333,\"#9c179e\"],[0.4444444444444444,\"#bd3786\"],[0.5555555555555556,\"#d8576b\"],[0.6666666666666666,\"#ed7953\"],[0.7777777777777778,\"#fb9f3a\"],[0.8888888888888888,\"#fdca26\"],[1.0,\"#f0f921\"]],\"type\":\"histogram2dcontour\"}],\"histogram2d\":[{\"colorbar\":{\"outlinewidth\":0,\"ticks\":\"\"},\"colorscale\":[[0.0,\"#0d0887\"],[0.1111111111111111,\"#46039f\"],[0.2222222222222222,\"#7201a8\"],[0.3333333333333333,\"#9c179e\"],[0.4444444444444444,\"#bd3786\"],[0.5555555555555556,\"#d8576b\"],[0.6666666666666666,\"#ed7953\"],[0.7777777777777778,\"#fb9f3a\"],[0.8888888888888888,\"#fdca26\"],[1.0,\"#f0f921\"]],\"type\":\"histogram2d\"}],\"histogram\":[{\"marker\":{\"pattern\":{\"fillmode\":\"overlay\",\"size\":10,\"solidity\":0.2}},\"type\":\"histogram\"}],\"mesh3d\":[{\"colorbar\":{\"outlinewidth\":0,\"ticks\":\"\"},\"type\":\"mesh3d\"}],\"parcoords\":[{\"line\":{\"colorbar\":{\"outlinewidth\":0,\"ticks\":\"\"}},\"type\":\"parcoords\"}],\"pie\":[{\"automargin\":true,\"type\":\"pie\"}],\"scatter3d\":[{\"line\":{\"colorbar\":{\"outlinewidth\":0,\"ticks\":\"\"}},\"marker\":{\"colorbar\":{\"outlinewidth\":0,\"ticks\":\"\"}},\"type\":\"scatter3d\"}],\"scattercarpet\":[{\"marker\":{\"colorbar\":{\"outlinewidth\":0,\"ticks\":\"\"}},\"type\":\"scattercarpet\"}],\"scattergeo\":[{\"marker\":{\"colorbar\":{\"outlinewidth\":0,\"ticks\":\"\"}},\"type\":\"scattergeo\"}],\"scattergl\":[{\"marker\":{\"colorbar\":{\"outlinewidth\":0,\"ticks\":\"\"}},\"type\":\"scattergl\"}],\"scattermapbox\":[{\"marker\":{\"colorbar\":{\"outlinewidth\":0,\"ticks\":\"\"}},\"type\":\"scattermapbox\"}],\"scatterpolargl\":[{\"marker\":{\"colorbar\":{\"outlinewidth\":0,\"ticks\":\"\"}},\"type\":\"scatterpolargl\"}],\"scatterpolar\":[{\"marker\":{\"colorbar\":{\"outlinewidth\":0,\"ticks\":\"\"}},\"type\":\"scatterpolar\"}],\"scatter\":[{\"marker\":{\"colorbar\":{\"outlinewidth\":0,\"ticks\":\"\"}},\"type\":\"scatter\"}],\"scatterternary\":[{\"marker\":{\"colorbar\":{\"outlinewidth\":0,\"ticks\":\"\"}},\"type\":\"scatterternary\"}],\"surface\":[{\"colorbar\":{\"outlinewidth\":0,\"ticks\":\"\"},\"colorscale\":[[0.0,\"#0d0887\"],[0.1111111111111111,\"#46039f\"],[0.2222222222222222,\"#7201a8\"],[0.3333333333333333,\"#9c179e\"],[0.4444444444444444,\"#bd3786\"],[0.5555555555555556,\"#d8576b\"],[0.6666666666666666,\"#ed7953\"],[0.7777777777777778,\"#fb9f3a\"],[0.8888888888888888,\"#fdca26\"],[1.0,\"#f0f921\"]],\"type\":\"surface\"}],\"table\":[{\"cells\":{\"fill\":{\"color\":\"#EBF0F8\"},\"line\":{\"color\":\"white\"}},\"header\":{\"fill\":{\"color\":\"#C8D4E3\"},\"line\":{\"color\":\"white\"}},\"type\":\"table\"}]},\"layout\":{\"annotationdefaults\":{\"arrowcolor\":\"#2a3f5f\",\"arrowhead\":0,\"arrowwidth\":1},\"autotypenumbers\":\"strict\",\"coloraxis\":{\"colorbar\":{\"outlinewidth\":0,\"ticks\":\"\"}},\"colorscale\":{\"diverging\":[[0,\"#8e0152\"],[0.1,\"#c51b7d\"],[0.2,\"#de77ae\"],[0.3,\"#f1b6da\"],[0.4,\"#fde0ef\"],[0.5,\"#f7f7f7\"],[0.6,\"#e6f5d0\"],[0.7,\"#b8e186\"],[0.8,\"#7fbc41\"],[0.9,\"#4d9221\"],[1,\"#276419\"]],\"sequential\":[[0.0,\"#0d0887\"],[0.1111111111111111,\"#46039f\"],[0.2222222222222222,\"#7201a8\"],[0.3333333333333333,\"#9c179e\"],[0.4444444444444444,\"#bd3786\"],[0.5555555555555556,\"#d8576b\"],[0.6666666666666666,\"#ed7953\"],[0.7777777777777778,\"#fb9f3a\"],[0.8888888888888888,\"#fdca26\"],[1.0,\"#f0f921\"]],\"sequentialminus\":[[0.0,\"#0d0887\"],[0.1111111111111111,\"#46039f\"],[0.2222222222222222,\"#7201a8\"],[0.3333333333333333,\"#9c179e\"],[0.4444444444444444,\"#bd3786\"],[0.5555555555555556,\"#d8576b\"],[0.6666666666666666,\"#ed7953\"],[0.7777777777777778,\"#fb9f3a\"],[0.8888888888888888,\"#fdca26\"],[1.0,\"#f0f921\"]]},\"colorway\":[\"#636efa\",\"#EF553B\",\"#00cc96\",\"#ab63fa\",\"#FFA15A\",\"#19d3f3\",\"#FF6692\",\"#B6E880\",\"#FF97FF\",\"#FECB52\"],\"font\":{\"color\":\"#2a3f5f\"},\"geo\":{\"bgcolor\":\"white\",\"lakecolor\":\"white\",\"landcolor\":\"#E5ECF6\",\"showlakes\":true,\"showland\":true,\"subunitcolor\":\"white\"},\"hoverlabel\":{\"align\":\"left\"},\"hovermode\":\"closest\",\"mapbox\":{\"style\":\"light\"},\"paper_bgcolor\":\"white\",\"plot_bgcolor\":\"#E5ECF6\",\"polar\":{\"angularaxis\":{\"gridcolor\":\"white\",\"linecolor\":\"white\",\"ticks\":\"\"},\"bgcolor\":\"#E5ECF6\",\"radialaxis\":{\"gridcolor\":\"white\",\"linecolor\":\"white\",\"ticks\":\"\"}},\"scene\":{\"xaxis\":{\"backgroundcolor\":\"#E5ECF6\",\"gridcolor\":\"white\",\"gridwidth\":2,\"linecolor\":\"white\",\"showbackground\":true,\"ticks\":\"\",\"zerolinecolor\":\"white\"},\"yaxis\":{\"backgroundcolor\":\"#E5ECF6\",\"gridcolor\":\"white\",\"gridwidth\":2,\"linecolor\":\"white\",\"showbackground\":true,\"ticks\":\"\",\"zerolinecolor\":\"white\"},\"zaxis\":{\"backgroundcolor\":\"#E5ECF6\",\"gridcolor\":\"white\",\"gridwidth\":2,\"linecolor\":\"white\",\"showbackground\":true,\"ticks\":\"\",\"zerolinecolor\":\"white\"}},\"shapedefaults\":{\"line\":{\"color\":\"#2a3f5f\"}},\"ternary\":{\"aaxis\":{\"gridcolor\":\"white\",\"linecolor\":\"white\",\"ticks\":\"\"},\"baxis\":{\"gridcolor\":\"white\",\"linecolor\":\"white\",\"ticks\":\"\"},\"bgcolor\":\"#E5ECF6\",\"caxis\":{\"gridcolor\":\"white\",\"linecolor\":\"white\",\"ticks\":\"\"}},\"title\":{\"x\":0.05},\"xaxis\":{\"automargin\":true,\"gridcolor\":\"white\",\"linecolor\":\"white\",\"ticks\":\"\",\"title\":{\"standoff\":15},\"zerolinecolor\":\"white\",\"zerolinewidth\":2},\"yaxis\":{\"automargin\":true,\"gridcolor\":\"white\",\"linecolor\":\"white\",\"ticks\":\"\",\"title\":{\"standoff\":15},\"zerolinecolor\":\"white\",\"zerolinewidth\":2}}},\"title\":{\"font\":{\"color\":\"#4D5663\"}},\"xaxis\":{\"gridcolor\":\"#E1E5ED\",\"showgrid\":true,\"tickfont\":{\"color\":\"#4D5663\"},\"title\":{\"font\":{\"color\":\"#4D5663\"},\"text\":\"\"},\"zerolinecolor\":\"#E1E5ED\"},\"yaxis\":{\"gridcolor\":\"#E1E5ED\",\"showgrid\":true,\"tickfont\":{\"color\":\"#4D5663\"},\"title\":{\"font\":{\"color\":\"#4D5663\"},\"text\":\"\"},\"zerolinecolor\":\"#E1E5ED\"}},                        {\"showLink\": true, \"linkText\": \"Export to plot.ly\", \"plotlyServerURL\": \"https://plot.ly\", \"responsive\": true}                    ).then(function(){\n",
       "                            \n",
       "var gd = document.getElementById('35713523-0585-4703-984c-b14d225ca8f7');\n",
       "var x = new MutationObserver(function (mutations, observer) {{\n",
       "        var display = window.getComputedStyle(gd).display;\n",
       "        if (!display || display === 'none') {{\n",
       "            console.log([gd, 'removed!']);\n",
       "            Plotly.purge(gd);\n",
       "            observer.disconnect();\n",
       "        }}\n",
       "}});\n",
       "\n",
       "// Listen for the removal of the full notebook cells\n",
       "var notebookContainer = gd.closest('#notebook-container');\n",
       "if (notebookContainer) {{\n",
       "    x.observe(notebookContainer, {childList: true});\n",
       "}}\n",
       "\n",
       "// Listen for the clearing of the current output cell\n",
       "var outputEl = gd.closest('.output');\n",
       "if (outputEl) {{\n",
       "    x.observe(outputEl, {childList: true});\n",
       "}}\n",
       "\n",
       "                        })                };                });            </script>        </div>"
      ]
     },
     "metadata": {},
     "output_type": "display_data"
    }
   ],
   "source": [
    "df4 = pd.DataFrame({\n",
    "    'x' : [1, 2, 3, 4, 5], \n",
    "    'y' : [10, 20, 30, 20, 10], \n",
    "    'z' : [5, 4, 3, 2, 1]\n",
    "    })\n",
    "\n",
    "df4.iplot(kind = 'surface', colorscale = 'rdylbu')"
   ]
  },
  {
   "cell_type": "markdown",
   "metadata": {},
   "source": [
    "#### Histogram"
   ]
  },
  {
   "cell_type": "code",
   "execution_count": 38,
   "metadata": {},
   "outputs": [
    {
     "data": {
      "application/vnd.plotly.v1+json": {
       "config": {
        "linkText": "Export to plot.ly",
        "plotlyServerURL": "https://plot.ly",
        "showLink": true
       },
       "data": [
        {
         "histfunc": "count",
         "histnorm": "",
         "marker": {
          "color": "rgba(255, 153, 51, 1.0)",
          "line": {
           "color": "#4D5663",
           "width": 1.3
          }
         },
         "name": "A",
         "nbinsx": 25,
         "opacity": 0.8,
         "orientation": "v",
         "type": "histogram",
         "x": [
          -0.19028147001615417,
          0.3282365234795369,
          1.1399229516160017,
          -1.5285412750999146,
          -0.24886967751150038,
          0.2516245509136745,
          1.0322355236009921,
          0.11599439899823132,
          -0.08552299190870857,
          -0.392599667290996,
          1.0483873911059238,
          -1.3672086527525584,
          -1.2953691663834808,
          -0.37398870480107765,
          0.16094578705735657,
          0.698636684971462,
          1.5186664839892636,
          -0.3023573194571271,
          0.16832675647100329,
          0.19054539363793585,
          -0.05607139243232748,
          2.49434793378773,
          -0.530066327400534,
          0.8770350482674139,
          0.813057708391379,
          0.29820305701467675,
          0.4091606649710951,
          -0.07901188676813516,
          -0.32164633372494433,
          0.9816522229170433,
          0.6776451608653729,
          -0.8353341427637865,
          1.4655636349628942,
          2.00973210510375,
          0.34269433539070104,
          0.6002392765015414,
          0.7117390891406551,
          1.0592117801719485,
          0.7228041981165503,
          -0.8736465721312067,
          0.5676459790026085,
          0.3946690709293932,
          1.1159103925968208,
          -1.3623917634657412,
          0.6708499442787056,
          2.7667695870284845,
          0.7208184734528509,
          -0.5012612586998206,
          -1.1208824336937548,
          0.08310983627321097,
          1.4675574284440516,
          1.2532790994123408,
          0.007306638487820633,
          -0.8858137066431648,
          0.6242810094285595,
          -1.204652301395593,
          -1.1592080495946446,
          -0.8345983358790608,
          -0.7876304667169377,
          0.2226800879806531,
          0.4415686839563639,
          -0.269932602749613,
          -1.203764434204222,
          0.2411069726838896,
          -0.09951908368939481,
          -1.2286268384318006,
          0.9640396290879625,
          2.533865804668992,
          0.6363573751229564,
          0.6472031726814976,
          0.3660259455013826,
          0.9127612805233639,
          0.17883708005765753,
          -0.7077382719243921,
          -0.30885550649166293,
          1.327815639824272,
          -1.0254221405341721,
          -0.9383686643953827,
          -0.09071737066338419,
          0.6334847841474687,
          0.3071825571559436,
          -0.4857262165088668,
          -0.016132326632023995,
          0.5396152536884207,
          1.2850769796729489,
          -0.09184295300134171,
          0.6230902035502993,
          -0.28510111886218,
          0.963559438496964,
          1.7301036427052279,
          -0.23999086747889203,
          -0.6634015983510081,
          0.3389483473977393,
          1.3015088526277432,
          0.2801083119723154,
          -1.0717367219346814,
          0.6430291779034134,
          1.0587542570407236,
          -1.8666690899056997,
          0.19629610393134483
         ]
        }
       ],
       "layout": {
        "barmode": "overlay",
        "legend": {
         "bgcolor": "#F5F6F9",
         "font": {
          "color": "#4D5663"
         }
        },
        "paper_bgcolor": "#F5F6F9",
        "plot_bgcolor": "#F5F6F9",
        "template": {
         "data": {
          "bar": [
           {
            "error_x": {
             "color": "#2a3f5f"
            },
            "error_y": {
             "color": "#2a3f5f"
            },
            "marker": {
             "line": {
              "color": "#E5ECF6",
              "width": 0.5
             },
             "pattern": {
              "fillmode": "overlay",
              "size": 10,
              "solidity": 0.2
             }
            },
            "type": "bar"
           }
          ],
          "barpolar": [
           {
            "marker": {
             "line": {
              "color": "#E5ECF6",
              "width": 0.5
             },
             "pattern": {
              "fillmode": "overlay",
              "size": 10,
              "solidity": 0.2
             }
            },
            "type": "barpolar"
           }
          ],
          "carpet": [
           {
            "aaxis": {
             "endlinecolor": "#2a3f5f",
             "gridcolor": "white",
             "linecolor": "white",
             "minorgridcolor": "white",
             "startlinecolor": "#2a3f5f"
            },
            "baxis": {
             "endlinecolor": "#2a3f5f",
             "gridcolor": "white",
             "linecolor": "white",
             "minorgridcolor": "white",
             "startlinecolor": "#2a3f5f"
            },
            "type": "carpet"
           }
          ],
          "choropleth": [
           {
            "colorbar": {
             "outlinewidth": 0,
             "ticks": ""
            },
            "type": "choropleth"
           }
          ],
          "contour": [
           {
            "colorbar": {
             "outlinewidth": 0,
             "ticks": ""
            },
            "colorscale": [
             [
              0,
              "#0d0887"
             ],
             [
              0.1111111111111111,
              "#46039f"
             ],
             [
              0.2222222222222222,
              "#7201a8"
             ],
             [
              0.3333333333333333,
              "#9c179e"
             ],
             [
              0.4444444444444444,
              "#bd3786"
             ],
             [
              0.5555555555555556,
              "#d8576b"
             ],
             [
              0.6666666666666666,
              "#ed7953"
             ],
             [
              0.7777777777777778,
              "#fb9f3a"
             ],
             [
              0.8888888888888888,
              "#fdca26"
             ],
             [
              1,
              "#f0f921"
             ]
            ],
            "type": "contour"
           }
          ],
          "contourcarpet": [
           {
            "colorbar": {
             "outlinewidth": 0,
             "ticks": ""
            },
            "type": "contourcarpet"
           }
          ],
          "heatmap": [
           {
            "colorbar": {
             "outlinewidth": 0,
             "ticks": ""
            },
            "colorscale": [
             [
              0,
              "#0d0887"
             ],
             [
              0.1111111111111111,
              "#46039f"
             ],
             [
              0.2222222222222222,
              "#7201a8"
             ],
             [
              0.3333333333333333,
              "#9c179e"
             ],
             [
              0.4444444444444444,
              "#bd3786"
             ],
             [
              0.5555555555555556,
              "#d8576b"
             ],
             [
              0.6666666666666666,
              "#ed7953"
             ],
             [
              0.7777777777777778,
              "#fb9f3a"
             ],
             [
              0.8888888888888888,
              "#fdca26"
             ],
             [
              1,
              "#f0f921"
             ]
            ],
            "type": "heatmap"
           }
          ],
          "heatmapgl": [
           {
            "colorbar": {
             "outlinewidth": 0,
             "ticks": ""
            },
            "colorscale": [
             [
              0,
              "#0d0887"
             ],
             [
              0.1111111111111111,
              "#46039f"
             ],
             [
              0.2222222222222222,
              "#7201a8"
             ],
             [
              0.3333333333333333,
              "#9c179e"
             ],
             [
              0.4444444444444444,
              "#bd3786"
             ],
             [
              0.5555555555555556,
              "#d8576b"
             ],
             [
              0.6666666666666666,
              "#ed7953"
             ],
             [
              0.7777777777777778,
              "#fb9f3a"
             ],
             [
              0.8888888888888888,
              "#fdca26"
             ],
             [
              1,
              "#f0f921"
             ]
            ],
            "type": "heatmapgl"
           }
          ],
          "histogram": [
           {
            "marker": {
             "pattern": {
              "fillmode": "overlay",
              "size": 10,
              "solidity": 0.2
             }
            },
            "type": "histogram"
           }
          ],
          "histogram2d": [
           {
            "colorbar": {
             "outlinewidth": 0,
             "ticks": ""
            },
            "colorscale": [
             [
              0,
              "#0d0887"
             ],
             [
              0.1111111111111111,
              "#46039f"
             ],
             [
              0.2222222222222222,
              "#7201a8"
             ],
             [
              0.3333333333333333,
              "#9c179e"
             ],
             [
              0.4444444444444444,
              "#bd3786"
             ],
             [
              0.5555555555555556,
              "#d8576b"
             ],
             [
              0.6666666666666666,
              "#ed7953"
             ],
             [
              0.7777777777777778,
              "#fb9f3a"
             ],
             [
              0.8888888888888888,
              "#fdca26"
             ],
             [
              1,
              "#f0f921"
             ]
            ],
            "type": "histogram2d"
           }
          ],
          "histogram2dcontour": [
           {
            "colorbar": {
             "outlinewidth": 0,
             "ticks": ""
            },
            "colorscale": [
             [
              0,
              "#0d0887"
             ],
             [
              0.1111111111111111,
              "#46039f"
             ],
             [
              0.2222222222222222,
              "#7201a8"
             ],
             [
              0.3333333333333333,
              "#9c179e"
             ],
             [
              0.4444444444444444,
              "#bd3786"
             ],
             [
              0.5555555555555556,
              "#d8576b"
             ],
             [
              0.6666666666666666,
              "#ed7953"
             ],
             [
              0.7777777777777778,
              "#fb9f3a"
             ],
             [
              0.8888888888888888,
              "#fdca26"
             ],
             [
              1,
              "#f0f921"
             ]
            ],
            "type": "histogram2dcontour"
           }
          ],
          "mesh3d": [
           {
            "colorbar": {
             "outlinewidth": 0,
             "ticks": ""
            },
            "type": "mesh3d"
           }
          ],
          "parcoords": [
           {
            "line": {
             "colorbar": {
              "outlinewidth": 0,
              "ticks": ""
             }
            },
            "type": "parcoords"
           }
          ],
          "pie": [
           {
            "automargin": true,
            "type": "pie"
           }
          ],
          "scatter": [
           {
            "marker": {
             "colorbar": {
              "outlinewidth": 0,
              "ticks": ""
             }
            },
            "type": "scatter"
           }
          ],
          "scatter3d": [
           {
            "line": {
             "colorbar": {
              "outlinewidth": 0,
              "ticks": ""
             }
            },
            "marker": {
             "colorbar": {
              "outlinewidth": 0,
              "ticks": ""
             }
            },
            "type": "scatter3d"
           }
          ],
          "scattercarpet": [
           {
            "marker": {
             "colorbar": {
              "outlinewidth": 0,
              "ticks": ""
             }
            },
            "type": "scattercarpet"
           }
          ],
          "scattergeo": [
           {
            "marker": {
             "colorbar": {
              "outlinewidth": 0,
              "ticks": ""
             }
            },
            "type": "scattergeo"
           }
          ],
          "scattergl": [
           {
            "marker": {
             "colorbar": {
              "outlinewidth": 0,
              "ticks": ""
             }
            },
            "type": "scattergl"
           }
          ],
          "scattermapbox": [
           {
            "marker": {
             "colorbar": {
              "outlinewidth": 0,
              "ticks": ""
             }
            },
            "type": "scattermapbox"
           }
          ],
          "scatterpolar": [
           {
            "marker": {
             "colorbar": {
              "outlinewidth": 0,
              "ticks": ""
             }
            },
            "type": "scatterpolar"
           }
          ],
          "scatterpolargl": [
           {
            "marker": {
             "colorbar": {
              "outlinewidth": 0,
              "ticks": ""
             }
            },
            "type": "scatterpolargl"
           }
          ],
          "scatterternary": [
           {
            "marker": {
             "colorbar": {
              "outlinewidth": 0,
              "ticks": ""
             }
            },
            "type": "scatterternary"
           }
          ],
          "surface": [
           {
            "colorbar": {
             "outlinewidth": 0,
             "ticks": ""
            },
            "colorscale": [
             [
              0,
              "#0d0887"
             ],
             [
              0.1111111111111111,
              "#46039f"
             ],
             [
              0.2222222222222222,
              "#7201a8"
             ],
             [
              0.3333333333333333,
              "#9c179e"
             ],
             [
              0.4444444444444444,
              "#bd3786"
             ],
             [
              0.5555555555555556,
              "#d8576b"
             ],
             [
              0.6666666666666666,
              "#ed7953"
             ],
             [
              0.7777777777777778,
              "#fb9f3a"
             ],
             [
              0.8888888888888888,
              "#fdca26"
             ],
             [
              1,
              "#f0f921"
             ]
            ],
            "type": "surface"
           }
          ],
          "table": [
           {
            "cells": {
             "fill": {
              "color": "#EBF0F8"
             },
             "line": {
              "color": "white"
             }
            },
            "header": {
             "fill": {
              "color": "#C8D4E3"
             },
             "line": {
              "color": "white"
             }
            },
            "type": "table"
           }
          ]
         },
         "layout": {
          "annotationdefaults": {
           "arrowcolor": "#2a3f5f",
           "arrowhead": 0,
           "arrowwidth": 1
          },
          "autotypenumbers": "strict",
          "coloraxis": {
           "colorbar": {
            "outlinewidth": 0,
            "ticks": ""
           }
          },
          "colorscale": {
           "diverging": [
            [
             0,
             "#8e0152"
            ],
            [
             0.1,
             "#c51b7d"
            ],
            [
             0.2,
             "#de77ae"
            ],
            [
             0.3,
             "#f1b6da"
            ],
            [
             0.4,
             "#fde0ef"
            ],
            [
             0.5,
             "#f7f7f7"
            ],
            [
             0.6,
             "#e6f5d0"
            ],
            [
             0.7,
             "#b8e186"
            ],
            [
             0.8,
             "#7fbc41"
            ],
            [
             0.9,
             "#4d9221"
            ],
            [
             1,
             "#276419"
            ]
           ],
           "sequential": [
            [
             0,
             "#0d0887"
            ],
            [
             0.1111111111111111,
             "#46039f"
            ],
            [
             0.2222222222222222,
             "#7201a8"
            ],
            [
             0.3333333333333333,
             "#9c179e"
            ],
            [
             0.4444444444444444,
             "#bd3786"
            ],
            [
             0.5555555555555556,
             "#d8576b"
            ],
            [
             0.6666666666666666,
             "#ed7953"
            ],
            [
             0.7777777777777778,
             "#fb9f3a"
            ],
            [
             0.8888888888888888,
             "#fdca26"
            ],
            [
             1,
             "#f0f921"
            ]
           ],
           "sequentialminus": [
            [
             0,
             "#0d0887"
            ],
            [
             0.1111111111111111,
             "#46039f"
            ],
            [
             0.2222222222222222,
             "#7201a8"
            ],
            [
             0.3333333333333333,
             "#9c179e"
            ],
            [
             0.4444444444444444,
             "#bd3786"
            ],
            [
             0.5555555555555556,
             "#d8576b"
            ],
            [
             0.6666666666666666,
             "#ed7953"
            ],
            [
             0.7777777777777778,
             "#fb9f3a"
            ],
            [
             0.8888888888888888,
             "#fdca26"
            ],
            [
             1,
             "#f0f921"
            ]
           ]
          },
          "colorway": [
           "#636efa",
           "#EF553B",
           "#00cc96",
           "#ab63fa",
           "#FFA15A",
           "#19d3f3",
           "#FF6692",
           "#B6E880",
           "#FF97FF",
           "#FECB52"
          ],
          "font": {
           "color": "#2a3f5f"
          },
          "geo": {
           "bgcolor": "white",
           "lakecolor": "white",
           "landcolor": "#E5ECF6",
           "showlakes": true,
           "showland": true,
           "subunitcolor": "white"
          },
          "hoverlabel": {
           "align": "left"
          },
          "hovermode": "closest",
          "mapbox": {
           "style": "light"
          },
          "paper_bgcolor": "white",
          "plot_bgcolor": "#E5ECF6",
          "polar": {
           "angularaxis": {
            "gridcolor": "white",
            "linecolor": "white",
            "ticks": ""
           },
           "bgcolor": "#E5ECF6",
           "radialaxis": {
            "gridcolor": "white",
            "linecolor": "white",
            "ticks": ""
           }
          },
          "scene": {
           "xaxis": {
            "backgroundcolor": "#E5ECF6",
            "gridcolor": "white",
            "gridwidth": 2,
            "linecolor": "white",
            "showbackground": true,
            "ticks": "",
            "zerolinecolor": "white"
           },
           "yaxis": {
            "backgroundcolor": "#E5ECF6",
            "gridcolor": "white",
            "gridwidth": 2,
            "linecolor": "white",
            "showbackground": true,
            "ticks": "",
            "zerolinecolor": "white"
           },
           "zaxis": {
            "backgroundcolor": "#E5ECF6",
            "gridcolor": "white",
            "gridwidth": 2,
            "linecolor": "white",
            "showbackground": true,
            "ticks": "",
            "zerolinecolor": "white"
           }
          },
          "shapedefaults": {
           "line": {
            "color": "#2a3f5f"
           }
          },
          "ternary": {
           "aaxis": {
            "gridcolor": "white",
            "linecolor": "white",
            "ticks": ""
           },
           "baxis": {
            "gridcolor": "white",
            "linecolor": "white",
            "ticks": ""
           },
           "bgcolor": "#E5ECF6",
           "caxis": {
            "gridcolor": "white",
            "linecolor": "white",
            "ticks": ""
           }
          },
          "title": {
           "x": 0.05
          },
          "xaxis": {
           "automargin": true,
           "gridcolor": "white",
           "linecolor": "white",
           "ticks": "",
           "title": {
            "standoff": 15
           },
           "zerolinecolor": "white",
           "zerolinewidth": 2
          },
          "yaxis": {
           "automargin": true,
           "gridcolor": "white",
           "linecolor": "white",
           "ticks": "",
           "title": {
            "standoff": 15
           },
           "zerolinecolor": "white",
           "zerolinewidth": 2
          }
         }
        },
        "title": {
         "font": {
          "color": "#4D5663"
         }
        },
        "xaxis": {
         "gridcolor": "#E1E5ED",
         "showgrid": true,
         "tickfont": {
          "color": "#4D5663"
         },
         "title": {
          "font": {
           "color": "#4D5663"
          },
          "text": ""
         },
         "zerolinecolor": "#E1E5ED"
        },
        "yaxis": {
         "gridcolor": "#E1E5ED",
         "showgrid": true,
         "tickfont": {
          "color": "#4D5663"
         },
         "title": {
          "font": {
           "color": "#4D5663"
          },
          "text": ""
         },
         "zerolinecolor": "#E1E5ED"
        }
       }
      },
      "text/html": [
       "<div>                            <div id=\"36e07541-7287-43fc-bcb6-e6054aadc7a5\" class=\"plotly-graph-div\" style=\"height:525px; width:100%;\"></div>            <script type=\"text/javascript\">                require([\"plotly\"], function(Plotly) {                    window.PLOTLYENV=window.PLOTLYENV || {};\n",
       "                    window.PLOTLYENV.BASE_URL='https://plot.ly';                                    if (document.getElementById(\"36e07541-7287-43fc-bcb6-e6054aadc7a5\")) {                    Plotly.newPlot(                        \"36e07541-7287-43fc-bcb6-e6054aadc7a5\",                        [{\"histfunc\":\"count\",\"histnorm\":\"\",\"marker\":{\"color\":\"rgba(255, 153, 51, 1.0)\",\"line\":{\"color\":\"#4D5663\",\"width\":1.3}},\"name\":\"A\",\"nbinsx\":25,\"opacity\":0.8,\"orientation\":\"v\",\"x\":[-0.19028147001615417,0.3282365234795369,1.1399229516160017,-1.5285412750999146,-0.24886967751150038,0.2516245509136745,1.0322355236009921,0.11599439899823132,-0.08552299190870857,-0.392599667290996,1.0483873911059238,-1.3672086527525584,-1.2953691663834808,-0.37398870480107765,0.16094578705735657,0.698636684971462,1.5186664839892636,-0.3023573194571271,0.16832675647100329,0.19054539363793585,-0.05607139243232748,2.49434793378773,-0.530066327400534,0.8770350482674139,0.813057708391379,0.29820305701467675,0.4091606649710951,-0.07901188676813516,-0.32164633372494433,0.9816522229170433,0.6776451608653729,-0.8353341427637865,1.4655636349628942,2.00973210510375,0.34269433539070104,0.6002392765015414,0.7117390891406551,1.0592117801719485,0.7228041981165503,-0.8736465721312067,0.5676459790026085,0.3946690709293932,1.1159103925968208,-1.3623917634657412,0.6708499442787056,2.7667695870284845,0.7208184734528509,-0.5012612586998206,-1.1208824336937548,0.08310983627321097,1.4675574284440516,1.2532790994123408,0.007306638487820633,-0.8858137066431648,0.6242810094285595,-1.204652301395593,-1.1592080495946446,-0.8345983358790608,-0.7876304667169377,0.2226800879806531,0.4415686839563639,-0.269932602749613,-1.203764434204222,0.2411069726838896,-0.09951908368939481,-1.2286268384318006,0.9640396290879625,2.533865804668992,0.6363573751229564,0.6472031726814976,0.3660259455013826,0.9127612805233639,0.17883708005765753,-0.7077382719243921,-0.30885550649166293,1.327815639824272,-1.0254221405341721,-0.9383686643953827,-0.09071737066338419,0.6334847841474687,0.3071825571559436,-0.4857262165088668,-0.016132326632023995,0.5396152536884207,1.2850769796729489,-0.09184295300134171,0.6230902035502993,-0.28510111886218,0.963559438496964,1.7301036427052279,-0.23999086747889203,-0.6634015983510081,0.3389483473977393,1.3015088526277432,0.2801083119723154,-1.0717367219346814,0.6430291779034134,1.0587542570407236,-1.8666690899056997,0.19629610393134483],\"type\":\"histogram\"}],                        {\"barmode\":\"overlay\",\"legend\":{\"bgcolor\":\"#F5F6F9\",\"font\":{\"color\":\"#4D5663\"}},\"paper_bgcolor\":\"#F5F6F9\",\"plot_bgcolor\":\"#F5F6F9\",\"template\":{\"data\":{\"barpolar\":[{\"marker\":{\"line\":{\"color\":\"#E5ECF6\",\"width\":0.5},\"pattern\":{\"fillmode\":\"overlay\",\"size\":10,\"solidity\":0.2}},\"type\":\"barpolar\"}],\"bar\":[{\"error_x\":{\"color\":\"#2a3f5f\"},\"error_y\":{\"color\":\"#2a3f5f\"},\"marker\":{\"line\":{\"color\":\"#E5ECF6\",\"width\":0.5},\"pattern\":{\"fillmode\":\"overlay\",\"size\":10,\"solidity\":0.2}},\"type\":\"bar\"}],\"carpet\":[{\"aaxis\":{\"endlinecolor\":\"#2a3f5f\",\"gridcolor\":\"white\",\"linecolor\":\"white\",\"minorgridcolor\":\"white\",\"startlinecolor\":\"#2a3f5f\"},\"baxis\":{\"endlinecolor\":\"#2a3f5f\",\"gridcolor\":\"white\",\"linecolor\":\"white\",\"minorgridcolor\":\"white\",\"startlinecolor\":\"#2a3f5f\"},\"type\":\"carpet\"}],\"choropleth\":[{\"colorbar\":{\"outlinewidth\":0,\"ticks\":\"\"},\"type\":\"choropleth\"}],\"contourcarpet\":[{\"colorbar\":{\"outlinewidth\":0,\"ticks\":\"\"},\"type\":\"contourcarpet\"}],\"contour\":[{\"colorbar\":{\"outlinewidth\":0,\"ticks\":\"\"},\"colorscale\":[[0.0,\"#0d0887\"],[0.1111111111111111,\"#46039f\"],[0.2222222222222222,\"#7201a8\"],[0.3333333333333333,\"#9c179e\"],[0.4444444444444444,\"#bd3786\"],[0.5555555555555556,\"#d8576b\"],[0.6666666666666666,\"#ed7953\"],[0.7777777777777778,\"#fb9f3a\"],[0.8888888888888888,\"#fdca26\"],[1.0,\"#f0f921\"]],\"type\":\"contour\"}],\"heatmapgl\":[{\"colorbar\":{\"outlinewidth\":0,\"ticks\":\"\"},\"colorscale\":[[0.0,\"#0d0887\"],[0.1111111111111111,\"#46039f\"],[0.2222222222222222,\"#7201a8\"],[0.3333333333333333,\"#9c179e\"],[0.4444444444444444,\"#bd3786\"],[0.5555555555555556,\"#d8576b\"],[0.6666666666666666,\"#ed7953\"],[0.7777777777777778,\"#fb9f3a\"],[0.8888888888888888,\"#fdca26\"],[1.0,\"#f0f921\"]],\"type\":\"heatmapgl\"}],\"heatmap\":[{\"colorbar\":{\"outlinewidth\":0,\"ticks\":\"\"},\"colorscale\":[[0.0,\"#0d0887\"],[0.1111111111111111,\"#46039f\"],[0.2222222222222222,\"#7201a8\"],[0.3333333333333333,\"#9c179e\"],[0.4444444444444444,\"#bd3786\"],[0.5555555555555556,\"#d8576b\"],[0.6666666666666666,\"#ed7953\"],[0.7777777777777778,\"#fb9f3a\"],[0.8888888888888888,\"#fdca26\"],[1.0,\"#f0f921\"]],\"type\":\"heatmap\"}],\"histogram2dcontour\":[{\"colorbar\":{\"outlinewidth\":0,\"ticks\":\"\"},\"colorscale\":[[0.0,\"#0d0887\"],[0.1111111111111111,\"#46039f\"],[0.2222222222222222,\"#7201a8\"],[0.3333333333333333,\"#9c179e\"],[0.4444444444444444,\"#bd3786\"],[0.5555555555555556,\"#d8576b\"],[0.6666666666666666,\"#ed7953\"],[0.7777777777777778,\"#fb9f3a\"],[0.8888888888888888,\"#fdca26\"],[1.0,\"#f0f921\"]],\"type\":\"histogram2dcontour\"}],\"histogram2d\":[{\"colorbar\":{\"outlinewidth\":0,\"ticks\":\"\"},\"colorscale\":[[0.0,\"#0d0887\"],[0.1111111111111111,\"#46039f\"],[0.2222222222222222,\"#7201a8\"],[0.3333333333333333,\"#9c179e\"],[0.4444444444444444,\"#bd3786\"],[0.5555555555555556,\"#d8576b\"],[0.6666666666666666,\"#ed7953\"],[0.7777777777777778,\"#fb9f3a\"],[0.8888888888888888,\"#fdca26\"],[1.0,\"#f0f921\"]],\"type\":\"histogram2d\"}],\"histogram\":[{\"marker\":{\"pattern\":{\"fillmode\":\"overlay\",\"size\":10,\"solidity\":0.2}},\"type\":\"histogram\"}],\"mesh3d\":[{\"colorbar\":{\"outlinewidth\":0,\"ticks\":\"\"},\"type\":\"mesh3d\"}],\"parcoords\":[{\"line\":{\"colorbar\":{\"outlinewidth\":0,\"ticks\":\"\"}},\"type\":\"parcoords\"}],\"pie\":[{\"automargin\":true,\"type\":\"pie\"}],\"scatter3d\":[{\"line\":{\"colorbar\":{\"outlinewidth\":0,\"ticks\":\"\"}},\"marker\":{\"colorbar\":{\"outlinewidth\":0,\"ticks\":\"\"}},\"type\":\"scatter3d\"}],\"scattercarpet\":[{\"marker\":{\"colorbar\":{\"outlinewidth\":0,\"ticks\":\"\"}},\"type\":\"scattercarpet\"}],\"scattergeo\":[{\"marker\":{\"colorbar\":{\"outlinewidth\":0,\"ticks\":\"\"}},\"type\":\"scattergeo\"}],\"scattergl\":[{\"marker\":{\"colorbar\":{\"outlinewidth\":0,\"ticks\":\"\"}},\"type\":\"scattergl\"}],\"scattermapbox\":[{\"marker\":{\"colorbar\":{\"outlinewidth\":0,\"ticks\":\"\"}},\"type\":\"scattermapbox\"}],\"scatterpolargl\":[{\"marker\":{\"colorbar\":{\"outlinewidth\":0,\"ticks\":\"\"}},\"type\":\"scatterpolargl\"}],\"scatterpolar\":[{\"marker\":{\"colorbar\":{\"outlinewidth\":0,\"ticks\":\"\"}},\"type\":\"scatterpolar\"}],\"scatter\":[{\"marker\":{\"colorbar\":{\"outlinewidth\":0,\"ticks\":\"\"}},\"type\":\"scatter\"}],\"scatterternary\":[{\"marker\":{\"colorbar\":{\"outlinewidth\":0,\"ticks\":\"\"}},\"type\":\"scatterternary\"}],\"surface\":[{\"colorbar\":{\"outlinewidth\":0,\"ticks\":\"\"},\"colorscale\":[[0.0,\"#0d0887\"],[0.1111111111111111,\"#46039f\"],[0.2222222222222222,\"#7201a8\"],[0.3333333333333333,\"#9c179e\"],[0.4444444444444444,\"#bd3786\"],[0.5555555555555556,\"#d8576b\"],[0.6666666666666666,\"#ed7953\"],[0.7777777777777778,\"#fb9f3a\"],[0.8888888888888888,\"#fdca26\"],[1.0,\"#f0f921\"]],\"type\":\"surface\"}],\"table\":[{\"cells\":{\"fill\":{\"color\":\"#EBF0F8\"},\"line\":{\"color\":\"white\"}},\"header\":{\"fill\":{\"color\":\"#C8D4E3\"},\"line\":{\"color\":\"white\"}},\"type\":\"table\"}]},\"layout\":{\"annotationdefaults\":{\"arrowcolor\":\"#2a3f5f\",\"arrowhead\":0,\"arrowwidth\":1},\"autotypenumbers\":\"strict\",\"coloraxis\":{\"colorbar\":{\"outlinewidth\":0,\"ticks\":\"\"}},\"colorscale\":{\"diverging\":[[0,\"#8e0152\"],[0.1,\"#c51b7d\"],[0.2,\"#de77ae\"],[0.3,\"#f1b6da\"],[0.4,\"#fde0ef\"],[0.5,\"#f7f7f7\"],[0.6,\"#e6f5d0\"],[0.7,\"#b8e186\"],[0.8,\"#7fbc41\"],[0.9,\"#4d9221\"],[1,\"#276419\"]],\"sequential\":[[0.0,\"#0d0887\"],[0.1111111111111111,\"#46039f\"],[0.2222222222222222,\"#7201a8\"],[0.3333333333333333,\"#9c179e\"],[0.4444444444444444,\"#bd3786\"],[0.5555555555555556,\"#d8576b\"],[0.6666666666666666,\"#ed7953\"],[0.7777777777777778,\"#fb9f3a\"],[0.8888888888888888,\"#fdca26\"],[1.0,\"#f0f921\"]],\"sequentialminus\":[[0.0,\"#0d0887\"],[0.1111111111111111,\"#46039f\"],[0.2222222222222222,\"#7201a8\"],[0.3333333333333333,\"#9c179e\"],[0.4444444444444444,\"#bd3786\"],[0.5555555555555556,\"#d8576b\"],[0.6666666666666666,\"#ed7953\"],[0.7777777777777778,\"#fb9f3a\"],[0.8888888888888888,\"#fdca26\"],[1.0,\"#f0f921\"]]},\"colorway\":[\"#636efa\",\"#EF553B\",\"#00cc96\",\"#ab63fa\",\"#FFA15A\",\"#19d3f3\",\"#FF6692\",\"#B6E880\",\"#FF97FF\",\"#FECB52\"],\"font\":{\"color\":\"#2a3f5f\"},\"geo\":{\"bgcolor\":\"white\",\"lakecolor\":\"white\",\"landcolor\":\"#E5ECF6\",\"showlakes\":true,\"showland\":true,\"subunitcolor\":\"white\"},\"hoverlabel\":{\"align\":\"left\"},\"hovermode\":\"closest\",\"mapbox\":{\"style\":\"light\"},\"paper_bgcolor\":\"white\",\"plot_bgcolor\":\"#E5ECF6\",\"polar\":{\"angularaxis\":{\"gridcolor\":\"white\",\"linecolor\":\"white\",\"ticks\":\"\"},\"bgcolor\":\"#E5ECF6\",\"radialaxis\":{\"gridcolor\":\"white\",\"linecolor\":\"white\",\"ticks\":\"\"}},\"scene\":{\"xaxis\":{\"backgroundcolor\":\"#E5ECF6\",\"gridcolor\":\"white\",\"gridwidth\":2,\"linecolor\":\"white\",\"showbackground\":true,\"ticks\":\"\",\"zerolinecolor\":\"white\"},\"yaxis\":{\"backgroundcolor\":\"#E5ECF6\",\"gridcolor\":\"white\",\"gridwidth\":2,\"linecolor\":\"white\",\"showbackground\":true,\"ticks\":\"\",\"zerolinecolor\":\"white\"},\"zaxis\":{\"backgroundcolor\":\"#E5ECF6\",\"gridcolor\":\"white\",\"gridwidth\":2,\"linecolor\":\"white\",\"showbackground\":true,\"ticks\":\"\",\"zerolinecolor\":\"white\"}},\"shapedefaults\":{\"line\":{\"color\":\"#2a3f5f\"}},\"ternary\":{\"aaxis\":{\"gridcolor\":\"white\",\"linecolor\":\"white\",\"ticks\":\"\"},\"baxis\":{\"gridcolor\":\"white\",\"linecolor\":\"white\",\"ticks\":\"\"},\"bgcolor\":\"#E5ECF6\",\"caxis\":{\"gridcolor\":\"white\",\"linecolor\":\"white\",\"ticks\":\"\"}},\"title\":{\"x\":0.05},\"xaxis\":{\"automargin\":true,\"gridcolor\":\"white\",\"linecolor\":\"white\",\"ticks\":\"\",\"title\":{\"standoff\":15},\"zerolinecolor\":\"white\",\"zerolinewidth\":2},\"yaxis\":{\"automargin\":true,\"gridcolor\":\"white\",\"linecolor\":\"white\",\"ticks\":\"\",\"title\":{\"standoff\":15},\"zerolinecolor\":\"white\",\"zerolinewidth\":2}}},\"title\":{\"font\":{\"color\":\"#4D5663\"}},\"xaxis\":{\"gridcolor\":\"#E1E5ED\",\"showgrid\":true,\"tickfont\":{\"color\":\"#4D5663\"},\"title\":{\"font\":{\"color\":\"#4D5663\"},\"text\":\"\"},\"zerolinecolor\":\"#E1E5ED\"},\"yaxis\":{\"gridcolor\":\"#E1E5ED\",\"showgrid\":true,\"tickfont\":{\"color\":\"#4D5663\"},\"title\":{\"font\":{\"color\":\"#4D5663\"},\"text\":\"\"},\"zerolinecolor\":\"#E1E5ED\"}},                        {\"showLink\": true, \"linkText\": \"Export to plot.ly\", \"plotlyServerURL\": \"https://plot.ly\", \"responsive\": true}                    ).then(function(){\n",
       "                            \n",
       "var gd = document.getElementById('36e07541-7287-43fc-bcb6-e6054aadc7a5');\n",
       "var x = new MutationObserver(function (mutations, observer) {{\n",
       "        var display = window.getComputedStyle(gd).display;\n",
       "        if (!display || display === 'none') {{\n",
       "            console.log([gd, 'removed!']);\n",
       "            Plotly.purge(gd);\n",
       "            observer.disconnect();\n",
       "        }}\n",
       "}});\n",
       "\n",
       "// Listen for the removal of the full notebook cells\n",
       "var notebookContainer = gd.closest('#notebook-container');\n",
       "if (notebookContainer) {{\n",
       "    x.observe(notebookContainer, {childList: true});\n",
       "}}\n",
       "\n",
       "// Listen for the clearing of the current output cell\n",
       "var outputEl = gd.closest('.output');\n",
       "if (outputEl) {{\n",
       "    x.observe(outputEl, {childList: true});\n",
       "}}\n",
       "\n",
       "                        })                };                });            </script>        </div>"
      ]
     },
     "metadata": {},
     "output_type": "display_data"
    }
   ],
   "source": [
    "df['A'].iplot(kind = 'hist', bins = 25)"
   ]
  },
  {
   "cell_type": "code",
   "execution_count": 39,
   "metadata": {},
   "outputs": [
    {
     "data": {
      "application/vnd.plotly.v1+json": {
       "config": {
        "linkText": "Export to plot.ly",
        "plotlyServerURL": "https://plot.ly",
        "showLink": true
       },
       "data": [
        {
         "histfunc": "count",
         "histnorm": "",
         "marker": {
          "color": "rgba(255, 153, 51, 1.0)",
          "line": {
           "color": "#4D5663",
           "width": 1.3
          }
         },
         "name": "A",
         "nbinsx": 25,
         "opacity": 0.8,
         "orientation": "v",
         "type": "histogram",
         "x": [
          -0.19028147001615417,
          0.3282365234795369,
          1.1399229516160017,
          -1.5285412750999146,
          -0.24886967751150038,
          0.2516245509136745,
          1.0322355236009921,
          0.11599439899823132,
          -0.08552299190870857,
          -0.392599667290996,
          1.0483873911059238,
          -1.3672086527525584,
          -1.2953691663834808,
          -0.37398870480107765,
          0.16094578705735657,
          0.698636684971462,
          1.5186664839892636,
          -0.3023573194571271,
          0.16832675647100329,
          0.19054539363793585,
          -0.05607139243232748,
          2.49434793378773,
          -0.530066327400534,
          0.8770350482674139,
          0.813057708391379,
          0.29820305701467675,
          0.4091606649710951,
          -0.07901188676813516,
          -0.32164633372494433,
          0.9816522229170433,
          0.6776451608653729,
          -0.8353341427637865,
          1.4655636349628942,
          2.00973210510375,
          0.34269433539070104,
          0.6002392765015414,
          0.7117390891406551,
          1.0592117801719485,
          0.7228041981165503,
          -0.8736465721312067,
          0.5676459790026085,
          0.3946690709293932,
          1.1159103925968208,
          -1.3623917634657412,
          0.6708499442787056,
          2.7667695870284845,
          0.7208184734528509,
          -0.5012612586998206,
          -1.1208824336937548,
          0.08310983627321097,
          1.4675574284440516,
          1.2532790994123408,
          0.007306638487820633,
          -0.8858137066431648,
          0.6242810094285595,
          -1.204652301395593,
          -1.1592080495946446,
          -0.8345983358790608,
          -0.7876304667169377,
          0.2226800879806531,
          0.4415686839563639,
          -0.269932602749613,
          -1.203764434204222,
          0.2411069726838896,
          -0.09951908368939481,
          -1.2286268384318006,
          0.9640396290879625,
          2.533865804668992,
          0.6363573751229564,
          0.6472031726814976,
          0.3660259455013826,
          0.9127612805233639,
          0.17883708005765753,
          -0.7077382719243921,
          -0.30885550649166293,
          1.327815639824272,
          -1.0254221405341721,
          -0.9383686643953827,
          -0.09071737066338419,
          0.6334847841474687,
          0.3071825571559436,
          -0.4857262165088668,
          -0.016132326632023995,
          0.5396152536884207,
          1.2850769796729489,
          -0.09184295300134171,
          0.6230902035502993,
          -0.28510111886218,
          0.963559438496964,
          1.7301036427052279,
          -0.23999086747889203,
          -0.6634015983510081,
          0.3389483473977393,
          1.3015088526277432,
          0.2801083119723154,
          -1.0717367219346814,
          0.6430291779034134,
          1.0587542570407236,
          -1.8666690899056997,
          0.19629610393134483
         ]
        },
        {
         "histfunc": "count",
         "histnorm": "",
         "marker": {
          "color": "rgba(55, 128, 191, 1.0)",
          "line": {
           "color": "#4D5663",
           "width": 1.3
          }
         },
         "name": "B",
         "nbinsx": 25,
         "opacity": 0.8,
         "orientation": "v",
         "type": "histogram",
         "x": [
          -0.8078877810272339,
          -0.6448885204384242,
          -0.7455902419946399,
          -1.3050276821950197,
          0.5003808807272312,
          -0.2544095597272951,
          -1.3513709895354138,
          -2.5602738161529337,
          1.8961054211952009,
          1.7143645670390613,
          0.38789704551642606,
          -0.43216641964758024,
          -0.121487555297366,
          0.4886943348247054,
          -0.531024084846558,
          1.019974525402949,
          -1.1265502671384462,
          -0.11944479093297246,
          0.07992209285850868,
          0.35694133719785076,
          1.5133316673425885,
          0.9526731400979774,
          2.1783088334956022,
          -0.5359561007282527,
          0.3879712182730429,
          -0.5599572053329858,
          0.7535131619955537,
          0.1737238244194225,
          -0.1398249931343527,
          -0.7847908485735925,
          -0.7389327805747367,
          0.24358444714280714,
          1.5261767506458273,
          0.06163695959046099,
          -0.4101352328979562,
          -0.09324634096394105,
          0.6528869126446963,
          0.01814734085788372,
          -1.3547064835577245,
          -0.6151383657756476,
          -0.028002153962266033,
          -1.0794710885393703,
          0.10420625617257966,
          0.0016299303751393895,
          0.20635200140925392,
          -2.233926947939479,
          -1.0973127325260994,
          -0.4408212095555347,
          1.22408852383261,
          0.13518041692760324,
          -0.6380915291645423,
          -1.0077051393357612,
          -0.2287842060650193,
          -1.4542627061984326,
          -0.8098208866087253,
          -0.023631771936152825,
          0.25512205354700956,
          -0.4367753483304965,
          -1.1077991003347287,
          1.5311400432991595,
          -1.2024989249956632,
          0.12192266114566915,
          0.35121591416736425,
          0.528914304859543,
          -0.04869540341544756,
          0.9691544110353982,
          -0.5742621312272939,
          -0.38144095937602707,
          2.0948824404994784,
          -0.2633073152560307,
          0.4376908561486388,
          -1.262068966059568,
          1.2029595169014162,
          0.6812982907014478,
          0.14481035473742293,
          -0.9025277487190613,
          -0.033162850514684906,
          -0.7212577482125213,
          -1.2129688234713587,
          0.10702847749976899,
          -0.5944521348825197,
          -0.22021650672250928,
          -0.08777301917765741,
          0.49809817622022645,
          -0.38138542032541234,
          2.2291460401740446,
          0.22260641858867825,
          -0.6572688729049547,
          0.21066253910388472,
          -1.9777342722498183,
          0.3060242902498709,
          -0.6017968715314095,
          1.7495494270187508,
          0.41260960952983505,
          -0.6762840831291067,
          1.0885603890399016,
          1.3670041388951435,
          0.4449508775116109,
          0.4117141563361959,
          -0.6129289668954218
         ]
        },
        {
         "histfunc": "count",
         "histnorm": "",
         "marker": {
          "color": "rgba(50, 171, 96, 1.0)",
          "line": {
           "color": "#4D5663",
           "width": 1.3
          }
         },
         "name": "C",
         "nbinsx": 25,
         "opacity": 0.8,
         "orientation": "v",
         "type": "histogram",
         "x": [
          -0.28087858577267105,
          -0.004940607057401839,
          -0.18230220142911813,
          0.2600963731552484,
          -2.188017212805162,
          -1.0898037238817064,
          0.8029079536160184,
          0.39290560201141383,
          -0.7824771205914149,
          0.09623173110212756,
          0.9068065372365814,
          -0.3989989888769911,
          -0.0641446346766752,
          -0.5345419155492223,
          0.32796331193357764,
          -0.5767538701014241,
          -0.10512746808304435,
          0.9172381947599746,
          -0.4472695304778123,
          0.7102683856385797,
          1.6939178797464913,
          2.3266870929170236,
          -0.20697932602210786,
          0.983827831881114,
          -2.0426268092837243,
          -0.4349401334944814,
          1.6547889256895636,
          -0.31154737802476706,
          -1.0900054140495148,
          -0.5300848153772204,
          0.02164567537324387,
          0.6273332422749028,
          -1.9773216115130865,
          0.6687587249854554,
          -0.06504102004656755,
          -0.34618824562897654,
          -0.3199115087635271,
          -0.4987996519933438,
          0.23575723882577956,
          0.7597754367105237,
          0.349048519111151,
          1.2015268322994783,
          1.2159218440959862,
          -0.42192591804738677,
          -0.8944245463342192,
          -0.435919363532489,
          1.397820879769164,
          -1.560418050372487,
          -1.1788409473597223,
          -0.4986100474691056,
          -0.6466678757707934,
          0.5776410340113322,
          -1.6148839333548723,
          0.6886420824906866,
          -0.3328314224856059,
          0.5363702326516426,
          0.6036522566095408,
          -1.7863633611315732,
          -0.3784178651278131,
          -0.27019072144003586,
          0.41899925622522255,
          -0.44459848135470603,
          0.9276848536350926,
          -0.05560740096298692,
          0.9330717802136188,
          0.19933373068207802,
          0.06307907081003797,
          -1.0126845508220041,
          -0.36590596742424647,
          -1.1658403037968499,
          -1.145026708386471,
          -1.4374897359308019,
          0.31196568286651527,
          -1.4022129995090378,
          0.43145008296749926,
          0.15936536072957974,
          0.1571961245450657,
          -1.3657685562718185,
          1.4992195393508299,
          0.13302405909411777,
          0.6900814716829894,
          0.4142888696248817,
          -0.28001864824131567,
          -1.2999007434589738,
          -0.43031486383923556,
          -0.9694286604561002,
          0.42547381984692245,
          0.7778766895492566,
          1.0116733908927231,
          -1.1313424765515263,
          -0.5505972224035046,
          -1.8466325055319044,
          -0.90990122673788,
          -0.5374142307935139,
          -0.13444784767642923,
          0.9257971446921365,
          -0.9524785152276847,
          0.8823242234454758,
          -1.1309090674165982,
          -1.2869116132712173
         ]
        },
        {
         "histfunc": "count",
         "histnorm": "",
         "marker": {
          "color": "rgba(128, 0, 128, 1.0)",
          "line": {
           "color": "#4D5663",
           "width": 1.3
          }
         },
         "name": "D",
         "nbinsx": 25,
         "opacity": 0.8,
         "orientation": "v",
         "type": "histogram",
         "x": [
          0.3288885223174926,
          -0.05362057683546842,
          0.6944864221692295,
          0.02252577433779823,
          0.13647546453678722,
          -0.10806801637002397,
          -0.30864646770180626,
          0.33901164794495464,
          0.060188705738250456,
          0.19380195170155903,
          -0.522348080237052,
          0.6193212852322433,
          0.04404147779042312,
          -0.5786956835065248,
          -0.9326312727624145,
          -1.1077031636459158,
          0.8222129392917609,
          -0.7151429012834042,
          -0.4076584263131162,
          0.380535345843578,
          1.9331246815616225,
          0.8854566533885581,
          0.9250097363967863,
          -1.2250734639959535,
          -2.22671463804753,
          -1.5742891094053724,
          0.978683053819982,
          -1.136319691015506,
          -1.1137441313670016,
          0.436318837908886,
          0.541594724232907,
          0.9779228111714007,
          0.606322701056323,
          -0.89018875312323,
          -1.2540749488696816,
          0.0036231336181717475,
          -0.5862125200271961,
          -0.5496272785954898,
          -1.3808661187077242,
          -0.41911265700373646,
          -0.9893833037429732,
          -0.02227739253879558,
          -1.2109051787349658,
          0.2187550645508682,
          0.29539605379224376,
          -0.3264467139879857,
          0.6011974292790989,
          -0.05228156116144349,
          0.7624832361556565,
          -0.6702572568013639,
          -0.6785139300205213,
          0.3011819215746909,
          -0.020108136336801797,
          -0.4087092290165143,
          0.00698854161160987,
          1.20481109831026,
          -2.4818274281753863,
          0.319098393424909,
          -0.9898309304204703,
          0.2952005681553578,
          0.9619370070172015,
          -0.40093747682141156,
          -0.11952508572061894,
          1.1081954282248092,
          -0.1806524932116476,
          0.06261944968811173,
          0.03225926799516013,
          0.41594280093698044,
          -0.9657416824739882,
          -0.04405418685657381,
          0.05281557500120534,
          -1.5455467298149086,
          -1.3537818294467925,
          0.8392875684656593,
          0.7571304481994662,
          1.0988601549471448,
          -0.7876598489602764,
          2.0604966990745828,
          0.5946780208209356,
          -0.23702779487902637,
          0.9058986089027272,
          -1.0756265998225543,
          -0.05533987071067795,
          -1.0565996076695996,
          1.0413939228265987,
          -1.2620095908721358,
          1.1426775965278135,
          0.25579441301365924,
          -0.4319807601407964,
          -0.7550353606457672,
          -0.05815106441335786,
          0.6190864775229382,
          0.9399911697520962,
          -1.4366566678480763,
          -0.43104599207293115,
          -1.073006647715606,
          -1.0116719874581341,
          -0.0044088648192909495,
          -0.2723208922297199,
          -1.4184543082935284
         ]
        }
       ],
       "layout": {
        "barmode": "overlay",
        "legend": {
         "bgcolor": "#F5F6F9",
         "font": {
          "color": "#4D5663"
         }
        },
        "paper_bgcolor": "#F5F6F9",
        "plot_bgcolor": "#F5F6F9",
        "template": {
         "data": {
          "bar": [
           {
            "error_x": {
             "color": "#2a3f5f"
            },
            "error_y": {
             "color": "#2a3f5f"
            },
            "marker": {
             "line": {
              "color": "#E5ECF6",
              "width": 0.5
             },
             "pattern": {
              "fillmode": "overlay",
              "size": 10,
              "solidity": 0.2
             }
            },
            "type": "bar"
           }
          ],
          "barpolar": [
           {
            "marker": {
             "line": {
              "color": "#E5ECF6",
              "width": 0.5
             },
             "pattern": {
              "fillmode": "overlay",
              "size": 10,
              "solidity": 0.2
             }
            },
            "type": "barpolar"
           }
          ],
          "carpet": [
           {
            "aaxis": {
             "endlinecolor": "#2a3f5f",
             "gridcolor": "white",
             "linecolor": "white",
             "minorgridcolor": "white",
             "startlinecolor": "#2a3f5f"
            },
            "baxis": {
             "endlinecolor": "#2a3f5f",
             "gridcolor": "white",
             "linecolor": "white",
             "minorgridcolor": "white",
             "startlinecolor": "#2a3f5f"
            },
            "type": "carpet"
           }
          ],
          "choropleth": [
           {
            "colorbar": {
             "outlinewidth": 0,
             "ticks": ""
            },
            "type": "choropleth"
           }
          ],
          "contour": [
           {
            "colorbar": {
             "outlinewidth": 0,
             "ticks": ""
            },
            "colorscale": [
             [
              0,
              "#0d0887"
             ],
             [
              0.1111111111111111,
              "#46039f"
             ],
             [
              0.2222222222222222,
              "#7201a8"
             ],
             [
              0.3333333333333333,
              "#9c179e"
             ],
             [
              0.4444444444444444,
              "#bd3786"
             ],
             [
              0.5555555555555556,
              "#d8576b"
             ],
             [
              0.6666666666666666,
              "#ed7953"
             ],
             [
              0.7777777777777778,
              "#fb9f3a"
             ],
             [
              0.8888888888888888,
              "#fdca26"
             ],
             [
              1,
              "#f0f921"
             ]
            ],
            "type": "contour"
           }
          ],
          "contourcarpet": [
           {
            "colorbar": {
             "outlinewidth": 0,
             "ticks": ""
            },
            "type": "contourcarpet"
           }
          ],
          "heatmap": [
           {
            "colorbar": {
             "outlinewidth": 0,
             "ticks": ""
            },
            "colorscale": [
             [
              0,
              "#0d0887"
             ],
             [
              0.1111111111111111,
              "#46039f"
             ],
             [
              0.2222222222222222,
              "#7201a8"
             ],
             [
              0.3333333333333333,
              "#9c179e"
             ],
             [
              0.4444444444444444,
              "#bd3786"
             ],
             [
              0.5555555555555556,
              "#d8576b"
             ],
             [
              0.6666666666666666,
              "#ed7953"
             ],
             [
              0.7777777777777778,
              "#fb9f3a"
             ],
             [
              0.8888888888888888,
              "#fdca26"
             ],
             [
              1,
              "#f0f921"
             ]
            ],
            "type": "heatmap"
           }
          ],
          "heatmapgl": [
           {
            "colorbar": {
             "outlinewidth": 0,
             "ticks": ""
            },
            "colorscale": [
             [
              0,
              "#0d0887"
             ],
             [
              0.1111111111111111,
              "#46039f"
             ],
             [
              0.2222222222222222,
              "#7201a8"
             ],
             [
              0.3333333333333333,
              "#9c179e"
             ],
             [
              0.4444444444444444,
              "#bd3786"
             ],
             [
              0.5555555555555556,
              "#d8576b"
             ],
             [
              0.6666666666666666,
              "#ed7953"
             ],
             [
              0.7777777777777778,
              "#fb9f3a"
             ],
             [
              0.8888888888888888,
              "#fdca26"
             ],
             [
              1,
              "#f0f921"
             ]
            ],
            "type": "heatmapgl"
           }
          ],
          "histogram": [
           {
            "marker": {
             "pattern": {
              "fillmode": "overlay",
              "size": 10,
              "solidity": 0.2
             }
            },
            "type": "histogram"
           }
          ],
          "histogram2d": [
           {
            "colorbar": {
             "outlinewidth": 0,
             "ticks": ""
            },
            "colorscale": [
             [
              0,
              "#0d0887"
             ],
             [
              0.1111111111111111,
              "#46039f"
             ],
             [
              0.2222222222222222,
              "#7201a8"
             ],
             [
              0.3333333333333333,
              "#9c179e"
             ],
             [
              0.4444444444444444,
              "#bd3786"
             ],
             [
              0.5555555555555556,
              "#d8576b"
             ],
             [
              0.6666666666666666,
              "#ed7953"
             ],
             [
              0.7777777777777778,
              "#fb9f3a"
             ],
             [
              0.8888888888888888,
              "#fdca26"
             ],
             [
              1,
              "#f0f921"
             ]
            ],
            "type": "histogram2d"
           }
          ],
          "histogram2dcontour": [
           {
            "colorbar": {
             "outlinewidth": 0,
             "ticks": ""
            },
            "colorscale": [
             [
              0,
              "#0d0887"
             ],
             [
              0.1111111111111111,
              "#46039f"
             ],
             [
              0.2222222222222222,
              "#7201a8"
             ],
             [
              0.3333333333333333,
              "#9c179e"
             ],
             [
              0.4444444444444444,
              "#bd3786"
             ],
             [
              0.5555555555555556,
              "#d8576b"
             ],
             [
              0.6666666666666666,
              "#ed7953"
             ],
             [
              0.7777777777777778,
              "#fb9f3a"
             ],
             [
              0.8888888888888888,
              "#fdca26"
             ],
             [
              1,
              "#f0f921"
             ]
            ],
            "type": "histogram2dcontour"
           }
          ],
          "mesh3d": [
           {
            "colorbar": {
             "outlinewidth": 0,
             "ticks": ""
            },
            "type": "mesh3d"
           }
          ],
          "parcoords": [
           {
            "line": {
             "colorbar": {
              "outlinewidth": 0,
              "ticks": ""
             }
            },
            "type": "parcoords"
           }
          ],
          "pie": [
           {
            "automargin": true,
            "type": "pie"
           }
          ],
          "scatter": [
           {
            "marker": {
             "colorbar": {
              "outlinewidth": 0,
              "ticks": ""
             }
            },
            "type": "scatter"
           }
          ],
          "scatter3d": [
           {
            "line": {
             "colorbar": {
              "outlinewidth": 0,
              "ticks": ""
             }
            },
            "marker": {
             "colorbar": {
              "outlinewidth": 0,
              "ticks": ""
             }
            },
            "type": "scatter3d"
           }
          ],
          "scattercarpet": [
           {
            "marker": {
             "colorbar": {
              "outlinewidth": 0,
              "ticks": ""
             }
            },
            "type": "scattercarpet"
           }
          ],
          "scattergeo": [
           {
            "marker": {
             "colorbar": {
              "outlinewidth": 0,
              "ticks": ""
             }
            },
            "type": "scattergeo"
           }
          ],
          "scattergl": [
           {
            "marker": {
             "colorbar": {
              "outlinewidth": 0,
              "ticks": ""
             }
            },
            "type": "scattergl"
           }
          ],
          "scattermapbox": [
           {
            "marker": {
             "colorbar": {
              "outlinewidth": 0,
              "ticks": ""
             }
            },
            "type": "scattermapbox"
           }
          ],
          "scatterpolar": [
           {
            "marker": {
             "colorbar": {
              "outlinewidth": 0,
              "ticks": ""
             }
            },
            "type": "scatterpolar"
           }
          ],
          "scatterpolargl": [
           {
            "marker": {
             "colorbar": {
              "outlinewidth": 0,
              "ticks": ""
             }
            },
            "type": "scatterpolargl"
           }
          ],
          "scatterternary": [
           {
            "marker": {
             "colorbar": {
              "outlinewidth": 0,
              "ticks": ""
             }
            },
            "type": "scatterternary"
           }
          ],
          "surface": [
           {
            "colorbar": {
             "outlinewidth": 0,
             "ticks": ""
            },
            "colorscale": [
             [
              0,
              "#0d0887"
             ],
             [
              0.1111111111111111,
              "#46039f"
             ],
             [
              0.2222222222222222,
              "#7201a8"
             ],
             [
              0.3333333333333333,
              "#9c179e"
             ],
             [
              0.4444444444444444,
              "#bd3786"
             ],
             [
              0.5555555555555556,
              "#d8576b"
             ],
             [
              0.6666666666666666,
              "#ed7953"
             ],
             [
              0.7777777777777778,
              "#fb9f3a"
             ],
             [
              0.8888888888888888,
              "#fdca26"
             ],
             [
              1,
              "#f0f921"
             ]
            ],
            "type": "surface"
           }
          ],
          "table": [
           {
            "cells": {
             "fill": {
              "color": "#EBF0F8"
             },
             "line": {
              "color": "white"
             }
            },
            "header": {
             "fill": {
              "color": "#C8D4E3"
             },
             "line": {
              "color": "white"
             }
            },
            "type": "table"
           }
          ]
         },
         "layout": {
          "annotationdefaults": {
           "arrowcolor": "#2a3f5f",
           "arrowhead": 0,
           "arrowwidth": 1
          },
          "autotypenumbers": "strict",
          "coloraxis": {
           "colorbar": {
            "outlinewidth": 0,
            "ticks": ""
           }
          },
          "colorscale": {
           "diverging": [
            [
             0,
             "#8e0152"
            ],
            [
             0.1,
             "#c51b7d"
            ],
            [
             0.2,
             "#de77ae"
            ],
            [
             0.3,
             "#f1b6da"
            ],
            [
             0.4,
             "#fde0ef"
            ],
            [
             0.5,
             "#f7f7f7"
            ],
            [
             0.6,
             "#e6f5d0"
            ],
            [
             0.7,
             "#b8e186"
            ],
            [
             0.8,
             "#7fbc41"
            ],
            [
             0.9,
             "#4d9221"
            ],
            [
             1,
             "#276419"
            ]
           ],
           "sequential": [
            [
             0,
             "#0d0887"
            ],
            [
             0.1111111111111111,
             "#46039f"
            ],
            [
             0.2222222222222222,
             "#7201a8"
            ],
            [
             0.3333333333333333,
             "#9c179e"
            ],
            [
             0.4444444444444444,
             "#bd3786"
            ],
            [
             0.5555555555555556,
             "#d8576b"
            ],
            [
             0.6666666666666666,
             "#ed7953"
            ],
            [
             0.7777777777777778,
             "#fb9f3a"
            ],
            [
             0.8888888888888888,
             "#fdca26"
            ],
            [
             1,
             "#f0f921"
            ]
           ],
           "sequentialminus": [
            [
             0,
             "#0d0887"
            ],
            [
             0.1111111111111111,
             "#46039f"
            ],
            [
             0.2222222222222222,
             "#7201a8"
            ],
            [
             0.3333333333333333,
             "#9c179e"
            ],
            [
             0.4444444444444444,
             "#bd3786"
            ],
            [
             0.5555555555555556,
             "#d8576b"
            ],
            [
             0.6666666666666666,
             "#ed7953"
            ],
            [
             0.7777777777777778,
             "#fb9f3a"
            ],
            [
             0.8888888888888888,
             "#fdca26"
            ],
            [
             1,
             "#f0f921"
            ]
           ]
          },
          "colorway": [
           "#636efa",
           "#EF553B",
           "#00cc96",
           "#ab63fa",
           "#FFA15A",
           "#19d3f3",
           "#FF6692",
           "#B6E880",
           "#FF97FF",
           "#FECB52"
          ],
          "font": {
           "color": "#2a3f5f"
          },
          "geo": {
           "bgcolor": "white",
           "lakecolor": "white",
           "landcolor": "#E5ECF6",
           "showlakes": true,
           "showland": true,
           "subunitcolor": "white"
          },
          "hoverlabel": {
           "align": "left"
          },
          "hovermode": "closest",
          "mapbox": {
           "style": "light"
          },
          "paper_bgcolor": "white",
          "plot_bgcolor": "#E5ECF6",
          "polar": {
           "angularaxis": {
            "gridcolor": "white",
            "linecolor": "white",
            "ticks": ""
           },
           "bgcolor": "#E5ECF6",
           "radialaxis": {
            "gridcolor": "white",
            "linecolor": "white",
            "ticks": ""
           }
          },
          "scene": {
           "xaxis": {
            "backgroundcolor": "#E5ECF6",
            "gridcolor": "white",
            "gridwidth": 2,
            "linecolor": "white",
            "showbackground": true,
            "ticks": "",
            "zerolinecolor": "white"
           },
           "yaxis": {
            "backgroundcolor": "#E5ECF6",
            "gridcolor": "white",
            "gridwidth": 2,
            "linecolor": "white",
            "showbackground": true,
            "ticks": "",
            "zerolinecolor": "white"
           },
           "zaxis": {
            "backgroundcolor": "#E5ECF6",
            "gridcolor": "white",
            "gridwidth": 2,
            "linecolor": "white",
            "showbackground": true,
            "ticks": "",
            "zerolinecolor": "white"
           }
          },
          "shapedefaults": {
           "line": {
            "color": "#2a3f5f"
           }
          },
          "ternary": {
           "aaxis": {
            "gridcolor": "white",
            "linecolor": "white",
            "ticks": ""
           },
           "baxis": {
            "gridcolor": "white",
            "linecolor": "white",
            "ticks": ""
           },
           "bgcolor": "#E5ECF6",
           "caxis": {
            "gridcolor": "white",
            "linecolor": "white",
            "ticks": ""
           }
          },
          "title": {
           "x": 0.05
          },
          "xaxis": {
           "automargin": true,
           "gridcolor": "white",
           "linecolor": "white",
           "ticks": "",
           "title": {
            "standoff": 15
           },
           "zerolinecolor": "white",
           "zerolinewidth": 2
          },
          "yaxis": {
           "automargin": true,
           "gridcolor": "white",
           "linecolor": "white",
           "ticks": "",
           "title": {
            "standoff": 15
           },
           "zerolinecolor": "white",
           "zerolinewidth": 2
          }
         }
        },
        "title": {
         "font": {
          "color": "#4D5663"
         }
        },
        "xaxis": {
         "gridcolor": "#E1E5ED",
         "showgrid": true,
         "tickfont": {
          "color": "#4D5663"
         },
         "title": {
          "font": {
           "color": "#4D5663"
          },
          "text": ""
         },
         "zerolinecolor": "#E1E5ED"
        },
        "yaxis": {
         "gridcolor": "#E1E5ED",
         "showgrid": true,
         "tickfont": {
          "color": "#4D5663"
         },
         "title": {
          "font": {
           "color": "#4D5663"
          },
          "text": ""
         },
         "zerolinecolor": "#E1E5ED"
        }
       }
      },
      "text/html": [
       "<div>                            <div id=\"2baf4b2f-b164-4f3c-8bc2-b8bf4d65ac1f\" class=\"plotly-graph-div\" style=\"height:525px; width:100%;\"></div>            <script type=\"text/javascript\">                require([\"plotly\"], function(Plotly) {                    window.PLOTLYENV=window.PLOTLYENV || {};\n",
       "                    window.PLOTLYENV.BASE_URL='https://plot.ly';                                    if (document.getElementById(\"2baf4b2f-b164-4f3c-8bc2-b8bf4d65ac1f\")) {                    Plotly.newPlot(                        \"2baf4b2f-b164-4f3c-8bc2-b8bf4d65ac1f\",                        [{\"histfunc\":\"count\",\"histnorm\":\"\",\"marker\":{\"color\":\"rgba(255, 153, 51, 1.0)\",\"line\":{\"color\":\"#4D5663\",\"width\":1.3}},\"name\":\"A\",\"nbinsx\":25,\"opacity\":0.8,\"orientation\":\"v\",\"x\":[-0.19028147001615417,0.3282365234795369,1.1399229516160017,-1.5285412750999146,-0.24886967751150038,0.2516245509136745,1.0322355236009921,0.11599439899823132,-0.08552299190870857,-0.392599667290996,1.0483873911059238,-1.3672086527525584,-1.2953691663834808,-0.37398870480107765,0.16094578705735657,0.698636684971462,1.5186664839892636,-0.3023573194571271,0.16832675647100329,0.19054539363793585,-0.05607139243232748,2.49434793378773,-0.530066327400534,0.8770350482674139,0.813057708391379,0.29820305701467675,0.4091606649710951,-0.07901188676813516,-0.32164633372494433,0.9816522229170433,0.6776451608653729,-0.8353341427637865,1.4655636349628942,2.00973210510375,0.34269433539070104,0.6002392765015414,0.7117390891406551,1.0592117801719485,0.7228041981165503,-0.8736465721312067,0.5676459790026085,0.3946690709293932,1.1159103925968208,-1.3623917634657412,0.6708499442787056,2.7667695870284845,0.7208184734528509,-0.5012612586998206,-1.1208824336937548,0.08310983627321097,1.4675574284440516,1.2532790994123408,0.007306638487820633,-0.8858137066431648,0.6242810094285595,-1.204652301395593,-1.1592080495946446,-0.8345983358790608,-0.7876304667169377,0.2226800879806531,0.4415686839563639,-0.269932602749613,-1.203764434204222,0.2411069726838896,-0.09951908368939481,-1.2286268384318006,0.9640396290879625,2.533865804668992,0.6363573751229564,0.6472031726814976,0.3660259455013826,0.9127612805233639,0.17883708005765753,-0.7077382719243921,-0.30885550649166293,1.327815639824272,-1.0254221405341721,-0.9383686643953827,-0.09071737066338419,0.6334847841474687,0.3071825571559436,-0.4857262165088668,-0.016132326632023995,0.5396152536884207,1.2850769796729489,-0.09184295300134171,0.6230902035502993,-0.28510111886218,0.963559438496964,1.7301036427052279,-0.23999086747889203,-0.6634015983510081,0.3389483473977393,1.3015088526277432,0.2801083119723154,-1.0717367219346814,0.6430291779034134,1.0587542570407236,-1.8666690899056997,0.19629610393134483],\"type\":\"histogram\"},{\"histfunc\":\"count\",\"histnorm\":\"\",\"marker\":{\"color\":\"rgba(55, 128, 191, 1.0)\",\"line\":{\"color\":\"#4D5663\",\"width\":1.3}},\"name\":\"B\",\"nbinsx\":25,\"opacity\":0.8,\"orientation\":\"v\",\"x\":[-0.8078877810272339,-0.6448885204384242,-0.7455902419946399,-1.3050276821950197,0.5003808807272312,-0.2544095597272951,-1.3513709895354138,-2.5602738161529337,1.8961054211952009,1.7143645670390613,0.38789704551642606,-0.43216641964758024,-0.121487555297366,0.4886943348247054,-0.531024084846558,1.019974525402949,-1.1265502671384462,-0.11944479093297246,0.07992209285850868,0.35694133719785076,1.5133316673425885,0.9526731400979774,2.1783088334956022,-0.5359561007282527,0.3879712182730429,-0.5599572053329858,0.7535131619955537,0.1737238244194225,-0.1398249931343527,-0.7847908485735925,-0.7389327805747367,0.24358444714280714,1.5261767506458273,0.06163695959046099,-0.4101352328979562,-0.09324634096394105,0.6528869126446963,0.01814734085788372,-1.3547064835577245,-0.6151383657756476,-0.028002153962266033,-1.0794710885393703,0.10420625617257966,0.0016299303751393895,0.20635200140925392,-2.233926947939479,-1.0973127325260994,-0.4408212095555347,1.22408852383261,0.13518041692760324,-0.6380915291645423,-1.0077051393357612,-0.2287842060650193,-1.4542627061984326,-0.8098208866087253,-0.023631771936152825,0.25512205354700956,-0.4367753483304965,-1.1077991003347287,1.5311400432991595,-1.2024989249956632,0.12192266114566915,0.35121591416736425,0.528914304859543,-0.04869540341544756,0.9691544110353982,-0.5742621312272939,-0.38144095937602707,2.0948824404994784,-0.2633073152560307,0.4376908561486388,-1.262068966059568,1.2029595169014162,0.6812982907014478,0.14481035473742293,-0.9025277487190613,-0.033162850514684906,-0.7212577482125213,-1.2129688234713587,0.10702847749976899,-0.5944521348825197,-0.22021650672250928,-0.08777301917765741,0.49809817622022645,-0.38138542032541234,2.2291460401740446,0.22260641858867825,-0.6572688729049547,0.21066253910388472,-1.9777342722498183,0.3060242902498709,-0.6017968715314095,1.7495494270187508,0.41260960952983505,-0.6762840831291067,1.0885603890399016,1.3670041388951435,0.4449508775116109,0.4117141563361959,-0.6129289668954218],\"type\":\"histogram\"},{\"histfunc\":\"count\",\"histnorm\":\"\",\"marker\":{\"color\":\"rgba(50, 171, 96, 1.0)\",\"line\":{\"color\":\"#4D5663\",\"width\":1.3}},\"name\":\"C\",\"nbinsx\":25,\"opacity\":0.8,\"orientation\":\"v\",\"x\":[-0.28087858577267105,-0.004940607057401839,-0.18230220142911813,0.2600963731552484,-2.188017212805162,-1.0898037238817064,0.8029079536160184,0.39290560201141383,-0.7824771205914149,0.09623173110212756,0.9068065372365814,-0.3989989888769911,-0.0641446346766752,-0.5345419155492223,0.32796331193357764,-0.5767538701014241,-0.10512746808304435,0.9172381947599746,-0.4472695304778123,0.7102683856385797,1.6939178797464913,2.3266870929170236,-0.20697932602210786,0.983827831881114,-2.0426268092837243,-0.4349401334944814,1.6547889256895636,-0.31154737802476706,-1.0900054140495148,-0.5300848153772204,0.02164567537324387,0.6273332422749028,-1.9773216115130865,0.6687587249854554,-0.06504102004656755,-0.34618824562897654,-0.3199115087635271,-0.4987996519933438,0.23575723882577956,0.7597754367105237,0.349048519111151,1.2015268322994783,1.2159218440959862,-0.42192591804738677,-0.8944245463342192,-0.435919363532489,1.397820879769164,-1.560418050372487,-1.1788409473597223,-0.4986100474691056,-0.6466678757707934,0.5776410340113322,-1.6148839333548723,0.6886420824906866,-0.3328314224856059,0.5363702326516426,0.6036522566095408,-1.7863633611315732,-0.3784178651278131,-0.27019072144003586,0.41899925622522255,-0.44459848135470603,0.9276848536350926,-0.05560740096298692,0.9330717802136188,0.19933373068207802,0.06307907081003797,-1.0126845508220041,-0.36590596742424647,-1.1658403037968499,-1.145026708386471,-1.4374897359308019,0.31196568286651527,-1.4022129995090378,0.43145008296749926,0.15936536072957974,0.1571961245450657,-1.3657685562718185,1.4992195393508299,0.13302405909411777,0.6900814716829894,0.4142888696248817,-0.28001864824131567,-1.2999007434589738,-0.43031486383923556,-0.9694286604561002,0.42547381984692245,0.7778766895492566,1.0116733908927231,-1.1313424765515263,-0.5505972224035046,-1.8466325055319044,-0.90990122673788,-0.5374142307935139,-0.13444784767642923,0.9257971446921365,-0.9524785152276847,0.8823242234454758,-1.1309090674165982,-1.2869116132712173],\"type\":\"histogram\"},{\"histfunc\":\"count\",\"histnorm\":\"\",\"marker\":{\"color\":\"rgba(128, 0, 128, 1.0)\",\"line\":{\"color\":\"#4D5663\",\"width\":1.3}},\"name\":\"D\",\"nbinsx\":25,\"opacity\":0.8,\"orientation\":\"v\",\"x\":[0.3288885223174926,-0.05362057683546842,0.6944864221692295,0.02252577433779823,0.13647546453678722,-0.10806801637002397,-0.30864646770180626,0.33901164794495464,0.060188705738250456,0.19380195170155903,-0.522348080237052,0.6193212852322433,0.04404147779042312,-0.5786956835065248,-0.9326312727624145,-1.1077031636459158,0.8222129392917609,-0.7151429012834042,-0.4076584263131162,0.380535345843578,1.9331246815616225,0.8854566533885581,0.9250097363967863,-1.2250734639959535,-2.22671463804753,-1.5742891094053724,0.978683053819982,-1.136319691015506,-1.1137441313670016,0.436318837908886,0.541594724232907,0.9779228111714007,0.606322701056323,-0.89018875312323,-1.2540749488696816,0.0036231336181717475,-0.5862125200271961,-0.5496272785954898,-1.3808661187077242,-0.41911265700373646,-0.9893833037429732,-0.02227739253879558,-1.2109051787349658,0.2187550645508682,0.29539605379224376,-0.3264467139879857,0.6011974292790989,-0.05228156116144349,0.7624832361556565,-0.6702572568013639,-0.6785139300205213,0.3011819215746909,-0.020108136336801797,-0.4087092290165143,0.00698854161160987,1.20481109831026,-2.4818274281753863,0.319098393424909,-0.9898309304204703,0.2952005681553578,0.9619370070172015,-0.40093747682141156,-0.11952508572061894,1.1081954282248092,-0.1806524932116476,0.06261944968811173,0.03225926799516013,0.41594280093698044,-0.9657416824739882,-0.04405418685657381,0.05281557500120534,-1.5455467298149086,-1.3537818294467925,0.8392875684656593,0.7571304481994662,1.0988601549471448,-0.7876598489602764,2.0604966990745828,0.5946780208209356,-0.23702779487902637,0.9058986089027272,-1.0756265998225543,-0.05533987071067795,-1.0565996076695996,1.0413939228265987,-1.2620095908721358,1.1426775965278135,0.25579441301365924,-0.4319807601407964,-0.7550353606457672,-0.05815106441335786,0.6190864775229382,0.9399911697520962,-1.4366566678480763,-0.43104599207293115,-1.073006647715606,-1.0116719874581341,-0.0044088648192909495,-0.2723208922297199,-1.4184543082935284],\"type\":\"histogram\"}],                        {\"barmode\":\"overlay\",\"legend\":{\"bgcolor\":\"#F5F6F9\",\"font\":{\"color\":\"#4D5663\"}},\"paper_bgcolor\":\"#F5F6F9\",\"plot_bgcolor\":\"#F5F6F9\",\"template\":{\"data\":{\"barpolar\":[{\"marker\":{\"line\":{\"color\":\"#E5ECF6\",\"width\":0.5},\"pattern\":{\"fillmode\":\"overlay\",\"size\":10,\"solidity\":0.2}},\"type\":\"barpolar\"}],\"bar\":[{\"error_x\":{\"color\":\"#2a3f5f\"},\"error_y\":{\"color\":\"#2a3f5f\"},\"marker\":{\"line\":{\"color\":\"#E5ECF6\",\"width\":0.5},\"pattern\":{\"fillmode\":\"overlay\",\"size\":10,\"solidity\":0.2}},\"type\":\"bar\"}],\"carpet\":[{\"aaxis\":{\"endlinecolor\":\"#2a3f5f\",\"gridcolor\":\"white\",\"linecolor\":\"white\",\"minorgridcolor\":\"white\",\"startlinecolor\":\"#2a3f5f\"},\"baxis\":{\"endlinecolor\":\"#2a3f5f\",\"gridcolor\":\"white\",\"linecolor\":\"white\",\"minorgridcolor\":\"white\",\"startlinecolor\":\"#2a3f5f\"},\"type\":\"carpet\"}],\"choropleth\":[{\"colorbar\":{\"outlinewidth\":0,\"ticks\":\"\"},\"type\":\"choropleth\"}],\"contourcarpet\":[{\"colorbar\":{\"outlinewidth\":0,\"ticks\":\"\"},\"type\":\"contourcarpet\"}],\"contour\":[{\"colorbar\":{\"outlinewidth\":0,\"ticks\":\"\"},\"colorscale\":[[0.0,\"#0d0887\"],[0.1111111111111111,\"#46039f\"],[0.2222222222222222,\"#7201a8\"],[0.3333333333333333,\"#9c179e\"],[0.4444444444444444,\"#bd3786\"],[0.5555555555555556,\"#d8576b\"],[0.6666666666666666,\"#ed7953\"],[0.7777777777777778,\"#fb9f3a\"],[0.8888888888888888,\"#fdca26\"],[1.0,\"#f0f921\"]],\"type\":\"contour\"}],\"heatmapgl\":[{\"colorbar\":{\"outlinewidth\":0,\"ticks\":\"\"},\"colorscale\":[[0.0,\"#0d0887\"],[0.1111111111111111,\"#46039f\"],[0.2222222222222222,\"#7201a8\"],[0.3333333333333333,\"#9c179e\"],[0.4444444444444444,\"#bd3786\"],[0.5555555555555556,\"#d8576b\"],[0.6666666666666666,\"#ed7953\"],[0.7777777777777778,\"#fb9f3a\"],[0.8888888888888888,\"#fdca26\"],[1.0,\"#f0f921\"]],\"type\":\"heatmapgl\"}],\"heatmap\":[{\"colorbar\":{\"outlinewidth\":0,\"ticks\":\"\"},\"colorscale\":[[0.0,\"#0d0887\"],[0.1111111111111111,\"#46039f\"],[0.2222222222222222,\"#7201a8\"],[0.3333333333333333,\"#9c179e\"],[0.4444444444444444,\"#bd3786\"],[0.5555555555555556,\"#d8576b\"],[0.6666666666666666,\"#ed7953\"],[0.7777777777777778,\"#fb9f3a\"],[0.8888888888888888,\"#fdca26\"],[1.0,\"#f0f921\"]],\"type\":\"heatmap\"}],\"histogram2dcontour\":[{\"colorbar\":{\"outlinewidth\":0,\"ticks\":\"\"},\"colorscale\":[[0.0,\"#0d0887\"],[0.1111111111111111,\"#46039f\"],[0.2222222222222222,\"#7201a8\"],[0.3333333333333333,\"#9c179e\"],[0.4444444444444444,\"#bd3786\"],[0.5555555555555556,\"#d8576b\"],[0.6666666666666666,\"#ed7953\"],[0.7777777777777778,\"#fb9f3a\"],[0.8888888888888888,\"#fdca26\"],[1.0,\"#f0f921\"]],\"type\":\"histogram2dcontour\"}],\"histogram2d\":[{\"colorbar\":{\"outlinewidth\":0,\"ticks\":\"\"},\"colorscale\":[[0.0,\"#0d0887\"],[0.1111111111111111,\"#46039f\"],[0.2222222222222222,\"#7201a8\"],[0.3333333333333333,\"#9c179e\"],[0.4444444444444444,\"#bd3786\"],[0.5555555555555556,\"#d8576b\"],[0.6666666666666666,\"#ed7953\"],[0.7777777777777778,\"#fb9f3a\"],[0.8888888888888888,\"#fdca26\"],[1.0,\"#f0f921\"]],\"type\":\"histogram2d\"}],\"histogram\":[{\"marker\":{\"pattern\":{\"fillmode\":\"overlay\",\"size\":10,\"solidity\":0.2}},\"type\":\"histogram\"}],\"mesh3d\":[{\"colorbar\":{\"outlinewidth\":0,\"ticks\":\"\"},\"type\":\"mesh3d\"}],\"parcoords\":[{\"line\":{\"colorbar\":{\"outlinewidth\":0,\"ticks\":\"\"}},\"type\":\"parcoords\"}],\"pie\":[{\"automargin\":true,\"type\":\"pie\"}],\"scatter3d\":[{\"line\":{\"colorbar\":{\"outlinewidth\":0,\"ticks\":\"\"}},\"marker\":{\"colorbar\":{\"outlinewidth\":0,\"ticks\":\"\"}},\"type\":\"scatter3d\"}],\"scattercarpet\":[{\"marker\":{\"colorbar\":{\"outlinewidth\":0,\"ticks\":\"\"}},\"type\":\"scattercarpet\"}],\"scattergeo\":[{\"marker\":{\"colorbar\":{\"outlinewidth\":0,\"ticks\":\"\"}},\"type\":\"scattergeo\"}],\"scattergl\":[{\"marker\":{\"colorbar\":{\"outlinewidth\":0,\"ticks\":\"\"}},\"type\":\"scattergl\"}],\"scattermapbox\":[{\"marker\":{\"colorbar\":{\"outlinewidth\":0,\"ticks\":\"\"}},\"type\":\"scattermapbox\"}],\"scatterpolargl\":[{\"marker\":{\"colorbar\":{\"outlinewidth\":0,\"ticks\":\"\"}},\"type\":\"scatterpolargl\"}],\"scatterpolar\":[{\"marker\":{\"colorbar\":{\"outlinewidth\":0,\"ticks\":\"\"}},\"type\":\"scatterpolar\"}],\"scatter\":[{\"marker\":{\"colorbar\":{\"outlinewidth\":0,\"ticks\":\"\"}},\"type\":\"scatter\"}],\"scatterternary\":[{\"marker\":{\"colorbar\":{\"outlinewidth\":0,\"ticks\":\"\"}},\"type\":\"scatterternary\"}],\"surface\":[{\"colorbar\":{\"outlinewidth\":0,\"ticks\":\"\"},\"colorscale\":[[0.0,\"#0d0887\"],[0.1111111111111111,\"#46039f\"],[0.2222222222222222,\"#7201a8\"],[0.3333333333333333,\"#9c179e\"],[0.4444444444444444,\"#bd3786\"],[0.5555555555555556,\"#d8576b\"],[0.6666666666666666,\"#ed7953\"],[0.7777777777777778,\"#fb9f3a\"],[0.8888888888888888,\"#fdca26\"],[1.0,\"#f0f921\"]],\"type\":\"surface\"}],\"table\":[{\"cells\":{\"fill\":{\"color\":\"#EBF0F8\"},\"line\":{\"color\":\"white\"}},\"header\":{\"fill\":{\"color\":\"#C8D4E3\"},\"line\":{\"color\":\"white\"}},\"type\":\"table\"}]},\"layout\":{\"annotationdefaults\":{\"arrowcolor\":\"#2a3f5f\",\"arrowhead\":0,\"arrowwidth\":1},\"autotypenumbers\":\"strict\",\"coloraxis\":{\"colorbar\":{\"outlinewidth\":0,\"ticks\":\"\"}},\"colorscale\":{\"diverging\":[[0,\"#8e0152\"],[0.1,\"#c51b7d\"],[0.2,\"#de77ae\"],[0.3,\"#f1b6da\"],[0.4,\"#fde0ef\"],[0.5,\"#f7f7f7\"],[0.6,\"#e6f5d0\"],[0.7,\"#b8e186\"],[0.8,\"#7fbc41\"],[0.9,\"#4d9221\"],[1,\"#276419\"]],\"sequential\":[[0.0,\"#0d0887\"],[0.1111111111111111,\"#46039f\"],[0.2222222222222222,\"#7201a8\"],[0.3333333333333333,\"#9c179e\"],[0.4444444444444444,\"#bd3786\"],[0.5555555555555556,\"#d8576b\"],[0.6666666666666666,\"#ed7953\"],[0.7777777777777778,\"#fb9f3a\"],[0.8888888888888888,\"#fdca26\"],[1.0,\"#f0f921\"]],\"sequentialminus\":[[0.0,\"#0d0887\"],[0.1111111111111111,\"#46039f\"],[0.2222222222222222,\"#7201a8\"],[0.3333333333333333,\"#9c179e\"],[0.4444444444444444,\"#bd3786\"],[0.5555555555555556,\"#d8576b\"],[0.6666666666666666,\"#ed7953\"],[0.7777777777777778,\"#fb9f3a\"],[0.8888888888888888,\"#fdca26\"],[1.0,\"#f0f921\"]]},\"colorway\":[\"#636efa\",\"#EF553B\",\"#00cc96\",\"#ab63fa\",\"#FFA15A\",\"#19d3f3\",\"#FF6692\",\"#B6E880\",\"#FF97FF\",\"#FECB52\"],\"font\":{\"color\":\"#2a3f5f\"},\"geo\":{\"bgcolor\":\"white\",\"lakecolor\":\"white\",\"landcolor\":\"#E5ECF6\",\"showlakes\":true,\"showland\":true,\"subunitcolor\":\"white\"},\"hoverlabel\":{\"align\":\"left\"},\"hovermode\":\"closest\",\"mapbox\":{\"style\":\"light\"},\"paper_bgcolor\":\"white\",\"plot_bgcolor\":\"#E5ECF6\",\"polar\":{\"angularaxis\":{\"gridcolor\":\"white\",\"linecolor\":\"white\",\"ticks\":\"\"},\"bgcolor\":\"#E5ECF6\",\"radialaxis\":{\"gridcolor\":\"white\",\"linecolor\":\"white\",\"ticks\":\"\"}},\"scene\":{\"xaxis\":{\"backgroundcolor\":\"#E5ECF6\",\"gridcolor\":\"white\",\"gridwidth\":2,\"linecolor\":\"white\",\"showbackground\":true,\"ticks\":\"\",\"zerolinecolor\":\"white\"},\"yaxis\":{\"backgroundcolor\":\"#E5ECF6\",\"gridcolor\":\"white\",\"gridwidth\":2,\"linecolor\":\"white\",\"showbackground\":true,\"ticks\":\"\",\"zerolinecolor\":\"white\"},\"zaxis\":{\"backgroundcolor\":\"#E5ECF6\",\"gridcolor\":\"white\",\"gridwidth\":2,\"linecolor\":\"white\",\"showbackground\":true,\"ticks\":\"\",\"zerolinecolor\":\"white\"}},\"shapedefaults\":{\"line\":{\"color\":\"#2a3f5f\"}},\"ternary\":{\"aaxis\":{\"gridcolor\":\"white\",\"linecolor\":\"white\",\"ticks\":\"\"},\"baxis\":{\"gridcolor\":\"white\",\"linecolor\":\"white\",\"ticks\":\"\"},\"bgcolor\":\"#E5ECF6\",\"caxis\":{\"gridcolor\":\"white\",\"linecolor\":\"white\",\"ticks\":\"\"}},\"title\":{\"x\":0.05},\"xaxis\":{\"automargin\":true,\"gridcolor\":\"white\",\"linecolor\":\"white\",\"ticks\":\"\",\"title\":{\"standoff\":15},\"zerolinecolor\":\"white\",\"zerolinewidth\":2},\"yaxis\":{\"automargin\":true,\"gridcolor\":\"white\",\"linecolor\":\"white\",\"ticks\":\"\",\"title\":{\"standoff\":15},\"zerolinecolor\":\"white\",\"zerolinewidth\":2}}},\"title\":{\"font\":{\"color\":\"#4D5663\"}},\"xaxis\":{\"gridcolor\":\"#E1E5ED\",\"showgrid\":true,\"tickfont\":{\"color\":\"#4D5663\"},\"title\":{\"font\":{\"color\":\"#4D5663\"},\"text\":\"\"},\"zerolinecolor\":\"#E1E5ED\"},\"yaxis\":{\"gridcolor\":\"#E1E5ED\",\"showgrid\":true,\"tickfont\":{\"color\":\"#4D5663\"},\"title\":{\"font\":{\"color\":\"#4D5663\"},\"text\":\"\"},\"zerolinecolor\":\"#E1E5ED\"}},                        {\"showLink\": true, \"linkText\": \"Export to plot.ly\", \"plotlyServerURL\": \"https://plot.ly\", \"responsive\": true}                    ).then(function(){\n",
       "                            \n",
       "var gd = document.getElementById('2baf4b2f-b164-4f3c-8bc2-b8bf4d65ac1f');\n",
       "var x = new MutationObserver(function (mutations, observer) {{\n",
       "        var display = window.getComputedStyle(gd).display;\n",
       "        if (!display || display === 'none') {{\n",
       "            console.log([gd, 'removed!']);\n",
       "            Plotly.purge(gd);\n",
       "            observer.disconnect();\n",
       "        }}\n",
       "}});\n",
       "\n",
       "// Listen for the removal of the full notebook cells\n",
       "var notebookContainer = gd.closest('#notebook-container');\n",
       "if (notebookContainer) {{\n",
       "    x.observe(notebookContainer, {childList: true});\n",
       "}}\n",
       "\n",
       "// Listen for the clearing of the current output cell\n",
       "var outputEl = gd.closest('.output');\n",
       "if (outputEl) {{\n",
       "    x.observe(outputEl, {childList: true});\n",
       "}}\n",
       "\n",
       "                        })                };                });            </script>        </div>"
      ]
     },
     "metadata": {},
     "output_type": "display_data"
    }
   ],
   "source": [
    "df.iplot(kind = 'hist', bins = 25)"
   ]
  },
  {
   "cell_type": "markdown",
   "metadata": {},
   "source": [
    "#### Spread\n",
    "\n",
    "- Useful for stock data :)"
   ]
  },
  {
   "cell_type": "code",
   "execution_count": 40,
   "metadata": {},
   "outputs": [
    {
     "name": "stderr",
     "output_type": "stream",
     "text": [
      "C:\\Users\\PC\\anaconda3\\lib\\site-packages\\cufflinks\\plotlytools.py:849: FutureWarning:\n",
      "\n",
      "The pandas.np module is deprecated and will be removed from pandas in a future version. Import numpy directly instead\n",
      "\n",
      "C:\\Users\\PC\\anaconda3\\lib\\site-packages\\cufflinks\\plotlytools.py:850: FutureWarning:\n",
      "\n",
      "The pandas.np module is deprecated and will be removed from pandas in a future version. Import numpy directly instead\n",
      "\n"
     ]
    },
    {
     "data": {
      "application/vnd.plotly.v1+json": {
       "config": {
        "linkText": "Export to plot.ly",
        "plotlyServerURL": "https://plot.ly",
        "showLink": true
       },
       "data": [
        {
         "line": {
          "color": "rgba(255, 153, 51, 1.0)",
          "dash": "solid",
          "shape": "linear",
          "width": 1.3
         },
         "mode": "lines",
         "name": "A",
         "text": "",
         "type": "scatter",
         "x": [
          0,
          1,
          2,
          3,
          4,
          5,
          6,
          7,
          8,
          9,
          10,
          11,
          12,
          13,
          14,
          15,
          16,
          17,
          18,
          19,
          20,
          21,
          22,
          23,
          24,
          25,
          26,
          27,
          28,
          29,
          30,
          31,
          32,
          33,
          34,
          35,
          36,
          37,
          38,
          39,
          40,
          41,
          42,
          43,
          44,
          45,
          46,
          47,
          48,
          49,
          50,
          51,
          52,
          53,
          54,
          55,
          56,
          57,
          58,
          59,
          60,
          61,
          62,
          63,
          64,
          65,
          66,
          67,
          68,
          69,
          70,
          71,
          72,
          73,
          74,
          75,
          76,
          77,
          78,
          79,
          80,
          81,
          82,
          83,
          84,
          85,
          86,
          87,
          88,
          89,
          90,
          91,
          92,
          93,
          94,
          95,
          96,
          97,
          98,
          99
         ],
         "y": [
          -0.19028147001615417,
          0.3282365234795369,
          1.1399229516160017,
          -1.5285412750999146,
          -0.24886967751150038,
          0.2516245509136745,
          1.0322355236009921,
          0.11599439899823132,
          -0.08552299190870857,
          -0.392599667290996,
          1.0483873911059238,
          -1.3672086527525584,
          -1.2953691663834808,
          -0.37398870480107765,
          0.16094578705735657,
          0.698636684971462,
          1.5186664839892636,
          -0.3023573194571271,
          0.16832675647100329,
          0.19054539363793585,
          -0.05607139243232748,
          2.49434793378773,
          -0.530066327400534,
          0.8770350482674139,
          0.813057708391379,
          0.29820305701467675,
          0.4091606649710951,
          -0.07901188676813516,
          -0.32164633372494433,
          0.9816522229170433,
          0.6776451608653729,
          -0.8353341427637865,
          1.4655636349628942,
          2.00973210510375,
          0.34269433539070104,
          0.6002392765015414,
          0.7117390891406551,
          1.0592117801719485,
          0.7228041981165503,
          -0.8736465721312067,
          0.5676459790026085,
          0.3946690709293932,
          1.1159103925968208,
          -1.3623917634657412,
          0.6708499442787056,
          2.7667695870284845,
          0.7208184734528509,
          -0.5012612586998206,
          -1.1208824336937548,
          0.08310983627321097,
          1.4675574284440516,
          1.2532790994123408,
          0.007306638487820633,
          -0.8858137066431648,
          0.6242810094285595,
          -1.204652301395593,
          -1.1592080495946446,
          -0.8345983358790608,
          -0.7876304667169377,
          0.2226800879806531,
          0.4415686839563639,
          -0.269932602749613,
          -1.203764434204222,
          0.2411069726838896,
          -0.09951908368939481,
          -1.2286268384318006,
          0.9640396290879625,
          2.533865804668992,
          0.6363573751229564,
          0.6472031726814976,
          0.3660259455013826,
          0.9127612805233639,
          0.17883708005765753,
          -0.7077382719243921,
          -0.30885550649166293,
          1.327815639824272,
          -1.0254221405341721,
          -0.9383686643953827,
          -0.09071737066338419,
          0.6334847841474687,
          0.3071825571559436,
          -0.4857262165088668,
          -0.016132326632023995,
          0.5396152536884207,
          1.2850769796729489,
          -0.09184295300134171,
          0.6230902035502993,
          -0.28510111886218,
          0.963559438496964,
          1.7301036427052279,
          -0.23999086747889203,
          -0.6634015983510081,
          0.3389483473977393,
          1.3015088526277432,
          0.2801083119723154,
          -1.0717367219346814,
          0.6430291779034134,
          1.0587542570407236,
          -1.8666690899056997,
          0.19629610393134483
         ]
        },
        {
         "line": {
          "color": "rgba(55, 128, 191, 1.0)",
          "dash": "solid",
          "shape": "linear",
          "width": 1.3
         },
         "mode": "lines",
         "name": "B",
         "text": "",
         "type": "scatter",
         "x": [
          0,
          1,
          2,
          3,
          4,
          5,
          6,
          7,
          8,
          9,
          10,
          11,
          12,
          13,
          14,
          15,
          16,
          17,
          18,
          19,
          20,
          21,
          22,
          23,
          24,
          25,
          26,
          27,
          28,
          29,
          30,
          31,
          32,
          33,
          34,
          35,
          36,
          37,
          38,
          39,
          40,
          41,
          42,
          43,
          44,
          45,
          46,
          47,
          48,
          49,
          50,
          51,
          52,
          53,
          54,
          55,
          56,
          57,
          58,
          59,
          60,
          61,
          62,
          63,
          64,
          65,
          66,
          67,
          68,
          69,
          70,
          71,
          72,
          73,
          74,
          75,
          76,
          77,
          78,
          79,
          80,
          81,
          82,
          83,
          84,
          85,
          86,
          87,
          88,
          89,
          90,
          91,
          92,
          93,
          94,
          95,
          96,
          97,
          98,
          99
         ],
         "y": [
          -0.8078877810272339,
          -0.6448885204384242,
          -0.7455902419946399,
          -1.3050276821950197,
          0.5003808807272312,
          -0.2544095597272951,
          -1.3513709895354138,
          -2.5602738161529337,
          1.8961054211952009,
          1.7143645670390613,
          0.38789704551642606,
          -0.43216641964758024,
          -0.121487555297366,
          0.4886943348247054,
          -0.531024084846558,
          1.019974525402949,
          -1.1265502671384462,
          -0.11944479093297246,
          0.07992209285850868,
          0.35694133719785076,
          1.5133316673425885,
          0.9526731400979774,
          2.1783088334956022,
          -0.5359561007282527,
          0.3879712182730429,
          -0.5599572053329858,
          0.7535131619955537,
          0.1737238244194225,
          -0.1398249931343527,
          -0.7847908485735925,
          -0.7389327805747367,
          0.24358444714280714,
          1.5261767506458273,
          0.06163695959046099,
          -0.4101352328979562,
          -0.09324634096394105,
          0.6528869126446963,
          0.01814734085788372,
          -1.3547064835577245,
          -0.6151383657756476,
          -0.028002153962266033,
          -1.0794710885393703,
          0.10420625617257966,
          0.0016299303751393895,
          0.20635200140925392,
          -2.233926947939479,
          -1.0973127325260994,
          -0.4408212095555347,
          1.22408852383261,
          0.13518041692760324,
          -0.6380915291645423,
          -1.0077051393357612,
          -0.2287842060650193,
          -1.4542627061984326,
          -0.8098208866087253,
          -0.023631771936152825,
          0.25512205354700956,
          -0.4367753483304965,
          -1.1077991003347287,
          1.5311400432991595,
          -1.2024989249956632,
          0.12192266114566915,
          0.35121591416736425,
          0.528914304859543,
          -0.04869540341544756,
          0.9691544110353982,
          -0.5742621312272939,
          -0.38144095937602707,
          2.0948824404994784,
          -0.2633073152560307,
          0.4376908561486388,
          -1.262068966059568,
          1.2029595169014162,
          0.6812982907014478,
          0.14481035473742293,
          -0.9025277487190613,
          -0.033162850514684906,
          -0.7212577482125213,
          -1.2129688234713587,
          0.10702847749976899,
          -0.5944521348825197,
          -0.22021650672250928,
          -0.08777301917765741,
          0.49809817622022645,
          -0.38138542032541234,
          2.2291460401740446,
          0.22260641858867825,
          -0.6572688729049547,
          0.21066253910388472,
          -1.9777342722498183,
          0.3060242902498709,
          -0.6017968715314095,
          1.7495494270187508,
          0.41260960952983505,
          -0.6762840831291067,
          1.0885603890399016,
          1.3670041388951435,
          0.4449508775116109,
          0.4117141563361959,
          -0.6129289668954218
         ]
        },
        {
         "connectgaps": false,
         "fill": "tozeroy",
         "line": {
          "color": "green",
          "dash": "solid",
          "shape": "linear",
          "width": 0.5
         },
         "mode": "lines",
         "name": "Spread",
         "showlegend": false,
         "type": "scatter",
         "x": [
          0,
          1,
          2,
          3,
          4,
          5,
          6,
          7,
          8,
          9,
          10,
          11,
          12,
          13,
          14,
          15,
          16,
          17,
          18,
          19,
          20,
          21,
          22,
          23,
          24,
          25,
          26,
          27,
          28,
          29,
          30,
          31,
          32,
          33,
          34,
          35,
          36,
          37,
          38,
          39,
          40,
          41,
          42,
          43,
          44,
          45,
          46,
          47,
          48,
          49,
          50,
          51,
          52,
          53,
          54,
          55,
          56,
          57,
          58,
          59,
          60,
          61,
          62,
          63,
          64,
          65,
          66,
          67,
          68,
          69,
          70,
          71,
          72,
          73,
          74,
          75,
          76,
          77,
          78,
          79,
          80,
          81,
          82,
          83,
          84,
          85,
          86,
          87,
          88,
          89,
          90,
          91,
          92,
          93,
          94,
          95,
          96,
          97,
          98,
          99
         ],
         "xaxis": "x2",
         "y": [
          0.6176063110110798,
          0.9731250439179611,
          1.8855131936106415,
          "",
          "",
          0.5060341106409696,
          2.3836065131364057,
          2.676268215151165,
          "",
          "",
          0.6604903455894977,
          "",
          "",
          "",
          0.6919698719039147,
          "",
          2.64521675112771,
          "",
          0.0884046636124946,
          "",
          "",
          1.5416747936897526,
          "",
          1.4129911489956666,
          0.42508649011833616,
          0.8581602623476625,
          "",
          "",
          "",
          1.7664430714906358,
          1.4165779414401096,
          "",
          "",
          1.9480951455132893,
          0.7528295682886572,
          0.6934856174654824,
          0.05885217649595875,
          1.0410644393140647,
          2.0775106816742746,
          "",
          0.5956481329648745,
          1.4741401594687635,
          1.0117041364242412,
          "",
          0.4644979428694517,
          5.000696534967964,
          1.8181312059789503,
          "",
          "",
          "",
          2.1056489576085937,
          2.260984238748102,
          0.23609084455283993,
          0.5684489995552677,
          1.4341018960372849,
          "",
          "",
          "",
          0.320168633617791,
          "",
          1.6440676089520272,
          "",
          "",
          "",
          "",
          "",
          1.5383017603152562,
          2.915306764045019,
          "",
          0.9105104879375283,
          "",
          2.174830246582932,
          "",
          "",
          "",
          2.230343388543333,
          "",
          "",
          1.1222514528079746,
          0.5264563066476997,
          0.9016346920384632,
          "",
          0.07164069254563342,
          0.04151707746819422,
          1.6664623999983612,
          "",
          0.40048378496162107,
          0.37216775404277475,
          0.7528968993930794,
          3.7078379149550464,
          "",
          "",
          "",
          0.8888992430979081,
          0.9563923951014222,
          "",
          "",
          0.6138033795291127,
          "",
          0.8092250708267665
         ],
         "yaxis": "y2"
        },
        {
         "connectgaps": false,
         "fill": "tozeroy",
         "line": {
          "color": "red",
          "dash": "solid",
          "shape": "linear",
          "width": 0.5
         },
         "mode": "lines",
         "name": "Spread",
         "showlegend": false,
         "type": "scatter",
         "x": [
          0,
          1,
          2,
          3,
          4,
          5,
          6,
          7,
          8,
          9,
          10,
          11,
          12,
          13,
          14,
          15,
          16,
          17,
          18,
          19,
          20,
          21,
          22,
          23,
          24,
          25,
          26,
          27,
          28,
          29,
          30,
          31,
          32,
          33,
          34,
          35,
          36,
          37,
          38,
          39,
          40,
          41,
          42,
          43,
          44,
          45,
          46,
          47,
          48,
          49,
          50,
          51,
          52,
          53,
          54,
          55,
          56,
          57,
          58,
          59,
          60,
          61,
          62,
          63,
          64,
          65,
          66,
          67,
          68,
          69,
          70,
          71,
          72,
          73,
          74,
          75,
          76,
          77,
          78,
          79,
          80,
          81,
          82,
          83,
          84,
          85,
          86,
          87,
          88,
          89,
          90,
          91,
          92,
          93,
          94,
          95,
          96,
          97,
          98,
          99
         ],
         "xaxis": "x2",
         "y": [
          "",
          "",
          "",
          -0.2235135929048948,
          -0.7492505582387315,
          "",
          "",
          "",
          -1.9816284131039095,
          -2.106964234330057,
          "",
          -0.9350422331049781,
          -1.1738816110861148,
          -0.8626830396257831,
          "",
          -0.32133784043148705,
          "",
          -0.18291252852415468,
          "",
          -0.1663959435599149,
          -1.569403059774916,
          "",
          -2.708375160896136,
          "",
          "",
          "",
          -0.34435249702445864,
          -0.25273571118755767,
          -0.18182134059059163,
          "",
          "",
          -1.0789185899065936,
          -0.06061311568293304,
          "",
          "",
          "",
          "",
          "",
          "",
          -0.25850820635555904,
          "",
          "",
          "",
          -1.3640216938408807,
          "",
          "",
          "",
          -0.06044004914428591,
          -2.344970957526365,
          -0.05207058065439227,
          "",
          "",
          "",
          "",
          "",
          -1.1810205294594402,
          -1.4143301031416542,
          -0.3978229875485643,
          "",
          -1.3084599553185063,
          "",
          -0.39185526389528214,
          -1.5549803483715863,
          -0.28780733217565346,
          -0.05082368027394725,
          -2.197781249467199,
          "",
          "",
          -1.4585250653765218,
          "",
          -0.07166491064725616,
          "",
          -1.0241224368437587,
          -1.3890365626258399,
          -0.45366586122908586,
          "",
          -0.9922592900194872,
          -0.21711091618286138,
          "",
          "",
          "",
          -0.2655097097863576,
          "",
          "",
          "",
          -2.320988993175386,
          "",
          "",
          "",
          "",
          -0.5460151577287629,
          -0.06160472681959861,
          -1.4106010796210116,
          "",
          "",
          -2.160297110974583,
          -0.7239749609917301,
          "",
          -2.2783832462418956,
          ""
         ],
         "yaxis": "y2"
        }
       ],
       "layout": {
        "hovermode": "x",
        "legend": {
         "bgcolor": "#F5F6F9",
         "font": {
          "color": "#4D5663"
         }
        },
        "paper_bgcolor": "#F5F6F9",
        "plot_bgcolor": "#F5F6F9",
        "template": {
         "data": {
          "bar": [
           {
            "error_x": {
             "color": "#2a3f5f"
            },
            "error_y": {
             "color": "#2a3f5f"
            },
            "marker": {
             "line": {
              "color": "#E5ECF6",
              "width": 0.5
             },
             "pattern": {
              "fillmode": "overlay",
              "size": 10,
              "solidity": 0.2
             }
            },
            "type": "bar"
           }
          ],
          "barpolar": [
           {
            "marker": {
             "line": {
              "color": "#E5ECF6",
              "width": 0.5
             },
             "pattern": {
              "fillmode": "overlay",
              "size": 10,
              "solidity": 0.2
             }
            },
            "type": "barpolar"
           }
          ],
          "carpet": [
           {
            "aaxis": {
             "endlinecolor": "#2a3f5f",
             "gridcolor": "white",
             "linecolor": "white",
             "minorgridcolor": "white",
             "startlinecolor": "#2a3f5f"
            },
            "baxis": {
             "endlinecolor": "#2a3f5f",
             "gridcolor": "white",
             "linecolor": "white",
             "minorgridcolor": "white",
             "startlinecolor": "#2a3f5f"
            },
            "type": "carpet"
           }
          ],
          "choropleth": [
           {
            "colorbar": {
             "outlinewidth": 0,
             "ticks": ""
            },
            "type": "choropleth"
           }
          ],
          "contour": [
           {
            "colorbar": {
             "outlinewidth": 0,
             "ticks": ""
            },
            "colorscale": [
             [
              0,
              "#0d0887"
             ],
             [
              0.1111111111111111,
              "#46039f"
             ],
             [
              0.2222222222222222,
              "#7201a8"
             ],
             [
              0.3333333333333333,
              "#9c179e"
             ],
             [
              0.4444444444444444,
              "#bd3786"
             ],
             [
              0.5555555555555556,
              "#d8576b"
             ],
             [
              0.6666666666666666,
              "#ed7953"
             ],
             [
              0.7777777777777778,
              "#fb9f3a"
             ],
             [
              0.8888888888888888,
              "#fdca26"
             ],
             [
              1,
              "#f0f921"
             ]
            ],
            "type": "contour"
           }
          ],
          "contourcarpet": [
           {
            "colorbar": {
             "outlinewidth": 0,
             "ticks": ""
            },
            "type": "contourcarpet"
           }
          ],
          "heatmap": [
           {
            "colorbar": {
             "outlinewidth": 0,
             "ticks": ""
            },
            "colorscale": [
             [
              0,
              "#0d0887"
             ],
             [
              0.1111111111111111,
              "#46039f"
             ],
             [
              0.2222222222222222,
              "#7201a8"
             ],
             [
              0.3333333333333333,
              "#9c179e"
             ],
             [
              0.4444444444444444,
              "#bd3786"
             ],
             [
              0.5555555555555556,
              "#d8576b"
             ],
             [
              0.6666666666666666,
              "#ed7953"
             ],
             [
              0.7777777777777778,
              "#fb9f3a"
             ],
             [
              0.8888888888888888,
              "#fdca26"
             ],
             [
              1,
              "#f0f921"
             ]
            ],
            "type": "heatmap"
           }
          ],
          "heatmapgl": [
           {
            "colorbar": {
             "outlinewidth": 0,
             "ticks": ""
            },
            "colorscale": [
             [
              0,
              "#0d0887"
             ],
             [
              0.1111111111111111,
              "#46039f"
             ],
             [
              0.2222222222222222,
              "#7201a8"
             ],
             [
              0.3333333333333333,
              "#9c179e"
             ],
             [
              0.4444444444444444,
              "#bd3786"
             ],
             [
              0.5555555555555556,
              "#d8576b"
             ],
             [
              0.6666666666666666,
              "#ed7953"
             ],
             [
              0.7777777777777778,
              "#fb9f3a"
             ],
             [
              0.8888888888888888,
              "#fdca26"
             ],
             [
              1,
              "#f0f921"
             ]
            ],
            "type": "heatmapgl"
           }
          ],
          "histogram": [
           {
            "marker": {
             "pattern": {
              "fillmode": "overlay",
              "size": 10,
              "solidity": 0.2
             }
            },
            "type": "histogram"
           }
          ],
          "histogram2d": [
           {
            "colorbar": {
             "outlinewidth": 0,
             "ticks": ""
            },
            "colorscale": [
             [
              0,
              "#0d0887"
             ],
             [
              0.1111111111111111,
              "#46039f"
             ],
             [
              0.2222222222222222,
              "#7201a8"
             ],
             [
              0.3333333333333333,
              "#9c179e"
             ],
             [
              0.4444444444444444,
              "#bd3786"
             ],
             [
              0.5555555555555556,
              "#d8576b"
             ],
             [
              0.6666666666666666,
              "#ed7953"
             ],
             [
              0.7777777777777778,
              "#fb9f3a"
             ],
             [
              0.8888888888888888,
              "#fdca26"
             ],
             [
              1,
              "#f0f921"
             ]
            ],
            "type": "histogram2d"
           }
          ],
          "histogram2dcontour": [
           {
            "colorbar": {
             "outlinewidth": 0,
             "ticks": ""
            },
            "colorscale": [
             [
              0,
              "#0d0887"
             ],
             [
              0.1111111111111111,
              "#46039f"
             ],
             [
              0.2222222222222222,
              "#7201a8"
             ],
             [
              0.3333333333333333,
              "#9c179e"
             ],
             [
              0.4444444444444444,
              "#bd3786"
             ],
             [
              0.5555555555555556,
              "#d8576b"
             ],
             [
              0.6666666666666666,
              "#ed7953"
             ],
             [
              0.7777777777777778,
              "#fb9f3a"
             ],
             [
              0.8888888888888888,
              "#fdca26"
             ],
             [
              1,
              "#f0f921"
             ]
            ],
            "type": "histogram2dcontour"
           }
          ],
          "mesh3d": [
           {
            "colorbar": {
             "outlinewidth": 0,
             "ticks": ""
            },
            "type": "mesh3d"
           }
          ],
          "parcoords": [
           {
            "line": {
             "colorbar": {
              "outlinewidth": 0,
              "ticks": ""
             }
            },
            "type": "parcoords"
           }
          ],
          "pie": [
           {
            "automargin": true,
            "type": "pie"
           }
          ],
          "scatter": [
           {
            "marker": {
             "colorbar": {
              "outlinewidth": 0,
              "ticks": ""
             }
            },
            "type": "scatter"
           }
          ],
          "scatter3d": [
           {
            "line": {
             "colorbar": {
              "outlinewidth": 0,
              "ticks": ""
             }
            },
            "marker": {
             "colorbar": {
              "outlinewidth": 0,
              "ticks": ""
             }
            },
            "type": "scatter3d"
           }
          ],
          "scattercarpet": [
           {
            "marker": {
             "colorbar": {
              "outlinewidth": 0,
              "ticks": ""
             }
            },
            "type": "scattercarpet"
           }
          ],
          "scattergeo": [
           {
            "marker": {
             "colorbar": {
              "outlinewidth": 0,
              "ticks": ""
             }
            },
            "type": "scattergeo"
           }
          ],
          "scattergl": [
           {
            "marker": {
             "colorbar": {
              "outlinewidth": 0,
              "ticks": ""
             }
            },
            "type": "scattergl"
           }
          ],
          "scattermapbox": [
           {
            "marker": {
             "colorbar": {
              "outlinewidth": 0,
              "ticks": ""
             }
            },
            "type": "scattermapbox"
           }
          ],
          "scatterpolar": [
           {
            "marker": {
             "colorbar": {
              "outlinewidth": 0,
              "ticks": ""
             }
            },
            "type": "scatterpolar"
           }
          ],
          "scatterpolargl": [
           {
            "marker": {
             "colorbar": {
              "outlinewidth": 0,
              "ticks": ""
             }
            },
            "type": "scatterpolargl"
           }
          ],
          "scatterternary": [
           {
            "marker": {
             "colorbar": {
              "outlinewidth": 0,
              "ticks": ""
             }
            },
            "type": "scatterternary"
           }
          ],
          "surface": [
           {
            "colorbar": {
             "outlinewidth": 0,
             "ticks": ""
            },
            "colorscale": [
             [
              0,
              "#0d0887"
             ],
             [
              0.1111111111111111,
              "#46039f"
             ],
             [
              0.2222222222222222,
              "#7201a8"
             ],
             [
              0.3333333333333333,
              "#9c179e"
             ],
             [
              0.4444444444444444,
              "#bd3786"
             ],
             [
              0.5555555555555556,
              "#d8576b"
             ],
             [
              0.6666666666666666,
              "#ed7953"
             ],
             [
              0.7777777777777778,
              "#fb9f3a"
             ],
             [
              0.8888888888888888,
              "#fdca26"
             ],
             [
              1,
              "#f0f921"
             ]
            ],
            "type": "surface"
           }
          ],
          "table": [
           {
            "cells": {
             "fill": {
              "color": "#EBF0F8"
             },
             "line": {
              "color": "white"
             }
            },
            "header": {
             "fill": {
              "color": "#C8D4E3"
             },
             "line": {
              "color": "white"
             }
            },
            "type": "table"
           }
          ]
         },
         "layout": {
          "annotationdefaults": {
           "arrowcolor": "#2a3f5f",
           "arrowhead": 0,
           "arrowwidth": 1
          },
          "autotypenumbers": "strict",
          "coloraxis": {
           "colorbar": {
            "outlinewidth": 0,
            "ticks": ""
           }
          },
          "colorscale": {
           "diverging": [
            [
             0,
             "#8e0152"
            ],
            [
             0.1,
             "#c51b7d"
            ],
            [
             0.2,
             "#de77ae"
            ],
            [
             0.3,
             "#f1b6da"
            ],
            [
             0.4,
             "#fde0ef"
            ],
            [
             0.5,
             "#f7f7f7"
            ],
            [
             0.6,
             "#e6f5d0"
            ],
            [
             0.7,
             "#b8e186"
            ],
            [
             0.8,
             "#7fbc41"
            ],
            [
             0.9,
             "#4d9221"
            ],
            [
             1,
             "#276419"
            ]
           ],
           "sequential": [
            [
             0,
             "#0d0887"
            ],
            [
             0.1111111111111111,
             "#46039f"
            ],
            [
             0.2222222222222222,
             "#7201a8"
            ],
            [
             0.3333333333333333,
             "#9c179e"
            ],
            [
             0.4444444444444444,
             "#bd3786"
            ],
            [
             0.5555555555555556,
             "#d8576b"
            ],
            [
             0.6666666666666666,
             "#ed7953"
            ],
            [
             0.7777777777777778,
             "#fb9f3a"
            ],
            [
             0.8888888888888888,
             "#fdca26"
            ],
            [
             1,
             "#f0f921"
            ]
           ],
           "sequentialminus": [
            [
             0,
             "#0d0887"
            ],
            [
             0.1111111111111111,
             "#46039f"
            ],
            [
             0.2222222222222222,
             "#7201a8"
            ],
            [
             0.3333333333333333,
             "#9c179e"
            ],
            [
             0.4444444444444444,
             "#bd3786"
            ],
            [
             0.5555555555555556,
             "#d8576b"
            ],
            [
             0.6666666666666666,
             "#ed7953"
            ],
            [
             0.7777777777777778,
             "#fb9f3a"
            ],
            [
             0.8888888888888888,
             "#fdca26"
            ],
            [
             1,
             "#f0f921"
            ]
           ]
          },
          "colorway": [
           "#636efa",
           "#EF553B",
           "#00cc96",
           "#ab63fa",
           "#FFA15A",
           "#19d3f3",
           "#FF6692",
           "#B6E880",
           "#FF97FF",
           "#FECB52"
          ],
          "font": {
           "color": "#2a3f5f"
          },
          "geo": {
           "bgcolor": "white",
           "lakecolor": "white",
           "landcolor": "#E5ECF6",
           "showlakes": true,
           "showland": true,
           "subunitcolor": "white"
          },
          "hoverlabel": {
           "align": "left"
          },
          "hovermode": "closest",
          "mapbox": {
           "style": "light"
          },
          "paper_bgcolor": "white",
          "plot_bgcolor": "#E5ECF6",
          "polar": {
           "angularaxis": {
            "gridcolor": "white",
            "linecolor": "white",
            "ticks": ""
           },
           "bgcolor": "#E5ECF6",
           "radialaxis": {
            "gridcolor": "white",
            "linecolor": "white",
            "ticks": ""
           }
          },
          "scene": {
           "xaxis": {
            "backgroundcolor": "#E5ECF6",
            "gridcolor": "white",
            "gridwidth": 2,
            "linecolor": "white",
            "showbackground": true,
            "ticks": "",
            "zerolinecolor": "white"
           },
           "yaxis": {
            "backgroundcolor": "#E5ECF6",
            "gridcolor": "white",
            "gridwidth": 2,
            "linecolor": "white",
            "showbackground": true,
            "ticks": "",
            "zerolinecolor": "white"
           },
           "zaxis": {
            "backgroundcolor": "#E5ECF6",
            "gridcolor": "white",
            "gridwidth": 2,
            "linecolor": "white",
            "showbackground": true,
            "ticks": "",
            "zerolinecolor": "white"
           }
          },
          "shapedefaults": {
           "line": {
            "color": "#2a3f5f"
           }
          },
          "ternary": {
           "aaxis": {
            "gridcolor": "white",
            "linecolor": "white",
            "ticks": ""
           },
           "baxis": {
            "gridcolor": "white",
            "linecolor": "white",
            "ticks": ""
           },
           "bgcolor": "#E5ECF6",
           "caxis": {
            "gridcolor": "white",
            "linecolor": "white",
            "ticks": ""
           }
          },
          "title": {
           "x": 0.05
          },
          "xaxis": {
           "automargin": true,
           "gridcolor": "white",
           "linecolor": "white",
           "ticks": "",
           "title": {
            "standoff": 15
           },
           "zerolinecolor": "white",
           "zerolinewidth": 2
          },
          "yaxis": {
           "automargin": true,
           "gridcolor": "white",
           "linecolor": "white",
           "ticks": "",
           "title": {
            "standoff": 15
           },
           "zerolinecolor": "white",
           "zerolinewidth": 2
          }
         }
        },
        "title": {
         "font": {
          "color": "#4D5663"
         }
        },
        "xaxis": {
         "gridcolor": "#E1E5ED",
         "showgrid": true,
         "tickfont": {
          "color": "#4D5663"
         },
         "title": {
          "font": {
           "color": "#4D5663"
          },
          "text": ""
         },
         "zerolinecolor": "#E1E5ED"
        },
        "xaxis2": {
         "anchor": "y2",
         "gridcolor": "#E1E5ED",
         "showgrid": true,
         "showticklabels": false,
         "tickfont": {
          "color": "#4D5663"
         },
         "title": {
          "font": {
           "color": "#4D5663"
          },
          "text": ""
         },
         "zerolinecolor": "#E1E5ED"
        },
        "yaxis": {
         "domain": [
          0.3,
          1
         ],
         "gridcolor": "#E1E5ED",
         "showgrid": true,
         "tickfont": {
          "color": "#4D5663"
         },
         "title": {
          "font": {
           "color": "#4D5663"
          },
          "text": ""
         },
         "zerolinecolor": "#E1E5ED"
        },
        "yaxis2": {
         "domain": [
          0,
          0.25
         ],
         "gridcolor": "#E1E5ED",
         "showgrid": true,
         "tickfont": {
          "color": "#4D5663"
         },
         "title": {
          "font": {
           "color": "#4D5663"
          },
          "text": "Spread"
         },
         "zerolinecolor": "#E1E5ED"
        }
       }
      },
      "text/html": [
       "<div>                            <div id=\"ca6158ce-fd47-4a70-bd1b-2e454369dd02\" class=\"plotly-graph-div\" style=\"height:525px; width:100%;\"></div>            <script type=\"text/javascript\">                require([\"plotly\"], function(Plotly) {                    window.PLOTLYENV=window.PLOTLYENV || {};\n",
       "                    window.PLOTLYENV.BASE_URL='https://plot.ly';                                    if (document.getElementById(\"ca6158ce-fd47-4a70-bd1b-2e454369dd02\")) {                    Plotly.newPlot(                        \"ca6158ce-fd47-4a70-bd1b-2e454369dd02\",                        [{\"line\":{\"color\":\"rgba(255, 153, 51, 1.0)\",\"dash\":\"solid\",\"shape\":\"linear\",\"width\":1.3},\"mode\":\"lines\",\"name\":\"A\",\"text\":\"\",\"x\":[0,1,2,3,4,5,6,7,8,9,10,11,12,13,14,15,16,17,18,19,20,21,22,23,24,25,26,27,28,29,30,31,32,33,34,35,36,37,38,39,40,41,42,43,44,45,46,47,48,49,50,51,52,53,54,55,56,57,58,59,60,61,62,63,64,65,66,67,68,69,70,71,72,73,74,75,76,77,78,79,80,81,82,83,84,85,86,87,88,89,90,91,92,93,94,95,96,97,98,99],\"y\":[-0.19028147001615417,0.3282365234795369,1.1399229516160017,-1.5285412750999146,-0.24886967751150038,0.2516245509136745,1.0322355236009921,0.11599439899823132,-0.08552299190870857,-0.392599667290996,1.0483873911059238,-1.3672086527525584,-1.2953691663834808,-0.37398870480107765,0.16094578705735657,0.698636684971462,1.5186664839892636,-0.3023573194571271,0.16832675647100329,0.19054539363793585,-0.05607139243232748,2.49434793378773,-0.530066327400534,0.8770350482674139,0.813057708391379,0.29820305701467675,0.4091606649710951,-0.07901188676813516,-0.32164633372494433,0.9816522229170433,0.6776451608653729,-0.8353341427637865,1.4655636349628942,2.00973210510375,0.34269433539070104,0.6002392765015414,0.7117390891406551,1.0592117801719485,0.7228041981165503,-0.8736465721312067,0.5676459790026085,0.3946690709293932,1.1159103925968208,-1.3623917634657412,0.6708499442787056,2.7667695870284845,0.7208184734528509,-0.5012612586998206,-1.1208824336937548,0.08310983627321097,1.4675574284440516,1.2532790994123408,0.007306638487820633,-0.8858137066431648,0.6242810094285595,-1.204652301395593,-1.1592080495946446,-0.8345983358790608,-0.7876304667169377,0.2226800879806531,0.4415686839563639,-0.269932602749613,-1.203764434204222,0.2411069726838896,-0.09951908368939481,-1.2286268384318006,0.9640396290879625,2.533865804668992,0.6363573751229564,0.6472031726814976,0.3660259455013826,0.9127612805233639,0.17883708005765753,-0.7077382719243921,-0.30885550649166293,1.327815639824272,-1.0254221405341721,-0.9383686643953827,-0.09071737066338419,0.6334847841474687,0.3071825571559436,-0.4857262165088668,-0.016132326632023995,0.5396152536884207,1.2850769796729489,-0.09184295300134171,0.6230902035502993,-0.28510111886218,0.963559438496964,1.7301036427052279,-0.23999086747889203,-0.6634015983510081,0.3389483473977393,1.3015088526277432,0.2801083119723154,-1.0717367219346814,0.6430291779034134,1.0587542570407236,-1.8666690899056997,0.19629610393134483],\"type\":\"scatter\"},{\"line\":{\"color\":\"rgba(55, 128, 191, 1.0)\",\"dash\":\"solid\",\"shape\":\"linear\",\"width\":1.3},\"mode\":\"lines\",\"name\":\"B\",\"text\":\"\",\"x\":[0,1,2,3,4,5,6,7,8,9,10,11,12,13,14,15,16,17,18,19,20,21,22,23,24,25,26,27,28,29,30,31,32,33,34,35,36,37,38,39,40,41,42,43,44,45,46,47,48,49,50,51,52,53,54,55,56,57,58,59,60,61,62,63,64,65,66,67,68,69,70,71,72,73,74,75,76,77,78,79,80,81,82,83,84,85,86,87,88,89,90,91,92,93,94,95,96,97,98,99],\"y\":[-0.8078877810272339,-0.6448885204384242,-0.7455902419946399,-1.3050276821950197,0.5003808807272312,-0.2544095597272951,-1.3513709895354138,-2.5602738161529337,1.8961054211952009,1.7143645670390613,0.38789704551642606,-0.43216641964758024,-0.121487555297366,0.4886943348247054,-0.531024084846558,1.019974525402949,-1.1265502671384462,-0.11944479093297246,0.07992209285850868,0.35694133719785076,1.5133316673425885,0.9526731400979774,2.1783088334956022,-0.5359561007282527,0.3879712182730429,-0.5599572053329858,0.7535131619955537,0.1737238244194225,-0.1398249931343527,-0.7847908485735925,-0.7389327805747367,0.24358444714280714,1.5261767506458273,0.06163695959046099,-0.4101352328979562,-0.09324634096394105,0.6528869126446963,0.01814734085788372,-1.3547064835577245,-0.6151383657756476,-0.028002153962266033,-1.0794710885393703,0.10420625617257966,0.0016299303751393895,0.20635200140925392,-2.233926947939479,-1.0973127325260994,-0.4408212095555347,1.22408852383261,0.13518041692760324,-0.6380915291645423,-1.0077051393357612,-0.2287842060650193,-1.4542627061984326,-0.8098208866087253,-0.023631771936152825,0.25512205354700956,-0.4367753483304965,-1.1077991003347287,1.5311400432991595,-1.2024989249956632,0.12192266114566915,0.35121591416736425,0.528914304859543,-0.04869540341544756,0.9691544110353982,-0.5742621312272939,-0.38144095937602707,2.0948824404994784,-0.2633073152560307,0.4376908561486388,-1.262068966059568,1.2029595169014162,0.6812982907014478,0.14481035473742293,-0.9025277487190613,-0.033162850514684906,-0.7212577482125213,-1.2129688234713587,0.10702847749976899,-0.5944521348825197,-0.22021650672250928,-0.08777301917765741,0.49809817622022645,-0.38138542032541234,2.2291460401740446,0.22260641858867825,-0.6572688729049547,0.21066253910388472,-1.9777342722498183,0.3060242902498709,-0.6017968715314095,1.7495494270187508,0.41260960952983505,-0.6762840831291067,1.0885603890399016,1.3670041388951435,0.4449508775116109,0.4117141563361959,-0.6129289668954218],\"type\":\"scatter\"},{\"connectgaps\":false,\"fill\":\"tozeroy\",\"line\":{\"color\":\"green\",\"dash\":\"solid\",\"shape\":\"linear\",\"width\":0.5},\"mode\":\"lines\",\"name\":\"Spread\",\"showlegend\":false,\"x\":[0,1,2,3,4,5,6,7,8,9,10,11,12,13,14,15,16,17,18,19,20,21,22,23,24,25,26,27,28,29,30,31,32,33,34,35,36,37,38,39,40,41,42,43,44,45,46,47,48,49,50,51,52,53,54,55,56,57,58,59,60,61,62,63,64,65,66,67,68,69,70,71,72,73,74,75,76,77,78,79,80,81,82,83,84,85,86,87,88,89,90,91,92,93,94,95,96,97,98,99],\"xaxis\":\"x2\",\"y\":[0.6176063110110798,0.9731250439179611,1.8855131936106415,\"\",\"\",0.5060341106409696,2.3836065131364057,2.676268215151165,\"\",\"\",0.6604903455894977,\"\",\"\",\"\",0.6919698719039147,\"\",2.64521675112771,\"\",0.0884046636124946,\"\",\"\",1.5416747936897526,\"\",1.4129911489956666,0.42508649011833616,0.8581602623476625,\"\",\"\",\"\",1.7664430714906358,1.4165779414401096,\"\",\"\",1.9480951455132893,0.7528295682886572,0.6934856174654824,0.05885217649595875,1.0410644393140647,2.0775106816742746,\"\",0.5956481329648745,1.4741401594687635,1.0117041364242412,\"\",0.4644979428694517,5.000696534967964,1.8181312059789503,\"\",\"\",\"\",2.1056489576085937,2.260984238748102,0.23609084455283993,0.5684489995552677,1.4341018960372849,\"\",\"\",\"\",0.320168633617791,\"\",1.6440676089520272,\"\",\"\",\"\",\"\",\"\",1.5383017603152562,2.915306764045019,\"\",0.9105104879375283,\"\",2.174830246582932,\"\",\"\",\"\",2.230343388543333,\"\",\"\",1.1222514528079746,0.5264563066476997,0.9016346920384632,\"\",0.07164069254563342,0.04151707746819422,1.6664623999983612,\"\",0.40048378496162107,0.37216775404277475,0.7528968993930794,3.7078379149550464,\"\",\"\",\"\",0.8888992430979081,0.9563923951014222,\"\",\"\",0.6138033795291127,\"\",0.8092250708267665],\"yaxis\":\"y2\",\"type\":\"scatter\"},{\"connectgaps\":false,\"fill\":\"tozeroy\",\"line\":{\"color\":\"red\",\"dash\":\"solid\",\"shape\":\"linear\",\"width\":0.5},\"mode\":\"lines\",\"name\":\"Spread\",\"showlegend\":false,\"x\":[0,1,2,3,4,5,6,7,8,9,10,11,12,13,14,15,16,17,18,19,20,21,22,23,24,25,26,27,28,29,30,31,32,33,34,35,36,37,38,39,40,41,42,43,44,45,46,47,48,49,50,51,52,53,54,55,56,57,58,59,60,61,62,63,64,65,66,67,68,69,70,71,72,73,74,75,76,77,78,79,80,81,82,83,84,85,86,87,88,89,90,91,92,93,94,95,96,97,98,99],\"xaxis\":\"x2\",\"y\":[\"\",\"\",\"\",-0.2235135929048948,-0.7492505582387315,\"\",\"\",\"\",-1.9816284131039095,-2.106964234330057,\"\",-0.9350422331049781,-1.1738816110861148,-0.8626830396257831,\"\",-0.32133784043148705,\"\",-0.18291252852415468,\"\",-0.1663959435599149,-1.569403059774916,\"\",-2.708375160896136,\"\",\"\",\"\",-0.34435249702445864,-0.25273571118755767,-0.18182134059059163,\"\",\"\",-1.0789185899065936,-0.06061311568293304,\"\",\"\",\"\",\"\",\"\",\"\",-0.25850820635555904,\"\",\"\",\"\",-1.3640216938408807,\"\",\"\",\"\",-0.06044004914428591,-2.344970957526365,-0.05207058065439227,\"\",\"\",\"\",\"\",\"\",-1.1810205294594402,-1.4143301031416542,-0.3978229875485643,\"\",-1.3084599553185063,\"\",-0.39185526389528214,-1.5549803483715863,-0.28780733217565346,-0.05082368027394725,-2.197781249467199,\"\",\"\",-1.4585250653765218,\"\",-0.07166491064725616,\"\",-1.0241224368437587,-1.3890365626258399,-0.45366586122908586,\"\",-0.9922592900194872,-0.21711091618286138,\"\",\"\",\"\",-0.2655097097863576,\"\",\"\",\"\",-2.320988993175386,\"\",\"\",\"\",\"\",-0.5460151577287629,-0.06160472681959861,-1.4106010796210116,\"\",\"\",-2.160297110974583,-0.7239749609917301,\"\",-2.2783832462418956,\"\"],\"yaxis\":\"y2\",\"type\":\"scatter\"}],                        {\"hovermode\":\"x\",\"legend\":{\"bgcolor\":\"#F5F6F9\",\"font\":{\"color\":\"#4D5663\"}},\"paper_bgcolor\":\"#F5F6F9\",\"plot_bgcolor\":\"#F5F6F9\",\"template\":{\"data\":{\"barpolar\":[{\"marker\":{\"line\":{\"color\":\"#E5ECF6\",\"width\":0.5},\"pattern\":{\"fillmode\":\"overlay\",\"size\":10,\"solidity\":0.2}},\"type\":\"barpolar\"}],\"bar\":[{\"error_x\":{\"color\":\"#2a3f5f\"},\"error_y\":{\"color\":\"#2a3f5f\"},\"marker\":{\"line\":{\"color\":\"#E5ECF6\",\"width\":0.5},\"pattern\":{\"fillmode\":\"overlay\",\"size\":10,\"solidity\":0.2}},\"type\":\"bar\"}],\"carpet\":[{\"aaxis\":{\"endlinecolor\":\"#2a3f5f\",\"gridcolor\":\"white\",\"linecolor\":\"white\",\"minorgridcolor\":\"white\",\"startlinecolor\":\"#2a3f5f\"},\"baxis\":{\"endlinecolor\":\"#2a3f5f\",\"gridcolor\":\"white\",\"linecolor\":\"white\",\"minorgridcolor\":\"white\",\"startlinecolor\":\"#2a3f5f\"},\"type\":\"carpet\"}],\"choropleth\":[{\"colorbar\":{\"outlinewidth\":0,\"ticks\":\"\"},\"type\":\"choropleth\"}],\"contourcarpet\":[{\"colorbar\":{\"outlinewidth\":0,\"ticks\":\"\"},\"type\":\"contourcarpet\"}],\"contour\":[{\"colorbar\":{\"outlinewidth\":0,\"ticks\":\"\"},\"colorscale\":[[0.0,\"#0d0887\"],[0.1111111111111111,\"#46039f\"],[0.2222222222222222,\"#7201a8\"],[0.3333333333333333,\"#9c179e\"],[0.4444444444444444,\"#bd3786\"],[0.5555555555555556,\"#d8576b\"],[0.6666666666666666,\"#ed7953\"],[0.7777777777777778,\"#fb9f3a\"],[0.8888888888888888,\"#fdca26\"],[1.0,\"#f0f921\"]],\"type\":\"contour\"}],\"heatmapgl\":[{\"colorbar\":{\"outlinewidth\":0,\"ticks\":\"\"},\"colorscale\":[[0.0,\"#0d0887\"],[0.1111111111111111,\"#46039f\"],[0.2222222222222222,\"#7201a8\"],[0.3333333333333333,\"#9c179e\"],[0.4444444444444444,\"#bd3786\"],[0.5555555555555556,\"#d8576b\"],[0.6666666666666666,\"#ed7953\"],[0.7777777777777778,\"#fb9f3a\"],[0.8888888888888888,\"#fdca26\"],[1.0,\"#f0f921\"]],\"type\":\"heatmapgl\"}],\"heatmap\":[{\"colorbar\":{\"outlinewidth\":0,\"ticks\":\"\"},\"colorscale\":[[0.0,\"#0d0887\"],[0.1111111111111111,\"#46039f\"],[0.2222222222222222,\"#7201a8\"],[0.3333333333333333,\"#9c179e\"],[0.4444444444444444,\"#bd3786\"],[0.5555555555555556,\"#d8576b\"],[0.6666666666666666,\"#ed7953\"],[0.7777777777777778,\"#fb9f3a\"],[0.8888888888888888,\"#fdca26\"],[1.0,\"#f0f921\"]],\"type\":\"heatmap\"}],\"histogram2dcontour\":[{\"colorbar\":{\"outlinewidth\":0,\"ticks\":\"\"},\"colorscale\":[[0.0,\"#0d0887\"],[0.1111111111111111,\"#46039f\"],[0.2222222222222222,\"#7201a8\"],[0.3333333333333333,\"#9c179e\"],[0.4444444444444444,\"#bd3786\"],[0.5555555555555556,\"#d8576b\"],[0.6666666666666666,\"#ed7953\"],[0.7777777777777778,\"#fb9f3a\"],[0.8888888888888888,\"#fdca26\"],[1.0,\"#f0f921\"]],\"type\":\"histogram2dcontour\"}],\"histogram2d\":[{\"colorbar\":{\"outlinewidth\":0,\"ticks\":\"\"},\"colorscale\":[[0.0,\"#0d0887\"],[0.1111111111111111,\"#46039f\"],[0.2222222222222222,\"#7201a8\"],[0.3333333333333333,\"#9c179e\"],[0.4444444444444444,\"#bd3786\"],[0.5555555555555556,\"#d8576b\"],[0.6666666666666666,\"#ed7953\"],[0.7777777777777778,\"#fb9f3a\"],[0.8888888888888888,\"#fdca26\"],[1.0,\"#f0f921\"]],\"type\":\"histogram2d\"}],\"histogram\":[{\"marker\":{\"pattern\":{\"fillmode\":\"overlay\",\"size\":10,\"solidity\":0.2}},\"type\":\"histogram\"}],\"mesh3d\":[{\"colorbar\":{\"outlinewidth\":0,\"ticks\":\"\"},\"type\":\"mesh3d\"}],\"parcoords\":[{\"line\":{\"colorbar\":{\"outlinewidth\":0,\"ticks\":\"\"}},\"type\":\"parcoords\"}],\"pie\":[{\"automargin\":true,\"type\":\"pie\"}],\"scatter3d\":[{\"line\":{\"colorbar\":{\"outlinewidth\":0,\"ticks\":\"\"}},\"marker\":{\"colorbar\":{\"outlinewidth\":0,\"ticks\":\"\"}},\"type\":\"scatter3d\"}],\"scattercarpet\":[{\"marker\":{\"colorbar\":{\"outlinewidth\":0,\"ticks\":\"\"}},\"type\":\"scattercarpet\"}],\"scattergeo\":[{\"marker\":{\"colorbar\":{\"outlinewidth\":0,\"ticks\":\"\"}},\"type\":\"scattergeo\"}],\"scattergl\":[{\"marker\":{\"colorbar\":{\"outlinewidth\":0,\"ticks\":\"\"}},\"type\":\"scattergl\"}],\"scattermapbox\":[{\"marker\":{\"colorbar\":{\"outlinewidth\":0,\"ticks\":\"\"}},\"type\":\"scattermapbox\"}],\"scatterpolargl\":[{\"marker\":{\"colorbar\":{\"outlinewidth\":0,\"ticks\":\"\"}},\"type\":\"scatterpolargl\"}],\"scatterpolar\":[{\"marker\":{\"colorbar\":{\"outlinewidth\":0,\"ticks\":\"\"}},\"type\":\"scatterpolar\"}],\"scatter\":[{\"marker\":{\"colorbar\":{\"outlinewidth\":0,\"ticks\":\"\"}},\"type\":\"scatter\"}],\"scatterternary\":[{\"marker\":{\"colorbar\":{\"outlinewidth\":0,\"ticks\":\"\"}},\"type\":\"scatterternary\"}],\"surface\":[{\"colorbar\":{\"outlinewidth\":0,\"ticks\":\"\"},\"colorscale\":[[0.0,\"#0d0887\"],[0.1111111111111111,\"#46039f\"],[0.2222222222222222,\"#7201a8\"],[0.3333333333333333,\"#9c179e\"],[0.4444444444444444,\"#bd3786\"],[0.5555555555555556,\"#d8576b\"],[0.6666666666666666,\"#ed7953\"],[0.7777777777777778,\"#fb9f3a\"],[0.8888888888888888,\"#fdca26\"],[1.0,\"#f0f921\"]],\"type\":\"surface\"}],\"table\":[{\"cells\":{\"fill\":{\"color\":\"#EBF0F8\"},\"line\":{\"color\":\"white\"}},\"header\":{\"fill\":{\"color\":\"#C8D4E3\"},\"line\":{\"color\":\"white\"}},\"type\":\"table\"}]},\"layout\":{\"annotationdefaults\":{\"arrowcolor\":\"#2a3f5f\",\"arrowhead\":0,\"arrowwidth\":1},\"autotypenumbers\":\"strict\",\"coloraxis\":{\"colorbar\":{\"outlinewidth\":0,\"ticks\":\"\"}},\"colorscale\":{\"diverging\":[[0,\"#8e0152\"],[0.1,\"#c51b7d\"],[0.2,\"#de77ae\"],[0.3,\"#f1b6da\"],[0.4,\"#fde0ef\"],[0.5,\"#f7f7f7\"],[0.6,\"#e6f5d0\"],[0.7,\"#b8e186\"],[0.8,\"#7fbc41\"],[0.9,\"#4d9221\"],[1,\"#276419\"]],\"sequential\":[[0.0,\"#0d0887\"],[0.1111111111111111,\"#46039f\"],[0.2222222222222222,\"#7201a8\"],[0.3333333333333333,\"#9c179e\"],[0.4444444444444444,\"#bd3786\"],[0.5555555555555556,\"#d8576b\"],[0.6666666666666666,\"#ed7953\"],[0.7777777777777778,\"#fb9f3a\"],[0.8888888888888888,\"#fdca26\"],[1.0,\"#f0f921\"]],\"sequentialminus\":[[0.0,\"#0d0887\"],[0.1111111111111111,\"#46039f\"],[0.2222222222222222,\"#7201a8\"],[0.3333333333333333,\"#9c179e\"],[0.4444444444444444,\"#bd3786\"],[0.5555555555555556,\"#d8576b\"],[0.6666666666666666,\"#ed7953\"],[0.7777777777777778,\"#fb9f3a\"],[0.8888888888888888,\"#fdca26\"],[1.0,\"#f0f921\"]]},\"colorway\":[\"#636efa\",\"#EF553B\",\"#00cc96\",\"#ab63fa\",\"#FFA15A\",\"#19d3f3\",\"#FF6692\",\"#B6E880\",\"#FF97FF\",\"#FECB52\"],\"font\":{\"color\":\"#2a3f5f\"},\"geo\":{\"bgcolor\":\"white\",\"lakecolor\":\"white\",\"landcolor\":\"#E5ECF6\",\"showlakes\":true,\"showland\":true,\"subunitcolor\":\"white\"},\"hoverlabel\":{\"align\":\"left\"},\"hovermode\":\"closest\",\"mapbox\":{\"style\":\"light\"},\"paper_bgcolor\":\"white\",\"plot_bgcolor\":\"#E5ECF6\",\"polar\":{\"angularaxis\":{\"gridcolor\":\"white\",\"linecolor\":\"white\",\"ticks\":\"\"},\"bgcolor\":\"#E5ECF6\",\"radialaxis\":{\"gridcolor\":\"white\",\"linecolor\":\"white\",\"ticks\":\"\"}},\"scene\":{\"xaxis\":{\"backgroundcolor\":\"#E5ECF6\",\"gridcolor\":\"white\",\"gridwidth\":2,\"linecolor\":\"white\",\"showbackground\":true,\"ticks\":\"\",\"zerolinecolor\":\"white\"},\"yaxis\":{\"backgroundcolor\":\"#E5ECF6\",\"gridcolor\":\"white\",\"gridwidth\":2,\"linecolor\":\"white\",\"showbackground\":true,\"ticks\":\"\",\"zerolinecolor\":\"white\"},\"zaxis\":{\"backgroundcolor\":\"#E5ECF6\",\"gridcolor\":\"white\",\"gridwidth\":2,\"linecolor\":\"white\",\"showbackground\":true,\"ticks\":\"\",\"zerolinecolor\":\"white\"}},\"shapedefaults\":{\"line\":{\"color\":\"#2a3f5f\"}},\"ternary\":{\"aaxis\":{\"gridcolor\":\"white\",\"linecolor\":\"white\",\"ticks\":\"\"},\"baxis\":{\"gridcolor\":\"white\",\"linecolor\":\"white\",\"ticks\":\"\"},\"bgcolor\":\"#E5ECF6\",\"caxis\":{\"gridcolor\":\"white\",\"linecolor\":\"white\",\"ticks\":\"\"}},\"title\":{\"x\":0.05},\"xaxis\":{\"automargin\":true,\"gridcolor\":\"white\",\"linecolor\":\"white\",\"ticks\":\"\",\"title\":{\"standoff\":15},\"zerolinecolor\":\"white\",\"zerolinewidth\":2},\"yaxis\":{\"automargin\":true,\"gridcolor\":\"white\",\"linecolor\":\"white\",\"ticks\":\"\",\"title\":{\"standoff\":15},\"zerolinecolor\":\"white\",\"zerolinewidth\":2}}},\"title\":{\"font\":{\"color\":\"#4D5663\"}},\"xaxis\":{\"gridcolor\":\"#E1E5ED\",\"showgrid\":true,\"tickfont\":{\"color\":\"#4D5663\"},\"title\":{\"font\":{\"color\":\"#4D5663\"},\"text\":\"\"},\"zerolinecolor\":\"#E1E5ED\"},\"yaxis\":{\"domain\":[0.3,1],\"gridcolor\":\"#E1E5ED\",\"showgrid\":true,\"tickfont\":{\"color\":\"#4D5663\"},\"title\":{\"font\":{\"color\":\"#4D5663\"},\"text\":\"\"},\"zerolinecolor\":\"#E1E5ED\"},\"yaxis2\":{\"domain\":[0,0.25],\"gridcolor\":\"#E1E5ED\",\"showgrid\":true,\"tickfont\":{\"color\":\"#4D5663\"},\"title\":{\"font\":{\"color\":\"#4D5663\"},\"text\":\"Spread\"},\"zerolinecolor\":\"#E1E5ED\"},\"xaxis2\":{\"anchor\":\"y2\",\"gridcolor\":\"#E1E5ED\",\"showgrid\":true,\"showticklabels\":false,\"tickfont\":{\"color\":\"#4D5663\"},\"title\":{\"font\":{\"color\":\"#4D5663\"},\"text\":\"\"},\"zerolinecolor\":\"#E1E5ED\"}},                        {\"showLink\": true, \"linkText\": \"Export to plot.ly\", \"plotlyServerURL\": \"https://plot.ly\", \"responsive\": true}                    ).then(function(){\n",
       "                            \n",
       "var gd = document.getElementById('ca6158ce-fd47-4a70-bd1b-2e454369dd02');\n",
       "var x = new MutationObserver(function (mutations, observer) {{\n",
       "        var display = window.getComputedStyle(gd).display;\n",
       "        if (!display || display === 'none') {{\n",
       "            console.log([gd, 'removed!']);\n",
       "            Plotly.purge(gd);\n",
       "            observer.disconnect();\n",
       "        }}\n",
       "}});\n",
       "\n",
       "// Listen for the removal of the full notebook cells\n",
       "var notebookContainer = gd.closest('#notebook-container');\n",
       "if (notebookContainer) {{\n",
       "    x.observe(notebookContainer, {childList: true});\n",
       "}}\n",
       "\n",
       "// Listen for the clearing of the current output cell\n",
       "var outputEl = gd.closest('.output');\n",
       "if (outputEl) {{\n",
       "    x.observe(outputEl, {childList: true});\n",
       "}}\n",
       "\n",
       "                        })                };                });            </script>        </div>"
      ]
     },
     "metadata": {},
     "output_type": "display_data"
    }
   ],
   "source": [
    "df[['A', 'B']].iplot(kind = 'spread')"
   ]
  },
  {
   "cell_type": "markdown",
   "metadata": {},
   "source": [
    "#### Bubble-plot"
   ]
  },
  {
   "cell_type": "code",
   "execution_count": 42,
   "metadata": {},
   "outputs": [
    {
     "data": {
      "application/vnd.plotly.v1+json": {
       "config": {
        "linkText": "Export to plot.ly",
        "plotlyServerURL": "https://plot.ly",
        "showLink": true
       },
       "data": [
        {
         "marker": {
          "color": [
           "orange",
           "orange",
           "orange",
           "orange",
           "orange",
           "orange",
           "orange",
           "orange",
           "orange",
           "orange",
           "orange",
           "orange",
           "orange",
           "orange",
           "orange",
           "orange",
           "orange",
           "orange",
           "orange",
           "orange",
           "orange",
           "orange",
           "orange",
           "orange",
           "orange",
           "orange",
           "orange",
           "orange",
           "orange",
           "orange",
           "orange",
           "orange",
           "orange",
           "orange",
           "orange",
           "orange",
           "orange",
           "orange",
           "orange",
           "orange",
           "orange",
           "orange",
           "orange",
           "orange",
           "orange",
           "orange",
           "orange",
           "orange",
           "orange",
           "orange",
           "orange",
           "orange",
           "orange",
           "orange",
           "orange",
           "orange",
           "orange",
           "orange",
           "orange",
           "orange",
           "orange",
           "orange",
           "orange",
           "orange",
           "orange",
           "orange",
           "orange",
           "orange",
           "orange",
           "orange",
           "orange",
           "orange",
           "orange",
           "orange",
           "orange",
           "orange",
           "orange",
           "orange",
           "orange",
           "orange",
           "orange",
           "orange",
           "orange",
           "orange",
           "orange",
           "orange",
           "orange",
           "orange",
           "orange",
           "orange",
           "orange",
           "orange",
           "orange",
           "orange",
           "orange",
           "orange",
           "orange",
           "orange",
           "orange",
           "orange"
          ],
          "line": {
           "width": 1.3
          },
          "size": [
           54,
           60,
           56,
           66,
           12,
           36,
           78,
           69,
           43,
           62,
           80,
           51,
           59,
           48,
           67,
           47,
           58,
           80,
           50,
           76,
           97,
           112,
           55,
           82,
           15,
           50,
           97,
           53,
           36,
           48,
           60,
           74,
           16,
           75,
           59,
           52,
           53,
           49,
           65,
           77,
           68,
           87,
           87,
           51,
           40,
           50,
           91,
           25,
           34,
           49,
           46,
           73,
           24,
           75,
           53,
           72,
           73,
           20,
           52,
           54,
           69,
           50,
           81,
           59,
           81,
           64,
           61,
           38,
           52,
           34,
           35,
           28,
           67,
           29,
           70,
           63,
           63,
           30,
           93,
           63,
           75,
           69,
           54,
           31,
           50,
           38,
           69,
           77,
           82,
           35,
           48,
           19,
           40,
           48,
           57,
           80,
           39,
           80,
           35,
           31
          ],
          "symbol": "circle"
         },
         "mode": "markers",
         "text": "",
         "type": "scatter",
         "x": [
          -0.19028147001615417,
          0.3282365234795369,
          1.1399229516160017,
          -1.5285412750999146,
          -0.24886967751150038,
          0.2516245509136745,
          1.0322355236009921,
          0.11599439899823132,
          -0.08552299190870857,
          -0.392599667290996,
          1.0483873911059238,
          -1.3672086527525584,
          -1.2953691663834808,
          -0.37398870480107765,
          0.16094578705735657,
          0.698636684971462,
          1.5186664839892636,
          -0.3023573194571271,
          0.16832675647100329,
          0.19054539363793585,
          -0.05607139243232748,
          2.49434793378773,
          -0.530066327400534,
          0.8770350482674139,
          0.813057708391379,
          0.29820305701467675,
          0.4091606649710951,
          -0.07901188676813516,
          -0.32164633372494433,
          0.9816522229170433,
          0.6776451608653729,
          -0.8353341427637865,
          1.4655636349628942,
          2.00973210510375,
          0.34269433539070104,
          0.6002392765015414,
          0.7117390891406551,
          1.0592117801719485,
          0.7228041981165503,
          -0.8736465721312067,
          0.5676459790026085,
          0.3946690709293932,
          1.1159103925968208,
          -1.3623917634657412,
          0.6708499442787056,
          2.7667695870284845,
          0.7208184734528509,
          -0.5012612586998206,
          -1.1208824336937548,
          0.08310983627321097,
          1.4675574284440516,
          1.2532790994123408,
          0.007306638487820633,
          -0.8858137066431648,
          0.6242810094285595,
          -1.204652301395593,
          -1.1592080495946446,
          -0.8345983358790608,
          -0.7876304667169377,
          0.2226800879806531,
          0.4415686839563639,
          -0.269932602749613,
          -1.203764434204222,
          0.2411069726838896,
          -0.09951908368939481,
          -1.2286268384318006,
          0.9640396290879625,
          2.533865804668992,
          0.6363573751229564,
          0.6472031726814976,
          0.3660259455013826,
          0.9127612805233639,
          0.17883708005765753,
          -0.7077382719243921,
          -0.30885550649166293,
          1.327815639824272,
          -1.0254221405341721,
          -0.9383686643953827,
          -0.09071737066338419,
          0.6334847841474687,
          0.3071825571559436,
          -0.4857262165088668,
          -0.016132326632023995,
          0.5396152536884207,
          1.2850769796729489,
          -0.09184295300134171,
          0.6230902035502993,
          -0.28510111886218,
          0.963559438496964,
          1.7301036427052279,
          -0.23999086747889203,
          -0.6634015983510081,
          0.3389483473977393,
          1.3015088526277432,
          0.2801083119723154,
          -1.0717367219346814,
          0.6430291779034134,
          1.0587542570407236,
          -1.8666690899056997,
          0.19629610393134483
         ],
         "y": [
          -0.8078877810272339,
          -0.6448885204384242,
          -0.7455902419946399,
          -1.3050276821950197,
          0.5003808807272312,
          -0.2544095597272951,
          -1.3513709895354138,
          -2.5602738161529337,
          1.8961054211952009,
          1.7143645670390613,
          0.38789704551642606,
          -0.43216641964758024,
          -0.121487555297366,
          0.4886943348247054,
          -0.531024084846558,
          1.019974525402949,
          -1.1265502671384462,
          -0.11944479093297246,
          0.07992209285850868,
          0.35694133719785076,
          1.5133316673425885,
          0.9526731400979774,
          2.1783088334956022,
          -0.5359561007282527,
          0.3879712182730429,
          -0.5599572053329858,
          0.7535131619955537,
          0.1737238244194225,
          -0.1398249931343527,
          -0.7847908485735925,
          -0.7389327805747367,
          0.24358444714280714,
          1.5261767506458273,
          0.06163695959046099,
          -0.4101352328979562,
          -0.09324634096394105,
          0.6528869126446963,
          0.01814734085788372,
          -1.3547064835577245,
          -0.6151383657756476,
          -0.028002153962266033,
          -1.0794710885393703,
          0.10420625617257966,
          0.0016299303751393895,
          0.20635200140925392,
          -2.233926947939479,
          -1.0973127325260994,
          -0.4408212095555347,
          1.22408852383261,
          0.13518041692760324,
          -0.6380915291645423,
          -1.0077051393357612,
          -0.2287842060650193,
          -1.4542627061984326,
          -0.8098208866087253,
          -0.023631771936152825,
          0.25512205354700956,
          -0.4367753483304965,
          -1.1077991003347287,
          1.5311400432991595,
          -1.2024989249956632,
          0.12192266114566915,
          0.35121591416736425,
          0.528914304859543,
          -0.04869540341544756,
          0.9691544110353982,
          -0.5742621312272939,
          -0.38144095937602707,
          2.0948824404994784,
          -0.2633073152560307,
          0.4376908561486388,
          -1.262068966059568,
          1.2029595169014162,
          0.6812982907014478,
          0.14481035473742293,
          -0.9025277487190613,
          -0.033162850514684906,
          -0.7212577482125213,
          -1.2129688234713587,
          0.10702847749976899,
          -0.5944521348825197,
          -0.22021650672250928,
          -0.08777301917765741,
          0.49809817622022645,
          -0.38138542032541234,
          2.2291460401740446,
          0.22260641858867825,
          -0.6572688729049547,
          0.21066253910388472,
          -1.9777342722498183,
          0.3060242902498709,
          -0.6017968715314095,
          1.7495494270187508,
          0.41260960952983505,
          -0.6762840831291067,
          1.0885603890399016,
          1.3670041388951435,
          0.4449508775116109,
          0.4117141563361959,
          -0.6129289668954218
         ]
        }
       ],
       "layout": {
        "legend": {
         "bgcolor": "#F5F6F9",
         "font": {
          "color": "#4D5663"
         }
        },
        "paper_bgcolor": "#F5F6F9",
        "plot_bgcolor": "#F5F6F9",
        "template": {
         "data": {
          "bar": [
           {
            "error_x": {
             "color": "#2a3f5f"
            },
            "error_y": {
             "color": "#2a3f5f"
            },
            "marker": {
             "line": {
              "color": "#E5ECF6",
              "width": 0.5
             },
             "pattern": {
              "fillmode": "overlay",
              "size": 10,
              "solidity": 0.2
             }
            },
            "type": "bar"
           }
          ],
          "barpolar": [
           {
            "marker": {
             "line": {
              "color": "#E5ECF6",
              "width": 0.5
             },
             "pattern": {
              "fillmode": "overlay",
              "size": 10,
              "solidity": 0.2
             }
            },
            "type": "barpolar"
           }
          ],
          "carpet": [
           {
            "aaxis": {
             "endlinecolor": "#2a3f5f",
             "gridcolor": "white",
             "linecolor": "white",
             "minorgridcolor": "white",
             "startlinecolor": "#2a3f5f"
            },
            "baxis": {
             "endlinecolor": "#2a3f5f",
             "gridcolor": "white",
             "linecolor": "white",
             "minorgridcolor": "white",
             "startlinecolor": "#2a3f5f"
            },
            "type": "carpet"
           }
          ],
          "choropleth": [
           {
            "colorbar": {
             "outlinewidth": 0,
             "ticks": ""
            },
            "type": "choropleth"
           }
          ],
          "contour": [
           {
            "colorbar": {
             "outlinewidth": 0,
             "ticks": ""
            },
            "colorscale": [
             [
              0,
              "#0d0887"
             ],
             [
              0.1111111111111111,
              "#46039f"
             ],
             [
              0.2222222222222222,
              "#7201a8"
             ],
             [
              0.3333333333333333,
              "#9c179e"
             ],
             [
              0.4444444444444444,
              "#bd3786"
             ],
             [
              0.5555555555555556,
              "#d8576b"
             ],
             [
              0.6666666666666666,
              "#ed7953"
             ],
             [
              0.7777777777777778,
              "#fb9f3a"
             ],
             [
              0.8888888888888888,
              "#fdca26"
             ],
             [
              1,
              "#f0f921"
             ]
            ],
            "type": "contour"
           }
          ],
          "contourcarpet": [
           {
            "colorbar": {
             "outlinewidth": 0,
             "ticks": ""
            },
            "type": "contourcarpet"
           }
          ],
          "heatmap": [
           {
            "colorbar": {
             "outlinewidth": 0,
             "ticks": ""
            },
            "colorscale": [
             [
              0,
              "#0d0887"
             ],
             [
              0.1111111111111111,
              "#46039f"
             ],
             [
              0.2222222222222222,
              "#7201a8"
             ],
             [
              0.3333333333333333,
              "#9c179e"
             ],
             [
              0.4444444444444444,
              "#bd3786"
             ],
             [
              0.5555555555555556,
              "#d8576b"
             ],
             [
              0.6666666666666666,
              "#ed7953"
             ],
             [
              0.7777777777777778,
              "#fb9f3a"
             ],
             [
              0.8888888888888888,
              "#fdca26"
             ],
             [
              1,
              "#f0f921"
             ]
            ],
            "type": "heatmap"
           }
          ],
          "heatmapgl": [
           {
            "colorbar": {
             "outlinewidth": 0,
             "ticks": ""
            },
            "colorscale": [
             [
              0,
              "#0d0887"
             ],
             [
              0.1111111111111111,
              "#46039f"
             ],
             [
              0.2222222222222222,
              "#7201a8"
             ],
             [
              0.3333333333333333,
              "#9c179e"
             ],
             [
              0.4444444444444444,
              "#bd3786"
             ],
             [
              0.5555555555555556,
              "#d8576b"
             ],
             [
              0.6666666666666666,
              "#ed7953"
             ],
             [
              0.7777777777777778,
              "#fb9f3a"
             ],
             [
              0.8888888888888888,
              "#fdca26"
             ],
             [
              1,
              "#f0f921"
             ]
            ],
            "type": "heatmapgl"
           }
          ],
          "histogram": [
           {
            "marker": {
             "pattern": {
              "fillmode": "overlay",
              "size": 10,
              "solidity": 0.2
             }
            },
            "type": "histogram"
           }
          ],
          "histogram2d": [
           {
            "colorbar": {
             "outlinewidth": 0,
             "ticks": ""
            },
            "colorscale": [
             [
              0,
              "#0d0887"
             ],
             [
              0.1111111111111111,
              "#46039f"
             ],
             [
              0.2222222222222222,
              "#7201a8"
             ],
             [
              0.3333333333333333,
              "#9c179e"
             ],
             [
              0.4444444444444444,
              "#bd3786"
             ],
             [
              0.5555555555555556,
              "#d8576b"
             ],
             [
              0.6666666666666666,
              "#ed7953"
             ],
             [
              0.7777777777777778,
              "#fb9f3a"
             ],
             [
              0.8888888888888888,
              "#fdca26"
             ],
             [
              1,
              "#f0f921"
             ]
            ],
            "type": "histogram2d"
           }
          ],
          "histogram2dcontour": [
           {
            "colorbar": {
             "outlinewidth": 0,
             "ticks": ""
            },
            "colorscale": [
             [
              0,
              "#0d0887"
             ],
             [
              0.1111111111111111,
              "#46039f"
             ],
             [
              0.2222222222222222,
              "#7201a8"
             ],
             [
              0.3333333333333333,
              "#9c179e"
             ],
             [
              0.4444444444444444,
              "#bd3786"
             ],
             [
              0.5555555555555556,
              "#d8576b"
             ],
             [
              0.6666666666666666,
              "#ed7953"
             ],
             [
              0.7777777777777778,
              "#fb9f3a"
             ],
             [
              0.8888888888888888,
              "#fdca26"
             ],
             [
              1,
              "#f0f921"
             ]
            ],
            "type": "histogram2dcontour"
           }
          ],
          "mesh3d": [
           {
            "colorbar": {
             "outlinewidth": 0,
             "ticks": ""
            },
            "type": "mesh3d"
           }
          ],
          "parcoords": [
           {
            "line": {
             "colorbar": {
              "outlinewidth": 0,
              "ticks": ""
             }
            },
            "type": "parcoords"
           }
          ],
          "pie": [
           {
            "automargin": true,
            "type": "pie"
           }
          ],
          "scatter": [
           {
            "marker": {
             "colorbar": {
              "outlinewidth": 0,
              "ticks": ""
             }
            },
            "type": "scatter"
           }
          ],
          "scatter3d": [
           {
            "line": {
             "colorbar": {
              "outlinewidth": 0,
              "ticks": ""
             }
            },
            "marker": {
             "colorbar": {
              "outlinewidth": 0,
              "ticks": ""
             }
            },
            "type": "scatter3d"
           }
          ],
          "scattercarpet": [
           {
            "marker": {
             "colorbar": {
              "outlinewidth": 0,
              "ticks": ""
             }
            },
            "type": "scattercarpet"
           }
          ],
          "scattergeo": [
           {
            "marker": {
             "colorbar": {
              "outlinewidth": 0,
              "ticks": ""
             }
            },
            "type": "scattergeo"
           }
          ],
          "scattergl": [
           {
            "marker": {
             "colorbar": {
              "outlinewidth": 0,
              "ticks": ""
             }
            },
            "type": "scattergl"
           }
          ],
          "scattermapbox": [
           {
            "marker": {
             "colorbar": {
              "outlinewidth": 0,
              "ticks": ""
             }
            },
            "type": "scattermapbox"
           }
          ],
          "scatterpolar": [
           {
            "marker": {
             "colorbar": {
              "outlinewidth": 0,
              "ticks": ""
             }
            },
            "type": "scatterpolar"
           }
          ],
          "scatterpolargl": [
           {
            "marker": {
             "colorbar": {
              "outlinewidth": 0,
              "ticks": ""
             }
            },
            "type": "scatterpolargl"
           }
          ],
          "scatterternary": [
           {
            "marker": {
             "colorbar": {
              "outlinewidth": 0,
              "ticks": ""
             }
            },
            "type": "scatterternary"
           }
          ],
          "surface": [
           {
            "colorbar": {
             "outlinewidth": 0,
             "ticks": ""
            },
            "colorscale": [
             [
              0,
              "#0d0887"
             ],
             [
              0.1111111111111111,
              "#46039f"
             ],
             [
              0.2222222222222222,
              "#7201a8"
             ],
             [
              0.3333333333333333,
              "#9c179e"
             ],
             [
              0.4444444444444444,
              "#bd3786"
             ],
             [
              0.5555555555555556,
              "#d8576b"
             ],
             [
              0.6666666666666666,
              "#ed7953"
             ],
             [
              0.7777777777777778,
              "#fb9f3a"
             ],
             [
              0.8888888888888888,
              "#fdca26"
             ],
             [
              1,
              "#f0f921"
             ]
            ],
            "type": "surface"
           }
          ],
          "table": [
           {
            "cells": {
             "fill": {
              "color": "#EBF0F8"
             },
             "line": {
              "color": "white"
             }
            },
            "header": {
             "fill": {
              "color": "#C8D4E3"
             },
             "line": {
              "color": "white"
             }
            },
            "type": "table"
           }
          ]
         },
         "layout": {
          "annotationdefaults": {
           "arrowcolor": "#2a3f5f",
           "arrowhead": 0,
           "arrowwidth": 1
          },
          "autotypenumbers": "strict",
          "coloraxis": {
           "colorbar": {
            "outlinewidth": 0,
            "ticks": ""
           }
          },
          "colorscale": {
           "diverging": [
            [
             0,
             "#8e0152"
            ],
            [
             0.1,
             "#c51b7d"
            ],
            [
             0.2,
             "#de77ae"
            ],
            [
             0.3,
             "#f1b6da"
            ],
            [
             0.4,
             "#fde0ef"
            ],
            [
             0.5,
             "#f7f7f7"
            ],
            [
             0.6,
             "#e6f5d0"
            ],
            [
             0.7,
             "#b8e186"
            ],
            [
             0.8,
             "#7fbc41"
            ],
            [
             0.9,
             "#4d9221"
            ],
            [
             1,
             "#276419"
            ]
           ],
           "sequential": [
            [
             0,
             "#0d0887"
            ],
            [
             0.1111111111111111,
             "#46039f"
            ],
            [
             0.2222222222222222,
             "#7201a8"
            ],
            [
             0.3333333333333333,
             "#9c179e"
            ],
            [
             0.4444444444444444,
             "#bd3786"
            ],
            [
             0.5555555555555556,
             "#d8576b"
            ],
            [
             0.6666666666666666,
             "#ed7953"
            ],
            [
             0.7777777777777778,
             "#fb9f3a"
            ],
            [
             0.8888888888888888,
             "#fdca26"
            ],
            [
             1,
             "#f0f921"
            ]
           ],
           "sequentialminus": [
            [
             0,
             "#0d0887"
            ],
            [
             0.1111111111111111,
             "#46039f"
            ],
            [
             0.2222222222222222,
             "#7201a8"
            ],
            [
             0.3333333333333333,
             "#9c179e"
            ],
            [
             0.4444444444444444,
             "#bd3786"
            ],
            [
             0.5555555555555556,
             "#d8576b"
            ],
            [
             0.6666666666666666,
             "#ed7953"
            ],
            [
             0.7777777777777778,
             "#fb9f3a"
            ],
            [
             0.8888888888888888,
             "#fdca26"
            ],
            [
             1,
             "#f0f921"
            ]
           ]
          },
          "colorway": [
           "#636efa",
           "#EF553B",
           "#00cc96",
           "#ab63fa",
           "#FFA15A",
           "#19d3f3",
           "#FF6692",
           "#B6E880",
           "#FF97FF",
           "#FECB52"
          ],
          "font": {
           "color": "#2a3f5f"
          },
          "geo": {
           "bgcolor": "white",
           "lakecolor": "white",
           "landcolor": "#E5ECF6",
           "showlakes": true,
           "showland": true,
           "subunitcolor": "white"
          },
          "hoverlabel": {
           "align": "left"
          },
          "hovermode": "closest",
          "mapbox": {
           "style": "light"
          },
          "paper_bgcolor": "white",
          "plot_bgcolor": "#E5ECF6",
          "polar": {
           "angularaxis": {
            "gridcolor": "white",
            "linecolor": "white",
            "ticks": ""
           },
           "bgcolor": "#E5ECF6",
           "radialaxis": {
            "gridcolor": "white",
            "linecolor": "white",
            "ticks": ""
           }
          },
          "scene": {
           "xaxis": {
            "backgroundcolor": "#E5ECF6",
            "gridcolor": "white",
            "gridwidth": 2,
            "linecolor": "white",
            "showbackground": true,
            "ticks": "",
            "zerolinecolor": "white"
           },
           "yaxis": {
            "backgroundcolor": "#E5ECF6",
            "gridcolor": "white",
            "gridwidth": 2,
            "linecolor": "white",
            "showbackground": true,
            "ticks": "",
            "zerolinecolor": "white"
           },
           "zaxis": {
            "backgroundcolor": "#E5ECF6",
            "gridcolor": "white",
            "gridwidth": 2,
            "linecolor": "white",
            "showbackground": true,
            "ticks": "",
            "zerolinecolor": "white"
           }
          },
          "shapedefaults": {
           "line": {
            "color": "#2a3f5f"
           }
          },
          "ternary": {
           "aaxis": {
            "gridcolor": "white",
            "linecolor": "white",
            "ticks": ""
           },
           "baxis": {
            "gridcolor": "white",
            "linecolor": "white",
            "ticks": ""
           },
           "bgcolor": "#E5ECF6",
           "caxis": {
            "gridcolor": "white",
            "linecolor": "white",
            "ticks": ""
           }
          },
          "title": {
           "x": 0.05
          },
          "xaxis": {
           "automargin": true,
           "gridcolor": "white",
           "linecolor": "white",
           "ticks": "",
           "title": {
            "standoff": 15
           },
           "zerolinecolor": "white",
           "zerolinewidth": 2
          },
          "yaxis": {
           "automargin": true,
           "gridcolor": "white",
           "linecolor": "white",
           "ticks": "",
           "title": {
            "standoff": 15
           },
           "zerolinecolor": "white",
           "zerolinewidth": 2
          }
         }
        },
        "title": {
         "font": {
          "color": "#4D5663"
         }
        },
        "xaxis": {
         "gridcolor": "#E1E5ED",
         "showgrid": true,
         "tickfont": {
          "color": "#4D5663"
         },
         "title": {
          "font": {
           "color": "#4D5663"
          },
          "text": ""
         },
         "zerolinecolor": "#E1E5ED"
        },
        "yaxis": {
         "gridcolor": "#E1E5ED",
         "showgrid": true,
         "tickfont": {
          "color": "#4D5663"
         },
         "title": {
          "font": {
           "color": "#4D5663"
          },
          "text": ""
         },
         "zerolinecolor": "#E1E5ED"
        }
       }
      },
      "text/html": [
       "<div>                            <div id=\"a98a908d-16cf-41bf-bec5-857385713f72\" class=\"plotly-graph-div\" style=\"height:525px; width:100%;\"></div>            <script type=\"text/javascript\">                require([\"plotly\"], function(Plotly) {                    window.PLOTLYENV=window.PLOTLYENV || {};\n",
       "                    window.PLOTLYENV.BASE_URL='https://plot.ly';                                    if (document.getElementById(\"a98a908d-16cf-41bf-bec5-857385713f72\")) {                    Plotly.newPlot(                        \"a98a908d-16cf-41bf-bec5-857385713f72\",                        [{\"marker\":{\"color\":[\"orange\",\"orange\",\"orange\",\"orange\",\"orange\",\"orange\",\"orange\",\"orange\",\"orange\",\"orange\",\"orange\",\"orange\",\"orange\",\"orange\",\"orange\",\"orange\",\"orange\",\"orange\",\"orange\",\"orange\",\"orange\",\"orange\",\"orange\",\"orange\",\"orange\",\"orange\",\"orange\",\"orange\",\"orange\",\"orange\",\"orange\",\"orange\",\"orange\",\"orange\",\"orange\",\"orange\",\"orange\",\"orange\",\"orange\",\"orange\",\"orange\",\"orange\",\"orange\",\"orange\",\"orange\",\"orange\",\"orange\",\"orange\",\"orange\",\"orange\",\"orange\",\"orange\",\"orange\",\"orange\",\"orange\",\"orange\",\"orange\",\"orange\",\"orange\",\"orange\",\"orange\",\"orange\",\"orange\",\"orange\",\"orange\",\"orange\",\"orange\",\"orange\",\"orange\",\"orange\",\"orange\",\"orange\",\"orange\",\"orange\",\"orange\",\"orange\",\"orange\",\"orange\",\"orange\",\"orange\",\"orange\",\"orange\",\"orange\",\"orange\",\"orange\",\"orange\",\"orange\",\"orange\",\"orange\",\"orange\",\"orange\",\"orange\",\"orange\",\"orange\",\"orange\",\"orange\",\"orange\",\"orange\",\"orange\",\"orange\"],\"line\":{\"width\":1.3},\"size\":[54,60,56,66,12,36,78,69,43,62,80,51,59,48,67,47,58,80,50,76,97,112,55,82,15,50,97,53,36,48,60,74,16,75,59,52,53,49,65,77,68,87,87,51,40,50,91,25,34,49,46,73,24,75,53,72,73,20,52,54,69,50,81,59,81,64,61,38,52,34,35,28,67,29,70,63,63,30,93,63,75,69,54,31,50,38,69,77,82,35,48,19,40,48,57,80,39,80,35,31],\"symbol\":\"circle\"},\"mode\":\"markers\",\"text\":\"\",\"x\":[-0.19028147001615417,0.3282365234795369,1.1399229516160017,-1.5285412750999146,-0.24886967751150038,0.2516245509136745,1.0322355236009921,0.11599439899823132,-0.08552299190870857,-0.392599667290996,1.0483873911059238,-1.3672086527525584,-1.2953691663834808,-0.37398870480107765,0.16094578705735657,0.698636684971462,1.5186664839892636,-0.3023573194571271,0.16832675647100329,0.19054539363793585,-0.05607139243232748,2.49434793378773,-0.530066327400534,0.8770350482674139,0.813057708391379,0.29820305701467675,0.4091606649710951,-0.07901188676813516,-0.32164633372494433,0.9816522229170433,0.6776451608653729,-0.8353341427637865,1.4655636349628942,2.00973210510375,0.34269433539070104,0.6002392765015414,0.7117390891406551,1.0592117801719485,0.7228041981165503,-0.8736465721312067,0.5676459790026085,0.3946690709293932,1.1159103925968208,-1.3623917634657412,0.6708499442787056,2.7667695870284845,0.7208184734528509,-0.5012612586998206,-1.1208824336937548,0.08310983627321097,1.4675574284440516,1.2532790994123408,0.007306638487820633,-0.8858137066431648,0.6242810094285595,-1.204652301395593,-1.1592080495946446,-0.8345983358790608,-0.7876304667169377,0.2226800879806531,0.4415686839563639,-0.269932602749613,-1.203764434204222,0.2411069726838896,-0.09951908368939481,-1.2286268384318006,0.9640396290879625,2.533865804668992,0.6363573751229564,0.6472031726814976,0.3660259455013826,0.9127612805233639,0.17883708005765753,-0.7077382719243921,-0.30885550649166293,1.327815639824272,-1.0254221405341721,-0.9383686643953827,-0.09071737066338419,0.6334847841474687,0.3071825571559436,-0.4857262165088668,-0.016132326632023995,0.5396152536884207,1.2850769796729489,-0.09184295300134171,0.6230902035502993,-0.28510111886218,0.963559438496964,1.7301036427052279,-0.23999086747889203,-0.6634015983510081,0.3389483473977393,1.3015088526277432,0.2801083119723154,-1.0717367219346814,0.6430291779034134,1.0587542570407236,-1.8666690899056997,0.19629610393134483],\"y\":[-0.8078877810272339,-0.6448885204384242,-0.7455902419946399,-1.3050276821950197,0.5003808807272312,-0.2544095597272951,-1.3513709895354138,-2.5602738161529337,1.8961054211952009,1.7143645670390613,0.38789704551642606,-0.43216641964758024,-0.121487555297366,0.4886943348247054,-0.531024084846558,1.019974525402949,-1.1265502671384462,-0.11944479093297246,0.07992209285850868,0.35694133719785076,1.5133316673425885,0.9526731400979774,2.1783088334956022,-0.5359561007282527,0.3879712182730429,-0.5599572053329858,0.7535131619955537,0.1737238244194225,-0.1398249931343527,-0.7847908485735925,-0.7389327805747367,0.24358444714280714,1.5261767506458273,0.06163695959046099,-0.4101352328979562,-0.09324634096394105,0.6528869126446963,0.01814734085788372,-1.3547064835577245,-0.6151383657756476,-0.028002153962266033,-1.0794710885393703,0.10420625617257966,0.0016299303751393895,0.20635200140925392,-2.233926947939479,-1.0973127325260994,-0.4408212095555347,1.22408852383261,0.13518041692760324,-0.6380915291645423,-1.0077051393357612,-0.2287842060650193,-1.4542627061984326,-0.8098208866087253,-0.023631771936152825,0.25512205354700956,-0.4367753483304965,-1.1077991003347287,1.5311400432991595,-1.2024989249956632,0.12192266114566915,0.35121591416736425,0.528914304859543,-0.04869540341544756,0.9691544110353982,-0.5742621312272939,-0.38144095937602707,2.0948824404994784,-0.2633073152560307,0.4376908561486388,-1.262068966059568,1.2029595169014162,0.6812982907014478,0.14481035473742293,-0.9025277487190613,-0.033162850514684906,-0.7212577482125213,-1.2129688234713587,0.10702847749976899,-0.5944521348825197,-0.22021650672250928,-0.08777301917765741,0.49809817622022645,-0.38138542032541234,2.2291460401740446,0.22260641858867825,-0.6572688729049547,0.21066253910388472,-1.9777342722498183,0.3060242902498709,-0.6017968715314095,1.7495494270187508,0.41260960952983505,-0.6762840831291067,1.0885603890399016,1.3670041388951435,0.4449508775116109,0.4117141563361959,-0.6129289668954218],\"type\":\"scatter\"}],                        {\"legend\":{\"bgcolor\":\"#F5F6F9\",\"font\":{\"color\":\"#4D5663\"}},\"paper_bgcolor\":\"#F5F6F9\",\"plot_bgcolor\":\"#F5F6F9\",\"template\":{\"data\":{\"barpolar\":[{\"marker\":{\"line\":{\"color\":\"#E5ECF6\",\"width\":0.5},\"pattern\":{\"fillmode\":\"overlay\",\"size\":10,\"solidity\":0.2}},\"type\":\"barpolar\"}],\"bar\":[{\"error_x\":{\"color\":\"#2a3f5f\"},\"error_y\":{\"color\":\"#2a3f5f\"},\"marker\":{\"line\":{\"color\":\"#E5ECF6\",\"width\":0.5},\"pattern\":{\"fillmode\":\"overlay\",\"size\":10,\"solidity\":0.2}},\"type\":\"bar\"}],\"carpet\":[{\"aaxis\":{\"endlinecolor\":\"#2a3f5f\",\"gridcolor\":\"white\",\"linecolor\":\"white\",\"minorgridcolor\":\"white\",\"startlinecolor\":\"#2a3f5f\"},\"baxis\":{\"endlinecolor\":\"#2a3f5f\",\"gridcolor\":\"white\",\"linecolor\":\"white\",\"minorgridcolor\":\"white\",\"startlinecolor\":\"#2a3f5f\"},\"type\":\"carpet\"}],\"choropleth\":[{\"colorbar\":{\"outlinewidth\":0,\"ticks\":\"\"},\"type\":\"choropleth\"}],\"contourcarpet\":[{\"colorbar\":{\"outlinewidth\":0,\"ticks\":\"\"},\"type\":\"contourcarpet\"}],\"contour\":[{\"colorbar\":{\"outlinewidth\":0,\"ticks\":\"\"},\"colorscale\":[[0.0,\"#0d0887\"],[0.1111111111111111,\"#46039f\"],[0.2222222222222222,\"#7201a8\"],[0.3333333333333333,\"#9c179e\"],[0.4444444444444444,\"#bd3786\"],[0.5555555555555556,\"#d8576b\"],[0.6666666666666666,\"#ed7953\"],[0.7777777777777778,\"#fb9f3a\"],[0.8888888888888888,\"#fdca26\"],[1.0,\"#f0f921\"]],\"type\":\"contour\"}],\"heatmapgl\":[{\"colorbar\":{\"outlinewidth\":0,\"ticks\":\"\"},\"colorscale\":[[0.0,\"#0d0887\"],[0.1111111111111111,\"#46039f\"],[0.2222222222222222,\"#7201a8\"],[0.3333333333333333,\"#9c179e\"],[0.4444444444444444,\"#bd3786\"],[0.5555555555555556,\"#d8576b\"],[0.6666666666666666,\"#ed7953\"],[0.7777777777777778,\"#fb9f3a\"],[0.8888888888888888,\"#fdca26\"],[1.0,\"#f0f921\"]],\"type\":\"heatmapgl\"}],\"heatmap\":[{\"colorbar\":{\"outlinewidth\":0,\"ticks\":\"\"},\"colorscale\":[[0.0,\"#0d0887\"],[0.1111111111111111,\"#46039f\"],[0.2222222222222222,\"#7201a8\"],[0.3333333333333333,\"#9c179e\"],[0.4444444444444444,\"#bd3786\"],[0.5555555555555556,\"#d8576b\"],[0.6666666666666666,\"#ed7953\"],[0.7777777777777778,\"#fb9f3a\"],[0.8888888888888888,\"#fdca26\"],[1.0,\"#f0f921\"]],\"type\":\"heatmap\"}],\"histogram2dcontour\":[{\"colorbar\":{\"outlinewidth\":0,\"ticks\":\"\"},\"colorscale\":[[0.0,\"#0d0887\"],[0.1111111111111111,\"#46039f\"],[0.2222222222222222,\"#7201a8\"],[0.3333333333333333,\"#9c179e\"],[0.4444444444444444,\"#bd3786\"],[0.5555555555555556,\"#d8576b\"],[0.6666666666666666,\"#ed7953\"],[0.7777777777777778,\"#fb9f3a\"],[0.8888888888888888,\"#fdca26\"],[1.0,\"#f0f921\"]],\"type\":\"histogram2dcontour\"}],\"histogram2d\":[{\"colorbar\":{\"outlinewidth\":0,\"ticks\":\"\"},\"colorscale\":[[0.0,\"#0d0887\"],[0.1111111111111111,\"#46039f\"],[0.2222222222222222,\"#7201a8\"],[0.3333333333333333,\"#9c179e\"],[0.4444444444444444,\"#bd3786\"],[0.5555555555555556,\"#d8576b\"],[0.6666666666666666,\"#ed7953\"],[0.7777777777777778,\"#fb9f3a\"],[0.8888888888888888,\"#fdca26\"],[1.0,\"#f0f921\"]],\"type\":\"histogram2d\"}],\"histogram\":[{\"marker\":{\"pattern\":{\"fillmode\":\"overlay\",\"size\":10,\"solidity\":0.2}},\"type\":\"histogram\"}],\"mesh3d\":[{\"colorbar\":{\"outlinewidth\":0,\"ticks\":\"\"},\"type\":\"mesh3d\"}],\"parcoords\":[{\"line\":{\"colorbar\":{\"outlinewidth\":0,\"ticks\":\"\"}},\"type\":\"parcoords\"}],\"pie\":[{\"automargin\":true,\"type\":\"pie\"}],\"scatter3d\":[{\"line\":{\"colorbar\":{\"outlinewidth\":0,\"ticks\":\"\"}},\"marker\":{\"colorbar\":{\"outlinewidth\":0,\"ticks\":\"\"}},\"type\":\"scatter3d\"}],\"scattercarpet\":[{\"marker\":{\"colorbar\":{\"outlinewidth\":0,\"ticks\":\"\"}},\"type\":\"scattercarpet\"}],\"scattergeo\":[{\"marker\":{\"colorbar\":{\"outlinewidth\":0,\"ticks\":\"\"}},\"type\":\"scattergeo\"}],\"scattergl\":[{\"marker\":{\"colorbar\":{\"outlinewidth\":0,\"ticks\":\"\"}},\"type\":\"scattergl\"}],\"scattermapbox\":[{\"marker\":{\"colorbar\":{\"outlinewidth\":0,\"ticks\":\"\"}},\"type\":\"scattermapbox\"}],\"scatterpolargl\":[{\"marker\":{\"colorbar\":{\"outlinewidth\":0,\"ticks\":\"\"}},\"type\":\"scatterpolargl\"}],\"scatterpolar\":[{\"marker\":{\"colorbar\":{\"outlinewidth\":0,\"ticks\":\"\"}},\"type\":\"scatterpolar\"}],\"scatter\":[{\"marker\":{\"colorbar\":{\"outlinewidth\":0,\"ticks\":\"\"}},\"type\":\"scatter\"}],\"scatterternary\":[{\"marker\":{\"colorbar\":{\"outlinewidth\":0,\"ticks\":\"\"}},\"type\":\"scatterternary\"}],\"surface\":[{\"colorbar\":{\"outlinewidth\":0,\"ticks\":\"\"},\"colorscale\":[[0.0,\"#0d0887\"],[0.1111111111111111,\"#46039f\"],[0.2222222222222222,\"#7201a8\"],[0.3333333333333333,\"#9c179e\"],[0.4444444444444444,\"#bd3786\"],[0.5555555555555556,\"#d8576b\"],[0.6666666666666666,\"#ed7953\"],[0.7777777777777778,\"#fb9f3a\"],[0.8888888888888888,\"#fdca26\"],[1.0,\"#f0f921\"]],\"type\":\"surface\"}],\"table\":[{\"cells\":{\"fill\":{\"color\":\"#EBF0F8\"},\"line\":{\"color\":\"white\"}},\"header\":{\"fill\":{\"color\":\"#C8D4E3\"},\"line\":{\"color\":\"white\"}},\"type\":\"table\"}]},\"layout\":{\"annotationdefaults\":{\"arrowcolor\":\"#2a3f5f\",\"arrowhead\":0,\"arrowwidth\":1},\"autotypenumbers\":\"strict\",\"coloraxis\":{\"colorbar\":{\"outlinewidth\":0,\"ticks\":\"\"}},\"colorscale\":{\"diverging\":[[0,\"#8e0152\"],[0.1,\"#c51b7d\"],[0.2,\"#de77ae\"],[0.3,\"#f1b6da\"],[0.4,\"#fde0ef\"],[0.5,\"#f7f7f7\"],[0.6,\"#e6f5d0\"],[0.7,\"#b8e186\"],[0.8,\"#7fbc41\"],[0.9,\"#4d9221\"],[1,\"#276419\"]],\"sequential\":[[0.0,\"#0d0887\"],[0.1111111111111111,\"#46039f\"],[0.2222222222222222,\"#7201a8\"],[0.3333333333333333,\"#9c179e\"],[0.4444444444444444,\"#bd3786\"],[0.5555555555555556,\"#d8576b\"],[0.6666666666666666,\"#ed7953\"],[0.7777777777777778,\"#fb9f3a\"],[0.8888888888888888,\"#fdca26\"],[1.0,\"#f0f921\"]],\"sequentialminus\":[[0.0,\"#0d0887\"],[0.1111111111111111,\"#46039f\"],[0.2222222222222222,\"#7201a8\"],[0.3333333333333333,\"#9c179e\"],[0.4444444444444444,\"#bd3786\"],[0.5555555555555556,\"#d8576b\"],[0.6666666666666666,\"#ed7953\"],[0.7777777777777778,\"#fb9f3a\"],[0.8888888888888888,\"#fdca26\"],[1.0,\"#f0f921\"]]},\"colorway\":[\"#636efa\",\"#EF553B\",\"#00cc96\",\"#ab63fa\",\"#FFA15A\",\"#19d3f3\",\"#FF6692\",\"#B6E880\",\"#FF97FF\",\"#FECB52\"],\"font\":{\"color\":\"#2a3f5f\"},\"geo\":{\"bgcolor\":\"white\",\"lakecolor\":\"white\",\"landcolor\":\"#E5ECF6\",\"showlakes\":true,\"showland\":true,\"subunitcolor\":\"white\"},\"hoverlabel\":{\"align\":\"left\"},\"hovermode\":\"closest\",\"mapbox\":{\"style\":\"light\"},\"paper_bgcolor\":\"white\",\"plot_bgcolor\":\"#E5ECF6\",\"polar\":{\"angularaxis\":{\"gridcolor\":\"white\",\"linecolor\":\"white\",\"ticks\":\"\"},\"bgcolor\":\"#E5ECF6\",\"radialaxis\":{\"gridcolor\":\"white\",\"linecolor\":\"white\",\"ticks\":\"\"}},\"scene\":{\"xaxis\":{\"backgroundcolor\":\"#E5ECF6\",\"gridcolor\":\"white\",\"gridwidth\":2,\"linecolor\":\"white\",\"showbackground\":true,\"ticks\":\"\",\"zerolinecolor\":\"white\"},\"yaxis\":{\"backgroundcolor\":\"#E5ECF6\",\"gridcolor\":\"white\",\"gridwidth\":2,\"linecolor\":\"white\",\"showbackground\":true,\"ticks\":\"\",\"zerolinecolor\":\"white\"},\"zaxis\":{\"backgroundcolor\":\"#E5ECF6\",\"gridcolor\":\"white\",\"gridwidth\":2,\"linecolor\":\"white\",\"showbackground\":true,\"ticks\":\"\",\"zerolinecolor\":\"white\"}},\"shapedefaults\":{\"line\":{\"color\":\"#2a3f5f\"}},\"ternary\":{\"aaxis\":{\"gridcolor\":\"white\",\"linecolor\":\"white\",\"ticks\":\"\"},\"baxis\":{\"gridcolor\":\"white\",\"linecolor\":\"white\",\"ticks\":\"\"},\"bgcolor\":\"#E5ECF6\",\"caxis\":{\"gridcolor\":\"white\",\"linecolor\":\"white\",\"ticks\":\"\"}},\"title\":{\"x\":0.05},\"xaxis\":{\"automargin\":true,\"gridcolor\":\"white\",\"linecolor\":\"white\",\"ticks\":\"\",\"title\":{\"standoff\":15},\"zerolinecolor\":\"white\",\"zerolinewidth\":2},\"yaxis\":{\"automargin\":true,\"gridcolor\":\"white\",\"linecolor\":\"white\",\"ticks\":\"\",\"title\":{\"standoff\":15},\"zerolinecolor\":\"white\",\"zerolinewidth\":2}}},\"title\":{\"font\":{\"color\":\"#4D5663\"}},\"xaxis\":{\"gridcolor\":\"#E1E5ED\",\"showgrid\":true,\"tickfont\":{\"color\":\"#4D5663\"},\"title\":{\"font\":{\"color\":\"#4D5663\"},\"text\":\"\"},\"zerolinecolor\":\"#E1E5ED\"},\"yaxis\":{\"gridcolor\":\"#E1E5ED\",\"showgrid\":true,\"tickfont\":{\"color\":\"#4D5663\"},\"title\":{\"font\":{\"color\":\"#4D5663\"},\"text\":\"\"},\"zerolinecolor\":\"#E1E5ED\"}},                        {\"showLink\": true, \"linkText\": \"Export to plot.ly\", \"plotlyServerURL\": \"https://plot.ly\", \"responsive\": true}                    ).then(function(){\n",
       "                            \n",
       "var gd = document.getElementById('a98a908d-16cf-41bf-bec5-857385713f72');\n",
       "var x = new MutationObserver(function (mutations, observer) {{\n",
       "        var display = window.getComputedStyle(gd).display;\n",
       "        if (!display || display === 'none') {{\n",
       "            console.log([gd, 'removed!']);\n",
       "            Plotly.purge(gd);\n",
       "            observer.disconnect();\n",
       "        }}\n",
       "}});\n",
       "\n",
       "// Listen for the removal of the full notebook cells\n",
       "var notebookContainer = gd.closest('#notebook-container');\n",
       "if (notebookContainer) {{\n",
       "    x.observe(notebookContainer, {childList: true});\n",
       "}}\n",
       "\n",
       "// Listen for the clearing of the current output cell\n",
       "var outputEl = gd.closest('.output');\n",
       "if (outputEl) {{\n",
       "    x.observe(outputEl, {childList: true});\n",
       "}}\n",
       "\n",
       "                        })                };                });            </script>        </div>"
      ]
     },
     "metadata": {},
     "output_type": "display_data"
    }
   ],
   "source": [
    "df.iplot(kind = 'bubble', x = 'A', y = 'B', size = 'C', color = 'orange')"
   ]
  },
  {
   "cell_type": "markdown",
   "metadata": {},
   "source": [
    "#### Scatter-matrix plot\n",
    "\n",
    "Use with care on large datasets (*read*: should be avoided altogether)"
   ]
  },
  {
   "cell_type": "code",
   "execution_count": 43,
   "metadata": {},
   "outputs": [
    {
     "data": {
      "application/vnd.plotly.v1+json": {
       "config": {
        "linkText": "Export to plot.ly",
        "plotlyServerURL": "https://plot.ly",
        "showLink": true
       },
       "data": [
        {
         "histfunc": "count",
         "histnorm": "",
         "marker": {
          "color": "rgba(255, 153, 51, 1.0)",
          "line": {
           "color": "#4D5663",
           "width": 1.3
          }
         },
         "name": "A",
         "nbinsx": 10,
         "opacity": 0.8,
         "orientation": "v",
         "type": "histogram",
         "x": [
          -0.19028147001615417,
          0.3282365234795369,
          1.1399229516160017,
          -1.5285412750999146,
          -0.24886967751150038,
          0.2516245509136745,
          1.0322355236009921,
          0.11599439899823132,
          -0.08552299190870857,
          -0.392599667290996,
          1.0483873911059238,
          -1.3672086527525584,
          -1.2953691663834808,
          -0.37398870480107765,
          0.16094578705735657,
          0.698636684971462,
          1.5186664839892636,
          -0.3023573194571271,
          0.16832675647100329,
          0.19054539363793585,
          -0.05607139243232748,
          2.49434793378773,
          -0.530066327400534,
          0.8770350482674139,
          0.813057708391379,
          0.29820305701467675,
          0.4091606649710951,
          -0.07901188676813516,
          -0.32164633372494433,
          0.9816522229170433,
          0.6776451608653729,
          -0.8353341427637865,
          1.4655636349628942,
          2.00973210510375,
          0.34269433539070104,
          0.6002392765015414,
          0.7117390891406551,
          1.0592117801719485,
          0.7228041981165503,
          -0.8736465721312067,
          0.5676459790026085,
          0.3946690709293932,
          1.1159103925968208,
          -1.3623917634657412,
          0.6708499442787056,
          2.7667695870284845,
          0.7208184734528509,
          -0.5012612586998206,
          -1.1208824336937548,
          0.08310983627321097,
          1.4675574284440516,
          1.2532790994123408,
          0.007306638487820633,
          -0.8858137066431648,
          0.6242810094285595,
          -1.204652301395593,
          -1.1592080495946446,
          -0.8345983358790608,
          -0.7876304667169377,
          0.2226800879806531,
          0.4415686839563639,
          -0.269932602749613,
          -1.203764434204222,
          0.2411069726838896,
          -0.09951908368939481,
          -1.2286268384318006,
          0.9640396290879625,
          2.533865804668992,
          0.6363573751229564,
          0.6472031726814976,
          0.3660259455013826,
          0.9127612805233639,
          0.17883708005765753,
          -0.7077382719243921,
          -0.30885550649166293,
          1.327815639824272,
          -1.0254221405341721,
          -0.9383686643953827,
          -0.09071737066338419,
          0.6334847841474687,
          0.3071825571559436,
          -0.4857262165088668,
          -0.016132326632023995,
          0.5396152536884207,
          1.2850769796729489,
          -0.09184295300134171,
          0.6230902035502993,
          -0.28510111886218,
          0.963559438496964,
          1.7301036427052279,
          -0.23999086747889203,
          -0.6634015983510081,
          0.3389483473977393,
          1.3015088526277432,
          0.2801083119723154,
          -1.0717367219346814,
          0.6430291779034134,
          1.0587542570407236,
          -1.8666690899056997,
          0.19629610393134483
         ],
         "xaxis": "x",
         "yaxis": "y"
        },
        {
         "line": {
          "color": "rgba(128, 128, 128, 1.0)",
          "dash": "solid",
          "shape": "linear",
          "width": 1.3
         },
         "marker": {
          "size": 2,
          "symbol": "circle"
         },
         "mode": "markers",
         "name": "A",
         "text": "",
         "type": "scatter",
         "x": [
          -0.8078877810272339,
          -0.6448885204384242,
          -0.7455902419946399,
          -1.3050276821950197,
          0.5003808807272312,
          -0.2544095597272951,
          -1.3513709895354138,
          -2.5602738161529337,
          1.8961054211952009,
          1.7143645670390613,
          0.38789704551642606,
          -0.43216641964758024,
          -0.121487555297366,
          0.4886943348247054,
          -0.531024084846558,
          1.019974525402949,
          -1.1265502671384462,
          -0.11944479093297246,
          0.07992209285850868,
          0.35694133719785076,
          1.5133316673425885,
          0.9526731400979774,
          2.1783088334956022,
          -0.5359561007282527,
          0.3879712182730429,
          -0.5599572053329858,
          0.7535131619955537,
          0.1737238244194225,
          -0.1398249931343527,
          -0.7847908485735925,
          -0.7389327805747367,
          0.24358444714280714,
          1.5261767506458273,
          0.06163695959046099,
          -0.4101352328979562,
          -0.09324634096394105,
          0.6528869126446963,
          0.01814734085788372,
          -1.3547064835577245,
          -0.6151383657756476,
          -0.028002153962266033,
          -1.0794710885393703,
          0.10420625617257966,
          0.0016299303751393895,
          0.20635200140925392,
          -2.233926947939479,
          -1.0973127325260994,
          -0.4408212095555347,
          1.22408852383261,
          0.13518041692760324,
          -0.6380915291645423,
          -1.0077051393357612,
          -0.2287842060650193,
          -1.4542627061984326,
          -0.8098208866087253,
          -0.023631771936152825,
          0.25512205354700956,
          -0.4367753483304965,
          -1.1077991003347287,
          1.5311400432991595,
          -1.2024989249956632,
          0.12192266114566915,
          0.35121591416736425,
          0.528914304859543,
          -0.04869540341544756,
          0.9691544110353982,
          -0.5742621312272939,
          -0.38144095937602707,
          2.0948824404994784,
          -0.2633073152560307,
          0.4376908561486388,
          -1.262068966059568,
          1.2029595169014162,
          0.6812982907014478,
          0.14481035473742293,
          -0.9025277487190613,
          -0.033162850514684906,
          -0.7212577482125213,
          -1.2129688234713587,
          0.10702847749976899,
          -0.5944521348825197,
          -0.22021650672250928,
          -0.08777301917765741,
          0.49809817622022645,
          -0.38138542032541234,
          2.2291460401740446,
          0.22260641858867825,
          -0.6572688729049547,
          0.21066253910388472,
          -1.9777342722498183,
          0.3060242902498709,
          -0.6017968715314095,
          1.7495494270187508,
          0.41260960952983505,
          -0.6762840831291067,
          1.0885603890399016,
          1.3670041388951435,
          0.4449508775116109,
          0.4117141563361959,
          -0.6129289668954218
         ],
         "xaxis": "x2",
         "y": [
          -0.19028147001615417,
          0.3282365234795369,
          1.1399229516160017,
          -1.5285412750999146,
          -0.24886967751150038,
          0.2516245509136745,
          1.0322355236009921,
          0.11599439899823132,
          -0.08552299190870857,
          -0.392599667290996,
          1.0483873911059238,
          -1.3672086527525584,
          -1.2953691663834808,
          -0.37398870480107765,
          0.16094578705735657,
          0.698636684971462,
          1.5186664839892636,
          -0.3023573194571271,
          0.16832675647100329,
          0.19054539363793585,
          -0.05607139243232748,
          2.49434793378773,
          -0.530066327400534,
          0.8770350482674139,
          0.813057708391379,
          0.29820305701467675,
          0.4091606649710951,
          -0.07901188676813516,
          -0.32164633372494433,
          0.9816522229170433,
          0.6776451608653729,
          -0.8353341427637865,
          1.4655636349628942,
          2.00973210510375,
          0.34269433539070104,
          0.6002392765015414,
          0.7117390891406551,
          1.0592117801719485,
          0.7228041981165503,
          -0.8736465721312067,
          0.5676459790026085,
          0.3946690709293932,
          1.1159103925968208,
          -1.3623917634657412,
          0.6708499442787056,
          2.7667695870284845,
          0.7208184734528509,
          -0.5012612586998206,
          -1.1208824336937548,
          0.08310983627321097,
          1.4675574284440516,
          1.2532790994123408,
          0.007306638487820633,
          -0.8858137066431648,
          0.6242810094285595,
          -1.204652301395593,
          -1.1592080495946446,
          -0.8345983358790608,
          -0.7876304667169377,
          0.2226800879806531,
          0.4415686839563639,
          -0.269932602749613,
          -1.203764434204222,
          0.2411069726838896,
          -0.09951908368939481,
          -1.2286268384318006,
          0.9640396290879625,
          2.533865804668992,
          0.6363573751229564,
          0.6472031726814976,
          0.3660259455013826,
          0.9127612805233639,
          0.17883708005765753,
          -0.7077382719243921,
          -0.30885550649166293,
          1.327815639824272,
          -1.0254221405341721,
          -0.9383686643953827,
          -0.09071737066338419,
          0.6334847841474687,
          0.3071825571559436,
          -0.4857262165088668,
          -0.016132326632023995,
          0.5396152536884207,
          1.2850769796729489,
          -0.09184295300134171,
          0.6230902035502993,
          -0.28510111886218,
          0.963559438496964,
          1.7301036427052279,
          -0.23999086747889203,
          -0.6634015983510081,
          0.3389483473977393,
          1.3015088526277432,
          0.2801083119723154,
          -1.0717367219346814,
          0.6430291779034134,
          1.0587542570407236,
          -1.8666690899056997,
          0.19629610393134483
         ],
         "yaxis": "y2"
        },
        {
         "line": {
          "color": "rgba(128, 128, 128, 1.0)",
          "dash": "solid",
          "shape": "linear",
          "width": 1.3
         },
         "marker": {
          "size": 2,
          "symbol": "circle"
         },
         "mode": "markers",
         "name": "A",
         "text": "",
         "type": "scatter",
         "x": [
          -0.28087858577267105,
          -0.004940607057401839,
          -0.18230220142911813,
          0.2600963731552484,
          -2.188017212805162,
          -1.0898037238817064,
          0.8029079536160184,
          0.39290560201141383,
          -0.7824771205914149,
          0.09623173110212756,
          0.9068065372365814,
          -0.3989989888769911,
          -0.0641446346766752,
          -0.5345419155492223,
          0.32796331193357764,
          -0.5767538701014241,
          -0.10512746808304435,
          0.9172381947599746,
          -0.4472695304778123,
          0.7102683856385797,
          1.6939178797464913,
          2.3266870929170236,
          -0.20697932602210786,
          0.983827831881114,
          -2.0426268092837243,
          -0.4349401334944814,
          1.6547889256895636,
          -0.31154737802476706,
          -1.0900054140495148,
          -0.5300848153772204,
          0.02164567537324387,
          0.6273332422749028,
          -1.9773216115130865,
          0.6687587249854554,
          -0.06504102004656755,
          -0.34618824562897654,
          -0.3199115087635271,
          -0.4987996519933438,
          0.23575723882577956,
          0.7597754367105237,
          0.349048519111151,
          1.2015268322994783,
          1.2159218440959862,
          -0.42192591804738677,
          -0.8944245463342192,
          -0.435919363532489,
          1.397820879769164,
          -1.560418050372487,
          -1.1788409473597223,
          -0.4986100474691056,
          -0.6466678757707934,
          0.5776410340113322,
          -1.6148839333548723,
          0.6886420824906866,
          -0.3328314224856059,
          0.5363702326516426,
          0.6036522566095408,
          -1.7863633611315732,
          -0.3784178651278131,
          -0.27019072144003586,
          0.41899925622522255,
          -0.44459848135470603,
          0.9276848536350926,
          -0.05560740096298692,
          0.9330717802136188,
          0.19933373068207802,
          0.06307907081003797,
          -1.0126845508220041,
          -0.36590596742424647,
          -1.1658403037968499,
          -1.145026708386471,
          -1.4374897359308019,
          0.31196568286651527,
          -1.4022129995090378,
          0.43145008296749926,
          0.15936536072957974,
          0.1571961245450657,
          -1.3657685562718185,
          1.4992195393508299,
          0.13302405909411777,
          0.6900814716829894,
          0.4142888696248817,
          -0.28001864824131567,
          -1.2999007434589738,
          -0.43031486383923556,
          -0.9694286604561002,
          0.42547381984692245,
          0.7778766895492566,
          1.0116733908927231,
          -1.1313424765515263,
          -0.5505972224035046,
          -1.8466325055319044,
          -0.90990122673788,
          -0.5374142307935139,
          -0.13444784767642923,
          0.9257971446921365,
          -0.9524785152276847,
          0.8823242234454758,
          -1.1309090674165982,
          -1.2869116132712173
         ],
         "xaxis": "x3",
         "y": [
          -0.19028147001615417,
          0.3282365234795369,
          1.1399229516160017,
          -1.5285412750999146,
          -0.24886967751150038,
          0.2516245509136745,
          1.0322355236009921,
          0.11599439899823132,
          -0.08552299190870857,
          -0.392599667290996,
          1.0483873911059238,
          -1.3672086527525584,
          -1.2953691663834808,
          -0.37398870480107765,
          0.16094578705735657,
          0.698636684971462,
          1.5186664839892636,
          -0.3023573194571271,
          0.16832675647100329,
          0.19054539363793585,
          -0.05607139243232748,
          2.49434793378773,
          -0.530066327400534,
          0.8770350482674139,
          0.813057708391379,
          0.29820305701467675,
          0.4091606649710951,
          -0.07901188676813516,
          -0.32164633372494433,
          0.9816522229170433,
          0.6776451608653729,
          -0.8353341427637865,
          1.4655636349628942,
          2.00973210510375,
          0.34269433539070104,
          0.6002392765015414,
          0.7117390891406551,
          1.0592117801719485,
          0.7228041981165503,
          -0.8736465721312067,
          0.5676459790026085,
          0.3946690709293932,
          1.1159103925968208,
          -1.3623917634657412,
          0.6708499442787056,
          2.7667695870284845,
          0.7208184734528509,
          -0.5012612586998206,
          -1.1208824336937548,
          0.08310983627321097,
          1.4675574284440516,
          1.2532790994123408,
          0.007306638487820633,
          -0.8858137066431648,
          0.6242810094285595,
          -1.204652301395593,
          -1.1592080495946446,
          -0.8345983358790608,
          -0.7876304667169377,
          0.2226800879806531,
          0.4415686839563639,
          -0.269932602749613,
          -1.203764434204222,
          0.2411069726838896,
          -0.09951908368939481,
          -1.2286268384318006,
          0.9640396290879625,
          2.533865804668992,
          0.6363573751229564,
          0.6472031726814976,
          0.3660259455013826,
          0.9127612805233639,
          0.17883708005765753,
          -0.7077382719243921,
          -0.30885550649166293,
          1.327815639824272,
          -1.0254221405341721,
          -0.9383686643953827,
          -0.09071737066338419,
          0.6334847841474687,
          0.3071825571559436,
          -0.4857262165088668,
          -0.016132326632023995,
          0.5396152536884207,
          1.2850769796729489,
          -0.09184295300134171,
          0.6230902035502993,
          -0.28510111886218,
          0.963559438496964,
          1.7301036427052279,
          -0.23999086747889203,
          -0.6634015983510081,
          0.3389483473977393,
          1.3015088526277432,
          0.2801083119723154,
          -1.0717367219346814,
          0.6430291779034134,
          1.0587542570407236,
          -1.8666690899056997,
          0.19629610393134483
         ],
         "yaxis": "y3"
        },
        {
         "line": {
          "color": "rgba(128, 128, 128, 1.0)",
          "dash": "solid",
          "shape": "linear",
          "width": 1.3
         },
         "marker": {
          "size": 2,
          "symbol": "circle"
         },
         "mode": "markers",
         "name": "A",
         "text": "",
         "type": "scatter",
         "x": [
          0.3288885223174926,
          -0.05362057683546842,
          0.6944864221692295,
          0.02252577433779823,
          0.13647546453678722,
          -0.10806801637002397,
          -0.30864646770180626,
          0.33901164794495464,
          0.060188705738250456,
          0.19380195170155903,
          -0.522348080237052,
          0.6193212852322433,
          0.04404147779042312,
          -0.5786956835065248,
          -0.9326312727624145,
          -1.1077031636459158,
          0.8222129392917609,
          -0.7151429012834042,
          -0.4076584263131162,
          0.380535345843578,
          1.9331246815616225,
          0.8854566533885581,
          0.9250097363967863,
          -1.2250734639959535,
          -2.22671463804753,
          -1.5742891094053724,
          0.978683053819982,
          -1.136319691015506,
          -1.1137441313670016,
          0.436318837908886,
          0.541594724232907,
          0.9779228111714007,
          0.606322701056323,
          -0.89018875312323,
          -1.2540749488696816,
          0.0036231336181717475,
          -0.5862125200271961,
          -0.5496272785954898,
          -1.3808661187077242,
          -0.41911265700373646,
          -0.9893833037429732,
          -0.02227739253879558,
          -1.2109051787349658,
          0.2187550645508682,
          0.29539605379224376,
          -0.3264467139879857,
          0.6011974292790989,
          -0.05228156116144349,
          0.7624832361556565,
          -0.6702572568013639,
          -0.6785139300205213,
          0.3011819215746909,
          -0.020108136336801797,
          -0.4087092290165143,
          0.00698854161160987,
          1.20481109831026,
          -2.4818274281753863,
          0.319098393424909,
          -0.9898309304204703,
          0.2952005681553578,
          0.9619370070172015,
          -0.40093747682141156,
          -0.11952508572061894,
          1.1081954282248092,
          -0.1806524932116476,
          0.06261944968811173,
          0.03225926799516013,
          0.41594280093698044,
          -0.9657416824739882,
          -0.04405418685657381,
          0.05281557500120534,
          -1.5455467298149086,
          -1.3537818294467925,
          0.8392875684656593,
          0.7571304481994662,
          1.0988601549471448,
          -0.7876598489602764,
          2.0604966990745828,
          0.5946780208209356,
          -0.23702779487902637,
          0.9058986089027272,
          -1.0756265998225543,
          -0.05533987071067795,
          -1.0565996076695996,
          1.0413939228265987,
          -1.2620095908721358,
          1.1426775965278135,
          0.25579441301365924,
          -0.4319807601407964,
          -0.7550353606457672,
          -0.05815106441335786,
          0.6190864775229382,
          0.9399911697520962,
          -1.4366566678480763,
          -0.43104599207293115,
          -1.073006647715606,
          -1.0116719874581341,
          -0.0044088648192909495,
          -0.2723208922297199,
          -1.4184543082935284
         ],
         "xaxis": "x4",
         "y": [
          -0.19028147001615417,
          0.3282365234795369,
          1.1399229516160017,
          -1.5285412750999146,
          -0.24886967751150038,
          0.2516245509136745,
          1.0322355236009921,
          0.11599439899823132,
          -0.08552299190870857,
          -0.392599667290996,
          1.0483873911059238,
          -1.3672086527525584,
          -1.2953691663834808,
          -0.37398870480107765,
          0.16094578705735657,
          0.698636684971462,
          1.5186664839892636,
          -0.3023573194571271,
          0.16832675647100329,
          0.19054539363793585,
          -0.05607139243232748,
          2.49434793378773,
          -0.530066327400534,
          0.8770350482674139,
          0.813057708391379,
          0.29820305701467675,
          0.4091606649710951,
          -0.07901188676813516,
          -0.32164633372494433,
          0.9816522229170433,
          0.6776451608653729,
          -0.8353341427637865,
          1.4655636349628942,
          2.00973210510375,
          0.34269433539070104,
          0.6002392765015414,
          0.7117390891406551,
          1.0592117801719485,
          0.7228041981165503,
          -0.8736465721312067,
          0.5676459790026085,
          0.3946690709293932,
          1.1159103925968208,
          -1.3623917634657412,
          0.6708499442787056,
          2.7667695870284845,
          0.7208184734528509,
          -0.5012612586998206,
          -1.1208824336937548,
          0.08310983627321097,
          1.4675574284440516,
          1.2532790994123408,
          0.007306638487820633,
          -0.8858137066431648,
          0.6242810094285595,
          -1.204652301395593,
          -1.1592080495946446,
          -0.8345983358790608,
          -0.7876304667169377,
          0.2226800879806531,
          0.4415686839563639,
          -0.269932602749613,
          -1.203764434204222,
          0.2411069726838896,
          -0.09951908368939481,
          -1.2286268384318006,
          0.9640396290879625,
          2.533865804668992,
          0.6363573751229564,
          0.6472031726814976,
          0.3660259455013826,
          0.9127612805233639,
          0.17883708005765753,
          -0.7077382719243921,
          -0.30885550649166293,
          1.327815639824272,
          -1.0254221405341721,
          -0.9383686643953827,
          -0.09071737066338419,
          0.6334847841474687,
          0.3071825571559436,
          -0.4857262165088668,
          -0.016132326632023995,
          0.5396152536884207,
          1.2850769796729489,
          -0.09184295300134171,
          0.6230902035502993,
          -0.28510111886218,
          0.963559438496964,
          1.7301036427052279,
          -0.23999086747889203,
          -0.6634015983510081,
          0.3389483473977393,
          1.3015088526277432,
          0.2801083119723154,
          -1.0717367219346814,
          0.6430291779034134,
          1.0587542570407236,
          -1.8666690899056997,
          0.19629610393134483
         ],
         "yaxis": "y4"
        },
        {
         "line": {
          "color": "rgba(128, 128, 128, 1.0)",
          "dash": "solid",
          "shape": "linear",
          "width": 1.3
         },
         "marker": {
          "size": 2,
          "symbol": "circle"
         },
         "mode": "markers",
         "name": "B",
         "text": "",
         "type": "scatter",
         "x": [
          -0.19028147001615417,
          0.3282365234795369,
          1.1399229516160017,
          -1.5285412750999146,
          -0.24886967751150038,
          0.2516245509136745,
          1.0322355236009921,
          0.11599439899823132,
          -0.08552299190870857,
          -0.392599667290996,
          1.0483873911059238,
          -1.3672086527525584,
          -1.2953691663834808,
          -0.37398870480107765,
          0.16094578705735657,
          0.698636684971462,
          1.5186664839892636,
          -0.3023573194571271,
          0.16832675647100329,
          0.19054539363793585,
          -0.05607139243232748,
          2.49434793378773,
          -0.530066327400534,
          0.8770350482674139,
          0.813057708391379,
          0.29820305701467675,
          0.4091606649710951,
          -0.07901188676813516,
          -0.32164633372494433,
          0.9816522229170433,
          0.6776451608653729,
          -0.8353341427637865,
          1.4655636349628942,
          2.00973210510375,
          0.34269433539070104,
          0.6002392765015414,
          0.7117390891406551,
          1.0592117801719485,
          0.7228041981165503,
          -0.8736465721312067,
          0.5676459790026085,
          0.3946690709293932,
          1.1159103925968208,
          -1.3623917634657412,
          0.6708499442787056,
          2.7667695870284845,
          0.7208184734528509,
          -0.5012612586998206,
          -1.1208824336937548,
          0.08310983627321097,
          1.4675574284440516,
          1.2532790994123408,
          0.007306638487820633,
          -0.8858137066431648,
          0.6242810094285595,
          -1.204652301395593,
          -1.1592080495946446,
          -0.8345983358790608,
          -0.7876304667169377,
          0.2226800879806531,
          0.4415686839563639,
          -0.269932602749613,
          -1.203764434204222,
          0.2411069726838896,
          -0.09951908368939481,
          -1.2286268384318006,
          0.9640396290879625,
          2.533865804668992,
          0.6363573751229564,
          0.6472031726814976,
          0.3660259455013826,
          0.9127612805233639,
          0.17883708005765753,
          -0.7077382719243921,
          -0.30885550649166293,
          1.327815639824272,
          -1.0254221405341721,
          -0.9383686643953827,
          -0.09071737066338419,
          0.6334847841474687,
          0.3071825571559436,
          -0.4857262165088668,
          -0.016132326632023995,
          0.5396152536884207,
          1.2850769796729489,
          -0.09184295300134171,
          0.6230902035502993,
          -0.28510111886218,
          0.963559438496964,
          1.7301036427052279,
          -0.23999086747889203,
          -0.6634015983510081,
          0.3389483473977393,
          1.3015088526277432,
          0.2801083119723154,
          -1.0717367219346814,
          0.6430291779034134,
          1.0587542570407236,
          -1.8666690899056997,
          0.19629610393134483
         ],
         "xaxis": "x5",
         "y": [
          -0.8078877810272339,
          -0.6448885204384242,
          -0.7455902419946399,
          -1.3050276821950197,
          0.5003808807272312,
          -0.2544095597272951,
          -1.3513709895354138,
          -2.5602738161529337,
          1.8961054211952009,
          1.7143645670390613,
          0.38789704551642606,
          -0.43216641964758024,
          -0.121487555297366,
          0.4886943348247054,
          -0.531024084846558,
          1.019974525402949,
          -1.1265502671384462,
          -0.11944479093297246,
          0.07992209285850868,
          0.35694133719785076,
          1.5133316673425885,
          0.9526731400979774,
          2.1783088334956022,
          -0.5359561007282527,
          0.3879712182730429,
          -0.5599572053329858,
          0.7535131619955537,
          0.1737238244194225,
          -0.1398249931343527,
          -0.7847908485735925,
          -0.7389327805747367,
          0.24358444714280714,
          1.5261767506458273,
          0.06163695959046099,
          -0.4101352328979562,
          -0.09324634096394105,
          0.6528869126446963,
          0.01814734085788372,
          -1.3547064835577245,
          -0.6151383657756476,
          -0.028002153962266033,
          -1.0794710885393703,
          0.10420625617257966,
          0.0016299303751393895,
          0.20635200140925392,
          -2.233926947939479,
          -1.0973127325260994,
          -0.4408212095555347,
          1.22408852383261,
          0.13518041692760324,
          -0.6380915291645423,
          -1.0077051393357612,
          -0.2287842060650193,
          -1.4542627061984326,
          -0.8098208866087253,
          -0.023631771936152825,
          0.25512205354700956,
          -0.4367753483304965,
          -1.1077991003347287,
          1.5311400432991595,
          -1.2024989249956632,
          0.12192266114566915,
          0.35121591416736425,
          0.528914304859543,
          -0.04869540341544756,
          0.9691544110353982,
          -0.5742621312272939,
          -0.38144095937602707,
          2.0948824404994784,
          -0.2633073152560307,
          0.4376908561486388,
          -1.262068966059568,
          1.2029595169014162,
          0.6812982907014478,
          0.14481035473742293,
          -0.9025277487190613,
          -0.033162850514684906,
          -0.7212577482125213,
          -1.2129688234713587,
          0.10702847749976899,
          -0.5944521348825197,
          -0.22021650672250928,
          -0.08777301917765741,
          0.49809817622022645,
          -0.38138542032541234,
          2.2291460401740446,
          0.22260641858867825,
          -0.6572688729049547,
          0.21066253910388472,
          -1.9777342722498183,
          0.3060242902498709,
          -0.6017968715314095,
          1.7495494270187508,
          0.41260960952983505,
          -0.6762840831291067,
          1.0885603890399016,
          1.3670041388951435,
          0.4449508775116109,
          0.4117141563361959,
          -0.6129289668954218
         ],
         "yaxis": "y5"
        },
        {
         "histfunc": "count",
         "histnorm": "",
         "marker": {
          "color": "rgba(55, 128, 191, 1.0)",
          "line": {
           "color": "#4D5663",
           "width": 1.3
          }
         },
         "name": "B",
         "nbinsx": 10,
         "opacity": 0.8,
         "orientation": "v",
         "type": "histogram",
         "x": [
          -0.8078877810272339,
          -0.6448885204384242,
          -0.7455902419946399,
          -1.3050276821950197,
          0.5003808807272312,
          -0.2544095597272951,
          -1.3513709895354138,
          -2.5602738161529337,
          1.8961054211952009,
          1.7143645670390613,
          0.38789704551642606,
          -0.43216641964758024,
          -0.121487555297366,
          0.4886943348247054,
          -0.531024084846558,
          1.019974525402949,
          -1.1265502671384462,
          -0.11944479093297246,
          0.07992209285850868,
          0.35694133719785076,
          1.5133316673425885,
          0.9526731400979774,
          2.1783088334956022,
          -0.5359561007282527,
          0.3879712182730429,
          -0.5599572053329858,
          0.7535131619955537,
          0.1737238244194225,
          -0.1398249931343527,
          -0.7847908485735925,
          -0.7389327805747367,
          0.24358444714280714,
          1.5261767506458273,
          0.06163695959046099,
          -0.4101352328979562,
          -0.09324634096394105,
          0.6528869126446963,
          0.01814734085788372,
          -1.3547064835577245,
          -0.6151383657756476,
          -0.028002153962266033,
          -1.0794710885393703,
          0.10420625617257966,
          0.0016299303751393895,
          0.20635200140925392,
          -2.233926947939479,
          -1.0973127325260994,
          -0.4408212095555347,
          1.22408852383261,
          0.13518041692760324,
          -0.6380915291645423,
          -1.0077051393357612,
          -0.2287842060650193,
          -1.4542627061984326,
          -0.8098208866087253,
          -0.023631771936152825,
          0.25512205354700956,
          -0.4367753483304965,
          -1.1077991003347287,
          1.5311400432991595,
          -1.2024989249956632,
          0.12192266114566915,
          0.35121591416736425,
          0.528914304859543,
          -0.04869540341544756,
          0.9691544110353982,
          -0.5742621312272939,
          -0.38144095937602707,
          2.0948824404994784,
          -0.2633073152560307,
          0.4376908561486388,
          -1.262068966059568,
          1.2029595169014162,
          0.6812982907014478,
          0.14481035473742293,
          -0.9025277487190613,
          -0.033162850514684906,
          -0.7212577482125213,
          -1.2129688234713587,
          0.10702847749976899,
          -0.5944521348825197,
          -0.22021650672250928,
          -0.08777301917765741,
          0.49809817622022645,
          -0.38138542032541234,
          2.2291460401740446,
          0.22260641858867825,
          -0.6572688729049547,
          0.21066253910388472,
          -1.9777342722498183,
          0.3060242902498709,
          -0.6017968715314095,
          1.7495494270187508,
          0.41260960952983505,
          -0.6762840831291067,
          1.0885603890399016,
          1.3670041388951435,
          0.4449508775116109,
          0.4117141563361959,
          -0.6129289668954218
         ],
         "xaxis": "x6",
         "yaxis": "y6"
        },
        {
         "line": {
          "color": "rgba(128, 128, 128, 1.0)",
          "dash": "solid",
          "shape": "linear",
          "width": 1.3
         },
         "marker": {
          "size": 2,
          "symbol": "circle"
         },
         "mode": "markers",
         "name": "B",
         "text": "",
         "type": "scatter",
         "x": [
          -0.28087858577267105,
          -0.004940607057401839,
          -0.18230220142911813,
          0.2600963731552484,
          -2.188017212805162,
          -1.0898037238817064,
          0.8029079536160184,
          0.39290560201141383,
          -0.7824771205914149,
          0.09623173110212756,
          0.9068065372365814,
          -0.3989989888769911,
          -0.0641446346766752,
          -0.5345419155492223,
          0.32796331193357764,
          -0.5767538701014241,
          -0.10512746808304435,
          0.9172381947599746,
          -0.4472695304778123,
          0.7102683856385797,
          1.6939178797464913,
          2.3266870929170236,
          -0.20697932602210786,
          0.983827831881114,
          -2.0426268092837243,
          -0.4349401334944814,
          1.6547889256895636,
          -0.31154737802476706,
          -1.0900054140495148,
          -0.5300848153772204,
          0.02164567537324387,
          0.6273332422749028,
          -1.9773216115130865,
          0.6687587249854554,
          -0.06504102004656755,
          -0.34618824562897654,
          -0.3199115087635271,
          -0.4987996519933438,
          0.23575723882577956,
          0.7597754367105237,
          0.349048519111151,
          1.2015268322994783,
          1.2159218440959862,
          -0.42192591804738677,
          -0.8944245463342192,
          -0.435919363532489,
          1.397820879769164,
          -1.560418050372487,
          -1.1788409473597223,
          -0.4986100474691056,
          -0.6466678757707934,
          0.5776410340113322,
          -1.6148839333548723,
          0.6886420824906866,
          -0.3328314224856059,
          0.5363702326516426,
          0.6036522566095408,
          -1.7863633611315732,
          -0.3784178651278131,
          -0.27019072144003586,
          0.41899925622522255,
          -0.44459848135470603,
          0.9276848536350926,
          -0.05560740096298692,
          0.9330717802136188,
          0.19933373068207802,
          0.06307907081003797,
          -1.0126845508220041,
          -0.36590596742424647,
          -1.1658403037968499,
          -1.145026708386471,
          -1.4374897359308019,
          0.31196568286651527,
          -1.4022129995090378,
          0.43145008296749926,
          0.15936536072957974,
          0.1571961245450657,
          -1.3657685562718185,
          1.4992195393508299,
          0.13302405909411777,
          0.6900814716829894,
          0.4142888696248817,
          -0.28001864824131567,
          -1.2999007434589738,
          -0.43031486383923556,
          -0.9694286604561002,
          0.42547381984692245,
          0.7778766895492566,
          1.0116733908927231,
          -1.1313424765515263,
          -0.5505972224035046,
          -1.8466325055319044,
          -0.90990122673788,
          -0.5374142307935139,
          -0.13444784767642923,
          0.9257971446921365,
          -0.9524785152276847,
          0.8823242234454758,
          -1.1309090674165982,
          -1.2869116132712173
         ],
         "xaxis": "x7",
         "y": [
          -0.8078877810272339,
          -0.6448885204384242,
          -0.7455902419946399,
          -1.3050276821950197,
          0.5003808807272312,
          -0.2544095597272951,
          -1.3513709895354138,
          -2.5602738161529337,
          1.8961054211952009,
          1.7143645670390613,
          0.38789704551642606,
          -0.43216641964758024,
          -0.121487555297366,
          0.4886943348247054,
          -0.531024084846558,
          1.019974525402949,
          -1.1265502671384462,
          -0.11944479093297246,
          0.07992209285850868,
          0.35694133719785076,
          1.5133316673425885,
          0.9526731400979774,
          2.1783088334956022,
          -0.5359561007282527,
          0.3879712182730429,
          -0.5599572053329858,
          0.7535131619955537,
          0.1737238244194225,
          -0.1398249931343527,
          -0.7847908485735925,
          -0.7389327805747367,
          0.24358444714280714,
          1.5261767506458273,
          0.06163695959046099,
          -0.4101352328979562,
          -0.09324634096394105,
          0.6528869126446963,
          0.01814734085788372,
          -1.3547064835577245,
          -0.6151383657756476,
          -0.028002153962266033,
          -1.0794710885393703,
          0.10420625617257966,
          0.0016299303751393895,
          0.20635200140925392,
          -2.233926947939479,
          -1.0973127325260994,
          -0.4408212095555347,
          1.22408852383261,
          0.13518041692760324,
          -0.6380915291645423,
          -1.0077051393357612,
          -0.2287842060650193,
          -1.4542627061984326,
          -0.8098208866087253,
          -0.023631771936152825,
          0.25512205354700956,
          -0.4367753483304965,
          -1.1077991003347287,
          1.5311400432991595,
          -1.2024989249956632,
          0.12192266114566915,
          0.35121591416736425,
          0.528914304859543,
          -0.04869540341544756,
          0.9691544110353982,
          -0.5742621312272939,
          -0.38144095937602707,
          2.0948824404994784,
          -0.2633073152560307,
          0.4376908561486388,
          -1.262068966059568,
          1.2029595169014162,
          0.6812982907014478,
          0.14481035473742293,
          -0.9025277487190613,
          -0.033162850514684906,
          -0.7212577482125213,
          -1.2129688234713587,
          0.10702847749976899,
          -0.5944521348825197,
          -0.22021650672250928,
          -0.08777301917765741,
          0.49809817622022645,
          -0.38138542032541234,
          2.2291460401740446,
          0.22260641858867825,
          -0.6572688729049547,
          0.21066253910388472,
          -1.9777342722498183,
          0.3060242902498709,
          -0.6017968715314095,
          1.7495494270187508,
          0.41260960952983505,
          -0.6762840831291067,
          1.0885603890399016,
          1.3670041388951435,
          0.4449508775116109,
          0.4117141563361959,
          -0.6129289668954218
         ],
         "yaxis": "y7"
        },
        {
         "line": {
          "color": "rgba(128, 128, 128, 1.0)",
          "dash": "solid",
          "shape": "linear",
          "width": 1.3
         },
         "marker": {
          "size": 2,
          "symbol": "circle"
         },
         "mode": "markers",
         "name": "B",
         "text": "",
         "type": "scatter",
         "x": [
          0.3288885223174926,
          -0.05362057683546842,
          0.6944864221692295,
          0.02252577433779823,
          0.13647546453678722,
          -0.10806801637002397,
          -0.30864646770180626,
          0.33901164794495464,
          0.060188705738250456,
          0.19380195170155903,
          -0.522348080237052,
          0.6193212852322433,
          0.04404147779042312,
          -0.5786956835065248,
          -0.9326312727624145,
          -1.1077031636459158,
          0.8222129392917609,
          -0.7151429012834042,
          -0.4076584263131162,
          0.380535345843578,
          1.9331246815616225,
          0.8854566533885581,
          0.9250097363967863,
          -1.2250734639959535,
          -2.22671463804753,
          -1.5742891094053724,
          0.978683053819982,
          -1.136319691015506,
          -1.1137441313670016,
          0.436318837908886,
          0.541594724232907,
          0.9779228111714007,
          0.606322701056323,
          -0.89018875312323,
          -1.2540749488696816,
          0.0036231336181717475,
          -0.5862125200271961,
          -0.5496272785954898,
          -1.3808661187077242,
          -0.41911265700373646,
          -0.9893833037429732,
          -0.02227739253879558,
          -1.2109051787349658,
          0.2187550645508682,
          0.29539605379224376,
          -0.3264467139879857,
          0.6011974292790989,
          -0.05228156116144349,
          0.7624832361556565,
          -0.6702572568013639,
          -0.6785139300205213,
          0.3011819215746909,
          -0.020108136336801797,
          -0.4087092290165143,
          0.00698854161160987,
          1.20481109831026,
          -2.4818274281753863,
          0.319098393424909,
          -0.9898309304204703,
          0.2952005681553578,
          0.9619370070172015,
          -0.40093747682141156,
          -0.11952508572061894,
          1.1081954282248092,
          -0.1806524932116476,
          0.06261944968811173,
          0.03225926799516013,
          0.41594280093698044,
          -0.9657416824739882,
          -0.04405418685657381,
          0.05281557500120534,
          -1.5455467298149086,
          -1.3537818294467925,
          0.8392875684656593,
          0.7571304481994662,
          1.0988601549471448,
          -0.7876598489602764,
          2.0604966990745828,
          0.5946780208209356,
          -0.23702779487902637,
          0.9058986089027272,
          -1.0756265998225543,
          -0.05533987071067795,
          -1.0565996076695996,
          1.0413939228265987,
          -1.2620095908721358,
          1.1426775965278135,
          0.25579441301365924,
          -0.4319807601407964,
          -0.7550353606457672,
          -0.05815106441335786,
          0.6190864775229382,
          0.9399911697520962,
          -1.4366566678480763,
          -0.43104599207293115,
          -1.073006647715606,
          -1.0116719874581341,
          -0.0044088648192909495,
          -0.2723208922297199,
          -1.4184543082935284
         ],
         "xaxis": "x8",
         "y": [
          -0.8078877810272339,
          -0.6448885204384242,
          -0.7455902419946399,
          -1.3050276821950197,
          0.5003808807272312,
          -0.2544095597272951,
          -1.3513709895354138,
          -2.5602738161529337,
          1.8961054211952009,
          1.7143645670390613,
          0.38789704551642606,
          -0.43216641964758024,
          -0.121487555297366,
          0.4886943348247054,
          -0.531024084846558,
          1.019974525402949,
          -1.1265502671384462,
          -0.11944479093297246,
          0.07992209285850868,
          0.35694133719785076,
          1.5133316673425885,
          0.9526731400979774,
          2.1783088334956022,
          -0.5359561007282527,
          0.3879712182730429,
          -0.5599572053329858,
          0.7535131619955537,
          0.1737238244194225,
          -0.1398249931343527,
          -0.7847908485735925,
          -0.7389327805747367,
          0.24358444714280714,
          1.5261767506458273,
          0.06163695959046099,
          -0.4101352328979562,
          -0.09324634096394105,
          0.6528869126446963,
          0.01814734085788372,
          -1.3547064835577245,
          -0.6151383657756476,
          -0.028002153962266033,
          -1.0794710885393703,
          0.10420625617257966,
          0.0016299303751393895,
          0.20635200140925392,
          -2.233926947939479,
          -1.0973127325260994,
          -0.4408212095555347,
          1.22408852383261,
          0.13518041692760324,
          -0.6380915291645423,
          -1.0077051393357612,
          -0.2287842060650193,
          -1.4542627061984326,
          -0.8098208866087253,
          -0.023631771936152825,
          0.25512205354700956,
          -0.4367753483304965,
          -1.1077991003347287,
          1.5311400432991595,
          -1.2024989249956632,
          0.12192266114566915,
          0.35121591416736425,
          0.528914304859543,
          -0.04869540341544756,
          0.9691544110353982,
          -0.5742621312272939,
          -0.38144095937602707,
          2.0948824404994784,
          -0.2633073152560307,
          0.4376908561486388,
          -1.262068966059568,
          1.2029595169014162,
          0.6812982907014478,
          0.14481035473742293,
          -0.9025277487190613,
          -0.033162850514684906,
          -0.7212577482125213,
          -1.2129688234713587,
          0.10702847749976899,
          -0.5944521348825197,
          -0.22021650672250928,
          -0.08777301917765741,
          0.49809817622022645,
          -0.38138542032541234,
          2.2291460401740446,
          0.22260641858867825,
          -0.6572688729049547,
          0.21066253910388472,
          -1.9777342722498183,
          0.3060242902498709,
          -0.6017968715314095,
          1.7495494270187508,
          0.41260960952983505,
          -0.6762840831291067,
          1.0885603890399016,
          1.3670041388951435,
          0.4449508775116109,
          0.4117141563361959,
          -0.6129289668954218
         ],
         "yaxis": "y8"
        },
        {
         "line": {
          "color": "rgba(128, 128, 128, 1.0)",
          "dash": "solid",
          "shape": "linear",
          "width": 1.3
         },
         "marker": {
          "size": 2,
          "symbol": "circle"
         },
         "mode": "markers",
         "name": "C",
         "text": "",
         "type": "scatter",
         "x": [
          -0.19028147001615417,
          0.3282365234795369,
          1.1399229516160017,
          -1.5285412750999146,
          -0.24886967751150038,
          0.2516245509136745,
          1.0322355236009921,
          0.11599439899823132,
          -0.08552299190870857,
          -0.392599667290996,
          1.0483873911059238,
          -1.3672086527525584,
          -1.2953691663834808,
          -0.37398870480107765,
          0.16094578705735657,
          0.698636684971462,
          1.5186664839892636,
          -0.3023573194571271,
          0.16832675647100329,
          0.19054539363793585,
          -0.05607139243232748,
          2.49434793378773,
          -0.530066327400534,
          0.8770350482674139,
          0.813057708391379,
          0.29820305701467675,
          0.4091606649710951,
          -0.07901188676813516,
          -0.32164633372494433,
          0.9816522229170433,
          0.6776451608653729,
          -0.8353341427637865,
          1.4655636349628942,
          2.00973210510375,
          0.34269433539070104,
          0.6002392765015414,
          0.7117390891406551,
          1.0592117801719485,
          0.7228041981165503,
          -0.8736465721312067,
          0.5676459790026085,
          0.3946690709293932,
          1.1159103925968208,
          -1.3623917634657412,
          0.6708499442787056,
          2.7667695870284845,
          0.7208184734528509,
          -0.5012612586998206,
          -1.1208824336937548,
          0.08310983627321097,
          1.4675574284440516,
          1.2532790994123408,
          0.007306638487820633,
          -0.8858137066431648,
          0.6242810094285595,
          -1.204652301395593,
          -1.1592080495946446,
          -0.8345983358790608,
          -0.7876304667169377,
          0.2226800879806531,
          0.4415686839563639,
          -0.269932602749613,
          -1.203764434204222,
          0.2411069726838896,
          -0.09951908368939481,
          -1.2286268384318006,
          0.9640396290879625,
          2.533865804668992,
          0.6363573751229564,
          0.6472031726814976,
          0.3660259455013826,
          0.9127612805233639,
          0.17883708005765753,
          -0.7077382719243921,
          -0.30885550649166293,
          1.327815639824272,
          -1.0254221405341721,
          -0.9383686643953827,
          -0.09071737066338419,
          0.6334847841474687,
          0.3071825571559436,
          -0.4857262165088668,
          -0.016132326632023995,
          0.5396152536884207,
          1.2850769796729489,
          -0.09184295300134171,
          0.6230902035502993,
          -0.28510111886218,
          0.963559438496964,
          1.7301036427052279,
          -0.23999086747889203,
          -0.6634015983510081,
          0.3389483473977393,
          1.3015088526277432,
          0.2801083119723154,
          -1.0717367219346814,
          0.6430291779034134,
          1.0587542570407236,
          -1.8666690899056997,
          0.19629610393134483
         ],
         "xaxis": "x9",
         "y": [
          -0.28087858577267105,
          -0.004940607057401839,
          -0.18230220142911813,
          0.2600963731552484,
          -2.188017212805162,
          -1.0898037238817064,
          0.8029079536160184,
          0.39290560201141383,
          -0.7824771205914149,
          0.09623173110212756,
          0.9068065372365814,
          -0.3989989888769911,
          -0.0641446346766752,
          -0.5345419155492223,
          0.32796331193357764,
          -0.5767538701014241,
          -0.10512746808304435,
          0.9172381947599746,
          -0.4472695304778123,
          0.7102683856385797,
          1.6939178797464913,
          2.3266870929170236,
          -0.20697932602210786,
          0.983827831881114,
          -2.0426268092837243,
          -0.4349401334944814,
          1.6547889256895636,
          -0.31154737802476706,
          -1.0900054140495148,
          -0.5300848153772204,
          0.02164567537324387,
          0.6273332422749028,
          -1.9773216115130865,
          0.6687587249854554,
          -0.06504102004656755,
          -0.34618824562897654,
          -0.3199115087635271,
          -0.4987996519933438,
          0.23575723882577956,
          0.7597754367105237,
          0.349048519111151,
          1.2015268322994783,
          1.2159218440959862,
          -0.42192591804738677,
          -0.8944245463342192,
          -0.435919363532489,
          1.397820879769164,
          -1.560418050372487,
          -1.1788409473597223,
          -0.4986100474691056,
          -0.6466678757707934,
          0.5776410340113322,
          -1.6148839333548723,
          0.6886420824906866,
          -0.3328314224856059,
          0.5363702326516426,
          0.6036522566095408,
          -1.7863633611315732,
          -0.3784178651278131,
          -0.27019072144003586,
          0.41899925622522255,
          -0.44459848135470603,
          0.9276848536350926,
          -0.05560740096298692,
          0.9330717802136188,
          0.19933373068207802,
          0.06307907081003797,
          -1.0126845508220041,
          -0.36590596742424647,
          -1.1658403037968499,
          -1.145026708386471,
          -1.4374897359308019,
          0.31196568286651527,
          -1.4022129995090378,
          0.43145008296749926,
          0.15936536072957974,
          0.1571961245450657,
          -1.3657685562718185,
          1.4992195393508299,
          0.13302405909411777,
          0.6900814716829894,
          0.4142888696248817,
          -0.28001864824131567,
          -1.2999007434589738,
          -0.43031486383923556,
          -0.9694286604561002,
          0.42547381984692245,
          0.7778766895492566,
          1.0116733908927231,
          -1.1313424765515263,
          -0.5505972224035046,
          -1.8466325055319044,
          -0.90990122673788,
          -0.5374142307935139,
          -0.13444784767642923,
          0.9257971446921365,
          -0.9524785152276847,
          0.8823242234454758,
          -1.1309090674165982,
          -1.2869116132712173
         ],
         "yaxis": "y9"
        },
        {
         "line": {
          "color": "rgba(128, 128, 128, 1.0)",
          "dash": "solid",
          "shape": "linear",
          "width": 1.3
         },
         "marker": {
          "size": 2,
          "symbol": "circle"
         },
         "mode": "markers",
         "name": "C",
         "text": "",
         "type": "scatter",
         "x": [
          -0.8078877810272339,
          -0.6448885204384242,
          -0.7455902419946399,
          -1.3050276821950197,
          0.5003808807272312,
          -0.2544095597272951,
          -1.3513709895354138,
          -2.5602738161529337,
          1.8961054211952009,
          1.7143645670390613,
          0.38789704551642606,
          -0.43216641964758024,
          -0.121487555297366,
          0.4886943348247054,
          -0.531024084846558,
          1.019974525402949,
          -1.1265502671384462,
          -0.11944479093297246,
          0.07992209285850868,
          0.35694133719785076,
          1.5133316673425885,
          0.9526731400979774,
          2.1783088334956022,
          -0.5359561007282527,
          0.3879712182730429,
          -0.5599572053329858,
          0.7535131619955537,
          0.1737238244194225,
          -0.1398249931343527,
          -0.7847908485735925,
          -0.7389327805747367,
          0.24358444714280714,
          1.5261767506458273,
          0.06163695959046099,
          -0.4101352328979562,
          -0.09324634096394105,
          0.6528869126446963,
          0.01814734085788372,
          -1.3547064835577245,
          -0.6151383657756476,
          -0.028002153962266033,
          -1.0794710885393703,
          0.10420625617257966,
          0.0016299303751393895,
          0.20635200140925392,
          -2.233926947939479,
          -1.0973127325260994,
          -0.4408212095555347,
          1.22408852383261,
          0.13518041692760324,
          -0.6380915291645423,
          -1.0077051393357612,
          -0.2287842060650193,
          -1.4542627061984326,
          -0.8098208866087253,
          -0.023631771936152825,
          0.25512205354700956,
          -0.4367753483304965,
          -1.1077991003347287,
          1.5311400432991595,
          -1.2024989249956632,
          0.12192266114566915,
          0.35121591416736425,
          0.528914304859543,
          -0.04869540341544756,
          0.9691544110353982,
          -0.5742621312272939,
          -0.38144095937602707,
          2.0948824404994784,
          -0.2633073152560307,
          0.4376908561486388,
          -1.262068966059568,
          1.2029595169014162,
          0.6812982907014478,
          0.14481035473742293,
          -0.9025277487190613,
          -0.033162850514684906,
          -0.7212577482125213,
          -1.2129688234713587,
          0.10702847749976899,
          -0.5944521348825197,
          -0.22021650672250928,
          -0.08777301917765741,
          0.49809817622022645,
          -0.38138542032541234,
          2.2291460401740446,
          0.22260641858867825,
          -0.6572688729049547,
          0.21066253910388472,
          -1.9777342722498183,
          0.3060242902498709,
          -0.6017968715314095,
          1.7495494270187508,
          0.41260960952983505,
          -0.6762840831291067,
          1.0885603890399016,
          1.3670041388951435,
          0.4449508775116109,
          0.4117141563361959,
          -0.6129289668954218
         ],
         "xaxis": "x10",
         "y": [
          -0.28087858577267105,
          -0.004940607057401839,
          -0.18230220142911813,
          0.2600963731552484,
          -2.188017212805162,
          -1.0898037238817064,
          0.8029079536160184,
          0.39290560201141383,
          -0.7824771205914149,
          0.09623173110212756,
          0.9068065372365814,
          -0.3989989888769911,
          -0.0641446346766752,
          -0.5345419155492223,
          0.32796331193357764,
          -0.5767538701014241,
          -0.10512746808304435,
          0.9172381947599746,
          -0.4472695304778123,
          0.7102683856385797,
          1.6939178797464913,
          2.3266870929170236,
          -0.20697932602210786,
          0.983827831881114,
          -2.0426268092837243,
          -0.4349401334944814,
          1.6547889256895636,
          -0.31154737802476706,
          -1.0900054140495148,
          -0.5300848153772204,
          0.02164567537324387,
          0.6273332422749028,
          -1.9773216115130865,
          0.6687587249854554,
          -0.06504102004656755,
          -0.34618824562897654,
          -0.3199115087635271,
          -0.4987996519933438,
          0.23575723882577956,
          0.7597754367105237,
          0.349048519111151,
          1.2015268322994783,
          1.2159218440959862,
          -0.42192591804738677,
          -0.8944245463342192,
          -0.435919363532489,
          1.397820879769164,
          -1.560418050372487,
          -1.1788409473597223,
          -0.4986100474691056,
          -0.6466678757707934,
          0.5776410340113322,
          -1.6148839333548723,
          0.6886420824906866,
          -0.3328314224856059,
          0.5363702326516426,
          0.6036522566095408,
          -1.7863633611315732,
          -0.3784178651278131,
          -0.27019072144003586,
          0.41899925622522255,
          -0.44459848135470603,
          0.9276848536350926,
          -0.05560740096298692,
          0.9330717802136188,
          0.19933373068207802,
          0.06307907081003797,
          -1.0126845508220041,
          -0.36590596742424647,
          -1.1658403037968499,
          -1.145026708386471,
          -1.4374897359308019,
          0.31196568286651527,
          -1.4022129995090378,
          0.43145008296749926,
          0.15936536072957974,
          0.1571961245450657,
          -1.3657685562718185,
          1.4992195393508299,
          0.13302405909411777,
          0.6900814716829894,
          0.4142888696248817,
          -0.28001864824131567,
          -1.2999007434589738,
          -0.43031486383923556,
          -0.9694286604561002,
          0.42547381984692245,
          0.7778766895492566,
          1.0116733908927231,
          -1.1313424765515263,
          -0.5505972224035046,
          -1.8466325055319044,
          -0.90990122673788,
          -0.5374142307935139,
          -0.13444784767642923,
          0.9257971446921365,
          -0.9524785152276847,
          0.8823242234454758,
          -1.1309090674165982,
          -1.2869116132712173
         ],
         "yaxis": "y10"
        },
        {
         "histfunc": "count",
         "histnorm": "",
         "marker": {
          "color": "rgba(50, 171, 96, 1.0)",
          "line": {
           "color": "#4D5663",
           "width": 1.3
          }
         },
         "name": "C",
         "nbinsx": 10,
         "opacity": 0.8,
         "orientation": "v",
         "type": "histogram",
         "x": [
          -0.28087858577267105,
          -0.004940607057401839,
          -0.18230220142911813,
          0.2600963731552484,
          -2.188017212805162,
          -1.0898037238817064,
          0.8029079536160184,
          0.39290560201141383,
          -0.7824771205914149,
          0.09623173110212756,
          0.9068065372365814,
          -0.3989989888769911,
          -0.0641446346766752,
          -0.5345419155492223,
          0.32796331193357764,
          -0.5767538701014241,
          -0.10512746808304435,
          0.9172381947599746,
          -0.4472695304778123,
          0.7102683856385797,
          1.6939178797464913,
          2.3266870929170236,
          -0.20697932602210786,
          0.983827831881114,
          -2.0426268092837243,
          -0.4349401334944814,
          1.6547889256895636,
          -0.31154737802476706,
          -1.0900054140495148,
          -0.5300848153772204,
          0.02164567537324387,
          0.6273332422749028,
          -1.9773216115130865,
          0.6687587249854554,
          -0.06504102004656755,
          -0.34618824562897654,
          -0.3199115087635271,
          -0.4987996519933438,
          0.23575723882577956,
          0.7597754367105237,
          0.349048519111151,
          1.2015268322994783,
          1.2159218440959862,
          -0.42192591804738677,
          -0.8944245463342192,
          -0.435919363532489,
          1.397820879769164,
          -1.560418050372487,
          -1.1788409473597223,
          -0.4986100474691056,
          -0.6466678757707934,
          0.5776410340113322,
          -1.6148839333548723,
          0.6886420824906866,
          -0.3328314224856059,
          0.5363702326516426,
          0.6036522566095408,
          -1.7863633611315732,
          -0.3784178651278131,
          -0.27019072144003586,
          0.41899925622522255,
          -0.44459848135470603,
          0.9276848536350926,
          -0.05560740096298692,
          0.9330717802136188,
          0.19933373068207802,
          0.06307907081003797,
          -1.0126845508220041,
          -0.36590596742424647,
          -1.1658403037968499,
          -1.145026708386471,
          -1.4374897359308019,
          0.31196568286651527,
          -1.4022129995090378,
          0.43145008296749926,
          0.15936536072957974,
          0.1571961245450657,
          -1.3657685562718185,
          1.4992195393508299,
          0.13302405909411777,
          0.6900814716829894,
          0.4142888696248817,
          -0.28001864824131567,
          -1.2999007434589738,
          -0.43031486383923556,
          -0.9694286604561002,
          0.42547381984692245,
          0.7778766895492566,
          1.0116733908927231,
          -1.1313424765515263,
          -0.5505972224035046,
          -1.8466325055319044,
          -0.90990122673788,
          -0.5374142307935139,
          -0.13444784767642923,
          0.9257971446921365,
          -0.9524785152276847,
          0.8823242234454758,
          -1.1309090674165982,
          -1.2869116132712173
         ],
         "xaxis": "x11",
         "yaxis": "y11"
        },
        {
         "line": {
          "color": "rgba(128, 128, 128, 1.0)",
          "dash": "solid",
          "shape": "linear",
          "width": 1.3
         },
         "marker": {
          "size": 2,
          "symbol": "circle"
         },
         "mode": "markers",
         "name": "C",
         "text": "",
         "type": "scatter",
         "x": [
          0.3288885223174926,
          -0.05362057683546842,
          0.6944864221692295,
          0.02252577433779823,
          0.13647546453678722,
          -0.10806801637002397,
          -0.30864646770180626,
          0.33901164794495464,
          0.060188705738250456,
          0.19380195170155903,
          -0.522348080237052,
          0.6193212852322433,
          0.04404147779042312,
          -0.5786956835065248,
          -0.9326312727624145,
          -1.1077031636459158,
          0.8222129392917609,
          -0.7151429012834042,
          -0.4076584263131162,
          0.380535345843578,
          1.9331246815616225,
          0.8854566533885581,
          0.9250097363967863,
          -1.2250734639959535,
          -2.22671463804753,
          -1.5742891094053724,
          0.978683053819982,
          -1.136319691015506,
          -1.1137441313670016,
          0.436318837908886,
          0.541594724232907,
          0.9779228111714007,
          0.606322701056323,
          -0.89018875312323,
          -1.2540749488696816,
          0.0036231336181717475,
          -0.5862125200271961,
          -0.5496272785954898,
          -1.3808661187077242,
          -0.41911265700373646,
          -0.9893833037429732,
          -0.02227739253879558,
          -1.2109051787349658,
          0.2187550645508682,
          0.29539605379224376,
          -0.3264467139879857,
          0.6011974292790989,
          -0.05228156116144349,
          0.7624832361556565,
          -0.6702572568013639,
          -0.6785139300205213,
          0.3011819215746909,
          -0.020108136336801797,
          -0.4087092290165143,
          0.00698854161160987,
          1.20481109831026,
          -2.4818274281753863,
          0.319098393424909,
          -0.9898309304204703,
          0.2952005681553578,
          0.9619370070172015,
          -0.40093747682141156,
          -0.11952508572061894,
          1.1081954282248092,
          -0.1806524932116476,
          0.06261944968811173,
          0.03225926799516013,
          0.41594280093698044,
          -0.9657416824739882,
          -0.04405418685657381,
          0.05281557500120534,
          -1.5455467298149086,
          -1.3537818294467925,
          0.8392875684656593,
          0.7571304481994662,
          1.0988601549471448,
          -0.7876598489602764,
          2.0604966990745828,
          0.5946780208209356,
          -0.23702779487902637,
          0.9058986089027272,
          -1.0756265998225543,
          -0.05533987071067795,
          -1.0565996076695996,
          1.0413939228265987,
          -1.2620095908721358,
          1.1426775965278135,
          0.25579441301365924,
          -0.4319807601407964,
          -0.7550353606457672,
          -0.05815106441335786,
          0.6190864775229382,
          0.9399911697520962,
          -1.4366566678480763,
          -0.43104599207293115,
          -1.073006647715606,
          -1.0116719874581341,
          -0.0044088648192909495,
          -0.2723208922297199,
          -1.4184543082935284
         ],
         "xaxis": "x12",
         "y": [
          -0.28087858577267105,
          -0.004940607057401839,
          -0.18230220142911813,
          0.2600963731552484,
          -2.188017212805162,
          -1.0898037238817064,
          0.8029079536160184,
          0.39290560201141383,
          -0.7824771205914149,
          0.09623173110212756,
          0.9068065372365814,
          -0.3989989888769911,
          -0.0641446346766752,
          -0.5345419155492223,
          0.32796331193357764,
          -0.5767538701014241,
          -0.10512746808304435,
          0.9172381947599746,
          -0.4472695304778123,
          0.7102683856385797,
          1.6939178797464913,
          2.3266870929170236,
          -0.20697932602210786,
          0.983827831881114,
          -2.0426268092837243,
          -0.4349401334944814,
          1.6547889256895636,
          -0.31154737802476706,
          -1.0900054140495148,
          -0.5300848153772204,
          0.02164567537324387,
          0.6273332422749028,
          -1.9773216115130865,
          0.6687587249854554,
          -0.06504102004656755,
          -0.34618824562897654,
          -0.3199115087635271,
          -0.4987996519933438,
          0.23575723882577956,
          0.7597754367105237,
          0.349048519111151,
          1.2015268322994783,
          1.2159218440959862,
          -0.42192591804738677,
          -0.8944245463342192,
          -0.435919363532489,
          1.397820879769164,
          -1.560418050372487,
          -1.1788409473597223,
          -0.4986100474691056,
          -0.6466678757707934,
          0.5776410340113322,
          -1.6148839333548723,
          0.6886420824906866,
          -0.3328314224856059,
          0.5363702326516426,
          0.6036522566095408,
          -1.7863633611315732,
          -0.3784178651278131,
          -0.27019072144003586,
          0.41899925622522255,
          -0.44459848135470603,
          0.9276848536350926,
          -0.05560740096298692,
          0.9330717802136188,
          0.19933373068207802,
          0.06307907081003797,
          -1.0126845508220041,
          -0.36590596742424647,
          -1.1658403037968499,
          -1.145026708386471,
          -1.4374897359308019,
          0.31196568286651527,
          -1.4022129995090378,
          0.43145008296749926,
          0.15936536072957974,
          0.1571961245450657,
          -1.3657685562718185,
          1.4992195393508299,
          0.13302405909411777,
          0.6900814716829894,
          0.4142888696248817,
          -0.28001864824131567,
          -1.2999007434589738,
          -0.43031486383923556,
          -0.9694286604561002,
          0.42547381984692245,
          0.7778766895492566,
          1.0116733908927231,
          -1.1313424765515263,
          -0.5505972224035046,
          -1.8466325055319044,
          -0.90990122673788,
          -0.5374142307935139,
          -0.13444784767642923,
          0.9257971446921365,
          -0.9524785152276847,
          0.8823242234454758,
          -1.1309090674165982,
          -1.2869116132712173
         ],
         "yaxis": "y12"
        },
        {
         "line": {
          "color": "rgba(128, 128, 128, 1.0)",
          "dash": "solid",
          "shape": "linear",
          "width": 1.3
         },
         "marker": {
          "size": 2,
          "symbol": "circle"
         },
         "mode": "markers",
         "name": "D",
         "text": "",
         "type": "scatter",
         "x": [
          -0.19028147001615417,
          0.3282365234795369,
          1.1399229516160017,
          -1.5285412750999146,
          -0.24886967751150038,
          0.2516245509136745,
          1.0322355236009921,
          0.11599439899823132,
          -0.08552299190870857,
          -0.392599667290996,
          1.0483873911059238,
          -1.3672086527525584,
          -1.2953691663834808,
          -0.37398870480107765,
          0.16094578705735657,
          0.698636684971462,
          1.5186664839892636,
          -0.3023573194571271,
          0.16832675647100329,
          0.19054539363793585,
          -0.05607139243232748,
          2.49434793378773,
          -0.530066327400534,
          0.8770350482674139,
          0.813057708391379,
          0.29820305701467675,
          0.4091606649710951,
          -0.07901188676813516,
          -0.32164633372494433,
          0.9816522229170433,
          0.6776451608653729,
          -0.8353341427637865,
          1.4655636349628942,
          2.00973210510375,
          0.34269433539070104,
          0.6002392765015414,
          0.7117390891406551,
          1.0592117801719485,
          0.7228041981165503,
          -0.8736465721312067,
          0.5676459790026085,
          0.3946690709293932,
          1.1159103925968208,
          -1.3623917634657412,
          0.6708499442787056,
          2.7667695870284845,
          0.7208184734528509,
          -0.5012612586998206,
          -1.1208824336937548,
          0.08310983627321097,
          1.4675574284440516,
          1.2532790994123408,
          0.007306638487820633,
          -0.8858137066431648,
          0.6242810094285595,
          -1.204652301395593,
          -1.1592080495946446,
          -0.8345983358790608,
          -0.7876304667169377,
          0.2226800879806531,
          0.4415686839563639,
          -0.269932602749613,
          -1.203764434204222,
          0.2411069726838896,
          -0.09951908368939481,
          -1.2286268384318006,
          0.9640396290879625,
          2.533865804668992,
          0.6363573751229564,
          0.6472031726814976,
          0.3660259455013826,
          0.9127612805233639,
          0.17883708005765753,
          -0.7077382719243921,
          -0.30885550649166293,
          1.327815639824272,
          -1.0254221405341721,
          -0.9383686643953827,
          -0.09071737066338419,
          0.6334847841474687,
          0.3071825571559436,
          -0.4857262165088668,
          -0.016132326632023995,
          0.5396152536884207,
          1.2850769796729489,
          -0.09184295300134171,
          0.6230902035502993,
          -0.28510111886218,
          0.963559438496964,
          1.7301036427052279,
          -0.23999086747889203,
          -0.6634015983510081,
          0.3389483473977393,
          1.3015088526277432,
          0.2801083119723154,
          -1.0717367219346814,
          0.6430291779034134,
          1.0587542570407236,
          -1.8666690899056997,
          0.19629610393134483
         ],
         "xaxis": "x13",
         "y": [
          0.3288885223174926,
          -0.05362057683546842,
          0.6944864221692295,
          0.02252577433779823,
          0.13647546453678722,
          -0.10806801637002397,
          -0.30864646770180626,
          0.33901164794495464,
          0.060188705738250456,
          0.19380195170155903,
          -0.522348080237052,
          0.6193212852322433,
          0.04404147779042312,
          -0.5786956835065248,
          -0.9326312727624145,
          -1.1077031636459158,
          0.8222129392917609,
          -0.7151429012834042,
          -0.4076584263131162,
          0.380535345843578,
          1.9331246815616225,
          0.8854566533885581,
          0.9250097363967863,
          -1.2250734639959535,
          -2.22671463804753,
          -1.5742891094053724,
          0.978683053819982,
          -1.136319691015506,
          -1.1137441313670016,
          0.436318837908886,
          0.541594724232907,
          0.9779228111714007,
          0.606322701056323,
          -0.89018875312323,
          -1.2540749488696816,
          0.0036231336181717475,
          -0.5862125200271961,
          -0.5496272785954898,
          -1.3808661187077242,
          -0.41911265700373646,
          -0.9893833037429732,
          -0.02227739253879558,
          -1.2109051787349658,
          0.2187550645508682,
          0.29539605379224376,
          -0.3264467139879857,
          0.6011974292790989,
          -0.05228156116144349,
          0.7624832361556565,
          -0.6702572568013639,
          -0.6785139300205213,
          0.3011819215746909,
          -0.020108136336801797,
          -0.4087092290165143,
          0.00698854161160987,
          1.20481109831026,
          -2.4818274281753863,
          0.319098393424909,
          -0.9898309304204703,
          0.2952005681553578,
          0.9619370070172015,
          -0.40093747682141156,
          -0.11952508572061894,
          1.1081954282248092,
          -0.1806524932116476,
          0.06261944968811173,
          0.03225926799516013,
          0.41594280093698044,
          -0.9657416824739882,
          -0.04405418685657381,
          0.05281557500120534,
          -1.5455467298149086,
          -1.3537818294467925,
          0.8392875684656593,
          0.7571304481994662,
          1.0988601549471448,
          -0.7876598489602764,
          2.0604966990745828,
          0.5946780208209356,
          -0.23702779487902637,
          0.9058986089027272,
          -1.0756265998225543,
          -0.05533987071067795,
          -1.0565996076695996,
          1.0413939228265987,
          -1.2620095908721358,
          1.1426775965278135,
          0.25579441301365924,
          -0.4319807601407964,
          -0.7550353606457672,
          -0.05815106441335786,
          0.6190864775229382,
          0.9399911697520962,
          -1.4366566678480763,
          -0.43104599207293115,
          -1.073006647715606,
          -1.0116719874581341,
          -0.0044088648192909495,
          -0.2723208922297199,
          -1.4184543082935284
         ],
         "yaxis": "y13"
        },
        {
         "line": {
          "color": "rgba(128, 128, 128, 1.0)",
          "dash": "solid",
          "shape": "linear",
          "width": 1.3
         },
         "marker": {
          "size": 2,
          "symbol": "circle"
         },
         "mode": "markers",
         "name": "D",
         "text": "",
         "type": "scatter",
         "x": [
          -0.8078877810272339,
          -0.6448885204384242,
          -0.7455902419946399,
          -1.3050276821950197,
          0.5003808807272312,
          -0.2544095597272951,
          -1.3513709895354138,
          -2.5602738161529337,
          1.8961054211952009,
          1.7143645670390613,
          0.38789704551642606,
          -0.43216641964758024,
          -0.121487555297366,
          0.4886943348247054,
          -0.531024084846558,
          1.019974525402949,
          -1.1265502671384462,
          -0.11944479093297246,
          0.07992209285850868,
          0.35694133719785076,
          1.5133316673425885,
          0.9526731400979774,
          2.1783088334956022,
          -0.5359561007282527,
          0.3879712182730429,
          -0.5599572053329858,
          0.7535131619955537,
          0.1737238244194225,
          -0.1398249931343527,
          -0.7847908485735925,
          -0.7389327805747367,
          0.24358444714280714,
          1.5261767506458273,
          0.06163695959046099,
          -0.4101352328979562,
          -0.09324634096394105,
          0.6528869126446963,
          0.01814734085788372,
          -1.3547064835577245,
          -0.6151383657756476,
          -0.028002153962266033,
          -1.0794710885393703,
          0.10420625617257966,
          0.0016299303751393895,
          0.20635200140925392,
          -2.233926947939479,
          -1.0973127325260994,
          -0.4408212095555347,
          1.22408852383261,
          0.13518041692760324,
          -0.6380915291645423,
          -1.0077051393357612,
          -0.2287842060650193,
          -1.4542627061984326,
          -0.8098208866087253,
          -0.023631771936152825,
          0.25512205354700956,
          -0.4367753483304965,
          -1.1077991003347287,
          1.5311400432991595,
          -1.2024989249956632,
          0.12192266114566915,
          0.35121591416736425,
          0.528914304859543,
          -0.04869540341544756,
          0.9691544110353982,
          -0.5742621312272939,
          -0.38144095937602707,
          2.0948824404994784,
          -0.2633073152560307,
          0.4376908561486388,
          -1.262068966059568,
          1.2029595169014162,
          0.6812982907014478,
          0.14481035473742293,
          -0.9025277487190613,
          -0.033162850514684906,
          -0.7212577482125213,
          -1.2129688234713587,
          0.10702847749976899,
          -0.5944521348825197,
          -0.22021650672250928,
          -0.08777301917765741,
          0.49809817622022645,
          -0.38138542032541234,
          2.2291460401740446,
          0.22260641858867825,
          -0.6572688729049547,
          0.21066253910388472,
          -1.9777342722498183,
          0.3060242902498709,
          -0.6017968715314095,
          1.7495494270187508,
          0.41260960952983505,
          -0.6762840831291067,
          1.0885603890399016,
          1.3670041388951435,
          0.4449508775116109,
          0.4117141563361959,
          -0.6129289668954218
         ],
         "xaxis": "x14",
         "y": [
          0.3288885223174926,
          -0.05362057683546842,
          0.6944864221692295,
          0.02252577433779823,
          0.13647546453678722,
          -0.10806801637002397,
          -0.30864646770180626,
          0.33901164794495464,
          0.060188705738250456,
          0.19380195170155903,
          -0.522348080237052,
          0.6193212852322433,
          0.04404147779042312,
          -0.5786956835065248,
          -0.9326312727624145,
          -1.1077031636459158,
          0.8222129392917609,
          -0.7151429012834042,
          -0.4076584263131162,
          0.380535345843578,
          1.9331246815616225,
          0.8854566533885581,
          0.9250097363967863,
          -1.2250734639959535,
          -2.22671463804753,
          -1.5742891094053724,
          0.978683053819982,
          -1.136319691015506,
          -1.1137441313670016,
          0.436318837908886,
          0.541594724232907,
          0.9779228111714007,
          0.606322701056323,
          -0.89018875312323,
          -1.2540749488696816,
          0.0036231336181717475,
          -0.5862125200271961,
          -0.5496272785954898,
          -1.3808661187077242,
          -0.41911265700373646,
          -0.9893833037429732,
          -0.02227739253879558,
          -1.2109051787349658,
          0.2187550645508682,
          0.29539605379224376,
          -0.3264467139879857,
          0.6011974292790989,
          -0.05228156116144349,
          0.7624832361556565,
          -0.6702572568013639,
          -0.6785139300205213,
          0.3011819215746909,
          -0.020108136336801797,
          -0.4087092290165143,
          0.00698854161160987,
          1.20481109831026,
          -2.4818274281753863,
          0.319098393424909,
          -0.9898309304204703,
          0.2952005681553578,
          0.9619370070172015,
          -0.40093747682141156,
          -0.11952508572061894,
          1.1081954282248092,
          -0.1806524932116476,
          0.06261944968811173,
          0.03225926799516013,
          0.41594280093698044,
          -0.9657416824739882,
          -0.04405418685657381,
          0.05281557500120534,
          -1.5455467298149086,
          -1.3537818294467925,
          0.8392875684656593,
          0.7571304481994662,
          1.0988601549471448,
          -0.7876598489602764,
          2.0604966990745828,
          0.5946780208209356,
          -0.23702779487902637,
          0.9058986089027272,
          -1.0756265998225543,
          -0.05533987071067795,
          -1.0565996076695996,
          1.0413939228265987,
          -1.2620095908721358,
          1.1426775965278135,
          0.25579441301365924,
          -0.4319807601407964,
          -0.7550353606457672,
          -0.05815106441335786,
          0.6190864775229382,
          0.9399911697520962,
          -1.4366566678480763,
          -0.43104599207293115,
          -1.073006647715606,
          -1.0116719874581341,
          -0.0044088648192909495,
          -0.2723208922297199,
          -1.4184543082935284
         ],
         "yaxis": "y14"
        },
        {
         "line": {
          "color": "rgba(128, 128, 128, 1.0)",
          "dash": "solid",
          "shape": "linear",
          "width": 1.3
         },
         "marker": {
          "size": 2,
          "symbol": "circle"
         },
         "mode": "markers",
         "name": "D",
         "text": "",
         "type": "scatter",
         "x": [
          -0.28087858577267105,
          -0.004940607057401839,
          -0.18230220142911813,
          0.2600963731552484,
          -2.188017212805162,
          -1.0898037238817064,
          0.8029079536160184,
          0.39290560201141383,
          -0.7824771205914149,
          0.09623173110212756,
          0.9068065372365814,
          -0.3989989888769911,
          -0.0641446346766752,
          -0.5345419155492223,
          0.32796331193357764,
          -0.5767538701014241,
          -0.10512746808304435,
          0.9172381947599746,
          -0.4472695304778123,
          0.7102683856385797,
          1.6939178797464913,
          2.3266870929170236,
          -0.20697932602210786,
          0.983827831881114,
          -2.0426268092837243,
          -0.4349401334944814,
          1.6547889256895636,
          -0.31154737802476706,
          -1.0900054140495148,
          -0.5300848153772204,
          0.02164567537324387,
          0.6273332422749028,
          -1.9773216115130865,
          0.6687587249854554,
          -0.06504102004656755,
          -0.34618824562897654,
          -0.3199115087635271,
          -0.4987996519933438,
          0.23575723882577956,
          0.7597754367105237,
          0.349048519111151,
          1.2015268322994783,
          1.2159218440959862,
          -0.42192591804738677,
          -0.8944245463342192,
          -0.435919363532489,
          1.397820879769164,
          -1.560418050372487,
          -1.1788409473597223,
          -0.4986100474691056,
          -0.6466678757707934,
          0.5776410340113322,
          -1.6148839333548723,
          0.6886420824906866,
          -0.3328314224856059,
          0.5363702326516426,
          0.6036522566095408,
          -1.7863633611315732,
          -0.3784178651278131,
          -0.27019072144003586,
          0.41899925622522255,
          -0.44459848135470603,
          0.9276848536350926,
          -0.05560740096298692,
          0.9330717802136188,
          0.19933373068207802,
          0.06307907081003797,
          -1.0126845508220041,
          -0.36590596742424647,
          -1.1658403037968499,
          -1.145026708386471,
          -1.4374897359308019,
          0.31196568286651527,
          -1.4022129995090378,
          0.43145008296749926,
          0.15936536072957974,
          0.1571961245450657,
          -1.3657685562718185,
          1.4992195393508299,
          0.13302405909411777,
          0.6900814716829894,
          0.4142888696248817,
          -0.28001864824131567,
          -1.2999007434589738,
          -0.43031486383923556,
          -0.9694286604561002,
          0.42547381984692245,
          0.7778766895492566,
          1.0116733908927231,
          -1.1313424765515263,
          -0.5505972224035046,
          -1.8466325055319044,
          -0.90990122673788,
          -0.5374142307935139,
          -0.13444784767642923,
          0.9257971446921365,
          -0.9524785152276847,
          0.8823242234454758,
          -1.1309090674165982,
          -1.2869116132712173
         ],
         "xaxis": "x15",
         "y": [
          0.3288885223174926,
          -0.05362057683546842,
          0.6944864221692295,
          0.02252577433779823,
          0.13647546453678722,
          -0.10806801637002397,
          -0.30864646770180626,
          0.33901164794495464,
          0.060188705738250456,
          0.19380195170155903,
          -0.522348080237052,
          0.6193212852322433,
          0.04404147779042312,
          -0.5786956835065248,
          -0.9326312727624145,
          -1.1077031636459158,
          0.8222129392917609,
          -0.7151429012834042,
          -0.4076584263131162,
          0.380535345843578,
          1.9331246815616225,
          0.8854566533885581,
          0.9250097363967863,
          -1.2250734639959535,
          -2.22671463804753,
          -1.5742891094053724,
          0.978683053819982,
          -1.136319691015506,
          -1.1137441313670016,
          0.436318837908886,
          0.541594724232907,
          0.9779228111714007,
          0.606322701056323,
          -0.89018875312323,
          -1.2540749488696816,
          0.0036231336181717475,
          -0.5862125200271961,
          -0.5496272785954898,
          -1.3808661187077242,
          -0.41911265700373646,
          -0.9893833037429732,
          -0.02227739253879558,
          -1.2109051787349658,
          0.2187550645508682,
          0.29539605379224376,
          -0.3264467139879857,
          0.6011974292790989,
          -0.05228156116144349,
          0.7624832361556565,
          -0.6702572568013639,
          -0.6785139300205213,
          0.3011819215746909,
          -0.020108136336801797,
          -0.4087092290165143,
          0.00698854161160987,
          1.20481109831026,
          -2.4818274281753863,
          0.319098393424909,
          -0.9898309304204703,
          0.2952005681553578,
          0.9619370070172015,
          -0.40093747682141156,
          -0.11952508572061894,
          1.1081954282248092,
          -0.1806524932116476,
          0.06261944968811173,
          0.03225926799516013,
          0.41594280093698044,
          -0.9657416824739882,
          -0.04405418685657381,
          0.05281557500120534,
          -1.5455467298149086,
          -1.3537818294467925,
          0.8392875684656593,
          0.7571304481994662,
          1.0988601549471448,
          -0.7876598489602764,
          2.0604966990745828,
          0.5946780208209356,
          -0.23702779487902637,
          0.9058986089027272,
          -1.0756265998225543,
          -0.05533987071067795,
          -1.0565996076695996,
          1.0413939228265987,
          -1.2620095908721358,
          1.1426775965278135,
          0.25579441301365924,
          -0.4319807601407964,
          -0.7550353606457672,
          -0.05815106441335786,
          0.6190864775229382,
          0.9399911697520962,
          -1.4366566678480763,
          -0.43104599207293115,
          -1.073006647715606,
          -1.0116719874581341,
          -0.0044088648192909495,
          -0.2723208922297199,
          -1.4184543082935284
         ],
         "yaxis": "y15"
        },
        {
         "histfunc": "count",
         "histnorm": "",
         "marker": {
          "color": "rgba(128, 0, 128, 1.0)",
          "line": {
           "color": "#4D5663",
           "width": 1.3
          }
         },
         "name": "D",
         "nbinsx": 10,
         "opacity": 0.8,
         "orientation": "v",
         "type": "histogram",
         "x": [
          0.3288885223174926,
          -0.05362057683546842,
          0.6944864221692295,
          0.02252577433779823,
          0.13647546453678722,
          -0.10806801637002397,
          -0.30864646770180626,
          0.33901164794495464,
          0.060188705738250456,
          0.19380195170155903,
          -0.522348080237052,
          0.6193212852322433,
          0.04404147779042312,
          -0.5786956835065248,
          -0.9326312727624145,
          -1.1077031636459158,
          0.8222129392917609,
          -0.7151429012834042,
          -0.4076584263131162,
          0.380535345843578,
          1.9331246815616225,
          0.8854566533885581,
          0.9250097363967863,
          -1.2250734639959535,
          -2.22671463804753,
          -1.5742891094053724,
          0.978683053819982,
          -1.136319691015506,
          -1.1137441313670016,
          0.436318837908886,
          0.541594724232907,
          0.9779228111714007,
          0.606322701056323,
          -0.89018875312323,
          -1.2540749488696816,
          0.0036231336181717475,
          -0.5862125200271961,
          -0.5496272785954898,
          -1.3808661187077242,
          -0.41911265700373646,
          -0.9893833037429732,
          -0.02227739253879558,
          -1.2109051787349658,
          0.2187550645508682,
          0.29539605379224376,
          -0.3264467139879857,
          0.6011974292790989,
          -0.05228156116144349,
          0.7624832361556565,
          -0.6702572568013639,
          -0.6785139300205213,
          0.3011819215746909,
          -0.020108136336801797,
          -0.4087092290165143,
          0.00698854161160987,
          1.20481109831026,
          -2.4818274281753863,
          0.319098393424909,
          -0.9898309304204703,
          0.2952005681553578,
          0.9619370070172015,
          -0.40093747682141156,
          -0.11952508572061894,
          1.1081954282248092,
          -0.1806524932116476,
          0.06261944968811173,
          0.03225926799516013,
          0.41594280093698044,
          -0.9657416824739882,
          -0.04405418685657381,
          0.05281557500120534,
          -1.5455467298149086,
          -1.3537818294467925,
          0.8392875684656593,
          0.7571304481994662,
          1.0988601549471448,
          -0.7876598489602764,
          2.0604966990745828,
          0.5946780208209356,
          -0.23702779487902637,
          0.9058986089027272,
          -1.0756265998225543,
          -0.05533987071067795,
          -1.0565996076695996,
          1.0413939228265987,
          -1.2620095908721358,
          1.1426775965278135,
          0.25579441301365924,
          -0.4319807601407964,
          -0.7550353606457672,
          -0.05815106441335786,
          0.6190864775229382,
          0.9399911697520962,
          -1.4366566678480763,
          -0.43104599207293115,
          -1.073006647715606,
          -1.0116719874581341,
          -0.0044088648192909495,
          -0.2723208922297199,
          -1.4184543082935284
         ],
         "xaxis": "x16",
         "yaxis": "y16"
        }
       ],
       "layout": {
        "bargap": 0.02,
        "legend": {
         "bgcolor": "#F5F6F9",
         "font": {
          "color": "#4D5663"
         }
        },
        "paper_bgcolor": "#F5F6F9",
        "plot_bgcolor": "#F5F6F9",
        "showlegend": false,
        "template": {
         "data": {
          "bar": [
           {
            "error_x": {
             "color": "#2a3f5f"
            },
            "error_y": {
             "color": "#2a3f5f"
            },
            "marker": {
             "line": {
              "color": "#E5ECF6",
              "width": 0.5
             },
             "pattern": {
              "fillmode": "overlay",
              "size": 10,
              "solidity": 0.2
             }
            },
            "type": "bar"
           }
          ],
          "barpolar": [
           {
            "marker": {
             "line": {
              "color": "#E5ECF6",
              "width": 0.5
             },
             "pattern": {
              "fillmode": "overlay",
              "size": 10,
              "solidity": 0.2
             }
            },
            "type": "barpolar"
           }
          ],
          "carpet": [
           {
            "aaxis": {
             "endlinecolor": "#2a3f5f",
             "gridcolor": "white",
             "linecolor": "white",
             "minorgridcolor": "white",
             "startlinecolor": "#2a3f5f"
            },
            "baxis": {
             "endlinecolor": "#2a3f5f",
             "gridcolor": "white",
             "linecolor": "white",
             "minorgridcolor": "white",
             "startlinecolor": "#2a3f5f"
            },
            "type": "carpet"
           }
          ],
          "choropleth": [
           {
            "colorbar": {
             "outlinewidth": 0,
             "ticks": ""
            },
            "type": "choropleth"
           }
          ],
          "contour": [
           {
            "colorbar": {
             "outlinewidth": 0,
             "ticks": ""
            },
            "colorscale": [
             [
              0,
              "#0d0887"
             ],
             [
              0.1111111111111111,
              "#46039f"
             ],
             [
              0.2222222222222222,
              "#7201a8"
             ],
             [
              0.3333333333333333,
              "#9c179e"
             ],
             [
              0.4444444444444444,
              "#bd3786"
             ],
             [
              0.5555555555555556,
              "#d8576b"
             ],
             [
              0.6666666666666666,
              "#ed7953"
             ],
             [
              0.7777777777777778,
              "#fb9f3a"
             ],
             [
              0.8888888888888888,
              "#fdca26"
             ],
             [
              1,
              "#f0f921"
             ]
            ],
            "type": "contour"
           }
          ],
          "contourcarpet": [
           {
            "colorbar": {
             "outlinewidth": 0,
             "ticks": ""
            },
            "type": "contourcarpet"
           }
          ],
          "heatmap": [
           {
            "colorbar": {
             "outlinewidth": 0,
             "ticks": ""
            },
            "colorscale": [
             [
              0,
              "#0d0887"
             ],
             [
              0.1111111111111111,
              "#46039f"
             ],
             [
              0.2222222222222222,
              "#7201a8"
             ],
             [
              0.3333333333333333,
              "#9c179e"
             ],
             [
              0.4444444444444444,
              "#bd3786"
             ],
             [
              0.5555555555555556,
              "#d8576b"
             ],
             [
              0.6666666666666666,
              "#ed7953"
             ],
             [
              0.7777777777777778,
              "#fb9f3a"
             ],
             [
              0.8888888888888888,
              "#fdca26"
             ],
             [
              1,
              "#f0f921"
             ]
            ],
            "type": "heatmap"
           }
          ],
          "heatmapgl": [
           {
            "colorbar": {
             "outlinewidth": 0,
             "ticks": ""
            },
            "colorscale": [
             [
              0,
              "#0d0887"
             ],
             [
              0.1111111111111111,
              "#46039f"
             ],
             [
              0.2222222222222222,
              "#7201a8"
             ],
             [
              0.3333333333333333,
              "#9c179e"
             ],
             [
              0.4444444444444444,
              "#bd3786"
             ],
             [
              0.5555555555555556,
              "#d8576b"
             ],
             [
              0.6666666666666666,
              "#ed7953"
             ],
             [
              0.7777777777777778,
              "#fb9f3a"
             ],
             [
              0.8888888888888888,
              "#fdca26"
             ],
             [
              1,
              "#f0f921"
             ]
            ],
            "type": "heatmapgl"
           }
          ],
          "histogram": [
           {
            "marker": {
             "pattern": {
              "fillmode": "overlay",
              "size": 10,
              "solidity": 0.2
             }
            },
            "type": "histogram"
           }
          ],
          "histogram2d": [
           {
            "colorbar": {
             "outlinewidth": 0,
             "ticks": ""
            },
            "colorscale": [
             [
              0,
              "#0d0887"
             ],
             [
              0.1111111111111111,
              "#46039f"
             ],
             [
              0.2222222222222222,
              "#7201a8"
             ],
             [
              0.3333333333333333,
              "#9c179e"
             ],
             [
              0.4444444444444444,
              "#bd3786"
             ],
             [
              0.5555555555555556,
              "#d8576b"
             ],
             [
              0.6666666666666666,
              "#ed7953"
             ],
             [
              0.7777777777777778,
              "#fb9f3a"
             ],
             [
              0.8888888888888888,
              "#fdca26"
             ],
             [
              1,
              "#f0f921"
             ]
            ],
            "type": "histogram2d"
           }
          ],
          "histogram2dcontour": [
           {
            "colorbar": {
             "outlinewidth": 0,
             "ticks": ""
            },
            "colorscale": [
             [
              0,
              "#0d0887"
             ],
             [
              0.1111111111111111,
              "#46039f"
             ],
             [
              0.2222222222222222,
              "#7201a8"
             ],
             [
              0.3333333333333333,
              "#9c179e"
             ],
             [
              0.4444444444444444,
              "#bd3786"
             ],
             [
              0.5555555555555556,
              "#d8576b"
             ],
             [
              0.6666666666666666,
              "#ed7953"
             ],
             [
              0.7777777777777778,
              "#fb9f3a"
             ],
             [
              0.8888888888888888,
              "#fdca26"
             ],
             [
              1,
              "#f0f921"
             ]
            ],
            "type": "histogram2dcontour"
           }
          ],
          "mesh3d": [
           {
            "colorbar": {
             "outlinewidth": 0,
             "ticks": ""
            },
            "type": "mesh3d"
           }
          ],
          "parcoords": [
           {
            "line": {
             "colorbar": {
              "outlinewidth": 0,
              "ticks": ""
             }
            },
            "type": "parcoords"
           }
          ],
          "pie": [
           {
            "automargin": true,
            "type": "pie"
           }
          ],
          "scatter": [
           {
            "marker": {
             "colorbar": {
              "outlinewidth": 0,
              "ticks": ""
             }
            },
            "type": "scatter"
           }
          ],
          "scatter3d": [
           {
            "line": {
             "colorbar": {
              "outlinewidth": 0,
              "ticks": ""
             }
            },
            "marker": {
             "colorbar": {
              "outlinewidth": 0,
              "ticks": ""
             }
            },
            "type": "scatter3d"
           }
          ],
          "scattercarpet": [
           {
            "marker": {
             "colorbar": {
              "outlinewidth": 0,
              "ticks": ""
             }
            },
            "type": "scattercarpet"
           }
          ],
          "scattergeo": [
           {
            "marker": {
             "colorbar": {
              "outlinewidth": 0,
              "ticks": ""
             }
            },
            "type": "scattergeo"
           }
          ],
          "scattergl": [
           {
            "marker": {
             "colorbar": {
              "outlinewidth": 0,
              "ticks": ""
             }
            },
            "type": "scattergl"
           }
          ],
          "scattermapbox": [
           {
            "marker": {
             "colorbar": {
              "outlinewidth": 0,
              "ticks": ""
             }
            },
            "type": "scattermapbox"
           }
          ],
          "scatterpolar": [
           {
            "marker": {
             "colorbar": {
              "outlinewidth": 0,
              "ticks": ""
             }
            },
            "type": "scatterpolar"
           }
          ],
          "scatterpolargl": [
           {
            "marker": {
             "colorbar": {
              "outlinewidth": 0,
              "ticks": ""
             }
            },
            "type": "scatterpolargl"
           }
          ],
          "scatterternary": [
           {
            "marker": {
             "colorbar": {
              "outlinewidth": 0,
              "ticks": ""
             }
            },
            "type": "scatterternary"
           }
          ],
          "surface": [
           {
            "colorbar": {
             "outlinewidth": 0,
             "ticks": ""
            },
            "colorscale": [
             [
              0,
              "#0d0887"
             ],
             [
              0.1111111111111111,
              "#46039f"
             ],
             [
              0.2222222222222222,
              "#7201a8"
             ],
             [
              0.3333333333333333,
              "#9c179e"
             ],
             [
              0.4444444444444444,
              "#bd3786"
             ],
             [
              0.5555555555555556,
              "#d8576b"
             ],
             [
              0.6666666666666666,
              "#ed7953"
             ],
             [
              0.7777777777777778,
              "#fb9f3a"
             ],
             [
              0.8888888888888888,
              "#fdca26"
             ],
             [
              1,
              "#f0f921"
             ]
            ],
            "type": "surface"
           }
          ],
          "table": [
           {
            "cells": {
             "fill": {
              "color": "#EBF0F8"
             },
             "line": {
              "color": "white"
             }
            },
            "header": {
             "fill": {
              "color": "#C8D4E3"
             },
             "line": {
              "color": "white"
             }
            },
            "type": "table"
           }
          ]
         },
         "layout": {
          "annotationdefaults": {
           "arrowcolor": "#2a3f5f",
           "arrowhead": 0,
           "arrowwidth": 1
          },
          "autotypenumbers": "strict",
          "coloraxis": {
           "colorbar": {
            "outlinewidth": 0,
            "ticks": ""
           }
          },
          "colorscale": {
           "diverging": [
            [
             0,
             "#8e0152"
            ],
            [
             0.1,
             "#c51b7d"
            ],
            [
             0.2,
             "#de77ae"
            ],
            [
             0.3,
             "#f1b6da"
            ],
            [
             0.4,
             "#fde0ef"
            ],
            [
             0.5,
             "#f7f7f7"
            ],
            [
             0.6,
             "#e6f5d0"
            ],
            [
             0.7,
             "#b8e186"
            ],
            [
             0.8,
             "#7fbc41"
            ],
            [
             0.9,
             "#4d9221"
            ],
            [
             1,
             "#276419"
            ]
           ],
           "sequential": [
            [
             0,
             "#0d0887"
            ],
            [
             0.1111111111111111,
             "#46039f"
            ],
            [
             0.2222222222222222,
             "#7201a8"
            ],
            [
             0.3333333333333333,
             "#9c179e"
            ],
            [
             0.4444444444444444,
             "#bd3786"
            ],
            [
             0.5555555555555556,
             "#d8576b"
            ],
            [
             0.6666666666666666,
             "#ed7953"
            ],
            [
             0.7777777777777778,
             "#fb9f3a"
            ],
            [
             0.8888888888888888,
             "#fdca26"
            ],
            [
             1,
             "#f0f921"
            ]
           ],
           "sequentialminus": [
            [
             0,
             "#0d0887"
            ],
            [
             0.1111111111111111,
             "#46039f"
            ],
            [
             0.2222222222222222,
             "#7201a8"
            ],
            [
             0.3333333333333333,
             "#9c179e"
            ],
            [
             0.4444444444444444,
             "#bd3786"
            ],
            [
             0.5555555555555556,
             "#d8576b"
            ],
            [
             0.6666666666666666,
             "#ed7953"
            ],
            [
             0.7777777777777778,
             "#fb9f3a"
            ],
            [
             0.8888888888888888,
             "#fdca26"
            ],
            [
             1,
             "#f0f921"
            ]
           ]
          },
          "colorway": [
           "#636efa",
           "#EF553B",
           "#00cc96",
           "#ab63fa",
           "#FFA15A",
           "#19d3f3",
           "#FF6692",
           "#B6E880",
           "#FF97FF",
           "#FECB52"
          ],
          "font": {
           "color": "#2a3f5f"
          },
          "geo": {
           "bgcolor": "white",
           "lakecolor": "white",
           "landcolor": "#E5ECF6",
           "showlakes": true,
           "showland": true,
           "subunitcolor": "white"
          },
          "hoverlabel": {
           "align": "left"
          },
          "hovermode": "closest",
          "mapbox": {
           "style": "light"
          },
          "paper_bgcolor": "white",
          "plot_bgcolor": "#E5ECF6",
          "polar": {
           "angularaxis": {
            "gridcolor": "white",
            "linecolor": "white",
            "ticks": ""
           },
           "bgcolor": "#E5ECF6",
           "radialaxis": {
            "gridcolor": "white",
            "linecolor": "white",
            "ticks": ""
           }
          },
          "scene": {
           "xaxis": {
            "backgroundcolor": "#E5ECF6",
            "gridcolor": "white",
            "gridwidth": 2,
            "linecolor": "white",
            "showbackground": true,
            "ticks": "",
            "zerolinecolor": "white"
           },
           "yaxis": {
            "backgroundcolor": "#E5ECF6",
            "gridcolor": "white",
            "gridwidth": 2,
            "linecolor": "white",
            "showbackground": true,
            "ticks": "",
            "zerolinecolor": "white"
           },
           "zaxis": {
            "backgroundcolor": "#E5ECF6",
            "gridcolor": "white",
            "gridwidth": 2,
            "linecolor": "white",
            "showbackground": true,
            "ticks": "",
            "zerolinecolor": "white"
           }
          },
          "shapedefaults": {
           "line": {
            "color": "#2a3f5f"
           }
          },
          "ternary": {
           "aaxis": {
            "gridcolor": "white",
            "linecolor": "white",
            "ticks": ""
           },
           "baxis": {
            "gridcolor": "white",
            "linecolor": "white",
            "ticks": ""
           },
           "bgcolor": "#E5ECF6",
           "caxis": {
            "gridcolor": "white",
            "linecolor": "white",
            "ticks": ""
           }
          },
          "title": {
           "x": 0.05
          },
          "xaxis": {
           "automargin": true,
           "gridcolor": "white",
           "linecolor": "white",
           "ticks": "",
           "title": {
            "standoff": 15
           },
           "zerolinecolor": "white",
           "zerolinewidth": 2
          },
          "yaxis": {
           "automargin": true,
           "gridcolor": "white",
           "linecolor": "white",
           "ticks": "",
           "title": {
            "standoff": 15
           },
           "zerolinecolor": "white",
           "zerolinewidth": 2
          }
         }
        },
        "title": {
         "font": {
          "color": "#4D5663"
         }
        },
        "xaxis": {
         "anchor": "y",
         "domain": [
          0,
          0.2125
         ],
         "gridcolor": "#E1E5ED",
         "showgrid": false,
         "tickfont": {
          "color": "#4D5663"
         },
         "title": {
          "font": {
           "color": "#4D5663"
          },
          "text": ""
         },
         "zerolinecolor": "#E1E5ED"
        },
        "xaxis10": {
         "anchor": "y10",
         "domain": [
          0.2625,
          0.475
         ],
         "gridcolor": "#E1E5ED",
         "showgrid": false,
         "tickfont": {
          "color": "#4D5663"
         },
         "title": {
          "font": {
           "color": "#4D5663"
          },
          "text": ""
         },
         "zerolinecolor": "#E1E5ED"
        },
        "xaxis11": {
         "anchor": "y11",
         "domain": [
          0.525,
          0.7375
         ],
         "gridcolor": "#E1E5ED",
         "showgrid": false,
         "tickfont": {
          "color": "#4D5663"
         },
         "title": {
          "font": {
           "color": "#4D5663"
          },
          "text": ""
         },
         "zerolinecolor": "#E1E5ED"
        },
        "xaxis12": {
         "anchor": "y12",
         "domain": [
          0.7875,
          1
         ],
         "gridcolor": "#E1E5ED",
         "showgrid": false,
         "tickfont": {
          "color": "#4D5663"
         },
         "title": {
          "font": {
           "color": "#4D5663"
          },
          "text": ""
         },
         "zerolinecolor": "#E1E5ED"
        },
        "xaxis13": {
         "anchor": "y13",
         "domain": [
          0,
          0.2125
         ],
         "gridcolor": "#E1E5ED",
         "showgrid": false,
         "tickfont": {
          "color": "#4D5663"
         },
         "title": {
          "font": {
           "color": "#4D5663"
          },
          "text": ""
         },
         "zerolinecolor": "#E1E5ED"
        },
        "xaxis14": {
         "anchor": "y14",
         "domain": [
          0.2625,
          0.475
         ],
         "gridcolor": "#E1E5ED",
         "showgrid": false,
         "tickfont": {
          "color": "#4D5663"
         },
         "title": {
          "font": {
           "color": "#4D5663"
          },
          "text": ""
         },
         "zerolinecolor": "#E1E5ED"
        },
        "xaxis15": {
         "anchor": "y15",
         "domain": [
          0.525,
          0.7375
         ],
         "gridcolor": "#E1E5ED",
         "showgrid": false,
         "tickfont": {
          "color": "#4D5663"
         },
         "title": {
          "font": {
           "color": "#4D5663"
          },
          "text": ""
         },
         "zerolinecolor": "#E1E5ED"
        },
        "xaxis16": {
         "anchor": "y16",
         "domain": [
          0.7875,
          1
         ],
         "gridcolor": "#E1E5ED",
         "showgrid": false,
         "tickfont": {
          "color": "#4D5663"
         },
         "title": {
          "font": {
           "color": "#4D5663"
          },
          "text": ""
         },
         "zerolinecolor": "#E1E5ED"
        },
        "xaxis2": {
         "anchor": "y2",
         "domain": [
          0.2625,
          0.475
         ],
         "gridcolor": "#E1E5ED",
         "showgrid": false,
         "tickfont": {
          "color": "#4D5663"
         },
         "title": {
          "font": {
           "color": "#4D5663"
          },
          "text": ""
         },
         "zerolinecolor": "#E1E5ED"
        },
        "xaxis3": {
         "anchor": "y3",
         "domain": [
          0.525,
          0.7375
         ],
         "gridcolor": "#E1E5ED",
         "showgrid": false,
         "tickfont": {
          "color": "#4D5663"
         },
         "title": {
          "font": {
           "color": "#4D5663"
          },
          "text": ""
         },
         "zerolinecolor": "#E1E5ED"
        },
        "xaxis4": {
         "anchor": "y4",
         "domain": [
          0.7875,
          1
         ],
         "gridcolor": "#E1E5ED",
         "showgrid": false,
         "tickfont": {
          "color": "#4D5663"
         },
         "title": {
          "font": {
           "color": "#4D5663"
          },
          "text": ""
         },
         "zerolinecolor": "#E1E5ED"
        },
        "xaxis5": {
         "anchor": "y5",
         "domain": [
          0,
          0.2125
         ],
         "gridcolor": "#E1E5ED",
         "showgrid": false,
         "tickfont": {
          "color": "#4D5663"
         },
         "title": {
          "font": {
           "color": "#4D5663"
          },
          "text": ""
         },
         "zerolinecolor": "#E1E5ED"
        },
        "xaxis6": {
         "anchor": "y6",
         "domain": [
          0.2625,
          0.475
         ],
         "gridcolor": "#E1E5ED",
         "showgrid": false,
         "tickfont": {
          "color": "#4D5663"
         },
         "title": {
          "font": {
           "color": "#4D5663"
          },
          "text": ""
         },
         "zerolinecolor": "#E1E5ED"
        },
        "xaxis7": {
         "anchor": "y7",
         "domain": [
          0.525,
          0.7375
         ],
         "gridcolor": "#E1E5ED",
         "showgrid": false,
         "tickfont": {
          "color": "#4D5663"
         },
         "title": {
          "font": {
           "color": "#4D5663"
          },
          "text": ""
         },
         "zerolinecolor": "#E1E5ED"
        },
        "xaxis8": {
         "anchor": "y8",
         "domain": [
          0.7875,
          1
         ],
         "gridcolor": "#E1E5ED",
         "showgrid": false,
         "tickfont": {
          "color": "#4D5663"
         },
         "title": {
          "font": {
           "color": "#4D5663"
          },
          "text": ""
         },
         "zerolinecolor": "#E1E5ED"
        },
        "xaxis9": {
         "anchor": "y9",
         "domain": [
          0,
          0.2125
         ],
         "gridcolor": "#E1E5ED",
         "showgrid": false,
         "tickfont": {
          "color": "#4D5663"
         },
         "title": {
          "font": {
           "color": "#4D5663"
          },
          "text": ""
         },
         "zerolinecolor": "#E1E5ED"
        },
        "yaxis": {
         "anchor": "x",
         "domain": [
          0.8025,
          1
         ],
         "gridcolor": "#E1E5ED",
         "showgrid": false,
         "tickfont": {
          "color": "#4D5663"
         },
         "title": {
          "font": {
           "color": "#4D5663"
          },
          "text": ""
         },
         "zerolinecolor": "#E1E5ED"
        },
        "yaxis10": {
         "anchor": "x10",
         "domain": [
          0.2675,
          0.465
         ],
         "gridcolor": "#E1E5ED",
         "showgrid": false,
         "tickfont": {
          "color": "#4D5663"
         },
         "title": {
          "font": {
           "color": "#4D5663"
          },
          "text": ""
         },
         "zerolinecolor": "#E1E5ED"
        },
        "yaxis11": {
         "anchor": "x11",
         "domain": [
          0.2675,
          0.465
         ],
         "gridcolor": "#E1E5ED",
         "showgrid": false,
         "tickfont": {
          "color": "#4D5663"
         },
         "title": {
          "font": {
           "color": "#4D5663"
          },
          "text": ""
         },
         "zerolinecolor": "#E1E5ED"
        },
        "yaxis12": {
         "anchor": "x12",
         "domain": [
          0.2675,
          0.465
         ],
         "gridcolor": "#E1E5ED",
         "showgrid": false,
         "tickfont": {
          "color": "#4D5663"
         },
         "title": {
          "font": {
           "color": "#4D5663"
          },
          "text": ""
         },
         "zerolinecolor": "#E1E5ED"
        },
        "yaxis13": {
         "anchor": "x13",
         "domain": [
          0,
          0.1975
         ],
         "gridcolor": "#E1E5ED",
         "showgrid": false,
         "tickfont": {
          "color": "#4D5663"
         },
         "title": {
          "font": {
           "color": "#4D5663"
          },
          "text": ""
         },
         "zerolinecolor": "#E1E5ED"
        },
        "yaxis14": {
         "anchor": "x14",
         "domain": [
          0,
          0.1975
         ],
         "gridcolor": "#E1E5ED",
         "showgrid": false,
         "tickfont": {
          "color": "#4D5663"
         },
         "title": {
          "font": {
           "color": "#4D5663"
          },
          "text": ""
         },
         "zerolinecolor": "#E1E5ED"
        },
        "yaxis15": {
         "anchor": "x15",
         "domain": [
          0,
          0.1975
         ],
         "gridcolor": "#E1E5ED",
         "showgrid": false,
         "tickfont": {
          "color": "#4D5663"
         },
         "title": {
          "font": {
           "color": "#4D5663"
          },
          "text": ""
         },
         "zerolinecolor": "#E1E5ED"
        },
        "yaxis16": {
         "anchor": "x16",
         "domain": [
          0,
          0.1975
         ],
         "gridcolor": "#E1E5ED",
         "showgrid": false,
         "tickfont": {
          "color": "#4D5663"
         },
         "title": {
          "font": {
           "color": "#4D5663"
          },
          "text": ""
         },
         "zerolinecolor": "#E1E5ED"
        },
        "yaxis2": {
         "anchor": "x2",
         "domain": [
          0.8025,
          1
         ],
         "gridcolor": "#E1E5ED",
         "showgrid": false,
         "tickfont": {
          "color": "#4D5663"
         },
         "title": {
          "font": {
           "color": "#4D5663"
          },
          "text": ""
         },
         "zerolinecolor": "#E1E5ED"
        },
        "yaxis3": {
         "anchor": "x3",
         "domain": [
          0.8025,
          1
         ],
         "gridcolor": "#E1E5ED",
         "showgrid": false,
         "tickfont": {
          "color": "#4D5663"
         },
         "title": {
          "font": {
           "color": "#4D5663"
          },
          "text": ""
         },
         "zerolinecolor": "#E1E5ED"
        },
        "yaxis4": {
         "anchor": "x4",
         "domain": [
          0.8025,
          1
         ],
         "gridcolor": "#E1E5ED",
         "showgrid": false,
         "tickfont": {
          "color": "#4D5663"
         },
         "title": {
          "font": {
           "color": "#4D5663"
          },
          "text": ""
         },
         "zerolinecolor": "#E1E5ED"
        },
        "yaxis5": {
         "anchor": "x5",
         "domain": [
          0.535,
          0.7325
         ],
         "gridcolor": "#E1E5ED",
         "showgrid": false,
         "tickfont": {
          "color": "#4D5663"
         },
         "title": {
          "font": {
           "color": "#4D5663"
          },
          "text": ""
         },
         "zerolinecolor": "#E1E5ED"
        },
        "yaxis6": {
         "anchor": "x6",
         "domain": [
          0.535,
          0.7325
         ],
         "gridcolor": "#E1E5ED",
         "showgrid": false,
         "tickfont": {
          "color": "#4D5663"
         },
         "title": {
          "font": {
           "color": "#4D5663"
          },
          "text": ""
         },
         "zerolinecolor": "#E1E5ED"
        },
        "yaxis7": {
         "anchor": "x7",
         "domain": [
          0.535,
          0.7325
         ],
         "gridcolor": "#E1E5ED",
         "showgrid": false,
         "tickfont": {
          "color": "#4D5663"
         },
         "title": {
          "font": {
           "color": "#4D5663"
          },
          "text": ""
         },
         "zerolinecolor": "#E1E5ED"
        },
        "yaxis8": {
         "anchor": "x8",
         "domain": [
          0.535,
          0.7325
         ],
         "gridcolor": "#E1E5ED",
         "showgrid": false,
         "tickfont": {
          "color": "#4D5663"
         },
         "title": {
          "font": {
           "color": "#4D5663"
          },
          "text": ""
         },
         "zerolinecolor": "#E1E5ED"
        },
        "yaxis9": {
         "anchor": "x9",
         "domain": [
          0.2675,
          0.465
         ],
         "gridcolor": "#E1E5ED",
         "showgrid": false,
         "tickfont": {
          "color": "#4D5663"
         },
         "title": {
          "font": {
           "color": "#4D5663"
          },
          "text": ""
         },
         "zerolinecolor": "#E1E5ED"
        }
       }
      },
      "text/html": [
       "<div>                            <div id=\"0260d47a-7e2c-4624-9347-8bf9ba5c8cf1\" class=\"plotly-graph-div\" style=\"height:525px; width:100%;\"></div>            <script type=\"text/javascript\">                require([\"plotly\"], function(Plotly) {                    window.PLOTLYENV=window.PLOTLYENV || {};\n",
       "                    window.PLOTLYENV.BASE_URL='https://plot.ly';                                    if (document.getElementById(\"0260d47a-7e2c-4624-9347-8bf9ba5c8cf1\")) {                    Plotly.newPlot(                        \"0260d47a-7e2c-4624-9347-8bf9ba5c8cf1\",                        [{\"histfunc\":\"count\",\"histnorm\":\"\",\"marker\":{\"color\":\"rgba(255, 153, 51, 1.0)\",\"line\":{\"color\":\"#4D5663\",\"width\":1.3}},\"name\":\"A\",\"nbinsx\":10,\"opacity\":0.8,\"orientation\":\"v\",\"x\":[-0.19028147001615417,0.3282365234795369,1.1399229516160017,-1.5285412750999146,-0.24886967751150038,0.2516245509136745,1.0322355236009921,0.11599439899823132,-0.08552299190870857,-0.392599667290996,1.0483873911059238,-1.3672086527525584,-1.2953691663834808,-0.37398870480107765,0.16094578705735657,0.698636684971462,1.5186664839892636,-0.3023573194571271,0.16832675647100329,0.19054539363793585,-0.05607139243232748,2.49434793378773,-0.530066327400534,0.8770350482674139,0.813057708391379,0.29820305701467675,0.4091606649710951,-0.07901188676813516,-0.32164633372494433,0.9816522229170433,0.6776451608653729,-0.8353341427637865,1.4655636349628942,2.00973210510375,0.34269433539070104,0.6002392765015414,0.7117390891406551,1.0592117801719485,0.7228041981165503,-0.8736465721312067,0.5676459790026085,0.3946690709293932,1.1159103925968208,-1.3623917634657412,0.6708499442787056,2.7667695870284845,0.7208184734528509,-0.5012612586998206,-1.1208824336937548,0.08310983627321097,1.4675574284440516,1.2532790994123408,0.007306638487820633,-0.8858137066431648,0.6242810094285595,-1.204652301395593,-1.1592080495946446,-0.8345983358790608,-0.7876304667169377,0.2226800879806531,0.4415686839563639,-0.269932602749613,-1.203764434204222,0.2411069726838896,-0.09951908368939481,-1.2286268384318006,0.9640396290879625,2.533865804668992,0.6363573751229564,0.6472031726814976,0.3660259455013826,0.9127612805233639,0.17883708005765753,-0.7077382719243921,-0.30885550649166293,1.327815639824272,-1.0254221405341721,-0.9383686643953827,-0.09071737066338419,0.6334847841474687,0.3071825571559436,-0.4857262165088668,-0.016132326632023995,0.5396152536884207,1.2850769796729489,-0.09184295300134171,0.6230902035502993,-0.28510111886218,0.963559438496964,1.7301036427052279,-0.23999086747889203,-0.6634015983510081,0.3389483473977393,1.3015088526277432,0.2801083119723154,-1.0717367219346814,0.6430291779034134,1.0587542570407236,-1.8666690899056997,0.19629610393134483],\"xaxis\":\"x\",\"yaxis\":\"y\",\"type\":\"histogram\"},{\"line\":{\"color\":\"rgba(128, 128, 128, 1.0)\",\"dash\":\"solid\",\"shape\":\"linear\",\"width\":1.3},\"marker\":{\"size\":2,\"symbol\":\"circle\"},\"mode\":\"markers\",\"name\":\"A\",\"text\":\"\",\"x\":[-0.8078877810272339,-0.6448885204384242,-0.7455902419946399,-1.3050276821950197,0.5003808807272312,-0.2544095597272951,-1.3513709895354138,-2.5602738161529337,1.8961054211952009,1.7143645670390613,0.38789704551642606,-0.43216641964758024,-0.121487555297366,0.4886943348247054,-0.531024084846558,1.019974525402949,-1.1265502671384462,-0.11944479093297246,0.07992209285850868,0.35694133719785076,1.5133316673425885,0.9526731400979774,2.1783088334956022,-0.5359561007282527,0.3879712182730429,-0.5599572053329858,0.7535131619955537,0.1737238244194225,-0.1398249931343527,-0.7847908485735925,-0.7389327805747367,0.24358444714280714,1.5261767506458273,0.06163695959046099,-0.4101352328979562,-0.09324634096394105,0.6528869126446963,0.01814734085788372,-1.3547064835577245,-0.6151383657756476,-0.028002153962266033,-1.0794710885393703,0.10420625617257966,0.0016299303751393895,0.20635200140925392,-2.233926947939479,-1.0973127325260994,-0.4408212095555347,1.22408852383261,0.13518041692760324,-0.6380915291645423,-1.0077051393357612,-0.2287842060650193,-1.4542627061984326,-0.8098208866087253,-0.023631771936152825,0.25512205354700956,-0.4367753483304965,-1.1077991003347287,1.5311400432991595,-1.2024989249956632,0.12192266114566915,0.35121591416736425,0.528914304859543,-0.04869540341544756,0.9691544110353982,-0.5742621312272939,-0.38144095937602707,2.0948824404994784,-0.2633073152560307,0.4376908561486388,-1.262068966059568,1.2029595169014162,0.6812982907014478,0.14481035473742293,-0.9025277487190613,-0.033162850514684906,-0.7212577482125213,-1.2129688234713587,0.10702847749976899,-0.5944521348825197,-0.22021650672250928,-0.08777301917765741,0.49809817622022645,-0.38138542032541234,2.2291460401740446,0.22260641858867825,-0.6572688729049547,0.21066253910388472,-1.9777342722498183,0.3060242902498709,-0.6017968715314095,1.7495494270187508,0.41260960952983505,-0.6762840831291067,1.0885603890399016,1.3670041388951435,0.4449508775116109,0.4117141563361959,-0.6129289668954218],\"xaxis\":\"x2\",\"y\":[-0.19028147001615417,0.3282365234795369,1.1399229516160017,-1.5285412750999146,-0.24886967751150038,0.2516245509136745,1.0322355236009921,0.11599439899823132,-0.08552299190870857,-0.392599667290996,1.0483873911059238,-1.3672086527525584,-1.2953691663834808,-0.37398870480107765,0.16094578705735657,0.698636684971462,1.5186664839892636,-0.3023573194571271,0.16832675647100329,0.19054539363793585,-0.05607139243232748,2.49434793378773,-0.530066327400534,0.8770350482674139,0.813057708391379,0.29820305701467675,0.4091606649710951,-0.07901188676813516,-0.32164633372494433,0.9816522229170433,0.6776451608653729,-0.8353341427637865,1.4655636349628942,2.00973210510375,0.34269433539070104,0.6002392765015414,0.7117390891406551,1.0592117801719485,0.7228041981165503,-0.8736465721312067,0.5676459790026085,0.3946690709293932,1.1159103925968208,-1.3623917634657412,0.6708499442787056,2.7667695870284845,0.7208184734528509,-0.5012612586998206,-1.1208824336937548,0.08310983627321097,1.4675574284440516,1.2532790994123408,0.007306638487820633,-0.8858137066431648,0.6242810094285595,-1.204652301395593,-1.1592080495946446,-0.8345983358790608,-0.7876304667169377,0.2226800879806531,0.4415686839563639,-0.269932602749613,-1.203764434204222,0.2411069726838896,-0.09951908368939481,-1.2286268384318006,0.9640396290879625,2.533865804668992,0.6363573751229564,0.6472031726814976,0.3660259455013826,0.9127612805233639,0.17883708005765753,-0.7077382719243921,-0.30885550649166293,1.327815639824272,-1.0254221405341721,-0.9383686643953827,-0.09071737066338419,0.6334847841474687,0.3071825571559436,-0.4857262165088668,-0.016132326632023995,0.5396152536884207,1.2850769796729489,-0.09184295300134171,0.6230902035502993,-0.28510111886218,0.963559438496964,1.7301036427052279,-0.23999086747889203,-0.6634015983510081,0.3389483473977393,1.3015088526277432,0.2801083119723154,-1.0717367219346814,0.6430291779034134,1.0587542570407236,-1.8666690899056997,0.19629610393134483],\"yaxis\":\"y2\",\"type\":\"scatter\"},{\"line\":{\"color\":\"rgba(128, 128, 128, 1.0)\",\"dash\":\"solid\",\"shape\":\"linear\",\"width\":1.3},\"marker\":{\"size\":2,\"symbol\":\"circle\"},\"mode\":\"markers\",\"name\":\"A\",\"text\":\"\",\"x\":[-0.28087858577267105,-0.004940607057401839,-0.18230220142911813,0.2600963731552484,-2.188017212805162,-1.0898037238817064,0.8029079536160184,0.39290560201141383,-0.7824771205914149,0.09623173110212756,0.9068065372365814,-0.3989989888769911,-0.0641446346766752,-0.5345419155492223,0.32796331193357764,-0.5767538701014241,-0.10512746808304435,0.9172381947599746,-0.4472695304778123,0.7102683856385797,1.6939178797464913,2.3266870929170236,-0.20697932602210786,0.983827831881114,-2.0426268092837243,-0.4349401334944814,1.6547889256895636,-0.31154737802476706,-1.0900054140495148,-0.5300848153772204,0.02164567537324387,0.6273332422749028,-1.9773216115130865,0.6687587249854554,-0.06504102004656755,-0.34618824562897654,-0.3199115087635271,-0.4987996519933438,0.23575723882577956,0.7597754367105237,0.349048519111151,1.2015268322994783,1.2159218440959862,-0.42192591804738677,-0.8944245463342192,-0.435919363532489,1.397820879769164,-1.560418050372487,-1.1788409473597223,-0.4986100474691056,-0.6466678757707934,0.5776410340113322,-1.6148839333548723,0.6886420824906866,-0.3328314224856059,0.5363702326516426,0.6036522566095408,-1.7863633611315732,-0.3784178651278131,-0.27019072144003586,0.41899925622522255,-0.44459848135470603,0.9276848536350926,-0.05560740096298692,0.9330717802136188,0.19933373068207802,0.06307907081003797,-1.0126845508220041,-0.36590596742424647,-1.1658403037968499,-1.145026708386471,-1.4374897359308019,0.31196568286651527,-1.4022129995090378,0.43145008296749926,0.15936536072957974,0.1571961245450657,-1.3657685562718185,1.4992195393508299,0.13302405909411777,0.6900814716829894,0.4142888696248817,-0.28001864824131567,-1.2999007434589738,-0.43031486383923556,-0.9694286604561002,0.42547381984692245,0.7778766895492566,1.0116733908927231,-1.1313424765515263,-0.5505972224035046,-1.8466325055319044,-0.90990122673788,-0.5374142307935139,-0.13444784767642923,0.9257971446921365,-0.9524785152276847,0.8823242234454758,-1.1309090674165982,-1.2869116132712173],\"xaxis\":\"x3\",\"y\":[-0.19028147001615417,0.3282365234795369,1.1399229516160017,-1.5285412750999146,-0.24886967751150038,0.2516245509136745,1.0322355236009921,0.11599439899823132,-0.08552299190870857,-0.392599667290996,1.0483873911059238,-1.3672086527525584,-1.2953691663834808,-0.37398870480107765,0.16094578705735657,0.698636684971462,1.5186664839892636,-0.3023573194571271,0.16832675647100329,0.19054539363793585,-0.05607139243232748,2.49434793378773,-0.530066327400534,0.8770350482674139,0.813057708391379,0.29820305701467675,0.4091606649710951,-0.07901188676813516,-0.32164633372494433,0.9816522229170433,0.6776451608653729,-0.8353341427637865,1.4655636349628942,2.00973210510375,0.34269433539070104,0.6002392765015414,0.7117390891406551,1.0592117801719485,0.7228041981165503,-0.8736465721312067,0.5676459790026085,0.3946690709293932,1.1159103925968208,-1.3623917634657412,0.6708499442787056,2.7667695870284845,0.7208184734528509,-0.5012612586998206,-1.1208824336937548,0.08310983627321097,1.4675574284440516,1.2532790994123408,0.007306638487820633,-0.8858137066431648,0.6242810094285595,-1.204652301395593,-1.1592080495946446,-0.8345983358790608,-0.7876304667169377,0.2226800879806531,0.4415686839563639,-0.269932602749613,-1.203764434204222,0.2411069726838896,-0.09951908368939481,-1.2286268384318006,0.9640396290879625,2.533865804668992,0.6363573751229564,0.6472031726814976,0.3660259455013826,0.9127612805233639,0.17883708005765753,-0.7077382719243921,-0.30885550649166293,1.327815639824272,-1.0254221405341721,-0.9383686643953827,-0.09071737066338419,0.6334847841474687,0.3071825571559436,-0.4857262165088668,-0.016132326632023995,0.5396152536884207,1.2850769796729489,-0.09184295300134171,0.6230902035502993,-0.28510111886218,0.963559438496964,1.7301036427052279,-0.23999086747889203,-0.6634015983510081,0.3389483473977393,1.3015088526277432,0.2801083119723154,-1.0717367219346814,0.6430291779034134,1.0587542570407236,-1.8666690899056997,0.19629610393134483],\"yaxis\":\"y3\",\"type\":\"scatter\"},{\"line\":{\"color\":\"rgba(128, 128, 128, 1.0)\",\"dash\":\"solid\",\"shape\":\"linear\",\"width\":1.3},\"marker\":{\"size\":2,\"symbol\":\"circle\"},\"mode\":\"markers\",\"name\":\"A\",\"text\":\"\",\"x\":[0.3288885223174926,-0.05362057683546842,0.6944864221692295,0.02252577433779823,0.13647546453678722,-0.10806801637002397,-0.30864646770180626,0.33901164794495464,0.060188705738250456,0.19380195170155903,-0.522348080237052,0.6193212852322433,0.04404147779042312,-0.5786956835065248,-0.9326312727624145,-1.1077031636459158,0.8222129392917609,-0.7151429012834042,-0.4076584263131162,0.380535345843578,1.9331246815616225,0.8854566533885581,0.9250097363967863,-1.2250734639959535,-2.22671463804753,-1.5742891094053724,0.978683053819982,-1.136319691015506,-1.1137441313670016,0.436318837908886,0.541594724232907,0.9779228111714007,0.606322701056323,-0.89018875312323,-1.2540749488696816,0.0036231336181717475,-0.5862125200271961,-0.5496272785954898,-1.3808661187077242,-0.41911265700373646,-0.9893833037429732,-0.02227739253879558,-1.2109051787349658,0.2187550645508682,0.29539605379224376,-0.3264467139879857,0.6011974292790989,-0.05228156116144349,0.7624832361556565,-0.6702572568013639,-0.6785139300205213,0.3011819215746909,-0.020108136336801797,-0.4087092290165143,0.00698854161160987,1.20481109831026,-2.4818274281753863,0.319098393424909,-0.9898309304204703,0.2952005681553578,0.9619370070172015,-0.40093747682141156,-0.11952508572061894,1.1081954282248092,-0.1806524932116476,0.06261944968811173,0.03225926799516013,0.41594280093698044,-0.9657416824739882,-0.04405418685657381,0.05281557500120534,-1.5455467298149086,-1.3537818294467925,0.8392875684656593,0.7571304481994662,1.0988601549471448,-0.7876598489602764,2.0604966990745828,0.5946780208209356,-0.23702779487902637,0.9058986089027272,-1.0756265998225543,-0.05533987071067795,-1.0565996076695996,1.0413939228265987,-1.2620095908721358,1.1426775965278135,0.25579441301365924,-0.4319807601407964,-0.7550353606457672,-0.05815106441335786,0.6190864775229382,0.9399911697520962,-1.4366566678480763,-0.43104599207293115,-1.073006647715606,-1.0116719874581341,-0.0044088648192909495,-0.2723208922297199,-1.4184543082935284],\"xaxis\":\"x4\",\"y\":[-0.19028147001615417,0.3282365234795369,1.1399229516160017,-1.5285412750999146,-0.24886967751150038,0.2516245509136745,1.0322355236009921,0.11599439899823132,-0.08552299190870857,-0.392599667290996,1.0483873911059238,-1.3672086527525584,-1.2953691663834808,-0.37398870480107765,0.16094578705735657,0.698636684971462,1.5186664839892636,-0.3023573194571271,0.16832675647100329,0.19054539363793585,-0.05607139243232748,2.49434793378773,-0.530066327400534,0.8770350482674139,0.813057708391379,0.29820305701467675,0.4091606649710951,-0.07901188676813516,-0.32164633372494433,0.9816522229170433,0.6776451608653729,-0.8353341427637865,1.4655636349628942,2.00973210510375,0.34269433539070104,0.6002392765015414,0.7117390891406551,1.0592117801719485,0.7228041981165503,-0.8736465721312067,0.5676459790026085,0.3946690709293932,1.1159103925968208,-1.3623917634657412,0.6708499442787056,2.7667695870284845,0.7208184734528509,-0.5012612586998206,-1.1208824336937548,0.08310983627321097,1.4675574284440516,1.2532790994123408,0.007306638487820633,-0.8858137066431648,0.6242810094285595,-1.204652301395593,-1.1592080495946446,-0.8345983358790608,-0.7876304667169377,0.2226800879806531,0.4415686839563639,-0.269932602749613,-1.203764434204222,0.2411069726838896,-0.09951908368939481,-1.2286268384318006,0.9640396290879625,2.533865804668992,0.6363573751229564,0.6472031726814976,0.3660259455013826,0.9127612805233639,0.17883708005765753,-0.7077382719243921,-0.30885550649166293,1.327815639824272,-1.0254221405341721,-0.9383686643953827,-0.09071737066338419,0.6334847841474687,0.3071825571559436,-0.4857262165088668,-0.016132326632023995,0.5396152536884207,1.2850769796729489,-0.09184295300134171,0.6230902035502993,-0.28510111886218,0.963559438496964,1.7301036427052279,-0.23999086747889203,-0.6634015983510081,0.3389483473977393,1.3015088526277432,0.2801083119723154,-1.0717367219346814,0.6430291779034134,1.0587542570407236,-1.8666690899056997,0.19629610393134483],\"yaxis\":\"y4\",\"type\":\"scatter\"},{\"line\":{\"color\":\"rgba(128, 128, 128, 1.0)\",\"dash\":\"solid\",\"shape\":\"linear\",\"width\":1.3},\"marker\":{\"size\":2,\"symbol\":\"circle\"},\"mode\":\"markers\",\"name\":\"B\",\"text\":\"\",\"x\":[-0.19028147001615417,0.3282365234795369,1.1399229516160017,-1.5285412750999146,-0.24886967751150038,0.2516245509136745,1.0322355236009921,0.11599439899823132,-0.08552299190870857,-0.392599667290996,1.0483873911059238,-1.3672086527525584,-1.2953691663834808,-0.37398870480107765,0.16094578705735657,0.698636684971462,1.5186664839892636,-0.3023573194571271,0.16832675647100329,0.19054539363793585,-0.05607139243232748,2.49434793378773,-0.530066327400534,0.8770350482674139,0.813057708391379,0.29820305701467675,0.4091606649710951,-0.07901188676813516,-0.32164633372494433,0.9816522229170433,0.6776451608653729,-0.8353341427637865,1.4655636349628942,2.00973210510375,0.34269433539070104,0.6002392765015414,0.7117390891406551,1.0592117801719485,0.7228041981165503,-0.8736465721312067,0.5676459790026085,0.3946690709293932,1.1159103925968208,-1.3623917634657412,0.6708499442787056,2.7667695870284845,0.7208184734528509,-0.5012612586998206,-1.1208824336937548,0.08310983627321097,1.4675574284440516,1.2532790994123408,0.007306638487820633,-0.8858137066431648,0.6242810094285595,-1.204652301395593,-1.1592080495946446,-0.8345983358790608,-0.7876304667169377,0.2226800879806531,0.4415686839563639,-0.269932602749613,-1.203764434204222,0.2411069726838896,-0.09951908368939481,-1.2286268384318006,0.9640396290879625,2.533865804668992,0.6363573751229564,0.6472031726814976,0.3660259455013826,0.9127612805233639,0.17883708005765753,-0.7077382719243921,-0.30885550649166293,1.327815639824272,-1.0254221405341721,-0.9383686643953827,-0.09071737066338419,0.6334847841474687,0.3071825571559436,-0.4857262165088668,-0.016132326632023995,0.5396152536884207,1.2850769796729489,-0.09184295300134171,0.6230902035502993,-0.28510111886218,0.963559438496964,1.7301036427052279,-0.23999086747889203,-0.6634015983510081,0.3389483473977393,1.3015088526277432,0.2801083119723154,-1.0717367219346814,0.6430291779034134,1.0587542570407236,-1.8666690899056997,0.19629610393134483],\"xaxis\":\"x5\",\"y\":[-0.8078877810272339,-0.6448885204384242,-0.7455902419946399,-1.3050276821950197,0.5003808807272312,-0.2544095597272951,-1.3513709895354138,-2.5602738161529337,1.8961054211952009,1.7143645670390613,0.38789704551642606,-0.43216641964758024,-0.121487555297366,0.4886943348247054,-0.531024084846558,1.019974525402949,-1.1265502671384462,-0.11944479093297246,0.07992209285850868,0.35694133719785076,1.5133316673425885,0.9526731400979774,2.1783088334956022,-0.5359561007282527,0.3879712182730429,-0.5599572053329858,0.7535131619955537,0.1737238244194225,-0.1398249931343527,-0.7847908485735925,-0.7389327805747367,0.24358444714280714,1.5261767506458273,0.06163695959046099,-0.4101352328979562,-0.09324634096394105,0.6528869126446963,0.01814734085788372,-1.3547064835577245,-0.6151383657756476,-0.028002153962266033,-1.0794710885393703,0.10420625617257966,0.0016299303751393895,0.20635200140925392,-2.233926947939479,-1.0973127325260994,-0.4408212095555347,1.22408852383261,0.13518041692760324,-0.6380915291645423,-1.0077051393357612,-0.2287842060650193,-1.4542627061984326,-0.8098208866087253,-0.023631771936152825,0.25512205354700956,-0.4367753483304965,-1.1077991003347287,1.5311400432991595,-1.2024989249956632,0.12192266114566915,0.35121591416736425,0.528914304859543,-0.04869540341544756,0.9691544110353982,-0.5742621312272939,-0.38144095937602707,2.0948824404994784,-0.2633073152560307,0.4376908561486388,-1.262068966059568,1.2029595169014162,0.6812982907014478,0.14481035473742293,-0.9025277487190613,-0.033162850514684906,-0.7212577482125213,-1.2129688234713587,0.10702847749976899,-0.5944521348825197,-0.22021650672250928,-0.08777301917765741,0.49809817622022645,-0.38138542032541234,2.2291460401740446,0.22260641858867825,-0.6572688729049547,0.21066253910388472,-1.9777342722498183,0.3060242902498709,-0.6017968715314095,1.7495494270187508,0.41260960952983505,-0.6762840831291067,1.0885603890399016,1.3670041388951435,0.4449508775116109,0.4117141563361959,-0.6129289668954218],\"yaxis\":\"y5\",\"type\":\"scatter\"},{\"histfunc\":\"count\",\"histnorm\":\"\",\"marker\":{\"color\":\"rgba(55, 128, 191, 1.0)\",\"line\":{\"color\":\"#4D5663\",\"width\":1.3}},\"name\":\"B\",\"nbinsx\":10,\"opacity\":0.8,\"orientation\":\"v\",\"x\":[-0.8078877810272339,-0.6448885204384242,-0.7455902419946399,-1.3050276821950197,0.5003808807272312,-0.2544095597272951,-1.3513709895354138,-2.5602738161529337,1.8961054211952009,1.7143645670390613,0.38789704551642606,-0.43216641964758024,-0.121487555297366,0.4886943348247054,-0.531024084846558,1.019974525402949,-1.1265502671384462,-0.11944479093297246,0.07992209285850868,0.35694133719785076,1.5133316673425885,0.9526731400979774,2.1783088334956022,-0.5359561007282527,0.3879712182730429,-0.5599572053329858,0.7535131619955537,0.1737238244194225,-0.1398249931343527,-0.7847908485735925,-0.7389327805747367,0.24358444714280714,1.5261767506458273,0.06163695959046099,-0.4101352328979562,-0.09324634096394105,0.6528869126446963,0.01814734085788372,-1.3547064835577245,-0.6151383657756476,-0.028002153962266033,-1.0794710885393703,0.10420625617257966,0.0016299303751393895,0.20635200140925392,-2.233926947939479,-1.0973127325260994,-0.4408212095555347,1.22408852383261,0.13518041692760324,-0.6380915291645423,-1.0077051393357612,-0.2287842060650193,-1.4542627061984326,-0.8098208866087253,-0.023631771936152825,0.25512205354700956,-0.4367753483304965,-1.1077991003347287,1.5311400432991595,-1.2024989249956632,0.12192266114566915,0.35121591416736425,0.528914304859543,-0.04869540341544756,0.9691544110353982,-0.5742621312272939,-0.38144095937602707,2.0948824404994784,-0.2633073152560307,0.4376908561486388,-1.262068966059568,1.2029595169014162,0.6812982907014478,0.14481035473742293,-0.9025277487190613,-0.033162850514684906,-0.7212577482125213,-1.2129688234713587,0.10702847749976899,-0.5944521348825197,-0.22021650672250928,-0.08777301917765741,0.49809817622022645,-0.38138542032541234,2.2291460401740446,0.22260641858867825,-0.6572688729049547,0.21066253910388472,-1.9777342722498183,0.3060242902498709,-0.6017968715314095,1.7495494270187508,0.41260960952983505,-0.6762840831291067,1.0885603890399016,1.3670041388951435,0.4449508775116109,0.4117141563361959,-0.6129289668954218],\"xaxis\":\"x6\",\"yaxis\":\"y6\",\"type\":\"histogram\"},{\"line\":{\"color\":\"rgba(128, 128, 128, 1.0)\",\"dash\":\"solid\",\"shape\":\"linear\",\"width\":1.3},\"marker\":{\"size\":2,\"symbol\":\"circle\"},\"mode\":\"markers\",\"name\":\"B\",\"text\":\"\",\"x\":[-0.28087858577267105,-0.004940607057401839,-0.18230220142911813,0.2600963731552484,-2.188017212805162,-1.0898037238817064,0.8029079536160184,0.39290560201141383,-0.7824771205914149,0.09623173110212756,0.9068065372365814,-0.3989989888769911,-0.0641446346766752,-0.5345419155492223,0.32796331193357764,-0.5767538701014241,-0.10512746808304435,0.9172381947599746,-0.4472695304778123,0.7102683856385797,1.6939178797464913,2.3266870929170236,-0.20697932602210786,0.983827831881114,-2.0426268092837243,-0.4349401334944814,1.6547889256895636,-0.31154737802476706,-1.0900054140495148,-0.5300848153772204,0.02164567537324387,0.6273332422749028,-1.9773216115130865,0.6687587249854554,-0.06504102004656755,-0.34618824562897654,-0.3199115087635271,-0.4987996519933438,0.23575723882577956,0.7597754367105237,0.349048519111151,1.2015268322994783,1.2159218440959862,-0.42192591804738677,-0.8944245463342192,-0.435919363532489,1.397820879769164,-1.560418050372487,-1.1788409473597223,-0.4986100474691056,-0.6466678757707934,0.5776410340113322,-1.6148839333548723,0.6886420824906866,-0.3328314224856059,0.5363702326516426,0.6036522566095408,-1.7863633611315732,-0.3784178651278131,-0.27019072144003586,0.41899925622522255,-0.44459848135470603,0.9276848536350926,-0.05560740096298692,0.9330717802136188,0.19933373068207802,0.06307907081003797,-1.0126845508220041,-0.36590596742424647,-1.1658403037968499,-1.145026708386471,-1.4374897359308019,0.31196568286651527,-1.4022129995090378,0.43145008296749926,0.15936536072957974,0.1571961245450657,-1.3657685562718185,1.4992195393508299,0.13302405909411777,0.6900814716829894,0.4142888696248817,-0.28001864824131567,-1.2999007434589738,-0.43031486383923556,-0.9694286604561002,0.42547381984692245,0.7778766895492566,1.0116733908927231,-1.1313424765515263,-0.5505972224035046,-1.8466325055319044,-0.90990122673788,-0.5374142307935139,-0.13444784767642923,0.9257971446921365,-0.9524785152276847,0.8823242234454758,-1.1309090674165982,-1.2869116132712173],\"xaxis\":\"x7\",\"y\":[-0.8078877810272339,-0.6448885204384242,-0.7455902419946399,-1.3050276821950197,0.5003808807272312,-0.2544095597272951,-1.3513709895354138,-2.5602738161529337,1.8961054211952009,1.7143645670390613,0.38789704551642606,-0.43216641964758024,-0.121487555297366,0.4886943348247054,-0.531024084846558,1.019974525402949,-1.1265502671384462,-0.11944479093297246,0.07992209285850868,0.35694133719785076,1.5133316673425885,0.9526731400979774,2.1783088334956022,-0.5359561007282527,0.3879712182730429,-0.5599572053329858,0.7535131619955537,0.1737238244194225,-0.1398249931343527,-0.7847908485735925,-0.7389327805747367,0.24358444714280714,1.5261767506458273,0.06163695959046099,-0.4101352328979562,-0.09324634096394105,0.6528869126446963,0.01814734085788372,-1.3547064835577245,-0.6151383657756476,-0.028002153962266033,-1.0794710885393703,0.10420625617257966,0.0016299303751393895,0.20635200140925392,-2.233926947939479,-1.0973127325260994,-0.4408212095555347,1.22408852383261,0.13518041692760324,-0.6380915291645423,-1.0077051393357612,-0.2287842060650193,-1.4542627061984326,-0.8098208866087253,-0.023631771936152825,0.25512205354700956,-0.4367753483304965,-1.1077991003347287,1.5311400432991595,-1.2024989249956632,0.12192266114566915,0.35121591416736425,0.528914304859543,-0.04869540341544756,0.9691544110353982,-0.5742621312272939,-0.38144095937602707,2.0948824404994784,-0.2633073152560307,0.4376908561486388,-1.262068966059568,1.2029595169014162,0.6812982907014478,0.14481035473742293,-0.9025277487190613,-0.033162850514684906,-0.7212577482125213,-1.2129688234713587,0.10702847749976899,-0.5944521348825197,-0.22021650672250928,-0.08777301917765741,0.49809817622022645,-0.38138542032541234,2.2291460401740446,0.22260641858867825,-0.6572688729049547,0.21066253910388472,-1.9777342722498183,0.3060242902498709,-0.6017968715314095,1.7495494270187508,0.41260960952983505,-0.6762840831291067,1.0885603890399016,1.3670041388951435,0.4449508775116109,0.4117141563361959,-0.6129289668954218],\"yaxis\":\"y7\",\"type\":\"scatter\"},{\"line\":{\"color\":\"rgba(128, 128, 128, 1.0)\",\"dash\":\"solid\",\"shape\":\"linear\",\"width\":1.3},\"marker\":{\"size\":2,\"symbol\":\"circle\"},\"mode\":\"markers\",\"name\":\"B\",\"text\":\"\",\"x\":[0.3288885223174926,-0.05362057683546842,0.6944864221692295,0.02252577433779823,0.13647546453678722,-0.10806801637002397,-0.30864646770180626,0.33901164794495464,0.060188705738250456,0.19380195170155903,-0.522348080237052,0.6193212852322433,0.04404147779042312,-0.5786956835065248,-0.9326312727624145,-1.1077031636459158,0.8222129392917609,-0.7151429012834042,-0.4076584263131162,0.380535345843578,1.9331246815616225,0.8854566533885581,0.9250097363967863,-1.2250734639959535,-2.22671463804753,-1.5742891094053724,0.978683053819982,-1.136319691015506,-1.1137441313670016,0.436318837908886,0.541594724232907,0.9779228111714007,0.606322701056323,-0.89018875312323,-1.2540749488696816,0.0036231336181717475,-0.5862125200271961,-0.5496272785954898,-1.3808661187077242,-0.41911265700373646,-0.9893833037429732,-0.02227739253879558,-1.2109051787349658,0.2187550645508682,0.29539605379224376,-0.3264467139879857,0.6011974292790989,-0.05228156116144349,0.7624832361556565,-0.6702572568013639,-0.6785139300205213,0.3011819215746909,-0.020108136336801797,-0.4087092290165143,0.00698854161160987,1.20481109831026,-2.4818274281753863,0.319098393424909,-0.9898309304204703,0.2952005681553578,0.9619370070172015,-0.40093747682141156,-0.11952508572061894,1.1081954282248092,-0.1806524932116476,0.06261944968811173,0.03225926799516013,0.41594280093698044,-0.9657416824739882,-0.04405418685657381,0.05281557500120534,-1.5455467298149086,-1.3537818294467925,0.8392875684656593,0.7571304481994662,1.0988601549471448,-0.7876598489602764,2.0604966990745828,0.5946780208209356,-0.23702779487902637,0.9058986089027272,-1.0756265998225543,-0.05533987071067795,-1.0565996076695996,1.0413939228265987,-1.2620095908721358,1.1426775965278135,0.25579441301365924,-0.4319807601407964,-0.7550353606457672,-0.05815106441335786,0.6190864775229382,0.9399911697520962,-1.4366566678480763,-0.43104599207293115,-1.073006647715606,-1.0116719874581341,-0.0044088648192909495,-0.2723208922297199,-1.4184543082935284],\"xaxis\":\"x8\",\"y\":[-0.8078877810272339,-0.6448885204384242,-0.7455902419946399,-1.3050276821950197,0.5003808807272312,-0.2544095597272951,-1.3513709895354138,-2.5602738161529337,1.8961054211952009,1.7143645670390613,0.38789704551642606,-0.43216641964758024,-0.121487555297366,0.4886943348247054,-0.531024084846558,1.019974525402949,-1.1265502671384462,-0.11944479093297246,0.07992209285850868,0.35694133719785076,1.5133316673425885,0.9526731400979774,2.1783088334956022,-0.5359561007282527,0.3879712182730429,-0.5599572053329858,0.7535131619955537,0.1737238244194225,-0.1398249931343527,-0.7847908485735925,-0.7389327805747367,0.24358444714280714,1.5261767506458273,0.06163695959046099,-0.4101352328979562,-0.09324634096394105,0.6528869126446963,0.01814734085788372,-1.3547064835577245,-0.6151383657756476,-0.028002153962266033,-1.0794710885393703,0.10420625617257966,0.0016299303751393895,0.20635200140925392,-2.233926947939479,-1.0973127325260994,-0.4408212095555347,1.22408852383261,0.13518041692760324,-0.6380915291645423,-1.0077051393357612,-0.2287842060650193,-1.4542627061984326,-0.8098208866087253,-0.023631771936152825,0.25512205354700956,-0.4367753483304965,-1.1077991003347287,1.5311400432991595,-1.2024989249956632,0.12192266114566915,0.35121591416736425,0.528914304859543,-0.04869540341544756,0.9691544110353982,-0.5742621312272939,-0.38144095937602707,2.0948824404994784,-0.2633073152560307,0.4376908561486388,-1.262068966059568,1.2029595169014162,0.6812982907014478,0.14481035473742293,-0.9025277487190613,-0.033162850514684906,-0.7212577482125213,-1.2129688234713587,0.10702847749976899,-0.5944521348825197,-0.22021650672250928,-0.08777301917765741,0.49809817622022645,-0.38138542032541234,2.2291460401740446,0.22260641858867825,-0.6572688729049547,0.21066253910388472,-1.9777342722498183,0.3060242902498709,-0.6017968715314095,1.7495494270187508,0.41260960952983505,-0.6762840831291067,1.0885603890399016,1.3670041388951435,0.4449508775116109,0.4117141563361959,-0.6129289668954218],\"yaxis\":\"y8\",\"type\":\"scatter\"},{\"line\":{\"color\":\"rgba(128, 128, 128, 1.0)\",\"dash\":\"solid\",\"shape\":\"linear\",\"width\":1.3},\"marker\":{\"size\":2,\"symbol\":\"circle\"},\"mode\":\"markers\",\"name\":\"C\",\"text\":\"\",\"x\":[-0.19028147001615417,0.3282365234795369,1.1399229516160017,-1.5285412750999146,-0.24886967751150038,0.2516245509136745,1.0322355236009921,0.11599439899823132,-0.08552299190870857,-0.392599667290996,1.0483873911059238,-1.3672086527525584,-1.2953691663834808,-0.37398870480107765,0.16094578705735657,0.698636684971462,1.5186664839892636,-0.3023573194571271,0.16832675647100329,0.19054539363793585,-0.05607139243232748,2.49434793378773,-0.530066327400534,0.8770350482674139,0.813057708391379,0.29820305701467675,0.4091606649710951,-0.07901188676813516,-0.32164633372494433,0.9816522229170433,0.6776451608653729,-0.8353341427637865,1.4655636349628942,2.00973210510375,0.34269433539070104,0.6002392765015414,0.7117390891406551,1.0592117801719485,0.7228041981165503,-0.8736465721312067,0.5676459790026085,0.3946690709293932,1.1159103925968208,-1.3623917634657412,0.6708499442787056,2.7667695870284845,0.7208184734528509,-0.5012612586998206,-1.1208824336937548,0.08310983627321097,1.4675574284440516,1.2532790994123408,0.007306638487820633,-0.8858137066431648,0.6242810094285595,-1.204652301395593,-1.1592080495946446,-0.8345983358790608,-0.7876304667169377,0.2226800879806531,0.4415686839563639,-0.269932602749613,-1.203764434204222,0.2411069726838896,-0.09951908368939481,-1.2286268384318006,0.9640396290879625,2.533865804668992,0.6363573751229564,0.6472031726814976,0.3660259455013826,0.9127612805233639,0.17883708005765753,-0.7077382719243921,-0.30885550649166293,1.327815639824272,-1.0254221405341721,-0.9383686643953827,-0.09071737066338419,0.6334847841474687,0.3071825571559436,-0.4857262165088668,-0.016132326632023995,0.5396152536884207,1.2850769796729489,-0.09184295300134171,0.6230902035502993,-0.28510111886218,0.963559438496964,1.7301036427052279,-0.23999086747889203,-0.6634015983510081,0.3389483473977393,1.3015088526277432,0.2801083119723154,-1.0717367219346814,0.6430291779034134,1.0587542570407236,-1.8666690899056997,0.19629610393134483],\"xaxis\":\"x9\",\"y\":[-0.28087858577267105,-0.004940607057401839,-0.18230220142911813,0.2600963731552484,-2.188017212805162,-1.0898037238817064,0.8029079536160184,0.39290560201141383,-0.7824771205914149,0.09623173110212756,0.9068065372365814,-0.3989989888769911,-0.0641446346766752,-0.5345419155492223,0.32796331193357764,-0.5767538701014241,-0.10512746808304435,0.9172381947599746,-0.4472695304778123,0.7102683856385797,1.6939178797464913,2.3266870929170236,-0.20697932602210786,0.983827831881114,-2.0426268092837243,-0.4349401334944814,1.6547889256895636,-0.31154737802476706,-1.0900054140495148,-0.5300848153772204,0.02164567537324387,0.6273332422749028,-1.9773216115130865,0.6687587249854554,-0.06504102004656755,-0.34618824562897654,-0.3199115087635271,-0.4987996519933438,0.23575723882577956,0.7597754367105237,0.349048519111151,1.2015268322994783,1.2159218440959862,-0.42192591804738677,-0.8944245463342192,-0.435919363532489,1.397820879769164,-1.560418050372487,-1.1788409473597223,-0.4986100474691056,-0.6466678757707934,0.5776410340113322,-1.6148839333548723,0.6886420824906866,-0.3328314224856059,0.5363702326516426,0.6036522566095408,-1.7863633611315732,-0.3784178651278131,-0.27019072144003586,0.41899925622522255,-0.44459848135470603,0.9276848536350926,-0.05560740096298692,0.9330717802136188,0.19933373068207802,0.06307907081003797,-1.0126845508220041,-0.36590596742424647,-1.1658403037968499,-1.145026708386471,-1.4374897359308019,0.31196568286651527,-1.4022129995090378,0.43145008296749926,0.15936536072957974,0.1571961245450657,-1.3657685562718185,1.4992195393508299,0.13302405909411777,0.6900814716829894,0.4142888696248817,-0.28001864824131567,-1.2999007434589738,-0.43031486383923556,-0.9694286604561002,0.42547381984692245,0.7778766895492566,1.0116733908927231,-1.1313424765515263,-0.5505972224035046,-1.8466325055319044,-0.90990122673788,-0.5374142307935139,-0.13444784767642923,0.9257971446921365,-0.9524785152276847,0.8823242234454758,-1.1309090674165982,-1.2869116132712173],\"yaxis\":\"y9\",\"type\":\"scatter\"},{\"line\":{\"color\":\"rgba(128, 128, 128, 1.0)\",\"dash\":\"solid\",\"shape\":\"linear\",\"width\":1.3},\"marker\":{\"size\":2,\"symbol\":\"circle\"},\"mode\":\"markers\",\"name\":\"C\",\"text\":\"\",\"x\":[-0.8078877810272339,-0.6448885204384242,-0.7455902419946399,-1.3050276821950197,0.5003808807272312,-0.2544095597272951,-1.3513709895354138,-2.5602738161529337,1.8961054211952009,1.7143645670390613,0.38789704551642606,-0.43216641964758024,-0.121487555297366,0.4886943348247054,-0.531024084846558,1.019974525402949,-1.1265502671384462,-0.11944479093297246,0.07992209285850868,0.35694133719785076,1.5133316673425885,0.9526731400979774,2.1783088334956022,-0.5359561007282527,0.3879712182730429,-0.5599572053329858,0.7535131619955537,0.1737238244194225,-0.1398249931343527,-0.7847908485735925,-0.7389327805747367,0.24358444714280714,1.5261767506458273,0.06163695959046099,-0.4101352328979562,-0.09324634096394105,0.6528869126446963,0.01814734085788372,-1.3547064835577245,-0.6151383657756476,-0.028002153962266033,-1.0794710885393703,0.10420625617257966,0.0016299303751393895,0.20635200140925392,-2.233926947939479,-1.0973127325260994,-0.4408212095555347,1.22408852383261,0.13518041692760324,-0.6380915291645423,-1.0077051393357612,-0.2287842060650193,-1.4542627061984326,-0.8098208866087253,-0.023631771936152825,0.25512205354700956,-0.4367753483304965,-1.1077991003347287,1.5311400432991595,-1.2024989249956632,0.12192266114566915,0.35121591416736425,0.528914304859543,-0.04869540341544756,0.9691544110353982,-0.5742621312272939,-0.38144095937602707,2.0948824404994784,-0.2633073152560307,0.4376908561486388,-1.262068966059568,1.2029595169014162,0.6812982907014478,0.14481035473742293,-0.9025277487190613,-0.033162850514684906,-0.7212577482125213,-1.2129688234713587,0.10702847749976899,-0.5944521348825197,-0.22021650672250928,-0.08777301917765741,0.49809817622022645,-0.38138542032541234,2.2291460401740446,0.22260641858867825,-0.6572688729049547,0.21066253910388472,-1.9777342722498183,0.3060242902498709,-0.6017968715314095,1.7495494270187508,0.41260960952983505,-0.6762840831291067,1.0885603890399016,1.3670041388951435,0.4449508775116109,0.4117141563361959,-0.6129289668954218],\"xaxis\":\"x10\",\"y\":[-0.28087858577267105,-0.004940607057401839,-0.18230220142911813,0.2600963731552484,-2.188017212805162,-1.0898037238817064,0.8029079536160184,0.39290560201141383,-0.7824771205914149,0.09623173110212756,0.9068065372365814,-0.3989989888769911,-0.0641446346766752,-0.5345419155492223,0.32796331193357764,-0.5767538701014241,-0.10512746808304435,0.9172381947599746,-0.4472695304778123,0.7102683856385797,1.6939178797464913,2.3266870929170236,-0.20697932602210786,0.983827831881114,-2.0426268092837243,-0.4349401334944814,1.6547889256895636,-0.31154737802476706,-1.0900054140495148,-0.5300848153772204,0.02164567537324387,0.6273332422749028,-1.9773216115130865,0.6687587249854554,-0.06504102004656755,-0.34618824562897654,-0.3199115087635271,-0.4987996519933438,0.23575723882577956,0.7597754367105237,0.349048519111151,1.2015268322994783,1.2159218440959862,-0.42192591804738677,-0.8944245463342192,-0.435919363532489,1.397820879769164,-1.560418050372487,-1.1788409473597223,-0.4986100474691056,-0.6466678757707934,0.5776410340113322,-1.6148839333548723,0.6886420824906866,-0.3328314224856059,0.5363702326516426,0.6036522566095408,-1.7863633611315732,-0.3784178651278131,-0.27019072144003586,0.41899925622522255,-0.44459848135470603,0.9276848536350926,-0.05560740096298692,0.9330717802136188,0.19933373068207802,0.06307907081003797,-1.0126845508220041,-0.36590596742424647,-1.1658403037968499,-1.145026708386471,-1.4374897359308019,0.31196568286651527,-1.4022129995090378,0.43145008296749926,0.15936536072957974,0.1571961245450657,-1.3657685562718185,1.4992195393508299,0.13302405909411777,0.6900814716829894,0.4142888696248817,-0.28001864824131567,-1.2999007434589738,-0.43031486383923556,-0.9694286604561002,0.42547381984692245,0.7778766895492566,1.0116733908927231,-1.1313424765515263,-0.5505972224035046,-1.8466325055319044,-0.90990122673788,-0.5374142307935139,-0.13444784767642923,0.9257971446921365,-0.9524785152276847,0.8823242234454758,-1.1309090674165982,-1.2869116132712173],\"yaxis\":\"y10\",\"type\":\"scatter\"},{\"histfunc\":\"count\",\"histnorm\":\"\",\"marker\":{\"color\":\"rgba(50, 171, 96, 1.0)\",\"line\":{\"color\":\"#4D5663\",\"width\":1.3}},\"name\":\"C\",\"nbinsx\":10,\"opacity\":0.8,\"orientation\":\"v\",\"x\":[-0.28087858577267105,-0.004940607057401839,-0.18230220142911813,0.2600963731552484,-2.188017212805162,-1.0898037238817064,0.8029079536160184,0.39290560201141383,-0.7824771205914149,0.09623173110212756,0.9068065372365814,-0.3989989888769911,-0.0641446346766752,-0.5345419155492223,0.32796331193357764,-0.5767538701014241,-0.10512746808304435,0.9172381947599746,-0.4472695304778123,0.7102683856385797,1.6939178797464913,2.3266870929170236,-0.20697932602210786,0.983827831881114,-2.0426268092837243,-0.4349401334944814,1.6547889256895636,-0.31154737802476706,-1.0900054140495148,-0.5300848153772204,0.02164567537324387,0.6273332422749028,-1.9773216115130865,0.6687587249854554,-0.06504102004656755,-0.34618824562897654,-0.3199115087635271,-0.4987996519933438,0.23575723882577956,0.7597754367105237,0.349048519111151,1.2015268322994783,1.2159218440959862,-0.42192591804738677,-0.8944245463342192,-0.435919363532489,1.397820879769164,-1.560418050372487,-1.1788409473597223,-0.4986100474691056,-0.6466678757707934,0.5776410340113322,-1.6148839333548723,0.6886420824906866,-0.3328314224856059,0.5363702326516426,0.6036522566095408,-1.7863633611315732,-0.3784178651278131,-0.27019072144003586,0.41899925622522255,-0.44459848135470603,0.9276848536350926,-0.05560740096298692,0.9330717802136188,0.19933373068207802,0.06307907081003797,-1.0126845508220041,-0.36590596742424647,-1.1658403037968499,-1.145026708386471,-1.4374897359308019,0.31196568286651527,-1.4022129995090378,0.43145008296749926,0.15936536072957974,0.1571961245450657,-1.3657685562718185,1.4992195393508299,0.13302405909411777,0.6900814716829894,0.4142888696248817,-0.28001864824131567,-1.2999007434589738,-0.43031486383923556,-0.9694286604561002,0.42547381984692245,0.7778766895492566,1.0116733908927231,-1.1313424765515263,-0.5505972224035046,-1.8466325055319044,-0.90990122673788,-0.5374142307935139,-0.13444784767642923,0.9257971446921365,-0.9524785152276847,0.8823242234454758,-1.1309090674165982,-1.2869116132712173],\"xaxis\":\"x11\",\"yaxis\":\"y11\",\"type\":\"histogram\"},{\"line\":{\"color\":\"rgba(128, 128, 128, 1.0)\",\"dash\":\"solid\",\"shape\":\"linear\",\"width\":1.3},\"marker\":{\"size\":2,\"symbol\":\"circle\"},\"mode\":\"markers\",\"name\":\"C\",\"text\":\"\",\"x\":[0.3288885223174926,-0.05362057683546842,0.6944864221692295,0.02252577433779823,0.13647546453678722,-0.10806801637002397,-0.30864646770180626,0.33901164794495464,0.060188705738250456,0.19380195170155903,-0.522348080237052,0.6193212852322433,0.04404147779042312,-0.5786956835065248,-0.9326312727624145,-1.1077031636459158,0.8222129392917609,-0.7151429012834042,-0.4076584263131162,0.380535345843578,1.9331246815616225,0.8854566533885581,0.9250097363967863,-1.2250734639959535,-2.22671463804753,-1.5742891094053724,0.978683053819982,-1.136319691015506,-1.1137441313670016,0.436318837908886,0.541594724232907,0.9779228111714007,0.606322701056323,-0.89018875312323,-1.2540749488696816,0.0036231336181717475,-0.5862125200271961,-0.5496272785954898,-1.3808661187077242,-0.41911265700373646,-0.9893833037429732,-0.02227739253879558,-1.2109051787349658,0.2187550645508682,0.29539605379224376,-0.3264467139879857,0.6011974292790989,-0.05228156116144349,0.7624832361556565,-0.6702572568013639,-0.6785139300205213,0.3011819215746909,-0.020108136336801797,-0.4087092290165143,0.00698854161160987,1.20481109831026,-2.4818274281753863,0.319098393424909,-0.9898309304204703,0.2952005681553578,0.9619370070172015,-0.40093747682141156,-0.11952508572061894,1.1081954282248092,-0.1806524932116476,0.06261944968811173,0.03225926799516013,0.41594280093698044,-0.9657416824739882,-0.04405418685657381,0.05281557500120534,-1.5455467298149086,-1.3537818294467925,0.8392875684656593,0.7571304481994662,1.0988601549471448,-0.7876598489602764,2.0604966990745828,0.5946780208209356,-0.23702779487902637,0.9058986089027272,-1.0756265998225543,-0.05533987071067795,-1.0565996076695996,1.0413939228265987,-1.2620095908721358,1.1426775965278135,0.25579441301365924,-0.4319807601407964,-0.7550353606457672,-0.05815106441335786,0.6190864775229382,0.9399911697520962,-1.4366566678480763,-0.43104599207293115,-1.073006647715606,-1.0116719874581341,-0.0044088648192909495,-0.2723208922297199,-1.4184543082935284],\"xaxis\":\"x12\",\"y\":[-0.28087858577267105,-0.004940607057401839,-0.18230220142911813,0.2600963731552484,-2.188017212805162,-1.0898037238817064,0.8029079536160184,0.39290560201141383,-0.7824771205914149,0.09623173110212756,0.9068065372365814,-0.3989989888769911,-0.0641446346766752,-0.5345419155492223,0.32796331193357764,-0.5767538701014241,-0.10512746808304435,0.9172381947599746,-0.4472695304778123,0.7102683856385797,1.6939178797464913,2.3266870929170236,-0.20697932602210786,0.983827831881114,-2.0426268092837243,-0.4349401334944814,1.6547889256895636,-0.31154737802476706,-1.0900054140495148,-0.5300848153772204,0.02164567537324387,0.6273332422749028,-1.9773216115130865,0.6687587249854554,-0.06504102004656755,-0.34618824562897654,-0.3199115087635271,-0.4987996519933438,0.23575723882577956,0.7597754367105237,0.349048519111151,1.2015268322994783,1.2159218440959862,-0.42192591804738677,-0.8944245463342192,-0.435919363532489,1.397820879769164,-1.560418050372487,-1.1788409473597223,-0.4986100474691056,-0.6466678757707934,0.5776410340113322,-1.6148839333548723,0.6886420824906866,-0.3328314224856059,0.5363702326516426,0.6036522566095408,-1.7863633611315732,-0.3784178651278131,-0.27019072144003586,0.41899925622522255,-0.44459848135470603,0.9276848536350926,-0.05560740096298692,0.9330717802136188,0.19933373068207802,0.06307907081003797,-1.0126845508220041,-0.36590596742424647,-1.1658403037968499,-1.145026708386471,-1.4374897359308019,0.31196568286651527,-1.4022129995090378,0.43145008296749926,0.15936536072957974,0.1571961245450657,-1.3657685562718185,1.4992195393508299,0.13302405909411777,0.6900814716829894,0.4142888696248817,-0.28001864824131567,-1.2999007434589738,-0.43031486383923556,-0.9694286604561002,0.42547381984692245,0.7778766895492566,1.0116733908927231,-1.1313424765515263,-0.5505972224035046,-1.8466325055319044,-0.90990122673788,-0.5374142307935139,-0.13444784767642923,0.9257971446921365,-0.9524785152276847,0.8823242234454758,-1.1309090674165982,-1.2869116132712173],\"yaxis\":\"y12\",\"type\":\"scatter\"},{\"line\":{\"color\":\"rgba(128, 128, 128, 1.0)\",\"dash\":\"solid\",\"shape\":\"linear\",\"width\":1.3},\"marker\":{\"size\":2,\"symbol\":\"circle\"},\"mode\":\"markers\",\"name\":\"D\",\"text\":\"\",\"x\":[-0.19028147001615417,0.3282365234795369,1.1399229516160017,-1.5285412750999146,-0.24886967751150038,0.2516245509136745,1.0322355236009921,0.11599439899823132,-0.08552299190870857,-0.392599667290996,1.0483873911059238,-1.3672086527525584,-1.2953691663834808,-0.37398870480107765,0.16094578705735657,0.698636684971462,1.5186664839892636,-0.3023573194571271,0.16832675647100329,0.19054539363793585,-0.05607139243232748,2.49434793378773,-0.530066327400534,0.8770350482674139,0.813057708391379,0.29820305701467675,0.4091606649710951,-0.07901188676813516,-0.32164633372494433,0.9816522229170433,0.6776451608653729,-0.8353341427637865,1.4655636349628942,2.00973210510375,0.34269433539070104,0.6002392765015414,0.7117390891406551,1.0592117801719485,0.7228041981165503,-0.8736465721312067,0.5676459790026085,0.3946690709293932,1.1159103925968208,-1.3623917634657412,0.6708499442787056,2.7667695870284845,0.7208184734528509,-0.5012612586998206,-1.1208824336937548,0.08310983627321097,1.4675574284440516,1.2532790994123408,0.007306638487820633,-0.8858137066431648,0.6242810094285595,-1.204652301395593,-1.1592080495946446,-0.8345983358790608,-0.7876304667169377,0.2226800879806531,0.4415686839563639,-0.269932602749613,-1.203764434204222,0.2411069726838896,-0.09951908368939481,-1.2286268384318006,0.9640396290879625,2.533865804668992,0.6363573751229564,0.6472031726814976,0.3660259455013826,0.9127612805233639,0.17883708005765753,-0.7077382719243921,-0.30885550649166293,1.327815639824272,-1.0254221405341721,-0.9383686643953827,-0.09071737066338419,0.6334847841474687,0.3071825571559436,-0.4857262165088668,-0.016132326632023995,0.5396152536884207,1.2850769796729489,-0.09184295300134171,0.6230902035502993,-0.28510111886218,0.963559438496964,1.7301036427052279,-0.23999086747889203,-0.6634015983510081,0.3389483473977393,1.3015088526277432,0.2801083119723154,-1.0717367219346814,0.6430291779034134,1.0587542570407236,-1.8666690899056997,0.19629610393134483],\"xaxis\":\"x13\",\"y\":[0.3288885223174926,-0.05362057683546842,0.6944864221692295,0.02252577433779823,0.13647546453678722,-0.10806801637002397,-0.30864646770180626,0.33901164794495464,0.060188705738250456,0.19380195170155903,-0.522348080237052,0.6193212852322433,0.04404147779042312,-0.5786956835065248,-0.9326312727624145,-1.1077031636459158,0.8222129392917609,-0.7151429012834042,-0.4076584263131162,0.380535345843578,1.9331246815616225,0.8854566533885581,0.9250097363967863,-1.2250734639959535,-2.22671463804753,-1.5742891094053724,0.978683053819982,-1.136319691015506,-1.1137441313670016,0.436318837908886,0.541594724232907,0.9779228111714007,0.606322701056323,-0.89018875312323,-1.2540749488696816,0.0036231336181717475,-0.5862125200271961,-0.5496272785954898,-1.3808661187077242,-0.41911265700373646,-0.9893833037429732,-0.02227739253879558,-1.2109051787349658,0.2187550645508682,0.29539605379224376,-0.3264467139879857,0.6011974292790989,-0.05228156116144349,0.7624832361556565,-0.6702572568013639,-0.6785139300205213,0.3011819215746909,-0.020108136336801797,-0.4087092290165143,0.00698854161160987,1.20481109831026,-2.4818274281753863,0.319098393424909,-0.9898309304204703,0.2952005681553578,0.9619370070172015,-0.40093747682141156,-0.11952508572061894,1.1081954282248092,-0.1806524932116476,0.06261944968811173,0.03225926799516013,0.41594280093698044,-0.9657416824739882,-0.04405418685657381,0.05281557500120534,-1.5455467298149086,-1.3537818294467925,0.8392875684656593,0.7571304481994662,1.0988601549471448,-0.7876598489602764,2.0604966990745828,0.5946780208209356,-0.23702779487902637,0.9058986089027272,-1.0756265998225543,-0.05533987071067795,-1.0565996076695996,1.0413939228265987,-1.2620095908721358,1.1426775965278135,0.25579441301365924,-0.4319807601407964,-0.7550353606457672,-0.05815106441335786,0.6190864775229382,0.9399911697520962,-1.4366566678480763,-0.43104599207293115,-1.073006647715606,-1.0116719874581341,-0.0044088648192909495,-0.2723208922297199,-1.4184543082935284],\"yaxis\":\"y13\",\"type\":\"scatter\"},{\"line\":{\"color\":\"rgba(128, 128, 128, 1.0)\",\"dash\":\"solid\",\"shape\":\"linear\",\"width\":1.3},\"marker\":{\"size\":2,\"symbol\":\"circle\"},\"mode\":\"markers\",\"name\":\"D\",\"text\":\"\",\"x\":[-0.8078877810272339,-0.6448885204384242,-0.7455902419946399,-1.3050276821950197,0.5003808807272312,-0.2544095597272951,-1.3513709895354138,-2.5602738161529337,1.8961054211952009,1.7143645670390613,0.38789704551642606,-0.43216641964758024,-0.121487555297366,0.4886943348247054,-0.531024084846558,1.019974525402949,-1.1265502671384462,-0.11944479093297246,0.07992209285850868,0.35694133719785076,1.5133316673425885,0.9526731400979774,2.1783088334956022,-0.5359561007282527,0.3879712182730429,-0.5599572053329858,0.7535131619955537,0.1737238244194225,-0.1398249931343527,-0.7847908485735925,-0.7389327805747367,0.24358444714280714,1.5261767506458273,0.06163695959046099,-0.4101352328979562,-0.09324634096394105,0.6528869126446963,0.01814734085788372,-1.3547064835577245,-0.6151383657756476,-0.028002153962266033,-1.0794710885393703,0.10420625617257966,0.0016299303751393895,0.20635200140925392,-2.233926947939479,-1.0973127325260994,-0.4408212095555347,1.22408852383261,0.13518041692760324,-0.6380915291645423,-1.0077051393357612,-0.2287842060650193,-1.4542627061984326,-0.8098208866087253,-0.023631771936152825,0.25512205354700956,-0.4367753483304965,-1.1077991003347287,1.5311400432991595,-1.2024989249956632,0.12192266114566915,0.35121591416736425,0.528914304859543,-0.04869540341544756,0.9691544110353982,-0.5742621312272939,-0.38144095937602707,2.0948824404994784,-0.2633073152560307,0.4376908561486388,-1.262068966059568,1.2029595169014162,0.6812982907014478,0.14481035473742293,-0.9025277487190613,-0.033162850514684906,-0.7212577482125213,-1.2129688234713587,0.10702847749976899,-0.5944521348825197,-0.22021650672250928,-0.08777301917765741,0.49809817622022645,-0.38138542032541234,2.2291460401740446,0.22260641858867825,-0.6572688729049547,0.21066253910388472,-1.9777342722498183,0.3060242902498709,-0.6017968715314095,1.7495494270187508,0.41260960952983505,-0.6762840831291067,1.0885603890399016,1.3670041388951435,0.4449508775116109,0.4117141563361959,-0.6129289668954218],\"xaxis\":\"x14\",\"y\":[0.3288885223174926,-0.05362057683546842,0.6944864221692295,0.02252577433779823,0.13647546453678722,-0.10806801637002397,-0.30864646770180626,0.33901164794495464,0.060188705738250456,0.19380195170155903,-0.522348080237052,0.6193212852322433,0.04404147779042312,-0.5786956835065248,-0.9326312727624145,-1.1077031636459158,0.8222129392917609,-0.7151429012834042,-0.4076584263131162,0.380535345843578,1.9331246815616225,0.8854566533885581,0.9250097363967863,-1.2250734639959535,-2.22671463804753,-1.5742891094053724,0.978683053819982,-1.136319691015506,-1.1137441313670016,0.436318837908886,0.541594724232907,0.9779228111714007,0.606322701056323,-0.89018875312323,-1.2540749488696816,0.0036231336181717475,-0.5862125200271961,-0.5496272785954898,-1.3808661187077242,-0.41911265700373646,-0.9893833037429732,-0.02227739253879558,-1.2109051787349658,0.2187550645508682,0.29539605379224376,-0.3264467139879857,0.6011974292790989,-0.05228156116144349,0.7624832361556565,-0.6702572568013639,-0.6785139300205213,0.3011819215746909,-0.020108136336801797,-0.4087092290165143,0.00698854161160987,1.20481109831026,-2.4818274281753863,0.319098393424909,-0.9898309304204703,0.2952005681553578,0.9619370070172015,-0.40093747682141156,-0.11952508572061894,1.1081954282248092,-0.1806524932116476,0.06261944968811173,0.03225926799516013,0.41594280093698044,-0.9657416824739882,-0.04405418685657381,0.05281557500120534,-1.5455467298149086,-1.3537818294467925,0.8392875684656593,0.7571304481994662,1.0988601549471448,-0.7876598489602764,2.0604966990745828,0.5946780208209356,-0.23702779487902637,0.9058986089027272,-1.0756265998225543,-0.05533987071067795,-1.0565996076695996,1.0413939228265987,-1.2620095908721358,1.1426775965278135,0.25579441301365924,-0.4319807601407964,-0.7550353606457672,-0.05815106441335786,0.6190864775229382,0.9399911697520962,-1.4366566678480763,-0.43104599207293115,-1.073006647715606,-1.0116719874581341,-0.0044088648192909495,-0.2723208922297199,-1.4184543082935284],\"yaxis\":\"y14\",\"type\":\"scatter\"},{\"line\":{\"color\":\"rgba(128, 128, 128, 1.0)\",\"dash\":\"solid\",\"shape\":\"linear\",\"width\":1.3},\"marker\":{\"size\":2,\"symbol\":\"circle\"},\"mode\":\"markers\",\"name\":\"D\",\"text\":\"\",\"x\":[-0.28087858577267105,-0.004940607057401839,-0.18230220142911813,0.2600963731552484,-2.188017212805162,-1.0898037238817064,0.8029079536160184,0.39290560201141383,-0.7824771205914149,0.09623173110212756,0.9068065372365814,-0.3989989888769911,-0.0641446346766752,-0.5345419155492223,0.32796331193357764,-0.5767538701014241,-0.10512746808304435,0.9172381947599746,-0.4472695304778123,0.7102683856385797,1.6939178797464913,2.3266870929170236,-0.20697932602210786,0.983827831881114,-2.0426268092837243,-0.4349401334944814,1.6547889256895636,-0.31154737802476706,-1.0900054140495148,-0.5300848153772204,0.02164567537324387,0.6273332422749028,-1.9773216115130865,0.6687587249854554,-0.06504102004656755,-0.34618824562897654,-0.3199115087635271,-0.4987996519933438,0.23575723882577956,0.7597754367105237,0.349048519111151,1.2015268322994783,1.2159218440959862,-0.42192591804738677,-0.8944245463342192,-0.435919363532489,1.397820879769164,-1.560418050372487,-1.1788409473597223,-0.4986100474691056,-0.6466678757707934,0.5776410340113322,-1.6148839333548723,0.6886420824906866,-0.3328314224856059,0.5363702326516426,0.6036522566095408,-1.7863633611315732,-0.3784178651278131,-0.27019072144003586,0.41899925622522255,-0.44459848135470603,0.9276848536350926,-0.05560740096298692,0.9330717802136188,0.19933373068207802,0.06307907081003797,-1.0126845508220041,-0.36590596742424647,-1.1658403037968499,-1.145026708386471,-1.4374897359308019,0.31196568286651527,-1.4022129995090378,0.43145008296749926,0.15936536072957974,0.1571961245450657,-1.3657685562718185,1.4992195393508299,0.13302405909411777,0.6900814716829894,0.4142888696248817,-0.28001864824131567,-1.2999007434589738,-0.43031486383923556,-0.9694286604561002,0.42547381984692245,0.7778766895492566,1.0116733908927231,-1.1313424765515263,-0.5505972224035046,-1.8466325055319044,-0.90990122673788,-0.5374142307935139,-0.13444784767642923,0.9257971446921365,-0.9524785152276847,0.8823242234454758,-1.1309090674165982,-1.2869116132712173],\"xaxis\":\"x15\",\"y\":[0.3288885223174926,-0.05362057683546842,0.6944864221692295,0.02252577433779823,0.13647546453678722,-0.10806801637002397,-0.30864646770180626,0.33901164794495464,0.060188705738250456,0.19380195170155903,-0.522348080237052,0.6193212852322433,0.04404147779042312,-0.5786956835065248,-0.9326312727624145,-1.1077031636459158,0.8222129392917609,-0.7151429012834042,-0.4076584263131162,0.380535345843578,1.9331246815616225,0.8854566533885581,0.9250097363967863,-1.2250734639959535,-2.22671463804753,-1.5742891094053724,0.978683053819982,-1.136319691015506,-1.1137441313670016,0.436318837908886,0.541594724232907,0.9779228111714007,0.606322701056323,-0.89018875312323,-1.2540749488696816,0.0036231336181717475,-0.5862125200271961,-0.5496272785954898,-1.3808661187077242,-0.41911265700373646,-0.9893833037429732,-0.02227739253879558,-1.2109051787349658,0.2187550645508682,0.29539605379224376,-0.3264467139879857,0.6011974292790989,-0.05228156116144349,0.7624832361556565,-0.6702572568013639,-0.6785139300205213,0.3011819215746909,-0.020108136336801797,-0.4087092290165143,0.00698854161160987,1.20481109831026,-2.4818274281753863,0.319098393424909,-0.9898309304204703,0.2952005681553578,0.9619370070172015,-0.40093747682141156,-0.11952508572061894,1.1081954282248092,-0.1806524932116476,0.06261944968811173,0.03225926799516013,0.41594280093698044,-0.9657416824739882,-0.04405418685657381,0.05281557500120534,-1.5455467298149086,-1.3537818294467925,0.8392875684656593,0.7571304481994662,1.0988601549471448,-0.7876598489602764,2.0604966990745828,0.5946780208209356,-0.23702779487902637,0.9058986089027272,-1.0756265998225543,-0.05533987071067795,-1.0565996076695996,1.0413939228265987,-1.2620095908721358,1.1426775965278135,0.25579441301365924,-0.4319807601407964,-0.7550353606457672,-0.05815106441335786,0.6190864775229382,0.9399911697520962,-1.4366566678480763,-0.43104599207293115,-1.073006647715606,-1.0116719874581341,-0.0044088648192909495,-0.2723208922297199,-1.4184543082935284],\"yaxis\":\"y15\",\"type\":\"scatter\"},{\"histfunc\":\"count\",\"histnorm\":\"\",\"marker\":{\"color\":\"rgba(128, 0, 128, 1.0)\",\"line\":{\"color\":\"#4D5663\",\"width\":1.3}},\"name\":\"D\",\"nbinsx\":10,\"opacity\":0.8,\"orientation\":\"v\",\"x\":[0.3288885223174926,-0.05362057683546842,0.6944864221692295,0.02252577433779823,0.13647546453678722,-0.10806801637002397,-0.30864646770180626,0.33901164794495464,0.060188705738250456,0.19380195170155903,-0.522348080237052,0.6193212852322433,0.04404147779042312,-0.5786956835065248,-0.9326312727624145,-1.1077031636459158,0.8222129392917609,-0.7151429012834042,-0.4076584263131162,0.380535345843578,1.9331246815616225,0.8854566533885581,0.9250097363967863,-1.2250734639959535,-2.22671463804753,-1.5742891094053724,0.978683053819982,-1.136319691015506,-1.1137441313670016,0.436318837908886,0.541594724232907,0.9779228111714007,0.606322701056323,-0.89018875312323,-1.2540749488696816,0.0036231336181717475,-0.5862125200271961,-0.5496272785954898,-1.3808661187077242,-0.41911265700373646,-0.9893833037429732,-0.02227739253879558,-1.2109051787349658,0.2187550645508682,0.29539605379224376,-0.3264467139879857,0.6011974292790989,-0.05228156116144349,0.7624832361556565,-0.6702572568013639,-0.6785139300205213,0.3011819215746909,-0.020108136336801797,-0.4087092290165143,0.00698854161160987,1.20481109831026,-2.4818274281753863,0.319098393424909,-0.9898309304204703,0.2952005681553578,0.9619370070172015,-0.40093747682141156,-0.11952508572061894,1.1081954282248092,-0.1806524932116476,0.06261944968811173,0.03225926799516013,0.41594280093698044,-0.9657416824739882,-0.04405418685657381,0.05281557500120534,-1.5455467298149086,-1.3537818294467925,0.8392875684656593,0.7571304481994662,1.0988601549471448,-0.7876598489602764,2.0604966990745828,0.5946780208209356,-0.23702779487902637,0.9058986089027272,-1.0756265998225543,-0.05533987071067795,-1.0565996076695996,1.0413939228265987,-1.2620095908721358,1.1426775965278135,0.25579441301365924,-0.4319807601407964,-0.7550353606457672,-0.05815106441335786,0.6190864775229382,0.9399911697520962,-1.4366566678480763,-0.43104599207293115,-1.073006647715606,-1.0116719874581341,-0.0044088648192909495,-0.2723208922297199,-1.4184543082935284],\"xaxis\":\"x16\",\"yaxis\":\"y16\",\"type\":\"histogram\"}],                        {\"bargap\":0.02,\"legend\":{\"bgcolor\":\"#F5F6F9\",\"font\":{\"color\":\"#4D5663\"}},\"paper_bgcolor\":\"#F5F6F9\",\"plot_bgcolor\":\"#F5F6F9\",\"showlegend\":false,\"template\":{\"data\":{\"barpolar\":[{\"marker\":{\"line\":{\"color\":\"#E5ECF6\",\"width\":0.5},\"pattern\":{\"fillmode\":\"overlay\",\"size\":10,\"solidity\":0.2}},\"type\":\"barpolar\"}],\"bar\":[{\"error_x\":{\"color\":\"#2a3f5f\"},\"error_y\":{\"color\":\"#2a3f5f\"},\"marker\":{\"line\":{\"color\":\"#E5ECF6\",\"width\":0.5},\"pattern\":{\"fillmode\":\"overlay\",\"size\":10,\"solidity\":0.2}},\"type\":\"bar\"}],\"carpet\":[{\"aaxis\":{\"endlinecolor\":\"#2a3f5f\",\"gridcolor\":\"white\",\"linecolor\":\"white\",\"minorgridcolor\":\"white\",\"startlinecolor\":\"#2a3f5f\"},\"baxis\":{\"endlinecolor\":\"#2a3f5f\",\"gridcolor\":\"white\",\"linecolor\":\"white\",\"minorgridcolor\":\"white\",\"startlinecolor\":\"#2a3f5f\"},\"type\":\"carpet\"}],\"choropleth\":[{\"colorbar\":{\"outlinewidth\":0,\"ticks\":\"\"},\"type\":\"choropleth\"}],\"contourcarpet\":[{\"colorbar\":{\"outlinewidth\":0,\"ticks\":\"\"},\"type\":\"contourcarpet\"}],\"contour\":[{\"colorbar\":{\"outlinewidth\":0,\"ticks\":\"\"},\"colorscale\":[[0.0,\"#0d0887\"],[0.1111111111111111,\"#46039f\"],[0.2222222222222222,\"#7201a8\"],[0.3333333333333333,\"#9c179e\"],[0.4444444444444444,\"#bd3786\"],[0.5555555555555556,\"#d8576b\"],[0.6666666666666666,\"#ed7953\"],[0.7777777777777778,\"#fb9f3a\"],[0.8888888888888888,\"#fdca26\"],[1.0,\"#f0f921\"]],\"type\":\"contour\"}],\"heatmapgl\":[{\"colorbar\":{\"outlinewidth\":0,\"ticks\":\"\"},\"colorscale\":[[0.0,\"#0d0887\"],[0.1111111111111111,\"#46039f\"],[0.2222222222222222,\"#7201a8\"],[0.3333333333333333,\"#9c179e\"],[0.4444444444444444,\"#bd3786\"],[0.5555555555555556,\"#d8576b\"],[0.6666666666666666,\"#ed7953\"],[0.7777777777777778,\"#fb9f3a\"],[0.8888888888888888,\"#fdca26\"],[1.0,\"#f0f921\"]],\"type\":\"heatmapgl\"}],\"heatmap\":[{\"colorbar\":{\"outlinewidth\":0,\"ticks\":\"\"},\"colorscale\":[[0.0,\"#0d0887\"],[0.1111111111111111,\"#46039f\"],[0.2222222222222222,\"#7201a8\"],[0.3333333333333333,\"#9c179e\"],[0.4444444444444444,\"#bd3786\"],[0.5555555555555556,\"#d8576b\"],[0.6666666666666666,\"#ed7953\"],[0.7777777777777778,\"#fb9f3a\"],[0.8888888888888888,\"#fdca26\"],[1.0,\"#f0f921\"]],\"type\":\"heatmap\"}],\"histogram2dcontour\":[{\"colorbar\":{\"outlinewidth\":0,\"ticks\":\"\"},\"colorscale\":[[0.0,\"#0d0887\"],[0.1111111111111111,\"#46039f\"],[0.2222222222222222,\"#7201a8\"],[0.3333333333333333,\"#9c179e\"],[0.4444444444444444,\"#bd3786\"],[0.5555555555555556,\"#d8576b\"],[0.6666666666666666,\"#ed7953\"],[0.7777777777777778,\"#fb9f3a\"],[0.8888888888888888,\"#fdca26\"],[1.0,\"#f0f921\"]],\"type\":\"histogram2dcontour\"}],\"histogram2d\":[{\"colorbar\":{\"outlinewidth\":0,\"ticks\":\"\"},\"colorscale\":[[0.0,\"#0d0887\"],[0.1111111111111111,\"#46039f\"],[0.2222222222222222,\"#7201a8\"],[0.3333333333333333,\"#9c179e\"],[0.4444444444444444,\"#bd3786\"],[0.5555555555555556,\"#d8576b\"],[0.6666666666666666,\"#ed7953\"],[0.7777777777777778,\"#fb9f3a\"],[0.8888888888888888,\"#fdca26\"],[1.0,\"#f0f921\"]],\"type\":\"histogram2d\"}],\"histogram\":[{\"marker\":{\"pattern\":{\"fillmode\":\"overlay\",\"size\":10,\"solidity\":0.2}},\"type\":\"histogram\"}],\"mesh3d\":[{\"colorbar\":{\"outlinewidth\":0,\"ticks\":\"\"},\"type\":\"mesh3d\"}],\"parcoords\":[{\"line\":{\"colorbar\":{\"outlinewidth\":0,\"ticks\":\"\"}},\"type\":\"parcoords\"}],\"pie\":[{\"automargin\":true,\"type\":\"pie\"}],\"scatter3d\":[{\"line\":{\"colorbar\":{\"outlinewidth\":0,\"ticks\":\"\"}},\"marker\":{\"colorbar\":{\"outlinewidth\":0,\"ticks\":\"\"}},\"type\":\"scatter3d\"}],\"scattercarpet\":[{\"marker\":{\"colorbar\":{\"outlinewidth\":0,\"ticks\":\"\"}},\"type\":\"scattercarpet\"}],\"scattergeo\":[{\"marker\":{\"colorbar\":{\"outlinewidth\":0,\"ticks\":\"\"}},\"type\":\"scattergeo\"}],\"scattergl\":[{\"marker\":{\"colorbar\":{\"outlinewidth\":0,\"ticks\":\"\"}},\"type\":\"scattergl\"}],\"scattermapbox\":[{\"marker\":{\"colorbar\":{\"outlinewidth\":0,\"ticks\":\"\"}},\"type\":\"scattermapbox\"}],\"scatterpolargl\":[{\"marker\":{\"colorbar\":{\"outlinewidth\":0,\"ticks\":\"\"}},\"type\":\"scatterpolargl\"}],\"scatterpolar\":[{\"marker\":{\"colorbar\":{\"outlinewidth\":0,\"ticks\":\"\"}},\"type\":\"scatterpolar\"}],\"scatter\":[{\"marker\":{\"colorbar\":{\"outlinewidth\":0,\"ticks\":\"\"}},\"type\":\"scatter\"}],\"scatterternary\":[{\"marker\":{\"colorbar\":{\"outlinewidth\":0,\"ticks\":\"\"}},\"type\":\"scatterternary\"}],\"surface\":[{\"colorbar\":{\"outlinewidth\":0,\"ticks\":\"\"},\"colorscale\":[[0.0,\"#0d0887\"],[0.1111111111111111,\"#46039f\"],[0.2222222222222222,\"#7201a8\"],[0.3333333333333333,\"#9c179e\"],[0.4444444444444444,\"#bd3786\"],[0.5555555555555556,\"#d8576b\"],[0.6666666666666666,\"#ed7953\"],[0.7777777777777778,\"#fb9f3a\"],[0.8888888888888888,\"#fdca26\"],[1.0,\"#f0f921\"]],\"type\":\"surface\"}],\"table\":[{\"cells\":{\"fill\":{\"color\":\"#EBF0F8\"},\"line\":{\"color\":\"white\"}},\"header\":{\"fill\":{\"color\":\"#C8D4E3\"},\"line\":{\"color\":\"white\"}},\"type\":\"table\"}]},\"layout\":{\"annotationdefaults\":{\"arrowcolor\":\"#2a3f5f\",\"arrowhead\":0,\"arrowwidth\":1},\"autotypenumbers\":\"strict\",\"coloraxis\":{\"colorbar\":{\"outlinewidth\":0,\"ticks\":\"\"}},\"colorscale\":{\"diverging\":[[0,\"#8e0152\"],[0.1,\"#c51b7d\"],[0.2,\"#de77ae\"],[0.3,\"#f1b6da\"],[0.4,\"#fde0ef\"],[0.5,\"#f7f7f7\"],[0.6,\"#e6f5d0\"],[0.7,\"#b8e186\"],[0.8,\"#7fbc41\"],[0.9,\"#4d9221\"],[1,\"#276419\"]],\"sequential\":[[0.0,\"#0d0887\"],[0.1111111111111111,\"#46039f\"],[0.2222222222222222,\"#7201a8\"],[0.3333333333333333,\"#9c179e\"],[0.4444444444444444,\"#bd3786\"],[0.5555555555555556,\"#d8576b\"],[0.6666666666666666,\"#ed7953\"],[0.7777777777777778,\"#fb9f3a\"],[0.8888888888888888,\"#fdca26\"],[1.0,\"#f0f921\"]],\"sequentialminus\":[[0.0,\"#0d0887\"],[0.1111111111111111,\"#46039f\"],[0.2222222222222222,\"#7201a8\"],[0.3333333333333333,\"#9c179e\"],[0.4444444444444444,\"#bd3786\"],[0.5555555555555556,\"#d8576b\"],[0.6666666666666666,\"#ed7953\"],[0.7777777777777778,\"#fb9f3a\"],[0.8888888888888888,\"#fdca26\"],[1.0,\"#f0f921\"]]},\"colorway\":[\"#636efa\",\"#EF553B\",\"#00cc96\",\"#ab63fa\",\"#FFA15A\",\"#19d3f3\",\"#FF6692\",\"#B6E880\",\"#FF97FF\",\"#FECB52\"],\"font\":{\"color\":\"#2a3f5f\"},\"geo\":{\"bgcolor\":\"white\",\"lakecolor\":\"white\",\"landcolor\":\"#E5ECF6\",\"showlakes\":true,\"showland\":true,\"subunitcolor\":\"white\"},\"hoverlabel\":{\"align\":\"left\"},\"hovermode\":\"closest\",\"mapbox\":{\"style\":\"light\"},\"paper_bgcolor\":\"white\",\"plot_bgcolor\":\"#E5ECF6\",\"polar\":{\"angularaxis\":{\"gridcolor\":\"white\",\"linecolor\":\"white\",\"ticks\":\"\"},\"bgcolor\":\"#E5ECF6\",\"radialaxis\":{\"gridcolor\":\"white\",\"linecolor\":\"white\",\"ticks\":\"\"}},\"scene\":{\"xaxis\":{\"backgroundcolor\":\"#E5ECF6\",\"gridcolor\":\"white\",\"gridwidth\":2,\"linecolor\":\"white\",\"showbackground\":true,\"ticks\":\"\",\"zerolinecolor\":\"white\"},\"yaxis\":{\"backgroundcolor\":\"#E5ECF6\",\"gridcolor\":\"white\",\"gridwidth\":2,\"linecolor\":\"white\",\"showbackground\":true,\"ticks\":\"\",\"zerolinecolor\":\"white\"},\"zaxis\":{\"backgroundcolor\":\"#E5ECF6\",\"gridcolor\":\"white\",\"gridwidth\":2,\"linecolor\":\"white\",\"showbackground\":true,\"ticks\":\"\",\"zerolinecolor\":\"white\"}},\"shapedefaults\":{\"line\":{\"color\":\"#2a3f5f\"}},\"ternary\":{\"aaxis\":{\"gridcolor\":\"white\",\"linecolor\":\"white\",\"ticks\":\"\"},\"baxis\":{\"gridcolor\":\"white\",\"linecolor\":\"white\",\"ticks\":\"\"},\"bgcolor\":\"#E5ECF6\",\"caxis\":{\"gridcolor\":\"white\",\"linecolor\":\"white\",\"ticks\":\"\"}},\"title\":{\"x\":0.05},\"xaxis\":{\"automargin\":true,\"gridcolor\":\"white\",\"linecolor\":\"white\",\"ticks\":\"\",\"title\":{\"standoff\":15},\"zerolinecolor\":\"white\",\"zerolinewidth\":2},\"yaxis\":{\"automargin\":true,\"gridcolor\":\"white\",\"linecolor\":\"white\",\"ticks\":\"\",\"title\":{\"standoff\":15},\"zerolinecolor\":\"white\",\"zerolinewidth\":2}}},\"title\":{\"font\":{\"color\":\"#4D5663\"}},\"xaxis\":{\"anchor\":\"y\",\"domain\":[0.0,0.2125],\"gridcolor\":\"#E1E5ED\",\"showgrid\":false,\"tickfont\":{\"color\":\"#4D5663\"},\"title\":{\"font\":{\"color\":\"#4D5663\"},\"text\":\"\"},\"zerolinecolor\":\"#E1E5ED\"},\"yaxis\":{\"anchor\":\"x\",\"domain\":[0.8025,1.0],\"gridcolor\":\"#E1E5ED\",\"showgrid\":false,\"tickfont\":{\"color\":\"#4D5663\"},\"title\":{\"font\":{\"color\":\"#4D5663\"},\"text\":\"\"},\"zerolinecolor\":\"#E1E5ED\"},\"xaxis2\":{\"anchor\":\"y2\",\"domain\":[0.2625,0.475],\"gridcolor\":\"#E1E5ED\",\"showgrid\":false,\"tickfont\":{\"color\":\"#4D5663\"},\"title\":{\"font\":{\"color\":\"#4D5663\"},\"text\":\"\"},\"zerolinecolor\":\"#E1E5ED\"},\"yaxis2\":{\"anchor\":\"x2\",\"domain\":[0.8025,1.0],\"gridcolor\":\"#E1E5ED\",\"showgrid\":false,\"tickfont\":{\"color\":\"#4D5663\"},\"title\":{\"font\":{\"color\":\"#4D5663\"},\"text\":\"\"},\"zerolinecolor\":\"#E1E5ED\"},\"xaxis3\":{\"anchor\":\"y3\",\"domain\":[0.525,0.7375],\"gridcolor\":\"#E1E5ED\",\"showgrid\":false,\"tickfont\":{\"color\":\"#4D5663\"},\"title\":{\"font\":{\"color\":\"#4D5663\"},\"text\":\"\"},\"zerolinecolor\":\"#E1E5ED\"},\"yaxis3\":{\"anchor\":\"x3\",\"domain\":[0.8025,1.0],\"gridcolor\":\"#E1E5ED\",\"showgrid\":false,\"tickfont\":{\"color\":\"#4D5663\"},\"title\":{\"font\":{\"color\":\"#4D5663\"},\"text\":\"\"},\"zerolinecolor\":\"#E1E5ED\"},\"xaxis4\":{\"anchor\":\"y4\",\"domain\":[0.7875,1.0],\"gridcolor\":\"#E1E5ED\",\"showgrid\":false,\"tickfont\":{\"color\":\"#4D5663\"},\"title\":{\"font\":{\"color\":\"#4D5663\"},\"text\":\"\"},\"zerolinecolor\":\"#E1E5ED\"},\"yaxis4\":{\"anchor\":\"x4\",\"domain\":[0.8025,1.0],\"gridcolor\":\"#E1E5ED\",\"showgrid\":false,\"tickfont\":{\"color\":\"#4D5663\"},\"title\":{\"font\":{\"color\":\"#4D5663\"},\"text\":\"\"},\"zerolinecolor\":\"#E1E5ED\"},\"xaxis5\":{\"anchor\":\"y5\",\"domain\":[0.0,0.2125],\"gridcolor\":\"#E1E5ED\",\"showgrid\":false,\"tickfont\":{\"color\":\"#4D5663\"},\"title\":{\"font\":{\"color\":\"#4D5663\"},\"text\":\"\"},\"zerolinecolor\":\"#E1E5ED\"},\"yaxis5\":{\"anchor\":\"x5\",\"domain\":[0.535,0.7325],\"gridcolor\":\"#E1E5ED\",\"showgrid\":false,\"tickfont\":{\"color\":\"#4D5663\"},\"title\":{\"font\":{\"color\":\"#4D5663\"},\"text\":\"\"},\"zerolinecolor\":\"#E1E5ED\"},\"xaxis6\":{\"anchor\":\"y6\",\"domain\":[0.2625,0.475],\"gridcolor\":\"#E1E5ED\",\"showgrid\":false,\"tickfont\":{\"color\":\"#4D5663\"},\"title\":{\"font\":{\"color\":\"#4D5663\"},\"text\":\"\"},\"zerolinecolor\":\"#E1E5ED\"},\"yaxis6\":{\"anchor\":\"x6\",\"domain\":[0.535,0.7325],\"gridcolor\":\"#E1E5ED\",\"showgrid\":false,\"tickfont\":{\"color\":\"#4D5663\"},\"title\":{\"font\":{\"color\":\"#4D5663\"},\"text\":\"\"},\"zerolinecolor\":\"#E1E5ED\"},\"xaxis7\":{\"anchor\":\"y7\",\"domain\":[0.525,0.7375],\"gridcolor\":\"#E1E5ED\",\"showgrid\":false,\"tickfont\":{\"color\":\"#4D5663\"},\"title\":{\"font\":{\"color\":\"#4D5663\"},\"text\":\"\"},\"zerolinecolor\":\"#E1E5ED\"},\"yaxis7\":{\"anchor\":\"x7\",\"domain\":[0.535,0.7325],\"gridcolor\":\"#E1E5ED\",\"showgrid\":false,\"tickfont\":{\"color\":\"#4D5663\"},\"title\":{\"font\":{\"color\":\"#4D5663\"},\"text\":\"\"},\"zerolinecolor\":\"#E1E5ED\"},\"xaxis8\":{\"anchor\":\"y8\",\"domain\":[0.7875,1.0],\"gridcolor\":\"#E1E5ED\",\"showgrid\":false,\"tickfont\":{\"color\":\"#4D5663\"},\"title\":{\"font\":{\"color\":\"#4D5663\"},\"text\":\"\"},\"zerolinecolor\":\"#E1E5ED\"},\"yaxis8\":{\"anchor\":\"x8\",\"domain\":[0.535,0.7325],\"gridcolor\":\"#E1E5ED\",\"showgrid\":false,\"tickfont\":{\"color\":\"#4D5663\"},\"title\":{\"font\":{\"color\":\"#4D5663\"},\"text\":\"\"},\"zerolinecolor\":\"#E1E5ED\"},\"xaxis9\":{\"anchor\":\"y9\",\"domain\":[0.0,0.2125],\"gridcolor\":\"#E1E5ED\",\"showgrid\":false,\"tickfont\":{\"color\":\"#4D5663\"},\"title\":{\"font\":{\"color\":\"#4D5663\"},\"text\":\"\"},\"zerolinecolor\":\"#E1E5ED\"},\"yaxis9\":{\"anchor\":\"x9\",\"domain\":[0.2675,0.465],\"gridcolor\":\"#E1E5ED\",\"showgrid\":false,\"tickfont\":{\"color\":\"#4D5663\"},\"title\":{\"font\":{\"color\":\"#4D5663\"},\"text\":\"\"},\"zerolinecolor\":\"#E1E5ED\"},\"xaxis10\":{\"anchor\":\"y10\",\"domain\":[0.2625,0.475],\"gridcolor\":\"#E1E5ED\",\"showgrid\":false,\"tickfont\":{\"color\":\"#4D5663\"},\"title\":{\"font\":{\"color\":\"#4D5663\"},\"text\":\"\"},\"zerolinecolor\":\"#E1E5ED\"},\"yaxis10\":{\"anchor\":\"x10\",\"domain\":[0.2675,0.465],\"gridcolor\":\"#E1E5ED\",\"showgrid\":false,\"tickfont\":{\"color\":\"#4D5663\"},\"title\":{\"font\":{\"color\":\"#4D5663\"},\"text\":\"\"},\"zerolinecolor\":\"#E1E5ED\"},\"xaxis11\":{\"anchor\":\"y11\",\"domain\":[0.525,0.7375],\"gridcolor\":\"#E1E5ED\",\"showgrid\":false,\"tickfont\":{\"color\":\"#4D5663\"},\"title\":{\"font\":{\"color\":\"#4D5663\"},\"text\":\"\"},\"zerolinecolor\":\"#E1E5ED\"},\"yaxis11\":{\"anchor\":\"x11\",\"domain\":[0.2675,0.465],\"gridcolor\":\"#E1E5ED\",\"showgrid\":false,\"tickfont\":{\"color\":\"#4D5663\"},\"title\":{\"font\":{\"color\":\"#4D5663\"},\"text\":\"\"},\"zerolinecolor\":\"#E1E5ED\"},\"xaxis12\":{\"anchor\":\"y12\",\"domain\":[0.7875,1.0],\"gridcolor\":\"#E1E5ED\",\"showgrid\":false,\"tickfont\":{\"color\":\"#4D5663\"},\"title\":{\"font\":{\"color\":\"#4D5663\"},\"text\":\"\"},\"zerolinecolor\":\"#E1E5ED\"},\"yaxis12\":{\"anchor\":\"x12\",\"domain\":[0.2675,0.465],\"gridcolor\":\"#E1E5ED\",\"showgrid\":false,\"tickfont\":{\"color\":\"#4D5663\"},\"title\":{\"font\":{\"color\":\"#4D5663\"},\"text\":\"\"},\"zerolinecolor\":\"#E1E5ED\"},\"xaxis13\":{\"anchor\":\"y13\",\"domain\":[0.0,0.2125],\"gridcolor\":\"#E1E5ED\",\"showgrid\":false,\"tickfont\":{\"color\":\"#4D5663\"},\"title\":{\"font\":{\"color\":\"#4D5663\"},\"text\":\"\"},\"zerolinecolor\":\"#E1E5ED\"},\"yaxis13\":{\"anchor\":\"x13\",\"domain\":[0.0,0.1975],\"gridcolor\":\"#E1E5ED\",\"showgrid\":false,\"tickfont\":{\"color\":\"#4D5663\"},\"title\":{\"font\":{\"color\":\"#4D5663\"},\"text\":\"\"},\"zerolinecolor\":\"#E1E5ED\"},\"xaxis14\":{\"anchor\":\"y14\",\"domain\":[0.2625,0.475],\"gridcolor\":\"#E1E5ED\",\"showgrid\":false,\"tickfont\":{\"color\":\"#4D5663\"},\"title\":{\"font\":{\"color\":\"#4D5663\"},\"text\":\"\"},\"zerolinecolor\":\"#E1E5ED\"},\"yaxis14\":{\"anchor\":\"x14\",\"domain\":[0.0,0.1975],\"gridcolor\":\"#E1E5ED\",\"showgrid\":false,\"tickfont\":{\"color\":\"#4D5663\"},\"title\":{\"font\":{\"color\":\"#4D5663\"},\"text\":\"\"},\"zerolinecolor\":\"#E1E5ED\"},\"xaxis15\":{\"anchor\":\"y15\",\"domain\":[0.525,0.7375],\"gridcolor\":\"#E1E5ED\",\"showgrid\":false,\"tickfont\":{\"color\":\"#4D5663\"},\"title\":{\"font\":{\"color\":\"#4D5663\"},\"text\":\"\"},\"zerolinecolor\":\"#E1E5ED\"},\"yaxis15\":{\"anchor\":\"x15\",\"domain\":[0.0,0.1975],\"gridcolor\":\"#E1E5ED\",\"showgrid\":false,\"tickfont\":{\"color\":\"#4D5663\"},\"title\":{\"font\":{\"color\":\"#4D5663\"},\"text\":\"\"},\"zerolinecolor\":\"#E1E5ED\"},\"xaxis16\":{\"anchor\":\"y16\",\"domain\":[0.7875,1.0],\"gridcolor\":\"#E1E5ED\",\"showgrid\":false,\"tickfont\":{\"color\":\"#4D5663\"},\"title\":{\"font\":{\"color\":\"#4D5663\"},\"text\":\"\"},\"zerolinecolor\":\"#E1E5ED\"},\"yaxis16\":{\"anchor\":\"x16\",\"domain\":[0.0,0.1975],\"gridcolor\":\"#E1E5ED\",\"showgrid\":false,\"tickfont\":{\"color\":\"#4D5663\"},\"title\":{\"font\":{\"color\":\"#4D5663\"},\"text\":\"\"},\"zerolinecolor\":\"#E1E5ED\"}},                        {\"showLink\": true, \"linkText\": \"Export to plot.ly\", \"plotlyServerURL\": \"https://plot.ly\", \"responsive\": true}                    ).then(function(){\n",
       "                            \n",
       "var gd = document.getElementById('0260d47a-7e2c-4624-9347-8bf9ba5c8cf1');\n",
       "var x = new MutationObserver(function (mutations, observer) {{\n",
       "        var display = window.getComputedStyle(gd).display;\n",
       "        if (!display || display === 'none') {{\n",
       "            console.log([gd, 'removed!']);\n",
       "            Plotly.purge(gd);\n",
       "            observer.disconnect();\n",
       "        }}\n",
       "}});\n",
       "\n",
       "// Listen for the removal of the full notebook cells\n",
       "var notebookContainer = gd.closest('#notebook-container');\n",
       "if (notebookContainer) {{\n",
       "    x.observe(notebookContainer, {childList: true});\n",
       "}}\n",
       "\n",
       "// Listen for the clearing of the current output cell\n",
       "var outputEl = gd.closest('.output');\n",
       "if (outputEl) {{\n",
       "    x.observe(outputEl, {childList: true});\n",
       "}}\n",
       "\n",
       "                        })                };                });            </script>        </div>"
      ]
     },
     "metadata": {},
     "output_type": "display_data"
    }
   ],
   "source": [
    "df.scatter_matrix()"
   ]
  }
 ],
 "metadata": {
  "interpreter": {
   "hash": "c469c999aae2bf6d578d6881606ced546d1546d312a4811937df5b24665ee8bc"
  },
  "kernelspec": {
   "display_name": "Python 3.7.6 ('base')",
   "language": "python",
   "name": "python3"
  },
  "language_info": {
   "codemirror_mode": {
    "name": "ipython",
    "version": 3
   },
   "file_extension": ".py",
   "mimetype": "text/x-python",
   "name": "python",
   "nbconvert_exporter": "python",
   "pygments_lexer": "ipython3",
   "version": "3.7.6"
  },
  "orig_nbformat": 4
 },
 "nbformat": 4,
 "nbformat_minor": 2
}
