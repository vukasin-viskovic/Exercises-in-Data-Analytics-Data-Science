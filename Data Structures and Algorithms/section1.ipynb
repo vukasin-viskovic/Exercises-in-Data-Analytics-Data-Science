{
 "cells": [
  {
   "cell_type": "markdown",
   "metadata": {},
   "source": [
    "# Big O\n",
    "\n",
    "### S2V4 - Intro\n",
    "\n",
    "Big 0 is a way of comparing two sets of code.\n",
    "\n",
    "How to compare different pieces of code?\n",
    "- By readibility?\n",
    "- By conciseness?\n",
    "- By **efficiency**!\n",
    "    - Time complexity\n",
    "        - It is measured by the number of operations necessary to complete the given task\n",
    "    - Space complexity\n",
    "        - How much memory space the given code needs to complete the given task?\n",
    "_____\n",
    "### S2V5 - Worst case\n",
    "\n",
    "$\\Omega$ - Best case scenario (omega)\n",
    "\n",
    "$\\Theta$ - Average case (theta)\n",
    "\n",
    "$\\Omicron$ - The worst case ('O')\n",
    "_____\n",
    "### S2V6 - O(n)\n",
    "\n",
    "Whatever `n` is, that's the number of operations -> *O(n)*. Number of operations is **proportionate** to the input."
   ]
  },
  {
   "cell_type": "code",
   "execution_count": 2,
   "metadata": {},
   "outputs": [
    {
     "name": "stdout",
     "output_type": "stream",
     "text": [
      "0\n",
      "1\n",
      "2\n",
      "3\n",
      "4\n",
      "5\n",
      "6\n",
      "7\n",
      "8\n",
      "9\n"
     ]
    }
   ],
   "source": [
    "def print_items(n):\n",
    "    for item in range(n):\n",
    "        print(item)\n",
    "\n",
    "print_items(10)"
   ]
  },
  {
   "cell_type": "markdown",
   "metadata": {},
   "source": [
    "### S2V27 - Drop constants"
   ]
  },
  {
   "cell_type": "code",
   "execution_count": 4,
   "metadata": {},
   "outputs": [
    {
     "name": "stdout",
     "output_type": "stream",
     "text": [
      "0\n",
      "1\n",
      "2\n",
      "0\n",
      "1\n",
      "2\n"
     ]
    }
   ],
   "source": [
    "def print_items(n):\n",
    "    for i in range(n):\n",
    "        print(i)\n",
    "    for j in range(n):\n",
    "        print(j)\n",
    "\n",
    "print_items(3)"
   ]
  },
  {
   "cell_type": "markdown",
   "metadata": {},
   "source": [
    "This code needed *n + n = 2n* times to run. However, we drop this constant (*2*), to simplify our estimation.\n",
    "\n",
    "So the 'Big O' of the above code is *O(n)*."
   ]
  },
  {
   "cell_type": "markdown",
   "metadata": {},
   "source": [
    "### S2V28 - O($n^2$)"
   ]
  },
  {
   "cell_type": "code",
   "execution_count": 8,
   "metadata": {},
   "outputs": [
    {
     "name": "stdout",
     "output_type": "stream",
     "text": [
      "0 0\n",
      "0 1\n",
      "0 2\n",
      "1 0\n",
      "1 1\n",
      "1 2\n",
      "2 0\n",
      "2 1\n",
      "2 2\n"
     ]
    }
   ],
   "source": [
    "def print_items(n):\n",
    "    for i in range(n):\n",
    "        for j in range(n):\n",
    "            print(i, j)\n",
    "\n",
    "print_items(3)"
   ]
  },
  {
   "cell_type": "markdown",
   "metadata": {},
   "source": [
    "This code above needed *n * n = $n^2$* times to run.\n",
    "\n",
    "So the running time of the above code is *O($n^2$)*."
   ]
  },
  {
   "cell_type": "code",
   "execution_count": 10,
   "metadata": {},
   "outputs": [
    {
     "name": "stdout",
     "output_type": "stream",
     "text": [
      "0 0 0\n",
      "0 0 1\n",
      "0 1 0\n",
      "0 1 1\n",
      "1 0 0\n",
      "1 0 1\n",
      "1 1 0\n",
      "1 1 1\n"
     ]
    }
   ],
   "source": [
    "def print_items(n):\n",
    "    for i in range(n):\n",
    "        for j in range(n):\n",
    "            for k in range(n):\n",
    "                print(i, j, k)\n",
    "\n",
    "print_items(2)"
   ]
  },
  {
   "cell_type": "markdown",
   "metadata": {},
   "source": [
    "This code above needed *n * n * n = $n^3$* times to run. However, we dropy this will again simplify this estimation.\n",
    "\n",
    "So the running time of the above code is *O($n^2$)*."
   ]
  },
  {
   "cell_type": "code",
   "execution_count": 30,
   "metadata": {},
   "outputs": [
    {
     "data": {
      "text/plain": [
       "<matplotlib.legend.Legend at 0x2575e6f5f48>"
      ]
     },
     "execution_count": 30,
     "metadata": {},
     "output_type": "execute_result"
    },
    {
     "data": {
      "image/png": "[encoded data removed]",
      "text/plain": [
       "<Figure size 432x288 with 1 Axes>"
      ]
     },
     "metadata": {
      "needs_background": "light"
     },
     "output_type": "display_data"
    }
   ],
   "source": [
    "{\n",
    "    \"tags\": [\n",
    "        \"hide-input\",\n",
    "    ]\n",
    "}\n",
    "\n",
    "import numpy as np\n",
    "import matplotlib.pyplot as plt\n",
    "import seaborn as sns\n",
    "%matplotlib inline\n",
    "\n",
    "x = np.arange(101)\n",
    "\n",
    "fig = plt.figure()\n",
    "ax = fig.add_axes([0, 0, 1, 1])\n",
    "\n",
    "ax.plot(x, x, label = 'x')\n",
    "ax.plot(x, x**2, label = 'x**2')\n",
    "\n",
    "ax.set_ylim(0, 100)\n",
    "\n",
    "plt.xlabel('X')\n",
    "plt.ylabel('Y')\n",
    "\n",
    "ax.legend(loc = (0.8, 0.1))"
   ]
  },
  {
   "cell_type": "code",
   "execution_count": null,
   "metadata": {},
   "outputs": [],
   "source": []
  }
 ],
 "metadata": {
  "interpreter": {
   "hash": "c469c999aae2bf6d578d6881606ced546d1546d312a4811937df5b24665ee8bc"
  },
  "kernelspec": {
   "display_name": "Python 3.7.6 ('base')",
   "language": "python",
   "name": "python3"
  },
  "language_info": {
   "codemirror_mode": {
    "name": "ipython",
    "version": 3
   },
   "file_extension": ".py",
   "mimetype": "text/x-python",
   "name": "python",
   "nbconvert_exporter": "python",
   "pygments_lexer": "ipython3",
   "version": "3.7.6"
  },
  "orig_nbformat": 4
 },
 "nbformat": 4,
 "nbformat_minor": 2
}
