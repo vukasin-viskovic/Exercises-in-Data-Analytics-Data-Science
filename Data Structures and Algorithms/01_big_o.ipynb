{
 "cells": [
  {
   "cell_type": "markdown",
   "metadata": {},
   "source": [
    "# Big O\n",
    "\n",
    "Great online resources: \n",
    "1. [Stack Exchange Question](https://stackoverflow.com/questions/2307283/what-does-olog-n-mean-exactly?newreg=b9cab39bd4ae43daa1f64747c83b4bb2)\n",
    "2. [\"Big O Cheat Sheet\"](https://www.bigocheatsheet.com/)"
   ]
  },
  {
   "cell_type": "markdown",
   "metadata": {},
   "source": [
    "![image](https://i.stack.imgur.com/jIGhf.png)"
   ]
  },
  {
   "cell_type": "markdown",
   "metadata": {},
   "source": [
    "### S2V4 - Intro"
   ]
  },
  {
   "cell_type": "markdown",
   "metadata": {},
   "source": [
    "### S2V5 - Worst Case\n",
    "\n",
    "$\\Omega$\n",
    "\n",
    "$\\Theta$\n",
    "\n",
    "$\\Omicron$"
   ]
  },
  {
   "cell_type": "markdown",
   "metadata": {},
   "source": [
    "### S2V6 - $O(n)$ - Proportional"
   ]
  },
  {
   "cell_type": "markdown",
   "metadata": {},
   "source": [
    "### S2V7 - Drop Constants"
   ]
  },
  {
   "cell_type": "markdown",
   "metadata": {},
   "source": [
    "### S2V8 - $O(n^2)$ - Loop within a loop"
   ]
  },
  {
   "cell_type": "markdown",
   "metadata": {},
   "source": [
    "### S2V9 - Drop Non-dominants"
   ]
  },
  {
   "cell_type": "code",
   "execution_count": 3,
   "metadata": {},
   "outputs": [
    {
     "name": "stdout",
     "output_type": "stream",
     "text": [
      "0 0\n",
      "0 1\n",
      "0 2\n",
      "1 0\n",
      "1 1\n",
      "1 2\n",
      "2 0\n",
      "2 1\n",
      "2 2\n",
      "0\n",
      "1\n",
      "2\n"
     ]
    }
   ],
   "source": [
    "def print_items(n):\n",
    "    for i in range(n):\n",
    "        for j in range(n):\n",
    "            print(i, j)\n",
    "\n",
    "    for k in range(n):\n",
    "        print(k)\n",
    "\n",
    "print_items(3)\n"
   ]
  },
  {
   "cell_type": "markdown",
   "metadata": {},
   "source": [
    "Running time $= O(n^2) + O(n) = O(n^2 + n)$\n",
    "\n",
    "The larger $n$ gets, the smaller share of $n^2$ it represents. In this equation, $n^2$ is thus the dominant term, while $n$ is non-dominant term, and should be dropped when estimating the function's running time. \n",
    "\n",
    "Running time $= O(n^2)$"
   ]
  },
  {
   "cell_type": "markdown",
   "metadata": {},
   "source": [
    "### S2V10 - $O(1)$ - Constant\n",
    "\n",
    "In previous examples, as $n$ increased, so did the number of operations. \n",
    "\n",
    "But in this case, the number of operations stays the same - it remains constant. Here, we have constant running time.\n",
    "\n",
    "It's the most efficient 'Big O' - as efficient as it gets."
   ]
  },
  {
   "cell_type": "code",
   "execution_count": 5,
   "metadata": {},
   "outputs": [
    {
     "data": {
      "text/plain": [
       "20"
      ]
     },
     "execution_count": 5,
     "metadata": {},
     "output_type": "execute_result"
    }
   ],
   "source": [
    "def add_items(n):\n",
    "    return n + n\n",
    "\n",
    "add_items(10)"
   ]
  },
  {
   "cell_type": "code",
   "execution_count": 6,
   "metadata": {},
   "outputs": [
    {
     "data": {
      "text/plain": [
       "30"
      ]
     },
     "execution_count": 6,
     "metadata": {},
     "output_type": "execute_result"
    }
   ],
   "source": [
    "def add_items(n):\n",
    "    return n + n + n\n",
    "\n",
    "add_items(10)"
   ]
  },
  {
   "cell_type": "markdown",
   "metadata": {},
   "source": [
    "Still $O(1)$."
   ]
  },
  {
   "cell_type": "markdown",
   "metadata": {},
   "source": [
    "### S2V11 - $O(log(n))$ - Divide and Conquer\n",
    "\n",
    "[Binary search](https://www.geeksforgeeks.org/binary-search/) is the algorithm the lecturer used to illustrate $O(log(n))$."
   ]
  },
  {
   "cell_type": "markdown",
   "metadata": {},
   "source": [
    "### S2V12 - Lists"
   ]
  },
  {
   "cell_type": "markdown",
   "metadata": {},
   "source": [
    "### S2V13 - Wrap up"
   ]
  },
  {
   "cell_type": "markdown",
   "metadata": {},
   "source": []
  }
 ],
 "metadata": {
  "interpreter": {
   "hash": "c469c999aae2bf6d578d6881606ced546d1546d312a4811937df5b24665ee8bc"
  },
  "kernelspec": {
   "display_name": "Python 3.7.6 ('base')",
   "language": "python",
   "name": "python3"
  },
  "language_info": {
   "codemirror_mode": {
    "name": "ipython",
    "version": 3
   },
   "file_extension": ".py",
   "mimetype": "text/x-python",
   "name": "python",
   "nbconvert_exporter": "python",
   "pygments_lexer": "ipython3",
   "version": "3.7.6"
  },
  "orig_nbformat": 4
 },
 "nbformat": 4,
 "nbformat_minor": 2
}
