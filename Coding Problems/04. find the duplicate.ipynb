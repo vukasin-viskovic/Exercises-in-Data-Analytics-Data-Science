{
 "cells": [
  {
   "cell_type": "markdown",
   "metadata": {},
   "source": [
    "# Find the duplicate\n",
    "\n",
    "Given an array of integers `arr` that contains n+1 elements between 1 and n inclusive, create a function that returns the duplicate element.\n",
    "\n",
    "Assumptions:\n",
    "- there is only one duplicate number\n",
    "- the duplicate num can be repeated more than once\n",
    "\n",
    "### Pigeonhole principle:\n",
    "- Inserting *n* items in *m* containers, where *n > m* alwas results in at least two items sharing the same container.\n",
    "\n",
    "This translates into our problem:\n",
    "- Inserting *n* **elements** in *m* **values**, where *n > m* alwas results in at least two **elements** sharing the same **value**.\n"
   ]
  },
  {
   "cell_type": "code",
   "execution_count": null,
   "metadata": {},
   "outputs": [],
   "source": [
    "# Parameters:\n",
    "#  arr: List[int]\n",
    "# return type: int\n",
    "\n",
    "def findDuplicate(arr):\n",
    "    # your code here\n",
    "    pass"
   ]
  },
  {
   "cell_type": "code",
   "execution_count": 8,
   "metadata": {},
   "outputs": [
    {
     "name": "stdout",
     "output_type": "stream",
     "text": [
      "No duplicates found\n"
     ]
    }
   ],
   "source": [
    "# My solution - The hash table solution - More efficient than Brute Force and Sorting, but not optimal:\n",
    "\n",
    "def findDuplicate(arr):\n",
    "    visited = {}\n",
    "    for element in arr:\n",
    "        if visited.get(element):\n",
    "            return element\n",
    "        else:\n",
    "            visited[element] = True\n",
    "    print('No duplicates found')\n",
    "\n",
    "ar = [4, 2, 1, 3]\n",
    "findDuplicate(ar)"
   ]
  },
  {
   "cell_type": "code",
   "execution_count": 10,
   "metadata": {},
   "outputs": [
    {
     "data": {
      "text/plain": [
       "1"
      ]
     },
     "execution_count": 10,
     "metadata": {},
     "output_type": "execute_result"
    }
   ],
   "source": [
    "# Brute force solution:\n",
    "\n",
    "def findDuplicate(arr):\n",
    "    for i in range(len(arr)):\n",
    "        for j in range(i+1, len(arr)):\n",
    "            if arr[i] == arr[j]:\n",
    "                return arr[i]\n",
    "    print('No duplicates found')\n",
    "\n",
    "ar = [4, 2, 1, 3, 1]\n",
    "findDuplicate(ar)\n"
   ]
  },
  {
   "cell_type": "code",
   "execution_count": 13,
   "metadata": {},
   "outputs": [
    {
     "data": {
      "text/plain": [
       "1"
      ]
     },
     "execution_count": 13,
     "metadata": {},
     "output_type": "execute_result"
    }
   ],
   "source": [
    "# Sorting solution:\n",
    "\n",
    "def findDuplicate(arr):\n",
    "    arr.sort()\n",
    "    for i in range(1, len(arr)):\n",
    "        if arr[i] == arr[i-1]:\n",
    "            return arr[i]\n",
    "    print('No duplicates found')\n",
    "\n",
    "ar = [4, 2, 1, 3, 1]\n",
    "findDuplicate(ar)"
   ]
  },
  {
   "cell_type": "markdown",
   "metadata": {},
   "source": [
    "### Floyd's cycle detention algorithm ('tortoise and hare')\n",
    "\n",
    "To be continued"
   ]
  }
 ],
 "metadata": {
  "interpreter": {
   "hash": "c469c999aae2bf6d578d6881606ced546d1546d312a4811937df5b24665ee8bc"
  },
  "kernelspec": {
   "display_name": "Python 3.7.6 ('base')",
   "language": "python",
   "name": "python3"
  },
  "language_info": {
   "codemirror_mode": {
    "name": "ipython",
    "version": 3
   },
   "file_extension": ".py",
   "mimetype": "text/x-python",
   "name": "python",
   "nbconvert_exporter": "python",
   "pygments_lexer": "ipython3",
   "version": "3.7.6"
  },
  "orig_nbformat": 4
 },
 "nbformat": 4,
 "nbformat_minor": 2
}
