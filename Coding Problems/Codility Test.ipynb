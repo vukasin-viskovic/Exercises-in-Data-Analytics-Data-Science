{
 "cells": [
  {
   "cell_type": "markdown",
   "metadata": {},
   "source": [
    "# My Codility Demo Test\n",
    "\n",
    "Write a function that, given an array A of N integers returns the smallest positive integer (greater than 0) that does not occur in the array A.\n",
    "\n",
    "- For example, given A = [1, 3, 6, 4, 1, 2], the function should return 5.\n",
    "- Given A = [1, 2, 3], the function should return 4.\n",
    "- Given A = [-1, -3], the function should return 1.\n",
    "\n",
    "Write an efficient algorithm for the following assumptions:\n",
    "- N is an integer within the range(1, 100000)\n",
    "- each element of array A is an integer within the range(-1000000, 1000000). "
   ]
  },
  {
   "cell_type": "code",
   "execution_count": 8,
   "metadata": {},
   "outputs": [
    {
     "data": {
      "text/plain": [
       "5"
      ]
     },
     "execution_count": 8,
     "metadata": {},
     "output_type": "execute_result"
    }
   ],
   "source": [
    "# My solution 1:\n",
    "\n",
    "def minimum_absent(arr):\n",
    "    import numpy as np\n",
    "    arr.sort()\n",
    "    if np.max(arr) <= 1:\n",
    "        return 1\n",
    "    else:\n",
    "        for i in range(np.min(arr), np.max(arr) + 1):\n",
    "            if i in arr:\n",
    "                continue\n",
    "            else:\n",
    "                return i\n",
    "        return np.max(arr) + 1\n",
    "\n",
    "minimum_absent([1, 3, 6, 4, 1, 2])"
   ]
  },
  {
   "cell_type": "code",
   "execution_count": 7,
   "metadata": {},
   "outputs": [
    {
     "data": {
      "text/plain": [
       "4"
      ]
     },
     "execution_count": 7,
     "metadata": {},
     "output_type": "execute_result"
    }
   ],
   "source": [
    "minimum_absent([1, 2, 3])"
   ]
  },
  {
   "cell_type": "code",
   "execution_count": 9,
   "metadata": {},
   "outputs": [
    {
     "data": {
      "text/plain": [
       "1"
      ]
     },
     "execution_count": 9,
     "metadata": {},
     "output_type": "execute_result"
    }
   ],
   "source": [
    "minimum_absent([-1, -3])"
   ]
  },
  {
   "cell_type": "markdown",
   "metadata": {},
   "source": [
    "### Important Note:\n",
    "\n",
    "I have no idea how efficient my algorithm is.\n",
    "\n",
    "Also, I'm not sure whether importing `numpy` and using its functions would be regarded as a good or a bad thing in the context of one's programming skills being tested.\n",
    "\n",
    "As I learn more about coding efficient algorithms, different data structures and time/space complexity analysis, I will try to add improved solutions to this file."
   ]
  }
 ],
 "metadata": {
  "interpreter": {
   "hash": "c469c999aae2bf6d578d6881606ced546d1546d312a4811937df5b24665ee8bc"
  },
  "kernelspec": {
   "display_name": "Python 3.7.6 ('base')",
   "language": "python",
   "name": "python3"
  },
  "language_info": {
   "codemirror_mode": {
    "name": "ipython",
    "version": 3
   },
   "file_extension": ".py",
   "mimetype": "text/x-python",
   "name": "python",
   "nbconvert_exporter": "python",
   "pygments_lexer": "ipython3",
   "version": "3.7.6"
  },
  "orig_nbformat": 4
 },
 "nbformat": 4,
 "nbformat_minor": 2
}
