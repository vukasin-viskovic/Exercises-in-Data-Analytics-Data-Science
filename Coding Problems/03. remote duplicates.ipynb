{
 "cells": [
  {
   "cell_type": "markdown",
   "metadata": {},
   "source": [
    "# Remote duplicates\n",
    "\n",
    "Given an array of integers `arr`, create a function that returns an array containing the values of `arr` without duplicates (the order doesn't matter)."
   ]
  },
  {
   "cell_type": "code",
   "execution_count": 6,
   "metadata": {},
   "outputs": [],
   "source": [
    "# Parameters:\n",
    "#  arr: List[int]\n",
    "# return type: List[int]\n",
    "\n",
    "def removeDuplicates(arr):\n",
    "    # your code here\n",
    "    pass"
   ]
  },
  {
   "cell_type": "code",
   "execution_count": 7,
   "metadata": {},
   "outputs": [
    {
     "data": {
      "text/plain": [
       "[1, 8, 6, 2, 3, 5]"
      ]
     },
     "execution_count": 7,
     "metadata": {},
     "output_type": "execute_result"
    }
   ],
   "source": [
    "# My solution (very similar to the 'Brute force solution', below): \n",
    "# The most efficient solution also uses a hash table, but doesn't search through its elements - see below:\n",
    "\n",
    "def removeDuplicates(arr):\n",
    "    visited = {}\n",
    "    for element in arr:\n",
    "        if visited.get(element):\n",
    "            continue\n",
    "        else: \n",
    "            visited[element] = True\n",
    "    return list(visited.keys())\n",
    "\n",
    "removeDuplicates([1, 8, 6, 2, 2, 3, 1, 5, 6, 2, 8, 2, 6, 8, 2, 3])"
   ]
  },
  {
   "cell_type": "code",
   "execution_count": 8,
   "metadata": {},
   "outputs": [
    {
     "data": {
      "text/plain": [
       "[1, 8, 6, 2, 3, 5]"
      ]
     },
     "execution_count": 8,
     "metadata": {},
     "output_type": "execute_result"
    }
   ],
   "source": [
    "# Brute force solution\n",
    "\n",
    "def removeDuplicates(arr):\n",
    "    noDuplicatesArr = []\n",
    "    for element in arr:\n",
    "        if element not in noDuplicatesArr:\n",
    "            noDuplicatesArr.append(element)\n",
    "    return noDuplicatesArr\n",
    "\n",
    "removeDuplicates([1, 8, 6, 2, 2, 3, 1, 5, 6, 2, 8, 2, 6, 8, 2, 3])"
   ]
  },
  {
   "cell_type": "code",
   "execution_count": 11,
   "metadata": {},
   "outputs": [
    {
     "data": {
      "text/plain": [
       "[1, 2, 3, 5, 6, 8]"
      ]
     },
     "execution_count": 11,
     "metadata": {},
     "output_type": "execute_result"
    }
   ],
   "source": [
    "# Array sorting solution\n",
    "\n",
    "def removeDuplicates(arr):\n",
    "    if len(arr) == 0:\n",
    "        return []\n",
    "    arr.sort()\n",
    "    noDuplicatesArr = [arr[0]]\n",
    "    for i in range(1, len(arr)):\n",
    "        if arr[i] != arr[i-1]:\n",
    "            noDuplicatesArr.append(arr[i])\n",
    "    return noDuplicatesArr\n",
    "\n",
    "removeDuplicates([1, 8, 6, 2, 2, 3, 1, 5, 6, 2, 8, 2, 6, 8, 2, 3])"
   ]
  },
  {
   "cell_type": "code",
   "execution_count": 12,
   "metadata": {},
   "outputs": [
    {
     "data": {
      "text/plain": [
       "[1, 8, 6, 2, 3, 5]"
      ]
     },
     "execution_count": 12,
     "metadata": {},
     "output_type": "execute_result"
    }
   ],
   "source": [
    "# No lookup hash table :)\n",
    "\n",
    "def removeDuplicates(arr):\n",
    "    visited = {}\n",
    "    for element in arr:\n",
    "            visited[element] = True\n",
    "    return list(visited.keys())\n",
    "\n",
    "removeDuplicates([1, 8, 6, 2, 2, 3, 1, 5, 6, 2, 8, 2, 6, 8, 2, 3])"
   ]
  }
 ],
 "metadata": {
  "interpreter": {
   "hash": "c469c999aae2bf6d578d6881606ced546d1546d312a4811937df5b24665ee8bc"
  },
  "kernelspec": {
   "display_name": "Python 3.7.6 ('base')",
   "language": "python",
   "name": "python3"
  },
  "language_info": {
   "codemirror_mode": {
    "name": "ipython",
    "version": 3
   },
   "file_extension": ".py",
   "mimetype": "text/x-python",
   "name": "python",
   "nbconvert_exporter": "python",
   "pygments_lexer": "ipython3",
   "version": "3.7.6"
  },
  "orig_nbformat": 4
 },
 "nbformat": 4,
 "nbformat_minor": 2
}
