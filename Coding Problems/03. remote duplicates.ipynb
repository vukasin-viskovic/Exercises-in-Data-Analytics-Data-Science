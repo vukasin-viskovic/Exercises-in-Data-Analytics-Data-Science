{
 "cells": [
  {
   "cell_type": "markdown",
   "metadata": {},
   "source": [
    "# Remote duplicates\n",
    "\n",
    "Given an array of integers `arr`, create a function that returns an array containing the values of `arr` without duplicates (the order doesn't matter)."
   ]
  },
  {
   "cell_type": "code",
   "execution_count": 5,
   "metadata": {},
   "outputs": [
    {
     "data": {
      "text/plain": [
       "[1, 8, 6, 2, 3, 5]"
      ]
     },
     "execution_count": 5,
     "metadata": {},
     "output_type": "execute_result"
    }
   ],
   "source": [
    "# Parameters:\n",
    "# arr: List[int]\n",
    "# return type: List[int]\n",
    "\n",
    "def removeDuplicates(arr):\n",
    "    visited = {}\n",
    "    for element in arr:\n",
    "        if visited.get(element):\n",
    "            continue\n",
    "        else: \n",
    "            visited[element] = True\n",
    "    return list(visited.keys())\n",
    "\n",
    "removeDuplicates([1, 8, 6, 2, 2, 3, 1, 5, 6, 2, 8, 2, 6, 8, 2, 3])"
   ]
  }
 ],
 "metadata": {
  "interpreter": {
   "hash": "c469c999aae2bf6d578d6881606ced546d1546d312a4811937df5b24665ee8bc"
  },
  "kernelspec": {
   "display_name": "Python 3.7.6 ('base')",
   "language": "python",
   "name": "python3"
  },
  "language_info": {
   "codemirror_mode": {
    "name": "ipython",
    "version": 3
   },
   "file_extension": ".py",
   "mimetype": "text/x-python",
   "name": "python",
   "nbconvert_exporter": "python",
   "pygments_lexer": "ipython3",
   "version": "3.7.6"
  },
  "orig_nbformat": 4
 },
 "nbformat": 4,
 "nbformat_minor": 2
}
