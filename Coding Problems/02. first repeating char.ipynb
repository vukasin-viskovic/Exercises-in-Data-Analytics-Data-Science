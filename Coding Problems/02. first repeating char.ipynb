{
 "cells": [
  {
   "cell_type": "markdown",
   "metadata": {},
   "source": [
    "# First repeating character\n",
    "\n",
    "Given a string, create a function that returns the first repeating character. \n",
    "\n",
    "If such character doesn't exist, return the null character '\\0'."
   ]
  },
  {
   "cell_type": "code",
   "execution_count": 1,
   "metadata": {},
   "outputs": [],
   "source": [
    "# Parameters:\n",
    "#  str: str\n",
    "# return type: char\n",
    "\n",
    "def firstRepeatingCharacter(str):\n",
    "    # your code here\n",
    "    pass"
   ]
  },
  {
   "cell_type": "code",
   "execution_count": 86,
   "metadata": {},
   "outputs": [
    {
     "name": "stdout",
     "output_type": "stream",
     "text": [
      "n\n"
     ]
    }
   ],
   "source": [
    "# My not-very-elegant solution:\n",
    "\n",
    "def firstRepeatingCharacter(str):\n",
    "    d = {}\n",
    "    for i in range(len(str)-1):\n",
    "        for j in range(i + 1, len(str)):\n",
    "            if str[i] == str[j]:\n",
    "                d[str[i]] = j - i # key: letter # value: distance from its duplicate \n",
    "\n",
    "    if d == {}:\n",
    "        return '\\0'\n",
    "    \n",
    "    else:\n",
    "        key_list = list(d.keys())\n",
    "        val_list = list(d.values())\n",
    "        \n",
    "        position_min = val_list.index(sorted(val_list)[0])\n",
    "        print(key_list[position_min])\n",
    "\n",
    "firstRepeatingCharacter('ibnnbi')"
   ]
  },
  {
   "cell_type": "code",
   "execution_count": 87,
   "metadata": {},
   "outputs": [
    {
     "data": {
      "text/plain": [
       "'\\x00'"
      ]
     },
     "execution_count": 87,
     "metadata": {},
     "output_type": "execute_result"
    }
   ],
   "source": [
    "firstRepeatingCharacter('abc')"
   ]
  },
  {
   "cell_type": "code",
   "execution_count": 69,
   "metadata": {},
   "outputs": [
    {
     "name": "stdout",
     "output_type": "stream",
     "text": [
      "n\n"
     ]
    },
    {
     "data": {
      "text/plain": [
       "'\\x00'"
      ]
     },
     "execution_count": 69,
     "metadata": {},
     "output_type": "execute_result"
    }
   ],
   "source": [
    "# Brute force solution\n",
    "\n",
    "def firstRepeatingCharacter(str):\n",
    "    for i in range(len(str)):\n",
    "        for j in range(i):\n",
    "            if str[i] == str[j]:\n",
    "                return str[i]\n",
    "    return '\\0'\n",
    "\n",
    "print(firstRepeatingCharacter('ibnnbi'))\n",
    "firstRepeatingCharacter('abc')"
   ]
  },
  {
   "cell_type": "code",
   "execution_count": 70,
   "metadata": {},
   "outputs": [
    {
     "name": "stdout",
     "output_type": "stream",
     "text": [
      "n\n"
     ]
    },
    {
     "data": {
      "text/plain": [
       "'\\x00'"
      ]
     },
     "execution_count": 70,
     "metadata": {},
     "output_type": "execute_result"
    }
   ],
   "source": [
    "# Already visited solution\n",
    "\n",
    "def firstRepeatingCharacter(str):\n",
    "    visited = {}\n",
    "    for ch in str:\n",
    "        if visited.get(ch):\n",
    "            return ch\n",
    "        else:\n",
    "            visited[ch] = True\n",
    "    return '\\0'\n",
    "\n",
    "print(firstRepeatingCharacter('ibnnbi'))\n",
    "firstRepeatingCharacter('abc')"
   ]
  }
 ],
 "metadata": {
  "interpreter": {
   "hash": "c469c999aae2bf6d578d6881606ced546d1546d312a4811937df5b24665ee8bc"
  },
  "kernelspec": {
   "display_name": "Python 3.7.6 ('base')",
   "language": "python",
   "name": "python3"
  },
  "language_info": {
   "codemirror_mode": {
    "name": "ipython",
    "version": 3
   },
   "file_extension": ".py",
   "mimetype": "text/x-python",
   "name": "python",
   "nbconvert_exporter": "python",
   "pygments_lexer": "ipython3",
   "version": "3.7.6"
  },
  "orig_nbformat": 4
 },
 "nbformat": 4,
 "nbformat_minor": 2
}
