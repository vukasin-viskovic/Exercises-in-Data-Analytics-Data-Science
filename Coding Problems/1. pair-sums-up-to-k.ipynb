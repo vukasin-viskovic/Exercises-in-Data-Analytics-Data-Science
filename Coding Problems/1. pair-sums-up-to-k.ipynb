{
 "cells": [
  {
   "cell_type": "markdown",
   "metadata": {},
   "source": [
    "# Pair that sums up to *k*?\n",
    "\n",
    "**Input**: array of integers `arr`, integer `k`\n",
    "\n",
    "**Description**: given array of integers `arr`, and integer `k`, create a boolean function that checks whether 2 elements exist in `arr` such that their sum equals to `k`"
   ]
  },
  {
   "cell_type": "code",
   "execution_count": 1,
   "metadata": {},
   "outputs": [],
   "source": [
    "# Parameters:\n",
    "#   arr: List[int]\n",
    "#   k: int\n",
    "# return type: bool\n",
    "\n",
    "def findPair(arr, k):\n",
    "    # your code here\n",
    "    pass"
   ]
  },
  {
   "cell_type": "code",
   "execution_count": 2,
   "metadata": {},
   "outputs": [
    {
     "data": {
      "text/plain": [
       "False"
      ]
     },
     "execution_count": 2,
     "metadata": {},
     "output_type": "execute_result"
    }
   ],
   "source": [
    "# Brute force solution\n",
    "\n",
    "def findPair(arr, k):\n",
    "    for i in range(len(arr)):\n",
    "        for j in range(i+1, len(arr)):\n",
    "            if arr[i] + arr[j] == k:\n",
    "                return True\n",
    "    return False\n",
    "\n",
    "arr = [4, 5, 1, 7, 2]\n",
    "k = 2\n",
    "\n",
    "findPair(arr, k)"
   ]
  },
  {
   "cell_type": "markdown",
   "metadata": {},
   "source": [
    "- Constant space complexity \n",
    "- Time complexity (n2)"
   ]
  },
  {
   "cell_type": "code",
   "execution_count": 3,
   "metadata": {},
   "outputs": [
    {
     "data": {
      "text/plain": [
       "True"
      ]
     },
     "execution_count": 3,
     "metadata": {},
     "output_type": "execute_result"
    }
   ],
   "source": [
    "# Two pointers:\n",
    "\n",
    "def findPair(arr, k):\n",
    "    arr.sort() # in place\n",
    "    left = 0\n",
    "    right = len(arr) - 1\n",
    "    while left < right:\n",
    "        if arr[left] + arr[right] == k:\n",
    "            return True\n",
    "        elif arr[left] + arr[right] < k:\n",
    "            left += 1\n",
    "        else:\n",
    "            right -= 1\n",
    "    return False\n",
    "\n",
    "arr = [4, 5, 1, 7, 2]\n",
    "k = 9\n",
    "\n",
    "findPair(arr, k)"
   ]
  },
  {
   "cell_type": "code",
   "execution_count": 4,
   "metadata": {},
   "outputs": [
    {
     "data": {
      "text/plain": [
       "True"
      ]
     },
     "execution_count": 4,
     "metadata": {},
     "output_type": "execute_result"
    }
   ],
   "source": [
    "def findPair(arr, k):\n",
    "    visited = {} # dictionary\n",
    "    for element in arr:\n",
    "        if visited.get(k-element):\n",
    "            return True\n",
    "        else:\n",
    "            visited[element] = True\n",
    "    return False\n",
    "\n",
    "arr = [4, 5, 1, 7, 2]\n",
    "k = 11\n",
    "\n",
    "findPair(arr, k)"
   ]
  }
 ],
 "metadata": {
  "interpreter": {
   "hash": "c469c999aae2bf6d578d6881606ced546d1546d312a4811937df5b24665ee8bc"
  },
  "kernelspec": {
   "display_name": "Python 3.7.6 ('base')",
   "language": "python",
   "name": "python3"
  },
  "language_info": {
   "codemirror_mode": {
    "name": "ipython",
    "version": 3
   },
   "file_extension": ".py",
   "mimetype": "text/x-python",
   "name": "python",
   "nbconvert_exporter": "python",
   "pygments_lexer": "ipython3",
   "version": "3.7.6"
  },
  "orig_nbformat": 4
 },
 "nbformat": 4,
 "nbformat_minor": 2
}
