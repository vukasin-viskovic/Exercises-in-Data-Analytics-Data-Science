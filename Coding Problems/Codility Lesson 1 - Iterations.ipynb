{
 "cells": [
  {
   "cell_type": "markdown",
   "metadata": {},
   "source": [
    "# Lesson 1 - Iterations\n",
    "\n",
    "[PDF](https://codility.com/media/train/Iterations.pdf)\n",
    "\n",
    "### Basic syntax"
   ]
  },
  {
   "cell_type": "code",
   "execution_count": 3,
   "metadata": {},
   "outputs": [
    {
     "name": "stdout",
     "output_type": "stream",
     "text": [
      "0\n",
      "1\n",
      "2\n",
      "3\n",
      "4\n"
     ]
    }
   ],
   "source": [
    "for i in range(0, 5):\n",
    "    print(i)"
   ]
  },
  {
   "cell_type": "code",
   "execution_count": 4,
   "metadata": {},
   "outputs": [
    {
     "name": "stdout",
     "output_type": "stream",
     "text": [
      "0\n",
      "1\n",
      "2\n",
      "3\n",
      "4\n"
     ]
    }
   ],
   "source": [
    "for i in range(5):\n",
    "    print(i)"
   ]
  },
  {
   "cell_type": "markdown",
   "metadata": {},
   "source": [
    "### Example 1\n",
    " \n",
    "We are given some positive integer n. \n",
    "\n",
    "Let’s compute the factorial of n and assign it to the variable factorial."
   ]
  },
  {
   "cell_type": "code",
   "execution_count": 18,
   "metadata": {},
   "outputs": [
    {
     "name": "stdout",
     "output_type": "stream",
     "text": [
      "i is now equal to 1\n",
      "factorial is now equal to 1\n",
      "\tfactorial is now equal to 1 * 1 = 1\n",
      "\n",
      "i is now equal to 2\n",
      "factorial is now equal to 1\n",
      "\tfactorial is now equal to 1 * 2 = 2\n",
      "\n",
      "i is now equal to 3\n",
      "factorial is now equal to 2\n",
      "\tfactorial is now equal to 2 * 3 = 6\n",
      "\n",
      "i is now equal to 4\n",
      "factorial is now equal to 6\n",
      "\tfactorial is now equal to 6 * 4 = 24\n",
      "\n",
      "24\n"
     ]
    }
   ],
   "source": [
    "def factorial_function(n):\n",
    "    factorial = 1\n",
    "\n",
    "    for i in range(1, n+1):\n",
    "        print(f'i is now equal to {i}')\n",
    "        print(f'factorial is now equal to {factorial}')\n",
    "        print(f'\\tfactorial is now equal to {factorial} * {i} = {factorial * i}\\n')\n",
    "        \n",
    "        factorial *= i\n",
    "\n",
    "    print(factorial)\n",
    "\n",
    "factorial_function(4)"
   ]
  },
  {
   "cell_type": "code",
   "execution_count": 25,
   "metadata": {},
   "outputs": [],
   "source": [
    "# To make it simple, clean and scalable: \n",
    "\n",
    "def factorial_function(n):\n",
    "    factorial = 1\n",
    "    for i in range(1, n+1):\n",
    "        factorial *= i\n",
    "    print(factorial)"
   ]
  },
  {
   "cell_type": "markdown",
   "metadata": {},
   "source": [
    "### Example 2\n",
    "Let’s print a triangle made of asterisks (‘*’) **separated by spaces**. \n",
    "\n",
    "The triangle should consist of n rows, where n is a given positive integer, and consecutive rows should contain 1, 2, . . . , n asterisks. "
   ]
  },
  {
   "cell_type": "code",
   "execution_count": 36,
   "metadata": {},
   "outputs": [
    {
     "name": "stdout",
     "output_type": "stream",
     "text": [
      "* \n",
      "* * \n",
      "* * * \n",
      "* * * * \n",
      "* * * * * \n"
     ]
    }
   ],
   "source": [
    "# My solution:\n",
    "\n",
    "def triangle(n):\n",
    "    s = '* '\n",
    "    for i in range(1, n+1):\n",
    "        print(i * s)\n",
    "\n",
    "triangle(5)"
   ]
  },
  {
   "cell_type": "code",
   "execution_count": 72,
   "metadata": {},
   "outputs": [
    {
     "name": "stdout",
     "output_type": "stream",
     "text": [
      "* \n",
      "\n",
      "* * \n",
      "\n",
      "* * * \n",
      "\n",
      "* * * * \n",
      "\n",
      "* * * * * \n",
      "\n"
     ]
    }
   ],
   "source": [
    "# Codility's solution:\n",
    "\n",
    "def triangle_cod(n):\n",
    "    for i in range(1, 5 + 1):\n",
    "        for j in range(i):\n",
    "            print('*', end=' ')\n",
    "        print('\\n')\n",
    "\n",
    "triangle_cod(5)"
   ]
  },
  {
   "cell_type": "code",
   "execution_count": 77,
   "metadata": {},
   "outputs": [
    {
     "name": "stdout",
     "output_type": "stream",
     "text": [
      "0\n"
     ]
    }
   ],
   "source": [
    "for i in range(1):\n",
    "    print(i)"
   ]
  },
  {
   "cell_type": "markdown",
   "metadata": {},
   "source": [
    "### Example 3 \n",
    " \n",
    "Let’s print a triangle made of asterisks (‘*’) separated by spaces and consisting of n rows again, but this time upside down, and make it symmetrical. \n",
    "\n",
    "Consecutive rows should contain 2n − 1, 2n − 3, . . . , 3, 1 asterisks and should be indented by 0, 2, 4, . . . , 2(n − 1)\n",
    "spaces. "
   ]
  },
  {
   "cell_type": "markdown",
   "metadata": {},
   "source": [
    "`range(start, stop, step)`"
   ]
  },
  {
   "cell_type": "code",
   "execution_count": 34,
   "metadata": {},
   "outputs": [
    {
     "name": "stdout",
     "output_type": "stream",
     "text": [
      "5\n",
      "4\n",
      "3\n",
      "2\n",
      "1\n",
      "0\n"
     ]
    }
   ],
   "source": [
    "for i in range(5, -1, -1):\n",
    "    print(i)"
   ]
  },
  {
   "cell_type": "code",
   "execution_count": 80,
   "metadata": {},
   "outputs": [
    {
     "name": "stdout",
     "output_type": "stream",
     "text": [
      "* * * * * * * * * \n",
      "\n",
      "  * * * * * * * \n",
      "\n",
      "    * * * * * \n",
      "\n",
      "      * * * \n",
      "\n",
      "        * \n",
      "\n"
     ]
    }
   ],
   "source": [
    "def triangle_upside_down(n):\n",
    "    for i in range(n, 0, -1):\n",
    "        for j in range(n - i):\n",
    "            print(' ', end = ' '),\n",
    "        for j in range(2 * i - 1):\n",
    "            print('*', end = ' '),\n",
    "        print('\\n')\n",
    "        \n",
    "triangle_upside_down(5)"
   ]
  }
 ],
 "metadata": {
  "interpreter": {
   "hash": "c469c999aae2bf6d578d6881606ced546d1546d312a4811937df5b24665ee8bc"
  },
  "kernelspec": {
   "display_name": "Python 3.7.6 ('base')",
   "language": "python",
   "name": "python3"
  },
  "language_info": {
   "codemirror_mode": {
    "name": "ipython",
    "version": 3
   },
   "file_extension": ".py",
   "mimetype": "text/x-python",
   "name": "python",
   "nbconvert_exporter": "python",
   "pygments_lexer": "ipython3",
   "version": "3.7.6"
  },
  "orig_nbformat": 4
 },
 "nbformat": 4,
 "nbformat_minor": 2
}
