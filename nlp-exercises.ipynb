{
  "nbformat": 4,
  "nbformat_minor": 0,
  "metadata": {
    "colab": {
      "name": "nlp.ipynb",
      "provenance": [],
      "collapsed_sections": [],
      "authorship_tag": "ABX9TyMvNA3VRxCQf5z9djcGVz3h",
      "include_colab_link": true
    },
    "kernelspec": {
      "name": "python3",
      "display_name": "Python 3"
    },
    "language_info": {
      "name": "python"
    }
  },
  "cells": [
    {
      "cell_type": "markdown",
      "metadata": {
        "id": "view-in-github",
        "colab_type": "text"
      },
      "source": [
        "<a href=\"https://colab.research.google.com/github/vuxvix/Exercises-in-Data-Analytics-Data-Science/blob/master/nlp-exercises.ipynb\" target=\"_parent\"><img src=\"https://colab.research.google.com/assets/colab-badge.svg\" alt=\"Open In Colab\"/></a>"
      ]
    },
    {
      "cell_type": "markdown",
      "source": [
        "# Exercises in NLP\n",
        "\n",
        "I used my own data for the exercises below, but I relied on Keith Galli's [code](https://github.com/KeithGalli/pycon2020) and youtube [tutorial](https://youtu.be/M7SWr5xObkA) to perform the analyses..."
      ],
      "metadata": {
        "id": "EoyMlBq3I6rh"
      }
    },
    {
      "cell_type": "code",
      "source": [
        "alice = '''\n",
        "Alice was beginning to get very tired of sitting by her sister on the bank, and of having nothing to do: once or twice she had peeped into the book her sister was reading, but it had no pictures or conversations in it, “and what is the use of a book,” thought Alice “without pictures or conversations?”\n",
        "\n",
        "So she was considering in her own mind (as well as she could, for the hot day made her feel very sleepy and stupid), whether the pleasure of making a daisy-chain would be worth the trouble of getting up and picking the daisies, when suddenly a White Rabbit with pink eyes ran close by her.\n",
        "\n",
        "There was nothing so very remarkable in that; nor did Alice think it so very much out of the way to hear the Rabbit say to itself, “Oh dear! Oh dear! I shall be late!” (when she thought it over afterwards, it occurred to her that she ought to have wondered at this, but at the time it all seemed quite natural); but when the Rabbit actually took a watch out of its waistcoat-pocket, and looked at it, and then hurried on, Alice started to her feet, for it flashed across her mind that she had never before seen a rabbit with either a waistcoat-pocket, or a watch to take out of it, and burning with curiosity, she ran across the field after it, and fortunately was just in time to see it pop down a large rabbit-hole under the hedge.\n",
        "\n",
        "In another moment down went Alice after it, never once considering how in the world she was to get out again.\n",
        "\n",
        "The rabbit-hole went straight on like a tunnel for some way, and then dipped suddenly down, so suddenly that Alice had not a moment to think about stopping herself before she found herself falling down a very deep well.\n",
        "\n",
        "Either the well was very deep, or she fell very slowly, for she had plenty of time as she went down to look about her and to wonder what was going to happen next. First, she tried to look down and make out what she was coming to, but it was too dark to see anything; then she looked at the sides of the well, and noticed that they were filled with cupboards and book-shelves; here and there she saw maps and pictures hung upon pegs. She took down a jar from one of the shelves as she passed; it was labelled “ORANGE MARMALADE”, but to her great disappointment it was empty: she did not like to drop the jar for fear of killing somebody underneath, so managed to put it into one of the cupboards as she fell past it.\n",
        "\n",
        "“Well!” thought Alice to herself, “after such a fall as this, I shall think nothing of tumbling down stairs! How brave they’ll all think me at home! Why, I wouldn’t say anything about it, even if I fell off the top of the house!” (Which was very likely true.)\n",
        "\n",
        "Down, down, down. Would the fall never come to an end? “I wonder how many miles I’ve fallen by this time?” she said aloud. “I must be getting somewhere near the centre of the earth. Let me see: that would be four thousand miles down, I think—” (for, you see, Alice had learnt several things of this sort in her lessons in the schoolroom, and though this was not a very good opportunity for showing off her knowledge, as there was no one to listen to her, still it was good practice to say it over) “—yes, that’s about the right distance—but then I wonder what Latitude or Longitude I’ve got to?” (Alice had no idea what Latitude was, or Longitude either, but thought they were nice grand words to say.)\n",
        "'''\n",
        "\n",
        "ahab = '''\n",
        "Call me Ishmael. Some years ago—never mind how long precisely—having little or no money in my purse, and nothing particular to interest me on shore, I thought I would sail about a little and see the watery part of the world. It is a way I have of driving off the spleen and regulating the circulation. Whenever I find myself growing grim about the mouth; whenever it is a damp, drizzly November in my soul; whenever I find myself involuntarily pausing before coffin warehouses, and bringing up the rear of every funeral I meet; and especially whenever my hypos get such an upper hand of me, that it requires a strong moral principle to prevent me from deliberately stepping into the street, and methodically knocking people’s hats off—then, I account it high time to get to sea as soon as I can. This is my substitute for pistol and ball. With a philosophical flourish Cato throws himself upon his sword; I quietly take to the ship. There is nothing surprising in this. If they but knew it, almost all men in their degree, some time or other, cherish very nearly the same feelings towards the ocean with me.\n",
        "\n",
        "There now is your insular city of the Manhattoes, belted round by wharves as Indian isles by coral reefs—commerce surrounds it with her surf. Right and left, the streets take you waterward. Its extreme downtown is the battery, where that noble mole is washed by waves, and cooled by breezes, which a few hours previous were out of sight of land. Look at the crowds of water-gazers there.\n",
        "\n",
        "Circumambulate the city of a dreamy Sabbath afternoon. Go from Corlears Hook to Coenties Slip, and from thence, by Whitehall, northward. What do you see?—Posted like silent sentinels all around the town, stand thousands upon thousands of mortal men fixed in ocean reveries. Some leaning against the spiles; some seated upon the pier-heads; some looking over the bulwarks of ships from China; some high aloft in the rigging, as if striving to get a still better seaward peep. But these are all landsmen; of week days pent up in lath and plaster—tied to counters, nailed to benches, clinched to desks. How then is this? Are the green fields gone? What do they here?\n",
        "'''"
      ],
      "metadata": {
        "id": "YiN8-jmjJwam"
      },
      "execution_count": null,
      "outputs": []
    },
    {
      "cell_type": "code",
      "source": [
        "import re\n",
        "\n",
        "def cleaning(long_string):\n",
        "  long_string = re.sub('[,;:”“\\n()]', '', long_string)\n",
        "  long_string = re.split(\"[.!?]\", long_string)\n",
        "  while '' in long_string:\n",
        "    long_string.remove('')\n",
        "      \n",
        "  return long_string\n",
        "\n",
        "alice = cleaning(alice)\n",
        "ahab = cleaning(ahab)"
      ],
      "metadata": {
        "id": "QQ8rSd09NSEg"
      },
      "execution_count": null,
      "outputs": []
    },
    {
      "cell_type": "code",
      "source": [
        "print(alice)\n",
        "print(ahab)"
      ],
      "metadata": {
        "colab": {
          "base_uri": "https://localhost:8080/"
        },
        "id": "wsFc-SDoRRtA",
        "outputId": "a27cc24e-f090-4c9d-b25f-1b1cc3a70c42"
      },
      "execution_count": null,
      "outputs": [
        {
          "output_type": "stream",
          "name": "stdout",
          "text": [
            "['Alice was beginning to get very tired of sitting by her sister on the bank and of having nothing to do once or twice she had peeped into the book her sister was reading but it had no pictures or conversations in it and what is the use of a book thought Alice without pictures or conversations', 'So she was considering in her own mind as well as she could for the hot day made her feel very sleepy and stupid whether the pleasure of making a daisy-chain would be worth the trouble of getting up and picking the daisies when suddenly a White Rabbit with pink eyes ran close by her', 'There was nothing so very remarkable in that nor did Alice think it so very much out of the way to hear the Rabbit say to itself Oh dear', ' Oh dear', ' I shall be late', ' when she thought it over afterwards it occurred to her that she ought to have wondered at this but at the time it all seemed quite natural but when the Rabbit actually took a watch out of its waistcoat-pocket and looked at it and then hurried on Alice started to her feet for it flashed across her mind that she had never before seen a rabbit with either a waistcoat-pocket or a watch to take out of it and burning with curiosity she ran across the field after it and fortunately was just in time to see it pop down a large rabbit-hole under the hedge', 'In another moment down went Alice after it never once considering how in the world she was to get out again', 'The rabbit-hole went straight on like a tunnel for some way and then dipped suddenly down so suddenly that Alice had not a moment to think about stopping herself before she found herself falling down a very deep well', 'Either the well was very deep or she fell very slowly for she had plenty of time as she went down to look about her and to wonder what was going to happen next', ' First she tried to look down and make out what she was coming to but it was too dark to see anything then she looked at the sides of the well and noticed that they were filled with cupboards and book-shelves here and there she saw maps and pictures hung upon pegs', ' She took down a jar from one of the shelves as she passed it was labelled ORANGE MARMALADE but to her great disappointment it was empty she did not like to drop the jar for fear of killing somebody underneath so managed to put it into one of the cupboards as she fell past it', 'Well', ' thought Alice to herself after such a fall as this I shall think nothing of tumbling down stairs', ' How brave they’ll all think me at home', ' Why I wouldn’t say anything about it even if I fell off the top of the house', ' Which was very likely true', 'Down down down', ' Would the fall never come to an end', ' I wonder how many miles I’ve fallen by this time', ' she said aloud', ' I must be getting somewhere near the centre of the earth', ' Let me see that would be four thousand miles down I think— for you see Alice had learnt several things of this sort in her lessons in the schoolroom and though this was not a very good opportunity for showing off her knowledge as there was no one to listen to her still it was good practice to say it over —yes that’s about the right distance—but then I wonder what Latitude or Longitude I’ve got to', ' Alice had no idea what Latitude was or Longitude either but thought they were nice grand words to say']\n",
            "['Call me Ishmael', ' Some years ago—never mind how long precisely—having little or no money in my purse and nothing particular to interest me on shore I thought I would sail about a little and see the watery part of the world', ' It is a way I have of driving off the spleen and regulating the circulation', ' Whenever I find myself growing grim about the mouth whenever it is a damp drizzly November in my soul whenever I find myself involuntarily pausing before coffin warehouses and bringing up the rear of every funeral I meet and especially whenever my hypos get such an upper hand of me that it requires a strong moral principle to prevent me from deliberately stepping into the street and methodically knocking people’s hats off—then I account it high time to get to sea as soon as I can', ' This is my substitute for pistol and ball', ' With a philosophical flourish Cato throws himself upon his sword I quietly take to the ship', ' There is nothing surprising in this', ' If they but knew it almost all men in their degree some time or other cherish very nearly the same feelings towards the ocean with me', 'There now is your insular city of the Manhattoes belted round by wharves as Indian isles by coral reefs—commerce surrounds it with her surf', ' Right and left the streets take you waterward', ' Its extreme downtown is the battery where that noble mole is washed by waves and cooled by breezes which a few hours previous were out of sight of land', ' Look at the crowds of water-gazers there', 'Circumambulate the city of a dreamy Sabbath afternoon', ' Go from Corlears Hook to Coenties Slip and from thence by Whitehall northward', ' What do you see', '—Posted like silent sentinels all around the town stand thousands upon thousands of mortal men fixed in ocean reveries', ' Some leaning against the spiles some seated upon the pier-heads some looking over the bulwarks of ships from China some high aloft in the rigging as if striving to get a still better seaward peep', ' But these are all landsmen of week days pent up in lath and plaster—tied to counters nailed to benches clinched to desks', ' How then is this', ' Are the green fields gone', ' What do they here']\n"
          ]
        }
      ]
    },
    {
      "cell_type": "code",
      "source": [
        "class Category:\n",
        "  ALICE = \"ALICE\"\n",
        "  AHAB = \"AHAB\"\n",
        "\n",
        "train_alice = []\n",
        "for sentence in alice:\n",
        "  train_alice.append(Category.ALICE)\n",
        "\n",
        "train_ahab = []\n",
        "for sentence in ahab:\n",
        "  train_ahab.append(Category.AHAB)\n",
        "\n",
        "train_x = alice + ahab\n",
        "train_y = train_alice + train_ahab\n",
        "\n",
        "print(train_x)\n",
        "print(train_y)"
      ],
      "metadata": {
        "colab": {
          "base_uri": "https://localhost:8080/"
        },
        "id": "bjVnAL6jOJlJ",
        "outputId": "329cb0c3-8885-4258-8026-a8872acd02a4"
      },
      "execution_count": null,
      "outputs": [
        {
          "output_type": "stream",
          "name": "stdout",
          "text": [
            "['Alice was beginning to get very tired of sitting by her sister on the bank and of having nothing to do once or twice she had peeped into the book her sister was reading but it had no pictures or conversations in it and what is the use of a book thought Alice without pictures or conversations', 'So she was considering in her own mind as well as she could for the hot day made her feel very sleepy and stupid whether the pleasure of making a daisy-chain would be worth the trouble of getting up and picking the daisies when suddenly a White Rabbit with pink eyes ran close by her', 'There was nothing so very remarkable in that nor did Alice think it so very much out of the way to hear the Rabbit say to itself Oh dear', ' Oh dear', ' I shall be late', ' when she thought it over afterwards it occurred to her that she ought to have wondered at this but at the time it all seemed quite natural but when the Rabbit actually took a watch out of its waistcoat-pocket and looked at it and then hurried on Alice started to her feet for it flashed across her mind that she had never before seen a rabbit with either a waistcoat-pocket or a watch to take out of it and burning with curiosity she ran across the field after it and fortunately was just in time to see it pop down a large rabbit-hole under the hedge', 'In another moment down went Alice after it never once considering how in the world she was to get out again', 'The rabbit-hole went straight on like a tunnel for some way and then dipped suddenly down so suddenly that Alice had not a moment to think about stopping herself before she found herself falling down a very deep well', 'Either the well was very deep or she fell very slowly for she had plenty of time as she went down to look about her and to wonder what was going to happen next', ' First she tried to look down and make out what she was coming to but it was too dark to see anything then she looked at the sides of the well and noticed that they were filled with cupboards and book-shelves here and there she saw maps and pictures hung upon pegs', ' She took down a jar from one of the shelves as she passed it was labelled ORANGE MARMALADE but to her great disappointment it was empty she did not like to drop the jar for fear of killing somebody underneath so managed to put it into one of the cupboards as she fell past it', 'Well', ' thought Alice to herself after such a fall as this I shall think nothing of tumbling down stairs', ' How brave they’ll all think me at home', ' Why I wouldn’t say anything about it even if I fell off the top of the house', ' Which was very likely true', 'Down down down', ' Would the fall never come to an end', ' I wonder how many miles I’ve fallen by this time', ' she said aloud', ' I must be getting somewhere near the centre of the earth', ' Let me see that would be four thousand miles down I think— for you see Alice had learnt several things of this sort in her lessons in the schoolroom and though this was not a very good opportunity for showing off her knowledge as there was no one to listen to her still it was good practice to say it over —yes that’s about the right distance—but then I wonder what Latitude or Longitude I’ve got to', ' Alice had no idea what Latitude was or Longitude either but thought they were nice grand words to say', 'Call me Ishmael', ' Some years ago—never mind how long precisely—having little or no money in my purse and nothing particular to interest me on shore I thought I would sail about a little and see the watery part of the world', ' It is a way I have of driving off the spleen and regulating the circulation', ' Whenever I find myself growing grim about the mouth whenever it is a damp drizzly November in my soul whenever I find myself involuntarily pausing before coffin warehouses and bringing up the rear of every funeral I meet and especially whenever my hypos get such an upper hand of me that it requires a strong moral principle to prevent me from deliberately stepping into the street and methodically knocking people’s hats off—then I account it high time to get to sea as soon as I can', ' This is my substitute for pistol and ball', ' With a philosophical flourish Cato throws himself upon his sword I quietly take to the ship', ' There is nothing surprising in this', ' If they but knew it almost all men in their degree some time or other cherish very nearly the same feelings towards the ocean with me', 'There now is your insular city of the Manhattoes belted round by wharves as Indian isles by coral reefs—commerce surrounds it with her surf', ' Right and left the streets take you waterward', ' Its extreme downtown is the battery where that noble mole is washed by waves and cooled by breezes which a few hours previous were out of sight of land', ' Look at the crowds of water-gazers there', 'Circumambulate the city of a dreamy Sabbath afternoon', ' Go from Corlears Hook to Coenties Slip and from thence by Whitehall northward', ' What do you see', '—Posted like silent sentinels all around the town stand thousands upon thousands of mortal men fixed in ocean reveries', ' Some leaning against the spiles some seated upon the pier-heads some looking over the bulwarks of ships from China some high aloft in the rigging as if striving to get a still better seaward peep', ' But these are all landsmen of week days pent up in lath and plaster—tied to counters nailed to benches clinched to desks', ' How then is this', ' Are the green fields gone', ' What do they here']\n",
            "['ALICE', 'ALICE', 'ALICE', 'ALICE', 'ALICE', 'ALICE', 'ALICE', 'ALICE', 'ALICE', 'ALICE', 'ALICE', 'ALICE', 'ALICE', 'ALICE', 'ALICE', 'ALICE', 'ALICE', 'ALICE', 'ALICE', 'ALICE', 'ALICE', 'ALICE', 'ALICE', 'AHAB', 'AHAB', 'AHAB', 'AHAB', 'AHAB', 'AHAB', 'AHAB', 'AHAB', 'AHAB', 'AHAB', 'AHAB', 'AHAB', 'AHAB', 'AHAB', 'AHAB', 'AHAB', 'AHAB', 'AHAB', 'AHAB', 'AHAB', 'AHAB']\n"
          ]
        }
      ]
    },
    {
      "cell_type": "code",
      "source": [
        "count_alice = 0\n",
        "for element in train_y:\n",
        "  if element == Category.ALICE:\n",
        "    count_alice += 1\n",
        "\n",
        "count_ahab = len(train_y) - count_alice\n",
        "\n",
        "print(f\"There's {count_alice} instances of Alice\")\n",
        "print(f\"There's {count_ahab} instances of Ahab\")\n",
        "print(len(train_y))"
      ],
      "metadata": {
        "colab": {
          "base_uri": "https://localhost:8080/"
        },
        "id": "rMwHIORuUa-0",
        "outputId": "4ecc56dc-8c18-4468-9af9-54725a9d2476"
      },
      "execution_count": null,
      "outputs": [
        {
          "output_type": "stream",
          "name": "stdout",
          "text": [
            "There's 23 instances of Alice\n",
            "There's 21 instances of Ahab\n",
            "44\n"
          ]
        }
      ]
    },
    {
      "cell_type": "code",
      "source": [
        "from sklearn.feature_extraction.text import CountVectorizer\n",
        "\n",
        "vectorizer = CountVectorizer(binary = True, lowercase = True, stop_words = 'english', ngram_range = (1,2))\n",
        "train_x_vectors = vectorizer.fit_transform(train_x)\n",
        "\n",
        "print(vectorizer.get_feature_names_out()[:10])\n",
        "print(train_x_vectors.toarray()[:10])"
      ],
      "metadata": {
        "colab": {
          "base_uri": "https://localhost:8080/"
        },
        "id": "UyeYfCFuI-4n",
        "outputId": "8bed71cb-14c0-4a9c-ae3c-0bfad9f3709d"
      },
      "execution_count": null,
      "outputs": [
        {
          "output_type": "stream",
          "name": "stdout",
          "text": [
            "['account' 'account high' 'actually' 'actually took' 'afternoon' 'ago'\n",
            " 'ago mind' 'alice' 'alice beginning' 'alice considering']\n",
            "[[0 0 0 ... 0 0 0]\n",
            " [0 0 0 ... 0 0 0]\n",
            " [0 0 0 ... 0 0 0]\n",
            " ...\n",
            " [0 0 0 ... 0 0 0]\n",
            " [0 0 0 ... 0 0 0]\n",
            " [0 0 0 ... 0 0 0]]\n"
          ]
        }
      ]
    },
    {
      "cell_type": "code",
      "source": [
        "from sklearn import svm\n",
        "\n",
        "clf_svm = svm.SVC(kernel='linear')\n",
        "clf_svm.fit(train_x_vectors, train_y)"
      ],
      "metadata": {
        "colab": {
          "base_uri": "https://localhost:8080/"
        },
        "id": "rUOKmE1xOqNy",
        "outputId": "fcd10b06-aca2-475d-e7d6-94eba4dbf1da"
      },
      "execution_count": null,
      "outputs": [
        {
          "output_type": "execute_result",
          "data": {
            "text/plain": [
              "SVC(kernel='linear')"
            ]
          },
          "metadata": {},
          "execution_count": 134
        }
      ]
    },
    {
      "cell_type": "code",
      "source": [
        "## Test AHAB ## Made-up to roughly match the content :)\n",
        "test_x = vectorizer.transform(cleaning('I just love the sea life, hunting whales and tearing down their flesh!'))\n",
        "print(test_x)\n",
        "\n",
        "clf_svm.predict(test_x)"
      ],
      "metadata": {
        "colab": {
          "base_uri": "https://localhost:8080/"
        },
        "id": "LeucBNagPMyY",
        "outputId": "503d678c-df1f-4384-932e-78cda9f87c75"
      },
      "execution_count": null,
      "outputs": [
        {
          "output_type": "stream",
          "name": "stdout",
          "text": [
            "  (0, 246)\t1\n",
            "  (0, 473)\t1\n"
          ]
        },
        {
          "output_type": "execute_result",
          "data": {
            "text/plain": [
              "array(['AHAB'], dtype='<U5')"
            ]
          },
          "metadata": {},
          "execution_count": 135
        }
      ]
    },
    {
      "cell_type": "code",
      "source": [
        "## Test AHAB ## real example\n",
        "test_x = vectorizer.transform(cleaning('Say you are in the country; in some high land of lakes.'))\n",
        "print(test_x)\n",
        "\n",
        "clf_svm.predict(test_x)"
      ],
      "metadata": {
        "colab": {
          "base_uri": "https://localhost:8080/"
        },
        "id": "0mYhGHirWc4c",
        "outputId": "7814f6b5-0ab7-40ba-8b2c-498c10104a27"
      },
      "execution_count": null,
      "outputs": [
        {
          "output_type": "stream",
          "name": "stdout",
          "text": [
            "  (0, 212)\t1\n",
            "  (0, 258)\t1\n",
            "  (0, 467)\t1\n"
          ]
        },
        {
          "output_type": "execute_result",
          "data": {
            "text/plain": [
              "array(['AHAB'], dtype='<U5')"
            ]
          },
          "metadata": {},
          "execution_count": 136
        }
      ]
    },
    {
      "cell_type": "code",
      "source": [
        "## Test ALICE ## Made-up to roughly match the content :)\n",
        "test_x = vectorizer.transform(cleaning('Alice goes down the rabbit hole, she meets a cat and goes to Wonderland'))\n",
        "print(test_x)\n",
        "\n",
        "clf_svm.predict(test_x)"
      ],
      "metadata": {
        "colab": {
          "base_uri": "https://localhost:8080/"
        },
        "id": "5gcLVTJcRy87",
        "outputId": "d96ff6ba-4fc2-4c74-f1aa-dc7aff695ca7"
      },
      "execution_count": null,
      "outputs": [
        {
          "output_type": "stream",
          "name": "stdout",
          "text": [
            "  (0, 7)\t1\n",
            "  (0, 215)\t1\n",
            "  (0, 430)\t1\n",
            "  (0, 432)\t1\n"
          ]
        },
        {
          "output_type": "execute_result",
          "data": {
            "text/plain": [
              "array(['ALICE'], dtype='<U5')"
            ]
          },
          "metadata": {},
          "execution_count": 138
        }
      ]
    },
    {
      "cell_type": "code",
      "source": [
        "## Test ALICE ## Made-up to roughly match the content :)\n",
        "test_x = vectorizer.transform(cleaning('Alice, Alice, Alice, rabbit, hole, Wonderland, cat'))\n",
        "print(test_x)\n",
        "\n",
        "clf_svm.predict(test_x)"
      ],
      "metadata": {
        "colab": {
          "base_uri": "https://localhost:8080/"
        },
        "id": "rSlb0w8oYTmx",
        "outputId": "695dcf32-a1a7-4c2d-9ed2-2ed5877c3b73"
      },
      "execution_count": null,
      "outputs": [
        {
          "output_type": "stream",
          "name": "stdout",
          "text": [
            "  (0, 7)\t1\n",
            "  (0, 215)\t1\n",
            "  (0, 430)\t1\n",
            "  (0, 432)\t1\n"
          ]
        },
        {
          "output_type": "execute_result",
          "data": {
            "text/plain": [
              "array(['ALICE'], dtype='<U5')"
            ]
          },
          "metadata": {},
          "execution_count": 147
        }
      ]
    },
    {
      "cell_type": "code",
      "source": [
        "## Test ALICE ## real example\n",
        "test_x = vectorizer.transform(cleaning('There were doors all round the hall, but they were all locked; and when Alice had been all the way down one side and up the other, trying every door, she walked sadly down the middle, wondering how she was ever to get out again.'))\n",
        "\n",
        "print(test_x)\n",
        "\n",
        "clf_svm.predict(test_x) ## Predicts \"AHAB\" :("
      ],
      "metadata": {
        "colab": {
          "base_uri": "https://localhost:8080/"
        },
        "id": "82OlRJ-vWnUZ",
        "outputId": "2a6c328a-d3eb-451d-f5c3-1432d46b052e"
      },
      "execution_count": null,
      "outputs": [
        {
          "output_type": "stream",
          "name": "stdout",
          "text": [
            "  (0, 7)\t1\n",
            "  (0, 457)\t1\n",
            "  (0, 628)\t1\n"
          ]
        },
        {
          "output_type": "execute_result",
          "data": {
            "text/plain": [
              "array(['AHAB'], dtype='<U5')"
            ]
          },
          "metadata": {},
          "execution_count": 146
        }
      ]
    },
    {
      "cell_type": "markdown",
      "source": [
        "## Spacy"
      ],
      "metadata": {
        "id": "Gl4g9Oxxa0Ee"
      }
    },
    {
      "cell_type": "code",
      "source": [
        "!pip install spacy\n",
        "!python -m spacy download en_core_web_md"
      ],
      "metadata": {
        "id": "f9DXW-_aTGjI"
      },
      "execution_count": null,
      "outputs": []
    },
    {
      "cell_type": "code",
      "source": [
        "import spacy\n",
        "\n",
        "nlp = spacy.load(\"en_core_web_md\")"
      ],
      "metadata": {
        "id": "ns7WLz2CaDhn"
      },
      "execution_count": null,
      "outputs": []
    },
    {
      "cell_type": "code",
      "source": [
        "print(train_x)"
      ],
      "metadata": {
        "colab": {
          "base_uri": "https://localhost:8080/"
        },
        "id": "ToUhasIRa-re",
        "outputId": "cd587a4f-876c-4d77-fb73-3415577aa073"
      },
      "execution_count": null,
      "outputs": [
        {
          "output_type": "stream",
          "name": "stdout",
          "text": [
            "['Alice was beginning to get very tired of sitting by her sister on the bank and of having nothing to do once or twice she had peeped into the book her sister was reading but it had no pictures or conversations in it and what is the use of a book thought Alice without pictures or conversations', 'So she was considering in her own mind as well as she could for the hot day made her feel very sleepy and stupid whether the pleasure of making a daisy-chain would be worth the trouble of getting up and picking the daisies when suddenly a White Rabbit with pink eyes ran close by her', 'There was nothing so very remarkable in that nor did Alice think it so very much out of the way to hear the Rabbit say to itself Oh dear', ' Oh dear', ' I shall be late', ' when she thought it over afterwards it occurred to her that she ought to have wondered at this but at the time it all seemed quite natural but when the Rabbit actually took a watch out of its waistcoat-pocket and looked at it and then hurried on Alice started to her feet for it flashed across her mind that she had never before seen a rabbit with either a waistcoat-pocket or a watch to take out of it and burning with curiosity she ran across the field after it and fortunately was just in time to see it pop down a large rabbit-hole under the hedge', 'In another moment down went Alice after it never once considering how in the world she was to get out again', 'The rabbit-hole went straight on like a tunnel for some way and then dipped suddenly down so suddenly that Alice had not a moment to think about stopping herself before she found herself falling down a very deep well', 'Either the well was very deep or she fell very slowly for she had plenty of time as she went down to look about her and to wonder what was going to happen next', ' First she tried to look down and make out what she was coming to but it was too dark to see anything then she looked at the sides of the well and noticed that they were filled with cupboards and book-shelves here and there she saw maps and pictures hung upon pegs', ' She took down a jar from one of the shelves as she passed it was labelled ORANGE MARMALADE but to her great disappointment it was empty she did not like to drop the jar for fear of killing somebody underneath so managed to put it into one of the cupboards as she fell past it', 'Well', ' thought Alice to herself after such a fall as this I shall think nothing of tumbling down stairs', ' How brave they’ll all think me at home', ' Why I wouldn’t say anything about it even if I fell off the top of the house', ' Which was very likely true', 'Down down down', ' Would the fall never come to an end', ' I wonder how many miles I’ve fallen by this time', ' she said aloud', ' I must be getting somewhere near the centre of the earth', ' Let me see that would be four thousand miles down I think— for you see Alice had learnt several things of this sort in her lessons in the schoolroom and though this was not a very good opportunity for showing off her knowledge as there was no one to listen to her still it was good practice to say it over —yes that’s about the right distance—but then I wonder what Latitude or Longitude I’ve got to', ' Alice had no idea what Latitude was or Longitude either but thought they were nice grand words to say', 'Call me Ishmael', ' Some years ago—never mind how long precisely—having little or no money in my purse and nothing particular to interest me on shore I thought I would sail about a little and see the watery part of the world', ' It is a way I have of driving off the spleen and regulating the circulation', ' Whenever I find myself growing grim about the mouth whenever it is a damp drizzly November in my soul whenever I find myself involuntarily pausing before coffin warehouses and bringing up the rear of every funeral I meet and especially whenever my hypos get such an upper hand of me that it requires a strong moral principle to prevent me from deliberately stepping into the street and methodically knocking people’s hats off—then I account it high time to get to sea as soon as I can', ' This is my substitute for pistol and ball', ' With a philosophical flourish Cato throws himself upon his sword I quietly take to the ship', ' There is nothing surprising in this', ' If they but knew it almost all men in their degree some time or other cherish very nearly the same feelings towards the ocean with me', 'There now is your insular city of the Manhattoes belted round by wharves as Indian isles by coral reefs—commerce surrounds it with her surf', ' Right and left the streets take you waterward', ' Its extreme downtown is the battery where that noble mole is washed by waves and cooled by breezes which a few hours previous were out of sight of land', ' Look at the crowds of water-gazers there', 'Circumambulate the city of a dreamy Sabbath afternoon', ' Go from Corlears Hook to Coenties Slip and from thence by Whitehall northward', ' What do you see', '—Posted like silent sentinels all around the town stand thousands upon thousands of mortal men fixed in ocean reveries', ' Some leaning against the spiles some seated upon the pier-heads some looking over the bulwarks of ships from China some high aloft in the rigging as if striving to get a still better seaward peep', ' But these are all landsmen of week days pent up in lath and plaster—tied to counters nailed to benches clinched to desks', ' How then is this', ' Are the green fields gone', ' What do they here']\n"
          ]
        }
      ]
    },
    {
      "cell_type": "code",
      "source": [
        "docs = [nlp(text) for text in train_x]\n",
        "train_x_word_vectors = [x.vector for x in docs]"
      ],
      "metadata": {
        "id": "KmbyEa8CaR7x"
      },
      "execution_count": null,
      "outputs": []
    },
    {
      "cell_type": "code",
      "source": [
        "print(docs[0].vector)"
      ],
      "metadata": {
        "colab": {
          "base_uri": "https://localhost:8080/"
        },
        "id": "oZiv3utQcO-S",
        "outputId": "04d77ffc-62db-4219-f263-f0546ecc814a"
      },
      "execution_count": null,
      "outputs": [
        {
          "output_type": "stream",
          "name": "stdout",
          "text": [
            "[ 2.75335871e-02  1.25019029e-01 -1.87896743e-01 -7.42358342e-03\n",
            "  6.59989491e-02  2.62443274e-02 -2.66094580e-02 -1.49990499e-01\n",
            " -3.22841629e-02  2.45442033e+00 -2.06016779e-01  7.89262429e-02\n",
            "  4.24250960e-02 -1.21897310e-01 -1.46090314e-01 -8.05687085e-02\n",
            " -1.16830662e-01  9.36602235e-01 -2.11519346e-01 -6.57632947e-02\n",
            "  5.35374135e-02 -6.02892824e-02 -1.10058673e-01  6.19184831e-03\n",
            "  3.57751772e-02  1.31777469e-02 -4.09349352e-02 -1.12786546e-01\n",
            "  2.11462677e-02 -6.49808869e-02 -3.31912525e-02  1.42604962e-01\n",
            " -2.46248823e-02  6.78618476e-02  3.59258614e-02 -9.13723633e-02\n",
            " -2.37692520e-02  5.29936068e-02 -8.49002004e-02 -1.45275399e-01\n",
            "  7.09728077e-02  8.63791108e-02 -1.82404555e-02 -7.40802214e-02\n",
            "  9.76383537e-02  7.46400133e-02 -1.56468034e-01 -4.49160710e-02\n",
            "  9.87005830e-02 -1.39415078e-02 -5.98308742e-02  1.04894731e-02\n",
            " -5.91339730e-02 -7.94796925e-03  5.08506708e-02  3.03131808e-03\n",
            " -2.36399751e-02 -1.36223435e-01 -3.51353691e-07 -7.38202482e-02\n",
            "  1.56008862e-02 -2.09638830e-02 -1.27879009e-02  1.84590772e-01\n",
            "  4.12149280e-02 -6.14103116e-02 -1.19905069e-03  5.29156700e-02\n",
            "  8.05782378e-02  1.68353438e-01  9.80674848e-02  2.44360212e-02\n",
            "  1.71566859e-01 -2.48845667e-02  1.32259563e-01  1.21967625e-02\n",
            "  5.87287322e-02 -3.92391421e-02 -8.75380412e-02  2.09238961e-01\n",
            "  4.30055596e-02  5.90073057e-02 -1.49663761e-01 -6.59989193e-02\n",
            "  1.23780733e-02 -2.47638136e-01  7.59827122e-02 -1.28055260e-01\n",
            "  2.08726078e-01  8.91180634e-02 -1.74097046e-01  4.55661640e-02\n",
            " -1.25039741e-01 -1.98441502e-02  1.25208795e-01 -2.98075029e-03\n",
            "  1.04008973e-01  5.09205321e-03  5.51596954e-02 -1.00090630e-01\n",
            "  3.61470543e-02  1.44029316e-02 -1.00977570e-01 -1.56953156e-01\n",
            "  9.01729614e-02 -6.95901752e-01  9.17033702e-02  5.61605543e-02\n",
            "  3.76805179e-02 -3.95273082e-02  5.94315901e-02 -8.15268084e-02\n",
            "  1.19370878e-01 -1.01429306e-01  1.44325932e-02 -1.50279596e-01\n",
            " -3.15339006e-02  1.16830274e-01  5.68662658e-02  6.79868609e-02\n",
            "  7.40969256e-02 -2.74655670e-02  4.06676419e-02  3.75874303e-02\n",
            "  1.38439108e-02  1.26941115e-01 -8.00425485e-02 -1.09783791e-01\n",
            " -1.27543975e-02 -4.49997466e-03 -1.50059402e-01 -6.05946332e-02\n",
            " -9.48589966e-02  9.11416784e-02  1.19333625e-01 -3.52284424e-02\n",
            " -9.08900518e-04  1.66115880e-01 -4.58608828e-02 -4.71731722e-02\n",
            " -1.49332237e+00 -5.61194047e-02  5.53539172e-02 -1.63879395e-02\n",
            " -2.58907154e-02 -5.46569005e-02 -9.72267315e-02  3.67128151e-03\n",
            " -5.26773743e-03 -1.16581395e-02  2.40134099e-03  5.49284108e-02\n",
            "  9.53284875e-02 -1.94463711e-02 -1.17183149e-01 -4.81712222e-02\n",
            " -5.96178584e-02  1.06839056e-03 -2.83155814e-02 -1.03084564e-01\n",
            " -1.14212655e-01 -5.57520501e-02 -1.45486491e-02 -4.54718620e-02\n",
            " -1.18821077e-01 -2.18534306e-01  1.97844058e-02  7.66926035e-02\n",
            "  1.96218058e-01 -1.37194991e-02 -2.76745623e-03 -5.55431768e-02\n",
            "  2.01980770e-01 -4.10795361e-02 -1.11445293e-01  5.81856854e-02\n",
            " -7.32855871e-02 -1.73877496e-02 -8.20185542e-02 -7.23309070e-02\n",
            " -1.06905550e-02 -1.37313902e-01 -1.30176768e-01 -6.64255470e-02\n",
            " -3.91130857e-02  6.83373511e-02 -9.31625813e-02 -2.48944797e-02\n",
            "  7.79026523e-02 -2.35353480e-03 -3.94150764e-02  1.81612596e-02\n",
            " -1.89459696e-01  1.22336887e-01 -5.50610051e-02  1.70842946e-01\n",
            " -4.75752763e-02 -4.89999317e-02 -4.49618325e-02  1.05598338e-01\n",
            " -4.88892645e-02 -7.55900741e-02 -1.24600492e-01 -1.37485703e-02\n",
            "  1.97873950e-01  9.31676999e-02  1.13147996e-01 -6.95808679e-02\n",
            "  3.73400301e-02  2.88439952e-02 -1.06785677e-01 -5.12334071e-02\n",
            " -4.34313416e-02 -1.85723186e-01  4.11072224e-02  1.06658906e-01\n",
            " -1.01110533e-01 -5.98088652e-02 -1.44704670e-01  8.14506970e-03\n",
            "  2.67257113e-02 -5.55340536e-02 -9.27974954e-02  7.39604831e-02\n",
            " -1.18357889e-01 -3.30478838e-03  2.86567546e-02  1.34763047e-01\n",
            "  2.41575073e-02 -5.99183550e-04 -1.62550107e-01  1.35769192e-02\n",
            "  1.15644440e-01  1.19833387e-01 -2.32168026e-02 -1.16645336e-01\n",
            "  7.97161832e-02 -2.25832183e-02 -6.56777620e-02  5.72888851e-02\n",
            " -5.41432723e-02  6.39289096e-02  2.44364031e-02  8.39888006e-02\n",
            "  1.64662898e-01 -2.12823093e-01 -1.19734019e-01 -7.32464790e-02\n",
            " -1.48980930e-01  4.23383899e-03  1.53704938e-02 -1.51109457e-01\n",
            " -5.77542670e-02 -6.86244806e-03  5.37165776e-02  2.00321972e-01\n",
            "  8.24467763e-02 -6.60357848e-02 -3.78672741e-02  7.81040937e-02\n",
            "  1.11437276e-01  1.20411448e-01 -6.85549080e-02  1.55145109e-01\n",
            "  2.12551743e-01 -4.12229914e-03 -4.48656827e-02  5.50551862e-02\n",
            "  1.85683236e-01 -9.66283232e-02  5.35883829e-02 -7.06007555e-02\n",
            " -9.63817835e-02 -1.47390902e-01 -8.41235295e-02  2.85612419e-02\n",
            " -5.17740697e-02 -4.26873844e-03  1.15421014e-02  2.01980889e-01\n",
            "  2.25248843e-01  9.90419686e-02  3.92164476e-02 -1.24158025e-01\n",
            " -5.77364415e-02  8.46690033e-03  1.48025736e-01  1.21217929e-02\n",
            "  5.08003384e-02 -4.83227186e-02 -1.81420386e-01  4.61630598e-02\n",
            "  9.94752869e-02 -4.96430881e-03  8.33677426e-02  1.72431413e-02\n",
            "  2.15353612e-02 -5.39443120e-02  4.19059396e-02  5.68511933e-02]\n"
          ]
        }
      ]
    },
    {
      "cell_type": "code",
      "source": [
        "from sklearn import svm\n",
        "\n",
        "clf_svm_wv = svm.SVC(kernel='linear')\n",
        "clf_svm_wv.fit(train_x_word_vectors, train_y)"
      ],
      "metadata": {
        "colab": {
          "base_uri": "https://localhost:8080/"
        },
        "id": "CRb1bw5BaTzH",
        "outputId": "8d574152-c1c6-4236-9a62-698731fdc869"
      },
      "execution_count": null,
      "outputs": [
        {
          "output_type": "execute_result",
          "data": {
            "text/plain": [
              "SVC(kernel='linear')"
            ]
          },
          "metadata": {},
          "execution_count": 11
        }
      ]
    },
    {
      "cell_type": "code",
      "source": [
        "test_x = cleaning('There were doors all round the hall, but they were all locked; and when Alice had been all the way down one side and up the other, trying every door, she walked sadly down the middle, wondering how she was ever to get out again.')\n",
        "test_docs = [nlp(text) for text in test_x]\n",
        "test_x_word_vectors =  [x.vector for x in test_docs]\n",
        "\n",
        "clf_svm_wv.predict(test_x_word_vectors)"
      ],
      "metadata": {
        "colab": {
          "base_uri": "https://localhost:8080/"
        },
        "id": "9T_G_Wg-aVwC",
        "outputId": "28d9d7e1-49b4-49dd-ce11-4ef08501b75d"
      },
      "execution_count": null,
      "outputs": [
        {
          "output_type": "execute_result",
          "data": {
            "text/plain": [
              "array(['ALICE'], dtype='<U5')"
            ]
          },
          "metadata": {},
          "execution_count": 14
        }
      ]
    },
    {
      "cell_type": "code",
      "source": [
        ""
      ],
      "metadata": {
        "id": "Zy5SUl_rcmqF"
      },
      "execution_count": null,
      "outputs": []
    }
  ]
}